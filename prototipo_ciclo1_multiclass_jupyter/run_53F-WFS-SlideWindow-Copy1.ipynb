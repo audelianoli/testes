{
 "cells": [
  {
   "cell_type": "markdown",
   "metadata": {},
   "source": [
    "# Imports"
   ]
  },
  {
   "cell_type": "code",
   "execution_count": 1,
   "metadata": {},
   "outputs": [],
   "source": [
    "import os\n",
    "import json\n",
    "import math\n",
    "import matplotlib.pyplot as plt\n",
    "import numpy as np\n",
    "import pandas as pd\n",
    "import pickle\n",
    "\n",
    "from sklearn.preprocessing import MinMaxScaler, StandardScaler, RobustScaler, MaxAbsScaler, Normalizer, QuantileTransformer"
   ]
  },
  {
   "cell_type": "code",
   "execution_count": 2,
   "metadata": {},
   "outputs": [],
   "source": [
    "# Carregando as configurações do arquivo 'config_modelo.json'\n",
    "configs = json.load(open('config_modelo.json', 'r'))"
   ]
  },
  {
   "cell_type": "code",
   "execution_count": 3,
   "metadata": {},
   "outputs": [],
   "source": [
    "# Criar a pasta 'save_dir' caso não exista no diretório\n",
    "if not os.path.exists(configs['model']['save_dir']):\n",
    "            os.makedirs(configs['model']['save_dir'])"
   ]
  },
  {
   "cell_type": "code",
   "execution_count": 4,
   "metadata": {},
   "outputs": [
    {
     "name": "stdout",
     "output_type": "stream",
     "text": [
      "(139881, 71)\n"
     ]
    },
    {
     "data": {
      "text/html": [
       "<div>\n",
       "<style scoped>\n",
       "    .dataframe tbody tr th:only-of-type {\n",
       "        vertical-align: middle;\n",
       "    }\n",
       "\n",
       "    .dataframe tbody tr th {\n",
       "        vertical-align: top;\n",
       "    }\n",
       "\n",
       "    .dataframe thead th {\n",
       "        text-align: right;\n",
       "    }\n",
       "</style>\n",
       "<table border=\"1\" class=\"dataframe\">\n",
       "  <thead>\n",
       "    <tr style=\"text-align: right;\">\n",
       "      <th></th>\n",
       "      <th>DATETIME</th>\n",
       "      <th>DATE</th>\n",
       "      <th>TIME</th>\n",
       "      <th>OPEN</th>\n",
       "      <th>HIGH</th>\n",
       "      <th>LOW</th>\n",
       "      <th>CLOSE</th>\n",
       "      <th>VOL</th>\n",
       "      <th>EMA_5_CLOSE</th>\n",
       "      <th>EMA_10_CLOSE</th>\n",
       "      <th>...</th>\n",
       "      <th>MES</th>\n",
       "      <th>DIA_SEMANA</th>\n",
       "      <th>HORA_NOBRE</th>\n",
       "      <th>TARGET_WIN</th>\n",
       "      <th>TARGET_WIN_CAT3</th>\n",
       "      <th>TARGET_WIN_CAT3_LABEL</th>\n",
       "      <th>TARGET_WIN_CAT_ENC</th>\n",
       "      <th>HOLD</th>\n",
       "      <th>SELL</th>\n",
       "      <th>BUY</th>\n",
       "    </tr>\n",
       "  </thead>\n",
       "  <tbody>\n",
       "    <tr>\n",
       "      <th>0</th>\n",
       "      <td>2014-11-19 12:30:00</td>\n",
       "      <td>2014.11.19</td>\n",
       "      <td>12:30:00</td>\n",
       "      <td>53560.0</td>\n",
       "      <td>53565.0</td>\n",
       "      <td>53405.0</td>\n",
       "      <td>53410.0</td>\n",
       "      <td>8363.0</td>\n",
       "      <td>53462.598377</td>\n",
       "      <td>53394.139577</td>\n",
       "      <td>...</td>\n",
       "      <td>11</td>\n",
       "      <td>2</td>\n",
       "      <td>2</td>\n",
       "      <td>15.0</td>\n",
       "      <td>HOLD</td>\n",
       "      <td>2</td>\n",
       "      <td>1</td>\n",
       "      <td>1</td>\n",
       "      <td>0</td>\n",
       "      <td>0</td>\n",
       "    </tr>\n",
       "    <tr>\n",
       "      <th>1</th>\n",
       "      <td>2014-11-19 12:35:00</td>\n",
       "      <td>2014.11.19</td>\n",
       "      <td>12:35:00</td>\n",
       "      <td>53410.0</td>\n",
       "      <td>53500.0</td>\n",
       "      <td>53295.0</td>\n",
       "      <td>53415.0</td>\n",
       "      <td>7034.0</td>\n",
       "      <td>53446.732251</td>\n",
       "      <td>53397.932381</td>\n",
       "      <td>...</td>\n",
       "      <td>11</td>\n",
       "      <td>2</td>\n",
       "      <td>2</td>\n",
       "      <td>50.0</td>\n",
       "      <td>HOLD</td>\n",
       "      <td>2</td>\n",
       "      <td>1</td>\n",
       "      <td>1</td>\n",
       "      <td>0</td>\n",
       "      <td>0</td>\n",
       "    </tr>\n",
       "  </tbody>\n",
       "</table>\n",
       "<p>2 rows × 71 columns</p>\n",
       "</div>"
      ],
      "text/plain": [
       "             DATETIME        DATE      TIME     OPEN     HIGH      LOW  \\\n",
       "0 2014-11-19 12:30:00  2014.11.19  12:30:00  53560.0  53565.0  53405.0   \n",
       "1 2014-11-19 12:35:00  2014.11.19  12:35:00  53410.0  53500.0  53295.0   \n",
       "\n",
       "     CLOSE     VOL   EMA_5_CLOSE  EMA_10_CLOSE  ...  MES  DIA_SEMANA  \\\n",
       "0  53410.0  8363.0  53462.598377  53394.139577  ...   11           2   \n",
       "1  53415.0  7034.0  53446.732251  53397.932381  ...   11           2   \n",
       "\n",
       "   HORA_NOBRE  TARGET_WIN  TARGET_WIN_CAT3  TARGET_WIN_CAT3_LABEL  \\\n",
       "0           2        15.0             HOLD                      2   \n",
       "1           2        50.0             HOLD                      2   \n",
       "\n",
       "   TARGET_WIN_CAT_ENC  HOLD  SELL  BUY  \n",
       "0                   1     1     0    0  \n",
       "1                   1     1     0    0  \n",
       "\n",
       "[2 rows x 71 columns]"
      ]
     },
     "execution_count": 4,
     "metadata": {},
     "output_type": "execute_result"
    }
   ],
   "source": [
    "# Carregar o Dataset\n",
    "filepath = 'C:/Users/auW10/Documents/CodigosDoAu/000_Doutorado/dataset/'\n",
    "df = pd.read_pickle(filepath+'dataset_with_TI_ciclo1_multiclass_jupyter_aug_dim_53TIs.pkl')\n",
    "print(df.shape)\n",
    "df.head(2)"
   ]
  },
  {
   "cell_type": "markdown",
   "metadata": {},
   "source": [
    "## Split dos Dados"
   ]
  },
  {
   "cell_type": "code",
   "execution_count": 6,
   "metadata": {},
   "outputs": [
    {
     "data": {
      "text/plain": [
       "<PandasArray>\n",
       "[             'DATETIME',                  'DATE',                  'TIME',\n",
       "                  'OPEN',                  'HIGH',                   'LOW',\n",
       "                 'CLOSE',                   'VOL',           'EMA_5_CLOSE',\n",
       "          'EMA_10_CLOSE',          'EMA_20_CLOSE',            'EMA_5_OPEN',\n",
       "           'EMA_10_OPEN',           'EMA_20_OPEN',            'EMA_5_HIGH',\n",
       "           'EMA_10_HIGH',           'EMA_20_HIGH',             'EMA_5_LOW',\n",
       "            'EMA_10_LOW',            'EMA_20_LOW',                'KAMA_5',\n",
       "               'KAMA_10',               'KAMA_20',            'MIDPOINT_3',\n",
       "           'MIDPOINT_12',            'MIDPRICE_3',           'MIDPRICE_12',\n",
       "               'TRIMA_5',              'TRIMA_10',              'TRIMA_20',\n",
       "                 'ADX_3',                 'ADX_6',                'ADX_10',\n",
       "                   'BOP',                 'MOM_3',                 'MOM_6',\n",
       "                'MOM_10',                'MOM_14',                 'ROC_3',\n",
       "                 'ROC_5',                 'ROC_7',                'ROC_10',\n",
       "                 'RSI_3',                 'RSI_6',                'RSI_10',\n",
       "                'RSI_14',                'TRIX_3',                'TRIX_5',\n",
       "                'TRIX_7',               'WILLR_3',               'WILLR_6',\n",
       "              'WILLR_12',              'WILLR_20',                    'AD',\n",
       "                 'ADOSC',                   'OBV',                 'ATR_3',\n",
       "                 'ATR_6',                'ATR_12',                'ATR_20',\n",
       "                'TRANGE',                   'MES',            'DIA_SEMANA',\n",
       "            'HORA_NOBRE',            'TARGET_WIN',       'TARGET_WIN_CAT3',\n",
       " 'TARGET_WIN_CAT3_LABEL',    'TARGET_WIN_CAT_ENC',                  'HOLD',\n",
       "                  'SELL',                   'BUY']\n",
       "Length: 71, dtype: object"
      ]
     },
     "execution_count": 6,
     "metadata": {},
     "output_type": "execute_result"
    }
   ],
   "source": [
    "df.columns.tolist()\n",
    "df.columns.array"
   ]
  },
  {
   "cell_type": "code",
   "execution_count": 7,
   "metadata": {
    "scrolled": false
   },
   "outputs": [
    {
     "name": "stdout",
     "output_type": "stream",
     "text": [
      "(139881, 71)\n",
      "(139881, 64)\n"
     ]
    },
    {
     "data": {
      "text/html": [
       "<div>\n",
       "<style scoped>\n",
       "    .dataframe tbody tr th:only-of-type {\n",
       "        vertical-align: middle;\n",
       "    }\n",
       "\n",
       "    .dataframe tbody tr th {\n",
       "        vertical-align: top;\n",
       "    }\n",
       "\n",
       "    .dataframe thead th {\n",
       "        text-align: right;\n",
       "    }\n",
       "</style>\n",
       "<table border=\"1\" class=\"dataframe\">\n",
       "  <thead>\n",
       "    <tr style=\"text-align: right;\">\n",
       "      <th></th>\n",
       "      <th>DATETIME</th>\n",
       "      <th>DATE</th>\n",
       "      <th>TIME</th>\n",
       "      <th>OPEN</th>\n",
       "      <th>HIGH</th>\n",
       "      <th>LOW</th>\n",
       "      <th>CLOSE</th>\n",
       "      <th>VOL</th>\n",
       "      <th>EMA_5_CLOSE</th>\n",
       "      <th>EMA_10_CLOSE</th>\n",
       "      <th>...</th>\n",
       "      <th>ADOSC</th>\n",
       "      <th>OBV</th>\n",
       "      <th>ATR_3</th>\n",
       "      <th>ATR_6</th>\n",
       "      <th>ATR_12</th>\n",
       "      <th>ATR_20</th>\n",
       "      <th>TRANGE</th>\n",
       "      <th>HORA_NOBRE</th>\n",
       "      <th>TARGET_WIN_CAT3</th>\n",
       "      <th>TARGET_WIN_CAT3_LABEL</th>\n",
       "    </tr>\n",
       "  </thead>\n",
       "  <tbody>\n",
       "    <tr>\n",
       "      <th>0</th>\n",
       "      <td>2014-11-19 12:30:00</td>\n",
       "      <td>2014.11.19</td>\n",
       "      <td>12:30:00</td>\n",
       "      <td>53560.0</td>\n",
       "      <td>53565.0</td>\n",
       "      <td>53405.0</td>\n",
       "      <td>53410.0</td>\n",
       "      <td>8363.0</td>\n",
       "      <td>53462.598377</td>\n",
       "      <td>53394.139577</td>\n",
       "      <td>...</td>\n",
       "      <td>224.882410</td>\n",
       "      <td>16995.0</td>\n",
       "      <td>183.08836</td>\n",
       "      <td>157.567344</td>\n",
       "      <td>133.163314</td>\n",
       "      <td>122.7500</td>\n",
       "      <td>160.0</td>\n",
       "      <td>2</td>\n",
       "      <td>HOLD</td>\n",
       "      <td>2</td>\n",
       "    </tr>\n",
       "    <tr>\n",
       "      <th>1</th>\n",
       "      <td>2014-11-19 12:35:00</td>\n",
       "      <td>2014.11.19</td>\n",
       "      <td>12:35:00</td>\n",
       "      <td>53410.0</td>\n",
       "      <td>53500.0</td>\n",
       "      <td>53295.0</td>\n",
       "      <td>53415.0</td>\n",
       "      <td>7034.0</td>\n",
       "      <td>53446.732251</td>\n",
       "      <td>53397.932381</td>\n",
       "      <td>...</td>\n",
       "      <td>-968.557883</td>\n",
       "      <td>24029.0</td>\n",
       "      <td>190.39224</td>\n",
       "      <td>165.472787</td>\n",
       "      <td>139.149704</td>\n",
       "      <td>126.8625</td>\n",
       "      <td>205.0</td>\n",
       "      <td>2</td>\n",
       "      <td>HOLD</td>\n",
       "      <td>2</td>\n",
       "    </tr>\n",
       "  </tbody>\n",
       "</table>\n",
       "<p>2 rows × 64 columns</p>\n",
       "</div>"
      ],
      "text/plain": [
       "             DATETIME        DATE      TIME     OPEN     HIGH      LOW  \\\n",
       "0 2014-11-19 12:30:00  2014.11.19  12:30:00  53560.0  53565.0  53405.0   \n",
       "1 2014-11-19 12:35:00  2014.11.19  12:35:00  53410.0  53500.0  53295.0   \n",
       "\n",
       "     CLOSE     VOL   EMA_5_CLOSE  EMA_10_CLOSE  ...       ADOSC      OBV  \\\n",
       "0  53410.0  8363.0  53462.598377  53394.139577  ...  224.882410  16995.0   \n",
       "1  53415.0  7034.0  53446.732251  53397.932381  ... -968.557883  24029.0   \n",
       "\n",
       "       ATR_3       ATR_6      ATR_12    ATR_20  TRANGE  HORA_NOBRE  \\\n",
       "0  183.08836  157.567344  133.163314  122.7500   160.0           2   \n",
       "1  190.39224  165.472787  139.149704  126.8625   205.0           2   \n",
       "\n",
       "   TARGET_WIN_CAT3  TARGET_WIN_CAT3_LABEL  \n",
       "0             HOLD                      2  \n",
       "1             HOLD                      2  \n",
       "\n",
       "[2 rows x 64 columns]"
      ]
     },
     "execution_count": 7,
     "metadata": {},
     "output_type": "execute_result"
    }
   ],
   "source": [
    "print(df.shape)\n",
    "df2 = df.drop([  'MES',\n",
    "                 'DIA_SEMANA', \n",
    "                 'TARGET_WIN',   \n",
    "                 'TARGET_WIN_CAT_ENC',\n",
    "                 'HOLD',\n",
    "                 'SELL',\n",
    "                 'BUY'\n",
    "            \n",
    "              ], axis=1)\n",
    "print(df2.shape)\n",
    "df2.head(2)"
   ]
  },
  {
   "cell_type": "code",
   "execution_count": 8,
   "metadata": {},
   "outputs": [
    {
     "name": "stderr",
     "output_type": "stream",
     "text": [
      "C:\\Users\\auW10\\Anaconda3\\envs\\phd\\lib\\site-packages\\pandas\\core\\frame.py:4170: SettingWithCopyWarning: \n",
      "A value is trying to be set on a copy of a slice from a DataFrame\n",
      "\n",
      "See the caveats in the documentation: https://pandas.pydata.org/pandas-docs/stable/user_guide/indexing.html#returning-a-view-versus-a-copy\n",
      "  errors=errors,\n"
     ]
    },
    {
     "data": {
      "text/html": [
       "<div>\n",
       "<style scoped>\n",
       "    .dataframe tbody tr th:only-of-type {\n",
       "        vertical-align: middle;\n",
       "    }\n",
       "\n",
       "    .dataframe tbody tr th {\n",
       "        vertical-align: top;\n",
       "    }\n",
       "\n",
       "    .dataframe thead th {\n",
       "        text-align: right;\n",
       "    }\n",
       "</style>\n",
       "<table border=\"1\" class=\"dataframe\">\n",
       "  <thead>\n",
       "    <tr style=\"text-align: right;\">\n",
       "      <th></th>\n",
       "      <th>DATETIME</th>\n",
       "      <th>OPEN</th>\n",
       "      <th>HIGH</th>\n",
       "      <th>LOW</th>\n",
       "      <th>CLOSE</th>\n",
       "      <th>VOL</th>\n",
       "      <th>EMA_5_CLOSE</th>\n",
       "      <th>EMA_10_CLOSE</th>\n",
       "      <th>EMA_20_CLOSE</th>\n",
       "      <th>EMA_5_OPEN</th>\n",
       "      <th>...</th>\n",
       "      <th>ADOSC</th>\n",
       "      <th>OBV</th>\n",
       "      <th>ATR_3</th>\n",
       "      <th>ATR_6</th>\n",
       "      <th>ATR_12</th>\n",
       "      <th>ATR_20</th>\n",
       "      <th>TRANGE</th>\n",
       "      <th>HORA_NOBRE</th>\n",
       "      <th>TARGET_WIN_CAT3</th>\n",
       "      <th>TARGET_WIN_CAT3_LABEL</th>\n",
       "    </tr>\n",
       "  </thead>\n",
       "  <tbody>\n",
       "    <tr>\n",
       "      <th>0</th>\n",
       "      <td>2015-01-02 09:00:00</td>\n",
       "      <td>50200.0</td>\n",
       "      <td>50400.0</td>\n",
       "      <td>50165.0</td>\n",
       "      <td>50275.0</td>\n",
       "      <td>861.0</td>\n",
       "      <td>50325.205919</td>\n",
       "      <td>50381.098425</td>\n",
       "      <td>50504.834778</td>\n",
       "      <td>50310.326119</td>\n",
       "      <td>...</td>\n",
       "      <td>-1281.593817</td>\n",
       "      <td>-165899.0</td>\n",
       "      <td>118.566120</td>\n",
       "      <td>105.950934</td>\n",
       "      <td>106.052199</td>\n",
       "      <td>107.965299</td>\n",
       "      <td>235.0</td>\n",
       "      <td>0</td>\n",
       "      <td>HOLD</td>\n",
       "      <td>2</td>\n",
       "    </tr>\n",
       "    <tr>\n",
       "      <th>1</th>\n",
       "      <td>2015-01-02 09:05:00</td>\n",
       "      <td>50275.0</td>\n",
       "      <td>50370.0</td>\n",
       "      <td>50185.0</td>\n",
       "      <td>50335.0</td>\n",
       "      <td>968.0</td>\n",
       "      <td>50328.470612</td>\n",
       "      <td>50372.716893</td>\n",
       "      <td>50488.660037</td>\n",
       "      <td>50298.550746</td>\n",
       "      <td>...</td>\n",
       "      <td>-915.986039</td>\n",
       "      <td>-164931.0</td>\n",
       "      <td>140.710746</td>\n",
       "      <td>119.125779</td>\n",
       "      <td>112.631182</td>\n",
       "      <td>111.817034</td>\n",
       "      <td>185.0</td>\n",
       "      <td>0</td>\n",
       "      <td>HOLD</td>\n",
       "      <td>2</td>\n",
       "    </tr>\n",
       "    <tr>\n",
       "      <th>2</th>\n",
       "      <td>2015-01-02 09:10:00</td>\n",
       "      <td>50335.0</td>\n",
       "      <td>50340.0</td>\n",
       "      <td>50205.0</td>\n",
       "      <td>50285.0</td>\n",
       "      <td>825.0</td>\n",
       "      <td>50313.980408</td>\n",
       "      <td>50356.768367</td>\n",
       "      <td>50469.263843</td>\n",
       "      <td>50310.700497</td>\n",
       "      <td>...</td>\n",
       "      <td>-637.960745</td>\n",
       "      <td>-165756.0</td>\n",
       "      <td>138.807164</td>\n",
       "      <td>121.771482</td>\n",
       "      <td>114.495250</td>\n",
       "      <td>112.976182</td>\n",
       "      <td>135.0</td>\n",
       "      <td>0</td>\n",
       "      <td>HOLD</td>\n",
       "      <td>2</td>\n",
       "    </tr>\n",
       "    <tr>\n",
       "      <th>3</th>\n",
       "      <td>2015-01-02 09:15:00</td>\n",
       "      <td>50300.0</td>\n",
       "      <td>50315.0</td>\n",
       "      <td>50215.0</td>\n",
       "      <td>50280.0</td>\n",
       "      <td>406.0</td>\n",
       "      <td>50302.653605</td>\n",
       "      <td>50342.810482</td>\n",
       "      <td>50451.238715</td>\n",
       "      <td>50307.133665</td>\n",
       "      <td>...</td>\n",
       "      <td>-429.099218</td>\n",
       "      <td>-166162.0</td>\n",
       "      <td>125.871443</td>\n",
       "      <td>118.142902</td>\n",
       "      <td>113.287313</td>\n",
       "      <td>112.327373</td>\n",
       "      <td>100.0</td>\n",
       "      <td>0</td>\n",
       "      <td>SELL</td>\n",
       "      <td>1</td>\n",
       "    </tr>\n",
       "    <tr>\n",
       "      <th>4</th>\n",
       "      <td>2015-01-02 09:20:00</td>\n",
       "      <td>50265.0</td>\n",
       "      <td>50280.0</td>\n",
       "      <td>50175.0</td>\n",
       "      <td>50190.0</td>\n",
       "      <td>958.0</td>\n",
       "      <td>50265.102404</td>\n",
       "      <td>50315.026758</td>\n",
       "      <td>50426.358837</td>\n",
       "      <td>50293.089110</td>\n",
       "      <td>...</td>\n",
       "      <td>-544.595225</td>\n",
       "      <td>-167120.0</td>\n",
       "      <td>118.914295</td>\n",
       "      <td>115.952418</td>\n",
       "      <td>112.596703</td>\n",
       "      <td>111.961004</td>\n",
       "      <td>105.0</td>\n",
       "      <td>0</td>\n",
       "      <td>SELL</td>\n",
       "      <td>1</td>\n",
       "    </tr>\n",
       "    <tr>\n",
       "      <th>...</th>\n",
       "      <td>...</td>\n",
       "      <td>...</td>\n",
       "      <td>...</td>\n",
       "      <td>...</td>\n",
       "      <td>...</td>\n",
       "      <td>...</td>\n",
       "      <td>...</td>\n",
       "      <td>...</td>\n",
       "      <td>...</td>\n",
       "      <td>...</td>\n",
       "      <td>...</td>\n",
       "      <td>...</td>\n",
       "      <td>...</td>\n",
       "      <td>...</td>\n",
       "      <td>...</td>\n",
       "      <td>...</td>\n",
       "      <td>...</td>\n",
       "      <td>...</td>\n",
       "      <td>...</td>\n",
       "      <td>...</td>\n",
       "      <td>...</td>\n",
       "    </tr>\n",
       "    <tr>\n",
       "      <th>132938</th>\n",
       "      <td>2019-12-30 17:45:00</td>\n",
       "      <td>116245.0</td>\n",
       "      <td>116310.0</td>\n",
       "      <td>116155.0</td>\n",
       "      <td>116185.0</td>\n",
       "      <td>56195.0</td>\n",
       "      <td>116340.624588</td>\n",
       "      <td>116429.656185</td>\n",
       "      <td>116502.191830</td>\n",
       "      <td>116419.865436</td>\n",
       "      <td>...</td>\n",
       "      <td>-57793.952461</td>\n",
       "      <td>-7927844.0</td>\n",
       "      <td>179.921938</td>\n",
       "      <td>145.712683</td>\n",
       "      <td>126.369144</td>\n",
       "      <td>125.228206</td>\n",
       "      <td>155.0</td>\n",
       "      <td>2</td>\n",
       "      <td>SELL</td>\n",
       "      <td>1</td>\n",
       "    </tr>\n",
       "    <tr>\n",
       "      <th>132939</th>\n",
       "      <td>2019-12-30 17:50:00</td>\n",
       "      <td>116185.0</td>\n",
       "      <td>116265.0</td>\n",
       "      <td>116060.0</td>\n",
       "      <td>116105.0</td>\n",
       "      <td>60633.0</td>\n",
       "      <td>116262.083059</td>\n",
       "      <td>116370.627788</td>\n",
       "      <td>116464.364037</td>\n",
       "      <td>116341.576958</td>\n",
       "      <td>...</td>\n",
       "      <td>-72510.139626</td>\n",
       "      <td>-7988477.0</td>\n",
       "      <td>188.281292</td>\n",
       "      <td>155.593903</td>\n",
       "      <td>132.921715</td>\n",
       "      <td>129.216796</td>\n",
       "      <td>205.0</td>\n",
       "      <td>2</td>\n",
       "      <td>SELL</td>\n",
       "      <td>1</td>\n",
       "    </tr>\n",
       "    <tr>\n",
       "      <th>132940</th>\n",
       "      <td>2019-12-30 17:55:00</td>\n",
       "      <td>116105.0</td>\n",
       "      <td>116140.0</td>\n",
       "      <td>115875.0</td>\n",
       "      <td>115975.0</td>\n",
       "      <td>72789.0</td>\n",
       "      <td>116166.388706</td>\n",
       "      <td>116298.695463</td>\n",
       "      <td>116417.757938</td>\n",
       "      <td>116262.717972</td>\n",
       "      <td>...</td>\n",
       "      <td>-79338.713875</td>\n",
       "      <td>-8061266.0</td>\n",
       "      <td>213.854195</td>\n",
       "      <td>173.828252</td>\n",
       "      <td>143.928239</td>\n",
       "      <td>136.005956</td>\n",
       "      <td>265.0</td>\n",
       "      <td>2</td>\n",
       "      <td>BUY</td>\n",
       "      <td>0</td>\n",
       "    </tr>\n",
       "    <tr>\n",
       "      <th>132941</th>\n",
       "      <td>2019-12-30 18:00:00</td>\n",
       "      <td>115985.0</td>\n",
       "      <td>116020.0</td>\n",
       "      <td>115850.0</td>\n",
       "      <td>115925.0</td>\n",
       "      <td>43625.0</td>\n",
       "      <td>116085.925804</td>\n",
       "      <td>116230.750833</td>\n",
       "      <td>116370.828611</td>\n",
       "      <td>116170.145315</td>\n",
       "      <td>...</td>\n",
       "      <td>-77901.331778</td>\n",
       "      <td>-8104891.0</td>\n",
       "      <td>199.236130</td>\n",
       "      <td>173.190210</td>\n",
       "      <td>146.100886</td>\n",
       "      <td>137.705658</td>\n",
       "      <td>170.0</td>\n",
       "      <td>2</td>\n",
       "      <td>BUY</td>\n",
       "      <td>0</td>\n",
       "    </tr>\n",
       "    <tr>\n",
       "      <th>132942</th>\n",
       "      <td>2019-12-30 18:05:00</td>\n",
       "      <td>115920.0</td>\n",
       "      <td>116040.0</td>\n",
       "      <td>115770.0</td>\n",
       "      <td>115770.0</td>\n",
       "      <td>40690.0</td>\n",
       "      <td>115980.617203</td>\n",
       "      <td>116146.977954</td>\n",
       "      <td>116313.606838</td>\n",
       "      <td>116086.763543</td>\n",
       "      <td>...</td>\n",
       "      <td>-85385.798446</td>\n",
       "      <td>-8145581.0</td>\n",
       "      <td>222.824087</td>\n",
       "      <td>189.325175</td>\n",
       "      <td>156.425812</td>\n",
       "      <td>144.320376</td>\n",
       "      <td>270.0</td>\n",
       "      <td>2</td>\n",
       "      <td>BUY</td>\n",
       "      <td>0</td>\n",
       "    </tr>\n",
       "  </tbody>\n",
       "</table>\n",
       "<p>132943 rows × 62 columns</p>\n",
       "</div>"
      ],
      "text/plain": [
       "                  DATETIME      OPEN      HIGH       LOW     CLOSE      VOL  \\\n",
       "0      2015-01-02 09:00:00   50200.0   50400.0   50165.0   50275.0    861.0   \n",
       "1      2015-01-02 09:05:00   50275.0   50370.0   50185.0   50335.0    968.0   \n",
       "2      2015-01-02 09:10:00   50335.0   50340.0   50205.0   50285.0    825.0   \n",
       "3      2015-01-02 09:15:00   50300.0   50315.0   50215.0   50280.0    406.0   \n",
       "4      2015-01-02 09:20:00   50265.0   50280.0   50175.0   50190.0    958.0   \n",
       "...                    ...       ...       ...       ...       ...      ...   \n",
       "132938 2019-12-30 17:45:00  116245.0  116310.0  116155.0  116185.0  56195.0   \n",
       "132939 2019-12-30 17:50:00  116185.0  116265.0  116060.0  116105.0  60633.0   \n",
       "132940 2019-12-30 17:55:00  116105.0  116140.0  115875.0  115975.0  72789.0   \n",
       "132941 2019-12-30 18:00:00  115985.0  116020.0  115850.0  115925.0  43625.0   \n",
       "132942 2019-12-30 18:05:00  115920.0  116040.0  115770.0  115770.0  40690.0   \n",
       "\n",
       "          EMA_5_CLOSE   EMA_10_CLOSE   EMA_20_CLOSE     EMA_5_OPEN  ...  \\\n",
       "0        50325.205919   50381.098425   50504.834778   50310.326119  ...   \n",
       "1        50328.470612   50372.716893   50488.660037   50298.550746  ...   \n",
       "2        50313.980408   50356.768367   50469.263843   50310.700497  ...   \n",
       "3        50302.653605   50342.810482   50451.238715   50307.133665  ...   \n",
       "4        50265.102404   50315.026758   50426.358837   50293.089110  ...   \n",
       "...               ...            ...            ...            ...  ...   \n",
       "132938  116340.624588  116429.656185  116502.191830  116419.865436  ...   \n",
       "132939  116262.083059  116370.627788  116464.364037  116341.576958  ...   \n",
       "132940  116166.388706  116298.695463  116417.757938  116262.717972  ...   \n",
       "132941  116085.925804  116230.750833  116370.828611  116170.145315  ...   \n",
       "132942  115980.617203  116146.977954  116313.606838  116086.763543  ...   \n",
       "\n",
       "               ADOSC        OBV       ATR_3       ATR_6      ATR_12  \\\n",
       "0       -1281.593817  -165899.0  118.566120  105.950934  106.052199   \n",
       "1        -915.986039  -164931.0  140.710746  119.125779  112.631182   \n",
       "2        -637.960745  -165756.0  138.807164  121.771482  114.495250   \n",
       "3        -429.099218  -166162.0  125.871443  118.142902  113.287313   \n",
       "4        -544.595225  -167120.0  118.914295  115.952418  112.596703   \n",
       "...              ...        ...         ...         ...         ...   \n",
       "132938 -57793.952461 -7927844.0  179.921938  145.712683  126.369144   \n",
       "132939 -72510.139626 -7988477.0  188.281292  155.593903  132.921715   \n",
       "132940 -79338.713875 -8061266.0  213.854195  173.828252  143.928239   \n",
       "132941 -77901.331778 -8104891.0  199.236130  173.190210  146.100886   \n",
       "132942 -85385.798446 -8145581.0  222.824087  189.325175  156.425812   \n",
       "\n",
       "            ATR_20  TRANGE  HORA_NOBRE  TARGET_WIN_CAT3  TARGET_WIN_CAT3_LABEL  \n",
       "0       107.965299   235.0           0             HOLD                      2  \n",
       "1       111.817034   185.0           0             HOLD                      2  \n",
       "2       112.976182   135.0           0             HOLD                      2  \n",
       "3       112.327373   100.0           0             SELL                      1  \n",
       "4       111.961004   105.0           0             SELL                      1  \n",
       "...            ...     ...         ...              ...                    ...  \n",
       "132938  125.228206   155.0           2             SELL                      1  \n",
       "132939  129.216796   205.0           2             SELL                      1  \n",
       "132940  136.005956   265.0           2              BUY                      0  \n",
       "132941  137.705658   170.0           2              BUY                      0  \n",
       "132942  144.320376   270.0           2              BUY                      0  \n",
       "\n",
       "[132943 rows x 62 columns]"
      ]
     },
     "execution_count": 8,
     "metadata": {},
     "output_type": "execute_result"
    }
   ],
   "source": [
    "df3 = df2[df2['DATETIME'].dt.year < 2020]\n",
    "df3.drop(['DATE', 'TIME'], axis=1, inplace=True)\n",
    "df4 = df3[df3['DATETIME'].dt.year > 2014].reset_index(drop=True)\n",
    "df4"
   ]
  },
  {
   "cell_type": "code",
   "execution_count": 9,
   "metadata": {
    "scrolled": true
   },
   "outputs": [
    {
     "name": "stdout",
     "output_type": "stream",
     "text": [
      "Proporção Train: 57.0% | Validation: 18.9% | Test: 19.1%\n",
      "(79795, 61) (26410, 61) (26738, 61)\n"
     ]
    },
    {
     "name": "stderr",
     "output_type": "stream",
     "text": [
      "C:\\Users\\auW10\\Anaconda3\\envs\\phd\\lib\\site-packages\\pandas\\core\\frame.py:4170: SettingWithCopyWarning: \n",
      "A value is trying to be set on a copy of a slice from a DataFrame\n",
      "\n",
      "See the caveats in the documentation: https://pandas.pydata.org/pandas-docs/stable/user_guide/indexing.html#returning-a-view-versus-a-copy\n",
      "  errors=errors,\n"
     ]
    }
   ],
   "source": [
    "df_train = df2[(df2['DATETIME'] >= '2015-01-01') & (df2['DATETIME'] < '2018-01-01')]\n",
    "#df_train = df2[(df2['DATETIME'] >= '2017-12-01') & (df2['DATETIME'] < '2019-07-01')]\n",
    "#df_train = df_train.iloc[-10000:, :]\n",
    "\n",
    "#----------------------------------------------------------------------------------------------------\n",
    "\n",
    "df_valid = df2[(df2['DATETIME'] >= '2018-01-01') & (df2['DATETIME'] < '2019-01-01')]\n",
    "#df_valid = df2[(df2['DATETIME'] >= '2019-07-01') & (df2['DATETIME'] < '2020-03-01')]\n",
    "#df_valid = df_valid.iloc[:6600, :]\n",
    "\n",
    "#----------------------------------------------------------------------------------------------------\n",
    "\n",
    "df_test  = df2[(df2['DATETIME'] >= '2019-01-01') & (df2['DATETIME'] < '2020-01-01')]\n",
    "#df_test  = df2[(df2['DATETIME'] >= '2020-01-01')]\n",
    "\n",
    "#df_test  = df2[(df2['DATETIME'] < '2017-12-01')]\n",
    "#df_test = df_test.iloc[:500,:]\n",
    "\n",
    "#----------------------------------------------------------------------------------------------------\n",
    "\n",
    "print('Proporção Train: {:.1%} | Validation: {:.1%} | Test: {:.1%}'.format(\n",
    "                                            df_train['DATETIME'].count()/df2['DATETIME'].count(),\n",
    "                                            df_valid['DATETIME'].count()/df2['DATETIME'].count(),\n",
    "                                            df_test['DATETIME'].count()/df2['DATETIME'].count()))\n",
    "\n",
    "df_train.drop(['DATETIME', 'DATE', 'TIME'], axis=1, inplace=True)\n",
    "df_valid.drop(['DATETIME', 'DATE', 'TIME'], axis=1, inplace=True)\n",
    "df_test.drop(['DATETIME', 'DATE', 'TIME'], axis=1, inplace=True)\n",
    "print(df_train.shape, df_valid.shape, df_test.shape)"
   ]
  },
  {
   "cell_type": "code",
   "execution_count": 10,
   "metadata": {
    "scrolled": false
   },
   "outputs": [
    {
     "data": {
      "text/html": [
       "<div>\n",
       "<style scoped>\n",
       "    .dataframe tbody tr th:only-of-type {\n",
       "        vertical-align: middle;\n",
       "    }\n",
       "\n",
       "    .dataframe tbody tr th {\n",
       "        vertical-align: top;\n",
       "    }\n",
       "\n",
       "    .dataframe thead th {\n",
       "        text-align: right;\n",
       "    }\n",
       "</style>\n",
       "<table border=\"1\" class=\"dataframe\">\n",
       "  <thead>\n",
       "    <tr style=\"text-align: right;\">\n",
       "      <th></th>\n",
       "      <th>OPEN</th>\n",
       "      <th>HIGH</th>\n",
       "      <th>LOW</th>\n",
       "      <th>CLOSE</th>\n",
       "      <th>VOL</th>\n",
       "      <th>EMA_5_CLOSE</th>\n",
       "      <th>EMA_10_CLOSE</th>\n",
       "      <th>EMA_20_CLOSE</th>\n",
       "      <th>EMA_5_OPEN</th>\n",
       "      <th>EMA_10_OPEN</th>\n",
       "      <th>...</th>\n",
       "      <th>ADOSC</th>\n",
       "      <th>OBV</th>\n",
       "      <th>ATR_3</th>\n",
       "      <th>ATR_6</th>\n",
       "      <th>ATR_12</th>\n",
       "      <th>ATR_20</th>\n",
       "      <th>TRANGE</th>\n",
       "      <th>HORA_NOBRE</th>\n",
       "      <th>TARGET_WIN_CAT3</th>\n",
       "      <th>TARGET_WIN_CAT3_LABEL</th>\n",
       "    </tr>\n",
       "  </thead>\n",
       "  <tbody>\n",
       "    <tr>\n",
       "      <th>109098</th>\n",
       "      <td>88095.0</td>\n",
       "      <td>88185.0</td>\n",
       "      <td>88035.0</td>\n",
       "      <td>88150.0</td>\n",
       "      <td>28664.0</td>\n",
       "      <td>88120.485588</td>\n",
       "      <td>88090.757497</td>\n",
       "      <td>88085.21074</td>\n",
       "      <td>88103.571694</td>\n",
       "      <td>88074.762323</td>\n",
       "      <td>...</td>\n",
       "      <td>28633.191133</td>\n",
       "      <td>-3220019.0</td>\n",
       "      <td>140.147904</td>\n",
       "      <td>138.857426</td>\n",
       "      <td>142.408421</td>\n",
       "      <td>142.348568</td>\n",
       "      <td>150.0</td>\n",
       "      <td>1</td>\n",
       "      <td>BUY</td>\n",
       "      <td>0</td>\n",
       "    </tr>\n",
       "  </tbody>\n",
       "</table>\n",
       "<p>1 rows × 61 columns</p>\n",
       "</div>"
      ],
      "text/plain": [
       "           OPEN     HIGH      LOW    CLOSE      VOL   EMA_5_CLOSE  \\\n",
       "109098  88095.0  88185.0  88035.0  88150.0  28664.0  88120.485588   \n",
       "\n",
       "        EMA_10_CLOSE  EMA_20_CLOSE    EMA_5_OPEN   EMA_10_OPEN  ...  \\\n",
       "109098  88090.757497   88085.21074  88103.571694  88074.762323  ...   \n",
       "\n",
       "               ADOSC        OBV       ATR_3       ATR_6      ATR_12  \\\n",
       "109098  28633.191133 -3220019.0  140.147904  138.857426  142.408421   \n",
       "\n",
       "            ATR_20  TRANGE  HORA_NOBRE  TARGET_WIN_CAT3  TARGET_WIN_CAT3_LABEL  \n",
       "109098  142.348568   150.0           1              BUY                      0  \n",
       "\n",
       "[1 rows x 61 columns]"
      ]
     },
     "execution_count": 10,
     "metadata": {},
     "output_type": "execute_result"
    }
   ],
   "source": [
    "df_test.iloc[19:200].head(1)"
   ]
  },
  {
   "cell_type": "code",
   "execution_count": 11,
   "metadata": {},
   "outputs": [
    {
     "data": {
      "text/plain": [
       "HOLD    65556\n",
       "SELL     7212\n",
       "BUY      7027\n",
       "Name: TARGET_WIN_CAT3, dtype: int64"
      ]
     },
     "execution_count": 11,
     "metadata": {},
     "output_type": "execute_result"
    }
   ],
   "source": [
    "df_train['TARGET_WIN_CAT3'].value_counts()"
   ]
  },
  {
   "cell_type": "code",
   "execution_count": 12,
   "metadata": {},
   "outputs": [
    {
     "data": {
      "text/plain": [
       "65556"
      ]
     },
     "execution_count": 12,
     "metadata": {},
     "output_type": "execute_result"
    }
   ],
   "source": [
    "df_train['TARGET_WIN_CAT3'].value_counts()[0]"
   ]
  },
  {
   "cell_type": "code",
   "execution_count": 13,
   "metadata": {
    "scrolled": true
   },
   "outputs": [
    {
     "name": "stdout",
     "output_type": "stream",
     "text": [
      "\n",
      "Dados Categóricos de Treino -- BUY: 7027 | SELL: 7212 | HOLD: 65556\n",
      "\n",
      "Dados Categóricos de Validação -- BUY: 4212 | SELL: 4272 | HOLD: 17926\n",
      "\n",
      "Dados Categóricos de Teste -- BUY: 4192 | SELL: 3950 | HOLD: 18596\n"
     ]
    }
   ],
   "source": [
    "hold_train = df_train['TARGET_WIN_CAT3_LABEL'].value_counts()[2]\n",
    "hold_valid = df_valid['TARGET_WIN_CAT3_LABEL'].value_counts()[2]\n",
    "hold_test = df_test['TARGET_WIN_CAT3_LABEL'].value_counts()[2]\n",
    "\n",
    "print('\\nDados Categóricos de Treino -- BUY: %d | SELL: %d | HOLD: %d' % (df_train['TARGET_WIN_CAT3_LABEL'].value_counts()[0], df_train['TARGET_WIN_CAT3_LABEL'].value_counts()[1], hold_train))\n",
    "print('\\nDados Categóricos de Validação -- BUY: %d | SELL: %d | HOLD: %d' % (df_valid['TARGET_WIN_CAT3_LABEL'].value_counts()[0], df_valid['TARGET_WIN_CAT3_LABEL'].value_counts()[1], hold_valid))\n",
    "print('\\nDados Categóricos de Teste -- BUY: %d | SELL: %d | HOLD: %d' % (df_test['TARGET_WIN_CAT3_LABEL'].value_counts()[0], df_test['TARGET_WIN_CAT3_LABEL'].value_counts()[1], hold_test))\n"
   ]
  },
  {
   "cell_type": "code",
   "execution_count": 14,
   "metadata": {},
   "outputs": [
    {
     "name": "stdout",
     "output_type": "stream",
     "text": [
      "\n",
      "Dados Categóricos de Treino Hora Nobre -- BUY: 2706 | SELL: 2505 | HOLD: 16928\n",
      "\n",
      "Dados Categóricos de Validação Hora Nobre -- BUY: 1433 | SELL: 1372 | HOLD: 4515\n",
      "\n",
      "Dados Categóricos de Teste Hora Nobre -- BUY: 1496 | SELL: 1462 | HOLD: 4452\n"
     ]
    }
   ],
   "source": [
    "buy_train = df_train.groupby(['HORA_NOBRE'])['TARGET_WIN_CAT3_LABEL'].value_counts()[4]\n",
    "sell_train = df_train.groupby(['HORA_NOBRE'])['TARGET_WIN_CAT3_LABEL'].value_counts()[5]\n",
    "hold_train = df_train.groupby(['HORA_NOBRE'])['TARGET_WIN_CAT3_LABEL'].value_counts()[3]\n",
    "\n",
    "buy_valid = df_valid.groupby(['HORA_NOBRE'])['TARGET_WIN_CAT3_LABEL'].value_counts()[4]\n",
    "sell_valid = df_valid.groupby(['HORA_NOBRE'])['TARGET_WIN_CAT3_LABEL'].value_counts()[5]\n",
    "hold_valid = df_valid.groupby(['HORA_NOBRE'])['TARGET_WIN_CAT3_LABEL'].value_counts()[3]\n",
    "\n",
    "buy_test = df_test.groupby(['HORA_NOBRE'])['TARGET_WIN_CAT3_LABEL'].value_counts()[4]\n",
    "sell_test = df_test.groupby(['HORA_NOBRE'])['TARGET_WIN_CAT3_LABEL'].value_counts()[5]\n",
    "hold_test = df_test.groupby(['HORA_NOBRE'])['TARGET_WIN_CAT3_LABEL'].value_counts()[3]\n",
    "\n",
    "print('\\nDados Categóricos de Treino Hora Nobre -- BUY: %d | SELL: %d | HOLD: %d' % (buy_train, sell_train, hold_train))\n",
    "print('\\nDados Categóricos de Validação Hora Nobre -- BUY: %d | SELL: %d | HOLD: %d' % (buy_valid, sell_valid, hold_valid))\n",
    "print('\\nDados Categóricos de Teste Hora Nobre -- BUY: %d | SELL: %d | HOLD: %d' % (buy_test, sell_test, hold_test))\n"
   ]
  },
  {
   "cell_type": "code",
   "execution_count": 15,
   "metadata": {
    "scrolled": true
   },
   "outputs": [
    {
     "data": {
      "text/plain": [
       "HORA_NOBRE  TARGET_WIN_CAT3\n",
       "0           HOLD                3765\n",
       "            BUY                  340\n",
       "            SELL                 323\n",
       "1           HOLD               16928\n",
       "            SELL                2706\n",
       "            BUY                 2505\n",
       "2           HOLD               44863\n",
       "            SELL                4183\n",
       "            BUY                 4182\n",
       "Name: TARGET_WIN_CAT3, dtype: int64"
      ]
     },
     "execution_count": 15,
     "metadata": {},
     "output_type": "execute_result"
    }
   ],
   "source": [
    "df_train.groupby(['HORA_NOBRE'])['TARGET_WIN_CAT3'].value_counts()"
   ]
  },
  {
   "cell_type": "code",
   "execution_count": 16,
   "metadata": {},
   "outputs": [
    {
     "name": "stdout",
     "output_type": "stream",
     "text": [
      "16928\n",
      "2709\n",
      "14219\n"
     ]
    }
   ],
   "source": [
    "np.random.seed(2345)\n",
    "porcentagem_selecao_train = (buy_train / hold_train)\n",
    "amostra_train = np.random.choice( a=[0,1], size=hold_train, replace=True, \n",
    "                                   p=[1-porcentagem_selecao_train, porcentagem_selecao_train] )\n",
    "print(len(amostra_train))\n",
    "print(len(amostra_train[amostra_train == 1]))\n",
    "print(len(amostra_train[amostra_train == 0]))"
   ]
  },
  {
   "cell_type": "code",
   "execution_count": 17,
   "metadata": {},
   "outputs": [
    {
     "name": "stdout",
     "output_type": "stream",
     "text": [
      "4515\n",
      "1459\n",
      "3056\n"
     ]
    }
   ],
   "source": [
    "np.random.seed(2345)\n",
    "porcentagem_selecao_valid = (buy_valid / hold_valid)\n",
    "amostra_valid = np.random.choice( a=[0,1], size=hold_valid, replace=True, \n",
    "                                   p=[1-porcentagem_selecao_valid, porcentagem_selecao_valid] )\n",
    "print(len(amostra_valid))\n",
    "print(len(amostra_valid[amostra_valid == 1]))\n",
    "print(len(amostra_valid[amostra_valid == 0]))"
   ]
  },
  {
   "cell_type": "code",
   "execution_count": 18,
   "metadata": {},
   "outputs": [
    {
     "name": "stdout",
     "output_type": "stream",
     "text": [
      "4452\n",
      "1520\n",
      "2932\n"
     ]
    }
   ],
   "source": [
    "np.random.seed(2345)\n",
    "porcentagem_selecao_test = (buy_test / hold_test)\n",
    "amostra_test = np.random.choice( a=[0,1], size=hold_test, replace=True, \n",
    "                                   p=[1-porcentagem_selecao_test, porcentagem_selecao_test] )\n",
    "print(len(amostra_test))\n",
    "print(len(amostra_test[amostra_test == 1]))\n",
    "print(len(amostra_test[amostra_test == 0]))"
   ]
  },
  {
   "cell_type": "code",
   "execution_count": 19,
   "metadata": {},
   "outputs": [],
   "source": [
    "def normalize(data):\n",
    "\n",
    "    scaler_x = StandardScaler()\n",
    "\n",
    "    x = data.iloc[:, :-3]\n",
    "    x = scaler_x.fit_transform(x) \n",
    "\n",
    "    y = data.iloc[:,-2]\n",
    "    y_list = np.array(y.to_list())\n",
    "\n",
    "    return x, y_list"
   ]
  },
  {
   "cell_type": "code",
   "execution_count": 20,
   "metadata": {},
   "outputs": [],
   "source": [
    "def get_train_valid_test_data(seq_len, df, amostragem):\n",
    "    print('df.shape: ', df.shape)\n",
    "    a=0\n",
    "    for i in range(len(df) - seq_len):\n",
    "        if df['TARGET_WIN_CAT3'][i+seq_len-1] == 'HOLD':\n",
    "            if amostragem[a] == 0:\n",
    "                df.drop((i+seq_len-1), axis=0, inplace=True) \n",
    "            a+=1\n",
    "\n",
    "    x, y = normalize(df)\n",
    "\n",
    "    return x, y"
   ]
  },
  {
   "cell_type": "code",
   "execution_count": 21,
   "metadata": {},
   "outputs": [],
   "source": [
    "def next_window(i, seq_len, df):\n",
    "    df = df[i:i+seq_len]\n",
    "    scaler_x = StandardScaler()\n",
    "    \n",
    "    x = df.iloc[:, :-3]\n",
    "    x = scaler_x.fit_transform(x) \n",
    "    \n",
    "    y = df.iloc[-1,-2]\n",
    "    # y_list = np.array(y.to_list())\n",
    "    \n",
    "    return x, y"
   ]
  },
  {
   "cell_type": "code",
   "execution_count": 22,
   "metadata": {},
   "outputs": [],
   "source": [
    "def get_train_valid_test_data_Slide_Window(seq_len, df, amostragem):\n",
    "    print('df.shape: ', df.shape)\n",
    "    a=0\n",
    "    data_x = []\n",
    "    data_y = []\n",
    "    for i in range(len(df) - seq_len):\n",
    "        if df['TARGET_WIN_CAT3'].iloc[i+seq_len] == 'HOLD':\n",
    "            if amostragem[a] == 1:    \n",
    "                x, y = next_window(i, seq_len, df)\n",
    "                data_x.append(x)\n",
    "                data_y.append(y)\n",
    "            a+=1\n",
    "        else:\n",
    "            x, y = next_window(i, seq_len, df)\n",
    "            data_x.append(x)\n",
    "            data_y.append(y)\n",
    "\n",
    "    return np.array(data_x), np.array(data_y)"
   ]
  },
  {
   "cell_type": "code",
   "execution_count": 23,
   "metadata": {},
   "outputs": [
    {
     "name": "stdout",
     "output_type": "stream",
     "text": [
      "df.shape:  (22139, 61)\n",
      "x_train:  (7921, 58)  | y_train:  (7921,)\n"
     ]
    }
   ],
   "source": [
    "df_train_reset_index = df_train[df_train['HORA_NOBRE'] == '1'].reset_index(drop=True)\n",
    "x_train, y_train = get_train_valid_test_data(seq_len=1, \n",
    "                                             df=df_train_reset_index, \n",
    "                                             amostragem=amostra_train)\n",
    "print('x_train: ', x_train.shape,' | y_train: ', y_train.shape)"
   ]
  },
  {
   "cell_type": "code",
   "execution_count": 24,
   "metadata": {},
   "outputs": [
    {
     "name": "stdout",
     "output_type": "stream",
     "text": [
      "df.shape:  (22139, 61)\n",
      "x_train_sw:  (7907, 50, 58)  | y_train_sw:  (7907,)\n"
     ]
    }
   ],
   "source": [
    "df_train_reset_index = df_train[df_train['HORA_NOBRE'] == '1'].reset_index(drop=True)\n",
    "x_train_sw, y_train_sw = get_train_valid_test_data_Slide_Window( seq_len=configs['dataset']['sequence_length'], \n",
    "                                                                 df=df_train_reset_index, \n",
    "                                                                 amostragem=amostra_train)\n",
    "print('x_train_sw: ', x_train_sw.shape,' | y_train_sw: ', y_train_sw.shape)"
   ]
  },
  {
   "cell_type": "code",
   "execution_count": 25,
   "metadata": {},
   "outputs": [
    {
     "name": "stdout",
     "output_type": "stream",
     "text": [
      "7921 7921\n",
      "7907 7907\n"
     ]
    }
   ],
   "source": [
    "print(len(x_train), len(y_train))\n",
    "print(len(x_train_sw), len(y_train_sw))"
   ]
  },
  {
   "cell_type": "code",
   "execution_count": 26,
   "metadata": {
    "scrolled": false
   },
   "outputs": [
    {
     "name": "stdout",
     "output_type": "stream",
     "text": [
      "df.shape:  (7320, 61)\n",
      "(4265, 58) (4265,)\n"
     ]
    }
   ],
   "source": [
    "df_valid_reset_index = df_valid[df_valid['HORA_NOBRE'] == '1'].reset_index(drop=True)\n",
    "x_valid, y_valid = get_train_valid_test_data(seq_len=1, \n",
    "                                             df=df_valid_reset_index, \n",
    "                                             amostragem=amostra_valid)\n",
    "print(x_valid.shape, y_valid.shape)"
   ]
  },
  {
   "cell_type": "code",
   "execution_count": 27,
   "metadata": {
    "scrolled": true
   },
   "outputs": [
    {
     "name": "stdout",
     "output_type": "stream",
     "text": [
      "df.shape:  (7320, 61)\n",
      "(4237, 50, 58) (4237,)\n"
     ]
    }
   ],
   "source": [
    "df_valid_reset_index = df_valid[df_valid['HORA_NOBRE'] == '1'].reset_index(drop=True)\n",
    "x_valid_sw, y_valid_sw = get_train_valid_test_data_Slide_Window( seq_len=configs['dataset']['sequence_length'], \n",
    "                                                                 df=df_valid_reset_index, \n",
    "                                                                 amostragem=amostra_valid)\n",
    "print(x_valid_sw.shape, y_valid_sw.shape)"
   ]
  },
  {
   "cell_type": "code",
   "execution_count": 28,
   "metadata": {},
   "outputs": [
    {
     "name": "stdout",
     "output_type": "stream",
     "text": [
      "df.shape:  (7410, 61)\n",
      "(4478, 58) (4478,)\n"
     ]
    }
   ],
   "source": [
    "df_test_reset_index = df_test[df_test['HORA_NOBRE'] == '1'].reset_index(drop=True)\n",
    "x_test, y_test = get_train_valid_test_data(seq_len=1, \n",
    "                                             df=df_test_reset_index, \n",
    "                                             amostragem=amostra_test)\n",
    "print(x_test.shape, y_test.shape)"
   ]
  },
  {
   "cell_type": "code",
   "execution_count": 29,
   "metadata": {},
   "outputs": [
    {
     "name": "stdout",
     "output_type": "stream",
     "text": [
      "df.shape:  (7410, 61)\n",
      "(4444, 50, 58) (4444,)\n"
     ]
    }
   ],
   "source": [
    "df_test_reset_index = df_test[df_test['HORA_NOBRE'] == '1'].reset_index(drop=True)\n",
    "x_test_sw, y_test_sw = get_train_valid_test_data_Slide_Window(   seq_len=configs['dataset']['sequence_length'], \n",
    "                                                                 df=df_test_reset_index, \n",
    "                                                                 amostragem=amostra_test)\n",
    "print(x_test_sw.shape, y_test_sw.shape)"
   ]
  },
  {
   "cell_type": "code",
   "execution_count": null,
   "metadata": {},
   "outputs": [],
   "source": []
  },
  {
   "cell_type": "code",
   "execution_count": 30,
   "metadata": {
    "scrolled": false
   },
   "outputs": [
    {
     "name": "stdout",
     "output_type": "stream",
     "text": [
      "7921 7921\n",
      "7907 7907\n"
     ]
    }
   ],
   "source": [
    "print(len(x_train), len(y_train))\n",
    "print(len(x_train_sw), len(y_train_sw))"
   ]
  },
  {
   "cell_type": "code",
   "execution_count": 31,
   "metadata": {},
   "outputs": [
    {
     "data": {
      "text/plain": [
       "array([[-0.80337707, -0.80806519, -0.80634505, ..., -0.36642424,\n",
       "        -0.25745841, -0.20950467],\n",
       "       [-0.79754225, -0.80329114, -0.79785783, ..., -0.51862625,\n",
       "        -0.36418169, -0.6457033 ],\n",
       "       [-0.80602926, -0.81124789, -0.80846685, ..., -0.33633955,\n",
       "        -0.25038293, -0.33413285],\n",
       "       ...,\n",
       "       [ 2.04295617,  2.03832969,  2.04854292, ..., -1.55555246,\n",
       "        -1.50364194, -1.2065301 ],\n",
       "       [ 2.04083442,  2.03726879,  2.04642111, ..., -1.64399092,\n",
       "        -1.59501906, -1.08190192],\n",
       "       [ 2.04295617,  2.03779924,  2.04801247, ..., -1.74727228,\n",
       "        -1.68916044, -1.2065301 ]])"
      ]
     },
     "execution_count": 31,
     "metadata": {},
     "output_type": "execute_result"
    }
   ],
   "source": [
    "x_train"
   ]
  },
  {
   "cell_type": "code",
   "execution_count": 32,
   "metadata": {},
   "outputs": [
    {
     "data": {
      "text/plain": [
       "array([[[ 0.83688569,  0.82291584,  0.87564623, ..., -0.59391925,\n",
       "         -0.61785376, -1.10971587],\n",
       "        [ 0.86294067,  0.83874317,  0.8654203 , ..., -0.7035151 ,\n",
       "         -0.70322108, -0.74706362],\n",
       "        [ 0.81083072,  0.78598539,  0.79895177, ..., -0.75796622,\n",
       "         -0.74882108, -0.52947228],\n",
       "        ...,\n",
       "        [-1.08076023, -1.13967354, -1.03148938, ...,  0.41373998,\n",
       "          0.77206313, -1.03718542],\n",
       "        [-1.08597122, -1.14494932, -1.07239309, ...,  0.26618428,\n",
       "          0.65269892, -0.52947228],\n",
       "        [-1.11723719, -1.12912198, -1.03660234, ...,  0.06957588,\n",
       "          0.49197098, -0.81959407]],\n",
       "\n",
       "       [[ 1.17268566,  1.18036174,  1.20581067, ..., -0.84334394,\n",
       "         -0.90475888, -0.75526242],\n",
       "        [ 1.18813335,  1.2166678 ,  1.2311407 , ..., -0.91057743,\n",
       "         -0.96107766, -0.61085278],\n",
       "        [ 1.22417796,  1.18554832,  1.20581067, ..., -0.98799667,\n",
       "         -1.02680682, -0.6830576 ],\n",
       "        ...,\n",
       "        [-0.96939405, -1.01874793, -0.93710973, ..., -0.30437517,\n",
       "          0.08632771, -0.82746724],\n",
       "        [-1.01058789, -1.05505399, -1.00803381, ..., -0.35336859,\n",
       "          0.02935988, -0.3220335 ],\n",
       "        [-1.07752788, -1.06542714, -1.01309981, ..., -0.41406775,\n",
       "         -0.03698588, -0.39423832]],\n",
       "\n",
       "       [[ 1.32487371,  1.28872587,  1.311269  , ..., -1.01359497,\n",
       "         -1.05901483, -0.72367357],\n",
       "        [ 1.31451261,  1.34626762,  1.36241852, ..., -1.06935819,\n",
       "         -1.1098177 , -0.65159453],\n",
       "        [ 1.31451261,  1.28872587,  1.18339521, ..., -0.73753838,\n",
       "         -0.86122172,  1.07830245],\n",
       "        ...,\n",
       "        [-0.99083188, -0.98155757, -0.92907982, ..., -0.43359054,\n",
       "         -0.05763352, -0.43535741],\n",
       "        [-0.92866529, -0.99725077, -0.94953962, ..., -0.47386478,\n",
       "         -0.10902901, -0.36327837],\n",
       "        [-1.17215111, -1.04956145, -1.09275827, ..., -0.57192546,\n",
       "         -0.80824688,  1.00622341]],\n",
       "\n",
       "       ...,\n",
       "\n",
       "       [[-1.41156946, -1.37344637, -1.21348441, ...,  0.38886145,\n",
       "          0.23822379,  0.01668831],\n",
       "        [-1.00849423, -1.19848505, -1.05948893, ...,  0.31822137,\n",
       "          0.20417903,  0.01668831],\n",
       "        [-1.04880175, -1.46092703, -1.17498554, ...,  0.15720102,\n",
       "          0.09828232, -0.40051953],\n",
       "        ...,\n",
       "        [ 1.40995716,  1.33845411,  1.40443881, ..., -1.78753707,\n",
       "         -1.69989469, -0.81772737],\n",
       "        [ 1.53087973,  1.60089609,  1.48143655, ..., -1.74098857,\n",
       "         -1.68606965, -0.26145025],\n",
       "        [ 1.40995716,  1.20723312,  1.09644784, ..., -1.66623013,\n",
       "         -1.6484178 , -0.12238097]],\n",
       "\n",
       "       [[-1.44098898, -1.78841023, -1.36367765, ...,  0.06222942,\n",
       "          0.05900033, -0.64542454],\n",
       "        [-1.52189796, -0.84572411, -1.4800324 , ...,  0.59675615,\n",
       "          0.4723247 ,  2.6644449 ],\n",
       "        [-1.19826203, -1.02528337, -1.13096815, ...,  0.69962107,\n",
       "          0.56978336,  0.87159895],\n",
       "        ...,\n",
       "        [ 1.22900744,  1.03964811,  1.04098715, ..., -1.45911024,\n",
       "         -1.45512993, -0.50751331],\n",
       "        [ 1.02673499,  1.03964811,  1.07977207, ..., -1.51248443,\n",
       "         -1.51108274, -0.64542454],\n",
       "        [ 1.10764397,  1.03964811,  1.04098715, ..., -1.53163247,\n",
       "         -1.54153025, -0.50751331]],\n",
       "\n",
       "       [[-1.33733099, -1.14479096, -1.26011089, ...,  0.74444888,\n",
       "          0.61640933,  1.00568517],\n",
       "        [-1.00237019, -1.19106383, -0.98008625, ...,  0.60601032,\n",
       "          0.53100613, -0.1844748 ],\n",
       "        [-0.91862999, -1.00597233, -0.86007569, ...,  0.50774975,\n",
       "          0.47164458, -0.0357048 ],\n",
       "        ...,\n",
       "        [ 1.04926471,  0.98376135,  0.98008625, ..., -1.40162124,\n",
       "         -1.4078612 , -0.48201479],\n",
       "        [ 0.88178431,  0.70612409,  0.66005809, ..., -1.36122062,\n",
       "         -1.39205087, -0.1844748 ],\n",
       "        [ 0.71430391,  0.79866984,  0.90007921, ..., -1.4387525 ,\n",
       "         -1.464117  , -0.77955478]]])"
      ]
     },
     "execution_count": 32,
     "metadata": {},
     "output_type": "execute_result"
    }
   ],
   "source": [
    "x_train_sw"
   ]
  },
  {
   "cell_type": "code",
   "execution_count": null,
   "metadata": {},
   "outputs": [],
   "source": []
  },
  {
   "cell_type": "markdown",
   "metadata": {},
   "source": [
    "## Cálculo do Weighted F Score"
   ]
  },
  {
   "cell_type": "code",
   "execution_count": 33,
   "metadata": {},
   "outputs": [],
   "source": [
    "def weightedFScore(confusion_matrix):\n",
    "    beta_1 = math.pow(0.5, 2)\n",
    "    beta_2 = math.pow(0.25, 2)\n",
    "    beta_3 = math.pow(0.125, 2)\n",
    "    \n",
    "    num_tu = confusion_matrix[[0],[0]]\n",
    "    num_tf = confusion_matrix[[1],[1]]\n",
    "    num_td = confusion_matrix[[2],[2]]\n",
    "    \n",
    "    wrongU_trueD = confusion_matrix[[2],[0]]\n",
    "    wrongD_trueU = confusion_matrix[[0],[2]]\n",
    "    wrongU_trueF = confusion_matrix[[1],[0]]\n",
    "    wrongD_trueF = confusion_matrix[[1],[2]]\n",
    "    wrongF_trueU = confusion_matrix[[0],[1]]\n",
    "    wrongF_trueD = confusion_matrix[[2],[1]]\n",
    "    \n",
    "    num_tp = num_tu + num_td + (beta_3 * num_tf)\n",
    "    erro_tipo_1 = wrongU_trueD + wrongD_trueU\n",
    "    erro_tipo_2 = wrongU_trueF + wrongD_trueF\n",
    "    erro_tipo_3 = wrongF_trueU + wrongF_trueD\n",
    "    \n",
    "    num = (1 + beta_1 + beta_2) * num_tp\n",
    "    den = num + erro_tipo_1 + (beta_1 * erro_tipo_2) + (beta_2 * erro_tipo_3)\n",
    "    \n",
    "    wFScore = num / den\n",
    "    \n",
    "    return wFScore"
   ]
  },
  {
   "cell_type": "markdown",
   "metadata": {},
   "source": [
    "# Modelos"
   ]
  },
  {
   "cell_type": "code",
   "execution_count": 34,
   "metadata": {},
   "outputs": [],
   "source": [
    "import lightgbm as lgbm\n",
    "import seaborn as sns\n",
    "\n",
    "from sklearn.ensemble import RandomForestClassifier \n",
    "from sklearn.metrics import accuracy_score, confusion_matrix, classification_report"
   ]
  },
  {
   "cell_type": "markdown",
   "metadata": {},
   "source": [
    "## LightGBM"
   ]
  },
  {
   "cell_type": "code",
   "execution_count": 29,
   "metadata": {},
   "outputs": [
    {
     "name": "stdout",
     "output_type": "stream",
     "text": [
      "Accuracy Score - LightGBM:  0.3981179181870559\n",
      "              precision    recall  f1-score   support\n",
      "\n",
      "         BUY       0.37      0.39      0.38      1746\n",
      "        HOLD       0.44      0.48      0.46      1757\n",
      "        SELL       0.38      0.32      0.35      1704\n",
      "\n",
      "    accuracy                           0.40      5207\n",
      "   macro avg       0.40      0.40      0.40      5207\n",
      "weighted avg       0.40      0.40      0.40      5207\n",
      "\n"
     ]
    }
   ],
   "source": [
    "model_lgbm = lgbm.LGBMClassifier(n_jobs=-1, random_state=0, n_estimators=5000, learning_rate=0.001, num_leaves=2**6,\n",
    "                                 subsample=0.9, subsample_freq=1, colsample_bytree=1.)\n",
    "\n",
    "model_lgbm.fit(x_train, y_train)\n",
    "predict_lgbm = model_lgbm.predict(x_test)\n",
    "\n",
    "accuracy_score_LGBM = accuracy_score(y_test, predict_lgbm)\n",
    "\n",
    "print('Accuracy Score - LightGBM: ', accuracy_score_LGBM)\n",
    "print(classification_report(y_test, predict_lgbm))"
   ]
  },
  {
   "cell_type": "code",
   "execution_count": 30,
   "metadata": {
    "scrolled": true
   },
   "outputs": [
    {
     "data": {
      "text/plain": [
       "array([[680, 505, 561],\n",
       "       [663, 552, 489],\n",
       "       [516, 400, 841]], dtype=int64)"
      ]
     },
     "execution_count": 30,
     "metadata": {},
     "output_type": "execute_result"
    }
   ],
   "source": [
    "from sklearn.metrics import confusion_matrix\n",
    "confusion_matrix = confusion_matrix(y_test, predict_lgbm, labels=[\"BUY\", \"SELL\", \"HOLD\"])\n",
    "confusion_matrix"
   ]
  },
  {
   "cell_type": "code",
   "execution_count": 31,
   "metadata": {},
   "outputs": [
    {
     "data": {
      "text/plain": [
       "0.5277089376661241"
      ]
     },
     "execution_count": 31,
     "metadata": {},
     "output_type": "execute_result"
    }
   ],
   "source": [
    "weightedFScore_LGBM = weightedFScore(confusion_matrix)[0] \n",
    "weightedFScore_LGBM"
   ]
  },
  {
   "cell_type": "code",
   "execution_count": 32,
   "metadata": {},
   "outputs": [
    {
     "data": {
      "text/plain": [
       "<AxesSubplot:>"
      ]
     },
     "execution_count": 32,
     "metadata": {},
     "output_type": "execute_result"
    },
    {
     "data": {
      "image/png": "[encoded data removed]",
      "text/plain": [
       "<Figure size 432x288 with 2 Axes>"
      ]
     },
     "metadata": {
      "needs_background": "light"
     },
     "output_type": "display_data"
    }
   ],
   "source": [
    "# visualize confusion matrix with seaborn heatmap\n",
    "cm_matrix_LGBM = pd.DataFrame(data=confusion_matrix,\n",
    "                        columns=['BUY_P', 'HOLD_P', 'SELL_P'], \n",
    "                        index=['BUY_R', 'HOLD_R', 'SELL_R'])\n",
    "\n",
    "sns.heatmap(cm_matrix_LGBM, annot=True, fmt='d', cmap='YlGnBu')"
   ]
  },
  {
   "cell_type": "markdown",
   "metadata": {},
   "source": [
    "### Compare train and test set accuracy"
   ]
  },
  {
   "cell_type": "code",
   "execution_count": 33,
   "metadata": {},
   "outputs": [],
   "source": [
    "#y_pred_train = model_lgbm.predict(x_train)\n",
    "#print('Training-set accuracy score: {0:0.4f}'. format(accuracy_score(y_train, y_pred_train)))"
   ]
  },
  {
   "cell_type": "markdown",
   "metadata": {},
   "source": [
    "### Check for Overfitting"
   ]
  },
  {
   "cell_type": "code",
   "execution_count": 34,
   "metadata": {},
   "outputs": [],
   "source": [
    "# print the scores on training and test set\n",
    "\n",
    "#print('Training set score: {:.4f}'.format(model_lgbm.score(x_train, y_train)))\n",
    "\n",
    "#print('Test set score: {:.4f}'.format(model_lgbm.score(x_test, y_test)))"
   ]
  },
  {
   "cell_type": "code",
   "execution_count": 35,
   "metadata": {},
   "outputs": [],
   "source": [
    "#print('Validation set score: {:.4f}'.format(model_lgbm.score(x_valid, y_valid)))"
   ]
  },
  {
   "cell_type": "markdown",
   "metadata": {},
   "source": [
    "## Random Forest"
   ]
  },
  {
   "cell_type": "code",
   "execution_count": 36,
   "metadata": {},
   "outputs": [
    {
     "name": "stdout",
     "output_type": "stream",
     "text": [
      "Accuracy Score - Random Forest:  0.39734972152871134\n"
     ]
    }
   ],
   "source": [
    "model_randomF = RandomForestClassifier(n_jobs=-1, random_state=0, n_estimators=5000)\n",
    "model_randomF.fit(x_train, y_train)\n",
    "predict_randomF = model_randomF.predict(x_test)\n",
    "\n",
    "accuracy_score_RF = accuracy_score(y_test, predict_randomF)\n",
    "print('Accuracy Score - Random Forest: ', accuracy_score_RF)"
   ]
  },
  {
   "cell_type": "code",
   "execution_count": 37,
   "metadata": {
    "scrolled": false
   },
   "outputs": [
    {
     "name": "stdout",
     "output_type": "stream",
     "text": [
      "              precision    recall  f1-score   support\n",
      "\n",
      "         BUY       0.37      0.31      0.34      1746\n",
      "        HOLD       0.43      0.53      0.47      1757\n",
      "        SELL       0.38      0.35      0.36      1704\n",
      "\n",
      "    accuracy                           0.40      5207\n",
      "   macro avg       0.39      0.40      0.39      5207\n",
      "weighted avg       0.39      0.40      0.39      5207\n",
      "\n"
     ]
    }
   ],
   "source": [
    "print(classification_report(y_test, predict_randomF))"
   ]
  },
  {
   "cell_type": "code",
   "execution_count": 38,
   "metadata": {
    "scrolled": true
   },
   "outputs": [
    {
     "data": {
      "text/plain": [
       "array([[547, 569, 630],\n",
       "       [504, 596, 604],\n",
       "       [422, 409, 926]], dtype=int64)"
      ]
     },
     "execution_count": 38,
     "metadata": {},
     "output_type": "execute_result"
    }
   ],
   "source": [
    "from sklearn.metrics import confusion_matrix\n",
    "confusion_matrix = confusion_matrix(y_test, predict_randomF, labels=[\"BUY\", \"SELL\", \"HOLD\"])\n",
    "confusion_matrix"
   ]
  },
  {
   "cell_type": "code",
   "execution_count": 39,
   "metadata": {},
   "outputs": [
    {
     "data": {
      "text/plain": [
       "0.5280326343079771"
      ]
     },
     "execution_count": 39,
     "metadata": {},
     "output_type": "execute_result"
    }
   ],
   "source": [
    "weightedFScore_RF = weightedFScore(confusion_matrix)[0] \n",
    "weightedFScore_RF"
   ]
  },
  {
   "cell_type": "code",
   "execution_count": 40,
   "metadata": {},
   "outputs": [
    {
     "data": {
      "text/plain": [
       "<AxesSubplot:>"
      ]
     },
     "execution_count": 40,
     "metadata": {},
     "output_type": "execute_result"
    },
    {
     "data": {
      "image/png": "[encoded data removed]",
      "text/plain": [
       "<Figure size 432x288 with 2 Axes>"
      ]
     },
     "metadata": {
      "needs_background": "light"
     },
     "output_type": "display_data"
    }
   ],
   "source": [
    "# visualize confusion matrix with seaborn heatmap\n",
    "cm_matrix_RF = pd.DataFrame(data=confusion_matrix,\n",
    "                        columns=['BUY_P', 'HOLD_P', 'SELL_P'], \n",
    "                        index=['BUY_R', 'HOLD_R', 'SELL_R'])\n",
    "\n",
    "sns.heatmap(cm_matrix_RF, annot=True, fmt='d', cmap='YlGnBu')"
   ]
  },
  {
   "cell_type": "markdown",
   "metadata": {},
   "source": [
    "### Compare train and test set accuracy"
   ]
  },
  {
   "cell_type": "code",
   "execution_count": 41,
   "metadata": {},
   "outputs": [],
   "source": [
    "#y_pred_train = model_randomF.predict(x_train)\n",
    "#print('Training-set accuracy score: {0:0.4f}'. format(accuracy_score(y_train, y_pred_train)))"
   ]
  },
  {
   "cell_type": "markdown",
   "metadata": {},
   "source": [
    "### Check for Overfitting"
   ]
  },
  {
   "cell_type": "code",
   "execution_count": 42,
   "metadata": {},
   "outputs": [],
   "source": [
    "# print the scores on training and test set\n",
    "\n",
    "#print('Training set score: {:.4f}'.format(model_randomF.score(x_train, y_train)))\n",
    "\n",
    "#print('Test set score: {:.4f}'.format(model_randomF.score(x_test, y_test)))"
   ]
  },
  {
   "cell_type": "code",
   "execution_count": 43,
   "metadata": {},
   "outputs": [],
   "source": [
    "#print('Validation set score: {:.4f}'.format(model_randomF.score(x_valid, y_valid)))"
   ]
  },
  {
   "cell_type": "markdown",
   "metadata": {},
   "source": [
    "# Deep Learning"
   ]
  },
  {
   "cell_type": "code",
   "execution_count": 220,
   "metadata": {
    "scrolled": true
   },
   "outputs": [
    {
     "name": "stdout",
     "output_type": "stream",
     "text": [
      "['SELL' 'SELL' 'SELL' 'BUY' 'SELL' 'HOLD' 'BUY' 'HOLD' 'HOLD' 'SELL']\n",
      "[[0. 0. 1.]\n",
      " [0. 0. 1.]\n",
      " [0. 0. 1.]\n",
      " [1. 0. 0.]\n",
      " [0. 0. 1.]\n",
      " [0. 1. 0.]\n",
      " [1. 0. 0.]\n",
      " [0. 1. 0.]\n",
      " [0. 1. 0.]\n",
      " [0. 0. 1.]]\n",
      "['BUY' 'BUY' 'HOLD' 'SELL' 'HOLD' 'BUY' 'HOLD' 'BUY' 'BUY' 'HOLD']\n",
      "[[1. 0. 0.]\n",
      " [1. 0. 0.]\n",
      " [0. 1. 0.]\n",
      " [0. 0. 1.]\n",
      " [0. 1. 0.]\n",
      " [1. 0. 0.]\n",
      " [0. 1. 0.]\n",
      " [1. 0. 0.]\n",
      " [1. 0. 0.]\n",
      " [0. 1. 0.]]\n",
      "['HOLD' 'BUY' 'SELL' 'HOLD' 'HOLD' 'HOLD' 'HOLD' 'BUY' 'HOLD' 'SELL']\n",
      "[[0. 1. 0.]\n",
      " [1. 0. 0.]\n",
      " [0. 0. 1.]\n",
      " [0. 1. 0.]\n",
      " [0. 1. 0.]\n",
      " [0. 1. 0.]\n",
      " [0. 1. 0.]\n",
      " [1. 0. 0.]\n",
      " [0. 1. 0.]\n",
      " [0. 0. 1.]]\n",
      "4265\n"
     ]
    }
   ],
   "source": [
    "'''\n",
    "# Encoding categorical data\n",
    "from keras.utils import to_categorical\n",
    "from sklearn.preprocessing import LabelEncoder\n",
    "\n",
    "labelencoder_Y_1 = LabelEncoder()\n",
    "yy = labelencoder_Y_1.fit_transform(y_train)\n",
    "y_train2 = to_categorical(yy)\n",
    "\n",
    "labelencoder_Y_1 = LabelEncoder()\n",
    "yy = labelencoder_Y_1.fit_transform(y_test)\n",
    "y_test2 = to_categorical(yy)\n",
    "\n",
    "labelencoder_Y_1 = LabelEncoder()\n",
    "yy = labelencoder_Y_1.fit_transform(y_valid)\n",
    "y_valid2 = to_categorical(yy)\n",
    "\n",
    "print(y_train[10:20])\n",
    "print(y_train2[10:20])\n",
    "\n",
    "print(y_test[10:20])\n",
    "print(y_test2[10:20])\n",
    "\n",
    "print(y_valid[10:20])\n",
    "print(y_valid2[10:20])\n",
    "\n",
    "# BUY | SELL | HOLD\n",
    "'''"
   ]
  },
  {
   "cell_type": "code",
   "execution_count": 86,
   "metadata": {},
   "outputs": [],
   "source": [
    "# Encoding categorical data\n",
    "from keras.utils import to_categorical\n",
    "from sklearn.preprocessing import LabelEncoder\n",
    "\n",
    "def encode_categ_data(data):\n",
    "    labelencoder = LabelEncoder()\n",
    "    x = labelencoder.fit_transform(data)\n",
    "    data_encoded = to_categorical(x)\n",
    "    \n",
    "    #print(data[10:20])\n",
    "    #print(data_encoded[10:20])\n",
    "    \n",
    "    return data_encoded"
   ]
  },
  {
   "cell_type": "code",
   "execution_count": 36,
   "metadata": {},
   "outputs": [],
   "source": [
    "# example of training a final classification model\n",
    "from keras.models import Sequential, load_model\n",
    "from core.utils import Timer\n",
    "from keras.layers import Dense, Dropout, LSTM, GRU\n",
    "from keras.callbacks import EarlyStopping, ModelCheckpoint\n",
    "from keras.optimizers import SGD, Adam\n",
    "dim = x_train.shape[1]"
   ]
  },
  {
   "cell_type": "markdown",
   "metadata": {},
   "source": [
    "## DNN"
   ]
  },
  {
   "cell_type": "code",
   "execution_count": 46,
   "metadata": {
    "scrolled": true
   },
   "outputs": [
    {
     "name": "stdout",
     "output_type": "stream",
     "text": [
      "WARNING:tensorflow:From C:\\Users\\auW10\\Anaconda3\\envs\\phd\\lib\\site-packages\\tensorflow_core\\python\\ops\\resource_variable_ops.py:1630: calling BaseResourceVariable.__init__ (from tensorflow.python.ops.resource_variable_ops) with constraint is deprecated and will be removed in a future version.\n",
      "Instructions for updating:\n",
      "If using Keras pass *_constraint arguments to layers.\n",
      "[model] Model Compiled\n",
      "Model: \"sequential_1\"\n",
      "_________________________________________________________________\n",
      "Layer (type)                 Output Shape              Param #   \n",
      "=================================================================\n",
      "dense_1 (Dense)              (None, 100)               5900      \n",
      "_________________________________________________________________\n",
      "dropout_1 (Dropout)          (None, 100)               0         \n",
      "_________________________________________________________________\n",
      "dense_2 (Dense)              (None, 75)                7575      \n",
      "_________________________________________________________________\n",
      "dropout_2 (Dropout)          (None, 75)                0         \n",
      "_________________________________________________________________\n",
      "dense_3 (Dense)              (None, 50)                3800      \n",
      "_________________________________________________________________\n",
      "dropout_3 (Dropout)          (None, 50)                0         \n",
      "_________________________________________________________________\n",
      "dense_4 (Dense)              (None, 25)                1275      \n",
      "_________________________________________________________________\n",
      "dropout_4 (Dropout)          (None, 25)                0         \n",
      "_________________________________________________________________\n",
      "dense_5 (Dense)              (None, 3)                 78        \n",
      "=================================================================\n",
      "Total params: 18,628\n",
      "Trainable params: 18,628\n",
      "Non-trainable params: 0\n",
      "_________________________________________________________________\n",
      "None\n",
      "Time taken: 0:00:00.356616\n"
     ]
    }
   ],
   "source": [
    "# define and fit the final model\n",
    "timer = Timer()\n",
    "timer.start()\n",
    "\n",
    "model_dnn = Sequential()\n",
    "\n",
    "model_dnn.add(Dense(100, input_dim=dim, activation='relu'))\n",
    "model_dnn.add(Dropout(0.2))\n",
    "model_dnn.add(Dense(75, activation='relu'))\n",
    "model_dnn.add(Dropout(0.4))\n",
    "model_dnn.add(Dense(50, activation='relu'))\n",
    "model_dnn.add(Dropout(0.5))\n",
    "model_dnn.add(Dense(25, activation='relu'))\n",
    "model_dnn.add(Dropout(0.2))\n",
    "model_dnn.add(Dense(3, activation='softmax'))\n",
    "\n",
    "model_dnn.compile(loss='categorical_crossentropy', optimizer='adam', metrics=['accuracy'])\n",
    "\n",
    "print('[model] Model Compiled')\n",
    "print(model_dnn.summary())\n",
    "timer.stop()\n"
   ]
  },
  {
   "cell_type": "code",
   "execution_count": 47,
   "metadata": {
    "scrolled": true
   },
   "outputs": [
    {
     "name": "stdout",
     "output_type": "stream",
     "text": [
      "[Model] Training Started\n",
      "WARNING:tensorflow:From C:\\Users\\auW10\\Anaconda3\\envs\\phd\\lib\\site-packages\\keras\\backend\\tensorflow_backend.py:422: The name tf.global_variables is deprecated. Please use tf.compat.v1.global_variables instead.\n",
      "\n",
      "Train on 8229 samples, validate on 4265 samples\n",
      "Epoch 1/100\n",
      "8229/8229 [==============================] - 3s 411us/step - loss: 1.1176 - accuracy: 0.3491 - val_loss: 1.0887 - val_accuracy: 0.3923\n",
      "Epoch 2/100\n",
      "8229/8229 [==============================] - 2s 297us/step - loss: 1.0922 - accuracy: 0.3715 - val_loss: 1.0838 - val_accuracy: 0.4026\n",
      "Epoch 3/100\n",
      "8229/8229 [==============================] - 2s 296us/step - loss: 1.0867 - accuracy: 0.3778 - val_loss: 1.0780 - val_accuracy: 0.4012\n",
      "Epoch 4/100\n",
      "8229/8229 [==============================] - 2s 297us/step - loss: 1.0815 - accuracy: 0.3940 - val_loss: 1.0780 - val_accuracy: 0.4021\n",
      "Epoch 5/100\n",
      "8229/8229 [==============================] - 2s 298us/step - loss: 1.0807 - accuracy: 0.3942 - val_loss: 1.0782 - val_accuracy: 0.3995\n",
      "Epoch 6/100\n",
      "8229/8229 [==============================] - 2s 296us/step - loss: 1.0775 - accuracy: 0.3966 - val_loss: 1.0754 - val_accuracy: 0.4042\n",
      "Epoch 7/100\n",
      "8229/8229 [==============================] - 2s 296us/step - loss: 1.0743 - accuracy: 0.4115 - val_loss: 1.0751 - val_accuracy: 0.4002\n",
      "Epoch 8/100\n",
      "8229/8229 [==============================] - 3s 313us/step - loss: 1.0749 - accuracy: 0.4005 - val_loss: 1.0764 - val_accuracy: 0.3930\n",
      "Epoch 9/100\n",
      "8229/8229 [==============================] - 2s 293us/step - loss: 1.0725 - accuracy: 0.3992 - val_loss: 1.0761 - val_accuracy: 0.3930\n",
      "Epoch 10/100\n",
      "8229/8229 [==============================] - 2s 296us/step - loss: 1.0702 - accuracy: 0.4020 - val_loss: 1.0778 - val_accuracy: 0.3869\n",
      "Epoch 11/100\n",
      "8229/8229 [==============================] - 2s 291us/step - loss: 1.0751 - accuracy: 0.4048 - val_loss: 1.0775 - val_accuracy: 0.3995\n",
      "Epoch 12/100\n",
      "8229/8229 [==============================] - 2s 298us/step - loss: 1.0736 - accuracy: 0.4087 - val_loss: 1.0771 - val_accuracy: 0.3897\n",
      "Epoch 13/100\n",
      "8229/8229 [==============================] - 2s 297us/step - loss: 1.0679 - accuracy: 0.4050 - val_loss: 1.0792 - val_accuracy: 0.3930\n",
      "Epoch 14/100\n",
      "8229/8229 [==============================] - 2s 293us/step - loss: 1.0708 - accuracy: 0.4075 - val_loss: 1.0792 - val_accuracy: 0.3998\n",
      "Epoch 15/100\n",
      "8229/8229 [==============================] - 2s 293us/step - loss: 1.0711 - accuracy: 0.4050 - val_loss: 1.0773 - val_accuracy: 0.4002\n",
      "Epoch 16/100\n",
      "8229/8229 [==============================] - 2s 295us/step - loss: 1.0699 - accuracy: 0.4115 - val_loss: 1.0781 - val_accuracy: 0.3962\n",
      "Epoch 17/100\n",
      "8229/8229 [==============================] - 2s 294us/step - loss: 1.0691 - accuracy: 0.4154 - val_loss: 1.0777 - val_accuracy: 0.4023\n",
      "Epoch 18/100\n",
      "8229/8229 [==============================] - 2s 295us/step - loss: 1.0707 - accuracy: 0.4129 - val_loss: 1.0809 - val_accuracy: 0.3974\n",
      "Epoch 19/100\n",
      "8229/8229 [==============================] - 2s 295us/step - loss: 1.0688 - accuracy: 0.4138 - val_loss: 1.0788 - val_accuracy: 0.4038\n",
      "Epoch 20/100\n",
      "8229/8229 [==============================] - 3s 312us/step - loss: 1.0655 - accuracy: 0.4099 - val_loss: 1.0802 - val_accuracy: 0.4080\n",
      "Epoch 21/100\n",
      "8229/8229 [==============================] - 2s 299us/step - loss: 1.0663 - accuracy: 0.4114 - val_loss: 1.0817 - val_accuracy: 0.3998\n",
      "Epoch 22/100\n",
      "8229/8229 [==============================] - 3s 311us/step - loss: 1.0647 - accuracy: 0.4156 - val_loss: 1.0802 - val_accuracy: 0.3970\n",
      "Epoch 23/100\n",
      "8229/8229 [==============================] - 2s 297us/step - loss: 1.0631 - accuracy: 0.4218 - val_loss: 1.0798 - val_accuracy: 0.4012\n",
      "Epoch 24/100\n",
      "8229/8229 [==============================] - 2s 296us/step - loss: 1.0657 - accuracy: 0.4093 - val_loss: 1.0816 - val_accuracy: 0.4038\n",
      "Epoch 25/100\n",
      "8229/8229 [==============================] - 2s 298us/step - loss: 1.0609 - accuracy: 0.4203 - val_loss: 1.0811 - val_accuracy: 0.4023\n",
      "Epoch 26/100\n",
      "8229/8229 [==============================] - 2s 295us/step - loss: 1.0605 - accuracy: 0.4233 - val_loss: 1.0792 - val_accuracy: 0.4005\n",
      "Epoch 27/100\n",
      "8229/8229 [==============================] - 2s 300us/step - loss: 1.0597 - accuracy: 0.4252 - val_loss: 1.0862 - val_accuracy: 0.4005\n",
      "Epoch 28/100\n",
      "8229/8229 [==============================] - 2s 293us/step - loss: 1.0591 - accuracy: 0.4265 - val_loss: 1.0840 - val_accuracy: 0.4019\n",
      "Epoch 29/100\n",
      "8229/8229 [==============================] - 2s 297us/step - loss: 1.0600 - accuracy: 0.4290 - val_loss: 1.0877 - val_accuracy: 0.4009\n",
      "Epoch 30/100\n",
      "8229/8229 [==============================] - 2s 296us/step - loss: 1.0588 - accuracy: 0.4178 - val_loss: 1.0892 - val_accuracy: 0.3984\n",
      "Epoch 31/100\n",
      "8229/8229 [==============================] - 2s 296us/step - loss: 1.0596 - accuracy: 0.4237 - val_loss: 1.0933 - val_accuracy: 0.3977\n",
      "Epoch 32/100\n",
      "8229/8229 [==============================] - 2s 296us/step - loss: 1.0576 - accuracy: 0.4208 - val_loss: 1.0936 - val_accuracy: 0.3998\n",
      "Epoch 33/100\n",
      "8229/8229 [==============================] - 2s 297us/step - loss: 1.0574 - accuracy: 0.4225 - val_loss: 1.0893 - val_accuracy: 0.4005\n",
      "Epoch 34/100\n",
      "8229/8229 [==============================] - 2s 293us/step - loss: 1.0563 - accuracy: 0.4258 - val_loss: 1.0879 - val_accuracy: 0.4000\n",
      "Epoch 35/100\n",
      "8229/8229 [==============================] - 2s 296us/step - loss: 1.0543 - accuracy: 0.4313 - val_loss: 1.0873 - val_accuracy: 0.4038\n",
      "Epoch 36/100\n",
      "8229/8229 [==============================] - 2s 297us/step - loss: 1.0592 - accuracy: 0.4184 - val_loss: 1.0883 - val_accuracy: 0.3918\n",
      "Epoch 37/100\n",
      "8229/8229 [==============================] - 2s 297us/step - loss: 1.0541 - accuracy: 0.4237 - val_loss: 1.0904 - val_accuracy: 0.3986\n",
      "Epoch 38/100\n",
      "8229/8229 [==============================] - 2s 296us/step - loss: 1.0558 - accuracy: 0.4274 - val_loss: 1.0884 - val_accuracy: 0.3984\n",
      "Epoch 39/100\n",
      "8229/8229 [==============================] - 2s 300us/step - loss: 1.0535 - accuracy: 0.4312 - val_loss: 1.0869 - val_accuracy: 0.3955\n",
      "Epoch 40/100\n",
      "8229/8229 [==============================] - 2s 293us/step - loss: 1.0559 - accuracy: 0.4287 - val_loss: 1.0886 - val_accuracy: 0.3965\n",
      "Epoch 41/100\n",
      "8229/8229 [==============================] - 2s 294us/step - loss: 1.0520 - accuracy: 0.4295 - val_loss: 1.0860 - val_accuracy: 0.3970\n",
      "Epoch 42/100\n",
      "8229/8229 [==============================] - 2s 298us/step - loss: 1.0506 - accuracy: 0.4308 - val_loss: 1.0927 - val_accuracy: 0.3944\n",
      "Epoch 43/100\n",
      "8229/8229 [==============================] - 2s 296us/step - loss: 1.0503 - accuracy: 0.4324 - val_loss: 1.0855 - val_accuracy: 0.3927\n",
      "Epoch 44/100\n",
      "8229/8229 [==============================] - 2s 295us/step - loss: 1.0510 - accuracy: 0.4262 - val_loss: 1.0876 - val_accuracy: 0.3955\n",
      "Epoch 45/100\n",
      "8229/8229 [==============================] - 2s 300us/step - loss: 1.0517 - accuracy: 0.4261 - val_loss: 1.0872 - val_accuracy: 0.3960\n",
      "Epoch 46/100\n",
      "8229/8229 [==============================] - 2s 297us/step - loss: 1.0467 - accuracy: 0.4369 - val_loss: 1.0983 - val_accuracy: 0.3906\n",
      "Epoch 47/100\n",
      "8229/8229 [==============================] - 2s 296us/step - loss: 1.0493 - accuracy: 0.4337 - val_loss: 1.0885 - val_accuracy: 0.3925\n",
      "Epoch 48/100\n",
      "8229/8229 [==============================] - 2s 297us/step - loss: 1.0478 - accuracy: 0.4303 - val_loss: 1.0986 - val_accuracy: 0.3977\n",
      "Epoch 49/100\n",
      "8229/8229 [==============================] - 2s 298us/step - loss: 1.0472 - accuracy: 0.4337 - val_loss: 1.0956 - val_accuracy: 0.3930\n",
      "Epoch 50/100\n",
      "8229/8229 [==============================] - 2s 300us/step - loss: 1.0460 - accuracy: 0.4367 - val_loss: 1.0924 - val_accuracy: 0.3977\n",
      "Epoch 51/100\n",
      "8229/8229 [==============================] - 2s 297us/step - loss: 1.0480 - accuracy: 0.4312 - val_loss: 1.0922 - val_accuracy: 0.3939\n",
      "Epoch 52/100\n",
      "8229/8229 [==============================] - 2s 301us/step - loss: 1.0463 - accuracy: 0.4315 - val_loss: 1.0936 - val_accuracy: 0.3951\n",
      "Epoch 53/100\n",
      "8229/8229 [==============================] - 2s 297us/step - loss: 1.0456 - accuracy: 0.4338 - val_loss: 1.0913 - val_accuracy: 0.3972\n",
      "Epoch 54/100\n",
      "8229/8229 [==============================] - 2s 293us/step - loss: 1.0490 - accuracy: 0.4348 - val_loss: 1.0932 - val_accuracy: 0.3927\n",
      "Epoch 55/100\n",
      "8229/8229 [==============================] - 2s 294us/step - loss: 1.0437 - accuracy: 0.4338 - val_loss: 1.1069 - val_accuracy: 0.3899\n",
      "Epoch 56/100\n",
      "8229/8229 [==============================] - 2s 293us/step - loss: 1.0428 - accuracy: 0.4372 - val_loss: 1.0997 - val_accuracy: 0.3916\n",
      "Epoch 57/100\n",
      "8229/8229 [==============================] - 2s 294us/step - loss: 1.0363 - accuracy: 0.4389 - val_loss: 1.0993 - val_accuracy: 0.3834\n",
      "Epoch 58/100\n",
      "8229/8229 [==============================] - 2s 297us/step - loss: 1.0433 - accuracy: 0.4312 - val_loss: 1.0991 - val_accuracy: 0.3970\n",
      "Epoch 59/100\n",
      "8229/8229 [==============================] - 2s 295us/step - loss: 1.0440 - accuracy: 0.4388 - val_loss: 1.0936 - val_accuracy: 0.3951\n",
      "Epoch 60/100\n",
      "8229/8229 [==============================] - 2s 297us/step - loss: 1.0422 - accuracy: 0.4340 - val_loss: 1.0970 - val_accuracy: 0.3878\n",
      "Epoch 61/100\n",
      "8229/8229 [==============================] - 2s 300us/step - loss: 1.0419 - accuracy: 0.4427 - val_loss: 1.0952 - val_accuracy: 0.3878\n",
      "Epoch 62/100\n",
      "8229/8229 [==============================] - 2s 296us/step - loss: 1.0390 - accuracy: 0.4432 - val_loss: 1.1034 - val_accuracy: 0.3894\n",
      "Epoch 63/100\n",
      "8229/8229 [==============================] - 2s 295us/step - loss: 1.0393 - accuracy: 0.4460 - val_loss: 1.1092 - val_accuracy: 0.3925\n",
      "Epoch 64/100\n",
      "8229/8229 [==============================] - 2s 293us/step - loss: 1.0395 - accuracy: 0.4393 - val_loss: 1.1013 - val_accuracy: 0.3934\n",
      "Epoch 65/100\n",
      "8229/8229 [==============================] - 2s 293us/step - loss: 1.0390 - accuracy: 0.4384 - val_loss: 1.0986 - val_accuracy: 0.3913\n",
      "Epoch 66/100\n",
      "8229/8229 [==============================] - 2s 293us/step - loss: 1.0399 - accuracy: 0.4397 - val_loss: 1.0985 - val_accuracy: 0.3887\n",
      "Epoch 67/100\n",
      "8229/8229 [==============================] - 2s 296us/step - loss: 1.0374 - accuracy: 0.4453 - val_loss: 1.1116 - val_accuracy: 0.3894\n",
      "Epoch 68/100\n",
      "8229/8229 [==============================] - 3s 313us/step - loss: 1.0331 - accuracy: 0.4409 - val_loss: 1.1032 - val_accuracy: 0.3948\n",
      "Epoch 69/100\n",
      "8229/8229 [==============================] - 2s 296us/step - loss: 1.0360 - accuracy: 0.4436 - val_loss: 1.1123 - val_accuracy: 0.3892\n",
      "Epoch 70/100\n",
      "8229/8229 [==============================] - 2s 299us/step - loss: 1.0324 - accuracy: 0.4491 - val_loss: 1.1170 - val_accuracy: 0.3906\n",
      "Epoch 71/100\n",
      "8229/8229 [==============================] - 2s 298us/step - loss: 1.0361 - accuracy: 0.4479 - val_loss: 1.1125 - val_accuracy: 0.3876\n",
      "Epoch 72/100\n",
      "8229/8229 [==============================] - 2s 299us/step - loss: 1.0314 - accuracy: 0.4451 - val_loss: 1.1127 - val_accuracy: 0.3843\n",
      "Epoch 73/100\n",
      "8229/8229 [==============================] - 2s 296us/step - loss: 1.0330 - accuracy: 0.4557 - val_loss: 1.1084 - val_accuracy: 0.3948\n",
      "Epoch 74/100\n",
      "8229/8229 [==============================] - 3s 305us/step - loss: 1.0297 - accuracy: 0.4536 - val_loss: 1.1070 - val_accuracy: 0.3852\n",
      "Epoch 75/100\n",
      "8229/8229 [==============================] - 2s 303us/step - loss: 1.0357 - accuracy: 0.4483 - val_loss: 1.1154 - val_accuracy: 0.3873\n",
      "Epoch 76/100\n",
      "8229/8229 [==============================] - 2s 297us/step - loss: 1.0263 - accuracy: 0.4555 - val_loss: 1.1139 - val_accuracy: 0.3981\n",
      "Epoch 77/100\n",
      "8229/8229 [==============================] - 2s 297us/step - loss: 1.0323 - accuracy: 0.4508 - val_loss: 1.1175 - val_accuracy: 0.3852\n",
      "Epoch 78/100\n",
      "8229/8229 [==============================] - 2s 298us/step - loss: 1.0272 - accuracy: 0.4538 - val_loss: 1.1124 - val_accuracy: 0.3880\n",
      "Epoch 79/100\n",
      "8229/8229 [==============================] - 2s 295us/step - loss: 1.0277 - accuracy: 0.4545 - val_loss: 1.1210 - val_accuracy: 0.3812\n",
      "Epoch 80/100\n",
      "8229/8229 [==============================] - 2s 293us/step - loss: 1.0334 - accuracy: 0.4525 - val_loss: 1.1063 - val_accuracy: 0.3869\n",
      "Epoch 81/100\n",
      "8229/8229 [==============================] - 2s 297us/step - loss: 1.0308 - accuracy: 0.4480 - val_loss: 1.1150 - val_accuracy: 0.3848\n",
      "Epoch 82/100\n",
      "8229/8229 [==============================] - 2s 299us/step - loss: 1.0297 - accuracy: 0.4561 - val_loss: 1.1211 - val_accuracy: 0.3871\n",
      "Epoch 83/100\n",
      "8229/8229 [==============================] - 2s 298us/step - loss: 1.0271 - accuracy: 0.4547 - val_loss: 1.1154 - val_accuracy: 0.3934\n",
      "Epoch 84/100\n",
      "8229/8229 [==============================] - 3s 307us/step - loss: 1.0273 - accuracy: 0.4506 - val_loss: 1.1147 - val_accuracy: 0.3897\n",
      "Epoch 85/100\n",
      "8229/8229 [==============================] - 2s 299us/step - loss: 1.0274 - accuracy: 0.4558 - val_loss: 1.1201 - val_accuracy: 0.3873\n",
      "Epoch 86/100\n",
      "8229/8229 [==============================] - 2s 294us/step - loss: 1.0251 - accuracy: 0.4611 - val_loss: 1.1167 - val_accuracy: 0.3899\n",
      "Epoch 87/100\n",
      "8229/8229 [==============================] - 2s 300us/step - loss: 1.0253 - accuracy: 0.4612 - val_loss: 1.1068 - val_accuracy: 0.3932\n",
      "Epoch 88/100\n",
      "8229/8229 [==============================] - 2s 295us/step - loss: 1.0224 - accuracy: 0.4657 - val_loss: 1.1118 - val_accuracy: 0.3923\n",
      "Epoch 89/100\n",
      "8229/8229 [==============================] - 2s 294us/step - loss: 1.0226 - accuracy: 0.4564 - val_loss: 1.1346 - val_accuracy: 0.3934\n",
      "Epoch 90/100\n",
      "8229/8229 [==============================] - 2s 297us/step - loss: 1.0263 - accuracy: 0.4603 - val_loss: 1.1197 - val_accuracy: 0.3909\n",
      "Epoch 91/100\n",
      "8229/8229 [==============================] - 2s 294us/step - loss: 1.0231 - accuracy: 0.4646 - val_loss: 1.1152 - val_accuracy: 0.3798\n",
      "Epoch 92/100\n",
      "8229/8229 [==============================] - 2s 299us/step - loss: 1.0216 - accuracy: 0.4606 - val_loss: 1.1254 - val_accuracy: 0.3960\n",
      "Epoch 93/100\n",
      "8229/8229 [==============================] - 2s 297us/step - loss: 1.0194 - accuracy: 0.4581 - val_loss: 1.1193 - val_accuracy: 0.3948\n",
      "Epoch 94/100\n",
      "8229/8229 [==============================] - 2s 299us/step - loss: 1.0216 - accuracy: 0.4507 - val_loss: 1.1302 - val_accuracy: 0.3909\n",
      "Epoch 95/100\n",
      "8229/8229 [==============================] - 2s 296us/step - loss: 1.0185 - accuracy: 0.4614 - val_loss: 1.1367 - val_accuracy: 0.3918\n",
      "Epoch 96/100\n",
      "8229/8229 [==============================] - 2s 295us/step - loss: 1.0214 - accuracy: 0.4631 - val_loss: 1.1268 - val_accuracy: 0.3864\n",
      "Epoch 97/100\n",
      "8229/8229 [==============================] - 2s 297us/step - loss: 1.0113 - accuracy: 0.4646 - val_loss: 1.1313 - val_accuracy: 0.3920\n",
      "Epoch 98/100\n",
      "8229/8229 [==============================] - 2s 293us/step - loss: 1.0162 - accuracy: 0.4613 - val_loss: 1.1413 - val_accuracy: 0.3955\n",
      "Epoch 99/100\n",
      "8229/8229 [==============================] - 2s 297us/step - loss: 1.0192 - accuracy: 0.4608 - val_loss: 1.1225 - val_accuracy: 0.3944\n",
      "Epoch 100/100\n",
      "8229/8229 [==============================] - 2s 297us/step - loss: 1.0155 - accuracy: 0.4638 - val_loss: 1.1246 - val_accuracy: 0.3897\n",
      "[Model] Training Completed.\n",
      "Model saved as saved_models\\prototipo_ciclo1_multiclass_jupyter.h5\n",
      "Time taken: 0:04:14.959103\n"
     ]
    }
   ],
   "source": [
    "timer = Timer()\n",
    "timer.start()\n",
    "print('[Model] Training Started')\n",
    "\n",
    "save_dir=configs['model']['save_dir']\n",
    "my_model=configs['model']['model_name']\n",
    "save_fname = os.path.join(save_dir, '%s_DNN.h5' % my_model)\n",
    "\n",
    "batch_size=configs['training']['batch_size']\n",
    "\n",
    "callbacks = [ ModelCheckpoint(filepath=save_fname, monitor='loss', save_best_only=True)]\n",
    "\n",
    "y_train_enc = encode_categ_data(y_train)\n",
    "y_valid_enc = encode_categ_data(y_valid)\n",
    "H = model_dnn.fit( x_train, y_train_enc, validation_data=(x_valid, y_valid_enc), epochs=100, \n",
    "               callbacks=callbacks, workers=1 )\n",
    "\n",
    "model_dnn.save(save_fname)\n",
    "\n",
    "print('[Model] Training Completed.')\n",
    "print('Model saved as %s' % save_fname)\n",
    "\n",
    "timer.stop()"
   ]
  },
  {
   "cell_type": "code",
   "execution_count": 48,
   "metadata": {},
   "outputs": [
    {
     "data": {
      "text/plain": [
       "array([[0.259054  , 0.40467232, 0.33627367],\n",
       "       [0.26514795, 0.39152062, 0.34333146],\n",
       "       [0.28698224, 0.36960003, 0.34341773],\n",
       "       ...,\n",
       "       [0.363176  , 0.26554716, 0.3712769 ],\n",
       "       [0.3432818 , 0.30361313, 0.35310507],\n",
       "       [0.48000744, 0.21138705, 0.30860558]], dtype=float32)"
      ]
     },
     "execution_count": 48,
     "metadata": {},
     "output_type": "execute_result"
    }
   ],
   "source": [
    "# new instances where we do not know the answer\n",
    "y_pred = model_dnn.predict(x_test) \n",
    "y_pred"
   ]
  },
  {
   "cell_type": "code",
   "execution_count": 49,
   "metadata": {},
   "outputs": [
    {
     "name": "stdout",
     "output_type": "stream",
     "text": [
      "dict_keys(['val_loss', 'val_accuracy', 'loss', 'accuracy'])\n"
     ]
    },
    {
     "data": {
      "image/png": "[encoded data removed]",
      "text/plain": [
       "<Figure size 432x288 with 1 Axes>"
      ]
     },
     "metadata": {
      "needs_background": "light"
     },
     "output_type": "display_data"
    },
    {
     "data": {
      "image/png": "[encoded data removed]",
      "text/plain": [
       "<Figure size 432x288 with 1 Axes>"
      ]
     },
     "metadata": {
      "needs_background": "light"
     },
     "output_type": "display_data"
    }
   ],
   "source": [
    "# list all data in history       \n",
    "print(H.history.keys())\n",
    "# summarize history for accuracy\n",
    "plt.plot(H.history['accuracy'])\n",
    "plt.plot(H.history['val_accuracy'])\n",
    "plt.title('model accuracy')\n",
    "plt.ylabel('accuracy')\n",
    "plt.xlabel('epoch')\n",
    "plt.legend(['accuracy', 'val_accuracy'], loc='upper left')\n",
    "fig_path = 'accuracy_history.png'\n",
    "plt.savefig(fig_path)     \n",
    "plt.show()\n",
    "\n",
    "# summarize history for loss\n",
    "plt.plot(H.history['loss'])\n",
    "plt.plot(H.history['val_loss'])\n",
    "plt.title('model loss')\n",
    "plt.ylabel('loss')\n",
    "plt.xlabel('epoch')\n",
    "plt.legend(['loss', 'val_loss'], loc='upper left')\n",
    "fig_path = 'loss_history.png'\n",
    "plt.savefig(fig_path) \n",
    "plt.show()"
   ]
  },
  {
   "cell_type": "code",
   "execution_count": 50,
   "metadata": {},
   "outputs": [],
   "source": [
    "# BUY | SELL | HOLD\n",
    "\n",
    "labels = ['BUY', 'HOLD', 'SELL'] \n",
    "\n",
    "pred = []\n",
    "for i in y_pred:\n",
    "    pred.append(np.argmax(i))\n",
    "pred_array = np.array(pred)       \n",
    "\n",
    "real = []\n",
    "y_test_enc = encode_categ_data(y_test)\n",
    "for i in y_test_enc:\n",
    "    real.append(np.argmax(i))\n",
    "real_array = np.array(real)    "
   ]
  },
  {
   "cell_type": "code",
   "execution_count": 51,
   "metadata": {},
   "outputs": [
    {
     "name": "stdout",
     "output_type": "stream",
     "text": [
      "[[0.32667026 0.32729664 0.34603307]\n",
      " [0.27551067 0.37174988 0.35273945]\n",
      " [0.31503218 0.3404211  0.3445467 ]\n",
      " [0.30419546 0.3527284  0.34307614]\n",
      " [0.34433877 0.30750242 0.3481588 ]\n",
      " [0.3383563  0.3121173  0.34952644]\n",
      " [0.3613174  0.27064362 0.36803898]\n",
      " [0.2819409  0.37929946 0.3387597 ]\n",
      " [0.27345133 0.3867648  0.33978388]\n",
      " [0.31885606 0.3427088  0.33843508]]\n",
      "[[1. 0. 0.]\n",
      " [1. 0. 0.]\n",
      " [1. 0. 0.]\n",
      " [0. 1. 0.]\n",
      " [0. 0. 1.]\n",
      " [0. 1. 0.]\n",
      " [1. 0. 0.]\n",
      " [0. 1. 0.]\n",
      " [1. 0. 0.]\n",
      " [1. 0. 0.]]\n"
     ]
    }
   ],
   "source": [
    "print(y_pred[10:20])\n",
    "print(y_test_enc[10:20])"
   ]
  },
  {
   "cell_type": "code",
   "execution_count": 52,
   "metadata": {},
   "outputs": [
    {
     "name": "stdout",
     "output_type": "stream",
     "text": [
      "[2 1 2 1 2 2 2 1 1 1]\n",
      "[0 0 0 1 2 1 0 1 0 0]\n"
     ]
    }
   ],
   "source": [
    "print(pred_array[10:20])\n",
    "print(real_array[10:20])"
   ]
  },
  {
   "cell_type": "code",
   "execution_count": 53,
   "metadata": {},
   "outputs": [
    {
     "name": "stdout",
     "output_type": "stream",
     "text": [
      "Accuracy Score - DL:  0.401190704820434\n"
     ]
    }
   ],
   "source": [
    "accuracy_score_DNN = accuracy_score(real_array, pred_array)\n",
    "print('Accuracy Score - DL: ', accuracy_score_DNN)"
   ]
  },
  {
   "cell_type": "code",
   "execution_count": 54,
   "metadata": {},
   "outputs": [
    {
     "name": "stdout",
     "output_type": "stream",
     "text": [
      "              precision    recall  f1-score   support\n",
      "\n",
      "           0       0.40      0.20      0.27      1746\n",
      "           1       0.45      0.48      0.46      1757\n",
      "           2       0.37      0.53      0.43      1704\n",
      "\n",
      "    accuracy                           0.40      5207\n",
      "   macro avg       0.40      0.40      0.39      5207\n",
      "weighted avg       0.40      0.40      0.39      5207\n",
      "\n"
     ]
    }
   ],
   "source": [
    "print(classification_report(real_array, pred_array))"
   ]
  },
  {
   "cell_type": "code",
   "execution_count": 55,
   "metadata": {},
   "outputs": [
    {
     "data": {
      "text/plain": [
       "array([[357, 531, 858],\n",
       "       [235, 836, 686],\n",
       "       [310, 498, 896]], dtype=int64)"
      ]
     },
     "execution_count": 55,
     "metadata": {},
     "output_type": "execute_result"
    }
   ],
   "source": [
    "from sklearn.metrics import confusion_matrix\n",
    "confusion_matrix = confusion_matrix(real_array, pred_array)\n",
    "confusion_matrix"
   ]
  },
  {
   "cell_type": "code",
   "execution_count": 56,
   "metadata": {},
   "outputs": [
    {
     "data": {
      "text/plain": [
       "0.5981028339507775"
      ]
     },
     "execution_count": 56,
     "metadata": {},
     "output_type": "execute_result"
    }
   ],
   "source": [
    "weightedFScore_DNN = weightedFScore(confusion_matrix)[0] \n",
    "weightedFScore_DNN"
   ]
  },
  {
   "cell_type": "code",
   "execution_count": 57,
   "metadata": {},
   "outputs": [
    {
     "data": {
      "text/plain": [
       "<AxesSubplot:>"
      ]
     },
     "execution_count": 57,
     "metadata": {},
     "output_type": "execute_result"
    },
    {
     "data": {
      "image/png": "[encoded data removed]",
      "text/plain": [
       "<Figure size 432x288 with 2 Axes>"
      ]
     },
     "metadata": {
      "needs_background": "light"
     },
     "output_type": "display_data"
    }
   ],
   "source": [
    "# visualize confusion matrix with seaborn heatmap\n",
    "cm_matrix_DNN = pd.DataFrame(data=confusion_matrix,\n",
    "                        columns=['BUY_P', 'HOLD_P', 'SELL_P'], \n",
    "                        index=['BUY_R', 'HOLD_R', 'SELL_R'])\n",
    "\n",
    "sns.heatmap(cm_matrix_DNN, annot=True, fmt='d', cmap='YlGnBu')"
   ]
  },
  {
   "cell_type": "code",
   "execution_count": 58,
   "metadata": {
    "scrolled": true
   },
   "outputs": [
    {
     "name": "stdout",
     "output_type": "stream",
     "text": [
      "Training-set accuracy score: 0.4990\n"
     ]
    }
   ],
   "source": [
    "y_pred_train = model_dnn.predict(x_train)\n",
    "\n",
    "labels = ['BUY', 'HOLD', 'SELL'] \n",
    "\n",
    "pred = []\n",
    "for i in y_pred_train:\n",
    "    pred.append(np.argmax(i))\n",
    "pred_array = np.array(pred)       \n",
    "\n",
    "real = []\n",
    "for i in y_train_enc:\n",
    "    real.append(np.argmax(i))\n",
    "real_array = np.array(real)    \n",
    "\n",
    "print('Training-set accuracy score: {0:0.4f}'. format(accuracy_score(real_array, pred_array)))"
   ]
  },
  {
   "cell_type": "code",
   "execution_count": null,
   "metadata": {},
   "outputs": [],
   "source": []
  },
  {
   "cell_type": "markdown",
   "metadata": {},
   "source": [
    "# LSTM"
   ]
  },
  {
   "cell_type": "code",
   "execution_count": null,
   "metadata": {},
   "outputs": [],
   "source": []
  },
  {
   "cell_type": "code",
   "execution_count": 39,
   "metadata": {
    "scrolled": true
   },
   "outputs": [
    {
     "name": "stdout",
     "output_type": "stream",
     "text": [
      "[model] Model Compiled\n",
      "Model: \"sequential_2\"\n",
      "_________________________________________________________________\n",
      "Layer (type)                 Output Shape              Param #   \n",
      "=================================================================\n",
      "lstm_5 (LSTM)                (None, 50, 200)           207200    \n",
      "_________________________________________________________________\n",
      "dropout_5 (Dropout)          (None, 50, 200)           0         \n",
      "_________________________________________________________________\n",
      "lstm_6 (LSTM)                (None, 50, 150)           210600    \n",
      "_________________________________________________________________\n",
      "dropout_6 (Dropout)          (None, 50, 150)           0         \n",
      "_________________________________________________________________\n",
      "lstm_7 (LSTM)                (None, 50, 100)           100400    \n",
      "_________________________________________________________________\n",
      "dropout_7 (Dropout)          (None, 50, 100)           0         \n",
      "_________________________________________________________________\n",
      "lstm_8 (LSTM)                (None, 50)                30200     \n",
      "_________________________________________________________________\n",
      "dropout_8 (Dropout)          (None, 50)                0         \n",
      "_________________________________________________________________\n",
      "dense_2 (Dense)              (None, 3)                 153       \n",
      "=================================================================\n",
      "Total params: 548,553\n",
      "Trainable params: 548,553\n",
      "Non-trainable params: 0\n",
      "_________________________________________________________________\n",
      "None\n",
      "Time taken: 0:00:01.275028\n"
     ]
    }
   ],
   "source": [
    "# define and fit the final model\n",
    "timer = Timer()\n",
    "timer.start()\n",
    "timesteps = configs['dataset']['sequence_length']\n",
    "\n",
    "model_lstm = Sequential()\n",
    "\n",
    "model_lstm.add(LSTM(200, input_shape=(timesteps, dim), return_sequences=True))\n",
    "model_lstm.add(Dropout(0.1))\n",
    "model_lstm.add(LSTM(150, input_shape=(timesteps, dim), return_sequences=True))\n",
    "model_lstm.add(Dropout(0.2))\n",
    "model_lstm.add(LSTM(100, input_shape=(timesteps, dim), return_sequences=True))\n",
    "model_lstm.add(Dropout(0.2))\n",
    "model_lstm.add(LSTM(50, input_shape=(timesteps, dim), return_sequences=False))\n",
    "model_lstm.add(Dropout(0.1))\n",
    "model_lstm.add(Dense(3, activation='softmax'))\n",
    "\n",
    "model_lstm.compile(loss='categorical_crossentropy', optimizer='adam', metrics=['accuracy'])\n",
    "\n",
    "print('[model] Model Compiled')\n",
    "print(model_lstm.summary())\n",
    "timer.stop()\n"
   ]
  },
  {
   "cell_type": "code",
   "execution_count": 40,
   "metadata": {
    "scrolled": true
   },
   "outputs": [
    {
     "name": "stdout",
     "output_type": "stream",
     "text": [
      "[Model] Training Started\n",
      "['HOLD' 'BUY' 'BUY' 'HOLD' 'HOLD' 'HOLD' 'HOLD' 'SELL' 'HOLD' 'HOLD']\n",
      "[[0. 1. 0.]\n",
      " [1. 0. 0.]\n",
      " [1. 0. 0.]\n",
      " [0. 1. 0.]\n",
      " [0. 1. 0.]\n",
      " [0. 1. 0.]\n",
      " [0. 1. 0.]\n",
      " [0. 0. 1.]\n",
      " [0. 1. 0.]\n",
      " [0. 1. 0.]]\n",
      "['BUY' 'BUY' 'BUY' 'HOLD' 'HOLD' 'HOLD' 'HOLD' 'HOLD' 'HOLD' 'HOLD']\n",
      "[[1. 0. 0.]\n",
      " [1. 0. 0.]\n",
      " [1. 0. 0.]\n",
      " [0. 1. 0.]\n",
      " [0. 1. 0.]\n",
      " [0. 1. 0.]\n",
      " [0. 1. 0.]\n",
      " [0. 1. 0.]\n",
      " [0. 1. 0.]\n",
      " [0. 1. 0.]]\n",
      "Train on 7907 samples, validate on 4237 samples\n",
      "Epoch 1/5\n",
      "7907/7907 [==============================] - 37s 5ms/step - loss: 0.9444 - accuracy: 0.6098 - val_loss: 1.0437 - val_accuracy: 0.5228\n",
      "Epoch 2/5\n",
      "7907/7907 [==============================] - 33s 4ms/step - loss: 0.9311 - accuracy: 0.6157 - val_loss: 1.0434 - val_accuracy: 0.5228\n",
      "Epoch 3/5\n",
      "7907/7907 [==============================] - 33s 4ms/step - loss: 0.9287 - accuracy: 0.6154 - val_loss: 1.0433 - val_accuracy: 0.5225\n",
      "Epoch 4/5\n",
      "7907/7907 [==============================] - 33s 4ms/step - loss: 0.9249 - accuracy: 0.6140 - val_loss: 1.0366 - val_accuracy: 0.5228\n",
      "Epoch 5/5\n",
      "7907/7907 [==============================] - 33s 4ms/step - loss: 0.9147 - accuracy: 0.6170 - val_loss: 1.0472 - val_accuracy: 0.5188\n",
      "[Model] Training Completed.\n",
      "Model saved as saved_models\\prototipo_ciclo1_multiclass_jupyter_LSTM_activTanh.h5\n",
      "Time taken: 0:02:55.894134\n"
     ]
    }
   ],
   "source": [
    "timer = Timer()\n",
    "timer.start()\n",
    "print('[Model] Training Started')\n",
    "\n",
    "save_dir=configs['model']['save_dir']\n",
    "my_model=configs['model']['model_name']\n",
    "save_fname = os.path.join(save_dir, '%s_LSTM_activTanh.h5' % my_model)\n",
    "\n",
    "batch_size=configs['training']['batch_size']\n",
    "\n",
    "callbacks = [ ModelCheckpoint(filepath=save_fname, monitor='loss', save_best_only=True)]\n",
    "\n",
    "y_train_sw_enc = encode_categ_data(y_train_sw)\n",
    "y_valid_sw_enc = encode_categ_data(y_valid_sw)\n",
    "H = model_lstm.fit( x_train_sw, y_train_sw_enc, validation_data=(x_valid_sw, y_valid_sw_enc), epochs=5, \n",
    "                    batch_size=batch_size, callbacks=callbacks, workers=1 )\n",
    "\n",
    "model_lstm.save(save_fname)\n",
    "\n",
    "print('[Model] Training Completed.')\n",
    "print('Model saved as %s' % save_fname)\n",
    "\n",
    "timer.stop()"
   ]
  },
  {
   "cell_type": "code",
   "execution_count": 41,
   "metadata": {},
   "outputs": [
    {
     "data": {
      "text/plain": [
       "array([[0.30150884, 0.4499587 , 0.24853249],\n",
       "       [0.2806711 , 0.46928084, 0.25004807],\n",
       "       [0.21571672, 0.53359514, 0.2506881 ],\n",
       "       ...,\n",
       "       [0.2602117 , 0.5830988 , 0.15668942],\n",
       "       [0.27707934, 0.5634354 , 0.15948528],\n",
       "       [0.291933  , 0.5275594 , 0.18050762]], dtype=float32)"
      ]
     },
     "execution_count": 41,
     "metadata": {},
     "output_type": "execute_result"
    }
   ],
   "source": [
    "# new instances where we do not know the answer\n",
    "y_pred = model_lstm.predict(x_test_sw) \n",
    "y_pred"
   ]
  },
  {
   "cell_type": "code",
   "execution_count": 42,
   "metadata": {},
   "outputs": [
    {
     "name": "stdout",
     "output_type": "stream",
     "text": [
      "dict_keys(['val_loss', 'val_accuracy', 'loss', 'accuracy'])\n"
     ]
    },
    {
     "data": {
      "image/png": "[encoded data removed]",
      "text/plain": [
       "<Figure size 432x288 with 1 Axes>"
      ]
     },
     "metadata": {
      "needs_background": "light"
     },
     "output_type": "display_data"
    },
    {
     "data": {
      "image/png": "[encoded data removed]",
      "text/plain": [
       "<Figure size 432x288 with 1 Axes>"
      ]
     },
     "metadata": {
      "needs_background": "light"
     },
     "output_type": "display_data"
    }
   ],
   "source": [
    "# list all data in history       \n",
    "print(H.history.keys())\n",
    "# summarize history for accuracy\n",
    "plt.plot(H.history['accuracy'])\n",
    "plt.plot(H.history['val_accuracy'])\n",
    "plt.title('model accuracy')\n",
    "plt.ylabel('accuracy')\n",
    "plt.xlabel('epoch')\n",
    "plt.legend(['accuracy', 'val_accuracy'], loc='upper left')\n",
    "fig_path = 'accuracy_history.png'\n",
    "plt.savefig(fig_path)     \n",
    "plt.show()\n",
    "\n",
    "# summarize history for loss\n",
    "plt.plot(H.history['loss'])\n",
    "plt.plot(H.history['val_loss'])\n",
    "plt.title('model loss')\n",
    "plt.ylabel('loss')\n",
    "plt.xlabel('epoch')\n",
    "plt.legend(['loss', 'val_loss'], loc='upper left')\n",
    "fig_path = 'loss_history.png'\n",
    "plt.savefig(fig_path) \n",
    "plt.show()"
   ]
  },
  {
   "cell_type": "code",
   "execution_count": 162,
   "metadata": {},
   "outputs": [],
   "source": [
    "# BUY | SELL | HOLD\n",
    "\n",
    "labels = ['BUY', 'HOLD', 'SELL'] \n",
    "\n",
    "pred = []\n",
    "for i in y_pred:\n",
    "    pred.append(np.argmax(i))\n",
    "pred_array = np.array(pred)       \n",
    "\n",
    "real = []\n",
    "y_test_sw_enc = encode_categ_data(y_test_sw)\n",
    "for i in y_test_sw_enc:\n",
    "    real.append(np.argmax(i))\n",
    "real_array = np.array(real)   "
   ]
  },
  {
   "cell_type": "code",
   "execution_count": 163,
   "metadata": {},
   "outputs": [
    {
     "name": "stdout",
     "output_type": "stream",
     "text": [
      "[[0.30150884 0.4499587  0.24853249]\n",
      " [0.2806711  0.46928084 0.25004807]\n",
      " [0.21571672 0.53359514 0.2506881 ]\n",
      " [0.1682213  0.5803378  0.2514409 ]\n",
      " [0.15152529 0.59882766 0.24964713]\n",
      " [0.14222588 0.61134434 0.2464298 ]\n",
      " [0.1364296  0.62271696 0.24085347]\n",
      " [0.13735151 0.6454683  0.21718015]\n",
      " [0.1433439  0.64197385 0.21468225]\n",
      " [0.15242647 0.6344103  0.21316321]]\n",
      "[1 1 1 1 1 1 1 1 1 1]\n"
     ]
    }
   ],
   "source": [
    "print(y_pred[0:10])\n",
    "print(pred_array[0:10])"
   ]
  },
  {
   "cell_type": "code",
   "execution_count": 164,
   "metadata": {
    "scrolled": true
   },
   "outputs": [
    {
     "name": "stdout",
     "output_type": "stream",
     "text": [
      "[[0. 0. 1.]\n",
      " [0. 1. 0.]\n",
      " [0. 1. 0.]\n",
      " [0. 1. 0.]\n",
      " [0. 1. 0.]\n",
      " [0. 0. 1.]\n",
      " [0. 1. 0.]\n",
      " [1. 0. 0.]\n",
      " [1. 0. 0.]\n",
      " [1. 0. 0.]]\n",
      "[2 1 1 1 1 2 1 0 0 0]\n"
     ]
    }
   ],
   "source": [
    "print(y_test_sw_enc[500:510])\n",
    "print(real_array[500:510])"
   ]
  },
  {
   "cell_type": "code",
   "execution_count": 165,
   "metadata": {},
   "outputs": [
    {
     "data": {
      "text/plain": [
       "(4444, 3)"
      ]
     },
     "execution_count": 165,
     "metadata": {},
     "output_type": "execute_result"
    }
   ],
   "source": [
    "y_pred.shape"
   ]
  },
  {
   "cell_type": "code",
   "execution_count": 166,
   "metadata": {},
   "outputs": [
    {
     "data": {
      "text/plain": [
       "(4444,)"
      ]
     },
     "execution_count": 166,
     "metadata": {},
     "output_type": "execute_result"
    }
   ],
   "source": [
    "pred_array.shape"
   ]
  },
  {
   "cell_type": "code",
   "execution_count": 167,
   "metadata": {},
   "outputs": [
    {
     "data": {
      "text/plain": [
       "(4444, 3)"
      ]
     },
     "execution_count": 167,
     "metadata": {},
     "output_type": "execute_result"
    }
   ],
   "source": [
    "y_test_sw_enc.shape"
   ]
  },
  {
   "cell_type": "code",
   "execution_count": 168,
   "metadata": {},
   "outputs": [
    {
     "data": {
      "text/plain": [
       "(4444,)"
      ]
     },
     "execution_count": 168,
     "metadata": {},
     "output_type": "execute_result"
    }
   ],
   "source": [
    "real_array.shape"
   ]
  },
  {
   "cell_type": "code",
   "execution_count": null,
   "metadata": {},
   "outputs": [],
   "source": []
  },
  {
   "cell_type": "code",
   "execution_count": null,
   "metadata": {},
   "outputs": [],
   "source": []
  },
  {
   "cell_type": "code",
   "execution_count": null,
   "metadata": {},
   "outputs": [],
   "source": []
  },
  {
   "cell_type": "code",
   "execution_count": null,
   "metadata": {},
   "outputs": [],
   "source": []
  },
  {
   "cell_type": "code",
   "execution_count": null,
   "metadata": {},
   "outputs": [],
   "source": []
  },
  {
   "cell_type": "code",
   "execution_count": 169,
   "metadata": {},
   "outputs": [
    {
     "name": "stdout",
     "output_type": "stream",
     "text": [
      "Accuracy Score - LSTM:  0.5117011701170117\n"
     ]
    }
   ],
   "source": [
    "accuracy_score_LSTM = accuracy_score(real_array, pred_array)\n",
    "print('Accuracy Score - LSTM: ', accuracy_score_LSTM)"
   ]
  },
  {
   "cell_type": "code",
   "execution_count": 170,
   "metadata": {},
   "outputs": [
    {
     "name": "stdout",
     "output_type": "stream",
     "text": [
      "              precision    recall  f1-score   support\n",
      "\n",
      "           0       0.21      0.01      0.02      1100\n",
      "           1       0.52      0.99      0.68      2286\n",
      "           2       0.00      0.00      0.00      1058\n",
      "\n",
      "    accuracy                           0.51      4444\n",
      "   macro avg       0.24      0.33      0.23      4444\n",
      "weighted avg       0.32      0.51      0.35      4444\n",
      "\n"
     ]
    }
   ],
   "source": [
    "print(classification_report(real_array, pred_array))"
   ]
  },
  {
   "cell_type": "code",
   "execution_count": 171,
   "metadata": {},
   "outputs": [
    {
     "data": {
      "text/plain": [
       "array([[   9, 1087,    4],\n",
       "       [  19, 2265,    2],\n",
       "       [  15, 1043,    0]], dtype=int64)"
      ]
     },
     "execution_count": 171,
     "metadata": {},
     "output_type": "execute_result"
    }
   ],
   "source": [
    "from sklearn.metrics import confusion_matrix\n",
    "confusion_matrix = confusion_matrix(real_array, pred_array)\n",
    "confusion_matrix"
   ]
  },
  {
   "cell_type": "code",
   "execution_count": 172,
   "metadata": {},
   "outputs": [
    {
     "data": {
      "text/plain": [
       "4402"
      ]
     },
     "execution_count": 172,
     "metadata": {},
     "output_type": "execute_result"
    }
   ],
   "source": [
    "real_array.sum()"
   ]
  },
  {
   "cell_type": "code",
   "execution_count": 173,
   "metadata": {},
   "outputs": [
    {
     "data": {
      "text/plain": [
       "4444"
      ]
     },
     "execution_count": 173,
     "metadata": {},
     "output_type": "execute_result"
    }
   ],
   "source": [
    "real_array.size"
   ]
  },
  {
   "cell_type": "code",
   "execution_count": 174,
   "metadata": {},
   "outputs": [
    {
     "data": {
      "text/plain": [
       "4407"
      ]
     },
     "execution_count": 174,
     "metadata": {},
     "output_type": "execute_result"
    }
   ],
   "source": [
    "pred_array.sum()"
   ]
  },
  {
   "cell_type": "code",
   "execution_count": 175,
   "metadata": {},
   "outputs": [
    {
     "data": {
      "text/plain": [
       "4444"
      ]
     },
     "execution_count": 175,
     "metadata": {},
     "output_type": "execute_result"
    }
   ],
   "source": [
    "pred_array.size"
   ]
  },
  {
   "cell_type": "code",
   "execution_count": null,
   "metadata": {},
   "outputs": [],
   "source": []
  },
  {
   "cell_type": "code",
   "execution_count": null,
   "metadata": {},
   "outputs": [],
   "source": []
  },
  {
   "cell_type": "code",
   "execution_count": null,
   "metadata": {},
   "outputs": [],
   "source": []
  },
  {
   "cell_type": "code",
   "execution_count": null,
   "metadata": {},
   "outputs": [],
   "source": []
  },
  {
   "cell_type": "code",
   "execution_count": null,
   "metadata": {},
   "outputs": [],
   "source": []
  },
  {
   "cell_type": "code",
   "execution_count": null,
   "metadata": {},
   "outputs": [],
   "source": []
  },
  {
   "cell_type": "code",
   "execution_count": null,
   "metadata": {},
   "outputs": [],
   "source": []
  },
  {
   "cell_type": "code",
   "execution_count": null,
   "metadata": {},
   "outputs": [],
   "source": []
  },
  {
   "cell_type": "code",
   "execution_count": null,
   "metadata": {},
   "outputs": [],
   "source": []
  },
  {
   "cell_type": "code",
   "execution_count": 49,
   "metadata": {},
   "outputs": [
    {
     "data": {
      "text/plain": [
       "0.2701878965459461"
      ]
     },
     "execution_count": 49,
     "metadata": {},
     "output_type": "execute_result"
    }
   ],
   "source": [
    "weightedFScore_LSTM = weightedFScore(confusion_matrix)[0] \n",
    "weightedFScore_LSTM"
   ]
  },
  {
   "cell_type": "code",
   "execution_count": 50,
   "metadata": {},
   "outputs": [
    {
     "data": {
      "text/plain": [
       "<AxesSubplot:>"
      ]
     },
     "execution_count": 50,
     "metadata": {},
     "output_type": "execute_result"
    },
    {
     "data": {
      "image/png": "[encoded data removed]",
      "text/plain": [
       "<Figure size 432x288 with 2 Axes>"
      ]
     },
     "metadata": {
      "needs_background": "light"
     },
     "output_type": "display_data"
    }
   ],
   "source": [
    "# visualize confusion matrix with seaborn heatmap\n",
    "cm_matrix_LSTM = pd.DataFrame(data=confusion_matrix,\n",
    "                        columns=['BUY_P', 'HOLD_P', 'SELL_P'], \n",
    "                        index=['BUY_R', 'HOLD_R', 'SELL_R'])\n",
    "\n",
    "sns.heatmap(cm_matrix_LSTM, annot=True, fmt='d', cmap='YlGnBu')"
   ]
  },
  {
   "cell_type": "code",
   "execution_count": 51,
   "metadata": {},
   "outputs": [
    {
     "name": "stdout",
     "output_type": "stream",
     "text": [
      "Training-set accuracy score LSTM: 0.6182\n"
     ]
    }
   ],
   "source": [
    "y_pred_train_sw = model_lstm.predict(x_train_sw)\n",
    "\n",
    "labels = ['BUY', 'HOLD', 'SELL'] \n",
    "\n",
    "pred = []\n",
    "for i in y_pred_train_sw:\n",
    "    pred.append(np.argmax(i))\n",
    "pred_array = np.array(pred)       \n",
    "\n",
    "real = []\n",
    "for i in y_train_sw_enc:\n",
    "    real.append(np.argmax(i))\n",
    "real_array = np.array(real)    \n",
    "\n",
    "print('Training-set accuracy score LSTM: {0:0.4f}'. format(accuracy_score(real_array, pred_array)))"
   ]
  },
  {
   "cell_type": "code",
   "execution_count": null,
   "metadata": {},
   "outputs": [],
   "source": []
  },
  {
   "cell_type": "code",
   "execution_count": null,
   "metadata": {},
   "outputs": [],
   "source": []
  },
  {
   "cell_type": "code",
   "execution_count": null,
   "metadata": {},
   "outputs": [],
   "source": []
  },
  {
   "cell_type": "code",
   "execution_count": null,
   "metadata": {},
   "outputs": [],
   "source": []
  },
  {
   "cell_type": "code",
   "execution_count": null,
   "metadata": {},
   "outputs": [],
   "source": []
  },
  {
   "cell_type": "code",
   "execution_count": null,
   "metadata": {},
   "outputs": [],
   "source": []
  },
  {
   "cell_type": "code",
   "execution_count": null,
   "metadata": {},
   "outputs": [],
   "source": []
  },
  {
   "cell_type": "markdown",
   "metadata": {},
   "source": [
    "# Resumo"
   ]
  },
  {
   "cell_type": "code",
   "execution_count": 59,
   "metadata": {},
   "outputs": [
    {
     "name": "stdout",
     "output_type": "stream",
     "text": [
      "\n",
      "Accuracy Score - LGBM:  0.3981179181870559\n",
      "Weighted F Score - LGBM:  0.5277089376661241\n",
      "\n",
      "Accuracy Score - Random Forest:  0.39734972152871134\n",
      "Weighted F Score - Random Forest:  0.5280326343079771\n",
      "\n",
      "Accuracy Score - DNN:  0.401190704820434\n",
      "Weighted F Score - DNN:  0.5981028339507775\n"
     ]
    }
   ],
   "source": [
    "print('-------------Resumo-------------')\n",
    "\n",
    "print('\\nAccuracy Score - LGBM: ', accuracy_score_LGBM)\n",
    "print('Weighted F Score - LGBM: ', weightedFScore_LGBM)\n",
    "\n",
    "print('\\nAccuracy Score - Random Forest: ', accuracy_score_RF)\n",
    "print('Weighted F Score - Random Forest: ', weightedFScore_RF)\n",
    "\n",
    "print('\\nAccuracy Score - DNN: ', accuracy_score_DNN)\n",
    "print('Weighted F Score - DNN: ', weightedFScore_DNN)\n",
    "\n"
   ]
  },
  {
   "cell_type": "code",
   "execution_count": 60,
   "metadata": {},
   "outputs": [
    {
     "data": {
      "text/plain": [
       "<AxesSubplot:>"
      ]
     },
     "execution_count": 60,
     "metadata": {},
     "output_type": "execute_result"
    },
    {
     "data": {
      "image/png": "[encoded data removed]",
      "text/plain": [
       "<Figure size 432x288 with 2 Axes>"
      ]
     },
     "metadata": {
      "needs_background": "light"
     },
     "output_type": "display_data"
    }
   ],
   "source": [
    "sns.heatmap(cm_matrix_LGBM, annot=True, fmt='d', cmap='YlGnBu')"
   ]
  },
  {
   "cell_type": "code",
   "execution_count": 61,
   "metadata": {},
   "outputs": [
    {
     "data": {
      "text/plain": [
       "<AxesSubplot:>"
      ]
     },
     "execution_count": 61,
     "metadata": {},
     "output_type": "execute_result"
    },
    {
     "data": {
      "image/png": "[encoded data removed]",
      "text/plain": [
       "<Figure size 432x288 with 2 Axes>"
      ]
     },
     "metadata": {
      "needs_background": "light"
     },
     "output_type": "display_data"
    }
   ],
   "source": [
    "sns.heatmap(cm_matrix_RF, annot=True, fmt='d', cmap='YlGnBu')"
   ]
  },
  {
   "cell_type": "code",
   "execution_count": 62,
   "metadata": {},
   "outputs": [
    {
     "data": {
      "text/plain": [
       "<AxesSubplot:>"
      ]
     },
     "execution_count": 62,
     "metadata": {},
     "output_type": "execute_result"
    },
    {
     "data": {
      "image/png": "[encoded data removed]",
      "text/plain": [
       "<Figure size 432x288 with 2 Axes>"
      ]
     },
     "metadata": {
      "needs_background": "light"
     },
     "output_type": "display_data"
    }
   ],
   "source": [
    "sns.heatmap(cm_matrix_DNN, annot=True, fmt='d', cmap='YlGnBu')"
   ]
  },
  {
   "cell_type": "code",
   "execution_count": 63,
   "metadata": {},
   "outputs": [],
   "source": [
    "# save trained model\n",
    "#pickle.dump( model_lgbm, open( 'saved_models/model_LGBM_53features_5000.pkl', 'wb' ) )"
   ]
  },
  {
   "cell_type": "code",
   "execution_count": 64,
   "metadata": {},
   "outputs": [],
   "source": [
    "#pickle.dump( model_dnn, open( 'saved_models/model_DNN_53features_100.pkl', 'wb' ) )"
   ]
  },
  {
   "cell_type": "code",
   "execution_count": 65,
   "metadata": {},
   "outputs": [],
   "source": [
    "#pickle.dump( model_randomF, open( 'saved_models/model_RF_53features_5000.pkl', 'wb' ) )"
   ]
  }
 ],
 "metadata": {
  "kernelspec": {
   "display_name": "Python 3",
   "language": "python",
   "name": "python3"
  },
  "language_info": {
   "codemirror_mode": {
    "name": "ipython",
    "version": 3
   },
   "file_extension": ".py",
   "mimetype": "text/x-python",
   "name": "python",
   "nbconvert_exporter": "python",
   "pygments_lexer": "ipython3",
   "version": "3.6.12"
  }
 },
 "nbformat": 4,
 "nbformat_minor": 4
}
