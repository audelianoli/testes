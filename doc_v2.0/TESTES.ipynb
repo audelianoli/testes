{
 "cells": [
  {
   "cell_type": "markdown",
   "metadata": {},
   "source": [
    "# Imports"
   ]
  },
  {
   "cell_type": "code",
   "execution_count": 10,
   "metadata": {},
   "outputs": [],
   "source": [
    "import os\n",
    "import json\n",
    "import math\n",
    "import matplotlib.pyplot as plt\n",
    "import numpy as np\n",
    "import pandas as pd\n",
    "import pickle\n",
    "\n",
    "from sklearn.preprocessing import MinMaxScaler, StandardScaler, RobustScaler, MaxAbsScaler, Normalizer, QuantileTransformer"
   ]
  },
  {
   "cell_type": "code",
   "execution_count": 11,
   "metadata": {},
   "outputs": [],
   "source": [
    "# Carregando as configurações do arquivo 'config_modelo.json'\n",
    "configs = json.load(open('configs/config.json', 'r'))\n",
    "models = json.load(open('configs/modelo.json', 'r'))"
   ]
  },
  {
   "cell_type": "code",
   "execution_count": 12,
   "metadata": {},
   "outputs": [],
   "source": [
    "# Criar a pasta 'save_dir' caso não exista no diretório\n",
    "if not os.path.exists(models['model']['save_dir']):\n",
    "            os.makedirs(models['model']['save_dir'])"
   ]
  },
  {
   "cell_type": "code",
   "execution_count": 13,
   "metadata": {},
   "outputs": [
    {
     "name": "stdout",
     "output_type": "stream",
     "text": [
      "(139881, 135)\n"
     ]
    },
    {
     "data": {
      "text/html": [
       "<div>\n",
       "<style scoped>\n",
       "    .dataframe tbody tr th:only-of-type {\n",
       "        vertical-align: middle;\n",
       "    }\n",
       "\n",
       "    .dataframe tbody tr th {\n",
       "        vertical-align: top;\n",
       "    }\n",
       "\n",
       "    .dataframe thead th {\n",
       "        text-align: right;\n",
       "    }\n",
       "</style>\n",
       "<table border=\"1\" class=\"dataframe\">\n",
       "  <thead>\n",
       "    <tr style=\"text-align: right;\">\n",
       "      <th></th>\n",
       "      <th>DATETIME</th>\n",
       "      <th>DATE</th>\n",
       "      <th>TIME</th>\n",
       "      <th>OPEN</th>\n",
       "      <th>HIGH</th>\n",
       "      <th>LOW</th>\n",
       "      <th>CLOSE</th>\n",
       "      <th>VOL</th>\n",
       "      <th>BBANDS_Upper_5</th>\n",
       "      <th>BBANDS_Lower_5</th>\n",
       "      <th>...</th>\n",
       "      <th>ATR_20</th>\n",
       "      <th>TRANGE</th>\n",
       "      <th>MES</th>\n",
       "      <th>DIA_SEMANA</th>\n",
       "      <th>HORA_NOBRE</th>\n",
       "      <th>TARGET_WIN</th>\n",
       "      <th>TARGET_WIN_CAT3</th>\n",
       "      <th>TARGET_WIN_CAT3_LABEL</th>\n",
       "      <th>PRICE_PERCENTAGE</th>\n",
       "      <th>TARGET_PERCENTAGE</th>\n",
       "    </tr>\n",
       "  </thead>\n",
       "  <tbody>\n",
       "    <tr>\n",
       "      <th>0</th>\n",
       "      <td>2014-11-19 12:30:00</td>\n",
       "      <td>2014.11.19</td>\n",
       "      <td>12:30:00</td>\n",
       "      <td>53560.0</td>\n",
       "      <td>53565.0</td>\n",
       "      <td>53405.0</td>\n",
       "      <td>53410.0</td>\n",
       "      <td>8363.0</td>\n",
       "      <td>53752.526189</td>\n",
       "      <td>53227.473811</td>\n",
       "      <td>...</td>\n",
       "      <td>122.7500</td>\n",
       "      <td>160.0</td>\n",
       "      <td>11</td>\n",
       "      <td>2</td>\n",
       "      <td>2</td>\n",
       "      <td>15.0</td>\n",
       "      <td>HOLD</td>\n",
       "      <td>1</td>\n",
       "      <td>106.82</td>\n",
       "      <td>HOLD</td>\n",
       "    </tr>\n",
       "    <tr>\n",
       "      <th>1</th>\n",
       "      <td>2014-11-19 12:35:00</td>\n",
       "      <td>2014.11.19</td>\n",
       "      <td>12:35:00</td>\n",
       "      <td>53410.0</td>\n",
       "      <td>53500.0</td>\n",
       "      <td>53295.0</td>\n",
       "      <td>53415.0</td>\n",
       "      <td>7034.0</td>\n",
       "      <td>53712.281525</td>\n",
       "      <td>53317.718475</td>\n",
       "      <td>...</td>\n",
       "      <td>126.8625</td>\n",
       "      <td>205.0</td>\n",
       "      <td>11</td>\n",
       "      <td>2</td>\n",
       "      <td>2</td>\n",
       "      <td>50.0</td>\n",
       "      <td>HOLD</td>\n",
       "      <td>1</td>\n",
       "      <td>106.83</td>\n",
       "      <td>HOLD</td>\n",
       "    </tr>\n",
       "  </tbody>\n",
       "</table>\n",
       "<p>2 rows × 135 columns</p>\n",
       "</div>"
      ],
      "text/plain": [
       "             DATETIME        DATE      TIME     OPEN     HIGH      LOW  \\\n",
       "0 2014-11-19 12:30:00  2014.11.19  12:30:00  53560.0  53565.0  53405.0   \n",
       "1 2014-11-19 12:35:00  2014.11.19  12:35:00  53410.0  53500.0  53295.0   \n",
       "\n",
       "     CLOSE     VOL  BBANDS_Upper_5  BBANDS_Lower_5  ...    ATR_20  TRANGE  \\\n",
       "0  53410.0  8363.0    53752.526189    53227.473811  ...  122.7500   160.0   \n",
       "1  53415.0  7034.0    53712.281525    53317.718475  ...  126.8625   205.0   \n",
       "\n",
       "   MES  DIA_SEMANA  HORA_NOBRE  TARGET_WIN  TARGET_WIN_CAT3  \\\n",
       "0   11           2           2        15.0             HOLD   \n",
       "1   11           2           2        50.0             HOLD   \n",
       "\n",
       "   TARGET_WIN_CAT3_LABEL  PRICE_PERCENTAGE  TARGET_PERCENTAGE  \n",
       "0                      1            106.82               HOLD  \n",
       "1                      1            106.83               HOLD  \n",
       "\n",
       "[2 rows x 135 columns]"
      ]
     },
     "execution_count": 13,
     "metadata": {},
     "output_type": "execute_result"
    }
   ],
   "source": [
    "# Carregar o Dataset\n",
    "filepath = 'C:/Users/auW10/Documents/CodigosDoAu/000_Doutorado/dataset/'\n",
    "df = pd.read_pickle(filepath+'dataset_ciclo1_multiclass_aug_dim_135_TIs_TargetPerc.pkl')\n",
    "print(df.shape)\n",
    "df.head(2)"
   ]
  },
  {
   "cell_type": "code",
   "execution_count": 14,
   "metadata": {},
   "outputs": [
    {
     "data": {
      "text/html": [
       "<div>\n",
       "<style scoped>\n",
       "    .dataframe tbody tr th:only-of-type {\n",
       "        vertical-align: middle;\n",
       "    }\n",
       "\n",
       "    .dataframe tbody tr th {\n",
       "        vertical-align: top;\n",
       "    }\n",
       "\n",
       "    .dataframe thead th {\n",
       "        text-align: right;\n",
       "    }\n",
       "</style>\n",
       "<table border=\"1\" class=\"dataframe\">\n",
       "  <thead>\n",
       "    <tr style=\"text-align: right;\">\n",
       "      <th></th>\n",
       "      <th>DATETIME</th>\n",
       "      <th>DATE</th>\n",
       "      <th>TIME</th>\n",
       "      <th>OPEN</th>\n",
       "      <th>HIGH</th>\n",
       "      <th>LOW</th>\n",
       "      <th>CLOSE</th>\n",
       "      <th>VOL</th>\n",
       "      <th>BBANDS_Upper_5</th>\n",
       "      <th>BBANDS_Lower_5</th>\n",
       "      <th>...</th>\n",
       "      <th>ATR_20</th>\n",
       "      <th>TRANGE</th>\n",
       "      <th>MES</th>\n",
       "      <th>DIA_SEMANA</th>\n",
       "      <th>HORA_NOBRE</th>\n",
       "      <th>TARGET_WIN</th>\n",
       "      <th>TARGET_WIN_CAT3</th>\n",
       "      <th>TARGET_WIN_CAT3_LABEL</th>\n",
       "      <th>PRICE_PERCENTAGE</th>\n",
       "      <th>TARGET_PERCENTAGE</th>\n",
       "    </tr>\n",
       "  </thead>\n",
       "  <tbody>\n",
       "    <tr>\n",
       "      <th>139878</th>\n",
       "      <td>2020-02-21 17:35:00</td>\n",
       "      <td>2020.02.21</td>\n",
       "      <td>17:35:00</td>\n",
       "      <td>113780.0</td>\n",
       "      <td>113965.0</td>\n",
       "      <td>113745.0</td>\n",
       "      <td>113855.0</td>\n",
       "      <td>92666.0</td>\n",
       "      <td>113950.132808</td>\n",
       "      <td>113535.867192</td>\n",
       "      <td>...</td>\n",
       "      <td>144.733736</td>\n",
       "      <td>220.0</td>\n",
       "      <td>2</td>\n",
       "      <td>4</td>\n",
       "      <td>3</td>\n",
       "      <td>5.0</td>\n",
       "      <td>HOLD</td>\n",
       "      <td>1</td>\n",
       "      <td>227.71</td>\n",
       "      <td>HOLD</td>\n",
       "    </tr>\n",
       "    <tr>\n",
       "      <th>139879</th>\n",
       "      <td>2020-02-21 17:40:00</td>\n",
       "      <td>2020.02.21</td>\n",
       "      <td>17:40:00</td>\n",
       "      <td>113850.0</td>\n",
       "      <td>113890.0</td>\n",
       "      <td>113800.0</td>\n",
       "      <td>113825.0</td>\n",
       "      <td>39833.0</td>\n",
       "      <td>113888.345498</td>\n",
       "      <td>113705.654502</td>\n",
       "      <td>...</td>\n",
       "      <td>141.997049</td>\n",
       "      <td>90.0</td>\n",
       "      <td>2</td>\n",
       "      <td>4</td>\n",
       "      <td>3</td>\n",
       "      <td>55.0</td>\n",
       "      <td>HOLD</td>\n",
       "      <td>1</td>\n",
       "      <td>227.65</td>\n",
       "      <td>HOLD</td>\n",
       "    </tr>\n",
       "    <tr>\n",
       "      <th>139880</th>\n",
       "      <td>2020-02-21 17:45:00</td>\n",
       "      <td>2020.02.21</td>\n",
       "      <td>17:45:00</td>\n",
       "      <td>113830.0</td>\n",
       "      <td>113945.0</td>\n",
       "      <td>113610.0</td>\n",
       "      <td>113655.0</td>\n",
       "      <td>103553.0</td>\n",
       "      <td>113922.043471</td>\n",
       "      <td>113645.956529</td>\n",
       "      <td>...</td>\n",
       "      <td>151.647197</td>\n",
       "      <td>335.0</td>\n",
       "      <td>2</td>\n",
       "      <td>4</td>\n",
       "      <td>3</td>\n",
       "      <td>460.0</td>\n",
       "      <td>BUY</td>\n",
       "      <td>0</td>\n",
       "      <td>227.31</td>\n",
       "      <td>BUY</td>\n",
       "    </tr>\n",
       "  </tbody>\n",
       "</table>\n",
       "<p>3 rows × 135 columns</p>\n",
       "</div>"
      ],
      "text/plain": [
       "                  DATETIME        DATE      TIME      OPEN      HIGH  \\\n",
       "139878 2020-02-21 17:35:00  2020.02.21  17:35:00  113780.0  113965.0   \n",
       "139879 2020-02-21 17:40:00  2020.02.21  17:40:00  113850.0  113890.0   \n",
       "139880 2020-02-21 17:45:00  2020.02.21  17:45:00  113830.0  113945.0   \n",
       "\n",
       "             LOW     CLOSE       VOL  BBANDS_Upper_5  BBANDS_Lower_5  ...  \\\n",
       "139878  113745.0  113855.0   92666.0   113950.132808   113535.867192  ...   \n",
       "139879  113800.0  113825.0   39833.0   113888.345498   113705.654502  ...   \n",
       "139880  113610.0  113655.0  103553.0   113922.043471   113645.956529  ...   \n",
       "\n",
       "            ATR_20  TRANGE  MES  DIA_SEMANA  HORA_NOBRE  TARGET_WIN  \\\n",
       "139878  144.733736   220.0    2           4           3         5.0   \n",
       "139879  141.997049    90.0    2           4           3        55.0   \n",
       "139880  151.647197   335.0    2           4           3       460.0   \n",
       "\n",
       "        TARGET_WIN_CAT3  TARGET_WIN_CAT3_LABEL  PRICE_PERCENTAGE  \\\n",
       "139878             HOLD                      1            227.71   \n",
       "139879             HOLD                      1            227.65   \n",
       "139880              BUY                      0            227.31   \n",
       "\n",
       "        TARGET_PERCENTAGE  \n",
       "139878               HOLD  \n",
       "139879               HOLD  \n",
       "139880                BUY  \n",
       "\n",
       "[3 rows x 135 columns]"
      ]
     },
     "execution_count": 14,
     "metadata": {},
     "output_type": "execute_result"
    }
   ],
   "source": [
    "df.tail(3)"
   ]
  },
  {
   "cell_type": "markdown",
   "metadata": {},
   "source": [
    "## Split dos Dados"
   ]
  },
  {
   "cell_type": "code",
   "execution_count": 15,
   "metadata": {},
   "outputs": [
    {
     "data": {
      "text/plain": [
       "<PandasArray>\n",
       "[             'DATETIME',                  'DATE',                  'TIME',\n",
       "                  'OPEN',                  'HIGH',                   'LOW',\n",
       "                 'CLOSE',                   'VOL',        'BBANDS_Upper_5',\n",
       "        'BBANDS_Lower_5',\n",
       " ...\n",
       "                'ATR_20',                'TRANGE',                   'MES',\n",
       "            'DIA_SEMANA',            'HORA_NOBRE',            'TARGET_WIN',\n",
       "       'TARGET_WIN_CAT3', 'TARGET_WIN_CAT3_LABEL',      'PRICE_PERCENTAGE',\n",
       "     'TARGET_PERCENTAGE']\n",
       "Length: 135, dtype: object"
      ]
     },
     "execution_count": 15,
     "metadata": {},
     "output_type": "execute_result"
    }
   ],
   "source": [
    "# Listar colunas existentes\n",
    "df.columns.tolist()\n",
    "df.columns.array"
   ]
  },
  {
   "cell_type": "code",
   "execution_count": 16,
   "metadata": {
    "scrolled": false
   },
   "outputs": [
    {
     "name": "stdout",
     "output_type": "stream",
     "text": [
      "(139881, 135)\n",
      "(139881, 125)\n"
     ]
    },
    {
     "data": {
      "text/html": [
       "<div>\n",
       "<style scoped>\n",
       "    .dataframe tbody tr th:only-of-type {\n",
       "        vertical-align: middle;\n",
       "    }\n",
       "\n",
       "    .dataframe tbody tr th {\n",
       "        vertical-align: top;\n",
       "    }\n",
       "\n",
       "    .dataframe thead th {\n",
       "        text-align: right;\n",
       "    }\n",
       "</style>\n",
       "<table border=\"1\" class=\"dataframe\">\n",
       "  <thead>\n",
       "    <tr style=\"text-align: right;\">\n",
       "      <th></th>\n",
       "      <th>DATETIME</th>\n",
       "      <th>DATE</th>\n",
       "      <th>TIME</th>\n",
       "      <th>BBANDS_Upper_5</th>\n",
       "      <th>BBANDS_Lower_5</th>\n",
       "      <th>BBANDS_Upper_10</th>\n",
       "      <th>BBANDS_Lower_10</th>\n",
       "      <th>BBANDS_Upper_20</th>\n",
       "      <th>BBANDS_Lower_20</th>\n",
       "      <th>DEMA_20</th>\n",
       "      <th>...</th>\n",
       "      <th>ADOSC</th>\n",
       "      <th>OBV</th>\n",
       "      <th>ATR_3</th>\n",
       "      <th>ATR_6</th>\n",
       "      <th>ATR_12</th>\n",
       "      <th>ATR_20</th>\n",
       "      <th>TRANGE</th>\n",
       "      <th>DIA_SEMANA</th>\n",
       "      <th>HORA_NOBRE</th>\n",
       "      <th>TARGET_PERCENTAGE</th>\n",
       "    </tr>\n",
       "  </thead>\n",
       "  <tbody>\n",
       "    <tr>\n",
       "      <th>0</th>\n",
       "      <td>2014-11-19 12:30:00</td>\n",
       "      <td>2014.11.19</td>\n",
       "      <td>12:30:00</td>\n",
       "      <td>53752.526189</td>\n",
       "      <td>53227.473811</td>\n",
       "      <td>53701.563032</td>\n",
       "      <td>53003.436968</td>\n",
       "      <td>53582.216054</td>\n",
       "      <td>52961.783946</td>\n",
       "      <td>53513.521581</td>\n",
       "      <td>...</td>\n",
       "      <td>224.882410</td>\n",
       "      <td>16995.0</td>\n",
       "      <td>183.08836</td>\n",
       "      <td>157.567344</td>\n",
       "      <td>133.163314</td>\n",
       "      <td>122.7500</td>\n",
       "      <td>160.0</td>\n",
       "      <td>2</td>\n",
       "      <td>2</td>\n",
       "      <td>HOLD</td>\n",
       "    </tr>\n",
       "    <tr>\n",
       "      <th>1</th>\n",
       "      <td>2014-11-19 12:35:00</td>\n",
       "      <td>2014.11.19</td>\n",
       "      <td>12:35:00</td>\n",
       "      <td>53712.281525</td>\n",
       "      <td>53317.718475</td>\n",
       "      <td>53699.874976</td>\n",
       "      <td>53060.125024</td>\n",
       "      <td>53596.604149</td>\n",
       "      <td>52972.395851</td>\n",
       "      <td>53498.711770</td>\n",
       "      <td>...</td>\n",
       "      <td>-968.557883</td>\n",
       "      <td>24029.0</td>\n",
       "      <td>190.39224</td>\n",
       "      <td>165.472787</td>\n",
       "      <td>139.149704</td>\n",
       "      <td>126.8625</td>\n",
       "      <td>205.0</td>\n",
       "      <td>2</td>\n",
       "      <td>2</td>\n",
       "      <td>HOLD</td>\n",
       "    </tr>\n",
       "  </tbody>\n",
       "</table>\n",
       "<p>2 rows × 125 columns</p>\n",
       "</div>"
      ],
      "text/plain": [
       "             DATETIME        DATE      TIME  BBANDS_Upper_5  BBANDS_Lower_5  \\\n",
       "0 2014-11-19 12:30:00  2014.11.19  12:30:00    53752.526189    53227.473811   \n",
       "1 2014-11-19 12:35:00  2014.11.19  12:35:00    53712.281525    53317.718475   \n",
       "\n",
       "   BBANDS_Upper_10  BBANDS_Lower_10  BBANDS_Upper_20  BBANDS_Lower_20  \\\n",
       "0     53701.563032     53003.436968     53582.216054     52961.783946   \n",
       "1     53699.874976     53060.125024     53596.604149     52972.395851   \n",
       "\n",
       "        DEMA_20  ...       ADOSC      OBV      ATR_3       ATR_6      ATR_12  \\\n",
       "0  53513.521581  ...  224.882410  16995.0  183.08836  157.567344  133.163314   \n",
       "1  53498.711770  ... -968.557883  24029.0  190.39224  165.472787  139.149704   \n",
       "\n",
       "     ATR_20  TRANGE  DIA_SEMANA  HORA_NOBRE  TARGET_PERCENTAGE  \n",
       "0  122.7500   160.0           2           2               HOLD  \n",
       "1  126.8625   205.0           2           2               HOLD  \n",
       "\n",
       "[2 rows x 125 columns]"
      ]
     },
     "execution_count": 16,
     "metadata": {},
     "output_type": "execute_result"
    }
   ],
   "source": [
    "# Dropando as respectivas colunas\n",
    "\n",
    "print(df.shape)\n",
    "df2 = df.drop([  'OPEN',                  \n",
    "                 'HIGH',                   \n",
    "                 'LOW',\n",
    "                 'CLOSE',                   \n",
    "                 'VOL',\n",
    "                 'MES',\n",
    "                 'TARGET_WIN',\n",
    "                 'TARGET_WIN_CAT3', \n",
    "                 'TARGET_WIN_CAT3_LABEL',      \n",
    "                 'PRICE_PERCENTAGE'\n",
    "               \n",
    "            \n",
    "              ], axis=1)\n",
    "print(df2.shape)\n",
    "df2.head(2)"
   ]
  },
  {
   "cell_type": "code",
   "execution_count": 17,
   "metadata": {
    "scrolled": true
   },
   "outputs": [
    {
     "name": "stderr",
     "output_type": "stream",
     "text": [
      "C:\\Users\\auW10\\anaconda3\\envs\\AlgoTrading\\lib\\site-packages\\pandas\\core\\frame.py:4308: SettingWithCopyWarning: \n",
      "A value is trying to be set on a copy of a slice from a DataFrame\n",
      "\n",
      "See the caveats in the documentation: https://pandas.pydata.org/pandas-docs/stable/user_guide/indexing.html#returning-a-view-versus-a-copy\n",
      "  return super().drop(\n"
     ]
    }
   ],
   "source": [
    "df3 = df2[df2['DATETIME'].dt.year < 2020]\n",
    "df3.drop(['DATE', 'TIME'], axis=1, inplace=True)\n",
    "df4 = df3[df3['DATETIME'].dt.year > 2014].reset_index(drop=True)\n",
    "#df4"
   ]
  },
  {
   "cell_type": "markdown",
   "metadata": {},
   "source": [
    "#### Split do DB em treino, validação e teste\n",
    "##### Treino: 2015->2017\n",
    "##### Validação: 2018\n",
    "##### Teste: 2019 -> 2020"
   ]
  },
  {
   "cell_type": "code",
   "execution_count": 18,
   "metadata": {
    "scrolled": true
   },
   "outputs": [
    {
     "name": "stdout",
     "output_type": "stream",
     "text": [
      "Proporção Train: 12.8% | Validation: 6.4% | Test: 2.9%\n",
      "(17849, 122) (8889, 122) (4064, 122)\n"
     ]
    },
    {
     "name": "stderr",
     "output_type": "stream",
     "text": [
      "C:\\Users\\auW10\\anaconda3\\envs\\AlgoTrading\\lib\\site-packages\\pandas\\core\\frame.py:4308: SettingWithCopyWarning: \n",
      "A value is trying to be set on a copy of a slice from a DataFrame\n",
      "\n",
      "See the caveats in the documentation: https://pandas.pydata.org/pandas-docs/stable/user_guide/indexing.html#returning-a-view-versus-a-copy\n",
      "  return super().drop(\n"
     ]
    }
   ],
   "source": [
    "# SPLIT TRAIN\n",
    "\n",
    "df_train = df2[(df2['DATETIME'] >= '2015-01-01') & (df2['DATETIME'] < '2018-01-01')]\n",
    "#df_train = df2[(df2['DATETIME'] >= '2017-12-01') & (df2['DATETIME'] < '2019-07-01')]\n",
    "#df_train = df_train.iloc[-10000:, :]\n",
    "\n",
    "df_train = df2[(df2['DATETIME'] >= '2019-01-01') & (df2['DATETIME'] < '2019-09-01')]\n",
    "\n",
    "#----------------------------------------------------------------------------------------------------\n",
    "# SPLIT VALID\n",
    "\n",
    "df_valid = df2[(df2['DATETIME'] >= '2018-01-01') & (df2['DATETIME'] < '2019-01-01')]\n",
    "#df_valid = df2[(df2['DATETIME'] >= '2019-07-01') & (df2['DATETIME'] < '2020-03-01')]\n",
    "#df_valid = df_valid.iloc[:6600, :]\n",
    "\n",
    "df_valid = df2[(df2['DATETIME'] >= '2019-09-01') & (df2['DATETIME'] < '2020-01-01')]\n",
    "\n",
    "#df_valid = df2[(df2['DATETIME'] >= '2018-01-01') & (df2['DATETIME'] < '2020-01-01')]\n",
    "\n",
    "#----------------------------------------------------------------------------------------------------\n",
    "# SPLIT TEST\n",
    "\n",
    "df_test  = df2[(df2['DATETIME'] >= '2019-01-01') & (df2['DATETIME'] < '2020-01-01')]\n",
    "#df_test  = df2[(df2['DATETIME'] >= '2020-01-01')]\n",
    "\n",
    "#df_test  = df2[(df2['DATETIME'] < '2017-12-01')]\n",
    "#df_test = df_test.iloc[:500,:]\n",
    "\n",
    "df_test  = df2[(df2['DATETIME'] >= '2020-01-01')]\n",
    "\n",
    "#----------------------------------------------------------------------------------------------------\n",
    "\n",
    "print('Proporção Train: {:.1%} | Validation: {:.1%} | Test: {:.1%}'.format(\n",
    "                                            df_train['DATETIME'].count()/df2['DATETIME'].count(),\n",
    "                                            df_valid['DATETIME'].count()/df2['DATETIME'].count(),\n",
    "                                            df_test['DATETIME'].count()/df2['DATETIME'].count()))\n",
    "\n",
    "df_train.drop(['DATETIME', 'DATE', 'TIME'], axis=1, inplace=True)\n",
    "df_valid.drop(['DATETIME', 'DATE', 'TIME'], axis=1, inplace=True)\n",
    "df_test.drop(['DATETIME', 'DATE', 'TIME'], axis=1, inplace=True)\n",
    "print(df_train.shape, df_valid.shape, df_test.shape)"
   ]
  },
  {
   "cell_type": "code",
   "execution_count": 19,
   "metadata": {},
   "outputs": [
    {
     "data": {
      "image/png": "[encoded data removed]",
      "text/plain": [
       "<Figure size 432x288 with 1 Axes>"
      ]
     },
     "metadata": {
      "needs_background": "light"
     },
     "output_type": "display_data"
    }
   ],
   "source": [
    "# Plot dos dados de treino, validação e teste\n",
    "df_plot = pd.DataFrame({'Dataset Split':['Train', 'Validation', 'Test'], \n",
    "                        'val':[df_train.shape[0], df_valid.shape[0], df_test.shape[0]]})\n",
    "\n",
    "ax_plot = df_plot.plot.bar(x='Dataset Split', \n",
    "                           y='val', \n",
    "                           rot=0, \n",
    "                           legend=False, \n",
    "                           title='Quantidade de dados para treino, validação e teste')"
   ]
  },
  {
   "cell_type": "code",
   "execution_count": 20,
   "metadata": {
    "scrolled": true
   },
   "outputs": [
    {
     "data": {
      "text/html": [
       "<div>\n",
       "<style scoped>\n",
       "    .dataframe tbody tr th:only-of-type {\n",
       "        vertical-align: middle;\n",
       "    }\n",
       "\n",
       "    .dataframe tbody tr th {\n",
       "        vertical-align: top;\n",
       "    }\n",
       "\n",
       "    .dataframe thead th {\n",
       "        text-align: right;\n",
       "    }\n",
       "</style>\n",
       "<table border=\"1\" class=\"dataframe\">\n",
       "  <thead>\n",
       "    <tr style=\"text-align: right;\">\n",
       "      <th></th>\n",
       "      <th>BBANDS_Upper_5</th>\n",
       "      <th>BBANDS_Lower_5</th>\n",
       "      <th>BBANDS_Upper_10</th>\n",
       "      <th>BBANDS_Lower_10</th>\n",
       "      <th>BBANDS_Upper_20</th>\n",
       "      <th>BBANDS_Lower_20</th>\n",
       "      <th>DEMA_20</th>\n",
       "      <th>EMA_5_CLOSE</th>\n",
       "      <th>EMA_10_CLOSE</th>\n",
       "      <th>EMA_20_CLOSE</th>\n",
       "      <th>...</th>\n",
       "      <th>ADOSC</th>\n",
       "      <th>OBV</th>\n",
       "      <th>ATR_3</th>\n",
       "      <th>ATR_6</th>\n",
       "      <th>ATR_12</th>\n",
       "      <th>ATR_20</th>\n",
       "      <th>TRANGE</th>\n",
       "      <th>DIA_SEMANA</th>\n",
       "      <th>HORA_NOBRE</th>\n",
       "      <th>TARGET_PERCENTAGE</th>\n",
       "    </tr>\n",
       "  </thead>\n",
       "  <tbody>\n",
       "    <tr>\n",
       "      <th>135836</th>\n",
       "      <td>117489.521929</td>\n",
       "      <td>116862.478071</td>\n",
       "      <td>117397.405807</td>\n",
       "      <td>116813.594193</td>\n",
       "      <td>117349.698893</td>\n",
       "      <td>116850.801107</td>\n",
       "      <td>117269.240037</td>\n",
       "      <td>117228.122937</td>\n",
       "      <td>117137.461639</td>\n",
       "      <td>117010.529854</td>\n",
       "      <td>...</td>\n",
       "      <td>95344.558922</td>\n",
       "      <td>-7850190.0</td>\n",
       "      <td>212.171216</td>\n",
       "      <td>205.912372</td>\n",
       "      <td>197.823329</td>\n",
       "      <td>186.913789</td>\n",
       "      <td>165.0</td>\n",
       "      <td>3</td>\n",
       "      <td>1</td>\n",
       "      <td>HOLD</td>\n",
       "    </tr>\n",
       "  </tbody>\n",
       "</table>\n",
       "<p>1 rows × 122 columns</p>\n",
       "</div>"
      ],
      "text/plain": [
       "        BBANDS_Upper_5  BBANDS_Lower_5  BBANDS_Upper_10  BBANDS_Lower_10  \\\n",
       "135836   117489.521929   116862.478071    117397.405807    116813.594193   \n",
       "\n",
       "        BBANDS_Upper_20  BBANDS_Lower_20        DEMA_20    EMA_5_CLOSE  \\\n",
       "135836    117349.698893    116850.801107  117269.240037  117228.122937   \n",
       "\n",
       "         EMA_10_CLOSE   EMA_20_CLOSE  ...         ADOSC        OBV  \\\n",
       "135836  117137.461639  117010.529854  ...  95344.558922 -7850190.0   \n",
       "\n",
       "             ATR_3       ATR_6      ATR_12      ATR_20  TRANGE  DIA_SEMANA  \\\n",
       "135836  212.171216  205.912372  197.823329  186.913789   165.0           3   \n",
       "\n",
       "        HORA_NOBRE  TARGET_PERCENTAGE  \n",
       "135836           1               HOLD  \n",
       "\n",
       "[1 rows x 122 columns]"
      ]
     },
     "execution_count": 20,
     "metadata": {},
     "output_type": "execute_result"
    }
   ],
   "source": [
    "df_test.iloc[19:200].head(1)"
   ]
  },
  {
   "cell_type": "code",
   "execution_count": 21,
   "metadata": {
    "scrolled": true
   },
   "outputs": [
    {
     "data": {
      "text/plain": [
       "HOLD    13877\n",
       "BUY      2041\n",
       "SELL     1931\n",
       "Name: TARGET_PERCENTAGE, dtype: int64"
      ]
     },
     "execution_count": 21,
     "metadata": {},
     "output_type": "execute_result"
    }
   ],
   "source": [
    "# Quantidade de dados de Treino com Targets de HOLD, BUY e SELL\n",
    "df_train['TARGET_PERCENTAGE'].value_counts()"
   ]
  },
  {
   "cell_type": "code",
   "execution_count": 22,
   "metadata": {},
   "outputs": [
    {
     "data": {
      "text/plain": [
       "13877"
      ]
     },
     "execution_count": 22,
     "metadata": {},
     "output_type": "execute_result"
    }
   ],
   "source": [
    "df_train['TARGET_PERCENTAGE'].value_counts()[0]"
   ]
  },
  {
   "cell_type": "code",
   "execution_count": 23,
   "metadata": {
    "scrolled": false
   },
   "outputs": [
    {
     "name": "stdout",
     "output_type": "stream",
     "text": [
      "\n",
      "Dados Categóricos de Treino -- BUY: 2041 | SELL: 1931 | HOLD: 13877\n",
      "\n",
      "Dados Categóricos de Validação -- BUY: 625 | SELL: 522 | HOLD: 7742\n",
      "\n",
      "Dados Categóricos de Teste -- BUY: 380 | SELL: 355 | HOLD: 3329\n"
     ]
    }
   ],
   "source": [
    "hold_train = df_train['TARGET_PERCENTAGE'].value_counts()[0]\n",
    "hold_valid = df_valid['TARGET_PERCENTAGE'].value_counts()[0]\n",
    "hold_test = df_test['TARGET_PERCENTAGE'].value_counts()[0]\n",
    "\n",
    "print('\\nDados Categóricos de Treino -- BUY: %d | SELL: %d | HOLD: %d' % (df_train['TARGET_PERCENTAGE'].value_counts()[1], df_train['TARGET_PERCENTAGE'].value_counts()[2], hold_train))\n",
    "print('\\nDados Categóricos de Validação -- BUY: %d | SELL: %d | HOLD: %d' % (df_valid['TARGET_PERCENTAGE'].value_counts()[1], df_valid['TARGET_PERCENTAGE'].value_counts()[2], hold_valid))\n",
    "print('\\nDados Categóricos de Teste -- BUY: %d | SELL: %d | HOLD: %d' % (df_test['TARGET_PERCENTAGE'].value_counts()[1], df_test['TARGET_PERCENTAGE'].value_counts()[2], hold_test))\n"
   ]
  },
  {
   "cell_type": "code",
   "execution_count": 24,
   "metadata": {},
   "outputs": [
    {
     "data": {
      "image/png": "[encoded data removed]",
      "text/plain": [
       "<Figure size 432x288 with 1 Axes>"
      ]
     },
     "metadata": {
      "needs_background": "light"
     },
     "output_type": "display_data"
    },
    {
     "data": {
      "image/png": "[encoded data removed]",
      "text/plain": [
       "<Figure size 432x288 with 1 Axes>"
      ]
     },
     "metadata": {
      "needs_background": "light"
     },
     "output_type": "display_data"
    },
    {
     "data": {
      "image/png": "[encoded data removed]",
      "text/plain": [
       "<Figure size 432x288 with 1 Axes>"
      ]
     },
     "metadata": {
      "needs_background": "light"
     },
     "output_type": "display_data"
    }
   ],
   "source": [
    "# Plot dos dados categóricos de treino, validação e teste\n",
    "\n",
    "df_plot = pd.DataFrame({'Target':['BUY', 'SELL', 'HOLD'], \n",
    "                        'val':[df_train['TARGET_PERCENTAGE'].value_counts()[1], \n",
    "                               df_train['TARGET_PERCENTAGE'].value_counts()[2], \n",
    "                               hold_train]})\n",
    "\n",
    "ax_plot = df_plot.plot.bar(x='Target', \n",
    "                               y='val', \n",
    "                               rot=0, \n",
    "                               legend=False, \n",
    "                               title='Quantidade de dados categóricos para treino')\n",
    "\n",
    "df_plot = pd.DataFrame({'Target':['BUY', 'SELL', 'HOLD'], \n",
    "                        'val':[df_valid['TARGET_PERCENTAGE'].value_counts()[1], \n",
    "                               df_valid['TARGET_PERCENTAGE'].value_counts()[2], \n",
    "                               hold_valid]})\n",
    "\n",
    "ax_plot = df_plot.plot.bar(x='Target', \n",
    "                               y='val', \n",
    "                               rot=0, \n",
    "                               legend=False, \n",
    "                               title='Quantidade de dados categóricos para validação')\n",
    "\n",
    "df_plot = pd.DataFrame({'Target':['BUY', 'SELL', 'HOLD'], \n",
    "                        'val':[df_test['TARGET_PERCENTAGE'].value_counts()[1], \n",
    "                               df_test['TARGET_PERCENTAGE'].value_counts()[2], \n",
    "                               hold_test]})\n",
    "\n",
    "ax_plot = df_plot.plot.bar(x='Target', \n",
    "                               y='val', \n",
    "                               rot=0, \n",
    "                               legend=False, \n",
    "                               title='Quantidade de dados categóricos para teste')"
   ]
  },
  {
   "cell_type": "code",
   "execution_count": 25,
   "metadata": {
    "scrolled": true
   },
   "outputs": [
    {
     "data": {
      "text/plain": [
       "HORA_NOBRE  TARGET_PERCENTAGE\n",
       "0           HOLD                  779\n",
       "            SELL                  106\n",
       "            BUY                   101\n",
       "1           HOLD                 3448\n",
       "            BUY                   757\n",
       "            SELL                  745\n",
       "2           HOLD                 6538\n",
       "            BUY                   713\n",
       "            SELL                  705\n",
       "3           HOLD                 3112\n",
       "            BUY                   470\n",
       "            SELL                  375\n",
       "Name: TARGET_PERCENTAGE, dtype: int64"
      ]
     },
     "execution_count": 25,
     "metadata": {},
     "output_type": "execute_result"
    }
   ],
   "source": [
    "df_train.groupby(['HORA_NOBRE'])['TARGET_PERCENTAGE'].value_counts()"
   ]
  },
  {
   "cell_type": "code",
   "execution_count": 26,
   "metadata": {},
   "outputs": [
    {
     "name": "stdout",
     "output_type": "stream",
     "text": [
      "\n",
      "Dados Categóricos de Treino Hora Nobre -- BUY: 757 | SELL: 745 | HOLD: 3448\n",
      "\n",
      "Dados Categóricos de Validação Hora Nobre -- BUY: 268 | SELL: 234 | HOLD: 1958\n",
      "\n",
      "Dados Categóricos de Teste Hora Nobre -- BUY: 146 | SELL: 129 | HOLD: 835\n"
     ]
    }
   ],
   "source": [
    "# Separando apenas os dados que estejam dentro do HORÁRIO NOBRE\n",
    "\n",
    "buy_train = df_train.groupby(['HORA_NOBRE'])['TARGET_PERCENTAGE'].value_counts()[4]\n",
    "sell_train = df_train.groupby(['HORA_NOBRE'])['TARGET_PERCENTAGE'].value_counts()[5]\n",
    "hold_train = df_train.groupby(['HORA_NOBRE'])['TARGET_PERCENTAGE'].value_counts()[3]\n",
    "\n",
    "buy_valid = df_valid.groupby(['HORA_NOBRE'])['TARGET_PERCENTAGE'].value_counts()[4]\n",
    "sell_valid = df_valid.groupby(['HORA_NOBRE'])['TARGET_PERCENTAGE'].value_counts()[5]\n",
    "hold_valid = df_valid.groupby(['HORA_NOBRE'])['TARGET_PERCENTAGE'].value_counts()[3]\n",
    "\n",
    "buy_test = df_test.groupby(['HORA_NOBRE'])['TARGET_PERCENTAGE'].value_counts()[4]\n",
    "sell_test = df_test.groupby(['HORA_NOBRE'])['TARGET_PERCENTAGE'].value_counts()[5]\n",
    "hold_test = df_test.groupby(['HORA_NOBRE'])['TARGET_PERCENTAGE'].value_counts()[3]\n",
    "\n",
    "print('\\nDados Categóricos de Treino Hora Nobre -- BUY: %d | SELL: %d | HOLD: %d' % (buy_train, sell_train, hold_train))\n",
    "print('\\nDados Categóricos de Validação Hora Nobre -- BUY: %d | SELL: %d | HOLD: %d' % (buy_valid, sell_valid, hold_valid))\n",
    "print('\\nDados Categóricos de Teste Hora Nobre -- BUY: %d | SELL: %d | HOLD: %d' % (buy_test, sell_test, hold_test))\n"
   ]
  },
  {
   "cell_type": "code",
   "execution_count": 27,
   "metadata": {
    "scrolled": false
   },
   "outputs": [
    {
     "data": {
      "image/png": "[encoded data removed]",
      "text/plain": [
       "<Figure size 432x288 with 1 Axes>"
      ]
     },
     "metadata": {
      "needs_background": "light"
     },
     "output_type": "display_data"
    },
    {
     "data": {
      "image/png": "[encoded data removed]",
      "text/plain": [
       "<Figure size 432x288 with 1 Axes>"
      ]
     },
     "metadata": {
      "needs_background": "light"
     },
     "output_type": "display_data"
    },
    {
     "data": {
      "image/png": "[encoded data removed]",
      "text/plain": [
       "<Figure size 432x288 with 1 Axes>"
      ]
     },
     "metadata": {
      "needs_background": "light"
     },
     "output_type": "display_data"
    }
   ],
   "source": [
    "# Plot dos dados categóricos de treino, validação e teste - HORA NOBRE\n",
    "\n",
    "df_plot = pd.DataFrame({'Target':['BUY', 'SELL', 'HOLD'], \n",
    "                        'val':[buy_train, sell_train, hold_train]})\n",
    "\n",
    "ax_plot = df_plot.plot.bar(x='Target', \n",
    "                               y='val', \n",
    "                               rot=0, \n",
    "                               legend=False, \n",
    "                               title='Quantidade de dados categóricos para treino em horário nobre')\n",
    "\n",
    "df_plot = pd.DataFrame({'Target':['BUY', 'SELL', 'HOLD'], \n",
    "                        'val':[buy_valid, sell_valid, hold_valid]})\n",
    "\n",
    "ax_plot = df_plot.plot.bar(x='Target', \n",
    "                               y='val', \n",
    "                               rot=0, \n",
    "                               legend=False, \n",
    "                               title='Quantidade de dados categóricos para validação em horário nobre')\n",
    "\n",
    "df_plot = pd.DataFrame({'Target':['BUY', 'SELL', 'HOLD'], \n",
    "                        'val':[buy_test, sell_test, hold_test]})\n",
    "\n",
    "ax_plot = df_plot.plot.bar(x='Target', \n",
    "                               y='val', \n",
    "                               rot=0, \n",
    "                               legend=False, \n",
    "                               title='Quantidade de dados categóricos para teste em horário nobre')"
   ]
  },
  {
   "cell_type": "markdown",
   "metadata": {},
   "source": [
    "### Aplicando a técnica de Undersampling para balancear a quantidade de dados categóricos\n",
    "#### Através de uma amostragem aleatória utilizando distribuição normal"
   ]
  },
  {
   "cell_type": "code",
   "execution_count": 28,
   "metadata": {},
   "outputs": [
    {
     "name": "stdout",
     "output_type": "stream",
     "text": [
      "Nº total da amostra:  3448\n",
      "Nº de dados selecionados para treino:  754\n",
      "Nº de dados restantes que não serão considerados no treino:  2694\n"
     ]
    }
   ],
   "source": [
    "np.random.seed(2345)\n",
    "porcentagem_selecao_train = (buy_train / hold_train)\n",
    "amostra_train = np.random.choice( a=[0,1], size=hold_train, replace=True, \n",
    "                                   p=[1-porcentagem_selecao_train, porcentagem_selecao_train] )\n",
    "print('Nº total da amostra: ', len(amostra_train))\n",
    "print('Nº de dados selecionados para treino: ', len(amostra_train[amostra_train == 1]))\n",
    "print('Nº de dados restantes que não serão considerados no treino: ', len(amostra_train[amostra_train == 0]))"
   ]
  },
  {
   "cell_type": "code",
   "execution_count": 29,
   "metadata": {},
   "outputs": [
    {
     "name": "stdout",
     "output_type": "stream",
     "text": [
      "1958\n",
      "267\n",
      "1691\n"
     ]
    }
   ],
   "source": [
    "np.random.seed(2345)\n",
    "porcentagem_selecao_valid = (buy_valid / hold_valid)\n",
    "amostra_valid = np.random.choice( a=[0,1], size=hold_valid, replace=True, \n",
    "                                   p=[1-porcentagem_selecao_valid, porcentagem_selecao_valid] )\n",
    "print(len(amostra_valid))\n",
    "print(len(amostra_valid[amostra_valid == 1]))\n",
    "print(len(amostra_valid[amostra_valid == 0]))"
   ]
  },
  {
   "cell_type": "code",
   "execution_count": 30,
   "metadata": {},
   "outputs": [
    {
     "name": "stdout",
     "output_type": "stream",
     "text": [
      "835\n",
      "143\n",
      "692\n"
     ]
    }
   ],
   "source": [
    "np.random.seed(2345)\n",
    "porcentagem_selecao_test = (buy_test / hold_test)\n",
    "amostra_test = np.random.choice( a=[0,1], size=hold_test, replace=True, \n",
    "                                   p=[1-porcentagem_selecao_test, porcentagem_selecao_test] )\n",
    "print(len(amostra_test))\n",
    "print(len(amostra_test[amostra_test == 1]))\n",
    "print(len(amostra_test[amostra_test == 0]))"
   ]
  },
  {
   "cell_type": "code",
   "execution_count": 31,
   "metadata": {},
   "outputs": [],
   "source": [
    "# Padronização dos dados\n",
    "def normalize(data):\n",
    "\n",
    "    scaler_x = StandardScaler()\n",
    "\n",
    "    x = data.iloc[:, :-2]\n",
    "    x = scaler_x.fit_transform(x) \n",
    "\n",
    "    y = data.iloc[:,-1]\n",
    "    y_list = np.array(y.to_list())\n",
    "\n",
    "    return x, y_list"
   ]
  },
  {
   "cell_type": "code",
   "execution_count": 32,
   "metadata": {},
   "outputs": [],
   "source": [
    "# Função para carregar os dados de treino, validação e teste\n",
    "def get_train_valid_test_data(seq_len, df, amostragem):\n",
    "    print('df.shape: ', df.shape)\n",
    "    a=0\n",
    "    # Loop para carregar apenas os dados do 'Undersampling'\n",
    "    for i in range(len(df) - seq_len):\n",
    "        if df['TARGET_PERCENTAGE'][i+seq_len-1] == 'HOLD':\n",
    "            if amostragem[a] == 0:\n",
    "                df.drop((i+seq_len-1), axis=0, inplace=True) \n",
    "            a+=1\n",
    "\n",
    "    x, y = normalize(df)\n",
    "\n",
    "    return x, y"
   ]
  },
  {
   "cell_type": "code",
   "execution_count": 33,
   "metadata": {},
   "outputs": [],
   "source": [
    "# Movimentação da janela: normalizando janela a janela\n",
    "def next_window(i, seq_len, df):\n",
    "    df = df[i:i+seq_len]\n",
    "    scaler_x = StandardScaler()\n",
    "    \n",
    "    x = df.iloc[:, :-2]\n",
    "    # xxx = np.array(x)\n",
    "    x = scaler_x.fit_transform(x) \n",
    "    \n",
    "    y = df.iloc[-1,-1]\n",
    "    # y_list = np.array(y.to_list())\n",
    "    \n",
    "    return x, y"
   ]
  },
  {
   "cell_type": "code",
   "execution_count": 34,
   "metadata": {},
   "outputs": [],
   "source": [
    "# Função para carregar os dados de treino, validação e teste usando técnica de Slide Window\n",
    "def get_train_valid_test_data_Slide_Window(seq_len, df, amostragem):\n",
    "    print('df.shape: ', df.shape)\n",
    "    a=0\n",
    "    data_x = []\n",
    "    data_y = []\n",
    "    for i in range(len(df) - seq_len):\n",
    "        if df['TARGET_PERCENTAGE'].iloc[i+seq_len-1] == 'HOLD':\n",
    "            if amostragem[a] == 1:    \n",
    "                x, y = next_window(i, seq_len, df)\n",
    "                data_x.append(x)\n",
    "                data_y.append(y)\n",
    "            a+=1\n",
    "        else:\n",
    "            x, y = next_window(i, seq_len, df)\n",
    "            data_x.append(x)\n",
    "            data_y.append(y)\n",
    "\n",
    "    return np.array(data_x), np.array(data_y)"
   ]
  },
  {
   "cell_type": "markdown",
   "metadata": {},
   "source": [
    "##### Funções para carregar os features 'x' e os targets 'y' "
   ]
  },
  {
   "cell_type": "code",
   "execution_count": 35,
   "metadata": {},
   "outputs": [
    {
     "name": "stdout",
     "output_type": "stream",
     "text": [
      "df.shape:  (4950, 122)\n",
      "x_train:  (2256, 120)  | y_train:  (2256,)\n"
     ]
    }
   ],
   "source": [
    "df_train_reset_index = df_train[df_train['HORA_NOBRE'] == '1'].reset_index(drop=True)\n",
    "x_train, y_train = get_train_valid_test_data(seq_len=1, \n",
    "                                             df=df_train_reset_index, \n",
    "                                             amostragem=amostra_train)\n",
    "print('x_train: ', x_train.shape,' | y_train: ', y_train.shape)"
   ]
  },
  {
   "cell_type": "code",
   "execution_count": 36,
   "metadata": {},
   "outputs": [
    {
     "name": "stdout",
     "output_type": "stream",
     "text": [
      "df.shape:  (4950, 122)\n",
      "x_train_sw:  (2253, 5, 120)  | y_train_sw:  (2253,)\n"
     ]
    }
   ],
   "source": [
    "df_train_reset_index = df_train[df_train['HORA_NOBRE'] == '1'].reset_index(drop=True)\n",
    "x_train_sw, y_train_sw = get_train_valid_test_data_Slide_Window( seq_len=configs['dataset']['sequence_length'], \n",
    "                                                                 df=df_train_reset_index, \n",
    "                                                                 amostragem=amostra_train)\n",
    "print('x_train_sw: ', x_train_sw.shape,' | y_train_sw: ', y_train_sw.shape)"
   ]
  },
  {
   "cell_type": "code",
   "execution_count": 37,
   "metadata": {
    "scrolled": false
   },
   "outputs": [
    {
     "name": "stdout",
     "output_type": "stream",
     "text": [
      "df.shape:  (2460, 122)\n",
      "(769, 120) (769,)\n"
     ]
    }
   ],
   "source": [
    "df_valid_reset_index = df_valid[df_valid['HORA_NOBRE'] == '1'].reset_index(drop=True)\n",
    "x_valid, y_valid = get_train_valid_test_data( seq_len=1, \n",
    "                                              df=df_valid_reset_index, \n",
    "                                              amostragem=amostra_valid )\n",
    "print(x_valid.shape, y_valid.shape)"
   ]
  },
  {
   "cell_type": "code",
   "execution_count": 38,
   "metadata": {
    "scrolled": true
   },
   "outputs": [
    {
     "name": "stdout",
     "output_type": "stream",
     "text": [
      "df.shape:  (2460, 122)\n",
      "(767, 5, 120) (767,)\n"
     ]
    }
   ],
   "source": [
    "df_valid_reset_index = df_valid[df_valid['HORA_NOBRE'] == '1'].reset_index(drop=True)\n",
    "x_valid_sw, y_valid_sw = get_train_valid_test_data_Slide_Window( seq_len=configs['dataset']['sequence_length'], \n",
    "                                                                 df=df_valid_reset_index, \n",
    "                                                                 amostragem=amostra_valid )\n",
    "print(x_valid_sw.shape, y_valid_sw.shape)"
   ]
  },
  {
   "cell_type": "code",
   "execution_count": 39,
   "metadata": {},
   "outputs": [
    {
     "name": "stdout",
     "output_type": "stream",
     "text": [
      "df.shape:  (1110, 122)\n",
      "(419, 120) (419,)\n"
     ]
    }
   ],
   "source": [
    "df_test_reset_index = df_test[df_test['HORA_NOBRE'] == '1'].reset_index(drop=True)\n",
    "x_test, y_test = get_train_valid_test_data( seq_len=1, \n",
    "                                            df=df_test_reset_index, \n",
    "                                            amostragem=amostra_test )\n",
    "print(x_test.shape, y_test.shape)"
   ]
  },
  {
   "cell_type": "code",
   "execution_count": 40,
   "metadata": {
    "scrolled": true
   },
   "outputs": [
    {
     "name": "stdout",
     "output_type": "stream",
     "text": [
      "df.shape:  (1110, 122)\n",
      "(415, 5, 120) (415,)\n"
     ]
    }
   ],
   "source": [
    "df_test_reset_index = df_test[df_test['HORA_NOBRE'] == '1'].reset_index(drop=True)\n",
    "x_test_sw, y_test_sw = get_train_valid_test_data_Slide_Window(   seq_len=configs['dataset']['sequence_length'], \n",
    "                                                                 df=df_test_reset_index, \n",
    "                                                                 amostragem=amostra_test)\n",
    "print(x_test_sw.shape, y_test_sw.shape)"
   ]
  },
  {
   "cell_type": "code",
   "execution_count": 41,
   "metadata": {},
   "outputs": [],
   "source": [
    "# Para conferir se o balanceamento de dados ocorreu corretamente.\n",
    "def contagem_classes(data, name):\n",
    "    cont_buy = 0\n",
    "    cont_sell = 0\n",
    "    cont_hold = 0\n",
    "    for n in data:\n",
    "        if ((n == 'BUY') or (n == 0)):\n",
    "            cont_buy+=1\n",
    "        if ((n == 'HOLD') or (n == 1)):\n",
    "            cont_hold+=1\n",
    "        if ((n == 'SELL') or (n == 2)):\n",
    "            cont_sell+=1\n",
    "    print('{}.size: '.format(name), data.size, ' | cont_buy: ', cont_buy, ' | cont_hold: ', cont_hold, ' | cont_sell: ', cont_sell)"
   ]
  },
  {
   "cell_type": "code",
   "execution_count": 42,
   "metadata": {},
   "outputs": [
    {
     "name": "stdout",
     "output_type": "stream",
     "text": [
      "Contagem de Classes\n",
      "\n",
      "-----------------------------------------------------------------------------------\n",
      "y_train   .size:  2256  | cont_buy:  757  | cont_hold:  754  | cont_sell:  745\n",
      "y_train_sw.size:  2253  | cont_buy:  757  | cont_hold:  752  | cont_sell:  744\n",
      "-----------------------------------------------------------------------------------\n",
      "y_valid   .size:  769  | cont_buy:  268  | cont_hold:  267  | cont_sell:  234\n",
      "y_valid_sw.size:  767  | cont_buy:  267  | cont_hold:  267  | cont_sell:  233\n",
      "-----------------------------------------------------------------------------------\n",
      "y_test   .size:  419  | cont_buy:  129  | cont_hold:  144  | cont_sell:  146\n",
      "y_test_sw.size:  415  | cont_buy:  128  | cont_hold:  141  | cont_sell:  146\n",
      "-----------------------------------------------------------------------------------\n"
     ]
    }
   ],
   "source": [
    "print('Contagem de Classes\\n')\n",
    "print('-----------------------------------------------------------------------------------')\n",
    "contagem_classes(y_train, 'y_train   ')\n",
    "contagem_classes(y_train_sw, 'y_train_sw')\n",
    "print('-----------------------------------------------------------------------------------')\n",
    "contagem_classes(y_valid, 'y_valid   ')\n",
    "contagem_classes(y_valid_sw, 'y_valid_sw')\n",
    "print('-----------------------------------------------------------------------------------')\n",
    "contagem_classes(y_test, 'y_test   ')\n",
    "contagem_classes(y_test_sw, 'y_test_sw')\n",
    "print('-----------------------------------------------------------------------------------')"
   ]
  },
  {
   "cell_type": "code",
   "execution_count": null,
   "metadata": {},
   "outputs": [],
   "source": []
  },
  {
   "cell_type": "markdown",
   "metadata": {},
   "source": [
    "## Cálculo do Weighted F Score"
   ]
  },
  {
   "cell_type": "code",
   "execution_count": 43,
   "metadata": {},
   "outputs": [],
   "source": [
    "def weightedFScore(confusion_matrix):\n",
    "    beta_1 = math.pow(0.5, 2)\n",
    "    beta_2 = math.pow(0.25, 2)\n",
    "    beta_3 = math.pow(0.125, 2)\n",
    "    \n",
    "    num_tu = confusion_matrix[[0],[0]]\n",
    "    num_tf = confusion_matrix[[1],[1]]\n",
    "    num_td = confusion_matrix[[2],[2]]\n",
    "    \n",
    "    wrongF_trueU = confusion_matrix[[0],[1]]\n",
    "    wrongD_trueU = confusion_matrix[[0],[2]]\n",
    "    \n",
    "    wrongU_trueF = confusion_matrix[[1],[0]]\n",
    "    wrongD_trueF = confusion_matrix[[1],[2]]\n",
    "  \n",
    "    wrongU_trueD = confusion_matrix[[2],[0]]\n",
    "    wrongF_trueD = confusion_matrix[[2],[1]]\n",
    "    \n",
    "    num_tp = num_tu + num_td + (beta_3 * num_tf)\n",
    "    erro_tipo_1 = wrongU_trueD + wrongD_trueU\n",
    "    erro_tipo_2 = wrongU_trueF + wrongD_trueF\n",
    "    erro_tipo_3 = wrongF_trueU + wrongF_trueD\n",
    "    \n",
    "    num = (1 + beta_1 + beta_2) * num_tp\n",
    "    den = num + erro_tipo_1 + (beta_1 * erro_tipo_2) + (beta_2 * erro_tipo_3)\n",
    "    \n",
    "    wFScore = num / den\n",
    "    \n",
    "    return wFScore"
   ]
  },
  {
   "cell_type": "markdown",
   "metadata": {},
   "source": [
    "### Seleção de Atributos"
   ]
  },
  {
   "cell_type": "code",
   "execution_count": 44,
   "metadata": {},
   "outputs": [],
   "source": [
    "from sklearn.ensemble import ExtraTreesClassifier\n",
    "forest = ExtraTreesClassifier()\n",
    "x_xxx = x_train[:, 40:]\n",
    "forest.fit(x_xxx, y_train)\n",
    "importancias = forest.feature_importances_"
   ]
  },
  {
   "cell_type": "code",
   "execution_count": 45,
   "metadata": {},
   "outputs": [
    {
     "data": {
      "text/plain": [
       "array([0.01423813, 0.01398578, 0.01342059, 0.01250033, 0.01159177,\n",
       "       0.01154839, 0.01084865, 0.01395267, 0.01198107, 0.01065818,\n",
       "       0.01093339, 0.01107698, 0.01190576, 0.010272  , 0.01076462,\n",
       "       0.01213716, 0.01279146, 0.01209097, 0.01126708, 0.01144145,\n",
       "       0.01370726, 0.01190012, 0.0128041 , 0.01375736, 0.01188751,\n",
       "       0.01131369, 0.01232431, 0.01264593, 0.01166309, 0.0113458 ,\n",
       "       0.01236457, 0.01377627, 0.01143425, 0.01211504, 0.0114615 ,\n",
       "       0.0126161 , 0.01156786, 0.01142758, 0.01267537, 0.01315055,\n",
       "       0.01138059, 0.01129982, 0.01313309, 0.01387795, 0.01196781,\n",
       "       0.01411751, 0.01132009, 0.01122128, 0.01231553, 0.01171921,\n",
       "       0.01167515, 0.01138525, 0.01161277, 0.01182376, 0.01098728,\n",
       "       0.01116166, 0.01114711, 0.01185006, 0.0109444 , 0.01066452,\n",
       "       0.01185819, 0.01246248, 0.01127032, 0.01200004, 0.0127149 ,\n",
       "       0.01196777, 0.0123561 , 0.01211265, 0.0113272 , 0.01198102,\n",
       "       0.01203877, 0.01663156, 0.01398757, 0.01662337, 0.01691172,\n",
       "       0.01698144, 0.01769219, 0.0187668 , 0.01356292, 0.01580346])"
      ]
     },
     "execution_count": 45,
     "metadata": {},
     "output_type": "execute_result"
    }
   ],
   "source": [
    "importancias"
   ]
  },
  {
   "cell_type": "code",
   "execution_count": 46,
   "metadata": {},
   "outputs": [
    {
     "data": {
      "text/plain": [
       "(2256, 80)"
      ]
     },
     "execution_count": 46,
     "metadata": {},
     "output_type": "execute_result"
    }
   ],
   "source": [
    "x_xxx.shape"
   ]
  },
  {
   "cell_type": "code",
   "execution_count": 47,
   "metadata": {},
   "outputs": [
    {
     "data": {
      "text/plain": [
       "(2256, 120)"
      ]
     },
     "execution_count": 47,
     "metadata": {},
     "output_type": "execute_result"
    }
   ],
   "source": [
    "x_train.shape"
   ]
  },
  {
   "cell_type": "markdown",
   "metadata": {},
   "source": [
    "# Modelos"
   ]
  },
  {
   "cell_type": "code",
   "execution_count": 48,
   "metadata": {},
   "outputs": [],
   "source": [
    "import lightgbm as lgbm\n",
    "import seaborn as sns\n",
    "\n",
    "from sklearn.ensemble import RandomForestClassifier \n",
    "from sklearn.metrics import accuracy_score, confusion_matrix, classification_report"
   ]
  },
  {
   "cell_type": "markdown",
   "metadata": {},
   "source": [
    "## LightGBM"
   ]
  },
  {
   "cell_type": "code",
   "execution_count": 43,
   "metadata": {},
   "outputs": [
    {
     "name": "stdout",
     "output_type": "stream",
     "text": [
      "Accuracy Score - LightGBM:  0.35083532219570407\n"
     ]
    }
   ],
   "source": [
    "model_lgbm = lgbm.LGBMClassifier(n_jobs=-1, random_state=0, n_estimators=5, learning_rate=0.001, num_leaves=2**6,\n",
    "                                 subsample=0.9, subsample_freq=1, colsample_bytree=1.)\n",
    "\n",
    "model_lgbm.fit(x_train, y_train)\n",
    "predict_lgbm = model_lgbm.predict(x_test)\n",
    "\n",
    "accuracy_score_LGBM = accuracy_score(y_test, predict_lgbm)\n",
    "\n",
    "print('Accuracy Score - LightGBM: ', accuracy_score_LGBM)"
   ]
  },
  {
   "cell_type": "code",
   "execution_count": 44,
   "metadata": {},
   "outputs": [
    {
     "name": "stdout",
     "output_type": "stream",
     "text": [
      "              precision    recall  f1-score   support\n",
      "\n",
      "         BUY       0.00      0.00      0.00       129\n",
      "        HOLD       0.33      0.01      0.01       144\n",
      "        SELL       0.35      1.00      0.52       146\n",
      "\n",
      "    accuracy                           0.35       419\n",
      "   macro avg       0.23      0.34      0.18       419\n",
      "weighted avg       0.24      0.35      0.19       419\n",
      "\n"
     ]
    },
    {
     "name": "stderr",
     "output_type": "stream",
     "text": [
      "C:\\Users\\auW10\\anaconda3\\envs\\AlgoTrading\\lib\\site-packages\\sklearn\\metrics\\_classification.py:1245: UndefinedMetricWarning: Precision and F-score are ill-defined and being set to 0.0 in labels with no predicted samples. Use `zero_division` parameter to control this behavior.\n",
      "  _warn_prf(average, modifier, msg_start, len(result))\n",
      "C:\\Users\\auW10\\anaconda3\\envs\\AlgoTrading\\lib\\site-packages\\sklearn\\metrics\\_classification.py:1245: UndefinedMetricWarning: Precision and F-score are ill-defined and being set to 0.0 in labels with no predicted samples. Use `zero_division` parameter to control this behavior.\n",
      "  _warn_prf(average, modifier, msg_start, len(result))\n",
      "C:\\Users\\auW10\\anaconda3\\envs\\AlgoTrading\\lib\\site-packages\\sklearn\\metrics\\_classification.py:1245: UndefinedMetricWarning: Precision and F-score are ill-defined and being set to 0.0 in labels with no predicted samples. Use `zero_division` parameter to control this behavior.\n",
      "  _warn_prf(average, modifier, msg_start, len(result))\n"
     ]
    }
   ],
   "source": [
    "print(classification_report(y_test, predict_lgbm))"
   ]
  },
  {
   "cell_type": "code",
   "execution_count": 45,
   "metadata": {
    "scrolled": false
   },
   "outputs": [
    {
     "data": {
      "text/plain": [
       "array([[  0,   2, 127],\n",
       "       [  0,   1, 143],\n",
       "       [  0,   0, 146]], dtype=int64)"
      ]
     },
     "execution_count": 45,
     "metadata": {},
     "output_type": "execute_result"
    }
   ],
   "source": [
    "from sklearn.metrics import confusion_matrix\n",
    "confusion_matrix = confusion_matrix(y_test, predict_lgbm, labels=[\"BUY\", \"HOLD\", \"SELL\"])\n",
    "confusion_matrix"
   ]
  },
  {
   "cell_type": "code",
   "execution_count": 46,
   "metadata": {},
   "outputs": [
    {
     "name": "stdout",
     "output_type": "stream",
     "text": [
      "Contagem de Classes -> predict_lgbm\n",
      "\n",
      "predict_lgbm.size:  419  | cont_buy:  0  | cont_hold:  3  | cont_sell:  416\n"
     ]
    }
   ],
   "source": [
    "print('Contagem de Classes -> predict_lgbm\\n')\n",
    "contagem_classes(predict_lgbm, 'predict_lgbm')"
   ]
  },
  {
   "cell_type": "code",
   "execution_count": 47,
   "metadata": {},
   "outputs": [
    {
     "data": {
      "text/plain": [
       "<AxesSubplot:>"
      ]
     },
     "execution_count": 47,
     "metadata": {},
     "output_type": "execute_result"
    },
    {
     "data": {
      "image/png": "[encoded data removed]",
      "text/plain": [
       "<Figure size 432x288 with 2 Axes>"
      ]
     },
     "metadata": {
      "needs_background": "light"
     },
     "output_type": "display_data"
    }
   ],
   "source": [
    "# visualize confusion matrix with seaborn heatmap\n",
    "cm_matrix_LGBM = pd.DataFrame(data=confusion_matrix,\n",
    "                        columns=['BUY_P', 'HOLD_P', 'SELL_P'], \n",
    "                        index=['BUY_R', 'HOLD_R', 'SELL_R'])\n",
    "\n",
    "sns.heatmap(cm_matrix_LGBM, annot=True, fmt='d', cmap='YlGnBu')"
   ]
  },
  {
   "cell_type": "code",
   "execution_count": 48,
   "metadata": {},
   "outputs": [
    {
     "data": {
      "text/plain": [
       "0.5405766481465668"
      ]
     },
     "execution_count": 48,
     "metadata": {},
     "output_type": "execute_result"
    }
   ],
   "source": [
    "weightedFScore_LGBM = weightedFScore(confusion_matrix)[0] \n",
    "weightedFScore_LGBM"
   ]
  },
  {
   "cell_type": "markdown",
   "metadata": {},
   "source": [
    "### Compare train and test set accuracy"
   ]
  },
  {
   "cell_type": "code",
   "execution_count": null,
   "metadata": {},
   "outputs": [],
   "source": [
    "#y_pred_train = model_lgbm.predict(x_train)\n",
    "#print('Training-set accuracy score: {0:0.4f}'. format(accuracy_score(y_train, y_pred_train)))"
   ]
  },
  {
   "cell_type": "markdown",
   "metadata": {},
   "source": [
    "### Check for Overfitting"
   ]
  },
  {
   "cell_type": "code",
   "execution_count": null,
   "metadata": {},
   "outputs": [],
   "source": [
    "# print the scores on training and test set\n",
    "\n",
    "#print('Training set score: {:.4f}'.format(model_lgbm.score(x_train, y_train)))\n",
    "\n",
    "#print('Test set score: {:.4f}'.format(model_lgbm.score(x_test, y_test)))"
   ]
  },
  {
   "cell_type": "code",
   "execution_count": null,
   "metadata": {},
   "outputs": [],
   "source": [
    "#print('Validation set score: {:.4f}'.format(model_lgbm.score(x_valid, y_valid)))"
   ]
  },
  {
   "cell_type": "markdown",
   "metadata": {},
   "source": [
    "## Random Forest"
   ]
  },
  {
   "cell_type": "code",
   "execution_count": 49,
   "metadata": {},
   "outputs": [
    {
     "name": "stdout",
     "output_type": "stream",
     "text": [
      "Accuracy Score - Random Forest:  0.31742243436754175\n"
     ]
    }
   ],
   "source": [
    "model_randomF = RandomForestClassifier(n_jobs=-1, random_state=0, n_estimators=5)\n",
    "model_randomF.fit(x_train, y_train)\n",
    "predict_randomF = model_randomF.predict(x_test)\n",
    "\n",
    "accuracy_score_RF = accuracy_score(y_test, predict_randomF)\n",
    "print('Accuracy Score - Random Forest: ', accuracy_score_RF)"
   ]
  },
  {
   "cell_type": "code",
   "execution_count": 50,
   "metadata": {
    "scrolled": false
   },
   "outputs": [
    {
     "name": "stdout",
     "output_type": "stream",
     "text": [
      "              precision    recall  f1-score   support\n",
      "\n",
      "         BUY       0.31      0.41      0.35       129\n",
      "        HOLD       0.32      0.32      0.32       144\n",
      "        SELL       0.33      0.23      0.27       146\n",
      "\n",
      "    accuracy                           0.32       419\n",
      "   macro avg       0.32      0.32      0.31       419\n",
      "weighted avg       0.32      0.32      0.31       419\n",
      "\n"
     ]
    }
   ],
   "source": [
    "print(classification_report(y_test, predict_randomF))"
   ]
  },
  {
   "cell_type": "code",
   "execution_count": 51,
   "metadata": {
    "scrolled": true
   },
   "outputs": [
    {
     "data": {
      "text/plain": [
       "array([[53, 43, 33],\n",
       "       [62, 46, 36],\n",
       "       [56, 56, 34]], dtype=int64)"
      ]
     },
     "execution_count": 51,
     "metadata": {},
     "output_type": "execute_result"
    }
   ],
   "source": [
    "from sklearn.metrics import confusion_matrix\n",
    "confusion_matrix = confusion_matrix(y_test, predict_randomF, labels=[\"BUY\", \"HOLD\", \"SELL\"])\n",
    "confusion_matrix"
   ]
  },
  {
   "cell_type": "code",
   "execution_count": 52,
   "metadata": {},
   "outputs": [
    {
     "name": "stdout",
     "output_type": "stream",
     "text": [
      "Contagem de Classes -> predict_randomF\n",
      "\n",
      "predict_randomF.size:  419  | cont_buy:  171  | cont_hold:  145  | cont_sell:  103\n"
     ]
    }
   ],
   "source": [
    "print('Contagem de Classes -> predict_randomF\\n')\n",
    "contagem_classes(predict_randomF, 'predict_randomF')"
   ]
  },
  {
   "cell_type": "code",
   "execution_count": 53,
   "metadata": {},
   "outputs": [
    {
     "data": {
      "text/plain": [
       "<AxesSubplot:>"
      ]
     },
     "execution_count": 53,
     "metadata": {},
     "output_type": "execute_result"
    },
    {
     "data": {
      "image/png": "[encoded data removed]",
      "text/plain": [
       "<Figure size 432x288 with 2 Axes>"
      ]
     },
     "metadata": {
      "needs_background": "light"
     },
     "output_type": "display_data"
    }
   ],
   "source": [
    "# visualize confusion matrix with seaborn heatmap\n",
    "cm_matrix_RF = pd.DataFrame(data=confusion_matrix,\n",
    "                        columns=['BUY_P', 'HOLD_P', 'SELL_P'], \n",
    "                        index=['BUY_R', 'HOLD_R', 'SELL_R'])\n",
    "\n",
    "sns.heatmap(cm_matrix_RF, annot=True, fmt='d', cmap='YlGnBu')"
   ]
  },
  {
   "cell_type": "code",
   "execution_count": 54,
   "metadata": {},
   "outputs": [
    {
     "data": {
      "text/plain": [
       "0.49029752052367603"
      ]
     },
     "execution_count": 54,
     "metadata": {},
     "output_type": "execute_result"
    }
   ],
   "source": [
    "weightedFScore_RF = weightedFScore(confusion_matrix)[0] \n",
    "weightedFScore_RF"
   ]
  },
  {
   "cell_type": "markdown",
   "metadata": {},
   "source": [
    "### Compare train and test set accuracy"
   ]
  },
  {
   "cell_type": "code",
   "execution_count": null,
   "metadata": {},
   "outputs": [],
   "source": [
    "#y_pred_train = model_randomF.predict(x_train)\n",
    "#print('Training-set accuracy score: {0:0.4f}'. format(accuracy_score(y_train, y_pred_train)))"
   ]
  },
  {
   "cell_type": "markdown",
   "metadata": {},
   "source": [
    "### Check for Overfitting"
   ]
  },
  {
   "cell_type": "code",
   "execution_count": null,
   "metadata": {},
   "outputs": [],
   "source": [
    "# print the scores on training and test set\n",
    "\n",
    "#print('Training set score: {:.4f}'.format(model_randomF.score(x_train, y_train)))\n",
    "\n",
    "#print('Test set score: {:.4f}'.format(model_randomF.score(x_test, y_test)))"
   ]
  },
  {
   "cell_type": "code",
   "execution_count": null,
   "metadata": {},
   "outputs": [],
   "source": [
    "#print('Validation set score: {:.4f}'.format(model_randomF.score(x_valid, y_valid)))"
   ]
  },
  {
   "cell_type": "markdown",
   "metadata": {},
   "source": [
    "# Deep Learning"
   ]
  },
  {
   "cell_type": "code",
   "execution_count": 49,
   "metadata": {},
   "outputs": [],
   "source": [
    "# Encoding categorical data\n",
    "from keras.utils import to_categorical\n",
    "from sklearn.preprocessing import LabelEncoder\n",
    "\n",
    "def encode_categ_data(data):\n",
    "    labelencoder = LabelEncoder()\n",
    "    x = labelencoder.fit_transform(data)\n",
    "    data_encoded = to_categorical(x)\n",
    "    \n",
    "    #print(data[10:20])\n",
    "    #print(data_encoded[10:20])\n",
    "    \n",
    "    return data_encoded"
   ]
  },
  {
   "cell_type": "code",
   "execution_count": 50,
   "metadata": {},
   "outputs": [],
   "source": [
    "# example of training a final classification model\n",
    "from keras.models import Sequential, load_model\n",
    "from core.utils import Timer\n",
    "from keras.layers import Dense, Dropout, LSTM, GRU, SimpleRNN\n",
    "from keras.callbacks import EarlyStopping, ModelCheckpoint\n",
    "from keras.optimizers import SGD, Adam\n",
    "dim = x_train.shape[1]"
   ]
  },
  {
   "cell_type": "markdown",
   "metadata": {},
   "source": [
    "## DNN"
   ]
  },
  {
   "cell_type": "code",
   "execution_count": 51,
   "metadata": {
    "scrolled": true
   },
   "outputs": [
    {
     "name": "stdout",
     "output_type": "stream",
     "text": [
      "[model] Model Compiled\n",
      "Time taken: 0:00:00.243100\n"
     ]
    }
   ],
   "source": [
    "# define and fit the final model\n",
    "timer = Timer()\n",
    "timer.start()\n",
    "\n",
    "model_dnn = Sequential()\n",
    "\n",
    "model_dnn.add(Dense(100, input_dim=dim, activation='relu'))\n",
    "model_dnn.add(Dropout(0.2))\n",
    "model_dnn.add(Dense(75, activation='relu'))\n",
    "model_dnn.add(Dropout(0.4))\n",
    "model_dnn.add(Dense(50, activation='relu'))\n",
    "model_dnn.add(Dropout(0.5))\n",
    "model_dnn.add(Dense(25, activation='relu'))\n",
    "model_dnn.add(Dropout(0.2))\n",
    "model_dnn.add(Dense(3, activation='softmax'))\n",
    "\n",
    "model_dnn.compile(loss='categorical_crossentropy', optimizer='adam', metrics=['accuracy'])\n",
    "\n",
    "print('[model] Model Compiled')\n",
    "#print(model_dnn.summary())\n",
    "timer.stop()\n"
   ]
  },
  {
   "cell_type": "code",
   "execution_count": null,
   "metadata": {
    "scrolled": true
   },
   "outputs": [],
   "source": [
    "'''# define and fit the final model\n",
    "timer = Timer()\n",
    "timer.start()\n",
    "\n",
    "model_dnn = Sequential()\n",
    "\n",
    "model_dnn.add(Dense(100, input_dim=dim, activation='relu'))\n",
    "model_dnn.add(Dropout(0.2))\n",
    "model_dnn.add(Dense(50, activation='relu'))\n",
    "model_dnn.add(Dropout(0.3))\n",
    "model_dnn.add(Dense(30, activation='relu'))\n",
    "model_dnn.add(Dropout(0.3))\n",
    "model_dnn.add(Dense(15, activation='relu'))\n",
    "model_dnn.add(Dropout(0.2))\n",
    "model_dnn.add(Dense(3, activation='softmax'))\n",
    "\n",
    "model_dnn.compile(loss='categorical_crossentropy', optimizer='adam', metrics=['accuracy'])\n",
    "\n",
    "print('[model] Model Compiled')\n",
    "#print(model_dnn.summary())\n",
    "timer.stop()\n",
    "'''"
   ]
  },
  {
   "cell_type": "code",
   "execution_count": 52,
   "metadata": {
    "scrolled": true
   },
   "outputs": [
    {
     "name": "stdout",
     "output_type": "stream",
     "text": [
      "[model] Model Compiled\n",
      "Time taken: 0:00:00.133195\n"
     ]
    }
   ],
   "source": [
    "### SIMPLÃO ###\n",
    "\n",
    "# define and fit the final model\n",
    "timer = Timer()\n",
    "timer.start()\n",
    "\n",
    "model_dnn = Sequential()\n",
    "\n",
    "model_dnn.add(Dense(30, input_dim=dim, activation='relu'))\n",
    "model_dnn.add(Dropout(0.4))\n",
    "model_dnn.add(Dense(15, activation='relu'))\n",
    "model_dnn.add(Dropout(0.4))\n",
    "model_dnn.add(Dense(3, activation='softmax'))\n",
    "\n",
    "model_dnn.compile(loss='categorical_crossentropy', optimizer='adam', metrics=['accuracy'])\n",
    "\n",
    "print('[model] Model Compiled')\n",
    "#print(model_dnn.summary())\n",
    "timer.stop()\n"
   ]
  },
  {
   "cell_type": "code",
   "execution_count": 53,
   "metadata": {
    "scrolled": true
   },
   "outputs": [
    {
     "name": "stdout",
     "output_type": "stream",
     "text": [
      "[Model] Training Started\n",
      "Epoch 1/2\n",
      "71/71 [==============================] - 0s 5ms/step - loss: 1.4377 - accuracy: 0.3453 - val_loss: 1.0972 - val_accuracy: 0.3758\n",
      "Epoch 2/2\n",
      "71/71 [==============================] - 0s 3ms/step - loss: 1.1879 - accuracy: 0.3493 - val_loss: 1.0834 - val_accuracy: 0.3745\n",
      "[Model] Training Completed.\n",
      "Model saved as saved_models\\doc_v2_DNN.h5\n",
      "Time taken: 0:00:02.185033\n"
     ]
    }
   ],
   "source": [
    "timer = Timer()\n",
    "timer.start()\n",
    "print('[Model] Training Started')\n",
    "\n",
    "save_dir=models['model']['save_dir']\n",
    "my_model=models['model']['model_name']\n",
    "save_fname = os.path.join(save_dir, '%s_DNN.h5' % my_model)\n",
    "\n",
    "batch_size=configs['training']['batch_size']\n",
    "\n",
    "callbacks = [ ModelCheckpoint(filepath=save_fname, monitor='loss', save_best_only=True)]\n",
    "es_callbacks = [ EarlyStopping(monitor='val_loss', patience=3) ]\n",
    "\n",
    "y_train_enc = encode_categ_data(y_train)\n",
    "y_valid_enc = encode_categ_data(y_valid)\n",
    "H = model_dnn.fit( x_train, y_train_enc, validation_data=(x_valid, y_valid_enc), epochs=2, \n",
    "                   callbacks=callbacks, workers=1 )\n",
    "\n",
    "model_dnn.save(save_fname)\n",
    "\n",
    "print('[Model] Training Completed.')\n",
    "print('Model saved as %s' % save_fname)\n",
    "\n",
    "timer.stop()"
   ]
  },
  {
   "cell_type": "code",
   "execution_count": 54,
   "metadata": {
    "scrolled": true
   },
   "outputs": [
    {
     "data": {
      "text/plain": [
       "array([[0.27487466, 0.35636818, 0.36875713],\n",
       "       [0.28933135, 0.35590068, 0.35476798],\n",
       "       [0.27639097, 0.3714014 , 0.35220757],\n",
       "       ...,\n",
       "       [0.41040558, 0.12616315, 0.46343124],\n",
       "       [0.4215252 , 0.21796092, 0.36051384],\n",
       "       [0.4030628 , 0.23413046, 0.3628068 ]], dtype=float32)"
      ]
     },
     "execution_count": 54,
     "metadata": {},
     "output_type": "execute_result"
    }
   ],
   "source": [
    "# new instances where we do not know the answer\n",
    "y_pred = model_dnn.predict(x_test) \n",
    "y_pred"
   ]
  },
  {
   "cell_type": "code",
   "execution_count": 55,
   "metadata": {},
   "outputs": [
    {
     "name": "stdout",
     "output_type": "stream",
     "text": [
      "dict_keys(['loss', 'accuracy', 'val_loss', 'val_accuracy'])\n"
     ]
    },
    {
     "data": {
      "image/png": "[encoded data removed]",
      "text/plain": [
       "<Figure size 432x288 with 1 Axes>"
      ]
     },
     "metadata": {
      "needs_background": "light"
     },
     "output_type": "display_data"
    },
    {
     "data": {
      "image/png": "[encoded data removed]",
      "text/plain": [
       "<Figure size 432x288 with 1 Axes>"
      ]
     },
     "metadata": {
      "needs_background": "light"
     },
     "output_type": "display_data"
    }
   ],
   "source": [
    "# list all data in history       \n",
    "print(H.history.keys())\n",
    "# summarize history for accuracy\n",
    "plt.plot(H.history['accuracy'])\n",
    "plt.plot(H.history['val_accuracy'])\n",
    "plt.title('model accuracy')\n",
    "plt.ylabel('accuracy')\n",
    "plt.xlabel('epoch')\n",
    "plt.legend(['accuracy', 'val_accuracy'], loc='upper left')\n",
    "fig_path = 'accuracy_history.png'\n",
    "plt.savefig(fig_path)     \n",
    "plt.show()\n",
    "\n",
    "# summarize history for loss\n",
    "plt.plot(H.history['loss'])\n",
    "plt.plot(H.history['val_loss'])\n",
    "plt.title('model loss')\n",
    "plt.ylabel('loss')\n",
    "plt.xlabel('epoch')\n",
    "plt.legend(['loss', 'val_loss'], loc='upper left')\n",
    "fig_path = 'loss_history.png'\n",
    "plt.savefig(fig_path) \n",
    "plt.show()"
   ]
  },
  {
   "cell_type": "code",
   "execution_count": 56,
   "metadata": {},
   "outputs": [],
   "source": [
    "# BUY | SELL | HOLD\n",
    "\n",
    "labels = ['BUY', 'HOLD', 'SELL'] \n",
    "\n",
    "pred = []\n",
    "for i in y_pred:\n",
    "    pred.append(np.argmax(i))\n",
    "pred_array = np.array(pred)       \n",
    "\n",
    "real = []\n",
    "y_test_enc = encode_categ_data(y_test)\n",
    "for i in y_test_enc:\n",
    "    real.append(np.argmax(i))\n",
    "real_array = np.array(real)    "
   ]
  },
  {
   "cell_type": "code",
   "execution_count": 57,
   "metadata": {},
   "outputs": [
    {
     "name": "stdout",
     "output_type": "stream",
     "text": [
      "[[0.26592216 0.42425472 0.3098231 ]\n",
      " [0.29451317 0.41229331 0.29319352]\n",
      " [0.35065588 0.38062295 0.26872113]\n",
      " [0.3583679  0.37550408 0.26612803]\n",
      " [0.21931204 0.39771318 0.38297483]\n",
      " [0.34005368 0.43195325 0.22799315]\n",
      " [0.44131157 0.3537136  0.20497487]\n",
      " [0.35474524 0.34277657 0.3024782 ]\n",
      " [0.296485   0.36847562 0.33503944]\n",
      " [0.22170927 0.4365044  0.34178635]]\n",
      "[[1. 0. 0.]\n",
      " [0. 1. 0.]\n",
      " [0. 1. 0.]\n",
      " [0. 1. 0.]\n",
      " [0. 1. 0.]\n",
      " [0. 1. 0.]\n",
      " [1. 0. 0.]\n",
      " [1. 0. 0.]\n",
      " [1. 0. 0.]\n",
      " [0. 1. 0.]]\n"
     ]
    }
   ],
   "source": [
    "print(y_pred[10:20])\n",
    "print(y_test_enc[10:20])"
   ]
  },
  {
   "cell_type": "code",
   "execution_count": 58,
   "metadata": {},
   "outputs": [
    {
     "name": "stdout",
     "output_type": "stream",
     "text": [
      "[1 1 1 1 1 1 0 0 1 1]\n",
      "[0 1 1 1 1 1 0 0 0 1]\n"
     ]
    }
   ],
   "source": [
    "print(pred_array[10:20])\n",
    "print(real_array[10:20])"
   ]
  },
  {
   "cell_type": "code",
   "execution_count": 59,
   "metadata": {},
   "outputs": [
    {
     "name": "stdout",
     "output_type": "stream",
     "text": [
      "Accuracy Score - DL:  0.31742243436754175\n"
     ]
    }
   ],
   "source": [
    "accuracy_score_DNN = accuracy_score(real_array, pred_array)\n",
    "print('Accuracy Score - DL: ', accuracy_score_DNN)"
   ]
  },
  {
   "cell_type": "code",
   "execution_count": 60,
   "metadata": {},
   "outputs": [
    {
     "name": "stdout",
     "output_type": "stream",
     "text": [
      "              precision    recall  f1-score   support\n",
      "\n",
      "           0       0.30      0.25      0.27       129\n",
      "           1       0.33      0.41      0.37       144\n",
      "           2       0.31      0.29      0.30       146\n",
      "\n",
      "    accuracy                           0.32       419\n",
      "   macro avg       0.31      0.32      0.31       419\n",
      "weighted avg       0.32      0.32      0.31       419\n",
      "\n"
     ]
    }
   ],
   "source": [
    "print(classification_report(real_array, pred_array))"
   ]
  },
  {
   "cell_type": "code",
   "execution_count": 61,
   "metadata": {
    "scrolled": true
   },
   "outputs": [
    {
     "data": {
      "text/plain": [
       "array([[32, 54, 43],\n",
       "       [35, 59, 50],\n",
       "       [40, 64, 42]], dtype=int64)"
      ]
     },
     "execution_count": 61,
     "metadata": {},
     "output_type": "execute_result"
    }
   ],
   "source": [
    "from sklearn.metrics import confusion_matrix\n",
    "confusion_matrix = confusion_matrix(real_array, pred_array)\n",
    "confusion_matrix"
   ]
  },
  {
   "cell_type": "code",
   "execution_count": 62,
   "metadata": {},
   "outputs": [
    {
     "name": "stdout",
     "output_type": "stream",
     "text": [
      "Contagem de Classes -> DNN_real_array\n",
      "\n",
      "DNN_real_array.size:  419  | cont_buy:  129  | cont_hold:  144  | cont_sell:  146\n"
     ]
    }
   ],
   "source": [
    "print('Contagem de Classes -> DNN_real_array\\n')\n",
    "contagem_classes(real_array, 'DNN_real_array')"
   ]
  },
  {
   "cell_type": "code",
   "execution_count": 63,
   "metadata": {},
   "outputs": [
    {
     "name": "stdout",
     "output_type": "stream",
     "text": [
      "Contagem de Classes -> DNN_pred_array\n",
      "\n",
      "DNN_pred_array.size:  419  | cont_buy:  107  | cont_hold:  177  | cont_sell:  135\n"
     ]
    }
   ],
   "source": [
    "print('Contagem de Classes -> DNN_pred_array\\n')\n",
    "contagem_classes(pred_array, 'DNN_pred_array')"
   ]
  },
  {
   "cell_type": "code",
   "execution_count": 64,
   "metadata": {},
   "outputs": [
    {
     "data": {
      "text/plain": [
       "<AxesSubplot:>"
      ]
     },
     "execution_count": 64,
     "metadata": {},
     "output_type": "execute_result"
    },
    {
     "data": {
      "image/png": "[encoded data removed]",
      "text/plain": [
       "<Figure size 432x288 with 2 Axes>"
      ]
     },
     "metadata": {
      "needs_background": "light"
     },
     "output_type": "display_data"
    }
   ],
   "source": [
    "# visualize confusion matrix with seaborn heatmap\n",
    "cm_matrix_DNN = pd.DataFrame(data=confusion_matrix,\n",
    "                        columns=['BUY_P', 'HOLD_P', 'SELL_P'], \n",
    "                        index=['BUY_R', 'HOLD_R', 'SELL_R'])\n",
    "\n",
    "sns.heatmap(cm_matrix_DNN, annot=True, fmt='d', cmap='YlGnBu')"
   ]
  },
  {
   "cell_type": "code",
   "execution_count": 65,
   "metadata": {},
   "outputs": [
    {
     "data": {
      "text/plain": [
       "0.468351015586119"
      ]
     },
     "execution_count": 65,
     "metadata": {},
     "output_type": "execute_result"
    }
   ],
   "source": [
    "weightedFScore_DNN = weightedFScore(confusion_matrix)[0] \n",
    "weightedFScore_DNN"
   ]
  },
  {
   "cell_type": "code",
   "execution_count": 66,
   "metadata": {
    "scrolled": true
   },
   "outputs": [
    {
     "name": "stdout",
     "output_type": "stream",
     "text": [
      "Training-set accuracy score: 0.4082\n"
     ]
    }
   ],
   "source": [
    "y_pred_train = model_dnn.predict(x_train)\n",
    "\n",
    "labels = ['BUY', 'HOLD', 'SELL'] \n",
    "\n",
    "pred = []\n",
    "for i in y_pred_train:\n",
    "    pred.append(np.argmax(i))\n",
    "pred_array = np.array(pred)       \n",
    "\n",
    "real = []\n",
    "for i in y_train_enc:\n",
    "    real.append(np.argmax(i))\n",
    "real_array = np.array(real)    \n",
    "\n",
    "print('Training-set accuracy score: {0:0.4f}'. format(accuracy_score(real_array, pred_array)))"
   ]
  },
  {
   "cell_type": "code",
   "execution_count": null,
   "metadata": {},
   "outputs": [],
   "source": []
  },
  {
   "cell_type": "code",
   "execution_count": null,
   "metadata": {},
   "outputs": [],
   "source": []
  },
  {
   "cell_type": "markdown",
   "metadata": {},
   "source": [
    "# Banco de Dados"
   ]
  },
  {
   "cell_type": "code",
   "execution_count": 184,
   "metadata": {
    "scrolled": true
   },
   "outputs": [],
   "source": [
    "import os\n",
    "os.remove('models_performance000.db')"
   ]
  },
  {
   "cell_type": "code",
   "execution_count": 176,
   "metadata": {},
   "outputs": [],
   "source": [
    "import sqlite3"
   ]
  },
  {
   "cell_type": "code",
   "execution_count": 177,
   "metadata": {},
   "outputs": [],
   "source": [
    "# Criar conexão com o Banco de Dados\n",
    "# Caso não exista o arquivo, este é criado\n",
    "con = sqlite3.connect('models_performance000.db')"
   ]
  },
  {
   "cell_type": "code",
   "execution_count": 178,
   "metadata": {},
   "outputs": [],
   "source": [
    "# Cursos para percorrer todos os registros em um conjunto de dados\n",
    "cur = con.cursor()"
   ]
  },
  {
   "cell_type": "code",
   "execution_count": 157,
   "metadata": {},
   "outputs": [],
   "source": [
    "# Instrução SQL\n",
    "sql_create = 'create table if not exists models '+\\\n",
    "                '(Datetime TEXT PRIMARY KEY, '+\\\n",
    "                'Nome_Do_Modelo TEXT, '+\\\n",
    "                'dataframe_pkl_name TEXT, '+\\\n",
    "                'Accuracy_Score FLOAT, '+\\\n",
    "                'Weighted_FScore FLOAT, '+\\\n",
    "                'n_estimators INTEGER, '+\\\n",
    "                'sequence_length INTEGER, '+\\\n",
    "                'epochs INTEGER, '+\\\n",
    "                'loops INTEGER)'\n"
   ]
  },
  {
   "cell_type": "code",
   "execution_count": 158,
   "metadata": {},
   "outputs": [
    {
     "data": {
      "text/plain": [
       "<sqlite3.Cursor at 0x21e0be94a40>"
      ]
     },
     "execution_count": 158,
     "metadata": {},
     "output_type": "execute_result"
    }
   ],
   "source": [
    "# Exutar a instrução SQL no cursor\n",
    "cur.execute(sql_create)"
   ]
  },
  {
   "cell_type": "code",
   "execution_count": 159,
   "metadata": {},
   "outputs": [],
   "source": [
    "# Criando uma sentença SQL para inserir registros\n",
    "sql_insert = 'insert into models values (?,?,?,?,?,?,?,?,?)'"
   ]
  },
  {
   "cell_type": "code",
   "execution_count": 160,
   "metadata": {},
   "outputs": [],
   "source": [
    "# Dados a serem inseridos\n",
    "recset = [('20210322_01-40-03', 'modelo1', 'top6', 0.333351, 0.51, 10000, 5, 20, 1),\n",
    "          ('20210322_01-40-05', 'modelo2', 'top6', 0.444451, 0.61, 10000, 5, 20, 1),\n",
    "          ('20210322_01-40-07', 'modelo3', 'top6', 0.555551, 0.71, 'NULL', 5, 20, 1)]"
   ]
  },
  {
   "cell_type": "code",
   "execution_count": 144,
   "metadata": {
    "scrolled": true
   },
   "outputs": [],
   "source": [
    "# Loop para inserir registros no banco de dados\n",
    "for rec in recset:\n",
    "    cur.execute(sql_insert, rec)"
   ]
  },
  {
   "cell_type": "code",
   "execution_count": 163,
   "metadata": {},
   "outputs": [],
   "source": [
    "# Dados a serem inseridos\n",
    "recset = ('20210322_01-40-03', 'modelo1', 'top6', 0.333351, 0.51, 10000, 5, 20, 1)"
   ]
  },
  {
   "cell_type": "code",
   "execution_count": 164,
   "metadata": {},
   "outputs": [
    {
     "data": {
      "text/plain": [
       "<sqlite3.Cursor at 0x21e0be94a40>"
      ]
     },
     "execution_count": 164,
     "metadata": {},
     "output_type": "execute_result"
    }
   ],
   "source": [
    "cur.execute(sql_insert, recset)"
   ]
  },
  {
   "cell_type": "code",
   "execution_count": 165,
   "metadata": {},
   "outputs": [],
   "source": [
    "#Gravar a Transção\n",
    "con.commit()"
   ]
  },
  {
   "cell_type": "code",
   "execution_count": 166,
   "metadata": {},
   "outputs": [],
   "source": [
    "# Para consultar os dados\n",
    "sql_select = 'select * from models'"
   ]
  },
  {
   "cell_type": "code",
   "execution_count": 167,
   "metadata": {},
   "outputs": [],
   "source": [
    "# Selecionar todos os registros e recuperar os registros\n",
    "cur.execute(sql_select)\n",
    "dados_metricas = cur.fetchall()"
   ]
  },
  {
   "cell_type": "code",
   "execution_count": 168,
   "metadata": {},
   "outputs": [
    {
     "name": "stdout",
     "output_type": "stream",
     "text": [
      "Datetime:  20210322_01-40-03\n"
     ]
    }
   ],
   "source": [
    "# Loop para mostrar os dados\n",
    "for linha in dados_metricas:\n",
    "    print('Datetime: ', linha[0])"
   ]
  },
  {
   "cell_type": "code",
   "execution_count": 181,
   "metadata": {},
   "outputs": [],
   "source": [
    "con.close()"
   ]
  },
  {
   "cell_type": "code",
   "execution_count": null,
   "metadata": {},
   "outputs": [],
   "source": []
  },
  {
   "cell_type": "code",
   "execution_count": null,
   "metadata": {},
   "outputs": [],
   "source": []
  },
  {
   "cell_type": "code",
   "execution_count": null,
   "metadata": {},
   "outputs": [],
   "source": []
  },
  {
   "cell_type": "code",
   "execution_count": null,
   "metadata": {},
   "outputs": [],
   "source": []
  },
  {
   "cell_type": "markdown",
   "metadata": {},
   "source": [
    "# LSTM"
   ]
  },
  {
   "cell_type": "code",
   "execution_count": null,
   "metadata": {},
   "outputs": [],
   "source": []
  },
  {
   "cell_type": "code",
   "execution_count": 40,
   "metadata": {
    "scrolled": true
   },
   "outputs": [
    {
     "name": "stdout",
     "output_type": "stream",
     "text": [
      "[model] Model Compiled\n",
      "Time taken: 0:00:02.358467\n"
     ]
    }
   ],
   "source": [
    "# define and fit the final model\n",
    "timer = Timer()\n",
    "timer.start()\n",
    "timesteps = configs['dataset']['sequence_length']\n",
    "\n",
    "model_lstm = Sequential()\n",
    "\n",
    "model_lstm.add(LSTM(200, input_shape=(timesteps, dim), return_sequences=True))\n",
    "model_lstm.add(Dropout(0.1))\n",
    "model_lstm.add(LSTM(150, input_shape=(timesteps, dim), return_sequences=True))\n",
    "model_lstm.add(Dropout(0.2))\n",
    "model_lstm.add(LSTM(100, input_shape=(timesteps, dim), return_sequences=True))\n",
    "model_lstm.add(Dropout(0.2))\n",
    "model_lstm.add(LSTM(100, input_shape=(timesteps, dim), return_sequences=True))\n",
    "model_lstm.add(Dropout(0.2))\n",
    "model_lstm.add(LSTM(100, input_shape=(timesteps, dim), return_sequences=True))\n",
    "model_lstm.add(Dropout(0.2))\n",
    "model_lstm.add(LSTM(50, input_shape=(timesteps, dim), return_sequences=False))\n",
    "model_lstm.add(Dropout(0.2))\n",
    "model_lstm.add(Dense(3, activation='softmax'))\n",
    "\n",
    "model_lstm.compile(loss='categorical_crossentropy', optimizer='adam', metrics=['accuracy'])\n",
    "\n",
    "print('[model] Model Compiled')\n",
    "#print(model_lstm.summary())\n",
    "timer.stop()\n"
   ]
  },
  {
   "cell_type": "code",
   "execution_count": null,
   "metadata": {
    "scrolled": true
   },
   "outputs": [],
   "source": [
    "'''# define and fit the final model\n",
    "timer = Timer()\n",
    "timer.start()\n",
    "timesteps = configs['dataset']['sequence_length']\n",
    "\n",
    "model_lstm = Sequential()\n",
    "\n",
    "model_lstm.add(SimpleRNN(150, input_shape=(timesteps, dim), return_sequences=True))\n",
    "model_lstm.add(Dropout(0.1))\n",
    "model_lstm.add(SimpleRNN(125, input_shape=(timesteps, dim), return_sequences=True))\n",
    "model_lstm.add(LSTM(100, input_shape=(timesteps, dim), return_sequences=True))\n",
    "model_lstm.add(Dropout(0.3))\n",
    "model_lstm.add(LSTM(100, input_shape=(timesteps, dim), return_sequences=True))\n",
    "model_lstm.add(Dropout(0.3))\n",
    "model_lstm.add(GRU(100, input_shape=(timesteps, dim), return_sequences=True))\n",
    "model_lstm.add(Dropout(0.3))\n",
    "model_lstm.add(SimpleRNN(100, input_shape=(timesteps, dim), return_sequences=True))\n",
    "model_lstm.add(Dropout(0.3))\n",
    "model_lstm.add(GRU(100, input_shape=(timesteps, dim), return_sequences=True))\n",
    "model_lstm.add(Dropout(0.3))\n",
    "model_lstm.add(LSTM(100, input_shape=(timesteps, dim), return_sequences=True))\n",
    "model_lstm.add(Dropout(0.3))\n",
    "model_lstm.add(GRU(100, input_shape=(timesteps, dim), return_sequences=True))\n",
    "model_lstm.add(SimpleRNN(90, input_shape=(timesteps, dim), return_sequences=True))\n",
    "model_lstm.add(Dropout(0.3))\n",
    "model_lstm.add(GRU(80, input_shape=(timesteps, dim), return_sequences=True))\n",
    "model_lstm.add(GRU(70, input_shape=(timesteps, dim), return_sequences=True))\n",
    "model_lstm.add(Dropout(0.3))\n",
    "model_lstm.add(LSTM(75, input_shape=(timesteps, dim), return_sequences=True))\n",
    "model_lstm.add(GRU(75, input_shape=(timesteps, dim), return_sequences=True))\n",
    "model_lstm.add(Dropout(0.2))\n",
    "model_lstm.add(LSTM(50, input_shape=(timesteps, dim), return_sequences=False))\n",
    "model_lstm.add(Dropout(0.2))\n",
    "model_lstm.add(Dense(3, activation='softmax'))\n",
    "\n",
    "model_lstm.compile(loss='categorical_crossentropy', optimizer='adam', metrics=['accuracy'])\n",
    "\n",
    "print('[model] Model Compiled')\n",
    "#print(model_lstm.summary())\n",
    "timer.stop()\n",
    "'''"
   ]
  },
  {
   "cell_type": "code",
   "execution_count": 41,
   "metadata": {
    "scrolled": true
   },
   "outputs": [
    {
     "name": "stdout",
     "output_type": "stream",
     "text": [
      "[model] Model Compiled\n",
      "Time taken: 0:00:01.423953\n"
     ]
    }
   ],
   "source": [
    "### SIMPLÃO ###\n",
    "\n",
    "# define and fit the final model\n",
    "timer = Timer()\n",
    "timer.start()\n",
    "timesteps = configs['dataset']['sequence_length']\n",
    "\n",
    "model_lstm = Sequential()\n",
    "\n",
    "model_lstm.add(LSTM(100, input_shape=(timesteps, dim), return_sequences=True))\n",
    "model_lstm.add(Dropout(0.2))\n",
    "model_lstm.add(LSTM(50, input_shape=(timesteps, dim), return_sequences=False))\n",
    "model_lstm.add(Dropout(0.2))\n",
    "model_lstm.add(Dense(3, activation='softmax'))\n",
    "\n",
    "model_lstm.compile(loss='categorical_crossentropy', optimizer='adam', metrics=['accuracy'])\n",
    "\n",
    "print('[model] Model Compiled')\n",
    "#print(model_lstm.summary())\n",
    "timer.stop()\n"
   ]
  },
  {
   "cell_type": "code",
   "execution_count": 42,
   "metadata": {
    "scrolled": true
   },
   "outputs": [
    {
     "name": "stdout",
     "output_type": "stream",
     "text": [
      "[Model] Training Started\n",
      "Epoch 1/2\n",
      "16/16 [==============================] - 2s 102ms/step - loss: 1.0984 - accuracy: 0.3427 - val_loss: 1.0946 - val_accuracy: 0.3872\n",
      "Epoch 2/2\n",
      "16/16 [==============================] - 0s 22ms/step - loss: 1.0810 - accuracy: 0.4026 - val_loss: 1.0943 - val_accuracy: 0.3911\n",
      "[Model] Training Completed.\n",
      "Model saved as saved_models\\doc_v2_LSTM_activTanh.h5\n",
      "Time taken: 0:00:08.129027\n"
     ]
    }
   ],
   "source": [
    "timer = Timer()\n",
    "timer.start()\n",
    "print('[Model] Training Started')\n",
    "\n",
    "save_dir=models['model']['save_dir']\n",
    "my_model=models['model']['model_name']\n",
    "save_fname = os.path.join(save_dir, '%s_LSTM_activTanh.h5' % my_model)\n",
    "\n",
    "batch_size=configs['training']['batch_size']\n",
    "\n",
    "callbacks = [ ModelCheckpoint(filepath=save_fname, monitor='loss', save_best_only=True)]\n",
    "\n",
    "y_train_sw_enc = encode_categ_data(y_train_sw)\n",
    "y_valid_sw_enc = encode_categ_data(y_valid_sw)\n",
    "H = model_lstm.fit( x_train_sw, y_train_sw_enc, validation_data=(x_valid_sw, y_valid_sw_enc), epochs=2, \n",
    "                    batch_size=batch_size, callbacks=callbacks, workers=1 )\n",
    "\n",
    "model_lstm.save(save_fname)\n",
    "\n",
    "print('[Model] Training Completed.')\n",
    "print('Model saved as %s' % save_fname)\n",
    "\n",
    "timer.stop()"
   ]
  },
  {
   "cell_type": "code",
   "execution_count": 76,
   "metadata": {},
   "outputs": [
    {
     "data": {
      "text/plain": [
       "array([[0.2453838 , 0.33738154, 0.41723466],\n",
       "       [0.32086417, 0.32554948, 0.35358638],\n",
       "       [0.37477612, 0.29347506, 0.33174878],\n",
       "       ...,\n",
       "       [0.33269653, 0.41244677, 0.25485677],\n",
       "       [0.389455  , 0.2912177 , 0.3193273 ],\n",
       "       [0.367631  , 0.30934554, 0.3230235 ]], dtype=float32)"
      ]
     },
     "execution_count": 76,
     "metadata": {},
     "output_type": "execute_result"
    }
   ],
   "source": [
    "# new instances where we do not know the answer\n",
    "y_pred = model_lstm.predict(x_test_sw) \n",
    "y_pred"
   ]
  },
  {
   "cell_type": "code",
   "execution_count": 77,
   "metadata": {},
   "outputs": [
    {
     "name": "stdout",
     "output_type": "stream",
     "text": [
      "dict_keys(['loss', 'accuracy', 'val_loss', 'val_accuracy'])\n"
     ]
    },
    {
     "data": {
      "image/png": "[encoded data removed]",
      "text/plain": [
       "<Figure size 432x288 with 1 Axes>"
      ]
     },
     "metadata": {
      "needs_background": "light"
     },
     "output_type": "display_data"
    },
    {
     "data": {
      "image/png": "[encoded data removed]",
      "text/plain": [
       "<Figure size 432x288 with 1 Axes>"
      ]
     },
     "metadata": {
      "needs_background": "light"
     },
     "output_type": "display_data"
    }
   ],
   "source": [
    "# list all data in history       \n",
    "print(H.history.keys())\n",
    "# summarize history for accuracy\n",
    "plt.plot(H.history['accuracy'])\n",
    "plt.plot(H.history['val_accuracy'])\n",
    "plt.title('Model Accuracy')\n",
    "plt.ylabel('Accuracy')\n",
    "plt.xlabel('Epoch')\n",
    "plt.legend(['Train', 'Validation'], loc='upper left')\n",
    "fig_path = 'accuracy_history.png'\n",
    "plt.savefig(fig_path)     \n",
    "plt.show()\n",
    "\n",
    "# summarize history for loss\n",
    "plt.plot(H.history['loss'])\n",
    "plt.plot(H.history['val_loss'])\n",
    "plt.title('Model Loss')\n",
    "plt.ylabel('Loss')\n",
    "plt.xlabel('Epoch')\n",
    "plt.legend(['Train', 'Validation'], loc='upper left')\n",
    "fig_path = 'loss_history.png'\n",
    "plt.savefig(fig_path) \n",
    "plt.show()"
   ]
  },
  {
   "cell_type": "code",
   "execution_count": 78,
   "metadata": {},
   "outputs": [],
   "source": [
    "# BUY | SELL | HOLD\n",
    "\n",
    "labels = ['BUY', 'HOLD', 'SELL'] \n",
    "\n",
    "pred = []\n",
    "for i in y_pred:\n",
    "    pred.append(np.argmax(i))\n",
    "pred_array = np.array(pred)       \n",
    "\n",
    "real = []\n",
    "y_test_sw_enc = encode_categ_data(y_test_sw)\n",
    "for i in y_test_sw_enc:\n",
    "    real.append(np.argmax(i))\n",
    "real_array = np.array(real)   "
   ]
  },
  {
   "cell_type": "code",
   "execution_count": 79,
   "metadata": {},
   "outputs": [
    {
     "name": "stdout",
     "output_type": "stream",
     "text": [
      "[[0.2453838  0.33738154 0.41723466]\n",
      " [0.32086417 0.32554948 0.35358638]\n",
      " [0.37477612 0.29347506 0.33174878]\n",
      " [0.24091563 0.57584155 0.1832428 ]\n",
      " [0.27335775 0.53791887 0.18872336]\n",
      " [0.3655565  0.33351904 0.3009245 ]\n",
      " [0.35036337 0.3432478  0.30638885]\n",
      " [0.32984662 0.36831653 0.30183688]\n",
      " [0.25303525 0.49337208 0.2535927 ]\n",
      " [0.2608361  0.48550028 0.25366357]]\n",
      "[2 2 0 1 1 0 0 1 1 1]\n"
     ]
    }
   ],
   "source": [
    "print(y_pred[0:10])\n",
    "print(pred_array[0:10])"
   ]
  },
  {
   "cell_type": "code",
   "execution_count": 80,
   "metadata": {
    "scrolled": true
   },
   "outputs": [
    {
     "name": "stdout",
     "output_type": "stream",
     "text": [
      "[[0. 1. 0.]\n",
      " [1. 0. 0.]\n",
      " [1. 0. 0.]\n",
      " [1. 0. 0.]\n",
      " [0. 0. 1.]\n",
      " [0. 0. 1.]\n",
      " [0. 0. 1.]\n",
      " [0. 0. 1.]\n",
      " [0. 0. 1.]\n",
      " [0. 1. 0.]]\n",
      "[1 0 0 0 2 2 2 2 2 1]\n"
     ]
    }
   ],
   "source": [
    "print(y_test_sw_enc[100:110])\n",
    "print(real_array[100:110])"
   ]
  },
  {
   "cell_type": "code",
   "execution_count": 81,
   "metadata": {},
   "outputs": [
    {
     "name": "stdout",
     "output_type": "stream",
     "text": [
      "Accuracy Score - LSTM:  0.3301204819277108\n"
     ]
    }
   ],
   "source": [
    "accuracy_score_LSTM = accuracy_score(real_array, pred_array)\n",
    "print('Accuracy Score - LSTM: ', accuracy_score_LSTM)"
   ]
  },
  {
   "cell_type": "code",
   "execution_count": 82,
   "metadata": {},
   "outputs": [
    {
     "name": "stdout",
     "output_type": "stream",
     "text": [
      "              precision    recall  f1-score   support\n",
      "\n",
      "           0       0.27      0.23      0.25       128\n",
      "           1       0.34      0.48      0.40       141\n",
      "           2       0.37      0.27      0.31       146\n",
      "\n",
      "    accuracy                           0.33       415\n",
      "   macro avg       0.33      0.33      0.32       415\n",
      "weighted avg       0.33      0.33      0.32       415\n",
      "\n"
     ]
    }
   ],
   "source": [
    "print(classification_report(real_array, pred_array))"
   ]
  },
  {
   "cell_type": "code",
   "execution_count": 83,
   "metadata": {},
   "outputs": [
    {
     "data": {
      "text/plain": [
       "array([[29, 64, 35],\n",
       "       [40, 68, 33],\n",
       "       [39, 67, 40]], dtype=int64)"
      ]
     },
     "execution_count": 83,
     "metadata": {},
     "output_type": "execute_result"
    }
   ],
   "source": [
    "from sklearn.metrics import confusion_matrix\n",
    "confusion_matrix = confusion_matrix(real_array, pred_array)\n",
    "confusion_matrix"
   ]
  },
  {
   "cell_type": "code",
   "execution_count": 84,
   "metadata": {},
   "outputs": [
    {
     "name": "stdout",
     "output_type": "stream",
     "text": [
      "Contagem de Classes -> LSTM_real_array\n",
      "\n",
      "LSTM_real_array.size:  415  | cont_buy:  128  | cont_hold:  141  | cont_sell:  146\n"
     ]
    }
   ],
   "source": [
    "print('Contagem de Classes -> LSTM_real_array\\n')\n",
    "contagem_classes(real_array, 'LSTM_real_array')"
   ]
  },
  {
   "cell_type": "code",
   "execution_count": 85,
   "metadata": {},
   "outputs": [
    {
     "name": "stdout",
     "output_type": "stream",
     "text": [
      "Contagem de Classes -> LSTM_pred_array\n",
      "\n",
      "LSTM_pred_array.size:  415  | cont_buy:  108  | cont_hold:  199  | cont_sell:  108\n"
     ]
    }
   ],
   "source": [
    "print('Contagem de Classes -> LSTM_pred_array\\n')\n",
    "contagem_classes(pred_array, 'LSTM_pred_array')"
   ]
  },
  {
   "cell_type": "code",
   "execution_count": 86,
   "metadata": {},
   "outputs": [
    {
     "data": {
      "text/plain": [
       "0.47796073335634376"
      ]
     },
     "execution_count": 86,
     "metadata": {},
     "output_type": "execute_result"
    }
   ],
   "source": [
    "weightedFScore_LSTM = weightedFScore(confusion_matrix)[0] \n",
    "weightedFScore_LSTM"
   ]
  },
  {
   "cell_type": "code",
   "execution_count": 87,
   "metadata": {},
   "outputs": [
    {
     "data": {
      "text/plain": [
       "<AxesSubplot:>"
      ]
     },
     "execution_count": 87,
     "metadata": {},
     "output_type": "execute_result"
    },
    {
     "data": {
      "image/png": "[encoded data removed]",
      "text/plain": [
       "<Figure size 432x288 with 2 Axes>"
      ]
     },
     "metadata": {
      "needs_background": "light"
     },
     "output_type": "display_data"
    }
   ],
   "source": [
    "# visualize confusion matrix with seaborn heatmap\n",
    "cm_matrix_LSTM = pd.DataFrame(data=confusion_matrix,\n",
    "                        columns=['BUY_P', 'HOLD_P', 'SELL_P'], \n",
    "                        index=['BUY_R', 'HOLD_R', 'SELL_R'])\n",
    "\n",
    "sns.heatmap(cm_matrix_LSTM, annot=True, fmt='d', cmap='YlGnBu')"
   ]
  },
  {
   "cell_type": "code",
   "execution_count": 88,
   "metadata": {},
   "outputs": [
    {
     "name": "stdout",
     "output_type": "stream",
     "text": [
      "Training-set accuracy score LSTM: 0.3968\n"
     ]
    }
   ],
   "source": [
    "y_pred_train_sw = model_lstm.predict(x_train_sw)\n",
    "\n",
    "labels = ['BUY', 'HOLD', 'SELL'] \n",
    "\n",
    "pred = []\n",
    "for i in y_pred_train_sw:\n",
    "    pred.append(np.argmax(i))\n",
    "pred_array = np.array(pred)       \n",
    "\n",
    "real = []\n",
    "y_train_sw_enc = encode_categ_data(y_train_sw)\n",
    "for i in y_train_sw_enc:\n",
    "    real.append(np.argmax(i))\n",
    "real_array = np.array(real)    \n",
    "\n",
    "print('Training-set accuracy score LSTM: {0:0.4f}'. format(accuracy_score(real_array, pred_array)))"
   ]
  },
  {
   "cell_type": "code",
   "execution_count": null,
   "metadata": {},
   "outputs": [],
   "source": []
  },
  {
   "cell_type": "markdown",
   "metadata": {},
   "source": [
    "# Resumo"
   ]
  },
  {
   "cell_type": "code",
   "execution_count": 89,
   "metadata": {},
   "outputs": [
    {
     "name": "stdout",
     "output_type": "stream",
     "text": [
      "-------------Resumo-------------\n",
      "\n",
      "Accuracy Score - LGBM:  0.35083532219570407\n",
      "Weighted F Score - LGBM:  0.5405766481465668\n",
      "\n",
      "Accuracy Score - Random Forest:  0.31742243436754175\n",
      "Weighted F Score - Random Forest:  0.49029752052367603\n",
      "\n",
      "Accuracy Score - DNN:  0.3627684964200477\n",
      "Weighted F Score - DNN:  0.5226462767424669\n",
      "\n",
      "Accuracy Score - LSTM:  0.3301204819277108\n",
      "Weighted F Score - LSTM:  0.47796073335634376\n"
     ]
    }
   ],
   "source": [
    "print('-------------Resumo-------------')\n",
    "\n",
    "print('\\nAccuracy Score - LGBM: ', accuracy_score_LGBM)\n",
    "print('Weighted F Score - LGBM: ', weightedFScore_LGBM)\n",
    "\n",
    "print('\\nAccuracy Score - Random Forest: ', accuracy_score_RF)\n",
    "print('Weighted F Score - Random Forest: ', weightedFScore_RF)\n",
    "\n",
    "print('\\nAccuracy Score - DNN: ', accuracy_score_DNN)\n",
    "print('Weighted F Score - DNN: ', weightedFScore_DNN)\n",
    "\n",
    "print('\\nAccuracy Score - LSTM: ', accuracy_score_LSTM)\n",
    "print('Weighted F Score - LSTM: ', weightedFScore_LSTM)"
   ]
  },
  {
   "cell_type": "code",
   "execution_count": 90,
   "metadata": {},
   "outputs": [
    {
     "data": {
      "image/png": "[encoded data removed]",
      "text/plain": [
       "<Figure size 720x504 with 8 Axes>"
      ]
     },
     "metadata": {
      "needs_background": "light"
     },
     "output_type": "display_data"
    }
   ],
   "source": [
    "plt.figure(figsize=[10,7])\n",
    "plt.subplot(2,2,1)\n",
    "plt.title('LGBM Heatmap')\n",
    "sns.heatmap(cm_matrix_LGBM, annot=True, fmt='d', cmap='YlGnBu')\n",
    "\n",
    "plt.subplot(2,2,2)\n",
    "plt.title('Random Forest Heatmap')\n",
    "sns.heatmap(cm_matrix_RF, annot=True, fmt='d', cmap='YlGnBu')\n",
    "\n",
    "plt.subplot(2,2,3)\n",
    "plt.title('DNN Heatmap')\n",
    "sns.heatmap(cm_matrix_DNN, annot=True, fmt='d', cmap='YlGnBu')\n",
    "\n",
    "plt.subplot(2,2,4)\n",
    "plt.title('LSTM Heatmap')\n",
    "sns.heatmap(cm_matrix_LSTM, annot=True, fmt='d', cmap='YlGnBu')\n",
    "\n",
    "plt.tight_layout()"
   ]
  },
  {
   "cell_type": "code",
   "execution_count": 91,
   "metadata": {},
   "outputs": [],
   "source": [
    "# save trained model\n",
    "#pickle.dump( model_lgbm, open( 'saved_models/model_LGBM_135features_5000.pkl', 'wb' ) )"
   ]
  },
  {
   "cell_type": "code",
   "execution_count": 92,
   "metadata": {},
   "outputs": [],
   "source": [
    "#pickle.dump( model_dnn, open( 'saved_models/model_DNN_135features_50.pkl', 'wb' ) )"
   ]
  },
  {
   "cell_type": "code",
   "execution_count": 93,
   "metadata": {},
   "outputs": [],
   "source": [
    "#pickle.dump( model_randomF, open( 'saved_models/model_RF_135features_5000.pkl', 'wb' ) )"
   ]
  },
  {
   "cell_type": "code",
   "execution_count": null,
   "metadata": {},
   "outputs": [],
   "source": []
  },
  {
   "cell_type": "code",
   "execution_count": null,
   "metadata": {},
   "outputs": [],
   "source": []
  },
  {
   "cell_type": "code",
   "execution_count": null,
   "metadata": {},
   "outputs": [],
   "source": []
  },
  {
   "cell_type": "code",
   "execution_count": null,
   "metadata": {},
   "outputs": [],
   "source": []
  },
  {
   "cell_type": "code",
   "execution_count": null,
   "metadata": {},
   "outputs": [],
   "source": []
  }
 ],
 "metadata": {
  "kernelspec": {
   "display_name": "Python 3",
   "language": "python",
   "name": "python3"
  },
  "language_info": {
   "codemirror_mode": {
    "name": "ipython",
    "version": 3
   },
   "file_extension": ".py",
   "mimetype": "text/x-python",
   "name": "python",
   "nbconvert_exporter": "python",
   "pygments_lexer": "ipython3",
   "version": "3.8.8"
  }
 },
 "nbformat": 4,
 "nbformat_minor": 4
}
