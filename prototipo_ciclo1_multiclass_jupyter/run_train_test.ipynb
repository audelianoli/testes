{
 "cells": [
  {
   "cell_type": "markdown",
   "metadata": {},
   "source": [
    "# Imports"
   ]
  },
  {
   "cell_type": "code",
   "execution_count": 1,
   "metadata": {},
   "outputs": [],
   "source": [
    "import os\n",
    "import json\n",
    "import math\n",
    "import matplotlib.pyplot as plt\n",
    "import numpy as np\n",
    "import pandas as pd\n",
    "\n",
    "from sklearn.preprocessing import MinMaxScaler, StandardScaler, RobustScaler, MaxAbsScaler, Normalizer, QuantileTransformer"
   ]
  },
  {
   "cell_type": "code",
   "execution_count": 2,
   "metadata": {},
   "outputs": [],
   "source": [
    "# Carregando as configurações do arquivo 'config_modelo.json'\n",
    "configs = json.load(open('config_modelo.json', 'r'))"
   ]
  },
  {
   "cell_type": "code",
   "execution_count": 3,
   "metadata": {},
   "outputs": [],
   "source": [
    "# Criar a pasta 'save_dir' caso não exista no diretório\n",
    "if not os.path.exists(configs['model']['save_dir']):\n",
    "            os.makedirs(configs['model']['save_dir'])"
   ]
  },
  {
   "cell_type": "code",
   "execution_count": 4,
   "metadata": {},
   "outputs": [
    {
     "name": "stdout",
     "output_type": "stream",
     "text": [
      "(139882, 38)\n"
     ]
    },
    {
     "data": {
      "text/html": [
       "<div>\n",
       "<style scoped>\n",
       "    .dataframe tbody tr th:only-of-type {\n",
       "        vertical-align: middle;\n",
       "    }\n",
       "\n",
       "    .dataframe tbody tr th {\n",
       "        vertical-align: top;\n",
       "    }\n",
       "\n",
       "    .dataframe thead th {\n",
       "        text-align: right;\n",
       "    }\n",
       "</style>\n",
       "<table border=\"1\" class=\"dataframe\">\n",
       "  <thead>\n",
       "    <tr style=\"text-align: right;\">\n",
       "      <th></th>\n",
       "      <th>DATETIME</th>\n",
       "      <th>DATE</th>\n",
       "      <th>TIME</th>\n",
       "      <th>OPEN</th>\n",
       "      <th>HIGH</th>\n",
       "      <th>LOW</th>\n",
       "      <th>CLOSE</th>\n",
       "      <th>VOL</th>\n",
       "      <th>EMA_20</th>\n",
       "      <th>MIDPOINT_20</th>\n",
       "      <th>...</th>\n",
       "      <th>MES</th>\n",
       "      <th>DIA_SEMANA</th>\n",
       "      <th>HORA_NOBRE</th>\n",
       "      <th>TARGET_WIN</th>\n",
       "      <th>TARGET_WIN_CAT3</th>\n",
       "      <th>TARGET_WIN_CAT3_LABEL</th>\n",
       "      <th>TARGET_WIN_CAT_ENC</th>\n",
       "      <th>HOLD</th>\n",
       "      <th>SELL</th>\n",
       "      <th>BUY</th>\n",
       "    </tr>\n",
       "  </thead>\n",
       "  <tbody>\n",
       "    <tr>\n",
       "      <th>0</th>\n",
       "      <td>2014-11-19 12:25:00</td>\n",
       "      <td>2014.11.19</td>\n",
       "      <td>12:25:00</td>\n",
       "      <td>53675.0</td>\n",
       "      <td>53780.0</td>\n",
       "      <td>53550.0</td>\n",
       "      <td>53560.0</td>\n",
       "      <td>7494.0</td>\n",
       "      <td>53259.250000</td>\n",
       "      <td>53367.5</td>\n",
       "      <td>...</td>\n",
       "      <td>11</td>\n",
       "      <td>2</td>\n",
       "      <td>2</td>\n",
       "      <td>-70.0</td>\n",
       "      <td>HOLD</td>\n",
       "      <td>2</td>\n",
       "      <td>1</td>\n",
       "      <td>1</td>\n",
       "      <td>0</td>\n",
       "      <td>0</td>\n",
       "    </tr>\n",
       "    <tr>\n",
       "      <th>1</th>\n",
       "      <td>2014-11-19 12:30:00</td>\n",
       "      <td>2014.11.19</td>\n",
       "      <td>12:30:00</td>\n",
       "      <td>53560.0</td>\n",
       "      <td>53565.0</td>\n",
       "      <td>53405.0</td>\n",
       "      <td>53410.0</td>\n",
       "      <td>8363.0</td>\n",
       "      <td>53273.607143</td>\n",
       "      <td>53367.5</td>\n",
       "      <td>...</td>\n",
       "      <td>11</td>\n",
       "      <td>2</td>\n",
       "      <td>2</td>\n",
       "      <td>15.0</td>\n",
       "      <td>HOLD</td>\n",
       "      <td>2</td>\n",
       "      <td>1</td>\n",
       "      <td>1</td>\n",
       "      <td>0</td>\n",
       "      <td>0</td>\n",
       "    </tr>\n",
       "  </tbody>\n",
       "</table>\n",
       "<p>2 rows × 38 columns</p>\n",
       "</div>"
      ],
      "text/plain": [
       "             DATETIME        DATE      TIME     OPEN     HIGH      LOW  \\\n",
       "0 2014-11-19 12:25:00  2014.11.19  12:25:00  53675.0  53780.0  53550.0   \n",
       "1 2014-11-19 12:30:00  2014.11.19  12:30:00  53560.0  53565.0  53405.0   \n",
       "\n",
       "     CLOSE     VOL        EMA_20  MIDPOINT_20  ...  MES  DIA_SEMANA  \\\n",
       "0  53560.0  7494.0  53259.250000      53367.5  ...   11           2   \n",
       "1  53410.0  8363.0  53273.607143      53367.5  ...   11           2   \n",
       "\n",
       "   HORA_NOBRE  TARGET_WIN  TARGET_WIN_CAT3  TARGET_WIN_CAT3_LABEL  \\\n",
       "0           2       -70.0             HOLD                      2   \n",
       "1           2        15.0             HOLD                      2   \n",
       "\n",
       "   TARGET_WIN_CAT_ENC  HOLD  SELL  BUY  \n",
       "0                   1     1     0    0  \n",
       "1                   1     1     0    0  \n",
       "\n",
       "[2 rows x 38 columns]"
      ]
     },
     "execution_count": 4,
     "metadata": {},
     "output_type": "execute_result"
    }
   ],
   "source": [
    "# Carregar o Dataset\n",
    "filepath = 'C:/Users/auW10/Documents/CodigosDoAu/000_Doutorado/dataset/'\n",
    "df = pd.read_pickle(filepath+'dataset_with_TI_ciclo1_multiclass_jupyter.pkl')\n",
    "print(df.shape)\n",
    "df.head(2)"
   ]
  },
  {
   "cell_type": "markdown",
   "metadata": {},
   "source": [
    "## Split dos Dados"
   ]
  },
  {
   "cell_type": "code",
   "execution_count": 5,
   "metadata": {},
   "outputs": [
    {
     "data": {
      "text/plain": [
       "['DATETIME',\n",
       " 'DATE',\n",
       " 'TIME',\n",
       " 'OPEN',\n",
       " 'HIGH',\n",
       " 'LOW',\n",
       " 'CLOSE',\n",
       " 'VOL',\n",
       " 'EMA_20',\n",
       " 'MIDPOINT_20',\n",
       " 'SAR_2',\n",
       " 'SAR_6',\n",
       " 'TRIMA_10',\n",
       " 'ADX_6',\n",
       " 'APO_5_12',\n",
       " 'BOP',\n",
       " 'CCI_12',\n",
       " 'MFI_6',\n",
       " 'MOM_6',\n",
       " 'PPO_12_20',\n",
       " 'ROC_5',\n",
       " 'RSI_10',\n",
       " 'TRIX_5',\n",
       " 'AD',\n",
       " 'ADOSC',\n",
       " 'OBV',\n",
       " 'ATR_12',\n",
       " 'TRANGE',\n",
       " 'MES',\n",
       " 'DIA_SEMANA',\n",
       " 'HORA_NOBRE',\n",
       " 'TARGET_WIN',\n",
       " 'TARGET_WIN_CAT3',\n",
       " 'TARGET_WIN_CAT3_LABEL',\n",
       " 'TARGET_WIN_CAT_ENC',\n",
       " 'HOLD',\n",
       " 'SELL',\n",
       " 'BUY']"
      ]
     },
     "execution_count": 5,
     "metadata": {},
     "output_type": "execute_result"
    }
   ],
   "source": [
    "df.columns.tolist()"
   ]
  },
  {
   "cell_type": "code",
   "execution_count": 6,
   "metadata": {},
   "outputs": [
    {
     "name": "stdout",
     "output_type": "stream",
     "text": [
      "(139882, 38)\n",
      "(139882, 23)\n"
     ]
    },
    {
     "data": {
      "text/html": [
       "<div>\n",
       "<style scoped>\n",
       "    .dataframe tbody tr th:only-of-type {\n",
       "        vertical-align: middle;\n",
       "    }\n",
       "\n",
       "    .dataframe tbody tr th {\n",
       "        vertical-align: top;\n",
       "    }\n",
       "\n",
       "    .dataframe thead th {\n",
       "        text-align: right;\n",
       "    }\n",
       "</style>\n",
       "<table border=\"1\" class=\"dataframe\">\n",
       "  <thead>\n",
       "    <tr style=\"text-align: right;\">\n",
       "      <th></th>\n",
       "      <th>DATETIME</th>\n",
       "      <th>DATE</th>\n",
       "      <th>TIME</th>\n",
       "      <th>OPEN</th>\n",
       "      <th>HIGH</th>\n",
       "      <th>LOW</th>\n",
       "      <th>CLOSE</th>\n",
       "      <th>VOL</th>\n",
       "      <th>EMA_20</th>\n",
       "      <th>TRIMA_10</th>\n",
       "      <th>...</th>\n",
       "      <th>MOM_6</th>\n",
       "      <th>RSI_10</th>\n",
       "      <th>OBV</th>\n",
       "      <th>ATR_12</th>\n",
       "      <th>TRANGE</th>\n",
       "      <th>HORA_NOBRE</th>\n",
       "      <th>TARGET_WIN_CAT3</th>\n",
       "      <th>HOLD</th>\n",
       "      <th>SELL</th>\n",
       "      <th>BUY</th>\n",
       "    </tr>\n",
       "  </thead>\n",
       "  <tbody>\n",
       "    <tr>\n",
       "      <th>0</th>\n",
       "      <td>2014-11-19 12:25:00</td>\n",
       "      <td>2014.11.19</td>\n",
       "      <td>12:25:00</td>\n",
       "      <td>53675.0</td>\n",
       "      <td>53780.0</td>\n",
       "      <td>53550.0</td>\n",
       "      <td>53560.0</td>\n",
       "      <td>7494.0</td>\n",
       "      <td>53259.250000</td>\n",
       "      <td>53307.500000</td>\n",
       "      <td>...</td>\n",
       "      <td>320.0</td>\n",
       "      <td>68.670278</td>\n",
       "      <td>25358.0</td>\n",
       "      <td>130.723615</td>\n",
       "      <td>230.0</td>\n",
       "      <td>2</td>\n",
       "      <td>HOLD</td>\n",
       "      <td>1</td>\n",
       "      <td>0</td>\n",
       "      <td>0</td>\n",
       "    </tr>\n",
       "    <tr>\n",
       "      <th>1</th>\n",
       "      <td>2014-11-19 12:30:00</td>\n",
       "      <td>2014.11.19</td>\n",
       "      <td>12:30:00</td>\n",
       "      <td>53560.0</td>\n",
       "      <td>53565.0</td>\n",
       "      <td>53405.0</td>\n",
       "      <td>53410.0</td>\n",
       "      <td>8363.0</td>\n",
       "      <td>53273.607143</td>\n",
       "      <td>53359.833333</td>\n",
       "      <td>...</td>\n",
       "      <td>165.0</td>\n",
       "      <td>56.517372</td>\n",
       "      <td>16995.0</td>\n",
       "      <td>133.163314</td>\n",
       "      <td>160.0</td>\n",
       "      <td>2</td>\n",
       "      <td>HOLD</td>\n",
       "      <td>1</td>\n",
       "      <td>0</td>\n",
       "      <td>0</td>\n",
       "    </tr>\n",
       "  </tbody>\n",
       "</table>\n",
       "<p>2 rows × 23 columns</p>\n",
       "</div>"
      ],
      "text/plain": [
       "             DATETIME        DATE      TIME     OPEN     HIGH      LOW  \\\n",
       "0 2014-11-19 12:25:00  2014.11.19  12:25:00  53675.0  53780.0  53550.0   \n",
       "1 2014-11-19 12:30:00  2014.11.19  12:30:00  53560.0  53565.0  53405.0   \n",
       "\n",
       "     CLOSE     VOL        EMA_20      TRIMA_10  ...  MOM_6     RSI_10  \\\n",
       "0  53560.0  7494.0  53259.250000  53307.500000  ...  320.0  68.670278   \n",
       "1  53410.0  8363.0  53273.607143  53359.833333  ...  165.0  56.517372   \n",
       "\n",
       "       OBV      ATR_12  TRANGE  HORA_NOBRE  TARGET_WIN_CAT3  HOLD SELL BUY  \n",
       "0  25358.0  130.723615   230.0           2             HOLD     1    0   0  \n",
       "1  16995.0  133.163314   160.0           2             HOLD     1    0   0  \n",
       "\n",
       "[2 rows x 23 columns]"
      ]
     },
     "execution_count": 6,
     "metadata": {},
     "output_type": "execute_result"
    }
   ],
   "source": [
    "print(df.shape)\n",
    "df2 = df.drop([  'MES',\n",
    "                 'DIA_SEMANA', \n",
    "                 'TARGET_WIN',\n",
    "                 'TARGET_WIN_CAT3_LABEL',\n",
    "                 'TARGET_WIN_CAT_ENC',\n",
    "             \n",
    "             'MIDPOINT_20',\n",
    "             'SAR_2',\n",
    "             'SAR_6', \n",
    "             'CCI_12',\n",
    "             'PPO_12_20',\n",
    "             'AD',\n",
    "             'ADOSC',\n",
    "             'TRIX_5',\n",
    "             'ROC_5',\n",
    "             'APO_5_12'\n",
    "               \n",
    "              ], axis=1)\n",
    "print(df2.shape)\n",
    "df2.head(2)"
   ]
  },
  {
   "cell_type": "code",
   "execution_count": 7,
   "metadata": {
    "scrolled": true
   },
   "outputs": [
    {
     "name": "stdout",
     "output_type": "stream",
     "text": [
      "Proporção Train: 59.1% | Validation: 18.9% | Test: 22.0%\n",
      "(82670, 20) (26410, 20) (30802, 20)\n"
     ]
    },
    {
     "name": "stderr",
     "output_type": "stream",
     "text": [
      "C:\\Users\\auW10\\Anaconda3\\envs\\phd\\lib\\site-packages\\pandas\\core\\frame.py:4170: SettingWithCopyWarning: \n",
      "A value is trying to be set on a copy of a slice from a DataFrame\n",
      "\n",
      "See the caveats in the documentation: https://pandas.pydata.org/pandas-docs/stable/user_guide/indexing.html#returning-a-view-versus-a-copy\n",
      "  errors=errors,\n"
     ]
    }
   ],
   "source": [
    "df_train = df2[(df2['DATETIME'] >= '2014-01-01') & (df2['DATETIME'] < '2018-01-01')]\n",
    "#df_train = df_train.iloc[-13200:, :]\n",
    "df_valid = df2[(df2['DATETIME'] >= '2018-01-01') & (df2['DATETIME'] < '2019-01-01')]\n",
    "#df_valid = df_valid.iloc[:6600, :]\n",
    "df_test  = df2[(df2['DATETIME'] >= '2019-01-01')]\n",
    "#df_test = df_test.iloc[:500,:]\n",
    "\n",
    "print('Proporção Train: {:.1%} | Validation: {:.1%} | Test: {:.1%}'.format(\n",
    "                                            df_train['EMA_20'].count()/df2['EMA_20'].count(),\n",
    "                                            df_valid['EMA_20'].count()/df2['EMA_20'].count(),\n",
    "                                            df_test['EMA_20'].count()/df2['EMA_20'].count()))\n",
    "\n",
    "df_train.drop(['DATETIME', 'DATE', 'TIME'], axis=1, inplace=True)\n",
    "df_valid.drop(['DATETIME', 'DATE', 'TIME'], axis=1, inplace=True)\n",
    "df_test.drop(['DATETIME', 'DATE', 'TIME'], axis=1, inplace=True)\n",
    "print(df_train.shape, df_valid.shape, df_test.shape)"
   ]
  },
  {
   "cell_type": "code",
   "execution_count": 8,
   "metadata": {},
   "outputs": [
    {
     "data": {
      "text/html": [
       "<div>\n",
       "<style scoped>\n",
       "    .dataframe tbody tr th:only-of-type {\n",
       "        vertical-align: middle;\n",
       "    }\n",
       "\n",
       "    .dataframe tbody tr th {\n",
       "        vertical-align: top;\n",
       "    }\n",
       "\n",
       "    .dataframe thead th {\n",
       "        text-align: right;\n",
       "    }\n",
       "</style>\n",
       "<table border=\"1\" class=\"dataframe\">\n",
       "  <thead>\n",
       "    <tr style=\"text-align: right;\">\n",
       "      <th></th>\n",
       "      <th>OPEN</th>\n",
       "      <th>HIGH</th>\n",
       "      <th>LOW</th>\n",
       "      <th>CLOSE</th>\n",
       "      <th>VOL</th>\n",
       "      <th>EMA_20</th>\n",
       "      <th>TRIMA_10</th>\n",
       "      <th>ADX_6</th>\n",
       "      <th>BOP</th>\n",
       "      <th>MFI_6</th>\n",
       "      <th>MOM_6</th>\n",
       "      <th>RSI_10</th>\n",
       "      <th>OBV</th>\n",
       "      <th>ATR_12</th>\n",
       "      <th>TRANGE</th>\n",
       "      <th>HORA_NOBRE</th>\n",
       "      <th>TARGET_WIN_CAT3</th>\n",
       "      <th>HOLD</th>\n",
       "      <th>SELL</th>\n",
       "      <th>BUY</th>\n",
       "    </tr>\n",
       "  </thead>\n",
       "  <tbody>\n",
       "    <tr>\n",
       "      <th>109099</th>\n",
       "      <td>88095.0</td>\n",
       "      <td>88185.0</td>\n",
       "      <td>88035.0</td>\n",
       "      <td>88150.0</td>\n",
       "      <td>28664.0</td>\n",
       "      <td>88085.210740</td>\n",
       "      <td>88093.000000</td>\n",
       "      <td>22.773068</td>\n",
       "      <td>0.366667</td>\n",
       "      <td>71.141044</td>\n",
       "      <td>145.0</td>\n",
       "      <td>55.860658</td>\n",
       "      <td>-3220019.0</td>\n",
       "      <td>142.408421</td>\n",
       "      <td>150.0</td>\n",
       "      <td>1</td>\n",
       "      <td>BUY</td>\n",
       "      <td>0</td>\n",
       "      <td>0</td>\n",
       "      <td>1</td>\n",
       "    </tr>\n",
       "    <tr>\n",
       "      <th>109100</th>\n",
       "      <td>88155.0</td>\n",
       "      <td>88235.0</td>\n",
       "      <td>88135.0</td>\n",
       "      <td>88215.0</td>\n",
       "      <td>43829.0</td>\n",
       "      <td>88097.571622</td>\n",
       "      <td>88114.166667</td>\n",
       "      <td>23.113073</td>\n",
       "      <td>0.600000</td>\n",
       "      <td>71.499286</td>\n",
       "      <td>70.0</td>\n",
       "      <td>60.451853</td>\n",
       "      <td>-3176190.0</td>\n",
       "      <td>138.874386</td>\n",
       "      <td>100.0</td>\n",
       "      <td>1</td>\n",
       "      <td>BUY</td>\n",
       "      <td>0</td>\n",
       "      <td>0</td>\n",
       "      <td>1</td>\n",
       "    </tr>\n",
       "    <tr>\n",
       "      <th>109101</th>\n",
       "      <td>88210.0</td>\n",
       "      <td>88370.0</td>\n",
       "      <td>88210.0</td>\n",
       "      <td>88345.0</td>\n",
       "      <td>53064.0</td>\n",
       "      <td>88121.136230</td>\n",
       "      <td>88136.333333</td>\n",
       "      <td>28.117868</td>\n",
       "      <td>0.843750</td>\n",
       "      <td>72.636462</td>\n",
       "      <td>215.0</td>\n",
       "      <td>67.876979</td>\n",
       "      <td>-3123126.0</td>\n",
       "      <td>140.634854</td>\n",
       "      <td>160.0</td>\n",
       "      <td>1</td>\n",
       "      <td>HOLD</td>\n",
       "      <td>1</td>\n",
       "      <td>0</td>\n",
       "      <td>0</td>\n",
       "    </tr>\n",
       "    <tr>\n",
       "      <th>109102</th>\n",
       "      <td>88350.0</td>\n",
       "      <td>88365.0</td>\n",
       "      <td>88260.0</td>\n",
       "      <td>88320.0</td>\n",
       "      <td>35294.0</td>\n",
       "      <td>88140.075636</td>\n",
       "      <td>88156.833333</td>\n",
       "      <td>32.288531</td>\n",
       "      <td>-0.285714</td>\n",
       "      <td>72.782377</td>\n",
       "      <td>160.0</td>\n",
       "      <td>65.258965</td>\n",
       "      <td>-3158420.0</td>\n",
       "      <td>137.665283</td>\n",
       "      <td>105.0</td>\n",
       "      <td>1</td>\n",
       "      <td>BUY</td>\n",
       "      <td>0</td>\n",
       "      <td>0</td>\n",
       "      <td>1</td>\n",
       "    </tr>\n",
       "    <tr>\n",
       "      <th>109103</th>\n",
       "      <td>88320.0</td>\n",
       "      <td>88415.0</td>\n",
       "      <td>88315.0</td>\n",
       "      <td>88365.0</td>\n",
       "      <td>38681.0</td>\n",
       "      <td>88161.497004</td>\n",
       "      <td>88184.500000</td>\n",
       "      <td>37.070837</td>\n",
       "      <td>0.450000</td>\n",
       "      <td>85.189810</td>\n",
       "      <td>240.0</td>\n",
       "      <td>67.746963</td>\n",
       "      <td>-3119739.0</td>\n",
       "      <td>134.526509</td>\n",
       "      <td>100.0</td>\n",
       "      <td>1</td>\n",
       "      <td>BUY</td>\n",
       "      <td>0</td>\n",
       "      <td>0</td>\n",
       "      <td>1</td>\n",
       "    </tr>\n",
       "    <tr>\n",
       "      <th>109104</th>\n",
       "      <td>88365.0</td>\n",
       "      <td>88490.0</td>\n",
       "      <td>88340.0</td>\n",
       "      <td>88465.0</td>\n",
       "      <td>48422.0</td>\n",
       "      <td>88190.402052</td>\n",
       "      <td>88219.500000</td>\n",
       "      <td>42.561322</td>\n",
       "      <td>0.666667</td>\n",
       "      <td>100.000000</td>\n",
       "      <td>365.0</td>\n",
       "      <td>72.593257</td>\n",
       "      <td>-3071317.0</td>\n",
       "      <td>135.815967</td>\n",
       "      <td>150.0</td>\n",
       "      <td>1</td>\n",
       "      <td>BUY</td>\n",
       "      <td>0</td>\n",
       "      <td>0</td>\n",
       "      <td>1</td>\n",
       "    </tr>\n",
       "    <tr>\n",
       "      <th>109105</th>\n",
       "      <td>88465.0</td>\n",
       "      <td>88535.0</td>\n",
       "      <td>88425.0</td>\n",
       "      <td>88510.0</td>\n",
       "      <td>48057.0</td>\n",
       "      <td>88220.839951</td>\n",
       "      <td>88264.166667</td>\n",
       "      <td>47.850652</td>\n",
       "      <td>0.409091</td>\n",
       "      <td>100.000000</td>\n",
       "      <td>360.0</td>\n",
       "      <td>74.508420</td>\n",
       "      <td>-3023260.0</td>\n",
       "      <td>133.664636</td>\n",
       "      <td>110.0</td>\n",
       "      <td>1</td>\n",
       "      <td>HOLD</td>\n",
       "      <td>1</td>\n",
       "      <td>0</td>\n",
       "      <td>0</td>\n",
       "    </tr>\n",
       "    <tr>\n",
       "      <th>109106</th>\n",
       "      <td>88510.0</td>\n",
       "      <td>88595.0</td>\n",
       "      <td>88485.0</td>\n",
       "      <td>88540.0</td>\n",
       "      <td>41115.0</td>\n",
       "      <td>88251.236147</td>\n",
       "      <td>88312.500000</td>\n",
       "      <td>53.055381</td>\n",
       "      <td>0.272727</td>\n",
       "      <td>100.000000</td>\n",
       "      <td>325.0</td>\n",
       "      <td>75.762987</td>\n",
       "      <td>-2982145.0</td>\n",
       "      <td>131.692583</td>\n",
       "      <td>110.0</td>\n",
       "      <td>1</td>\n",
       "      <td>HOLD</td>\n",
       "      <td>1</td>\n",
       "      <td>0</td>\n",
       "      <td>0</td>\n",
       "    </tr>\n",
       "    <tr>\n",
       "      <th>109107</th>\n",
       "      <td>88535.0</td>\n",
       "      <td>88785.0</td>\n",
       "      <td>88535.0</td>\n",
       "      <td>88770.0</td>\n",
       "      <td>68349.0</td>\n",
       "      <td>88300.642228</td>\n",
       "      <td>88369.666667</td>\n",
       "      <td>58.836761</td>\n",
       "      <td>0.940000</td>\n",
       "      <td>100.000000</td>\n",
       "      <td>425.0</td>\n",
       "      <td>82.922522</td>\n",
       "      <td>-2913796.0</td>\n",
       "      <td>141.551534</td>\n",
       "      <td>250.0</td>\n",
       "      <td>1</td>\n",
       "      <td>SELL</td>\n",
       "      <td>0</td>\n",
       "      <td>1</td>\n",
       "      <td>0</td>\n",
       "    </tr>\n",
       "    <tr>\n",
       "      <th>109108</th>\n",
       "      <td>88765.0</td>\n",
       "      <td>88775.0</td>\n",
       "      <td>88635.0</td>\n",
       "      <td>88650.0</td>\n",
       "      <td>48386.0</td>\n",
       "      <td>88333.914397</td>\n",
       "      <td>88429.833333</td>\n",
       "      <td>63.654577</td>\n",
       "      <td>-0.821429</td>\n",
       "      <td>83.461375</td>\n",
       "      <td>330.0</td>\n",
       "      <td>70.798644</td>\n",
       "      <td>-2962182.0</td>\n",
       "      <td>141.422240</td>\n",
       "      <td>140.0</td>\n",
       "      <td>1</td>\n",
       "      <td>HOLD</td>\n",
       "      <td>1</td>\n",
       "      <td>0</td>\n",
       "      <td>0</td>\n",
       "    </tr>\n",
       "    <tr>\n",
       "      <th>109109</th>\n",
       "      <td>88650.0</td>\n",
       "      <td>88650.0</td>\n",
       "      <td>88525.0</td>\n",
       "      <td>88640.0</td>\n",
       "      <td>52134.0</td>\n",
       "      <td>88363.065406</td>\n",
       "      <td>88487.000000</td>\n",
       "      <td>59.638389</td>\n",
       "      <td>-0.080000</td>\n",
       "      <td>67.177697</td>\n",
       "      <td>275.0</td>\n",
       "      <td>69.852994</td>\n",
       "      <td>-3014316.0</td>\n",
       "      <td>140.053720</td>\n",
       "      <td>125.0</td>\n",
       "      <td>1</td>\n",
       "      <td>HOLD</td>\n",
       "      <td>1</td>\n",
       "      <td>0</td>\n",
       "      <td>0</td>\n",
       "    </tr>\n",
       "    <tr>\n",
       "      <th>109110</th>\n",
       "      <td>88640.0</td>\n",
       "      <td>88680.0</td>\n",
       "      <td>88535.0</td>\n",
       "      <td>88580.0</td>\n",
       "      <td>47093.0</td>\n",
       "      <td>88383.725844</td>\n",
       "      <td>88536.000000</td>\n",
       "      <td>57.072169</td>\n",
       "      <td>-0.413793</td>\n",
       "      <td>51.613144</td>\n",
       "      <td>115.0</td>\n",
       "      <td>64.141458</td>\n",
       "      <td>-3061409.0</td>\n",
       "      <td>140.465910</td>\n",
       "      <td>145.0</td>\n",
       "      <td>1</td>\n",
       "      <td>BUY</td>\n",
       "      <td>0</td>\n",
       "      <td>0</td>\n",
       "      <td>1</td>\n",
       "    </tr>\n",
       "    <tr>\n",
       "      <th>109111</th>\n",
       "      <td>88580.0</td>\n",
       "      <td>88695.0</td>\n",
       "      <td>88540.0</td>\n",
       "      <td>88630.0</td>\n",
       "      <td>41739.0</td>\n",
       "      <td>88407.180525</td>\n",
       "      <td>88578.166667</td>\n",
       "      <td>55.346525</td>\n",
       "      <td>0.322581</td>\n",
       "      <td>50.601753</td>\n",
       "      <td>120.0</td>\n",
       "      <td>66.665184</td>\n",
       "      <td>-3019670.0</td>\n",
       "      <td>141.677084</td>\n",
       "      <td>155.0</td>\n",
       "      <td>1</td>\n",
       "      <td>HOLD</td>\n",
       "      <td>1</td>\n",
       "      <td>0</td>\n",
       "      <td>0</td>\n",
       "    </tr>\n",
       "    <tr>\n",
       "      <th>109112</th>\n",
       "      <td>88630.0</td>\n",
       "      <td>88715.0</td>\n",
       "      <td>88615.0</td>\n",
       "      <td>88695.0</td>\n",
       "      <td>33581.0</td>\n",
       "      <td>88434.591904</td>\n",
       "      <td>88611.333333</td>\n",
       "      <td>54.497844</td>\n",
       "      <td>0.650000</td>\n",
       "      <td>49.334319</td>\n",
       "      <td>155.0</td>\n",
       "      <td>69.741287</td>\n",
       "      <td>-2986089.0</td>\n",
       "      <td>138.203994</td>\n",
       "      <td>100.0</td>\n",
       "      <td>1</td>\n",
       "      <td>HOLD</td>\n",
       "      <td>1</td>\n",
       "      <td>0</td>\n",
       "      <td>0</td>\n",
       "    </tr>\n",
       "    <tr>\n",
       "      <th>109113</th>\n",
       "      <td>88695.0</td>\n",
       "      <td>88815.0</td>\n",
       "      <td>88655.0</td>\n",
       "      <td>88750.0</td>\n",
       "      <td>49212.0</td>\n",
       "      <td>88464.630770</td>\n",
       "      <td>88632.833333</td>\n",
       "      <td>56.151822</td>\n",
       "      <td>0.343750</td>\n",
       "      <td>45.774315</td>\n",
       "      <td>-20.0</td>\n",
       "      <td>72.156899</td>\n",
       "      <td>-2936877.0</td>\n",
       "      <td>140.020328</td>\n",
       "      <td>160.0</td>\n",
       "      <td>1</td>\n",
       "      <td>HOLD</td>\n",
       "      <td>1</td>\n",
       "      <td>0</td>\n",
       "      <td>0</td>\n",
       "    </tr>\n",
       "    <tr>\n",
       "      <th>109114</th>\n",
       "      <td>88750.0</td>\n",
       "      <td>88790.0</td>\n",
       "      <td>88685.0</td>\n",
       "      <td>88775.0</td>\n",
       "      <td>31582.0</td>\n",
       "      <td>88494.189745</td>\n",
       "      <td>88649.333333</td>\n",
       "      <td>57.530138</td>\n",
       "      <td>0.238095</td>\n",
       "      <td>61.164760</td>\n",
       "      <td>125.0</td>\n",
       "      <td>73.236002</td>\n",
       "      <td>-2905295.0</td>\n",
       "      <td>137.101967</td>\n",
       "      <td>105.0</td>\n",
       "      <td>1</td>\n",
       "      <td>BUY</td>\n",
       "      <td>0</td>\n",
       "      <td>0</td>\n",
       "      <td>1</td>\n",
       "    </tr>\n",
       "    <tr>\n",
       "      <th>109115</th>\n",
       "      <td>88775.0</td>\n",
       "      <td>88865.0</td>\n",
       "      <td>88730.0</td>\n",
       "      <td>88730.0</td>\n",
       "      <td>43119.0</td>\n",
       "      <td>88516.647864</td>\n",
       "      <td>88665.000000</td>\n",
       "      <td>60.073566</td>\n",
       "      <td>-0.333333</td>\n",
       "      <td>80.901903</td>\n",
       "      <td>90.0</td>\n",
       "      <td>67.967622</td>\n",
       "      <td>-2948414.0</td>\n",
       "      <td>136.926803</td>\n",
       "      <td>135.0</td>\n",
       "      <td>1</td>\n",
       "      <td>BUY</td>\n",
       "      <td>0</td>\n",
       "      <td>0</td>\n",
       "      <td>1</td>\n",
       "    </tr>\n",
       "    <tr>\n",
       "      <th>109116</th>\n",
       "      <td>88730.0</td>\n",
       "      <td>88855.0</td>\n",
       "      <td>88715.0</td>\n",
       "      <td>88800.0</td>\n",
       "      <td>44873.0</td>\n",
       "      <td>88543.633782</td>\n",
       "      <td>88684.000000</td>\n",
       "      <td>60.654163</td>\n",
       "      <td>0.500000</td>\n",
       "      <td>100.000000</td>\n",
       "      <td>220.0</td>\n",
       "      <td>71.509949</td>\n",
       "      <td>-2903541.0</td>\n",
       "      <td>137.182903</td>\n",
       "      <td>140.0</td>\n",
       "      <td>2</td>\n",
       "      <td>BUY</td>\n",
       "      <td>0</td>\n",
       "      <td>0</td>\n",
       "      <td>1</td>\n",
       "    </tr>\n",
       "    <tr>\n",
       "      <th>109117</th>\n",
       "      <td>88800.0</td>\n",
       "      <td>88960.0</td>\n",
       "      <td>88780.0</td>\n",
       "      <td>88930.0</td>\n",
       "      <td>54899.0</td>\n",
       "      <td>88580.430564</td>\n",
       "      <td>88707.833333</td>\n",
       "      <td>63.019724</td>\n",
       "      <td>0.722222</td>\n",
       "      <td>100.000000</td>\n",
       "      <td>300.0</td>\n",
       "      <td>76.803279</td>\n",
       "      <td>-2848642.0</td>\n",
       "      <td>140.750994</td>\n",
       "      <td>180.0</td>\n",
       "      <td>2</td>\n",
       "      <td>BUY</td>\n",
       "      <td>0</td>\n",
       "      <td>0</td>\n",
       "      <td>1</td>\n",
       "    </tr>\n",
       "    <tr>\n",
       "      <th>109118</th>\n",
       "      <td>88935.0</td>\n",
       "      <td>89095.0</td>\n",
       "      <td>88870.0</td>\n",
       "      <td>89060.0</td>\n",
       "      <td>60906.0</td>\n",
       "      <td>88626.103844</td>\n",
       "      <td>88744.500000</td>\n",
       "      <td>66.346772</td>\n",
       "      <td>0.555556</td>\n",
       "      <td>100.000000</td>\n",
       "      <td>365.0</td>\n",
       "      <td>80.772581</td>\n",
       "      <td>-2787736.0</td>\n",
       "      <td>147.771745</td>\n",
       "      <td>225.0</td>\n",
       "      <td>2</td>\n",
       "      <td>BUY</td>\n",
       "      <td>0</td>\n",
       "      <td>0</td>\n",
       "      <td>1</td>\n",
       "    </tr>\n",
       "  </tbody>\n",
       "</table>\n",
       "</div>"
      ],
      "text/plain": [
       "           OPEN     HIGH      LOW    CLOSE      VOL        EMA_20  \\\n",
       "109099  88095.0  88185.0  88035.0  88150.0  28664.0  88085.210740   \n",
       "109100  88155.0  88235.0  88135.0  88215.0  43829.0  88097.571622   \n",
       "109101  88210.0  88370.0  88210.0  88345.0  53064.0  88121.136230   \n",
       "109102  88350.0  88365.0  88260.0  88320.0  35294.0  88140.075636   \n",
       "109103  88320.0  88415.0  88315.0  88365.0  38681.0  88161.497004   \n",
       "109104  88365.0  88490.0  88340.0  88465.0  48422.0  88190.402052   \n",
       "109105  88465.0  88535.0  88425.0  88510.0  48057.0  88220.839951   \n",
       "109106  88510.0  88595.0  88485.0  88540.0  41115.0  88251.236147   \n",
       "109107  88535.0  88785.0  88535.0  88770.0  68349.0  88300.642228   \n",
       "109108  88765.0  88775.0  88635.0  88650.0  48386.0  88333.914397   \n",
       "109109  88650.0  88650.0  88525.0  88640.0  52134.0  88363.065406   \n",
       "109110  88640.0  88680.0  88535.0  88580.0  47093.0  88383.725844   \n",
       "109111  88580.0  88695.0  88540.0  88630.0  41739.0  88407.180525   \n",
       "109112  88630.0  88715.0  88615.0  88695.0  33581.0  88434.591904   \n",
       "109113  88695.0  88815.0  88655.0  88750.0  49212.0  88464.630770   \n",
       "109114  88750.0  88790.0  88685.0  88775.0  31582.0  88494.189745   \n",
       "109115  88775.0  88865.0  88730.0  88730.0  43119.0  88516.647864   \n",
       "109116  88730.0  88855.0  88715.0  88800.0  44873.0  88543.633782   \n",
       "109117  88800.0  88960.0  88780.0  88930.0  54899.0  88580.430564   \n",
       "109118  88935.0  89095.0  88870.0  89060.0  60906.0  88626.103844   \n",
       "\n",
       "            TRIMA_10      ADX_6       BOP       MFI_6  MOM_6     RSI_10  \\\n",
       "109099  88093.000000  22.773068  0.366667   71.141044  145.0  55.860658   \n",
       "109100  88114.166667  23.113073  0.600000   71.499286   70.0  60.451853   \n",
       "109101  88136.333333  28.117868  0.843750   72.636462  215.0  67.876979   \n",
       "109102  88156.833333  32.288531 -0.285714   72.782377  160.0  65.258965   \n",
       "109103  88184.500000  37.070837  0.450000   85.189810  240.0  67.746963   \n",
       "109104  88219.500000  42.561322  0.666667  100.000000  365.0  72.593257   \n",
       "109105  88264.166667  47.850652  0.409091  100.000000  360.0  74.508420   \n",
       "109106  88312.500000  53.055381  0.272727  100.000000  325.0  75.762987   \n",
       "109107  88369.666667  58.836761  0.940000  100.000000  425.0  82.922522   \n",
       "109108  88429.833333  63.654577 -0.821429   83.461375  330.0  70.798644   \n",
       "109109  88487.000000  59.638389 -0.080000   67.177697  275.0  69.852994   \n",
       "109110  88536.000000  57.072169 -0.413793   51.613144  115.0  64.141458   \n",
       "109111  88578.166667  55.346525  0.322581   50.601753  120.0  66.665184   \n",
       "109112  88611.333333  54.497844  0.650000   49.334319  155.0  69.741287   \n",
       "109113  88632.833333  56.151822  0.343750   45.774315  -20.0  72.156899   \n",
       "109114  88649.333333  57.530138  0.238095   61.164760  125.0  73.236002   \n",
       "109115  88665.000000  60.073566 -0.333333   80.901903   90.0  67.967622   \n",
       "109116  88684.000000  60.654163  0.500000  100.000000  220.0  71.509949   \n",
       "109117  88707.833333  63.019724  0.722222  100.000000  300.0  76.803279   \n",
       "109118  88744.500000  66.346772  0.555556  100.000000  365.0  80.772581   \n",
       "\n",
       "              OBV      ATR_12  TRANGE HORA_NOBRE TARGET_WIN_CAT3  HOLD  SELL  \\\n",
       "109099 -3220019.0  142.408421   150.0          1             BUY     0     0   \n",
       "109100 -3176190.0  138.874386   100.0          1             BUY     0     0   \n",
       "109101 -3123126.0  140.634854   160.0          1            HOLD     1     0   \n",
       "109102 -3158420.0  137.665283   105.0          1             BUY     0     0   \n",
       "109103 -3119739.0  134.526509   100.0          1             BUY     0     0   \n",
       "109104 -3071317.0  135.815967   150.0          1             BUY     0     0   \n",
       "109105 -3023260.0  133.664636   110.0          1            HOLD     1     0   \n",
       "109106 -2982145.0  131.692583   110.0          1            HOLD     1     0   \n",
       "109107 -2913796.0  141.551534   250.0          1            SELL     0     1   \n",
       "109108 -2962182.0  141.422240   140.0          1            HOLD     1     0   \n",
       "109109 -3014316.0  140.053720   125.0          1            HOLD     1     0   \n",
       "109110 -3061409.0  140.465910   145.0          1             BUY     0     0   \n",
       "109111 -3019670.0  141.677084   155.0          1            HOLD     1     0   \n",
       "109112 -2986089.0  138.203994   100.0          1            HOLD     1     0   \n",
       "109113 -2936877.0  140.020328   160.0          1            HOLD     1     0   \n",
       "109114 -2905295.0  137.101967   105.0          1             BUY     0     0   \n",
       "109115 -2948414.0  136.926803   135.0          1             BUY     0     0   \n",
       "109116 -2903541.0  137.182903   140.0          2             BUY     0     0   \n",
       "109117 -2848642.0  140.750994   180.0          2             BUY     0     0   \n",
       "109118 -2787736.0  147.771745   225.0          2             BUY     0     0   \n",
       "\n",
       "        BUY  \n",
       "109099    1  \n",
       "109100    1  \n",
       "109101    0  \n",
       "109102    1  \n",
       "109103    1  \n",
       "109104    1  \n",
       "109105    0  \n",
       "109106    0  \n",
       "109107    0  \n",
       "109108    0  \n",
       "109109    0  \n",
       "109110    1  \n",
       "109111    0  \n",
       "109112    0  \n",
       "109113    0  \n",
       "109114    1  \n",
       "109115    1  \n",
       "109116    1  \n",
       "109117    1  \n",
       "109118    1  "
      ]
     },
     "execution_count": 8,
     "metadata": {},
     "output_type": "execute_result"
    }
   ],
   "source": [
    "df_test.iloc[19:200].head(20)"
   ]
  },
  {
   "cell_type": "code",
   "execution_count": 9,
   "metadata": {
    "scrolled": true
   },
   "outputs": [
    {
     "name": "stdout",
     "output_type": "stream",
     "text": [
      "\n",
      "Dados Categóricos de Treino -- BUY: 7404 | SELL: 7661 | HOLD: 67605\n",
      "\n",
      "Dados Categóricos de Validação -- BUY: 4212 | SELL: 4272 | HOLD: 17926\n",
      "\n",
      "Dados Categóricos de Teste -- BUY: 4933 | SELL: 4677 | HOLD: 21192\n"
     ]
    }
   ],
   "source": [
    "hold_train = int(df_train['BUY'].value_counts()[0]) - int(df_train['SELL'].value_counts()[1])\n",
    "hold_valid = int(df_valid['BUY'].value_counts()[0]) - int(df_valid['SELL'].value_counts()[1])\n",
    "hold_test = int(df_test['BUY'].value_counts()[0]) - int(df_test['SELL'].value_counts()[1])\n",
    "\n",
    "print('\\nDados Categóricos de Treino -- BUY: %d | SELL: %d | HOLD: %d' % (df_train['BUY'].value_counts()[1], df_train['SELL'].value_counts()[1], hold_train))\n",
    "print('\\nDados Categóricos de Validação -- BUY: %d | SELL: %d | HOLD: %d' % (df_valid['BUY'].value_counts()[1], df_valid['SELL'].value_counts()[1], hold_valid))\n",
    "print('\\nDados Categóricos de Teste -- BUY: %d | SELL: %d | HOLD: %d' % (df_test['BUY'].value_counts()[1], df_test['SELL'].value_counts()[1], hold_test))\n"
   ]
  },
  {
   "cell_type": "code",
   "execution_count": 10,
   "metadata": {},
   "outputs": [
    {
     "name": "stdout",
     "output_type": "stream",
     "text": [
      "\n",
      "Dados Categóricos de Treino Hora Nobre -- BUY: 2591 | SELL: 2815 | HOLD: 17513\n",
      "\n",
      "Dados Categóricos de Validação Hora Nobre -- BUY: 1372 | SELL: 1433 | HOLD: 4515\n",
      "\n",
      "Dados Categóricos de Teste Hora Nobre -- BUY: 1746 | SELL: 1704 | HOLD: 5070\n"
     ]
    }
   ],
   "source": [
    "buy_train = df_train.groupby(['HORA_NOBRE'])['BUY'].value_counts()[3]\n",
    "sell_train = df_train.groupby(['HORA_NOBRE'])['SELL'].value_counts()[3]\n",
    "hold_train = df_train.groupby(['HORA_NOBRE'])['BUY'].value_counts()[2] - sell_train\n",
    "\n",
    "buy_valid = df_valid.groupby(['HORA_NOBRE'])['BUY'].value_counts()[3]\n",
    "sell_valid = df_valid.groupby(['HORA_NOBRE'])['SELL'].value_counts()[3]\n",
    "hold_valid = df_valid.groupby(['HORA_NOBRE'])['BUY'].value_counts()[2] - sell_valid\n",
    "\n",
    "buy_test = df_test.groupby(['HORA_NOBRE'])['BUY'].value_counts()[3]\n",
    "sell_test = df_test.groupby(['HORA_NOBRE'])['SELL'].value_counts()[3]\n",
    "hold_test = df_test.groupby(['HORA_NOBRE'])['BUY'].value_counts()[2] - sell_test\n",
    "\n",
    "print('\\nDados Categóricos de Treino Hora Nobre -- BUY: %d | SELL: %d | HOLD: %d' % (buy_train, sell_train, hold_train))\n",
    "print('\\nDados Categóricos de Validação Hora Nobre -- BUY: %d | SELL: %d | HOLD: %d' % (buy_valid, sell_valid, hold_valid))\n",
    "print('\\nDados Categóricos de Teste Hora Nobre -- BUY: %d | SELL: %d | HOLD: %d' % (buy_test, sell_test, hold_test))\n"
   ]
  },
  {
   "cell_type": "code",
   "execution_count": 11,
   "metadata": {},
   "outputs": [
    {
     "data": {
      "text/plain": [
       "HORA_NOBRE  SELL\n",
       "0           0        4241\n",
       "            1         343\n",
       "1           0       20104\n",
       "            1        2815\n",
       "2           0       50664\n",
       "            1        4503\n",
       "Name: SELL, dtype: int64"
      ]
     },
     "execution_count": 11,
     "metadata": {},
     "output_type": "execute_result"
    }
   ],
   "source": [
    "df_train.groupby(['HORA_NOBRE'])['SELL'].value_counts()"
   ]
  },
  {
   "cell_type": "code",
   "execution_count": 12,
   "metadata": {},
   "outputs": [
    {
     "name": "stdout",
     "output_type": "stream",
     "text": [
      "17513\n",
      "2591\n",
      "14922\n"
     ]
    }
   ],
   "source": [
    "np.random.seed(2345)\n",
    "porcentagem_selecao_train = (buy_train / hold_train)\n",
    "amostra_train = np.random.choice( a=[0,1], size=hold_train, replace=True, \n",
    "                                   p=[1-porcentagem_selecao_train, porcentagem_selecao_train] )\n",
    "print(len(amostra_train))\n",
    "print(len(amostra_train[amostra_train == 1]))\n",
    "print(len(amostra_train[amostra_train == 0]))"
   ]
  },
  {
   "cell_type": "code",
   "execution_count": 13,
   "metadata": {},
   "outputs": [
    {
     "name": "stdout",
     "output_type": "stream",
     "text": [
      "4515\n",
      "1389\n",
      "3126\n"
     ]
    }
   ],
   "source": [
    "np.random.seed(2345)\n",
    "porcentagem_selecao_valid = (buy_valid / hold_valid)\n",
    "amostra_valid = np.random.choice( a=[0,1], size=hold_valid, replace=True, \n",
    "                                   p=[1-porcentagem_selecao_valid, porcentagem_selecao_valid] )\n",
    "print(len(amostra_valid))\n",
    "print(len(amostra_valid[amostra_valid == 1]))\n",
    "print(len(amostra_valid[amostra_valid == 0]))"
   ]
  },
  {
   "cell_type": "code",
   "execution_count": 14,
   "metadata": {},
   "outputs": [
    {
     "data": {
      "text/plain": [
       "1"
      ]
     },
     "execution_count": 14,
     "metadata": {},
     "output_type": "execute_result"
    }
   ],
   "source": [
    "amostra_valid[130]"
   ]
  },
  {
   "cell_type": "code",
   "execution_count": 15,
   "metadata": {},
   "outputs": [
    {
     "name": "stdout",
     "output_type": "stream",
     "text": [
      "5070\n",
      "1756\n",
      "3314\n"
     ]
    }
   ],
   "source": [
    "np.random.seed(2345)\n",
    "porcentagem_selecao_test = (buy_test / hold_test)\n",
    "amostra_test = np.random.choice( a=[0,1], size=hold_test, replace=True, \n",
    "                                   p=[1-porcentagem_selecao_test, porcentagem_selecao_test] )\n",
    "print(len(amostra_test))\n",
    "print(len(amostra_test[amostra_test == 1]))\n",
    "print(len(amostra_test[amostra_test == 0]))"
   ]
  },
  {
   "cell_type": "code",
   "execution_count": null,
   "metadata": {},
   "outputs": [],
   "source": []
  },
  {
   "cell_type": "code",
   "execution_count": 16,
   "metadata": {},
   "outputs": [
    {
     "data": {
      "text/plain": [
       "551"
      ]
     },
     "execution_count": 16,
     "metadata": {},
     "output_type": "execute_result"
    }
   ],
   "source": [
    "# Utilizo o tamanho do df_train subtraio pelo tamanho da seq_length ~ lag e divido tudo pelo tamanho do batch do treinamento\n",
    "steps_per_epoch = math.ceil((len(df_train) - configs['dataset']['sequence_length']) / configs['training']['batch_size'])  \n",
    "steps_per_epoch"
   ]
  },
  {
   "cell_type": "code",
   "execution_count": 17,
   "metadata": {
    "scrolled": true
   },
   "outputs": [
    {
     "data": {
      "text/html": [
       "<div>\n",
       "<style scoped>\n",
       "    .dataframe tbody tr th:only-of-type {\n",
       "        vertical-align: middle;\n",
       "    }\n",
       "\n",
       "    .dataframe tbody tr th {\n",
       "        vertical-align: top;\n",
       "    }\n",
       "\n",
       "    .dataframe thead th {\n",
       "        text-align: right;\n",
       "    }\n",
       "</style>\n",
       "<table border=\"1\" class=\"dataframe\">\n",
       "  <thead>\n",
       "    <tr style=\"text-align: right;\">\n",
       "      <th></th>\n",
       "      <th>OPEN</th>\n",
       "      <th>HIGH</th>\n",
       "      <th>LOW</th>\n",
       "      <th>CLOSE</th>\n",
       "      <th>VOL</th>\n",
       "      <th>EMA_20</th>\n",
       "      <th>TRIMA_10</th>\n",
       "      <th>ADX_6</th>\n",
       "      <th>BOP</th>\n",
       "      <th>MFI_6</th>\n",
       "      <th>MOM_6</th>\n",
       "      <th>RSI_10</th>\n",
       "      <th>OBV</th>\n",
       "      <th>ATR_12</th>\n",
       "      <th>TRANGE</th>\n",
       "      <th>HORA_NOBRE</th>\n",
       "      <th>TARGET_WIN_CAT3</th>\n",
       "      <th>HOLD</th>\n",
       "      <th>SELL</th>\n",
       "      <th>BUY</th>\n",
       "    </tr>\n",
       "  </thead>\n",
       "  <tbody>\n",
       "    <tr>\n",
       "      <th>0</th>\n",
       "      <td>53675.0</td>\n",
       "      <td>53780.0</td>\n",
       "      <td>53550.0</td>\n",
       "      <td>53560.0</td>\n",
       "      <td>7494.0</td>\n",
       "      <td>53259.250000</td>\n",
       "      <td>53307.500000</td>\n",
       "      <td>52.712545</td>\n",
       "      <td>-0.5000</td>\n",
       "      <td>93.054224</td>\n",
       "      <td>320.0</td>\n",
       "      <td>68.670278</td>\n",
       "      <td>25358.0</td>\n",
       "      <td>130.723615</td>\n",
       "      <td>230.0</td>\n",
       "      <td>2</td>\n",
       "      <td>HOLD</td>\n",
       "      <td>1</td>\n",
       "      <td>0</td>\n",
       "      <td>0</td>\n",
       "    </tr>\n",
       "    <tr>\n",
       "      <th>1</th>\n",
       "      <td>53560.0</td>\n",
       "      <td>53565.0</td>\n",
       "      <td>53405.0</td>\n",
       "      <td>53410.0</td>\n",
       "      <td>8363.0</td>\n",
       "      <td>53273.607143</td>\n",
       "      <td>53359.833333</td>\n",
       "      <td>50.097539</td>\n",
       "      <td>-0.9375</td>\n",
       "      <td>72.582002</td>\n",
       "      <td>165.0</td>\n",
       "      <td>56.517372</td>\n",
       "      <td>16995.0</td>\n",
       "      <td>133.163314</td>\n",
       "      <td>160.0</td>\n",
       "      <td>2</td>\n",
       "      <td>HOLD</td>\n",
       "      <td>1</td>\n",
       "      <td>0</td>\n",
       "      <td>0</td>\n",
       "    </tr>\n",
       "  </tbody>\n",
       "</table>\n",
       "</div>"
      ],
      "text/plain": [
       "      OPEN     HIGH      LOW    CLOSE     VOL        EMA_20      TRIMA_10  \\\n",
       "0  53675.0  53780.0  53550.0  53560.0  7494.0  53259.250000  53307.500000   \n",
       "1  53560.0  53565.0  53405.0  53410.0  8363.0  53273.607143  53359.833333   \n",
       "\n",
       "       ADX_6     BOP      MFI_6  MOM_6     RSI_10      OBV      ATR_12  \\\n",
       "0  52.712545 -0.5000  93.054224  320.0  68.670278  25358.0  130.723615   \n",
       "1  50.097539 -0.9375  72.582002  165.0  56.517372  16995.0  133.163314   \n",
       "\n",
       "   TRANGE HORA_NOBRE TARGET_WIN_CAT3  HOLD  SELL  BUY  \n",
       "0   230.0          2            HOLD     1     0    0  \n",
       "1   160.0          2            HOLD     1     0    0  "
      ]
     },
     "execution_count": 17,
     "metadata": {},
     "output_type": "execute_result"
    }
   ],
   "source": [
    "df_train.head(2)"
   ]
  },
  {
   "cell_type": "code",
   "execution_count": 18,
   "metadata": {},
   "outputs": [
    {
     "data": {
      "text/html": [
       "<div>\n",
       "<style scoped>\n",
       "    .dataframe tbody tr th:only-of-type {\n",
       "        vertical-align: middle;\n",
       "    }\n",
       "\n",
       "    .dataframe tbody tr th {\n",
       "        vertical-align: top;\n",
       "    }\n",
       "\n",
       "    .dataframe thead th {\n",
       "        text-align: right;\n",
       "    }\n",
       "</style>\n",
       "<table border=\"1\" class=\"dataframe\">\n",
       "  <thead>\n",
       "    <tr style=\"text-align: right;\">\n",
       "      <th></th>\n",
       "      <th>OPEN</th>\n",
       "      <th>HIGH</th>\n",
       "      <th>LOW</th>\n",
       "      <th>CLOSE</th>\n",
       "      <th>VOL</th>\n",
       "      <th>EMA_20</th>\n",
       "      <th>TRIMA_10</th>\n",
       "      <th>ADX_6</th>\n",
       "      <th>BOP</th>\n",
       "      <th>MFI_6</th>\n",
       "      <th>MOM_6</th>\n",
       "      <th>RSI_10</th>\n",
       "      <th>OBV</th>\n",
       "      <th>ATR_12</th>\n",
       "      <th>TRANGE</th>\n",
       "    </tr>\n",
       "  </thead>\n",
       "  <tbody>\n",
       "    <tr>\n",
       "      <th>0</th>\n",
       "      <td>53675.0</td>\n",
       "      <td>53780.0</td>\n",
       "      <td>53550.0</td>\n",
       "      <td>53560.0</td>\n",
       "      <td>7494.0</td>\n",
       "      <td>53259.250000</td>\n",
       "      <td>53307.500000</td>\n",
       "      <td>52.712545</td>\n",
       "      <td>-0.5000</td>\n",
       "      <td>93.054224</td>\n",
       "      <td>320.0</td>\n",
       "      <td>68.670278</td>\n",
       "      <td>25358.0</td>\n",
       "      <td>130.723615</td>\n",
       "      <td>230.0</td>\n",
       "    </tr>\n",
       "    <tr>\n",
       "      <th>1</th>\n",
       "      <td>53560.0</td>\n",
       "      <td>53565.0</td>\n",
       "      <td>53405.0</td>\n",
       "      <td>53410.0</td>\n",
       "      <td>8363.0</td>\n",
       "      <td>53273.607143</td>\n",
       "      <td>53359.833333</td>\n",
       "      <td>50.097539</td>\n",
       "      <td>-0.9375</td>\n",
       "      <td>72.582002</td>\n",
       "      <td>165.0</td>\n",
       "      <td>56.517372</td>\n",
       "      <td>16995.0</td>\n",
       "      <td>133.163314</td>\n",
       "      <td>160.0</td>\n",
       "    </tr>\n",
       "  </tbody>\n",
       "</table>\n",
       "</div>"
      ],
      "text/plain": [
       "      OPEN     HIGH      LOW    CLOSE     VOL        EMA_20      TRIMA_10  \\\n",
       "0  53675.0  53780.0  53550.0  53560.0  7494.0  53259.250000  53307.500000   \n",
       "1  53560.0  53565.0  53405.0  53410.0  8363.0  53273.607143  53359.833333   \n",
       "\n",
       "       ADX_6     BOP      MFI_6  MOM_6     RSI_10      OBV      ATR_12  TRANGE  \n",
       "0  52.712545 -0.5000  93.054224  320.0  68.670278  25358.0  130.723615   230.0  \n",
       "1  50.097539 -0.9375  72.582002  165.0  56.517372  16995.0  133.163314   160.0  "
      ]
     },
     "execution_count": 18,
     "metadata": {},
     "output_type": "execute_result"
    }
   ],
   "source": [
    "df_train.iloc[:, :-5].head(2)"
   ]
  },
  {
   "cell_type": "code",
   "execution_count": 19,
   "metadata": {},
   "outputs": [],
   "source": [
    "def next_window(i, seq_len, window_data):\n",
    "        '''Generates the next data window from the given index location i'''\n",
    "        # window = window_data[i:i+seq_len+1]\n",
    "        # Não preciso mais que seja i+seq_len+1 porque foi criado uma coluna target\n",
    "        window = window_data[i:i+seq_len]\n",
    "        \n",
    "        scaler_x = StandardScaler()\n",
    "        \n",
    "        x = window.iloc[:, :-5]\n",
    "        x = scaler_x.fit_transform(x) \n",
    "        \n",
    "        y = window.iloc[-1,-3:]\n",
    "        y_list = np.array(y.to_list())\n",
    "    \n",
    "        return x, y_list"
   ]
  },
  {
   "cell_type": "code",
   "execution_count": 20,
   "metadata": {
    "scrolled": true
   },
   "outputs": [
    {
     "data": {
      "text/plain": [
       "True"
      ]
     },
     "execution_count": 20,
     "metadata": {},
     "output_type": "execute_result"
    }
   ],
   "source": [
    "amostra_test[11] == 1"
   ]
  },
  {
   "cell_type": "code",
   "execution_count": 21,
   "metadata": {},
   "outputs": [
    {
     "data": {
      "text/plain": [
       "False"
      ]
     },
     "execution_count": 21,
     "metadata": {},
     "output_type": "execute_result"
    }
   ],
   "source": [
    "df['TARGET_WIN_CAT3'][139881] == 'HOLD'"
   ]
  },
  {
   "cell_type": "code",
   "execution_count": 22,
   "metadata": {},
   "outputs": [
    {
     "name": "stdout",
     "output_type": "stream",
     "text": [
      "2\n"
     ]
    }
   ],
   "source": [
    "print(df['HORA_NOBRE'][2])"
   ]
  },
  {
   "cell_type": "code",
   "execution_count": 23,
   "metadata": {},
   "outputs": [],
   "source": [
    "def get_train_valid_test_data(seq_len, df, amostragem):\n",
    "        '''\n",
    "        Create x, y train data windows\n",
    "        Warning: batch method, not generative, make sure you have enough memory to\n",
    "        load data, otherwise use generate_training_window() method.\n",
    "        '''\n",
    "        data_x = []\n",
    "        data_y = []\n",
    "        a = 0\n",
    "        for i in range(len(df) - seq_len):\n",
    "            if df['HORA_NOBRE'][i+seq_len-1] == '1':\n",
    "                if df['TARGET_WIN_CAT3'][i+seq_len-1] == 'HOLD':\n",
    "                    if amostragem[a] == 1:\n",
    "                        x, y = next_window(i, seq_len, df)\n",
    "                        data_x.append(x)\n",
    "                        data_y.append(y)\n",
    "                    a += 1    \n",
    "                        \n",
    "                else:\n",
    "                    x, y = next_window(i, seq_len, df)\n",
    "                    data_x.append(x)\n",
    "                    data_y.append(y)          \n",
    "            \n",
    "        return np.array(data_x), np.array(data_y)"
   ]
  },
  {
   "cell_type": "code",
   "execution_count": 24,
   "metadata": {},
   "outputs": [],
   "source": [
    "df_train_reset_index = df_train.reset_index(drop=True)\n",
    "x_train, y_train = get_train_valid_test_data(seq_len=configs['dataset']['sequence_length'], \n",
    "                                             df=df_train_reset_index, \n",
    "                                             amostragem=amostra_train)"
   ]
  },
  {
   "cell_type": "code",
   "execution_count": 25,
   "metadata": {},
   "outputs": [],
   "source": [
    "df_valid_reset_index = df_valid.reset_index(drop=True)\n",
    "x_valid, y_valid = get_train_valid_test_data(seq_len=configs['dataset']['sequence_length'], \n",
    "                                             df=df_valid_reset_index, \n",
    "                                             amostragem=amostra_valid)"
   ]
  },
  {
   "cell_type": "code",
   "execution_count": 26,
   "metadata": {},
   "outputs": [],
   "source": [
    "df_test_reset_index = df_test.reset_index(drop=True)\n",
    "x_test, y_test = get_train_valid_test_data(seq_len=configs['dataset']['sequence_length'], \n",
    "                                             df=df_test_reset_index, \n",
    "                                             amostragem=amostra_test)"
   ]
  },
  {
   "cell_type": "code",
   "execution_count": 27,
   "metadata": {},
   "outputs": [
    {
     "data": {
      "text/plain": [
       "5190"
      ]
     },
     "execution_count": 27,
     "metadata": {},
     "output_type": "execute_result"
    }
   ],
   "source": [
    "len(y_test)"
   ]
  },
  {
   "cell_type": "markdown",
   "metadata": {},
   "source": [
    "# Modelo"
   ]
  },
  {
   "cell_type": "code",
   "execution_count": 28,
   "metadata": {},
   "outputs": [
    {
     "name": "stderr",
     "output_type": "stream",
     "text": [
      "Using TensorFlow backend.\n"
     ]
    }
   ],
   "source": [
    "from numpy import newaxis\n",
    "from core.utils import Timer\n",
    "from keras.layers import Dense, Dropout, LSTM, GRU\n",
    "from keras.models import Sequential, load_model\n",
    "from keras.callbacks import EarlyStopping, ModelCheckpoint\n",
    "from keras.optimizers import SGD, Adam"
   ]
  },
  {
   "cell_type": "code",
   "execution_count": 29,
   "metadata": {},
   "outputs": [
    {
     "name": "stdout",
     "output_type": "stream",
     "text": [
      "Não existe modelo salvo\n"
     ]
    }
   ],
   "source": [
    "# Carregando as configurações do arquivo 'config_modelo.json'\n",
    "configs = json.load(open('config_modelo.json', 'r'))\n",
    "\n",
    "# Carregando o modelo .h em save_dir\n",
    "save_dir=configs['model']['save_dir']\n",
    "my_model=configs['model']['model_name']\n",
    "\n",
    "if not os.path.exists(save_dir+'/%s_150_7layers_red.h5' % my_model):\n",
    "    print(\"Não existe modelo salvo\")\n",
    "else:    \n",
    "    model.load_model(save_dir+'/%s_150_7layers_red.h5' % my_model)"
   ]
  },
  {
   "cell_type": "markdown",
   "metadata": {},
   "source": [
    "### build_model()"
   ]
  },
  {
   "cell_type": "code",
   "execution_count": 30,
   "metadata": {},
   "outputs": [
    {
     "name": "stdout",
     "output_type": "stream",
     "text": [
      "WARNING:tensorflow:From C:\\Users\\auW10\\Anaconda3\\envs\\phd\\lib\\site-packages\\tensorflow_core\\python\\ops\\resource_variable_ops.py:1630: calling BaseResourceVariable.__init__ (from tensorflow.python.ops.resource_variable_ops) with constraint is deprecated and will be removed in a future version.\n",
      "Instructions for updating:\n",
      "If using Keras pass *_constraint arguments to layers.\n",
      "[Model] Model Compiled\n",
      "Model: \"sequential_1\"\n",
      "_________________________________________________________________\n",
      "Layer (type)                 Output Shape              Param #   \n",
      "=================================================================\n",
      "lstm_1 (LSTM)                (None, 50, 200)           172800    \n",
      "_________________________________________________________________\n",
      "dropout_1 (Dropout)          (None, 50, 200)           0         \n",
      "_________________________________________________________________\n",
      "lstm_2 (LSTM)                (None, 50, 150)           210600    \n",
      "_________________________________________________________________\n",
      "dropout_2 (Dropout)          (None, 50, 150)           0         \n",
      "_________________________________________________________________\n",
      "lstm_3 (LSTM)                (None, 50, 150)           180600    \n",
      "_________________________________________________________________\n",
      "dropout_3 (Dropout)          (None, 50, 150)           0         \n",
      "_________________________________________________________________\n",
      "lstm_4 (LSTM)                (None, 50, 100)           100400    \n",
      "_________________________________________________________________\n",
      "dropout_4 (Dropout)          (None, 50, 100)           0         \n",
      "_________________________________________________________________\n",
      "lstm_5 (LSTM)                (None, 50, 50)            30200     \n",
      "_________________________________________________________________\n",
      "dropout_5 (Dropout)          (None, 50, 50)            0         \n",
      "_________________________________________________________________\n",
      "lstm_6 (LSTM)                (None, 20)                5680      \n",
      "_________________________________________________________________\n",
      "dropout_6 (Dropout)          (None, 20)                0         \n",
      "_________________________________________________________________\n",
      "dense_1 (Dense)              (None, 3)                 63        \n",
      "=================================================================\n",
      "Total params: 700,343\n",
      "Trainable params: 700,343\n",
      "Non-trainable params: 0\n",
      "_________________________________________________________________\n",
      "None\n",
      "Time taken: 0:00:02.370117\n"
     ]
    }
   ],
   "source": [
    "model = Sequential()\n",
    "\n",
    "timesteps = configs['dataset']['sequence_length']\n",
    "dim = len(df_train.columns) - 5\n",
    "    \n",
    "timer = Timer()\n",
    "timer.start()\n",
    "\n",
    "for layer in configs['model']['layers']:\n",
    "    neurons = layer['neurons'] if 'neurons' in layer else None\n",
    "    dropout_rate = layer['rate'] if 'rate' in layer else None\n",
    "    activation = layer['activation'] if 'activation' in layer else 'relu' #None\n",
    "    return_seq = layer['return_seq'] if 'return_seq' in layer else None\n",
    "    input_timesteps = layer['input_timesteps'] if 'input_timesteps' in layer else timesteps\n",
    "    input_dim = layer['input_dim'] if 'input_dim' in layer else dim\n",
    "\n",
    "    if layer['type'] == 'dense':\n",
    "        model.add(Dense(neurons, activation=activation))\n",
    "    if layer['type'] == 'lstm':\n",
    "        model.add(LSTM(neurons, input_shape=(input_timesteps, input_dim), return_sequences=return_seq))\n",
    "    if layer['type'] == 'gru':\n",
    "        model.add(GRU(neurons, input_shape=(input_timesteps, input_dim), return_sequences=return_seq))\n",
    "    if layer['type'] == 'dropout':\n",
    "        model.add(Dropout(dropout_rate))\n",
    "\n",
    "model.compile( loss=configs['model']['loss'], \n",
    "               optimizer=configs['model']['optimizer'],\n",
    "               metrics=['accuracy'] )\n",
    "\n",
    "print('[Model] Model Compiled')\n",
    "print(model.summary())\n",
    "timer.stop()"
   ]
  },
  {
   "cell_type": "markdown",
   "metadata": {},
   "source": [
    "### def train_generator()"
   ]
  },
  {
   "cell_type": "code",
   "execution_count": 31,
   "metadata": {},
   "outputs": [
    {
     "name": "stdout",
     "output_type": "stream",
     "text": [
      "[Model] Training Started\n",
      "[Model] 5 epochs, 150 batch size, 551 batches per epoch\n",
      "WARNING:tensorflow:From C:\\Users\\auW10\\Anaconda3\\envs\\phd\\lib\\site-packages\\keras\\backend\\tensorflow_backend.py:422: The name tf.global_variables is deprecated. Please use tf.compat.v1.global_variables instead.\n",
      "\n",
      "Train on 7997 samples, validate on 4180 samples\n",
      "Epoch 1/5\n",
      "7997/7997 [==============================] - 170s 21ms/step - loss: 1.1042 - accuracy: 0.3375 - val_loss: 1.0988 - val_accuracy: 0.3426\n",
      "Epoch 2/5\n",
      "7997/7997 [==============================] - 167s 21ms/step - loss: 1.0991 - accuracy: 0.3515 - val_loss: 1.1122 - val_accuracy: 0.3199\n",
      "Epoch 3/5\n",
      "7997/7997 [==============================] - 173s 22ms/step - loss: 1.1006 - accuracy: 0.3479 - val_loss: 1.0995 - val_accuracy: 0.3426\n",
      "Epoch 4/5\n",
      "7997/7997 [==============================] - 167s 21ms/step - loss: 1.0983 - accuracy: 0.3443 - val_loss: 1.0991 - val_accuracy: 0.3426\n",
      "Epoch 5/5\n",
      "7997/7997 [==============================] - 167s 21ms/step - loss: 1.0988 - accuracy: 0.3505 - val_loss: 1.0985 - val_accuracy: 0.3426\n",
      "[Model] Training Completed.\n",
      "Model saved as saved_models\\prototipo_ciclo1_multiclass_jupyter_7layers.h5\n",
      "Time taken: 0:14:14.227341\n"
     ]
    }
   ],
   "source": [
    "#epochs = configs['training']['epochs']\n",
    "epochs = 5\n",
    "batch_size = configs['training']['batch_size']\n",
    "    \n",
    "timer = Timer()\n",
    "timer.start()\n",
    "print('[Model] Training Started')\n",
    "print('[Model] %s epochs, %s batch size, %s batches per epoch' % (epochs, batch_size, steps_per_epoch))\n",
    "\n",
    "save_fname = os.path.join(save_dir, '%s.h5' % my_model)\n",
    "\n",
    "callbacks = [\n",
    "                ModelCheckpoint(filepath=save_fname, monitor='loss', save_best_only=True)\n",
    "            ]\n",
    "\n",
    "H = model.fit(    x_train,\n",
    "                  y_train,\n",
    "                  validation_data=(x_valid, y_valid),\n",
    "                  epochs=epochs,\n",
    "                  callbacks=callbacks,\n",
    "                  workers=1\n",
    "         )\n",
    "\n",
    "model.save(save_fname)\n",
    "\n",
    "print('[Model] Training Completed.')\n",
    "print('Model saved as %s' % save_fname)\n",
    "\n",
    "timer.stop()"
   ]
  },
  {
   "cell_type": "code",
   "execution_count": 32,
   "metadata": {},
   "outputs": [
    {
     "name": "stdout",
     "output_type": "stream",
     "text": [
      "dict_keys(['val_loss', 'val_accuracy', 'loss', 'accuracy'])\n"
     ]
    },
    {
     "data": {
      "image/png": "[encoded data removed]",
      "text/plain": [
       "<Figure size 432x288 with 1 Axes>"
      ]
     },
     "metadata": {
      "needs_background": "light"
     },
     "output_type": "display_data"
    },
    {
     "data": {
      "image/png": "[encoded data removed]",
      "text/plain": [
       "<Figure size 432x288 with 1 Axes>"
      ]
     },
     "metadata": {
      "needs_background": "light"
     },
     "output_type": "display_data"
    }
   ],
   "source": [
    "# list all data in history       \n",
    "print(H.history.keys())\n",
    "# summarize history for accuracy\n",
    "plt.plot(H.history['accuracy'])\n",
    "plt.plot(H.history['val_accuracy'])\n",
    "plt.title('model accuracy')\n",
    "plt.ylabel('accuracy')\n",
    "plt.xlabel('epoch')\n",
    "plt.legend(['accuracy', 'val_accuracy'], loc='upper left')\n",
    "fig_path = 'accuracy_history.png'\n",
    "plt.savefig(fig_path)     \n",
    "plt.show()\n",
    "\n",
    "# summarize history for loss\n",
    "plt.plot(H.history['loss'])\n",
    "plt.plot(H.history['val_loss'])\n",
    "plt.title('model loss')\n",
    "plt.ylabel('loss')\n",
    "plt.xlabel('epoch')\n",
    "plt.legend(['loss', 'val_loss'], loc='upper left')\n",
    "fig_path = 'loss_history.png'\n",
    "plt.savefig(fig_path) \n",
    "plt.show()"
   ]
  },
  {
   "cell_type": "code",
   "execution_count": 33,
   "metadata": {},
   "outputs": [
    {
     "data": {
      "text/plain": [
       "array([[0.3357142 , 0.34241986, 0.32186595],\n",
       "       [0.3356527 , 0.34240884, 0.32193848],\n",
       "       [0.33565366, 0.3424102 , 0.32193616],\n",
       "       ...,\n",
       "       [0.33538842, 0.34226376, 0.32234785],\n",
       "       [0.33538345, 0.3422627 , 0.3223539 ],\n",
       "       [0.33540413, 0.34227133, 0.32232457]], dtype=float32)"
      ]
     },
     "execution_count": 33,
     "metadata": {},
     "output_type": "execute_result"
    }
   ],
   "source": [
    "test_preds = model.predict(x_test)\n",
    "test_preds"
   ]
  },
  {
   "cell_type": "code",
   "execution_count": 34,
   "metadata": {},
   "outputs": [
    {
     "data": {
      "text/plain": [
       "5190"
      ]
     },
     "execution_count": 34,
     "metadata": {},
     "output_type": "execute_result"
    }
   ],
   "source": [
    "len(test_preds)"
   ]
  },
  {
   "cell_type": "code",
   "execution_count": 35,
   "metadata": {
    "scrolled": true
   },
   "outputs": [
    {
     "data": {
      "text/plain": [
       "5190"
      ]
     },
     "execution_count": 35,
     "metadata": {},
     "output_type": "execute_result"
    }
   ],
   "source": [
    "len(x_test)"
   ]
  },
  {
   "cell_type": "code",
   "execution_count": 36,
   "metadata": {},
   "outputs": [],
   "source": [
    "labels = ['HOLD', 'SELL', 'BUY'] \n",
    "\n",
    "pred = []\n",
    "for i in test_preds:\n",
    "    pred.append(np.argmax(i))\n",
    "pred_array = np.array(pred)       \n",
    "\n",
    "real = []\n",
    "for i in y_test:\n",
    "    real.append(np.argmax(i))\n",
    "real_array = np.array(real)    "
   ]
  },
  {
   "cell_type": "code",
   "execution_count": 37,
   "metadata": {},
   "outputs": [
    {
     "name": "stdout",
     "output_type": "stream",
     "text": [
      "Accuracy Score:  0.328131021194605\n"
     ]
    }
   ],
   "source": [
    "from sklearn.metrics import accuracy_score, confusion_matrix, classification_report\n",
    "\n",
    "print('Accuracy Score: ', accuracy_score(real, pred))"
   ]
  },
  {
   "cell_type": "code",
   "execution_count": 38,
   "metadata": {},
   "outputs": [
    {
     "data": {
      "text/plain": [
       "array([[   0, 1753,    0],\n",
       "       [   0, 1703,    0],\n",
       "       [   0, 1734,    0]], dtype=int64)"
      ]
     },
     "execution_count": 38,
     "metadata": {},
     "output_type": "execute_result"
    }
   ],
   "source": [
    "confusion_matrix = confusion_matrix(real_array, pred_array)\n",
    "confusion_matrix"
   ]
  },
  {
   "cell_type": "code",
   "execution_count": null,
   "metadata": {},
   "outputs": [],
   "source": [
    "print(classification_report(real, pred))"
   ]
  },
  {
   "cell_type": "code",
   "execution_count": null,
   "metadata": {},
   "outputs": [],
   "source": []
  },
  {
   "cell_type": "code",
   "execution_count": null,
   "metadata": {},
   "outputs": [],
   "source": []
  },
  {
   "cell_type": "code",
   "execution_count": null,
   "metadata": {},
   "outputs": [],
   "source": []
  },
  {
   "cell_type": "code",
   "execution_count": null,
   "metadata": {},
   "outputs": [],
   "source": []
  },
  {
   "cell_type": "code",
   "execution_count": null,
   "metadata": {},
   "outputs": [],
   "source": []
  },
  {
   "cell_type": "code",
   "execution_count": null,
   "metadata": {},
   "outputs": [],
   "source": []
  },
  {
   "cell_type": "code",
   "execution_count": null,
   "metadata": {},
   "outputs": [],
   "source": []
  },
  {
   "cell_type": "code",
   "execution_count": null,
   "metadata": {},
   "outputs": [],
   "source": []
  },
  {
   "cell_type": "code",
   "execution_count": null,
   "metadata": {},
   "outputs": [],
   "source": []
  },
  {
   "cell_type": "code",
   "execution_count": null,
   "metadata": {},
   "outputs": [],
   "source": []
  },
  {
   "cell_type": "code",
   "execution_count": null,
   "metadata": {},
   "outputs": [],
   "source": []
  },
  {
   "cell_type": "code",
   "execution_count": null,
   "metadata": {},
   "outputs": [],
   "source": []
  },
  {
   "cell_type": "code",
   "execution_count": null,
   "metadata": {},
   "outputs": [],
   "source": []
  },
  {
   "cell_type": "code",
   "execution_count": null,
   "metadata": {},
   "outputs": [],
   "source": []
  },
  {
   "cell_type": "code",
   "execution_count": null,
   "metadata": {},
   "outputs": [],
   "source": []
  }
 ],
 "metadata": {
  "kernelspec": {
   "display_name": "Python 3",
   "language": "python",
   "name": "python3"
  },
  "language_info": {
   "codemirror_mode": {
    "name": "ipython",
    "version": 3
   },
   "file_extension": ".py",
   "mimetype": "text/x-python",
   "name": "python",
   "nbconvert_exporter": "python",
   "pygments_lexer": "ipython3",
   "version": "3.6.12"
  }
 },
 "nbformat": 4,
 "nbformat_minor": 4
}
