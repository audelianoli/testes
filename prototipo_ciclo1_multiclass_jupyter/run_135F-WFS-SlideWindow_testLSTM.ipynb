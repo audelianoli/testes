{
 "cells": [
  {
   "cell_type": "markdown",
   "metadata": {},
   "source": [
    "# Imports"
   ]
  },
  {
   "cell_type": "code",
   "execution_count": 1,
   "metadata": {},
   "outputs": [],
   "source": [
    "import os\n",
    "import json\n",
    "import math\n",
    "import matplotlib.pyplot as plt\n",
    "import numpy as np\n",
    "import pandas as pd\n",
    "import pickle\n",
    "\n",
    "from sklearn.preprocessing import MinMaxScaler, StandardScaler, RobustScaler, MaxAbsScaler, Normalizer, QuantileTransformer"
   ]
  },
  {
   "cell_type": "code",
   "execution_count": 2,
   "metadata": {},
   "outputs": [],
   "source": [
    "# Carregando as configurações do arquivo 'config_modelo.json'\n",
    "configs = json.load(open('config_modelo.json', 'r'))"
   ]
  },
  {
   "cell_type": "code",
   "execution_count": 3,
   "metadata": {},
   "outputs": [],
   "source": [
    "# Criar a pasta 'save_dir' caso não exista no diretório\n",
    "if not os.path.exists(configs['model']['save_dir']):\n",
    "            os.makedirs(configs['model']['save_dir'])"
   ]
  },
  {
   "cell_type": "code",
   "execution_count": 4,
   "metadata": {},
   "outputs": [
    {
     "name": "stdout",
     "output_type": "stream",
     "text": [
      "(139881, 135)\n"
     ]
    },
    {
     "data": {
      "text/html": [
       "<div>\n",
       "<style scoped>\n",
       "    .dataframe tbody tr th:only-of-type {\n",
       "        vertical-align: middle;\n",
       "    }\n",
       "\n",
       "    .dataframe tbody tr th {\n",
       "        vertical-align: top;\n",
       "    }\n",
       "\n",
       "    .dataframe thead th {\n",
       "        text-align: right;\n",
       "    }\n",
       "</style>\n",
       "<table border=\"1\" class=\"dataframe\">\n",
       "  <thead>\n",
       "    <tr style=\"text-align: right;\">\n",
       "      <th></th>\n",
       "      <th>DATETIME</th>\n",
       "      <th>DATE</th>\n",
       "      <th>TIME</th>\n",
       "      <th>OPEN</th>\n",
       "      <th>HIGH</th>\n",
       "      <th>LOW</th>\n",
       "      <th>CLOSE</th>\n",
       "      <th>VOL</th>\n",
       "      <th>BBANDS_Upper_5</th>\n",
       "      <th>BBANDS_Lower_5</th>\n",
       "      <th>...</th>\n",
       "      <th>ATR_20</th>\n",
       "      <th>TRANGE</th>\n",
       "      <th>MES</th>\n",
       "      <th>DIA_SEMANA</th>\n",
       "      <th>HORA_NOBRE</th>\n",
       "      <th>TARGET_WIN</th>\n",
       "      <th>TARGET_WIN_CAT3</th>\n",
       "      <th>TARGET_WIN_CAT3_LABEL</th>\n",
       "      <th>PRICE_PERCENTAGE</th>\n",
       "      <th>TARGET_PERCENTAGE</th>\n",
       "    </tr>\n",
       "  </thead>\n",
       "  <tbody>\n",
       "    <tr>\n",
       "      <th>0</th>\n",
       "      <td>2014-11-19 12:30:00</td>\n",
       "      <td>2014.11.19</td>\n",
       "      <td>12:30:00</td>\n",
       "      <td>53560.0</td>\n",
       "      <td>53565.0</td>\n",
       "      <td>53405.0</td>\n",
       "      <td>53410.0</td>\n",
       "      <td>8363.0</td>\n",
       "      <td>53752.526189</td>\n",
       "      <td>53227.473811</td>\n",
       "      <td>...</td>\n",
       "      <td>122.7500</td>\n",
       "      <td>160.0</td>\n",
       "      <td>11</td>\n",
       "      <td>2</td>\n",
       "      <td>2</td>\n",
       "      <td>15.0</td>\n",
       "      <td>HOLD</td>\n",
       "      <td>1</td>\n",
       "      <td>106.82</td>\n",
       "      <td>HOLD</td>\n",
       "    </tr>\n",
       "    <tr>\n",
       "      <th>1</th>\n",
       "      <td>2014-11-19 12:35:00</td>\n",
       "      <td>2014.11.19</td>\n",
       "      <td>12:35:00</td>\n",
       "      <td>53410.0</td>\n",
       "      <td>53500.0</td>\n",
       "      <td>53295.0</td>\n",
       "      <td>53415.0</td>\n",
       "      <td>7034.0</td>\n",
       "      <td>53712.281525</td>\n",
       "      <td>53317.718475</td>\n",
       "      <td>...</td>\n",
       "      <td>126.8625</td>\n",
       "      <td>205.0</td>\n",
       "      <td>11</td>\n",
       "      <td>2</td>\n",
       "      <td>2</td>\n",
       "      <td>50.0</td>\n",
       "      <td>HOLD</td>\n",
       "      <td>1</td>\n",
       "      <td>106.83</td>\n",
       "      <td>HOLD</td>\n",
       "    </tr>\n",
       "  </tbody>\n",
       "</table>\n",
       "<p>2 rows × 135 columns</p>\n",
       "</div>"
      ],
      "text/plain": [
       "             DATETIME        DATE      TIME     OPEN     HIGH      LOW  \\\n",
       "0 2014-11-19 12:30:00  2014.11.19  12:30:00  53560.0  53565.0  53405.0   \n",
       "1 2014-11-19 12:35:00  2014.11.19  12:35:00  53410.0  53500.0  53295.0   \n",
       "\n",
       "     CLOSE     VOL  BBANDS_Upper_5  BBANDS_Lower_5  ...    ATR_20  TRANGE  \\\n",
       "0  53410.0  8363.0    53752.526189    53227.473811  ...  122.7500   160.0   \n",
       "1  53415.0  7034.0    53712.281525    53317.718475  ...  126.8625   205.0   \n",
       "\n",
       "   MES  DIA_SEMANA  HORA_NOBRE  TARGET_WIN  TARGET_WIN_CAT3  \\\n",
       "0   11           2           2        15.0             HOLD   \n",
       "1   11           2           2        50.0             HOLD   \n",
       "\n",
       "   TARGET_WIN_CAT3_LABEL  PRICE_PERCENTAGE  TARGET_PERCENTAGE  \n",
       "0                      1            106.82               HOLD  \n",
       "1                      1            106.83               HOLD  \n",
       "\n",
       "[2 rows x 135 columns]"
      ]
     },
     "execution_count": 4,
     "metadata": {},
     "output_type": "execute_result"
    }
   ],
   "source": [
    "# Carregar o Dataset\n",
    "filepath = 'C:/Users/auW10/Documents/CodigosDoAu/000_Doutorado/dataset/'\n",
    "df = pd.read_pickle(filepath+'dataset_ciclo1_multiclass_aug_dim_135_TIs_TargetPerc.pkl')\n",
    "print(df.shape)\n",
    "df.head(2)"
   ]
  },
  {
   "cell_type": "markdown",
   "metadata": {},
   "source": [
    "## Split dos Dados"
   ]
  },
  {
   "cell_type": "code",
   "execution_count": 5,
   "metadata": {},
   "outputs": [
    {
     "data": {
      "text/plain": [
       "<PandasArray>\n",
       "[             'DATETIME',                  'DATE',                  'TIME',\n",
       "                  'OPEN',                  'HIGH',                   'LOW',\n",
       "                 'CLOSE',                   'VOL',        'BBANDS_Upper_5',\n",
       "        'BBANDS_Lower_5',\n",
       " ...\n",
       "                'ATR_20',                'TRANGE',                   'MES',\n",
       "            'DIA_SEMANA',            'HORA_NOBRE',            'TARGET_WIN',\n",
       "       'TARGET_WIN_CAT3', 'TARGET_WIN_CAT3_LABEL',      'PRICE_PERCENTAGE',\n",
       "     'TARGET_PERCENTAGE']\n",
       "Length: 135, dtype: object"
      ]
     },
     "execution_count": 5,
     "metadata": {},
     "output_type": "execute_result"
    }
   ],
   "source": [
    "df.columns.tolist()\n",
    "df.columns.array"
   ]
  },
  {
   "cell_type": "code",
   "execution_count": 6,
   "metadata": {
    "scrolled": false
   },
   "outputs": [
    {
     "name": "stdout",
     "output_type": "stream",
     "text": [
      "(139881, 135)\n",
      "(139881, 125)\n"
     ]
    },
    {
     "data": {
      "text/html": [
       "<div>\n",
       "<style scoped>\n",
       "    .dataframe tbody tr th:only-of-type {\n",
       "        vertical-align: middle;\n",
       "    }\n",
       "\n",
       "    .dataframe tbody tr th {\n",
       "        vertical-align: top;\n",
       "    }\n",
       "\n",
       "    .dataframe thead th {\n",
       "        text-align: right;\n",
       "    }\n",
       "</style>\n",
       "<table border=\"1\" class=\"dataframe\">\n",
       "  <thead>\n",
       "    <tr style=\"text-align: right;\">\n",
       "      <th></th>\n",
       "      <th>DATETIME</th>\n",
       "      <th>DATE</th>\n",
       "      <th>TIME</th>\n",
       "      <th>BBANDS_Upper_5</th>\n",
       "      <th>BBANDS_Lower_5</th>\n",
       "      <th>BBANDS_Upper_10</th>\n",
       "      <th>BBANDS_Lower_10</th>\n",
       "      <th>BBANDS_Upper_20</th>\n",
       "      <th>BBANDS_Lower_20</th>\n",
       "      <th>DEMA_20</th>\n",
       "      <th>...</th>\n",
       "      <th>ADOSC</th>\n",
       "      <th>OBV</th>\n",
       "      <th>ATR_3</th>\n",
       "      <th>ATR_6</th>\n",
       "      <th>ATR_12</th>\n",
       "      <th>ATR_20</th>\n",
       "      <th>TRANGE</th>\n",
       "      <th>DIA_SEMANA</th>\n",
       "      <th>HORA_NOBRE</th>\n",
       "      <th>TARGET_PERCENTAGE</th>\n",
       "    </tr>\n",
       "  </thead>\n",
       "  <tbody>\n",
       "    <tr>\n",
       "      <th>0</th>\n",
       "      <td>2014-11-19 12:30:00</td>\n",
       "      <td>2014.11.19</td>\n",
       "      <td>12:30:00</td>\n",
       "      <td>53752.526189</td>\n",
       "      <td>53227.473811</td>\n",
       "      <td>53701.563032</td>\n",
       "      <td>53003.436968</td>\n",
       "      <td>53582.216054</td>\n",
       "      <td>52961.783946</td>\n",
       "      <td>53513.521581</td>\n",
       "      <td>...</td>\n",
       "      <td>224.882410</td>\n",
       "      <td>16995.0</td>\n",
       "      <td>183.08836</td>\n",
       "      <td>157.567344</td>\n",
       "      <td>133.163314</td>\n",
       "      <td>122.7500</td>\n",
       "      <td>160.0</td>\n",
       "      <td>2</td>\n",
       "      <td>2</td>\n",
       "      <td>HOLD</td>\n",
       "    </tr>\n",
       "    <tr>\n",
       "      <th>1</th>\n",
       "      <td>2014-11-19 12:35:00</td>\n",
       "      <td>2014.11.19</td>\n",
       "      <td>12:35:00</td>\n",
       "      <td>53712.281525</td>\n",
       "      <td>53317.718475</td>\n",
       "      <td>53699.874976</td>\n",
       "      <td>53060.125024</td>\n",
       "      <td>53596.604149</td>\n",
       "      <td>52972.395851</td>\n",
       "      <td>53498.711770</td>\n",
       "      <td>...</td>\n",
       "      <td>-968.557883</td>\n",
       "      <td>24029.0</td>\n",
       "      <td>190.39224</td>\n",
       "      <td>165.472787</td>\n",
       "      <td>139.149704</td>\n",
       "      <td>126.8625</td>\n",
       "      <td>205.0</td>\n",
       "      <td>2</td>\n",
       "      <td>2</td>\n",
       "      <td>HOLD</td>\n",
       "    </tr>\n",
       "  </tbody>\n",
       "</table>\n",
       "<p>2 rows × 125 columns</p>\n",
       "</div>"
      ],
      "text/plain": [
       "             DATETIME        DATE      TIME  BBANDS_Upper_5  BBANDS_Lower_5  \\\n",
       "0 2014-11-19 12:30:00  2014.11.19  12:30:00    53752.526189    53227.473811   \n",
       "1 2014-11-19 12:35:00  2014.11.19  12:35:00    53712.281525    53317.718475   \n",
       "\n",
       "   BBANDS_Upper_10  BBANDS_Lower_10  BBANDS_Upper_20  BBANDS_Lower_20  \\\n",
       "0     53701.563032     53003.436968     53582.216054     52961.783946   \n",
       "1     53699.874976     53060.125024     53596.604149     52972.395851   \n",
       "\n",
       "        DEMA_20  ...       ADOSC      OBV      ATR_3       ATR_6      ATR_12  \\\n",
       "0  53513.521581  ...  224.882410  16995.0  183.08836  157.567344  133.163314   \n",
       "1  53498.711770  ... -968.557883  24029.0  190.39224  165.472787  139.149704   \n",
       "\n",
       "     ATR_20  TRANGE  DIA_SEMANA  HORA_NOBRE  TARGET_PERCENTAGE  \n",
       "0  122.7500   160.0           2           2               HOLD  \n",
       "1  126.8625   205.0           2           2               HOLD  \n",
       "\n",
       "[2 rows x 125 columns]"
      ]
     },
     "execution_count": 6,
     "metadata": {},
     "output_type": "execute_result"
    }
   ],
   "source": [
    "print(df.shape)\n",
    "df2 = df.drop([  'OPEN',                  \n",
    "                 'HIGH',                   \n",
    "                 'LOW',\n",
    "                 'CLOSE',                   \n",
    "                 'VOL',\n",
    "                 'MES',\n",
    "                 'TARGET_WIN',\n",
    "                 'TARGET_WIN_CAT3', \n",
    "                 'TARGET_WIN_CAT3_LABEL',      \n",
    "                 'PRICE_PERCENTAGE'\n",
    "               \n",
    "            \n",
    "              ], axis=1)\n",
    "print(df2.shape)\n",
    "df2.head(2)"
   ]
  },
  {
   "cell_type": "code",
   "execution_count": 7,
   "metadata": {},
   "outputs": [
    {
     "name": "stderr",
     "output_type": "stream",
     "text": [
      "C:\\Users\\auW10\\Anaconda3\\envs\\phd\\lib\\site-packages\\pandas\\core\\frame.py:4170: SettingWithCopyWarning: \n",
      "A value is trying to be set on a copy of a slice from a DataFrame\n",
      "\n",
      "See the caveats in the documentation: https://pandas.pydata.org/pandas-docs/stable/user_guide/indexing.html#returning-a-view-versus-a-copy\n",
      "  errors=errors,\n"
     ]
    }
   ],
   "source": [
    "df3 = df2[df2['DATETIME'].dt.year < 2020]\n",
    "df3.drop(['DATE', 'TIME'], axis=1, inplace=True)\n",
    "df4 = df3[df3['DATETIME'].dt.year > 2014].reset_index(drop=True)\n",
    "#df4"
   ]
  },
  {
   "cell_type": "code",
   "execution_count": 160,
   "metadata": {
    "scrolled": true
   },
   "outputs": [
    {
     "name": "stdout",
     "output_type": "stream",
     "text": [
      "Proporção Train: 57.0% | Validation: 38.0% | Test: 2.9%\n",
      "(79795, 122) (53148, 122) (4064, 122)\n"
     ]
    },
    {
     "name": "stderr",
     "output_type": "stream",
     "text": [
      "C:\\Users\\auW10\\Anaconda3\\envs\\phd\\lib\\site-packages\\pandas\\core\\frame.py:4170: SettingWithCopyWarning: \n",
      "A value is trying to be set on a copy of a slice from a DataFrame\n",
      "\n",
      "See the caveats in the documentation: https://pandas.pydata.org/pandas-docs/stable/user_guide/indexing.html#returning-a-view-versus-a-copy\n",
      "  errors=errors,\n"
     ]
    }
   ],
   "source": [
    "df_train = df2[(df2['DATETIME'] >= '2015-01-01') & (df2['DATETIME'] < '2018-01-01')]\n",
    "#df_train = df2[(df2['DATETIME'] >= '2017-12-01') & (df2['DATETIME'] < '2019-07-01')]\n",
    "#df_train = df_train.iloc[-10000:, :]\n",
    "\n",
    "#df_train = df2[(df2['DATETIME'] >= '2019-01-01') & (df2['DATETIME'] < '2019-09-01')]\n",
    "\n",
    "#----------------------------------------------------------------------------------------------------\n",
    "\n",
    "df_valid = df2[(df2['DATETIME'] >= '2018-01-01') & (df2['DATETIME'] < '2019-01-01')]\n",
    "#df_valid = df2[(df2['DATETIME'] >= '2019-07-01') & (df2['DATETIME'] < '2020-03-01')]\n",
    "#df_valid = df_valid.iloc[:6600, :]\n",
    "\n",
    "#df_valid = df2[(df2['DATETIME'] >= '2019-09-01') & (df2['DATETIME'] < '2020-01-01')]\n",
    "\n",
    "df_valid = df2[(df2['DATETIME'] >= '2018-01-01') & (df2['DATETIME'] < '2020-01-01')]\n",
    "\n",
    "#----------------------------------------------------------------------------------------------------\n",
    "\n",
    "df_test  = df2[(df2['DATETIME'] >= '2019-01-01') & (df2['DATETIME'] < '2020-01-01')]\n",
    "#df_test  = df2[(df2['DATETIME'] >= '2020-01-01')]\n",
    "\n",
    "#df_test  = df2[(df2['DATETIME'] < '2017-12-01')]\n",
    "#df_test = df_test.iloc[:500,:]\n",
    "\n",
    "df_test  = df2[(df2['DATETIME'] >= '2020-01-01')]\n",
    "\n",
    "#----------------------------------------------------------------------------------------------------\n",
    "\n",
    "print('Proporção Train: {:.1%} | Validation: {:.1%} | Test: {:.1%}'.format(\n",
    "                                            df_train['DATETIME'].count()/df2['DATETIME'].count(),\n",
    "                                            df_valid['DATETIME'].count()/df2['DATETIME'].count(),\n",
    "                                            df_test['DATETIME'].count()/df2['DATETIME'].count()))\n",
    "\n",
    "df_train.drop(['DATETIME', 'DATE', 'TIME'], axis=1, inplace=True)\n",
    "df_valid.drop(['DATETIME', 'DATE', 'TIME'], axis=1, inplace=True)\n",
    "df_test.drop(['DATETIME', 'DATE', 'TIME'], axis=1, inplace=True)\n",
    "print(df_train.shape, df_valid.shape, df_test.shape)"
   ]
  },
  {
   "cell_type": "code",
   "execution_count": 161,
   "metadata": {
    "scrolled": true
   },
   "outputs": [
    {
     "data": {
      "text/html": [
       "<div>\n",
       "<style scoped>\n",
       "    .dataframe tbody tr th:only-of-type {\n",
       "        vertical-align: middle;\n",
       "    }\n",
       "\n",
       "    .dataframe tbody tr th {\n",
       "        vertical-align: top;\n",
       "    }\n",
       "\n",
       "    .dataframe thead th {\n",
       "        text-align: right;\n",
       "    }\n",
       "</style>\n",
       "<table border=\"1\" class=\"dataframe\">\n",
       "  <thead>\n",
       "    <tr style=\"text-align: right;\">\n",
       "      <th></th>\n",
       "      <th>BBANDS_Upper_5</th>\n",
       "      <th>BBANDS_Lower_5</th>\n",
       "      <th>BBANDS_Upper_10</th>\n",
       "      <th>BBANDS_Lower_10</th>\n",
       "      <th>BBANDS_Upper_20</th>\n",
       "      <th>BBANDS_Lower_20</th>\n",
       "      <th>DEMA_20</th>\n",
       "      <th>EMA_5_CLOSE</th>\n",
       "      <th>EMA_10_CLOSE</th>\n",
       "      <th>EMA_20_CLOSE</th>\n",
       "      <th>...</th>\n",
       "      <th>ADOSC</th>\n",
       "      <th>OBV</th>\n",
       "      <th>ATR_3</th>\n",
       "      <th>ATR_6</th>\n",
       "      <th>ATR_12</th>\n",
       "      <th>ATR_20</th>\n",
       "      <th>TRANGE</th>\n",
       "      <th>DIA_SEMANA</th>\n",
       "      <th>HORA_NOBRE</th>\n",
       "      <th>TARGET_PERCENTAGE</th>\n",
       "    </tr>\n",
       "  </thead>\n",
       "  <tbody>\n",
       "    <tr>\n",
       "      <th>135836</th>\n",
       "      <td>117489.521929</td>\n",
       "      <td>116862.478071</td>\n",
       "      <td>117397.405807</td>\n",
       "      <td>116813.594193</td>\n",
       "      <td>117349.698893</td>\n",
       "      <td>116850.801107</td>\n",
       "      <td>117269.240037</td>\n",
       "      <td>117228.122937</td>\n",
       "      <td>117137.461639</td>\n",
       "      <td>117010.529854</td>\n",
       "      <td>...</td>\n",
       "      <td>95344.558922</td>\n",
       "      <td>-7850190.0</td>\n",
       "      <td>212.171216</td>\n",
       "      <td>205.912372</td>\n",
       "      <td>197.823329</td>\n",
       "      <td>186.913789</td>\n",
       "      <td>165.0</td>\n",
       "      <td>3</td>\n",
       "      <td>1</td>\n",
       "      <td>HOLD</td>\n",
       "    </tr>\n",
       "  </tbody>\n",
       "</table>\n",
       "<p>1 rows × 122 columns</p>\n",
       "</div>"
      ],
      "text/plain": [
       "        BBANDS_Upper_5  BBANDS_Lower_5  BBANDS_Upper_10  BBANDS_Lower_10  \\\n",
       "135836   117489.521929   116862.478071    117397.405807    116813.594193   \n",
       "\n",
       "        BBANDS_Upper_20  BBANDS_Lower_20        DEMA_20    EMA_5_CLOSE  \\\n",
       "135836    117349.698893    116850.801107  117269.240037  117228.122937   \n",
       "\n",
       "         EMA_10_CLOSE   EMA_20_CLOSE  ...         ADOSC        OBV  \\\n",
       "135836  117137.461639  117010.529854  ...  95344.558922 -7850190.0   \n",
       "\n",
       "             ATR_3       ATR_6      ATR_12      ATR_20  TRANGE  DIA_SEMANA  \\\n",
       "135836  212.171216  205.912372  197.823329  186.913789   165.0           3   \n",
       "\n",
       "        HORA_NOBRE  TARGET_PERCENTAGE  \n",
       "135836           1               HOLD  \n",
       "\n",
       "[1 rows x 122 columns]"
      ]
     },
     "execution_count": 161,
     "metadata": {},
     "output_type": "execute_result"
    }
   ],
   "source": [
    "df_test.iloc[19:200].head(1)"
   ]
  },
  {
   "cell_type": "code",
   "execution_count": 162,
   "metadata": {},
   "outputs": [
    {
     "data": {
      "text/plain": [
       "HOLD    57590\n",
       "BUY     11165\n",
       "SELL    11040\n",
       "Name: TARGET_PERCENTAGE, dtype: int64"
      ]
     },
     "execution_count": 162,
     "metadata": {},
     "output_type": "execute_result"
    }
   ],
   "source": [
    "df_train['TARGET_PERCENTAGE'].value_counts()"
   ]
  },
  {
   "cell_type": "code",
   "execution_count": 163,
   "metadata": {},
   "outputs": [
    {
     "data": {
      "text/plain": [
       "57590"
      ]
     },
     "execution_count": 163,
     "metadata": {},
     "output_type": "execute_result"
    }
   ],
   "source": [
    "df_train['TARGET_PERCENTAGE'].value_counts()[0]"
   ]
  },
  {
   "cell_type": "code",
   "execution_count": 164,
   "metadata": {
    "scrolled": false
   },
   "outputs": [
    {
     "name": "stdout",
     "output_type": "stream",
     "text": [
      "\n",
      "Dados Categóricos de Treino -- BUY: 11165 | SELL: 11040 | HOLD: 57590\n",
      "\n",
      "Dados Categóricos de Validação -- BUY: 6367 | SELL: 6232 | HOLD: 40549\n",
      "\n",
      "Dados Categóricos de Teste -- BUY: 380 | SELL: 355 | HOLD: 3329\n"
     ]
    }
   ],
   "source": [
    "hold_train = df_train['TARGET_PERCENTAGE'].value_counts()[0]\n",
    "hold_valid = df_valid['TARGET_PERCENTAGE'].value_counts()[0]\n",
    "hold_test = df_test['TARGET_PERCENTAGE'].value_counts()[0]\n",
    "\n",
    "print('\\nDados Categóricos de Treino -- BUY: %d | SELL: %d | HOLD: %d' % (df_train['TARGET_PERCENTAGE'].value_counts()[1], df_train['TARGET_PERCENTAGE'].value_counts()[2], hold_train))\n",
    "print('\\nDados Categóricos de Validação -- BUY: %d | SELL: %d | HOLD: %d' % (df_valid['TARGET_PERCENTAGE'].value_counts()[1], df_valid['TARGET_PERCENTAGE'].value_counts()[2], hold_valid))\n",
    "print('\\nDados Categóricos de Teste -- BUY: %d | SELL: %d | HOLD: %d' % (df_test['TARGET_PERCENTAGE'].value_counts()[1], df_test['TARGET_PERCENTAGE'].value_counts()[2], hold_test))\n"
   ]
  },
  {
   "cell_type": "code",
   "execution_count": 165,
   "metadata": {
    "scrolled": true
   },
   "outputs": [
    {
     "data": {
      "text/plain": [
       "HORA_NOBRE  TARGET_PERCENTAGE\n",
       "0           HOLD                  3343\n",
       "            BUY                    575\n",
       "            SELL                   510\n",
       "1           HOLD                 14467\n",
       "            SELL                  3870\n",
       "            BUY                   3802\n",
       "2           HOLD                 27011\n",
       "            BUY                   4272\n",
       "            SELL                  4245\n",
       "3           HOLD                 12769\n",
       "            BUY                   2516\n",
       "            SELL                  2415\n",
       "Name: TARGET_PERCENTAGE, dtype: int64"
      ]
     },
     "execution_count": 165,
     "metadata": {},
     "output_type": "execute_result"
    }
   ],
   "source": [
    "df_train.groupby(['HORA_NOBRE'])['TARGET_PERCENTAGE'].value_counts()"
   ]
  },
  {
   "cell_type": "code",
   "execution_count": 166,
   "metadata": {},
   "outputs": [
    {
     "name": "stdout",
     "output_type": "stream",
     "text": [
      "\n",
      "Dados Categóricos de Treino Hora Nobre -- BUY: 3870 | SELL: 3802 | HOLD: 14467\n",
      "\n",
      "Dados Categóricos de Validação Hora Nobre -- BUY: 2263 | SELL: 2245 | HOLD: 10222\n",
      "\n",
      "Dados Categóricos de Teste Hora Nobre -- BUY: 146 | SELL: 129 | HOLD: 835\n"
     ]
    }
   ],
   "source": [
    "buy_train = df_train.groupby(['HORA_NOBRE'])['TARGET_PERCENTAGE'].value_counts()[4]\n",
    "sell_train = df_train.groupby(['HORA_NOBRE'])['TARGET_PERCENTAGE'].value_counts()[5]\n",
    "hold_train = df_train.groupby(['HORA_NOBRE'])['TARGET_PERCENTAGE'].value_counts()[3]\n",
    "\n",
    "buy_valid = df_valid.groupby(['HORA_NOBRE'])['TARGET_PERCENTAGE'].value_counts()[4]\n",
    "sell_valid = df_valid.groupby(['HORA_NOBRE'])['TARGET_PERCENTAGE'].value_counts()[5]\n",
    "hold_valid = df_valid.groupby(['HORA_NOBRE'])['TARGET_PERCENTAGE'].value_counts()[3]\n",
    "\n",
    "buy_test = df_test.groupby(['HORA_NOBRE'])['TARGET_PERCENTAGE'].value_counts()[4]\n",
    "sell_test = df_test.groupby(['HORA_NOBRE'])['TARGET_PERCENTAGE'].value_counts()[5]\n",
    "hold_test = df_test.groupby(['HORA_NOBRE'])['TARGET_PERCENTAGE'].value_counts()[3]\n",
    "\n",
    "print('\\nDados Categóricos de Treino Hora Nobre -- BUY: %d | SELL: %d | HOLD: %d' % (buy_train, sell_train, hold_train))\n",
    "print('\\nDados Categóricos de Validação Hora Nobre -- BUY: %d | SELL: %d | HOLD: %d' % (buy_valid, sell_valid, hold_valid))\n",
    "print('\\nDados Categóricos de Teste Hora Nobre -- BUY: %d | SELL: %d | HOLD: %d' % (buy_test, sell_test, hold_test))\n"
   ]
  },
  {
   "cell_type": "code",
   "execution_count": 167,
   "metadata": {},
   "outputs": [
    {
     "name": "stdout",
     "output_type": "stream",
     "text": [
      "14467\n",
      "3831\n",
      "10636\n"
     ]
    }
   ],
   "source": [
    "np.random.seed(2345)\n",
    "porcentagem_selecao_train = (buy_train / hold_train)\n",
    "amostra_train = np.random.choice( a=[0,1], size=hold_train, replace=True, \n",
    "                                   p=[1-porcentagem_selecao_train, porcentagem_selecao_train] )\n",
    "print(len(amostra_train))\n",
    "print(len(amostra_train[amostra_train == 1]))\n",
    "print(len(amostra_train[amostra_train == 0]))"
   ]
  },
  {
   "cell_type": "code",
   "execution_count": 168,
   "metadata": {},
   "outputs": [
    {
     "name": "stdout",
     "output_type": "stream",
     "text": [
      "10222\n",
      "2222\n",
      "8000\n"
     ]
    }
   ],
   "source": [
    "np.random.seed(2345)\n",
    "porcentagem_selecao_valid = (buy_valid / hold_valid)\n",
    "amostra_valid = np.random.choice( a=[0,1], size=hold_valid, replace=True, \n",
    "                                   p=[1-porcentagem_selecao_valid, porcentagem_selecao_valid] )\n",
    "print(len(amostra_valid))\n",
    "print(len(amostra_valid[amostra_valid == 1]))\n",
    "print(len(amostra_valid[amostra_valid == 0]))"
   ]
  },
  {
   "cell_type": "code",
   "execution_count": 169,
   "metadata": {},
   "outputs": [
    {
     "name": "stdout",
     "output_type": "stream",
     "text": [
      "835\n",
      "143\n",
      "692\n"
     ]
    }
   ],
   "source": [
    "np.random.seed(2345)\n",
    "porcentagem_selecao_test = (buy_test / hold_test)\n",
    "amostra_test = np.random.choice( a=[0,1], size=hold_test, replace=True, \n",
    "                                   p=[1-porcentagem_selecao_test, porcentagem_selecao_test] )\n",
    "print(len(amostra_test))\n",
    "print(len(amostra_test[amostra_test == 1]))\n",
    "print(len(amostra_test[amostra_test == 0]))"
   ]
  },
  {
   "cell_type": "code",
   "execution_count": 170,
   "metadata": {},
   "outputs": [],
   "source": [
    "def normalize(data):\n",
    "\n",
    "    scaler_x = StandardScaler()\n",
    "\n",
    "    x = data.iloc[:, :-2]\n",
    "    x = scaler_x.fit_transform(x) \n",
    "\n",
    "    y = data.iloc[:,-1]\n",
    "    y_list = np.array(y.to_list())\n",
    "\n",
    "    return x, y_list"
   ]
  },
  {
   "cell_type": "code",
   "execution_count": 171,
   "metadata": {},
   "outputs": [],
   "source": [
    "def get_train_valid_test_data(seq_len, df, amostragem):\n",
    "    print('df.shape: ', df.shape)\n",
    "    a=0\n",
    "    for i in range(len(df) - seq_len):\n",
    "        if df['TARGET_PERCENTAGE'][i+seq_len-1] == 'HOLD':\n",
    "            if amostragem[a] == 0:\n",
    "                df.drop((i+seq_len-1), axis=0, inplace=True) \n",
    "            a+=1\n",
    "\n",
    "    x, y = normalize(df)\n",
    "\n",
    "    return x, y"
   ]
  },
  {
   "cell_type": "code",
   "execution_count": 172,
   "metadata": {},
   "outputs": [],
   "source": [
    "def next_window(i, seq_len, df):\n",
    "    df = df[i:i+seq_len]\n",
    "    scaler_x = StandardScaler()\n",
    "    \n",
    "    x = df.iloc[:, :-2]\n",
    "    # xxx = np.array(x)\n",
    "    x = scaler_x.fit_transform(x) \n",
    "    \n",
    "    y = df.iloc[-1,-1]\n",
    "    # y_list = np.array(y.to_list())\n",
    "    \n",
    "    return x, y"
   ]
  },
  {
   "cell_type": "code",
   "execution_count": null,
   "metadata": {},
   "outputs": [],
   "source": []
  },
  {
   "cell_type": "code",
   "execution_count": 173,
   "metadata": {},
   "outputs": [],
   "source": [
    "def get_train_valid_test_data_Slide_Window(seq_len, df, amostragem):\n",
    "    print('df.shape: ', df.shape)\n",
    "    a=0\n",
    "    data_x = []\n",
    "    data_y = []\n",
    "    for i in range(len(df) - seq_len):\n",
    "        if df['TARGET_PERCENTAGE'].iloc[i+seq_len-1] == 'HOLD':\n",
    "            if amostragem[a] == 1:    \n",
    "                x, y = next_window(i, seq_len, df)\n",
    "                data_x.append(x)\n",
    "                data_y.append(y)\n",
    "            a+=1\n",
    "        else:\n",
    "            x, y = next_window(i, seq_len, df)\n",
    "            data_x.append(x)\n",
    "            data_y.append(y)\n",
    "\n",
    "    return np.array(data_x), np.array(data_y)"
   ]
  },
  {
   "cell_type": "code",
   "execution_count": 174,
   "metadata": {},
   "outputs": [
    {
     "name": "stdout",
     "output_type": "stream",
     "text": [
      "df.shape:  (22139, 122)\n",
      "x_train:  (11503, 120)  | y_train:  (11503,)\n"
     ]
    }
   ],
   "source": [
    "df_train_reset_index = df_train[df_train['HORA_NOBRE'] == '1'].reset_index(drop=True)\n",
    "x_train, y_train = get_train_valid_test_data(seq_len=1, \n",
    "                                             df=df_train_reset_index, \n",
    "                                             amostragem=amostra_train)\n",
    "print('x_train: ', x_train.shape,' | y_train: ', y_train.shape)"
   ]
  },
  {
   "cell_type": "code",
   "execution_count": 175,
   "metadata": {},
   "outputs": [
    {
     "name": "stdout",
     "output_type": "stream",
     "text": [
      "df.shape:  (22139, 122)\n",
      "x_train_sw:  (11495, 20, 120)  | y_train_sw:  (11495,)\n"
     ]
    }
   ],
   "source": [
    "df_train_reset_index = df_train[df_train['HORA_NOBRE'] == '1'].reset_index(drop=True)\n",
    "x_train_sw, y_train_sw = get_train_valid_test_data_Slide_Window( seq_len=configs['dataset']['sequence_length'], \n",
    "                                                                 df=df_train_reset_index, \n",
    "                                                                 amostragem=amostra_train)\n",
    "print('x_train_sw: ', x_train_sw.shape,' | y_train_sw: ', y_train_sw.shape)"
   ]
  },
  {
   "cell_type": "code",
   "execution_count": 176,
   "metadata": {
    "scrolled": false
   },
   "outputs": [
    {
     "name": "stdout",
     "output_type": "stream",
     "text": [
      "df.shape:  (14730, 122)\n",
      "(6730, 120) (6730,)\n"
     ]
    }
   ],
   "source": [
    "df_valid_reset_index = df_valid[df_valid['HORA_NOBRE'] == '1'].reset_index(drop=True)\n",
    "x_valid, y_valid = get_train_valid_test_data( seq_len=1, \n",
    "                                              df=df_valid_reset_index, \n",
    "                                              amostragem=amostra_valid )\n",
    "print(x_valid.shape, y_valid.shape)"
   ]
  },
  {
   "cell_type": "code",
   "execution_count": 177,
   "metadata": {
    "scrolled": true
   },
   "outputs": [
    {
     "name": "stdout",
     "output_type": "stream",
     "text": [
      "df.shape:  (14730, 122)\n",
      "(6724, 20, 120) (6724,)\n"
     ]
    }
   ],
   "source": [
    "df_valid_reset_index = df_valid[df_valid['HORA_NOBRE'] == '1'].reset_index(drop=True)\n",
    "x_valid_sw, y_valid_sw = get_train_valid_test_data_Slide_Window( seq_len=configs['dataset']['sequence_length'], \n",
    "                                                                 df=df_valid_reset_index, \n",
    "                                                                 amostragem=amostra_valid )\n",
    "print(x_valid_sw.shape, y_valid_sw.shape)"
   ]
  },
  {
   "cell_type": "code",
   "execution_count": 178,
   "metadata": {},
   "outputs": [
    {
     "name": "stdout",
     "output_type": "stream",
     "text": [
      "df.shape:  (1110, 122)\n",
      "(419, 120) (419,)\n"
     ]
    }
   ],
   "source": [
    "df_test_reset_index = df_test[df_test['HORA_NOBRE'] == '1'].reset_index(drop=True)\n",
    "x_test, y_test = get_train_valid_test_data( seq_len=1, \n",
    "                                            df=df_test_reset_index, \n",
    "                                            amostragem=amostra_test )\n",
    "print(x_test.shape, y_test.shape)"
   ]
  },
  {
   "cell_type": "code",
   "execution_count": 179,
   "metadata": {
    "scrolled": true
   },
   "outputs": [
    {
     "name": "stdout",
     "output_type": "stream",
     "text": [
      "df.shape:  (1110, 122)\n",
      "(411, 20, 120) (411,)\n"
     ]
    }
   ],
   "source": [
    "df_test_reset_index = df_test[df_test['HORA_NOBRE'] == '1'].reset_index(drop=True)\n",
    "x_test_sw, y_test_sw = get_train_valid_test_data_Slide_Window(   seq_len=configs['dataset']['sequence_length'], \n",
    "                                                                 df=df_test_reset_index, \n",
    "                                                                 amostragem=amostra_test)\n",
    "print(x_test_sw.shape, y_test_sw.shape)"
   ]
  },
  {
   "cell_type": "code",
   "execution_count": null,
   "metadata": {},
   "outputs": [],
   "source": []
  },
  {
   "cell_type": "code",
   "execution_count": 180,
   "metadata": {},
   "outputs": [],
   "source": [
    "def contagem_classes(data, name):\n",
    "    cont_buy = 0\n",
    "    cont_sell = 0\n",
    "    cont_hold = 0\n",
    "    for n in data:\n",
    "        if ((n == 'BUY') or (n == 0)):\n",
    "            cont_buy+=1\n",
    "        if ((n == 'HOLD') or (n == 1)):\n",
    "            cont_hold+=1\n",
    "        if ((n == 'SELL') or (n == 2)):\n",
    "            cont_sell+=1\n",
    "    print('{}.size: '.format(name), data.size, ' | cont_buy: ', cont_buy, ' | cont_hold: ', cont_hold, ' | cont_sell: ', cont_sell)"
   ]
  },
  {
   "cell_type": "code",
   "execution_count": 181,
   "metadata": {},
   "outputs": [
    {
     "name": "stdout",
     "output_type": "stream",
     "text": [
      "Contagem de Classes\n",
      "\n",
      "-----------------------------------------------------------------------------------\n",
      "y_train   .size:  11503  | cont_buy:  3802  | cont_hold:  3831  | cont_sell:  3870\n",
      "y_train_sw.size:  11495  | cont_buy:  3799  | cont_hold:  3827  | cont_sell:  3869\n",
      "-----------------------------------------------------------------------------------\n",
      "y_valid   .size:  6730  | cont_buy:  2245  | cont_hold:  2222  | cont_sell:  2263\n",
      "y_valid_sw.size:  6724  | cont_buy:  2242  | cont_hold:  2220  | cont_sell:  2262\n",
      "-----------------------------------------------------------------------------------\n",
      "y_test   .size:  419  | cont_buy:  129  | cont_hold:  144  | cont_sell:  146\n",
      "y_test_sw.size:  411  | cont_buy:  125  | cont_hold:  140  | cont_sell:  146\n",
      "-----------------------------------------------------------------------------------\n"
     ]
    }
   ],
   "source": [
    "print('Contagem de Classes\\n')\n",
    "print('-----------------------------------------------------------------------------------')\n",
    "contagem_classes(y_train, 'y_train   ')\n",
    "contagem_classes(y_train_sw, 'y_train_sw')\n",
    "print('-----------------------------------------------------------------------------------')\n",
    "contagem_classes(y_valid, 'y_valid   ')\n",
    "contagem_classes(y_valid_sw, 'y_valid_sw')\n",
    "print('-----------------------------------------------------------------------------------')\n",
    "contagem_classes(y_test, 'y_test   ')\n",
    "contagem_classes(y_test_sw, 'y_test_sw')\n",
    "print('-----------------------------------------------------------------------------------')"
   ]
  },
  {
   "cell_type": "code",
   "execution_count": null,
   "metadata": {},
   "outputs": [],
   "source": []
  },
  {
   "cell_type": "markdown",
   "metadata": {},
   "source": [
    "## Cálculo do Weighted F Score"
   ]
  },
  {
   "cell_type": "code",
   "execution_count": 182,
   "metadata": {},
   "outputs": [],
   "source": [
    "def weightedFScore(confusion_matrix):\n",
    "    beta_1 = math.pow(0.5, 2)\n",
    "    beta_2 = math.pow(0.25, 2)\n",
    "    beta_3 = math.pow(0.125, 2)\n",
    "    \n",
    "    num_tu = confusion_matrix[[0],[0]]\n",
    "    num_tf = confusion_matrix[[1],[1]]\n",
    "    num_td = confusion_matrix[[2],[2]]\n",
    "    \n",
    "    wrongF_trueU = confusion_matrix[[0],[1]]\n",
    "    wrongD_trueU = confusion_matrix[[0],[2]]\n",
    "    \n",
    "    wrongU_trueF = confusion_matrix[[1],[0]]\n",
    "    wrongD_trueF = confusion_matrix[[1],[2]]\n",
    "  \n",
    "    wrongU_trueD = confusion_matrix[[2],[0]]\n",
    "    wrongF_trueD = confusion_matrix[[2],[1]]\n",
    "    \n",
    "    num_tp = num_tu + num_td + (beta_3 * num_tf)\n",
    "    erro_tipo_1 = wrongU_trueD + wrongD_trueU\n",
    "    erro_tipo_2 = wrongU_trueF + wrongD_trueF\n",
    "    erro_tipo_3 = wrongF_trueU + wrongF_trueD\n",
    "    \n",
    "    num = (1 + beta_1 + beta_2) * num_tp\n",
    "    den = num + erro_tipo_1 + (beta_1 * erro_tipo_2) + (beta_2 * erro_tipo_3)\n",
    "    \n",
    "    wFScore = num / den\n",
    "    \n",
    "    return wFScore"
   ]
  },
  {
   "cell_type": "markdown",
   "metadata": {},
   "source": [
    "# Modelos"
   ]
  },
  {
   "cell_type": "code",
   "execution_count": 31,
   "metadata": {},
   "outputs": [],
   "source": [
    "import lightgbm as lgbm\n",
    "import seaborn as sns\n",
    "\n",
    "from sklearn.ensemble import RandomForestClassifier \n",
    "from sklearn.metrics import accuracy_score, confusion_matrix, classification_report"
   ]
  },
  {
   "cell_type": "markdown",
   "metadata": {},
   "source": [
    "## LightGBM"
   ]
  },
  {
   "cell_type": "code",
   "execution_count": 32,
   "metadata": {},
   "outputs": [
    {
     "name": "stdout",
     "output_type": "stream",
     "text": [
      "Accuracy Score - LightGBM:  0.360381861575179\n"
     ]
    }
   ],
   "source": [
    "model_lgbm = lgbm.LGBMClassifier(n_jobs=-1, random_state=0, n_estimators=5000, learning_rate=0.001, num_leaves=2**6,\n",
    "                                 subsample=0.9, subsample_freq=1, colsample_bytree=1.)\n",
    "\n",
    "model_lgbm.fit(x_train, y_train)\n",
    "predict_lgbm = model_lgbm.predict(x_test)\n",
    "\n",
    "accuracy_score_LGBM = accuracy_score(y_test, predict_lgbm)\n",
    "\n",
    "print('Accuracy Score - LightGBM: ', accuracy_score_LGBM)"
   ]
  },
  {
   "cell_type": "code",
   "execution_count": 33,
   "metadata": {},
   "outputs": [
    {
     "name": "stdout",
     "output_type": "stream",
     "text": [
      "              precision    recall  f1-score   support\n",
      "\n",
      "         BUY       0.31      0.34      0.32       129\n",
      "        HOLD       0.40      0.37      0.39       144\n",
      "        SELL       0.37      0.37      0.37       146\n",
      "\n",
      "    accuracy                           0.36       419\n",
      "   macro avg       0.36      0.36      0.36       419\n",
      "weighted avg       0.36      0.36      0.36       419\n",
      "\n"
     ]
    }
   ],
   "source": [
    "print(classification_report(y_test, predict_lgbm))"
   ]
  },
  {
   "cell_type": "code",
   "execution_count": 34,
   "metadata": {
    "scrolled": false
   },
   "outputs": [
    {
     "data": {
      "text/plain": [
       "array([[44, 38, 47],\n",
       "       [47, 53, 44],\n",
       "       [52, 40, 54]], dtype=int64)"
      ]
     },
     "execution_count": 34,
     "metadata": {},
     "output_type": "execute_result"
    }
   ],
   "source": [
    "from sklearn.metrics import confusion_matrix\n",
    "confusion_matrix = confusion_matrix(y_test, predict_lgbm, labels=[\"BUY\", \"HOLD\", \"SELL\"])\n",
    "confusion_matrix"
   ]
  },
  {
   "cell_type": "code",
   "execution_count": 35,
   "metadata": {},
   "outputs": [
    {
     "name": "stdout",
     "output_type": "stream",
     "text": [
      "Contagem de Classes -> predict_lgbm\n",
      "\n",
      "predict_lgbm.size:  419  | cont_buy:  143  | cont_hold:  131  | cont_sell:  145\n"
     ]
    }
   ],
   "source": [
    "print('Contagem de Classes -> predict_lgbm\\n')\n",
    "contagem_classes(predict_lgbm, 'predict_lgbm')"
   ]
  },
  {
   "cell_type": "code",
   "execution_count": 36,
   "metadata": {},
   "outputs": [
    {
     "data": {
      "text/plain": [
       "<AxesSubplot:>"
      ]
     },
     "execution_count": 36,
     "metadata": {},
     "output_type": "execute_result"
    },
    {
     "data": {
      "image/png": "[encoded data removed]",
      "text/plain": [
       "<Figure size 432x288 with 2 Axes>"
      ]
     },
     "metadata": {
      "needs_background": "light"
     },
     "output_type": "display_data"
    }
   ],
   "source": [
    "# visualize confusion matrix with seaborn heatmap\n",
    "cm_matrix_LGBM = pd.DataFrame(data=confusion_matrix,\n",
    "                        columns=['BUY_P', 'HOLD_P', 'SELL_P'], \n",
    "                        index=['BUY_R', 'HOLD_R', 'SELL_R'])\n",
    "\n",
    "sns.heatmap(cm_matrix_LGBM, annot=True, fmt='d', cmap='YlGnBu')"
   ]
  },
  {
   "cell_type": "code",
   "execution_count": 37,
   "metadata": {},
   "outputs": [
    {
     "data": {
      "text/plain": [
       "0.5060212046981016"
      ]
     },
     "execution_count": 37,
     "metadata": {},
     "output_type": "execute_result"
    }
   ],
   "source": [
    "weightedFScore_LGBM = weightedFScore(confusion_matrix)[0] \n",
    "weightedFScore_LGBM"
   ]
  },
  {
   "cell_type": "markdown",
   "metadata": {},
   "source": [
    "### Compare train and test set accuracy"
   ]
  },
  {
   "cell_type": "code",
   "execution_count": null,
   "metadata": {},
   "outputs": [],
   "source": [
    "#y_pred_train = model_lgbm.predict(x_train)\n",
    "#print('Training-set accuracy score: {0:0.4f}'. format(accuracy_score(y_train, y_pred_train)))"
   ]
  },
  {
   "cell_type": "markdown",
   "metadata": {},
   "source": [
    "### Check for Overfitting"
   ]
  },
  {
   "cell_type": "code",
   "execution_count": null,
   "metadata": {},
   "outputs": [],
   "source": [
    "# print the scores on training and test set\n",
    "\n",
    "#print('Training set score: {:.4f}'.format(model_lgbm.score(x_train, y_train)))\n",
    "\n",
    "#print('Test set score: {:.4f}'.format(model_lgbm.score(x_test, y_test)))"
   ]
  },
  {
   "cell_type": "code",
   "execution_count": null,
   "metadata": {},
   "outputs": [],
   "source": [
    "#print('Validation set score: {:.4f}'.format(model_lgbm.score(x_valid, y_valid)))"
   ]
  },
  {
   "cell_type": "markdown",
   "metadata": {},
   "source": [
    "## Random Forest"
   ]
  },
  {
   "cell_type": "code",
   "execution_count": 38,
   "metadata": {},
   "outputs": [
    {
     "name": "stdout",
     "output_type": "stream",
     "text": [
      "Accuracy Score - Random Forest:  0.3412887828162291\n"
     ]
    }
   ],
   "source": [
    "model_randomF = RandomForestClassifier(n_jobs=-1, random_state=0, n_estimators=5000)\n",
    "model_randomF.fit(x_train, y_train)\n",
    "predict_randomF = model_randomF.predict(x_test)\n",
    "\n",
    "accuracy_score_RF = accuracy_score(y_test, predict_randomF)\n",
    "print('Accuracy Score - Random Forest: ', accuracy_score_RF)"
   ]
  },
  {
   "cell_type": "code",
   "execution_count": 39,
   "metadata": {
    "scrolled": false
   },
   "outputs": [
    {
     "name": "stdout",
     "output_type": "stream",
     "text": [
      "              precision    recall  f1-score   support\n",
      "\n",
      "         BUY       0.29      0.32      0.31       129\n",
      "        HOLD       0.35      0.35      0.35       144\n",
      "        SELL       0.38      0.35      0.36       146\n",
      "\n",
      "    accuracy                           0.34       419\n",
      "   macro avg       0.34      0.34      0.34       419\n",
      "weighted avg       0.34      0.34      0.34       419\n",
      "\n"
     ]
    }
   ],
   "source": [
    "print(classification_report(y_test, predict_randomF))"
   ]
  },
  {
   "cell_type": "code",
   "execution_count": 40,
   "metadata": {
    "scrolled": true
   },
   "outputs": [
    {
     "data": {
      "text/plain": [
       "array([[41, 45, 43],\n",
       "       [51, 51, 42],\n",
       "       [47, 48, 51]], dtype=int64)"
      ]
     },
     "execution_count": 40,
     "metadata": {},
     "output_type": "execute_result"
    }
   ],
   "source": [
    "from sklearn.metrics import confusion_matrix\n",
    "confusion_matrix = confusion_matrix(y_test, predict_randomF, labels=[\"BUY\", \"HOLD\", \"SELL\"])\n",
    "confusion_matrix"
   ]
  },
  {
   "cell_type": "code",
   "execution_count": 41,
   "metadata": {},
   "outputs": [
    {
     "name": "stdout",
     "output_type": "stream",
     "text": [
      "Contagem de Classes -> predict_randomF\n",
      "\n",
      "predict_randomF.size:  419  | cont_buy:  139  | cont_hold:  144  | cont_sell:  136\n"
     ]
    }
   ],
   "source": [
    "print('Contagem de Classes -> predict_randomF\\n')\n",
    "contagem_classes(predict_randomF, 'predict_randomF')"
   ]
  },
  {
   "cell_type": "code",
   "execution_count": 42,
   "metadata": {},
   "outputs": [
    {
     "data": {
      "text/plain": [
       "<AxesSubplot:>"
      ]
     },
     "execution_count": 42,
     "metadata": {},
     "output_type": "execute_result"
    },
    {
     "data": {
      "image/png": "[encoded data removed]",
      "text/plain": [
       "<Figure size 432x288 with 2 Axes>"
      ]
     },
     "metadata": {
      "needs_background": "light"
     },
     "output_type": "display_data"
    }
   ],
   "source": [
    "# visualize confusion matrix with seaborn heatmap\n",
    "cm_matrix_RF = pd.DataFrame(data=confusion_matrix,\n",
    "                        columns=['BUY_P', 'HOLD_P', 'SELL_P'], \n",
    "                        index=['BUY_R', 'HOLD_R', 'SELL_R'])\n",
    "\n",
    "sns.heatmap(cm_matrix_RF, annot=True, fmt='d', cmap='YlGnBu')"
   ]
  },
  {
   "cell_type": "code",
   "execution_count": 43,
   "metadata": {},
   "outputs": [
    {
     "data": {
      "text/plain": [
       "0.5056742850887329"
      ]
     },
     "execution_count": 43,
     "metadata": {},
     "output_type": "execute_result"
    }
   ],
   "source": [
    "weightedFScore_RF = weightedFScore(confusion_matrix)[0] \n",
    "weightedFScore_RF"
   ]
  },
  {
   "cell_type": "markdown",
   "metadata": {},
   "source": [
    "### Compare train and test set accuracy"
   ]
  },
  {
   "cell_type": "code",
   "execution_count": null,
   "metadata": {},
   "outputs": [],
   "source": [
    "#y_pred_train = model_randomF.predict(x_train)\n",
    "#print('Training-set accuracy score: {0:0.4f}'. format(accuracy_score(y_train, y_pred_train)))"
   ]
  },
  {
   "cell_type": "markdown",
   "metadata": {},
   "source": [
    "### Check for Overfitting"
   ]
  },
  {
   "cell_type": "code",
   "execution_count": null,
   "metadata": {},
   "outputs": [],
   "source": [
    "# print the scores on training and test set\n",
    "\n",
    "#print('Training set score: {:.4f}'.format(model_randomF.score(x_train, y_train)))\n",
    "\n",
    "#print('Test set score: {:.4f}'.format(model_randomF.score(x_test, y_test)))"
   ]
  },
  {
   "cell_type": "code",
   "execution_count": null,
   "metadata": {},
   "outputs": [],
   "source": [
    "#print('Validation set score: {:.4f}'.format(model_randomF.score(x_valid, y_valid)))"
   ]
  },
  {
   "cell_type": "markdown",
   "metadata": {},
   "source": [
    "# Deep Learning"
   ]
  },
  {
   "cell_type": "code",
   "execution_count": 216,
   "metadata": {},
   "outputs": [],
   "source": [
    "# Encoding categorical data\n",
    "from keras.utils import to_categorical\n",
    "from sklearn.preprocessing import LabelEncoder\n",
    "\n",
    "def encode_categ_data(data):\n",
    "    labelencoder = LabelEncoder()\n",
    "    x = labelencoder.fit_transform(data)\n",
    "    data_encoded = to_categorical(x)\n",
    "    \n",
    "    #print(data[10:20])\n",
    "    #print(data_encoded[10:20])\n",
    "    \n",
    "    return data_encoded"
   ]
  },
  {
   "cell_type": "code",
   "execution_count": 217,
   "metadata": {},
   "outputs": [],
   "source": [
    "# example of training a final classification model\n",
    "from keras.models import Sequential, load_model\n",
    "from core.utils import Timer\n",
    "from keras.layers import Dense, Dropout, LSTM, GRU, SimpleRNN\n",
    "from keras.callbacks import EarlyStopping, ModelCheckpoint\n",
    "from keras.optimizers import SGD, Adam\n",
    "dim = x_train.shape[1]"
   ]
  },
  {
   "cell_type": "markdown",
   "metadata": {},
   "source": [
    "## DNN"
   ]
  },
  {
   "cell_type": "code",
   "execution_count": 215,
   "metadata": {
    "scrolled": true
   },
   "outputs": [
    {
     "name": "stdout",
     "output_type": "stream",
     "text": [
      "[model] Model Compiled\n",
      "Time taken: 0:00:00.979085\n"
     ]
    }
   ],
   "source": [
    "# define and fit the final model\n",
    "timer = Timer()\n",
    "timer.start()\n",
    "\n",
    "model_dnn = Sequential()\n",
    "\n",
    "model_dnn.add(Dense(100, input_dim=dim, activation='relu'))\n",
    "model_dnn.add(Dropout(0.2))\n",
    "model_dnn.add(Dense(75, activation='relu'))\n",
    "model_dnn.add(Dropout(0.4))\n",
    "model_dnn.add(Dense(50, activation='relu'))\n",
    "model_dnn.add(Dropout(0.5))\n",
    "model_dnn.add(Dense(25, activation='relu'))\n",
    "model_dnn.add(Dropout(0.2))\n",
    "model_dnn.add(Dense(3, activation='softmax'))\n",
    "\n",
    "model_dnn.compile(loss='categorical_crossentropy', optimizer='adam', metrics=['accuracy'])\n",
    "\n",
    "print('[model] Model Compiled')\n",
    "#print(model_dnn.summary())\n",
    "timer.stop()\n"
   ]
  },
  {
   "cell_type": "code",
   "execution_count": 86,
   "metadata": {
    "scrolled": true
   },
   "outputs": [
    {
     "data": {
      "text/plain": [
       "\"# define and fit the final model\\ntimer = Timer()\\ntimer.start()\\n\\nmodel_dnn = Sequential()\\n\\nmodel_dnn.add(Dense(100, input_dim=dim, activation='relu'))\\nmodel_dnn.add(Dropout(0.2))\\nmodel_dnn.add(Dense(50, activation='relu'))\\nmodel_dnn.add(Dropout(0.3))\\nmodel_dnn.add(Dense(30, activation='relu'))\\nmodel_dnn.add(Dropout(0.3))\\nmodel_dnn.add(Dense(15, activation='relu'))\\nmodel_dnn.add(Dropout(0.2))\\nmodel_dnn.add(Dense(3, activation='softmax'))\\n\\nmodel_dnn.compile(loss='categorical_crossentropy', optimizer='adam', metrics=['accuracy'])\\n\\nprint('[model] Model Compiled')\\n#print(model_dnn.summary())\\ntimer.stop()\\n\""
      ]
     },
     "execution_count": 86,
     "metadata": {},
     "output_type": "execute_result"
    }
   ],
   "source": [
    "'''# define and fit the final model\n",
    "timer = Timer()\n",
    "timer.start()\n",
    "\n",
    "model_dnn = Sequential()\n",
    "\n",
    "model_dnn.add(Dense(100, input_dim=dim, activation='relu'))\n",
    "model_dnn.add(Dropout(0.2))\n",
    "model_dnn.add(Dense(50, activation='relu'))\n",
    "model_dnn.add(Dropout(0.3))\n",
    "model_dnn.add(Dense(30, activation='relu'))\n",
    "model_dnn.add(Dropout(0.3))\n",
    "model_dnn.add(Dense(15, activation='relu'))\n",
    "model_dnn.add(Dropout(0.2))\n",
    "model_dnn.add(Dense(3, activation='softmax'))\n",
    "\n",
    "model_dnn.compile(loss='categorical_crossentropy', optimizer='adam', metrics=['accuracy'])\n",
    "\n",
    "print('[model] Model Compiled')\n",
    "#print(model_dnn.summary())\n",
    "timer.stop()\n",
    "'''"
   ]
  },
  {
   "cell_type": "code",
   "execution_count": 218,
   "metadata": {
    "scrolled": true
   },
   "outputs": [
    {
     "name": "stdout",
     "output_type": "stream",
     "text": [
      "[model] Model Compiled\n",
      "Time taken: 0:00:00.301294\n"
     ]
    }
   ],
   "source": [
    "### SIMPLÃO ###\n",
    "\n",
    "# define and fit the final model\n",
    "timer = Timer()\n",
    "timer.start()\n",
    "\n",
    "model_dnn = Sequential()\n",
    "\n",
    "model_dnn.add(Dense(30, input_dim=dim, activation='relu'))\n",
    "model_dnn.add(Dropout(0.4))\n",
    "model_dnn.add(Dense(15, activation='relu'))\n",
    "model_dnn.add(Dropout(0.4))\n",
    "model_dnn.add(Dense(3, activation='softmax'))\n",
    "\n",
    "model_dnn.compile(loss='categorical_crossentropy', optimizer='adam', metrics=['accuracy'])\n",
    "\n",
    "print('[model] Model Compiled')\n",
    "#print(model_dnn.summary())\n",
    "timer.stop()\n"
   ]
  },
  {
   "cell_type": "code",
   "execution_count": 219,
   "metadata": {
    "scrolled": true
   },
   "outputs": [
    {
     "name": "stdout",
     "output_type": "stream",
     "text": [
      "[Model] Training Started\n",
      "Train on 11503 samples, validate on 6730 samples\n",
      "Epoch 1/50\n",
      "11503/11503 [==============================] - 4s 363us/step - loss: 1.1537 - accuracy: 0.3561 - val_loss: 1.0863 - val_accuracy: 0.3954\n",
      "Epoch 2/50\n",
      "11503/11503 [==============================] - 5s 399us/step - loss: 1.0958 - accuracy: 0.3749 - val_loss: 1.0821 - val_accuracy: 0.3780\n",
      "Epoch 3/50\n",
      "11503/11503 [==============================] - 6s 506us/step - loss: 1.0828 - accuracy: 0.3886 - val_loss: 1.0777 - val_accuracy: 0.3902\n",
      "Epoch 4/50\n",
      "11503/11503 [==============================] - 5s 414us/step - loss: 1.0826 - accuracy: 0.3834 - val_loss: 1.0766 - val_accuracy: 0.3903\n",
      "Epoch 5/50\n",
      "11503/11503 [==============================] - 4s 362us/step - loss: 1.0769 - accuracy: 0.3971 - val_loss: 1.0749 - val_accuracy: 0.4013\n",
      "Epoch 6/50\n",
      "11503/11503 [==============================] - 5s 410us/step - loss: 1.0758 - accuracy: 0.4010 - val_loss: 1.0728 - val_accuracy: 0.4080\n",
      "Epoch 7/50\n",
      "11503/11503 [==============================] - 8s 662us/step - loss: 1.0715 - accuracy: 0.4088 - val_loss: 1.0739 - val_accuracy: 0.4070\n",
      "Epoch 8/50\n",
      "11503/11503 [==============================] - 5s 399us/step - loss: 1.0728 - accuracy: 0.4022 - val_loss: 1.0744 - val_accuracy: 0.3991\n",
      "Epoch 9/50\n",
      "11503/11503 [==============================] - 4s 348us/step - loss: 1.0708 - accuracy: 0.4058 - val_loss: 1.0721 - val_accuracy: 0.4045\n",
      "Epoch 10/50\n",
      "11503/11503 [==============================] - 5s 430us/step - loss: 1.0704 - accuracy: 0.4088 - val_loss: 1.0710 - val_accuracy: 0.4074\n",
      "Epoch 11/50\n",
      "11503/11503 [==============================] - 5s 416us/step - loss: 1.0676 - accuracy: 0.4156 - val_loss: 1.0701 - val_accuracy: 0.4046\n",
      "Epoch 12/50\n",
      "11503/11503 [==============================] - 7s 577us/step - loss: 1.0694 - accuracy: 0.4164 - val_loss: 1.0701 - val_accuracy: 0.4155\n",
      "Epoch 13/50\n",
      "11503/11503 [==============================] - 6s 536us/step - loss: 1.0684 - accuracy: 0.4128 - val_loss: 1.0685 - val_accuracy: 0.4144\n",
      "Epoch 14/50\n",
      "11503/11503 [==============================] - 3s 304us/step - loss: 1.0669 - accuracy: 0.4178 - val_loss: 1.0693 - val_accuracy: 0.4094\n",
      "Epoch 15/50\n",
      "11503/11503 [==============================] - 4s 326us/step - loss: 1.0675 - accuracy: 0.4148 - val_loss: 1.0682 - val_accuracy: 0.4015\n",
      "Epoch 16/50\n",
      "11503/11503 [==============================] - 5s 415us/step - loss: 1.0637 - accuracy: 0.4117 - val_loss: 1.0697 - val_accuracy: 0.4083\n",
      "Epoch 17/50\n",
      "11503/11503 [==============================] - 3s 303us/step - loss: 1.0668 - accuracy: 0.4155 - val_loss: 1.0692 - val_accuracy: 0.4034\n",
      "Epoch 18/50\n",
      "11503/11503 [==============================] - 3s 303us/step - loss: 1.0669 - accuracy: 0.4195 - val_loss: 1.0680 - val_accuracy: 0.4079\n",
      "Epoch 19/50\n",
      "11503/11503 [==============================] - 4s 368us/step - loss: 1.0657 - accuracy: 0.4154 - val_loss: 1.0684 - val_accuracy: 0.4037\n",
      "Epoch 20/50\n",
      "11503/11503 [==============================] - 4s 305us/step - loss: 1.0661 - accuracy: 0.4149 - val_loss: 1.0703 - val_accuracy: 0.3973\n",
      "Epoch 21/50\n",
      "11503/11503 [==============================] - 6s 483us/step - loss: 1.0643 - accuracy: 0.4162 - val_loss: 1.0708 - val_accuracy: 0.4107\n",
      "Epoch 22/50\n",
      "11503/11503 [==============================] - 3s 302us/step - loss: 1.0638 - accuracy: 0.4201 - val_loss: 1.0689 - val_accuracy: 0.4116\n",
      "Epoch 23/50\n",
      "11503/11503 [==============================] - 3s 298us/step - loss: 1.0634 - accuracy: 0.4183 - val_loss: 1.0688 - val_accuracy: 0.4111\n",
      "Epoch 24/50\n",
      "11503/11503 [==============================] - 4s 319us/step - loss: 1.0643 - accuracy: 0.4211 - val_loss: 1.0699 - val_accuracy: 0.4074\n",
      "Epoch 25/50\n",
      "11503/11503 [==============================] - 3s 304us/step - loss: 1.0644 - accuracy: 0.4178 - val_loss: 1.0682 - val_accuracy: 0.4129\n",
      "Epoch 26/50\n",
      "11503/11503 [==============================] - 4s 380us/step - loss: 1.0620 - accuracy: 0.4208 - val_loss: 1.0680 - val_accuracy: 0.4067\n",
      "Epoch 27/50\n",
      "11503/11503 [==============================] - 5s 397us/step - loss: 1.0612 - accuracy: 0.4215 - val_loss: 1.0683 - val_accuracy: 0.4134\n",
      "Epoch 28/50\n",
      "11503/11503 [==============================] - 3s 303us/step - loss: 1.0611 - accuracy: 0.4229 - val_loss: 1.0682 - val_accuracy: 0.4114\n",
      "Epoch 29/50\n",
      "11503/11503 [==============================] - 3s 298us/step - loss: 1.0609 - accuracy: 0.4200 - val_loss: 1.0688 - val_accuracy: 0.4042\n",
      "Epoch 30/50\n",
      "11503/11503 [==============================] - 3s 298us/step - loss: 1.0604 - accuracy: 0.4187 - val_loss: 1.0700 - val_accuracy: 0.4046\n",
      "Epoch 31/50\n",
      "11503/11503 [==============================] - 4s 315us/step - loss: 1.0622 - accuracy: 0.4253 - val_loss: 1.0694 - val_accuracy: 0.4055\n",
      "Epoch 32/50\n",
      "11503/11503 [==============================] - 3s 288us/step - loss: 1.0619 - accuracy: 0.4235 - val_loss: 1.0676 - val_accuracy: 0.4100\n",
      "Epoch 33/50\n",
      "11503/11503 [==============================] - 3s 293us/step - loss: 1.0621 - accuracy: 0.4253 - val_loss: 1.0680 - val_accuracy: 0.4147\n",
      "Epoch 34/50\n",
      "11503/11503 [==============================] - 3s 288us/step - loss: 1.0599 - accuracy: 0.4226 - val_loss: 1.0688 - val_accuracy: 0.4119\n",
      "Epoch 35/50\n",
      "11503/11503 [==============================] - 3s 290us/step - loss: 1.0589 - accuracy: 0.4299 - val_loss: 1.0698 - val_accuracy: 0.4085\n",
      "Epoch 36/50\n",
      "11503/11503 [==============================] - 3s 294us/step - loss: 1.0595 - accuracy: 0.4285 - val_loss: 1.0668 - val_accuracy: 0.4140\n",
      "Epoch 37/50\n",
      "11503/11503 [==============================] - 3s 304us/step - loss: 1.0595 - accuracy: 0.4305 - val_loss: 1.0663 - val_accuracy: 0.4111\n",
      "Epoch 38/50\n",
      "11503/11503 [==============================] - 4s 310us/step - loss: 1.0571 - accuracy: 0.4297 - val_loss: 1.0671 - val_accuracy: 0.4074\n",
      "Epoch 39/50\n",
      "11503/11503 [==============================] - 3s 296us/step - loss: 1.0596 - accuracy: 0.4279 - val_loss: 1.0678 - val_accuracy: 0.4094\n",
      "Epoch 40/50\n",
      "11503/11503 [==============================] - 3s 296us/step - loss: 1.0579 - accuracy: 0.4279 - val_loss: 1.0693 - val_accuracy: 0.4048\n",
      "Epoch 41/50\n",
      "11503/11503 [==============================] - 3s 296us/step - loss: 1.0561 - accuracy: 0.4278 - val_loss: 1.0682 - val_accuracy: 0.4101\n",
      "Epoch 42/50\n",
      "11503/11503 [==============================] - 3s 285us/step - loss: 1.0572 - accuracy: 0.4329 - val_loss: 1.0668 - val_accuracy: 0.4092\n",
      "Epoch 43/50\n",
      "11503/11503 [==============================] - 4s 331us/step - loss: 1.0567 - accuracy: 0.4325 - val_loss: 1.0669 - val_accuracy: 0.4059\n",
      "Epoch 44/50\n",
      "11503/11503 [==============================] - 4s 343us/step - loss: 1.0577 - accuracy: 0.4300 - val_loss: 1.0674 - val_accuracy: 0.4132\n",
      "Epoch 45/50\n",
      "11503/11503 [==============================] - 3s 283us/step - loss: 1.0580 - accuracy: 0.4223 - val_loss: 1.0698 - val_accuracy: 0.4037\n",
      "Epoch 46/50\n",
      "11503/11503 [==============================] - 3s 298us/step - loss: 1.0562 - accuracy: 0.4335 - val_loss: 1.0685 - val_accuracy: 0.4065\n",
      "Epoch 47/50\n",
      "11503/11503 [==============================] - 3s 255us/step - loss: 1.0587 - accuracy: 0.4238 - val_loss: 1.0678 - val_accuracy: 0.4039\n",
      "Epoch 48/50\n",
      "11503/11503 [==============================] - 3s 250us/step - loss: 1.0532 - accuracy: 0.4362 - val_loss: 1.0706 - val_accuracy: 0.4048\n",
      "Epoch 49/50\n",
      "11503/11503 [==============================] - 3s 267us/step - loss: 1.0550 - accuracy: 0.4306 - val_loss: 1.0696 - val_accuracy: 0.4055\n",
      "Epoch 50/50\n",
      "11503/11503 [==============================] - 3s 249us/step - loss: 1.0555 - accuracy: 0.4275 - val_loss: 1.0689 - val_accuracy: 0.4107\n",
      "[Model] Training Completed.\n",
      "Model saved as saved_models\\prototipo_ciclo1_multiclass_jupyter_DNN.h5\n",
      "Time taken: 0:03:27.176988\n"
     ]
    }
   ],
   "source": [
    "timer = Timer()\n",
    "timer.start()\n",
    "print('[Model] Training Started')\n",
    "\n",
    "save_dir=configs['model']['save_dir']\n",
    "my_model=configs['model']['model_name']\n",
    "save_fname = os.path.join(save_dir, '%s_DNN.h5' % my_model)\n",
    "\n",
    "batch_size=configs['training']['batch_size']\n",
    "\n",
    "callbacks = [ ModelCheckpoint(filepath=save_fname, monitor='loss', save_best_only=True)]\n",
    "es_callbacks = [ EarlyStopping(monitor='val_loss', patience=3) ]\n",
    "\n",
    "y_train_enc = encode_categ_data(y_train)\n",
    "y_valid_enc = encode_categ_data(y_valid)\n",
    "H = model_dnn.fit( x_train, y_train_enc, validation_data=(x_valid, y_valid_enc), epochs=50, \n",
    "                   callbacks=callbacks, workers=1 )\n",
    "\n",
    "model_dnn.save(save_fname)\n",
    "\n",
    "print('[Model] Training Completed.')\n",
    "print('Model saved as %s' % save_fname)\n",
    "\n",
    "timer.stop()"
   ]
  },
  {
   "cell_type": "code",
   "execution_count": 220,
   "metadata": {
    "scrolled": true
   },
   "outputs": [
    {
     "data": {
      "text/plain": [
       "array([[0.21926968, 0.5326629 , 0.24806742],\n",
       "       [0.37110284, 0.23554148, 0.39335573],\n",
       "       [0.3790373 , 0.22086546, 0.40009725],\n",
       "       ...,\n",
       "       [0.35590857, 0.28705418, 0.35703728],\n",
       "       [0.3901944 , 0.25753924, 0.35226637],\n",
       "       [0.43849617, 0.20471887, 0.356785  ]], dtype=float32)"
      ]
     },
     "execution_count": 220,
     "metadata": {},
     "output_type": "execute_result"
    }
   ],
   "source": [
    "# new instances where we do not know the answer\n",
    "y_pred = model_dnn.predict(x_test) \n",
    "y_pred"
   ]
  },
  {
   "cell_type": "code",
   "execution_count": 221,
   "metadata": {},
   "outputs": [
    {
     "name": "stdout",
     "output_type": "stream",
     "text": [
      "dict_keys(['val_loss', 'val_accuracy', 'loss', 'accuracy'])\n"
     ]
    },
    {
     "data": {
      "image/png": "[encoded data removed]",
      "text/plain": [
       "<Figure size 432x288 with 1 Axes>"
      ]
     },
     "metadata": {
      "needs_background": "light"
     },
     "output_type": "display_data"
    },
    {
     "data": {
      "image/png": "[encoded data removed]",
      "text/plain": [
       "<Figure size 432x288 with 1 Axes>"
      ]
     },
     "metadata": {
      "needs_background": "light"
     },
     "output_type": "display_data"
    }
   ],
   "source": [
    "# list all data in history       \n",
    "print(H.history.keys())\n",
    "# summarize history for accuracy\n",
    "plt.plot(H.history['accuracy'])\n",
    "plt.plot(H.history['val_accuracy'])\n",
    "plt.title('model accuracy')\n",
    "plt.ylabel('accuracy')\n",
    "plt.xlabel('epoch')\n",
    "plt.legend(['accuracy', 'val_accuracy'], loc='upper left')\n",
    "fig_path = 'accuracy_history.png'\n",
    "plt.savefig(fig_path)     \n",
    "plt.show()\n",
    "\n",
    "# summarize history for loss\n",
    "plt.plot(H.history['loss'])\n",
    "plt.plot(H.history['val_loss'])\n",
    "plt.title('model loss')\n",
    "plt.ylabel('loss')\n",
    "plt.xlabel('epoch')\n",
    "plt.legend(['loss', 'val_loss'], loc='upper left')\n",
    "fig_path = 'loss_history.png'\n",
    "plt.savefig(fig_path) \n",
    "plt.show()"
   ]
  },
  {
   "cell_type": "code",
   "execution_count": 222,
   "metadata": {},
   "outputs": [],
   "source": [
    "# BUY | SELL | HOLD\n",
    "\n",
    "labels = ['BUY', 'HOLD', 'SELL'] \n",
    "\n",
    "pred = []\n",
    "for i in y_pred:\n",
    "    pred.append(np.argmax(i))\n",
    "pred_array = np.array(pred)       \n",
    "\n",
    "real = []\n",
    "y_test_enc = encode_categ_data(y_test)\n",
    "for i in y_test_enc:\n",
    "    real.append(np.argmax(i))\n",
    "real_array = np.array(real)    "
   ]
  },
  {
   "cell_type": "code",
   "execution_count": 223,
   "metadata": {},
   "outputs": [
    {
     "name": "stdout",
     "output_type": "stream",
     "text": [
      "[[0.31999046 0.34912983 0.3308798 ]\n",
      " [0.3330083  0.38709024 0.27990144]\n",
      " [0.32793635 0.32938662 0.34267703]\n",
      " [0.31720486 0.3684899  0.31430525]\n",
      " [0.31220865 0.3551595  0.3326319 ]\n",
      " [0.34132847 0.312547   0.3461245 ]\n",
      " [0.3771952  0.27015078 0.35265404]\n",
      " [0.44743901 0.19618683 0.35637414]\n",
      " [0.37422976 0.24078423 0.38498604]\n",
      " [0.35166034 0.25698492 0.39135474]]\n",
      "[[1. 0. 0.]\n",
      " [0. 1. 0.]\n",
      " [0. 1. 0.]\n",
      " [0. 1. 0.]\n",
      " [0. 1. 0.]\n",
      " [0. 1. 0.]\n",
      " [1. 0. 0.]\n",
      " [1. 0. 0.]\n",
      " [1. 0. 0.]\n",
      " [0. 1. 0.]]\n"
     ]
    }
   ],
   "source": [
    "print(y_pred[10:20])\n",
    "print(y_test_enc[10:20])"
   ]
  },
  {
   "cell_type": "code",
   "execution_count": 224,
   "metadata": {},
   "outputs": [
    {
     "name": "stdout",
     "output_type": "stream",
     "text": [
      "[1 1 2 1 1 2 0 0 2 2]\n",
      "[0 1 1 1 1 1 0 0 0 1]\n"
     ]
    }
   ],
   "source": [
    "print(pred_array[10:20])\n",
    "print(real_array[10:20])"
   ]
  },
  {
   "cell_type": "code",
   "execution_count": 225,
   "metadata": {},
   "outputs": [
    {
     "name": "stdout",
     "output_type": "stream",
     "text": [
      "Accuracy Score - DL:  0.3556085918854415\n"
     ]
    }
   ],
   "source": [
    "accuracy_score_DNN = accuracy_score(real_array, pred_array)\n",
    "print('Accuracy Score - DL: ', accuracy_score_DNN)"
   ]
  },
  {
   "cell_type": "code",
   "execution_count": 226,
   "metadata": {},
   "outputs": [
    {
     "name": "stdout",
     "output_type": "stream",
     "text": [
      "              precision    recall  f1-score   support\n",
      "\n",
      "           0       0.30      0.28      0.29       129\n",
      "           1       0.38      0.41      0.40       144\n",
      "           2       0.37      0.37      0.37       146\n",
      "\n",
      "    accuracy                           0.36       419\n",
      "   macro avg       0.35      0.35      0.35       419\n",
      "weighted avg       0.35      0.36      0.35       419\n",
      "\n"
     ]
    }
   ],
   "source": [
    "print(classification_report(real_array, pred_array))"
   ]
  },
  {
   "cell_type": "code",
   "execution_count": 227,
   "metadata": {
    "scrolled": true
   },
   "outputs": [
    {
     "data": {
      "text/plain": [
       "array([[36, 45, 48],\n",
       "       [42, 59, 43],\n",
       "       [42, 50, 54]], dtype=int64)"
      ]
     },
     "execution_count": 227,
     "metadata": {},
     "output_type": "execute_result"
    }
   ],
   "source": [
    "from sklearn.metrics import confusion_matrix\n",
    "confusion_matrix = confusion_matrix(real_array, pred_array)\n",
    "confusion_matrix"
   ]
  },
  {
   "cell_type": "code",
   "execution_count": 228,
   "metadata": {},
   "outputs": [
    {
     "name": "stdout",
     "output_type": "stream",
     "text": [
      "Contagem de Classes -> DNN_real_array\n",
      "\n",
      "DNN_real_array.size:  419  | cont_buy:  129  | cont_hold:  144  | cont_sell:  146\n"
     ]
    }
   ],
   "source": [
    "print('Contagem de Classes -> DNN_real_array\\n')\n",
    "contagem_classes(real_array, 'DNN_real_array')"
   ]
  },
  {
   "cell_type": "code",
   "execution_count": 229,
   "metadata": {},
   "outputs": [
    {
     "name": "stdout",
     "output_type": "stream",
     "text": [
      "Contagem de Classes -> DNN_pred_array\n",
      "\n",
      "DNN_pred_array.size:  419  | cont_buy:  120  | cont_hold:  154  | cont_sell:  145\n"
     ]
    }
   ],
   "source": [
    "print('Contagem de Classes -> DNN_pred_array\\n')\n",
    "contagem_classes(pred_array, 'DNN_pred_array')"
   ]
  },
  {
   "cell_type": "code",
   "execution_count": 230,
   "metadata": {},
   "outputs": [
    {
     "data": {
      "text/plain": [
       "<AxesSubplot:>"
      ]
     },
     "execution_count": 230,
     "metadata": {},
     "output_type": "execute_result"
    },
    {
     "data": {
      "image/png": "[encoded data removed]",
      "text/plain": [
       "<Figure size 432x288 with 2 Axes>"
      ]
     },
     "metadata": {
      "needs_background": "light"
     },
     "output_type": "display_data"
    }
   ],
   "source": [
    "# visualize confusion matrix with seaborn heatmap\n",
    "cm_matrix_DNN = pd.DataFrame(data=confusion_matrix,\n",
    "                        columns=['BUY_P', 'HOLD_P', 'SELL_P'], \n",
    "                        index=['BUY_R', 'HOLD_R', 'SELL_R'])\n",
    "\n",
    "sns.heatmap(cm_matrix_DNN, annot=True, fmt='d', cmap='YlGnBu')"
   ]
  },
  {
   "cell_type": "code",
   "execution_count": 231,
   "metadata": {},
   "outputs": [
    {
     "data": {
      "text/plain": [
       "0.5045396554073304"
      ]
     },
     "execution_count": 231,
     "metadata": {},
     "output_type": "execute_result"
    }
   ],
   "source": [
    "weightedFScore_DNN = weightedFScore(confusion_matrix)[0] \n",
    "weightedFScore_DNN"
   ]
  },
  {
   "cell_type": "code",
   "execution_count": 232,
   "metadata": {
    "scrolled": true
   },
   "outputs": [
    {
     "name": "stdout",
     "output_type": "stream",
     "text": [
      "Training-set accuracy score: 0.4485\n"
     ]
    }
   ],
   "source": [
    "y_pred_train = model_dnn.predict(x_train)\n",
    "\n",
    "labels = ['BUY', 'HOLD', 'SELL'] \n",
    "\n",
    "pred = []\n",
    "for i in y_pred_train:\n",
    "    pred.append(np.argmax(i))\n",
    "pred_array = np.array(pred)       \n",
    "\n",
    "real = []\n",
    "for i in y_train_enc:\n",
    "    real.append(np.argmax(i))\n",
    "real_array = np.array(real)    \n",
    "\n",
    "print('Training-set accuracy score: {0:0.4f}'. format(accuracy_score(real_array, pred_array)))"
   ]
  },
  {
   "cell_type": "code",
   "execution_count": null,
   "metadata": {},
   "outputs": [],
   "source": []
  },
  {
   "cell_type": "markdown",
   "metadata": {},
   "source": [
    "# LSTM"
   ]
  },
  {
   "cell_type": "code",
   "execution_count": null,
   "metadata": {},
   "outputs": [],
   "source": []
  },
  {
   "cell_type": "code",
   "execution_count": 61,
   "metadata": {
    "scrolled": true
   },
   "outputs": [
    {
     "name": "stdout",
     "output_type": "stream",
     "text": [
      "[model] Model Compiled\n",
      "Time taken: 0:00:01.886485\n"
     ]
    }
   ],
   "source": [
    "# define and fit the final model\n",
    "timer = Timer()\n",
    "timer.start()\n",
    "timesteps = configs['dataset']['sequence_length']\n",
    "\n",
    "model_lstm = Sequential()\n",
    "\n",
    "model_lstm.add(LSTM(200, input_shape=(timesteps, dim), return_sequences=True))\n",
    "model_lstm.add(Dropout(0.1))\n",
    "model_lstm.add(LSTM(150, input_shape=(timesteps, dim), return_sequences=True))\n",
    "model_lstm.add(Dropout(0.2))\n",
    "model_lstm.add(LSTM(100, input_shape=(timesteps, dim), return_sequences=True))\n",
    "model_lstm.add(Dropout(0.2))\n",
    "model_lstm.add(LSTM(100, input_shape=(timesteps, dim), return_sequences=True))\n",
    "model_lstm.add(Dropout(0.2))\n",
    "model_lstm.add(LSTM(100, input_shape=(timesteps, dim), return_sequences=True))\n",
    "model_lstm.add(Dropout(0.2))\n",
    "model_lstm.add(LSTM(50, input_shape=(timesteps, dim), return_sequences=False))\n",
    "model_lstm.add(Dropout(0.2))\n",
    "model_lstm.add(Dense(3, activation='softmax'))\n",
    "\n",
    "model_lstm.compile(loss='categorical_crossentropy', optimizer='adam', metrics=['accuracy'])\n",
    "\n",
    "print('[model] Model Compiled')\n",
    "#print(model_lstm.summary())\n",
    "timer.stop()\n"
   ]
  },
  {
   "cell_type": "code",
   "execution_count": null,
   "metadata": {
    "scrolled": true
   },
   "outputs": [],
   "source": [
    "'''# define and fit the final model\n",
    "timer = Timer()\n",
    "timer.start()\n",
    "timesteps = configs['dataset']['sequence_length']\n",
    "\n",
    "model_lstm = Sequential()\n",
    "\n",
    "model_lstm.add(SimpleRNN(150, input_shape=(timesteps, dim), return_sequences=True))\n",
    "model_lstm.add(Dropout(0.1))\n",
    "model_lstm.add(SimpleRNN(125, input_shape=(timesteps, dim), return_sequences=True))\n",
    "model_lstm.add(LSTM(100, input_shape=(timesteps, dim), return_sequences=True))\n",
    "model_lstm.add(Dropout(0.3))\n",
    "model_lstm.add(LSTM(100, input_shape=(timesteps, dim), return_sequences=True))\n",
    "model_lstm.add(Dropout(0.3))\n",
    "model_lstm.add(GRU(100, input_shape=(timesteps, dim), return_sequences=True))\n",
    "model_lstm.add(Dropout(0.3))\n",
    "model_lstm.add(SimpleRNN(100, input_shape=(timesteps, dim), return_sequences=True))\n",
    "model_lstm.add(Dropout(0.3))\n",
    "model_lstm.add(GRU(100, input_shape=(timesteps, dim), return_sequences=True))\n",
    "model_lstm.add(Dropout(0.3))\n",
    "model_lstm.add(LSTM(100, input_shape=(timesteps, dim), return_sequences=True))\n",
    "model_lstm.add(Dropout(0.3))\n",
    "model_lstm.add(GRU(100, input_shape=(timesteps, dim), return_sequences=True))\n",
    "model_lstm.add(SimpleRNN(90, input_shape=(timesteps, dim), return_sequences=True))\n",
    "model_lstm.add(Dropout(0.3))\n",
    "model_lstm.add(GRU(80, input_shape=(timesteps, dim), return_sequences=True))\n",
    "model_lstm.add(GRU(70, input_shape=(timesteps, dim), return_sequences=True))\n",
    "model_lstm.add(Dropout(0.3))\n",
    "model_lstm.add(LSTM(75, input_shape=(timesteps, dim), return_sequences=True))\n",
    "model_lstm.add(GRU(75, input_shape=(timesteps, dim), return_sequences=True))\n",
    "model_lstm.add(Dropout(0.2))\n",
    "model_lstm.add(LSTM(50, input_shape=(timesteps, dim), return_sequences=False))\n",
    "model_lstm.add(Dropout(0.2))\n",
    "model_lstm.add(Dense(3, activation='softmax'))\n",
    "\n",
    "model_lstm.compile(loss='categorical_crossentropy', optimizer='adam', metrics=['accuracy'])\n",
    "\n",
    "print('[model] Model Compiled')\n",
    "#print(model_lstm.summary())\n",
    "timer.stop()\n",
    "'''"
   ]
  },
  {
   "cell_type": "code",
   "execution_count": 250,
   "metadata": {
    "scrolled": true
   },
   "outputs": [
    {
     "name": "stdout",
     "output_type": "stream",
     "text": [
      "[model] Model Compiled\n",
      "Time taken: 0:00:01.290626\n"
     ]
    }
   ],
   "source": [
    "### SIMPLÃO ###\n",
    "\n",
    "# define and fit the final model\n",
    "timer = Timer()\n",
    "timer.start()\n",
    "timesteps = configs['dataset']['sequence_length']\n",
    "\n",
    "model_lstm = Sequential()\n",
    "\n",
    "model_lstm.add(LSTM(100, input_shape=(timesteps, dim), return_sequences=True))\n",
    "model_lstm.add(Dropout(0.5))\n",
    "model_lstm.add(LSTM(50, input_shape=(timesteps, dim), return_sequences=False))\n",
    "model_lstm.add(Dropout(0.5))\n",
    "model_lstm.add(Dense(3, activation='softmax'))\n",
    "\n",
    "model_lstm.compile(loss='categorical_crossentropy', optimizer='adam', metrics=['accuracy'])\n",
    "\n",
    "print('[model] Model Compiled')\n",
    "#print(model_lstm.summary())\n",
    "timer.stop()\n"
   ]
  },
  {
   "cell_type": "code",
   "execution_count": 251,
   "metadata": {
    "scrolled": true
   },
   "outputs": [
    {
     "name": "stdout",
     "output_type": "stream",
     "text": [
      "[Model] Training Started\n",
      "Train on 11495 samples, validate on 6724 samples\n",
      "Epoch 1/25\n",
      "11495/11495 [==============================] - 11s 958us/step - loss: 1.1143 - accuracy: 0.3543 - val_loss: 1.0953 - val_accuracy: 0.3592\n",
      "Epoch 2/25\n",
      "11495/11495 [==============================] - 14s 1ms/step - loss: 1.0920 - accuracy: 0.3829 - val_loss: 1.0999 - val_accuracy: 0.3556\n",
      "Epoch 3/25\n",
      "11495/11495 [==============================] - 11s 991us/step - loss: 1.0825 - accuracy: 0.3998 - val_loss: 1.1015 - val_accuracy: 0.3528\n",
      "Epoch 4/25\n",
      "11495/11495 [==============================] - 10s 857us/step - loss: 1.0690 - accuracy: 0.4307 - val_loss: 1.1099 - val_accuracy: 0.3657\n",
      "Epoch 5/25\n",
      "11495/11495 [==============================] - 10s 863us/step - loss: 1.0541 - accuracy: 0.4452 - val_loss: 1.1202 - val_accuracy: 0.3718\n",
      "Epoch 6/25\n",
      "11495/11495 [==============================] - 10s 848us/step - loss: 1.0321 - accuracy: 0.4745 - val_loss: 1.1300 - val_accuracy: 0.3709\n",
      "Epoch 7/25\n",
      "11495/11495 [==============================] - 9s 819us/step - loss: 1.0093 - accuracy: 0.4970 - val_loss: 1.1727 - val_accuracy: 0.3656\n",
      "Epoch 8/25\n",
      "11495/11495 [==============================] - 9s 823us/step - loss: 0.9875 - accuracy: 0.5152 - val_loss: 1.1997 - val_accuracy: 0.3571\n",
      "Epoch 9/25\n",
      "11495/11495 [==============================] - 10s 858us/step - loss: 0.9516 - accuracy: 0.5437 - val_loss: 1.2274 - val_accuracy: 0.3592\n",
      "Epoch 10/25\n",
      "11495/11495 [==============================] - 10s 847us/step - loss: 0.9179 - accuracy: 0.5655 - val_loss: 1.2782 - val_accuracy: 0.3681\n",
      "Epoch 11/25\n",
      "11495/11495 [==============================] - 9s 823us/step - loss: 0.8859 - accuracy: 0.5877 - val_loss: 1.3074 - val_accuracy: 0.3682\n",
      "Epoch 12/25\n",
      "11495/11495 [==============================] - 10s 836us/step - loss: 0.8469 - accuracy: 0.6150 - val_loss: 1.4004 - val_accuracy: 0.3639\n",
      "Epoch 13/25\n",
      "11495/11495 [==============================] - 10s 833us/step - loss: 0.8103 - accuracy: 0.6363 - val_loss: 1.4774 - val_accuracy: 0.3548\n",
      "Epoch 14/25\n",
      "11495/11495 [==============================] - 10s 844us/step - loss: 0.7796 - accuracy: 0.6512 - val_loss: 1.4719 - val_accuracy: 0.3633\n",
      "Epoch 15/25\n",
      "11495/11495 [==============================] - 10s 852us/step - loss: 0.7435 - accuracy: 0.6739 - val_loss: 1.5327 - val_accuracy: 0.3513\n",
      "Epoch 16/25\n",
      "11495/11495 [==============================] - 10s 854us/step - loss: 0.7136 - accuracy: 0.6919 - val_loss: 1.6162 - val_accuracy: 0.3510\n",
      "Epoch 17/25\n",
      "11495/11495 [==============================] - 10s 830us/step - loss: 0.6729 - accuracy: 0.7100 - val_loss: 1.7105 - val_accuracy: 0.3480\n",
      "Epoch 18/25\n",
      "11495/11495 [==============================] - 9s 826us/step - loss: 0.6558 - accuracy: 0.7169 - val_loss: 1.7214 - val_accuracy: 0.3522\n",
      "Epoch 19/25\n",
      "11495/11495 [==============================] - 9s 820us/step - loss: 0.6323 - accuracy: 0.7334 - val_loss: 1.7997 - val_accuracy: 0.3446\n",
      "Epoch 20/25\n",
      "11495/11495 [==============================] - 9s 815us/step - loss: 0.5943 - accuracy: 0.7490 - val_loss: 1.8076 - val_accuracy: 0.3476\n",
      "Epoch 21/25\n",
      "11495/11495 [==============================] - 10s 843us/step - loss: 0.5800 - accuracy: 0.7575 - val_loss: 1.8772 - val_accuracy: 0.3490\n",
      "Epoch 22/25\n",
      "11495/11495 [==============================] - 10s 829us/step - loss: 0.5665 - accuracy: 0.7642 - val_loss: 1.9389 - val_accuracy: 0.3520\n",
      "Epoch 23/25\n",
      "11495/11495 [==============================] - 9s 814us/step - loss: 0.5394 - accuracy: 0.7712 - val_loss: 2.0333 - val_accuracy: 0.3554\n",
      "Epoch 24/25\n",
      "11495/11495 [==============================] - 9s 806us/step - loss: 0.5243 - accuracy: 0.7910 - val_loss: 2.0440 - val_accuracy: 0.3595\n",
      "Epoch 25/25\n",
      "11495/11495 [==============================] - 9s 810us/step - loss: 0.5060 - accuracy: 0.7921 - val_loss: 2.2814 - val_accuracy: 0.3459\n",
      "[Model] Training Completed.\n",
      "Model saved as saved_models\\prototipo_ciclo1_multiclass_jupyter_LSTM_activTanh.h5\n",
      "Time taken: 0:04:14.530489\n"
     ]
    }
   ],
   "source": [
    "timer = Timer()\n",
    "timer.start()\n",
    "print('[Model] Training Started')\n",
    "\n",
    "save_dir=configs['model']['save_dir']\n",
    "my_model=configs['model']['model_name']\n",
    "save_fname = os.path.join(save_dir, '%s_LSTM_activTanh.h5' % my_model)\n",
    "\n",
    "batch_size=configs['training']['batch_size']\n",
    "\n",
    "callbacks = [ ModelCheckpoint(filepath=save_fname, monitor='loss', save_best_only=True)]\n",
    "\n",
    "y_train_sw_enc = encode_categ_data(y_train_sw)\n",
    "y_valid_sw_enc = encode_categ_data(y_valid_sw)\n",
    "H = model_lstm.fit( x_train_sw, y_train_sw_enc, validation_data=(x_valid_sw, y_valid_sw_enc), epochs=25, \n",
    "                    batch_size=batch_size, callbacks=callbacks, workers=1 )\n",
    "\n",
    "model_lstm.save(save_fname)\n",
    "\n",
    "print('[Model] Training Completed.')\n",
    "print('Model saved as %s' % save_fname)\n",
    "\n",
    "timer.stop()"
   ]
  },
  {
   "cell_type": "code",
   "execution_count": 252,
   "metadata": {},
   "outputs": [
    {
     "data": {
      "text/plain": [
       "array([[0.04040393, 0.7284071 , 0.23118891],\n",
       "       [0.01774833, 0.26820663, 0.7140451 ],\n",
       "       [0.01641522, 0.13144612, 0.85213864],\n",
       "       ...,\n",
       "       [0.03507772, 0.24134886, 0.7235734 ],\n",
       "       [0.04222221, 0.7893238 , 0.16845408],\n",
       "       [0.00405183, 0.46864608, 0.5273021 ]], dtype=float32)"
      ]
     },
     "execution_count": 252,
     "metadata": {},
     "output_type": "execute_result"
    }
   ],
   "source": [
    "# new instances where we do not know the answer\n",
    "y_pred = model_lstm.predict(x_test_sw) \n",
    "y_pred"
   ]
  },
  {
   "cell_type": "code",
   "execution_count": 253,
   "metadata": {},
   "outputs": [
    {
     "name": "stdout",
     "output_type": "stream",
     "text": [
      "dict_keys(['val_loss', 'val_accuracy', 'loss', 'accuracy'])\n"
     ]
    },
    {
     "data": {
      "image/png": "[encoded data removed]",
      "text/plain": [
       "<Figure size 432x288 with 1 Axes>"
      ]
     },
     "metadata": {
      "needs_background": "light"
     },
     "output_type": "display_data"
    },
    {
     "data": {
      "image/png": "[encoded data removed]",
      "text/plain": [
       "<Figure size 432x288 with 1 Axes>"
      ]
     },
     "metadata": {
      "needs_background": "light"
     },
     "output_type": "display_data"
    }
   ],
   "source": [
    "# list all data in history       \n",
    "print(H.history.keys())\n",
    "# summarize history for accuracy\n",
    "plt.plot(H.history['accuracy'])\n",
    "plt.plot(H.history['val_accuracy'])\n",
    "plt.title('Model Accuracy')\n",
    "plt.ylabel('Accuracy')\n",
    "plt.xlabel('Epoch')\n",
    "plt.legend(['Train', 'Validation'], loc='upper left')\n",
    "fig_path = 'accuracy_history.png'\n",
    "plt.savefig(fig_path)     \n",
    "plt.show()\n",
    "\n",
    "# summarize history for loss\n",
    "plt.plot(H.history['loss'])\n",
    "plt.plot(H.history['val_loss'])\n",
    "plt.title('Model Loss')\n",
    "plt.ylabel('Loss')\n",
    "plt.xlabel('Epoch')\n",
    "plt.legend(['Train', 'Validation'], loc='upper left')\n",
    "fig_path = 'loss_history.png'\n",
    "plt.savefig(fig_path) \n",
    "plt.show()"
   ]
  },
  {
   "cell_type": "code",
   "execution_count": 254,
   "metadata": {},
   "outputs": [],
   "source": [
    "# BUY | SELL | HOLD\n",
    "\n",
    "labels = ['BUY', 'HOLD', 'SELL'] \n",
    "\n",
    "pred = []\n",
    "for i in y_pred:\n",
    "    pred.append(np.argmax(i))\n",
    "pred_array = np.array(pred)       \n",
    "\n",
    "real = []\n",
    "y_test_sw_enc = encode_categ_data(y_test_sw)\n",
    "for i in y_test_sw_enc:\n",
    "    real.append(np.argmax(i))\n",
    "real_array = np.array(real)   "
   ]
  },
  {
   "cell_type": "code",
   "execution_count": 255,
   "metadata": {},
   "outputs": [
    {
     "name": "stdout",
     "output_type": "stream",
     "text": [
      "[[0.04040393 0.7284071  0.23118891]\n",
      " [0.01774833 0.26820663 0.7140451 ]\n",
      " [0.01641522 0.13144612 0.85213864]\n",
      " [0.16011198 0.33031443 0.50957364]\n",
      " [0.13801706 0.7841876  0.07779536]\n",
      " [0.23122142 0.6777161  0.09106253]\n",
      " [0.29320943 0.15240061 0.55438995]\n",
      " [0.8855243  0.04529655 0.06917915]\n",
      " [0.9799652  0.01704697 0.00298786]\n",
      " [0.9762597  0.02099077 0.00274954]]\n",
      "[1 2 2 2 1 1 2 0 0 0]\n"
     ]
    }
   ],
   "source": [
    "print(y_pred[0:10])\n",
    "print(pred_array[0:10])"
   ]
  },
  {
   "cell_type": "code",
   "execution_count": 256,
   "metadata": {
    "scrolled": true
   },
   "outputs": [
    {
     "name": "stdout",
     "output_type": "stream",
     "text": [
      "[[0. 0. 1.]\n",
      " [0. 0. 1.]\n",
      " [0. 0. 1.]\n",
      " [0. 1. 0.]\n",
      " [0. 0. 1.]\n",
      " [0. 0. 1.]\n",
      " [0. 1. 0.]\n",
      " [0. 1. 0.]\n",
      " [0. 0. 1.]\n",
      " [0. 0. 1.]]\n",
      "[2 2 2 1 2 2 1 1 2 2]\n"
     ]
    }
   ],
   "source": [
    "print(y_test_sw_enc[100:110])\n",
    "print(real_array[100:110])"
   ]
  },
  {
   "cell_type": "code",
   "execution_count": 257,
   "metadata": {},
   "outputs": [
    {
     "name": "stdout",
     "output_type": "stream",
     "text": [
      "Accuracy Score - LSTM:  0.35766423357664234\n"
     ]
    }
   ],
   "source": [
    "accuracy_score_LSTM = accuracy_score(real_array, pred_array)\n",
    "print('Accuracy Score - LSTM: ', accuracy_score_LSTM)"
   ]
  },
  {
   "cell_type": "code",
   "execution_count": 258,
   "metadata": {},
   "outputs": [
    {
     "name": "stdout",
     "output_type": "stream",
     "text": [
      "              precision    recall  f1-score   support\n",
      "\n",
      "           0       0.25      0.25      0.25       125\n",
      "           1       0.45      0.36      0.40       140\n",
      "           2       0.37      0.45      0.41       146\n",
      "\n",
      "    accuracy                           0.36       411\n",
      "   macro avg       0.36      0.35      0.35       411\n",
      "weighted avg       0.36      0.36      0.36       411\n",
      "\n"
     ]
    }
   ],
   "source": [
    "print(classification_report(real_array, pred_array))"
   ]
  },
  {
   "cell_type": "code",
   "execution_count": 259,
   "metadata": {},
   "outputs": [
    {
     "data": {
      "text/plain": [
       "array([[31, 32, 62],\n",
       "       [42, 51, 47],\n",
       "       [50, 31, 65]], dtype=int64)"
      ]
     },
     "execution_count": 259,
     "metadata": {},
     "output_type": "execute_result"
    }
   ],
   "source": [
    "from sklearn.metrics import confusion_matrix\n",
    "confusion_matrix = confusion_matrix(real_array, pred_array)\n",
    "confusion_matrix"
   ]
  },
  {
   "cell_type": "code",
   "execution_count": 260,
   "metadata": {},
   "outputs": [
    {
     "name": "stdout",
     "output_type": "stream",
     "text": [
      "Contagem de Classes -> LSTM_real_array\n",
      "\n",
      "LSTM_real_array.size:  411  | cont_buy:  125  | cont_hold:  140  | cont_sell:  146\n"
     ]
    }
   ],
   "source": [
    "print('Contagem de Classes -> LSTM_real_array\\n')\n",
    "contagem_classes(real_array, 'LSTM_real_array')"
   ]
  },
  {
   "cell_type": "code",
   "execution_count": 261,
   "metadata": {},
   "outputs": [
    {
     "name": "stdout",
     "output_type": "stream",
     "text": [
      "Contagem de Classes -> LSTM_pred_array\n",
      "\n",
      "LSTM_pred_array.size:  411  | cont_buy:  123  | cont_hold:  114  | cont_sell:  174\n"
     ]
    }
   ],
   "source": [
    "print('Contagem de Classes -> LSTM_pred_array\\n')\n",
    "contagem_classes(pred_array, 'LSTM_pred_array')"
   ]
  },
  {
   "cell_type": "code",
   "execution_count": 262,
   "metadata": {},
   "outputs": [
    {
     "data": {
      "text/plain": [
       "0.47899660897131435"
      ]
     },
     "execution_count": 262,
     "metadata": {},
     "output_type": "execute_result"
    }
   ],
   "source": [
    "weightedFScore_LSTM = weightedFScore(confusion_matrix)[0] \n",
    "weightedFScore_LSTM"
   ]
  },
  {
   "cell_type": "code",
   "execution_count": 263,
   "metadata": {},
   "outputs": [
    {
     "data": {
      "text/plain": [
       "<AxesSubplot:>"
      ]
     },
     "execution_count": 263,
     "metadata": {},
     "output_type": "execute_result"
    },
    {
     "data": {
      "image/png": "[encoded data removed]",
      "text/plain": [
       "<Figure size 432x288 with 2 Axes>"
      ]
     },
     "metadata": {
      "needs_background": "light"
     },
     "output_type": "display_data"
    }
   ],
   "source": [
    "# visualize confusion matrix with seaborn heatmap\n",
    "cm_matrix_LSTM = pd.DataFrame(data=confusion_matrix,\n",
    "                        columns=['BUY_P', 'HOLD_P', 'SELL_P'], \n",
    "                        index=['BUY_R', 'HOLD_R', 'SELL_R'])\n",
    "\n",
    "sns.heatmap(cm_matrix_LSTM, annot=True, fmt='d', cmap='YlGnBu')"
   ]
  },
  {
   "cell_type": "code",
   "execution_count": 264,
   "metadata": {},
   "outputs": [
    {
     "name": "stdout",
     "output_type": "stream",
     "text": [
      "Training-set accuracy score LSTM: 0.8334\n"
     ]
    }
   ],
   "source": [
    "y_pred_train_sw = model_lstm.predict(x_train_sw)\n",
    "\n",
    "labels = ['BUY', 'HOLD', 'SELL'] \n",
    "\n",
    "pred = []\n",
    "for i in y_pred_train_sw:\n",
    "    pred.append(np.argmax(i))\n",
    "pred_array = np.array(pred)       \n",
    "\n",
    "real = []\n",
    "y_train_sw_enc = encode_categ_data(y_train_sw)\n",
    "for i in y_train_sw_enc:\n",
    "    real.append(np.argmax(i))\n",
    "real_array = np.array(real)    \n",
    "\n",
    "print('Training-set accuracy score LSTM: {0:0.4f}'. format(accuracy_score(real_array, pred_array)))"
   ]
  },
  {
   "cell_type": "code",
   "execution_count": null,
   "metadata": {},
   "outputs": [],
   "source": []
  },
  {
   "cell_type": "markdown",
   "metadata": {},
   "source": [
    "# Resumo"
   ]
  },
  {
   "cell_type": "code",
   "execution_count": 76,
   "metadata": {},
   "outputs": [
    {
     "name": "stdout",
     "output_type": "stream",
     "text": [
      "-------------Resumo-------------\n",
      "\n",
      "Accuracy Score - LGBM:  0.360381861575179\n",
      "Weighted F Score - LGBM:  0.5060212046981016\n",
      "\n",
      "Accuracy Score - Random Forest:  0.3412887828162291\n",
      "Weighted F Score - Random Forest:  0.5056742850887329\n",
      "\n",
      "Accuracy Score - DNN:  0.3723150357995227\n",
      "Weighted F Score - DNN:  0.5557260105852574\n",
      "\n",
      "Accuracy Score - LSTM:  0.3309002433090024\n",
      "Weighted F Score - LSTM:  0.4795949677815281\n"
     ]
    }
   ],
   "source": [
    "print('-------------Resumo-------------')\n",
    "\n",
    "print('\\nAccuracy Score - LGBM: ', accuracy_score_LGBM)\n",
    "print('Weighted F Score - LGBM: ', weightedFScore_LGBM)\n",
    "\n",
    "print('\\nAccuracy Score - Random Forest: ', accuracy_score_RF)\n",
    "print('Weighted F Score - Random Forest: ', weightedFScore_RF)\n",
    "\n",
    "print('\\nAccuracy Score - DNN: ', accuracy_score_DNN)\n",
    "print('Weighted F Score - DNN: ', weightedFScore_DNN)\n",
    "\n",
    "print('\\nAccuracy Score - LSTM: ', accuracy_score_LSTM)\n",
    "print('Weighted F Score - LSTM: ', weightedFScore_LSTM)"
   ]
  },
  {
   "cell_type": "code",
   "execution_count": 77,
   "metadata": {},
   "outputs": [
    {
     "data": {
      "image/png": "[encoded data removed]",
      "text/plain": [
       "<Figure size 720x504 with 8 Axes>"
      ]
     },
     "metadata": {
      "needs_background": "light"
     },
     "output_type": "display_data"
    }
   ],
   "source": [
    "plt.figure(figsize=[10,7])\n",
    "plt.subplot(2,2,1)\n",
    "plt.title('LGBM Heatmap')\n",
    "sns.heatmap(cm_matrix_LGBM, annot=True, fmt='d', cmap='YlGnBu')\n",
    "\n",
    "plt.subplot(2,2,2)\n",
    "plt.title('Random Forest Heatmap')\n",
    "sns.heatmap(cm_matrix_RF, annot=True, fmt='d', cmap='YlGnBu')\n",
    "\n",
    "plt.subplot(2,2,3)\n",
    "plt.title('DNN Heatmap')\n",
    "sns.heatmap(cm_matrix_DNN, annot=True, fmt='d', cmap='YlGnBu')\n",
    "\n",
    "plt.subplot(2,2,4)\n",
    "plt.title('LSTM Heatmap')\n",
    "sns.heatmap(cm_matrix_LSTM, annot=True, fmt='d', cmap='YlGnBu')\n",
    "\n",
    "plt.tight_layout()"
   ]
  },
  {
   "cell_type": "code",
   "execution_count": 78,
   "metadata": {},
   "outputs": [],
   "source": [
    "# save trained model\n",
    "#pickle.dump( model_lgbm, open( 'saved_models/model_LGBM_135features_5000.pkl', 'wb' ) )"
   ]
  },
  {
   "cell_type": "code",
   "execution_count": 79,
   "metadata": {},
   "outputs": [],
   "source": [
    "#pickle.dump( model_dnn, open( 'saved_models/model_DNN_135features_50.pkl', 'wb' ) )"
   ]
  },
  {
   "cell_type": "code",
   "execution_count": 80,
   "metadata": {},
   "outputs": [],
   "source": [
    "#pickle.dump( model_randomF, open( 'saved_models/model_RF_135features_5000.pkl', 'wb' ) )"
   ]
  },
  {
   "cell_type": "code",
   "execution_count": null,
   "metadata": {},
   "outputs": [],
   "source": []
  },
  {
   "cell_type": "code",
   "execution_count": null,
   "metadata": {},
   "outputs": [],
   "source": []
  },
  {
   "cell_type": "code",
   "execution_count": null,
   "metadata": {},
   "outputs": [],
   "source": []
  },
  {
   "cell_type": "code",
   "execution_count": null,
   "metadata": {},
   "outputs": [],
   "source": []
  },
  {
   "cell_type": "code",
   "execution_count": null,
   "metadata": {},
   "outputs": [],
   "source": []
  }
 ],
 "metadata": {
  "kernelspec": {
   "display_name": "Python 3",
   "language": "python",
   "name": "python3"
  },
  "language_info": {
   "codemirror_mode": {
    "name": "ipython",
    "version": 3
   },
   "file_extension": ".py",
   "mimetype": "text/x-python",
   "name": "python",
   "nbconvert_exporter": "python",
   "pygments_lexer": "ipython3",
   "version": "3.6.12"
  }
 },
 "nbformat": 4,
 "nbformat_minor": 4
}
