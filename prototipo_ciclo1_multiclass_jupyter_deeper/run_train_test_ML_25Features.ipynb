{
 "cells": [
  {
   "cell_type": "markdown",
   "metadata": {},
   "source": [
    "# Imports"
   ]
  },
  {
   "cell_type": "code",
   "execution_count": 1,
   "metadata": {},
   "outputs": [],
   "source": [
    "import os\n",
    "import json\n",
    "import math\n",
    "import matplotlib.pyplot as plt\n",
    "import numpy as np\n",
    "import pandas as pd\n",
    "\n",
    "from sklearn.preprocessing import MinMaxScaler, StandardScaler, RobustScaler, MaxAbsScaler, Normalizer, QuantileTransformer"
   ]
  },
  {
   "cell_type": "code",
   "execution_count": 2,
   "metadata": {},
   "outputs": [],
   "source": [
    "# Carregando as configurações do arquivo 'config_modelo.json'\n",
    "configs = json.load(open('config_modelo.json', 'r'))"
   ]
  },
  {
   "cell_type": "code",
   "execution_count": 3,
   "metadata": {},
   "outputs": [],
   "source": [
    "# Criar a pasta 'save_dir' caso não exista no diretório\n",
    "if not os.path.exists(configs['model']['save_dir']):\n",
    "            os.makedirs(configs['model']['save_dir'])"
   ]
  },
  {
   "cell_type": "code",
   "execution_count": 4,
   "metadata": {},
   "outputs": [
    {
     "name": "stdout",
     "output_type": "stream",
     "text": [
      "(139882, 38)\n"
     ]
    },
    {
     "data": {
      "text/html": [
       "<div>\n",
       "<style scoped>\n",
       "    .dataframe tbody tr th:only-of-type {\n",
       "        vertical-align: middle;\n",
       "    }\n",
       "\n",
       "    .dataframe tbody tr th {\n",
       "        vertical-align: top;\n",
       "    }\n",
       "\n",
       "    .dataframe thead th {\n",
       "        text-align: right;\n",
       "    }\n",
       "</style>\n",
       "<table border=\"1\" class=\"dataframe\">\n",
       "  <thead>\n",
       "    <tr style=\"text-align: right;\">\n",
       "      <th></th>\n",
       "      <th>DATETIME</th>\n",
       "      <th>DATE</th>\n",
       "      <th>TIME</th>\n",
       "      <th>OPEN</th>\n",
       "      <th>HIGH</th>\n",
       "      <th>LOW</th>\n",
       "      <th>CLOSE</th>\n",
       "      <th>VOL</th>\n",
       "      <th>EMA_20</th>\n",
       "      <th>MIDPOINT_20</th>\n",
       "      <th>...</th>\n",
       "      <th>MES</th>\n",
       "      <th>DIA_SEMANA</th>\n",
       "      <th>HORA_NOBRE</th>\n",
       "      <th>TARGET_WIN</th>\n",
       "      <th>TARGET_WIN_CAT3</th>\n",
       "      <th>TARGET_WIN_CAT3_LABEL</th>\n",
       "      <th>TARGET_WIN_CAT_ENC</th>\n",
       "      <th>HOLD</th>\n",
       "      <th>SELL</th>\n",
       "      <th>BUY</th>\n",
       "    </tr>\n",
       "  </thead>\n",
       "  <tbody>\n",
       "    <tr>\n",
       "      <th>0</th>\n",
       "      <td>2014-11-19 12:25:00</td>\n",
       "      <td>2014.11.19</td>\n",
       "      <td>12:25:00</td>\n",
       "      <td>53675.0</td>\n",
       "      <td>53780.0</td>\n",
       "      <td>53550.0</td>\n",
       "      <td>53560.0</td>\n",
       "      <td>7494.0</td>\n",
       "      <td>53259.250000</td>\n",
       "      <td>53367.5</td>\n",
       "      <td>...</td>\n",
       "      <td>11</td>\n",
       "      <td>2</td>\n",
       "      <td>2</td>\n",
       "      <td>-70.0</td>\n",
       "      <td>HOLD</td>\n",
       "      <td>2</td>\n",
       "      <td>1</td>\n",
       "      <td>1</td>\n",
       "      <td>0</td>\n",
       "      <td>0</td>\n",
       "    </tr>\n",
       "    <tr>\n",
       "      <th>1</th>\n",
       "      <td>2014-11-19 12:30:00</td>\n",
       "      <td>2014.11.19</td>\n",
       "      <td>12:30:00</td>\n",
       "      <td>53560.0</td>\n",
       "      <td>53565.0</td>\n",
       "      <td>53405.0</td>\n",
       "      <td>53410.0</td>\n",
       "      <td>8363.0</td>\n",
       "      <td>53273.607143</td>\n",
       "      <td>53367.5</td>\n",
       "      <td>...</td>\n",
       "      <td>11</td>\n",
       "      <td>2</td>\n",
       "      <td>2</td>\n",
       "      <td>15.0</td>\n",
       "      <td>HOLD</td>\n",
       "      <td>2</td>\n",
       "      <td>1</td>\n",
       "      <td>1</td>\n",
       "      <td>0</td>\n",
       "      <td>0</td>\n",
       "    </tr>\n",
       "  </tbody>\n",
       "</table>\n",
       "<p>2 rows × 38 columns</p>\n",
       "</div>"
      ],
      "text/plain": [
       "             DATETIME        DATE      TIME     OPEN     HIGH      LOW  \\\n",
       "0 2014-11-19 12:25:00  2014.11.19  12:25:00  53675.0  53780.0  53550.0   \n",
       "1 2014-11-19 12:30:00  2014.11.19  12:30:00  53560.0  53565.0  53405.0   \n",
       "\n",
       "     CLOSE     VOL        EMA_20  MIDPOINT_20  ...  MES  DIA_SEMANA  \\\n",
       "0  53560.0  7494.0  53259.250000      53367.5  ...   11           2   \n",
       "1  53410.0  8363.0  53273.607143      53367.5  ...   11           2   \n",
       "\n",
       "   HORA_NOBRE  TARGET_WIN  TARGET_WIN_CAT3  TARGET_WIN_CAT3_LABEL  \\\n",
       "0           2       -70.0             HOLD                      2   \n",
       "1           2        15.0             HOLD                      2   \n",
       "\n",
       "   TARGET_WIN_CAT_ENC  HOLD  SELL  BUY  \n",
       "0                   1     1     0    0  \n",
       "1                   1     1     0    0  \n",
       "\n",
       "[2 rows x 38 columns]"
      ]
     },
     "execution_count": 4,
     "metadata": {},
     "output_type": "execute_result"
    }
   ],
   "source": [
    "# Carregar o Dataset\n",
    "filepath = 'C:/Users/auW10/Documents/CodigosDoAu/000_Doutorado/dataset/'\n",
    "df = pd.read_pickle(filepath+'dataset_with_TI_ciclo1_multiclass_jupyter.pkl')\n",
    "print(df.shape)\n",
    "df.head(2)"
   ]
  },
  {
   "cell_type": "markdown",
   "metadata": {},
   "source": [
    "## Split dos Dados"
   ]
  },
  {
   "cell_type": "code",
   "execution_count": 5,
   "metadata": {},
   "outputs": [
    {
     "data": {
      "text/plain": [
       "['DATETIME',\n",
       " 'DATE',\n",
       " 'TIME',\n",
       " 'OPEN',\n",
       " 'HIGH',\n",
       " 'LOW',\n",
       " 'CLOSE',\n",
       " 'VOL',\n",
       " 'EMA_20',\n",
       " 'MIDPOINT_20',\n",
       " 'SAR_2',\n",
       " 'SAR_6',\n",
       " 'TRIMA_10',\n",
       " 'ADX_6',\n",
       " 'APO_5_12',\n",
       " 'BOP',\n",
       " 'CCI_12',\n",
       " 'MFI_6',\n",
       " 'MOM_6',\n",
       " 'PPO_12_20',\n",
       " 'ROC_5',\n",
       " 'RSI_10',\n",
       " 'TRIX_5',\n",
       " 'AD',\n",
       " 'ADOSC',\n",
       " 'OBV',\n",
       " 'ATR_12',\n",
       " 'TRANGE',\n",
       " 'MES',\n",
       " 'DIA_SEMANA',\n",
       " 'HORA_NOBRE',\n",
       " 'TARGET_WIN',\n",
       " 'TARGET_WIN_CAT3',\n",
       " 'TARGET_WIN_CAT3_LABEL',\n",
       " 'TARGET_WIN_CAT_ENC',\n",
       " 'HOLD',\n",
       " 'SELL',\n",
       " 'BUY']"
      ]
     },
     "execution_count": 5,
     "metadata": {},
     "output_type": "execute_result"
    }
   ],
   "source": [
    "df.columns.tolist()"
   ]
  },
  {
   "cell_type": "code",
   "execution_count": 6,
   "metadata": {
    "scrolled": true
   },
   "outputs": [
    {
     "name": "stdout",
     "output_type": "stream",
     "text": [
      "(139882, 38)\n",
      "(139882, 31)\n"
     ]
    },
    {
     "data": {
      "text/html": [
       "<div>\n",
       "<style scoped>\n",
       "    .dataframe tbody tr th:only-of-type {\n",
       "        vertical-align: middle;\n",
       "    }\n",
       "\n",
       "    .dataframe tbody tr th {\n",
       "        vertical-align: top;\n",
       "    }\n",
       "\n",
       "    .dataframe thead th {\n",
       "        text-align: right;\n",
       "    }\n",
       "</style>\n",
       "<table border=\"1\" class=\"dataframe\">\n",
       "  <thead>\n",
       "    <tr style=\"text-align: right;\">\n",
       "      <th></th>\n",
       "      <th>DATETIME</th>\n",
       "      <th>DATE</th>\n",
       "      <th>TIME</th>\n",
       "      <th>OPEN</th>\n",
       "      <th>HIGH</th>\n",
       "      <th>LOW</th>\n",
       "      <th>CLOSE</th>\n",
       "      <th>VOL</th>\n",
       "      <th>EMA_20</th>\n",
       "      <th>MIDPOINT_20</th>\n",
       "      <th>...</th>\n",
       "      <th>RSI_10</th>\n",
       "      <th>TRIX_5</th>\n",
       "      <th>AD</th>\n",
       "      <th>ADOSC</th>\n",
       "      <th>OBV</th>\n",
       "      <th>ATR_12</th>\n",
       "      <th>TRANGE</th>\n",
       "      <th>HORA_NOBRE</th>\n",
       "      <th>TARGET_WIN_CAT3</th>\n",
       "      <th>TARGET_WIN_CAT3_LABEL</th>\n",
       "    </tr>\n",
       "  </thead>\n",
       "  <tbody>\n",
       "    <tr>\n",
       "      <th>0</th>\n",
       "      <td>2014-11-19 12:25:00</td>\n",
       "      <td>2014.11.19</td>\n",
       "      <td>12:25:00</td>\n",
       "      <td>53675.0</td>\n",
       "      <td>53780.0</td>\n",
       "      <td>53550.0</td>\n",
       "      <td>53560.0</td>\n",
       "      <td>7494.0</td>\n",
       "      <td>53259.250000</td>\n",
       "      <td>53367.5</td>\n",
       "      <td>...</td>\n",
       "      <td>68.670278</td>\n",
       "      <td>0.080760</td>\n",
       "      <td>7762.234724</td>\n",
       "      <td>3987.430068</td>\n",
       "      <td>25358.0</td>\n",
       "      <td>130.723615</td>\n",
       "      <td>230.0</td>\n",
       "      <td>2</td>\n",
       "      <td>HOLD</td>\n",
       "      <td>2</td>\n",
       "    </tr>\n",
       "    <tr>\n",
       "      <th>1</th>\n",
       "      <td>2014-11-19 12:30:00</td>\n",
       "      <td>2014.11.19</td>\n",
       "      <td>12:30:00</td>\n",
       "      <td>53560.0</td>\n",
       "      <td>53565.0</td>\n",
       "      <td>53405.0</td>\n",
       "      <td>53410.0</td>\n",
       "      <td>8363.0</td>\n",
       "      <td>53273.607143</td>\n",
       "      <td>53367.5</td>\n",
       "      <td>...</td>\n",
       "      <td>56.517372</td>\n",
       "      <td>0.071464</td>\n",
       "      <td>-78.077776</td>\n",
       "      <td>224.882410</td>\n",
       "      <td>16995.0</td>\n",
       "      <td>133.163314</td>\n",
       "      <td>160.0</td>\n",
       "      <td>2</td>\n",
       "      <td>HOLD</td>\n",
       "      <td>2</td>\n",
       "    </tr>\n",
       "  </tbody>\n",
       "</table>\n",
       "<p>2 rows × 31 columns</p>\n",
       "</div>"
      ],
      "text/plain": [
       "             DATETIME        DATE      TIME     OPEN     HIGH      LOW  \\\n",
       "0 2014-11-19 12:25:00  2014.11.19  12:25:00  53675.0  53780.0  53550.0   \n",
       "1 2014-11-19 12:30:00  2014.11.19  12:30:00  53560.0  53565.0  53405.0   \n",
       "\n",
       "     CLOSE     VOL        EMA_20  MIDPOINT_20  ...     RSI_10    TRIX_5  \\\n",
       "0  53560.0  7494.0  53259.250000      53367.5  ...  68.670278  0.080760   \n",
       "1  53410.0  8363.0  53273.607143      53367.5  ...  56.517372  0.071464   \n",
       "\n",
       "            AD        ADOSC      OBV      ATR_12  TRANGE  HORA_NOBRE  \\\n",
       "0  7762.234724  3987.430068  25358.0  130.723615   230.0           2   \n",
       "1   -78.077776   224.882410  16995.0  133.163314   160.0           2   \n",
       "\n",
       "   TARGET_WIN_CAT3  TARGET_WIN_CAT3_LABEL  \n",
       "0             HOLD                      2  \n",
       "1             HOLD                      2  \n",
       "\n",
       "[2 rows x 31 columns]"
      ]
     },
     "execution_count": 6,
     "metadata": {},
     "output_type": "execute_result"
    }
   ],
   "source": [
    "print(df.shape)\n",
    "df2 = df.drop([  'MES',\n",
    "                 'DIA_SEMANA', \n",
    "                 'TARGET_WIN',\n",
    "                 \n",
    "                 'TARGET_WIN_CAT_ENC',\n",
    "             \n",
    "                 'HOLD',\n",
    "                 'SELL',\n",
    "                 'BUY'\n",
    "               \n",
    "              ], axis=1)\n",
    "print(df2.shape)\n",
    "df2.head(2)"
   ]
  },
  {
   "cell_type": "code",
   "execution_count": 7,
   "metadata": {},
   "outputs": [
    {
     "data": {
      "text/plain": [
       "\"\\n             'MIDPOINT_20',\\n             'SAR_2',\\n             'SAR_6', \\n             'CCI_12',\\n             'PPO_12_20',\\n             'AD',\\n             'ADOSC',\\n             'TRIX_5',\\n             'ROC_5',\\n             'APO_5_12',\\n\""
      ]
     },
     "execution_count": 7,
     "metadata": {},
     "output_type": "execute_result"
    }
   ],
   "source": [
    "'''\n",
    "             'MIDPOINT_20',\n",
    "             'SAR_2',\n",
    "             'SAR_6', \n",
    "             'CCI_12',\n",
    "             'PPO_12_20',\n",
    "             'AD',\n",
    "             'ADOSC',\n",
    "             'TRIX_5',\n",
    "             'ROC_5',\n",
    "             'APO_5_12',\n",
    "'''"
   ]
  },
  {
   "cell_type": "code",
   "execution_count": 8,
   "metadata": {
    "scrolled": true
   },
   "outputs": [
    {
     "name": "stdout",
     "output_type": "stream",
     "text": [
      "Proporção Train: 59.1% | Validation: 18.9% | Test: 22.0%\n",
      "(82670, 28) (26410, 28) (30802, 28)\n"
     ]
    },
    {
     "name": "stderr",
     "output_type": "stream",
     "text": [
      "C:\\Users\\auW10\\Anaconda3\\envs\\phd\\lib\\site-packages\\pandas\\core\\frame.py:4170: SettingWithCopyWarning: \n",
      "A value is trying to be set on a copy of a slice from a DataFrame\n",
      "\n",
      "See the caveats in the documentation: https://pandas.pydata.org/pandas-docs/stable/user_guide/indexing.html#returning-a-view-versus-a-copy\n",
      "  errors=errors,\n"
     ]
    }
   ],
   "source": [
    "df_train = df2[(df2['DATETIME'] >= '2014-01-01') & (df2['DATETIME'] < '2018-01-01')]\n",
    "#df_train = df_train.iloc[-10000:, :]\n",
    "df_valid = df2[(df2['DATETIME'] >= '2018-01-01') & (df2['DATETIME'] < '2019-01-01')]\n",
    "#df_valid = df_valid.iloc[:6600, :]\n",
    "df_test  = df2[(df2['DATETIME'] >= '2019-01-01')]\n",
    "#df_test = df_test.iloc[:500,:]\n",
    "\n",
    "print('Proporção Train: {:.1%} | Validation: {:.1%} | Test: {:.1%}'.format(\n",
    "                                            df_train['EMA_20'].count()/df2['EMA_20'].count(),\n",
    "                                            df_valid['EMA_20'].count()/df2['EMA_20'].count(),\n",
    "                                            df_test['EMA_20'].count()/df2['EMA_20'].count()))\n",
    "\n",
    "df_train.drop(['DATETIME', 'DATE', 'TIME'], axis=1, inplace=True)\n",
    "df_valid.drop(['DATETIME', 'DATE', 'TIME'], axis=1, inplace=True)\n",
    "df_test.drop(['DATETIME', 'DATE', 'TIME'], axis=1, inplace=True)\n",
    "print(df_train.shape, df_valid.shape, df_test.shape)"
   ]
  },
  {
   "cell_type": "code",
   "execution_count": 9,
   "metadata": {
    "scrolled": false
   },
   "outputs": [
    {
     "data": {
      "text/html": [
       "<div>\n",
       "<style scoped>\n",
       "    .dataframe tbody tr th:only-of-type {\n",
       "        vertical-align: middle;\n",
       "    }\n",
       "\n",
       "    .dataframe tbody tr th {\n",
       "        vertical-align: top;\n",
       "    }\n",
       "\n",
       "    .dataframe thead th {\n",
       "        text-align: right;\n",
       "    }\n",
       "</style>\n",
       "<table border=\"1\" class=\"dataframe\">\n",
       "  <thead>\n",
       "    <tr style=\"text-align: right;\">\n",
       "      <th></th>\n",
       "      <th>OPEN</th>\n",
       "      <th>HIGH</th>\n",
       "      <th>LOW</th>\n",
       "      <th>CLOSE</th>\n",
       "      <th>VOL</th>\n",
       "      <th>EMA_20</th>\n",
       "      <th>MIDPOINT_20</th>\n",
       "      <th>SAR_2</th>\n",
       "      <th>SAR_6</th>\n",
       "      <th>TRIMA_10</th>\n",
       "      <th>...</th>\n",
       "      <th>RSI_10</th>\n",
       "      <th>TRIX_5</th>\n",
       "      <th>AD</th>\n",
       "      <th>ADOSC</th>\n",
       "      <th>OBV</th>\n",
       "      <th>ATR_12</th>\n",
       "      <th>TRANGE</th>\n",
       "      <th>HORA_NOBRE</th>\n",
       "      <th>TARGET_WIN_CAT3</th>\n",
       "      <th>TARGET_WIN_CAT3_LABEL</th>\n",
       "    </tr>\n",
       "  </thead>\n",
       "  <tbody>\n",
       "    <tr>\n",
       "      <th>109099</th>\n",
       "      <td>88095.0</td>\n",
       "      <td>88185.0</td>\n",
       "      <td>88035.0</td>\n",
       "      <td>88150.0</td>\n",
       "      <td>28664.0</td>\n",
       "      <td>88085.210740</td>\n",
       "      <td>87940.0</td>\n",
       "      <td>87633.908059</td>\n",
       "      <td>88202.700000</td>\n",
       "      <td>88093.000000</td>\n",
       "      <td>...</td>\n",
       "      <td>55.860658</td>\n",
       "      <td>0.018326</td>\n",
       "      <td>-1.884691e+06</td>\n",
       "      <td>28633.191133</td>\n",
       "      <td>-3220019.0</td>\n",
       "      <td>142.408421</td>\n",
       "      <td>150.0</td>\n",
       "      <td>1</td>\n",
       "      <td>BUY</td>\n",
       "      <td>0</td>\n",
       "    </tr>\n",
       "    <tr>\n",
       "      <th>109100</th>\n",
       "      <td>88155.0</td>\n",
       "      <td>88235.0</td>\n",
       "      <td>88135.0</td>\n",
       "      <td>88215.0</td>\n",
       "      <td>43829.0</td>\n",
       "      <td>88097.571622</td>\n",
       "      <td>88025.0</td>\n",
       "      <td>87645.529898</td>\n",
       "      <td>88010.000000</td>\n",
       "      <td>88114.166667</td>\n",
       "      <td>...</td>\n",
       "      <td>60.451853</td>\n",
       "      <td>0.019631</td>\n",
       "      <td>-1.858394e+06</td>\n",
       "      <td>36933.665650</td>\n",
       "      <td>-3176190.0</td>\n",
       "      <td>138.874386</td>\n",
       "      <td>100.0</td>\n",
       "      <td>1</td>\n",
       "      <td>BUY</td>\n",
       "      <td>0</td>\n",
       "    </tr>\n",
       "    <tr>\n",
       "      <th>109101</th>\n",
       "      <td>88210.0</td>\n",
       "      <td>88370.0</td>\n",
       "      <td>88210.0</td>\n",
       "      <td>88345.0</td>\n",
       "      <td>53064.0</td>\n",
       "      <td>88121.136230</td>\n",
       "      <td>88097.5</td>\n",
       "      <td>87669.108702</td>\n",
       "      <td>88023.500000</td>\n",
       "      <td>88136.333333</td>\n",
       "      <td>...</td>\n",
       "      <td>67.876979</td>\n",
       "      <td>0.026144</td>\n",
       "      <td>-1.821912e+06</td>\n",
       "      <td>50232.565203</td>\n",
       "      <td>-3123126.0</td>\n",
       "      <td>140.634854</td>\n",
       "      <td>160.0</td>\n",
       "      <td>1</td>\n",
       "      <td>HOLD</td>\n",
       "      <td>2</td>\n",
       "    </tr>\n",
       "    <tr>\n",
       "      <th>109102</th>\n",
       "      <td>88350.0</td>\n",
       "      <td>88365.0</td>\n",
       "      <td>88260.0</td>\n",
       "      <td>88320.0</td>\n",
       "      <td>35294.0</td>\n",
       "      <td>88140.075636</td>\n",
       "      <td>88097.5</td>\n",
       "      <td>87711.162180</td>\n",
       "      <td>88065.080000</td>\n",
       "      <td>88156.833333</td>\n",
       "      <td>...</td>\n",
       "      <td>65.258965</td>\n",
       "      <td>0.030487</td>\n",
       "      <td>-1.816870e+06</td>\n",
       "      <td>53740.286921</td>\n",
       "      <td>-3158420.0</td>\n",
       "      <td>137.665283</td>\n",
       "      <td>105.0</td>\n",
       "      <td>1</td>\n",
       "      <td>BUY</td>\n",
       "      <td>0</td>\n",
       "    </tr>\n",
       "    <tr>\n",
       "      <th>109103</th>\n",
       "      <td>88320.0</td>\n",
       "      <td>88415.0</td>\n",
       "      <td>88315.0</td>\n",
       "      <td>88365.0</td>\n",
       "      <td>38681.0</td>\n",
       "      <td>88161.497004</td>\n",
       "      <td>88130.0</td>\n",
       "      <td>87750.692449</td>\n",
       "      <td>88101.670400</td>\n",
       "      <td>88184.500000</td>\n",
       "      <td>...</td>\n",
       "      <td>67.746963</td>\n",
       "      <td>0.033820</td>\n",
       "      <td>-1.816870e+06</td>\n",
       "      <td>51090.454808</td>\n",
       "      <td>-3119739.0</td>\n",
       "      <td>134.526509</td>\n",
       "      <td>100.0</td>\n",
       "      <td>1</td>\n",
       "      <td>BUY</td>\n",
       "      <td>0</td>\n",
       "    </tr>\n",
       "    <tr>\n",
       "      <th>109104</th>\n",
       "      <td>88365.0</td>\n",
       "      <td>88490.0</td>\n",
       "      <td>88340.0</td>\n",
       "      <td>88465.0</td>\n",
       "      <td>48422.0</td>\n",
       "      <td>88190.402052</td>\n",
       "      <td>88180.0</td>\n",
       "      <td>87803.837053</td>\n",
       "      <td>88158.069728</td>\n",
       "      <td>88219.500000</td>\n",
       "      <td>...</td>\n",
       "      <td>72.593257</td>\n",
       "      <td>0.038934</td>\n",
       "      <td>-1.784589e+06</td>\n",
       "      <td>57213.644698</td>\n",
       "      <td>-3071317.0</td>\n",
       "      <td>135.815967</td>\n",
       "      <td>150.0</td>\n",
       "      <td>1</td>\n",
       "      <td>BUY</td>\n",
       "      <td>0</td>\n",
       "    </tr>\n",
       "    <tr>\n",
       "      <th>109105</th>\n",
       "      <td>88465.0</td>\n",
       "      <td>88535.0</td>\n",
       "      <td>88425.0</td>\n",
       "      <td>88510.0</td>\n",
       "      <td>48057.0</td>\n",
       "      <td>88220.839951</td>\n",
       "      <td>88202.5</td>\n",
       "      <td>87872.453348</td>\n",
       "      <td>88224.455782</td>\n",
       "      <td>88264.166667</td>\n",
       "      <td>...</td>\n",
       "      <td>74.508420</td>\n",
       "      <td>0.043691</td>\n",
       "      <td>-1.758376e+06</td>\n",
       "      <td>64476.874745</td>\n",
       "      <td>-3023260.0</td>\n",
       "      <td>133.664636</td>\n",
       "      <td>110.0</td>\n",
       "      <td>1</td>\n",
       "      <td>HOLD</td>\n",
       "      <td>2</td>\n",
       "    </tr>\n",
       "    <tr>\n",
       "      <th>109106</th>\n",
       "      <td>88510.0</td>\n",
       "      <td>88595.0</td>\n",
       "      <td>88485.0</td>\n",
       "      <td>88540.0</td>\n",
       "      <td>41115.0</td>\n",
       "      <td>88251.236147</td>\n",
       "      <td>88217.5</td>\n",
       "      <td>87951.958946</td>\n",
       "      <td>88286.564626</td>\n",
       "      <td>88312.500000</td>\n",
       "      <td>...</td>\n",
       "      <td>75.762987</td>\n",
       "      <td>0.046743</td>\n",
       "      <td>-1.758376e+06</td>\n",
       "      <td>62590.020169</td>\n",
       "      <td>-2982145.0</td>\n",
       "      <td>131.692583</td>\n",
       "      <td>110.0</td>\n",
       "      <td>1</td>\n",
       "      <td>HOLD</td>\n",
       "      <td>2</td>\n",
       "    </tr>\n",
       "    <tr>\n",
       "      <th>109107</th>\n",
       "      <td>88535.0</td>\n",
       "      <td>88785.0</td>\n",
       "      <td>88535.0</td>\n",
       "      <td>88770.0</td>\n",
       "      <td>68349.0</td>\n",
       "      <td>88300.642228</td>\n",
       "      <td>88337.5</td>\n",
       "      <td>88041.984694</td>\n",
       "      <td>88348.251701</td>\n",
       "      <td>88369.666667</td>\n",
       "      <td>...</td>\n",
       "      <td>82.922522</td>\n",
       "      <td>0.056412</td>\n",
       "      <td>-1.698229e+06</td>\n",
       "      <td>77797.275527</td>\n",
       "      <td>-2913796.0</td>\n",
       "      <td>141.551534</td>\n",
       "      <td>250.0</td>\n",
       "      <td>1</td>\n",
       "      <td>SELL</td>\n",
       "      <td>1</td>\n",
       "    </tr>\n",
       "    <tr>\n",
       "      <th>109108</th>\n",
       "      <td>88765.0</td>\n",
       "      <td>88775.0</td>\n",
       "      <td>88635.0</td>\n",
       "      <td>88650.0</td>\n",
       "      <td>48386.0</td>\n",
       "      <td>88333.914397</td>\n",
       "      <td>88342.5</td>\n",
       "      <td>88160.867143</td>\n",
       "      <td>88435.601361</td>\n",
       "      <td>88429.833333</td>\n",
       "      <td>...</td>\n",
       "      <td>70.798644</td>\n",
       "      <td>0.058395</td>\n",
       "      <td>-1.736246e+06</td>\n",
       "      <td>65086.779952</td>\n",
       "      <td>-2962182.0</td>\n",
       "      <td>141.422240</td>\n",
       "      <td>140.0</td>\n",
       "      <td>1</td>\n",
       "      <td>HOLD</td>\n",
       "      <td>2</td>\n",
       "    </tr>\n",
       "    <tr>\n",
       "      <th>109109</th>\n",
       "      <td>88650.0</td>\n",
       "      <td>88650.0</td>\n",
       "      <td>88525.0</td>\n",
       "      <td>88640.0</td>\n",
       "      <td>52134.0</td>\n",
       "      <td>88363.065406</td>\n",
       "      <td>88342.5</td>\n",
       "      <td>88260.728400</td>\n",
       "      <td>88505.481088</td>\n",
       "      <td>88487.000000</td>\n",
       "      <td>...</td>\n",
       "      <td>69.852994</td>\n",
       "      <td>0.055000</td>\n",
       "      <td>-1.692454e+06</td>\n",
       "      <td>69861.550289</td>\n",
       "      <td>-3014316.0</td>\n",
       "      <td>140.053720</td>\n",
       "      <td>125.0</td>\n",
       "      <td>1</td>\n",
       "      <td>HOLD</td>\n",
       "      <td>2</td>\n",
       "    </tr>\n",
       "    <tr>\n",
       "      <th>109110</th>\n",
       "      <td>88640.0</td>\n",
       "      <td>88680.0</td>\n",
       "      <td>88535.0</td>\n",
       "      <td>88580.0</td>\n",
       "      <td>47093.0</td>\n",
       "      <td>88383.725844</td>\n",
       "      <td>88342.5</td>\n",
       "      <td>88344.611856</td>\n",
       "      <td>88525.000000</td>\n",
       "      <td>88536.000000</td>\n",
       "      <td>...</td>\n",
       "      <td>64.141458</td>\n",
       "      <td>0.046342</td>\n",
       "      <td>-1.710317e+06</td>\n",
       "      <td>60324.381616</td>\n",
       "      <td>-3061409.0</td>\n",
       "      <td>140.465910</td>\n",
       "      <td>145.0</td>\n",
       "      <td>1</td>\n",
       "      <td>BUY</td>\n",
       "      <td>0</td>\n",
       "    </tr>\n",
       "    <tr>\n",
       "      <th>109111</th>\n",
       "      <td>88580.0</td>\n",
       "      <td>88695.0</td>\n",
       "      <td>88540.0</td>\n",
       "      <td>88630.0</td>\n",
       "      <td>41739.0</td>\n",
       "      <td>88407.180525</td>\n",
       "      <td>88387.5</td>\n",
       "      <td>88415.073959</td>\n",
       "      <td>88525.000000</td>\n",
       "      <td>88578.166667</td>\n",
       "      <td>...</td>\n",
       "      <td>66.665184</td>\n",
       "      <td>0.038749</td>\n",
       "      <td>-1.703585e+06</td>\n",
       "      <td>53979.429783</td>\n",
       "      <td>-3019670.0</td>\n",
       "      <td>141.677084</td>\n",
       "      <td>155.0</td>\n",
       "      <td>1</td>\n",
       "      <td>HOLD</td>\n",
       "      <td>2</td>\n",
       "    </tr>\n",
       "    <tr>\n",
       "      <th>109112</th>\n",
       "      <td>88630.0</td>\n",
       "      <td>88715.0</td>\n",
       "      <td>88615.0</td>\n",
       "      <td>88695.0</td>\n",
       "      <td>33581.0</td>\n",
       "      <td>88434.591904</td>\n",
       "      <td>88387.5</td>\n",
       "      <td>88474.262126</td>\n",
       "      <td>88535.000000</td>\n",
       "      <td>88611.333333</td>\n",
       "      <td>...</td>\n",
       "      <td>69.741287</td>\n",
       "      <td>0.034725</td>\n",
       "      <td>-1.683436e+06</td>\n",
       "      <td>54117.278639</td>\n",
       "      <td>-2986089.0</td>\n",
       "      <td>138.203994</td>\n",
       "      <td>100.0</td>\n",
       "      <td>1</td>\n",
       "      <td>HOLD</td>\n",
       "      <td>2</td>\n",
       "    </tr>\n",
       "    <tr>\n",
       "      <th>109113</th>\n",
       "      <td>88695.0</td>\n",
       "      <td>88815.0</td>\n",
       "      <td>88655.0</td>\n",
       "      <td>88750.0</td>\n",
       "      <td>49212.0</td>\n",
       "      <td>88464.630770</td>\n",
       "      <td>88435.0</td>\n",
       "      <td>88523.980185</td>\n",
       "      <td>88540.000000</td>\n",
       "      <td>88632.833333</td>\n",
       "      <td>...</td>\n",
       "      <td>72.156899</td>\n",
       "      <td>0.033814</td>\n",
       "      <td>-1.674209e+06</td>\n",
       "      <td>53206.779799</td>\n",
       "      <td>-2936877.0</td>\n",
       "      <td>140.020328</td>\n",
       "      <td>160.0</td>\n",
       "      <td>1</td>\n",
       "      <td>HOLD</td>\n",
       "      <td>2</td>\n",
       "    </tr>\n",
       "    <tr>\n",
       "      <th>109114</th>\n",
       "      <td>88750.0</td>\n",
       "      <td>88790.0</td>\n",
       "      <td>88685.0</td>\n",
       "      <td>88775.0</td>\n",
       "      <td>31582.0</td>\n",
       "      <td>88494.189745</td>\n",
       "      <td>88437.5</td>\n",
       "      <td>88576.363752</td>\n",
       "      <td>88595.000000</td>\n",
       "      <td>88649.333333</td>\n",
       "      <td>...</td>\n",
       "      <td>73.236002</td>\n",
       "      <td>0.033852</td>\n",
       "      <td>-1.651650e+06</td>\n",
       "      <td>56537.475799</td>\n",
       "      <td>-2905295.0</td>\n",
       "      <td>137.101967</td>\n",
       "      <td>105.0</td>\n",
       "      <td>1</td>\n",
       "      <td>BUY</td>\n",
       "      <td>0</td>\n",
       "    </tr>\n",
       "    <tr>\n",
       "      <th>109115</th>\n",
       "      <td>88775.0</td>\n",
       "      <td>88865.0</td>\n",
       "      <td>88730.0</td>\n",
       "      <td>88730.0</td>\n",
       "      <td>43119.0</td>\n",
       "      <td>88516.647864</td>\n",
       "      <td>88437.5</td>\n",
       "      <td>88619.318277</td>\n",
       "      <td>88639.000000</td>\n",
       "      <td>88665.000000</td>\n",
       "      <td>...</td>\n",
       "      <td>67.967622</td>\n",
       "      <td>0.031023</td>\n",
       "      <td>-1.694769e+06</td>\n",
       "      <td>38671.772123</td>\n",
       "      <td>-2948414.0</td>\n",
       "      <td>136.926803</td>\n",
       "      <td>135.0</td>\n",
       "      <td>1</td>\n",
       "      <td>BUY</td>\n",
       "      <td>0</td>\n",
       "    </tr>\n",
       "    <tr>\n",
       "      <th>109116</th>\n",
       "      <td>88730.0</td>\n",
       "      <td>88855.0</td>\n",
       "      <td>88715.0</td>\n",
       "      <td>88800.0</td>\n",
       "      <td>44873.0</td>\n",
       "      <td>88543.633782</td>\n",
       "      <td>88450.0</td>\n",
       "      <td>88668.454621</td>\n",
       "      <td>88684.200000</td>\n",
       "      <td>88684.000000</td>\n",
       "      <td>...</td>\n",
       "      <td>71.509949</td>\n",
       "      <td>0.029854</td>\n",
       "      <td>-1.685154e+06</td>\n",
       "      <td>31466.945239</td>\n",
       "      <td>-2903541.0</td>\n",
       "      <td>137.182903</td>\n",
       "      <td>140.0</td>\n",
       "      <td>2</td>\n",
       "      <td>BUY</td>\n",
       "      <td>0</td>\n",
       "    </tr>\n",
       "    <tr>\n",
       "      <th>109117</th>\n",
       "      <td>88800.0</td>\n",
       "      <td>88960.0</td>\n",
       "      <td>88780.0</td>\n",
       "      <td>88930.0</td>\n",
       "      <td>54899.0</td>\n",
       "      <td>88580.430564</td>\n",
       "      <td>88515.0</td>\n",
       "      <td>88707.763697</td>\n",
       "      <td>88715.000000</td>\n",
       "      <td>88707.833333</td>\n",
       "      <td>...</td>\n",
       "      <td>76.803279</td>\n",
       "      <td>0.033805</td>\n",
       "      <td>-1.648554e+06</td>\n",
       "      <td>38667.215001</td>\n",
       "      <td>-2848642.0</td>\n",
       "      <td>140.750994</td>\n",
       "      <td>180.0</td>\n",
       "      <td>2</td>\n",
       "      <td>BUY</td>\n",
       "      <td>0</td>\n",
       "    </tr>\n",
       "    <tr>\n",
       "      <th>109118</th>\n",
       "      <td>88935.0</td>\n",
       "      <td>89095.0</td>\n",
       "      <td>88870.0</td>\n",
       "      <td>89060.0</td>\n",
       "      <td>60906.0</td>\n",
       "      <td>88626.103844</td>\n",
       "      <td>88605.0</td>\n",
       "      <td>88715.000000</td>\n",
       "      <td>88715.000000</td>\n",
       "      <td>88744.500000</td>\n",
       "      <td>...</td>\n",
       "      <td>80.772581</td>\n",
       "      <td>0.042419</td>\n",
       "      <td>-1.606597e+06</td>\n",
       "      <td>53262.820284</td>\n",
       "      <td>-2787736.0</td>\n",
       "      <td>147.771745</td>\n",
       "      <td>225.0</td>\n",
       "      <td>2</td>\n",
       "      <td>BUY</td>\n",
       "      <td>0</td>\n",
       "    </tr>\n",
       "  </tbody>\n",
       "</table>\n",
       "<p>20 rows × 28 columns</p>\n",
       "</div>"
      ],
      "text/plain": [
       "           OPEN     HIGH      LOW    CLOSE      VOL        EMA_20  \\\n",
       "109099  88095.0  88185.0  88035.0  88150.0  28664.0  88085.210740   \n",
       "109100  88155.0  88235.0  88135.0  88215.0  43829.0  88097.571622   \n",
       "109101  88210.0  88370.0  88210.0  88345.0  53064.0  88121.136230   \n",
       "109102  88350.0  88365.0  88260.0  88320.0  35294.0  88140.075636   \n",
       "109103  88320.0  88415.0  88315.0  88365.0  38681.0  88161.497004   \n",
       "109104  88365.0  88490.0  88340.0  88465.0  48422.0  88190.402052   \n",
       "109105  88465.0  88535.0  88425.0  88510.0  48057.0  88220.839951   \n",
       "109106  88510.0  88595.0  88485.0  88540.0  41115.0  88251.236147   \n",
       "109107  88535.0  88785.0  88535.0  88770.0  68349.0  88300.642228   \n",
       "109108  88765.0  88775.0  88635.0  88650.0  48386.0  88333.914397   \n",
       "109109  88650.0  88650.0  88525.0  88640.0  52134.0  88363.065406   \n",
       "109110  88640.0  88680.0  88535.0  88580.0  47093.0  88383.725844   \n",
       "109111  88580.0  88695.0  88540.0  88630.0  41739.0  88407.180525   \n",
       "109112  88630.0  88715.0  88615.0  88695.0  33581.0  88434.591904   \n",
       "109113  88695.0  88815.0  88655.0  88750.0  49212.0  88464.630770   \n",
       "109114  88750.0  88790.0  88685.0  88775.0  31582.0  88494.189745   \n",
       "109115  88775.0  88865.0  88730.0  88730.0  43119.0  88516.647864   \n",
       "109116  88730.0  88855.0  88715.0  88800.0  44873.0  88543.633782   \n",
       "109117  88800.0  88960.0  88780.0  88930.0  54899.0  88580.430564   \n",
       "109118  88935.0  89095.0  88870.0  89060.0  60906.0  88626.103844   \n",
       "\n",
       "        MIDPOINT_20         SAR_2         SAR_6      TRIMA_10  ...     RSI_10  \\\n",
       "109099      87940.0  87633.908059  88202.700000  88093.000000  ...  55.860658   \n",
       "109100      88025.0  87645.529898  88010.000000  88114.166667  ...  60.451853   \n",
       "109101      88097.5  87669.108702  88023.500000  88136.333333  ...  67.876979   \n",
       "109102      88097.5  87711.162180  88065.080000  88156.833333  ...  65.258965   \n",
       "109103      88130.0  87750.692449  88101.670400  88184.500000  ...  67.746963   \n",
       "109104      88180.0  87803.837053  88158.069728  88219.500000  ...  72.593257   \n",
       "109105      88202.5  87872.453348  88224.455782  88264.166667  ...  74.508420   \n",
       "109106      88217.5  87951.958946  88286.564626  88312.500000  ...  75.762987   \n",
       "109107      88337.5  88041.984694  88348.251701  88369.666667  ...  82.922522   \n",
       "109108      88342.5  88160.867143  88435.601361  88429.833333  ...  70.798644   \n",
       "109109      88342.5  88260.728400  88505.481088  88487.000000  ...  69.852994   \n",
       "109110      88342.5  88344.611856  88525.000000  88536.000000  ...  64.141458   \n",
       "109111      88387.5  88415.073959  88525.000000  88578.166667  ...  66.665184   \n",
       "109112      88387.5  88474.262126  88535.000000  88611.333333  ...  69.741287   \n",
       "109113      88435.0  88523.980185  88540.000000  88632.833333  ...  72.156899   \n",
       "109114      88437.5  88576.363752  88595.000000  88649.333333  ...  73.236002   \n",
       "109115      88437.5  88619.318277  88639.000000  88665.000000  ...  67.967622   \n",
       "109116      88450.0  88668.454621  88684.200000  88684.000000  ...  71.509949   \n",
       "109117      88515.0  88707.763697  88715.000000  88707.833333  ...  76.803279   \n",
       "109118      88605.0  88715.000000  88715.000000  88744.500000  ...  80.772581   \n",
       "\n",
       "          TRIX_5            AD         ADOSC        OBV      ATR_12  TRANGE  \\\n",
       "109099  0.018326 -1.884691e+06  28633.191133 -3220019.0  142.408421   150.0   \n",
       "109100  0.019631 -1.858394e+06  36933.665650 -3176190.0  138.874386   100.0   \n",
       "109101  0.026144 -1.821912e+06  50232.565203 -3123126.0  140.634854   160.0   \n",
       "109102  0.030487 -1.816870e+06  53740.286921 -3158420.0  137.665283   105.0   \n",
       "109103  0.033820 -1.816870e+06  51090.454808 -3119739.0  134.526509   100.0   \n",
       "109104  0.038934 -1.784589e+06  57213.644698 -3071317.0  135.815967   150.0   \n",
       "109105  0.043691 -1.758376e+06  64476.874745 -3023260.0  133.664636   110.0   \n",
       "109106  0.046743 -1.758376e+06  62590.020169 -2982145.0  131.692583   110.0   \n",
       "109107  0.056412 -1.698229e+06  77797.275527 -2913796.0  141.551534   250.0   \n",
       "109108  0.058395 -1.736246e+06  65086.779952 -2962182.0  141.422240   140.0   \n",
       "109109  0.055000 -1.692454e+06  69861.550289 -3014316.0  140.053720   125.0   \n",
       "109110  0.046342 -1.710317e+06  60324.381616 -3061409.0  140.465910   145.0   \n",
       "109111  0.038749 -1.703585e+06  53979.429783 -3019670.0  141.677084   155.0   \n",
       "109112  0.034725 -1.683436e+06  54117.278639 -2986089.0  138.203994   100.0   \n",
       "109113  0.033814 -1.674209e+06  53206.779799 -2936877.0  140.020328   160.0   \n",
       "109114  0.033852 -1.651650e+06  56537.475799 -2905295.0  137.101967   105.0   \n",
       "109115  0.031023 -1.694769e+06  38671.772123 -2948414.0  136.926803   135.0   \n",
       "109116  0.029854 -1.685154e+06  31466.945239 -2903541.0  137.182903   140.0   \n",
       "109117  0.033805 -1.648554e+06  38667.215001 -2848642.0  140.750994   180.0   \n",
       "109118  0.042419 -1.606597e+06  53262.820284 -2787736.0  147.771745   225.0   \n",
       "\n",
       "        HORA_NOBRE  TARGET_WIN_CAT3  TARGET_WIN_CAT3_LABEL  \n",
       "109099           1              BUY                      0  \n",
       "109100           1              BUY                      0  \n",
       "109101           1             HOLD                      2  \n",
       "109102           1              BUY                      0  \n",
       "109103           1              BUY                      0  \n",
       "109104           1              BUY                      0  \n",
       "109105           1             HOLD                      2  \n",
       "109106           1             HOLD                      2  \n",
       "109107           1             SELL                      1  \n",
       "109108           1             HOLD                      2  \n",
       "109109           1             HOLD                      2  \n",
       "109110           1              BUY                      0  \n",
       "109111           1             HOLD                      2  \n",
       "109112           1             HOLD                      2  \n",
       "109113           1             HOLD                      2  \n",
       "109114           1              BUY                      0  \n",
       "109115           1              BUY                      0  \n",
       "109116           2              BUY                      0  \n",
       "109117           2              BUY                      0  \n",
       "109118           2              BUY                      0  \n",
       "\n",
       "[20 rows x 28 columns]"
      ]
     },
     "execution_count": 9,
     "metadata": {},
     "output_type": "execute_result"
    }
   ],
   "source": [
    "df_test.iloc[19:200].head(20)"
   ]
  },
  {
   "cell_type": "code",
   "execution_count": 10,
   "metadata": {},
   "outputs": [
    {
     "data": {
      "text/plain": [
       "2    67605\n",
       "1     7661\n",
       "0     7404\n",
       "Name: TARGET_WIN_CAT3_LABEL, dtype: int64"
      ]
     },
     "execution_count": 10,
     "metadata": {},
     "output_type": "execute_result"
    }
   ],
   "source": [
    "df_train['TARGET_WIN_CAT3_LABEL'].value_counts()"
   ]
  },
  {
   "cell_type": "code",
   "execution_count": 11,
   "metadata": {},
   "outputs": [
    {
     "data": {
      "text/plain": [
       "7404"
      ]
     },
     "execution_count": 11,
     "metadata": {},
     "output_type": "execute_result"
    }
   ],
   "source": [
    "df_train['TARGET_WIN_CAT3_LABEL'].value_counts()[0]"
   ]
  },
  {
   "cell_type": "code",
   "execution_count": 12,
   "metadata": {
    "scrolled": true
   },
   "outputs": [
    {
     "name": "stdout",
     "output_type": "stream",
     "text": [
      "\n",
      "Dados Categóricos de Treino -- BUY: 7404 | SELL: 7661 | HOLD: 67605\n",
      "\n",
      "Dados Categóricos de Validação -- BUY: 4212 | SELL: 4272 | HOLD: 17926\n",
      "\n",
      "Dados Categóricos de Teste -- BUY: 4933 | SELL: 4677 | HOLD: 21192\n"
     ]
    }
   ],
   "source": [
    "hold_train = df_train['TARGET_WIN_CAT3_LABEL'].value_counts()[2]\n",
    "hold_valid = df_valid['TARGET_WIN_CAT3_LABEL'].value_counts()[2]\n",
    "hold_test = df_test['TARGET_WIN_CAT3_LABEL'].value_counts()[2]\n",
    "\n",
    "print('\\nDados Categóricos de Treino -- BUY: %d | SELL: %d | HOLD: %d' % (df_train['TARGET_WIN_CAT3_LABEL'].value_counts()[0], df_train['TARGET_WIN_CAT3_LABEL'].value_counts()[1], hold_train))\n",
    "print('\\nDados Categóricos de Validação -- BUY: %d | SELL: %d | HOLD: %d' % (df_valid['TARGET_WIN_CAT3_LABEL'].value_counts()[0], df_valid['TARGET_WIN_CAT3_LABEL'].value_counts()[1], hold_valid))\n",
    "print('\\nDados Categóricos de Teste -- BUY: %d | SELL: %d | HOLD: %d' % (df_test['TARGET_WIN_CAT3_LABEL'].value_counts()[0], df_test['TARGET_WIN_CAT3_LABEL'].value_counts()[1], hold_test))\n"
   ]
  },
  {
   "cell_type": "code",
   "execution_count": 13,
   "metadata": {},
   "outputs": [
    {
     "name": "stdout",
     "output_type": "stream",
     "text": [
      "\n",
      "Dados Categóricos de Treino Hora Nobre -- BUY: 2815 | SELL: 2591 | HOLD: 17513\n",
      "\n",
      "Dados Categóricos de Validação Hora Nobre -- BUY: 1433 | SELL: 1372 | HOLD: 4515\n",
      "\n",
      "Dados Categóricos de Teste Hora Nobre -- BUY: 1746 | SELL: 1704 | HOLD: 5070\n"
     ]
    }
   ],
   "source": [
    "buy_train = df_train.groupby(['HORA_NOBRE'])['TARGET_WIN_CAT3_LABEL'].value_counts()[4]\n",
    "sell_train = df_train.groupby(['HORA_NOBRE'])['TARGET_WIN_CAT3_LABEL'].value_counts()[5]\n",
    "hold_train = df_train.groupby(['HORA_NOBRE'])['TARGET_WIN_CAT3_LABEL'].value_counts()[3]\n",
    "\n",
    "buy_valid = df_valid.groupby(['HORA_NOBRE'])['TARGET_WIN_CAT3_LABEL'].value_counts()[4]\n",
    "sell_valid = df_valid.groupby(['HORA_NOBRE'])['TARGET_WIN_CAT3_LABEL'].value_counts()[5]\n",
    "hold_valid = df_valid.groupby(['HORA_NOBRE'])['TARGET_WIN_CAT3_LABEL'].value_counts()[3]\n",
    "\n",
    "buy_test = df_test.groupby(['HORA_NOBRE'])['TARGET_WIN_CAT3_LABEL'].value_counts()[4]\n",
    "sell_test = df_test.groupby(['HORA_NOBRE'])['TARGET_WIN_CAT3_LABEL'].value_counts()[5]\n",
    "hold_test = df_test.groupby(['HORA_NOBRE'])['TARGET_WIN_CAT3_LABEL'].value_counts()[3]\n",
    "\n",
    "print('\\nDados Categóricos de Treino Hora Nobre -- BUY: %d | SELL: %d | HOLD: %d' % (buy_train, sell_train, hold_train))\n",
    "print('\\nDados Categóricos de Validação Hora Nobre -- BUY: %d | SELL: %d | HOLD: %d' % (buy_valid, sell_valid, hold_valid))\n",
    "print('\\nDados Categóricos de Teste Hora Nobre -- BUY: %d | SELL: %d | HOLD: %d' % (buy_test, sell_test, hold_test))\n"
   ]
  },
  {
   "cell_type": "code",
   "execution_count": 14,
   "metadata": {},
   "outputs": [
    {
     "data": {
      "text/plain": [
       "HORA_NOBRE  TARGET_WIN_CAT3_LABEL\n",
       "0           2                         3884\n",
       "            0                          357\n",
       "            1                          343\n",
       "1           2                        17513\n",
       "            1                         2815\n",
       "            0                         2591\n",
       "2           2                        46208\n",
       "            1                         4503\n",
       "            0                         4456\n",
       "Name: TARGET_WIN_CAT3_LABEL, dtype: int64"
      ]
     },
     "execution_count": 14,
     "metadata": {},
     "output_type": "execute_result"
    }
   ],
   "source": [
    "df_train.groupby(['HORA_NOBRE'])['TARGET_WIN_CAT3_LABEL'].value_counts()"
   ]
  },
  {
   "cell_type": "code",
   "execution_count": 15,
   "metadata": {},
   "outputs": [
    {
     "name": "stdout",
     "output_type": "stream",
     "text": [
      "17513\n",
      "2822\n",
      "14691\n"
     ]
    }
   ],
   "source": [
    "np.random.seed(2345)\n",
    "porcentagem_selecao_train = (buy_train / hold_train)\n",
    "amostra_train = np.random.choice( a=[0,1], size=hold_train, replace=True, \n",
    "                                   p=[1-porcentagem_selecao_train, porcentagem_selecao_train] )\n",
    "print(len(amostra_train))\n",
    "print(len(amostra_train[amostra_train == 1]))\n",
    "print(len(amostra_train[amostra_train == 0]))"
   ]
  },
  {
   "cell_type": "code",
   "execution_count": 16,
   "metadata": {},
   "outputs": [
    {
     "name": "stdout",
     "output_type": "stream",
     "text": [
      "4515\n",
      "1459\n",
      "3056\n"
     ]
    }
   ],
   "source": [
    "np.random.seed(2345)\n",
    "porcentagem_selecao_valid = (buy_valid / hold_valid)\n",
    "amostra_valid = np.random.choice( a=[0,1], size=hold_valid, replace=True, \n",
    "                                   p=[1-porcentagem_selecao_valid, porcentagem_selecao_valid] )\n",
    "print(len(amostra_valid))\n",
    "print(len(amostra_valid[amostra_valid == 1]))\n",
    "print(len(amostra_valid[amostra_valid == 0]))"
   ]
  },
  {
   "cell_type": "code",
   "execution_count": 17,
   "metadata": {},
   "outputs": [
    {
     "name": "stdout",
     "output_type": "stream",
     "text": [
      "5070\n",
      "1756\n",
      "3314\n"
     ]
    }
   ],
   "source": [
    "np.random.seed(2345)\n",
    "porcentagem_selecao_test = (buy_test / hold_test)\n",
    "amostra_test = np.random.choice( a=[0,1], size=hold_test, replace=True, \n",
    "                                   p=[1-porcentagem_selecao_test, porcentagem_selecao_test] )\n",
    "print(len(amostra_test))\n",
    "print(len(amostra_test[amostra_test == 1]))\n",
    "print(len(amostra_test[amostra_test == 0]))"
   ]
  },
  {
   "cell_type": "code",
   "execution_count": 18,
   "metadata": {},
   "outputs": [],
   "source": [
    "def normalize(data):\n",
    "\n",
    "        scaler_x = StandardScaler()\n",
    "        \n",
    "        x = data.iloc[:, :-3]\n",
    "        x = scaler_x.fit_transform(x) \n",
    "        \n",
    "        y = data.iloc[:,-1]\n",
    "        y_list = np.array(y.to_list())\n",
    "    \n",
    "        return x, y_list"
   ]
  },
  {
   "cell_type": "code",
   "execution_count": 19,
   "metadata": {},
   "outputs": [],
   "source": [
    "def get_train_valid_test_data(seq_len, df, amostragem):\n",
    "\n",
    "        a=0\n",
    "        for i in range(len(df) - seq_len):\n",
    "            if df['TARGET_WIN_CAT3'][i+seq_len-1] == 'HOLD':\n",
    "                if amostragem[a] == 0:\n",
    "                    df.drop((i+seq_len-1), axis=0, inplace=True) \n",
    "                a+=1\n",
    "                    \n",
    "        x, y = normalize(df)\n",
    "            \n",
    "        return x, y"
   ]
  },
  {
   "cell_type": "code",
   "execution_count": 20,
   "metadata": {},
   "outputs": [],
   "source": [
    "df_train_reset_index = df_train[df_train['HORA_NOBRE'] == '1'].reset_index(drop=True)\n",
    "x_train, y_train = get_train_valid_test_data(seq_len=1, \n",
    "                                             df=df_train_reset_index, \n",
    "                                             amostragem=amostra_train)"
   ]
  },
  {
   "cell_type": "code",
   "execution_count": 21,
   "metadata": {},
   "outputs": [],
   "source": [
    "df_valid_reset_index = df_valid[df_valid['HORA_NOBRE'] == '1'].reset_index(drop=True)\n",
    "x_valid, y_valid = get_train_valid_test_data(seq_len=1, \n",
    "                                             df=df_valid_reset_index, \n",
    "                                             amostragem=amostra_valid)"
   ]
  },
  {
   "cell_type": "code",
   "execution_count": 22,
   "metadata": {},
   "outputs": [],
   "source": [
    "df_test_reset_index = df_test[df_test['HORA_NOBRE'] == '1'].reset_index(drop=True)\n",
    "x_test, y_test = get_train_valid_test_data(seq_len=1, \n",
    "                                             df=df_test_reset_index, \n",
    "                                             amostragem=amostra_test)"
   ]
  },
  {
   "cell_type": "code",
   "execution_count": 23,
   "metadata": {
    "scrolled": true
   },
   "outputs": [
    {
     "data": {
      "text/plain": [
       "8229"
      ]
     },
     "execution_count": 23,
     "metadata": {},
     "output_type": "execute_result"
    }
   ],
   "source": [
    "len(x_train)"
   ]
  },
  {
   "cell_type": "code",
   "execution_count": 24,
   "metadata": {},
   "outputs": [
    {
     "data": {
      "text/plain": [
       "8229"
      ]
     },
     "execution_count": 24,
     "metadata": {},
     "output_type": "execute_result"
    }
   ],
   "source": [
    "len(y_train)"
   ]
  },
  {
   "cell_type": "code",
   "execution_count": 25,
   "metadata": {},
   "outputs": [
    {
     "data": {
      "text/plain": [
       "(8229, 25)"
      ]
     },
     "execution_count": 25,
     "metadata": {},
     "output_type": "execute_result"
    }
   ],
   "source": [
    "x_train.shape"
   ]
  },
  {
   "cell_type": "code",
   "execution_count": 26,
   "metadata": {},
   "outputs": [
    {
     "data": {
      "text/plain": [
       "array([[-0.28873757, -0.28765066, -0.28850159, ...,  0.39913984,\n",
       "         0.60110201,  0.09220034],\n",
       "       [-0.29087974, -0.29514882, -0.29385723, ...,  0.37791728,\n",
       "         0.74337889, -0.15469734],\n",
       "       [-0.29141529, -0.29782673, -0.2927861 , ...,  0.37048554,\n",
       "         0.48085258, -0.58676828],\n",
       "       ...,\n",
       "       [ 2.0821111 ,  2.07748246,  2.08779684, ..., -2.21631101,\n",
       "        -1.55054737, -1.20401248],\n",
       "       [ 2.07889785,  2.0731978 ,  2.08083451, ..., -2.28001347,\n",
       "        -1.63070549, -0.89539038],\n",
       "       [ 2.0821111 ,  2.07694688,  2.08726128, ..., -2.2611211 ,\n",
       "        -1.73996546, -1.20401248]])"
      ]
     },
     "execution_count": 26,
     "metadata": {},
     "output_type": "execute_result"
    }
   ],
   "source": [
    "x_train"
   ]
  },
  {
   "cell_type": "code",
   "execution_count": 27,
   "metadata": {},
   "outputs": [
    {
     "data": {
      "text/plain": [
       "array([2, 2, 2, ..., 2, 2, 2])"
      ]
     },
     "execution_count": 27,
     "metadata": {},
     "output_type": "execute_result"
    }
   ],
   "source": [
    "y_train"
   ]
  },
  {
   "cell_type": "markdown",
   "metadata": {},
   "source": [
    "# Modelos"
   ]
  },
  {
   "cell_type": "code",
   "execution_count": 28,
   "metadata": {},
   "outputs": [],
   "source": [
    "import lightgbm as lgbm\n",
    "import seaborn as sns\n",
    "\n",
    "from sklearn.ensemble import RandomForestClassifier \n",
    "from sklearn.metrics import accuracy_score, confusion_matrix, classification_report"
   ]
  },
  {
   "cell_type": "markdown",
   "metadata": {},
   "source": [
    "## LightGBM"
   ]
  },
  {
   "cell_type": "code",
   "execution_count": 29,
   "metadata": {},
   "outputs": [
    {
     "name": "stdout",
     "output_type": "stream",
     "text": [
      "Accuracy Score - LightGBM:  0.39542922988285\n"
     ]
    }
   ],
   "source": [
    "model_lgbm = lgbm.LGBMClassifier(n_jobs=-1, random_state=0, n_estimators=10000, learning_rate=0.001, num_leaves=2**6,\n",
    "                                subsample=0.9, subsample_freq=1, colsample_bytree=1.)\n",
    "\n",
    "model_lgbm.fit(x_train, y_train)\n",
    "predict_lgbm = model_lgbm.predict(x_test)\n",
    "\n",
    "print('Accuracy Score - LightGBM: ', accuracy_score(y_test, predict_lgbm))"
   ]
  },
  {
   "cell_type": "code",
   "execution_count": 30,
   "metadata": {},
   "outputs": [
    {
     "name": "stdout",
     "output_type": "stream",
     "text": [
      "              precision    recall  f1-score   support\n",
      "\n",
      "           0       0.37      0.42      0.39      1746\n",
      "           1       0.38      0.32      0.34      1704\n",
      "           2       0.43      0.45      0.44      1757\n",
      "\n",
      "    accuracy                           0.40      5207\n",
      "   macro avg       0.39      0.39      0.39      5207\n",
      "weighted avg       0.39      0.40      0.39      5207\n",
      "\n"
     ]
    }
   ],
   "source": [
    "print(classification_report(y_test, predict_lgbm))"
   ]
  },
  {
   "cell_type": "code",
   "execution_count": 31,
   "metadata": {},
   "outputs": [
    {
     "data": {
      "text/plain": [
       "array([[725, 481, 540],\n",
       "       [651, 537, 516],\n",
       "       [563, 397, 797]], dtype=int64)"
      ]
     },
     "execution_count": 31,
     "metadata": {},
     "output_type": "execute_result"
    }
   ],
   "source": [
    "from sklearn.metrics import confusion_matrix\n",
    "confusion_matrix = confusion_matrix(y_test, predict_lgbm)\n",
    "confusion_matrix"
   ]
  },
  {
   "cell_type": "code",
   "execution_count": 32,
   "metadata": {},
   "outputs": [
    {
     "data": {
      "text/plain": [
       "5207"
      ]
     },
     "execution_count": 32,
     "metadata": {},
     "output_type": "execute_result"
    }
   ],
   "source": [
    "len(y_test)"
   ]
  },
  {
   "cell_type": "code",
   "execution_count": 33,
   "metadata": {},
   "outputs": [
    {
     "data": {
      "text/plain": [
       "<AxesSubplot:>"
      ]
     },
     "execution_count": 33,
     "metadata": {},
     "output_type": "execute_result"
    },
    {
     "data": {
      "image/png": "[encoded data removed]",
      "text/plain": [
       "<Figure size 432x288 with 2 Axes>"
      ]
     },
     "metadata": {
      "needs_background": "light"
     },
     "output_type": "display_data"
    }
   ],
   "source": [
    "# visualize confusion matrix with seaborn heatmap\n",
    "cm_matrix = pd.DataFrame(data=confusion_matrix,\n",
    "                        columns=['HOLD_R', 'SELL_R', 'BUY_R'], \n",
    "                        index=['HOLD_P', 'SELL_P', 'BUY_P'])\n",
    "\n",
    "sns.heatmap(cm_matrix, annot=True, fmt='d', cmap='YlGnBu')"
   ]
  },
  {
   "cell_type": "markdown",
   "metadata": {},
   "source": [
    "### Compare train and test set accuracy"
   ]
  },
  {
   "cell_type": "code",
   "execution_count": 34,
   "metadata": {},
   "outputs": [
    {
     "name": "stdout",
     "output_type": "stream",
     "text": [
      "Training-set accuracy score: 0.9812\n"
     ]
    }
   ],
   "source": [
    "y_pred_train = model_lgbm.predict(x_train)\n",
    "print('Training-set accuracy score: {0:0.4f}'. format(accuracy_score(y_train, y_pred_train)))"
   ]
  },
  {
   "cell_type": "markdown",
   "metadata": {},
   "source": [
    "### Check for Overfitting"
   ]
  },
  {
   "cell_type": "code",
   "execution_count": 35,
   "metadata": {},
   "outputs": [
    {
     "name": "stdout",
     "output_type": "stream",
     "text": [
      "Training set score: 0.9812\n",
      "Test set score: 0.3954\n"
     ]
    }
   ],
   "source": [
    "# print the scores on training and test set\n",
    "\n",
    "print('Training set score: {:.4f}'.format(model_lgbm.score(x_train, y_train)))\n",
    "\n",
    "print('Test set score: {:.4f}'.format(model_lgbm.score(x_test, y_test)))"
   ]
  },
  {
   "cell_type": "code",
   "execution_count": 36,
   "metadata": {},
   "outputs": [
    {
     "name": "stdout",
     "output_type": "stream",
     "text": [
      "Validation set score: 0.3937\n"
     ]
    }
   ],
   "source": [
    "print('Validation set score: {:.4f}'.format(model_lgbm.score(x_valid, y_valid)))"
   ]
  },
  {
   "cell_type": "markdown",
   "metadata": {},
   "source": [
    "## Random Forest"
   ]
  },
  {
   "cell_type": "code",
   "execution_count": 37,
   "metadata": {},
   "outputs": [
    {
     "name": "stdout",
     "output_type": "stream",
     "text": [
      "Accuracy Score - Random Forest:  0.40195890147877855\n"
     ]
    }
   ],
   "source": [
    "model_randomF = RandomForestClassifier(n_jobs=-1, random_state=0, n_estimators=15000)\n",
    "model_randomF.fit(x_train, y_train)\n",
    "predict_randomF = model_randomF.predict(x_test)\n",
    "\n",
    "print('Accuracy Score - Random Forest: ', accuracy_score(y_test, predict_randomF))"
   ]
  },
  {
   "cell_type": "code",
   "execution_count": 38,
   "metadata": {
    "scrolled": true
   },
   "outputs": [
    {
     "name": "stdout",
     "output_type": "stream",
     "text": [
      "              precision    recall  f1-score   support\n",
      "\n",
      "           0       0.37      0.34      0.36      1746\n",
      "           1       0.39      0.36      0.37      1704\n",
      "           2       0.43      0.50      0.47      1757\n",
      "\n",
      "    accuracy                           0.40      5207\n",
      "   macro avg       0.40      0.40      0.40      5207\n",
      "weighted avg       0.40      0.40      0.40      5207\n",
      "\n"
     ]
    }
   ],
   "source": [
    "print(classification_report(y_test, predict_randomF))"
   ]
  },
  {
   "cell_type": "code",
   "execution_count": 39,
   "metadata": {},
   "outputs": [
    {
     "data": {
      "text/plain": [
       "array([[599, 541, 606],\n",
       "       [540, 607, 557],\n",
       "       [480, 390, 887]], dtype=int64)"
      ]
     },
     "execution_count": 39,
     "metadata": {},
     "output_type": "execute_result"
    }
   ],
   "source": [
    "from sklearn.metrics import confusion_matrix\n",
    "confusion_matrix = confusion_matrix(y_test, predict_randomF)\n",
    "confusion_matrix"
   ]
  },
  {
   "cell_type": "code",
   "execution_count": 40,
   "metadata": {},
   "outputs": [
    {
     "name": "stdout",
     "output_type": "stream",
     "text": [
      "Confusion matrix\n",
      "\n",
      " [[599 541 606]\n",
      " [540 607 557]\n",
      " [480 390 887]]\n",
      "\n",
      "True Positives(TP) =  599\n",
      "\n",
      "True Negatives(TN) =  607\n",
      "\n",
      "False Positives(FP) =  541\n",
      "\n",
      "False Negatives(FN) =  540\n"
     ]
    }
   ],
   "source": [
    "print('Confusion matrix\\n\\n', confusion_matrix)\n",
    "print('\\nTrue Positives(TP) = ', confusion_matrix[0,0])\n",
    "print('\\nTrue Negatives(TN) = ', confusion_matrix[1,1])\n",
    "print('\\nFalse Positives(FP) = ', confusion_matrix[0,1])\n",
    "print('\\nFalse Negatives(FN) = ', confusion_matrix[1,0])"
   ]
  },
  {
   "cell_type": "code",
   "execution_count": null,
   "metadata": {},
   "outputs": [],
   "source": []
  },
  {
   "cell_type": "code",
   "execution_count": 41,
   "metadata": {},
   "outputs": [
    {
     "data": {
      "text/plain": [
       "<AxesSubplot:>"
      ]
     },
     "execution_count": 41,
     "metadata": {},
     "output_type": "execute_result"
    },
    {
     "data": {
      "image/png": "[encoded data removed]",
      "text/plain": [
       "<Figure size 432x288 with 2 Axes>"
      ]
     },
     "metadata": {
      "needs_background": "light"
     },
     "output_type": "display_data"
    }
   ],
   "source": [
    "# visualize confusion matrix with seaborn heatmap\n",
    "cm_matrix = pd.DataFrame(data=confusion_matrix,\n",
    "                        columns=['HOLD_R', 'SELL_R', 'BUY_R'], \n",
    "                        index=['HOLD_P', 'SELL_P', 'BUY_P'])\n",
    "\n",
    "sns.heatmap(cm_matrix, annot=True, fmt='d', cmap='YlGnBu')"
   ]
  },
  {
   "cell_type": "markdown",
   "metadata": {},
   "source": [
    "### Compare train and test set accuracy"
   ]
  },
  {
   "cell_type": "code",
   "execution_count": 42,
   "metadata": {},
   "outputs": [
    {
     "name": "stdout",
     "output_type": "stream",
     "text": [
      "Training-set accuracy score: 1.0000\n"
     ]
    }
   ],
   "source": [
    "y_pred_train = model_randomF.predict(x_train)\n",
    "print('Training-set accuracy score: {0:0.4f}'. format(accuracy_score(y_train, y_pred_train)))"
   ]
  },
  {
   "cell_type": "markdown",
   "metadata": {},
   "source": [
    "### Check for Overfitting"
   ]
  },
  {
   "cell_type": "code",
   "execution_count": 43,
   "metadata": {},
   "outputs": [
    {
     "name": "stdout",
     "output_type": "stream",
     "text": [
      "Training set score: 1.0000\n",
      "Test set score: 0.4020\n"
     ]
    }
   ],
   "source": [
    "# print the scores on training and test set\n",
    "\n",
    "print('Training set score: {:.4f}'.format(model_randomF.score(x_train, y_train)))\n",
    "\n",
    "print('Test set score: {:.4f}'.format(model_randomF.score(x_test, y_test)))"
   ]
  },
  {
   "cell_type": "code",
   "execution_count": 44,
   "metadata": {},
   "outputs": [
    {
     "name": "stdout",
     "output_type": "stream",
     "text": [
      "Validation set score: 0.3855\n"
     ]
    }
   ],
   "source": [
    "print('Validation set score: {:.4f}'.format(model_randomF.score(x_valid, y_valid)))"
   ]
  },
  {
   "cell_type": "markdown",
   "metadata": {},
   "source": [
    "# Deep Learning"
   ]
  },
  {
   "cell_type": "code",
   "execution_count": 197,
   "metadata": {},
   "outputs": [
    {
     "name": "stdout",
     "output_type": "stream",
     "text": [
      "[[0. 0. 1.]\n",
      " [1. 0. 0.]\n",
      " [0. 1. 0.]\n",
      " [0. 0. 1.]\n",
      " [0. 0. 1.]\n",
      " [0. 0. 1.]\n",
      " [0. 0. 1.]\n",
      " [1. 0. 0.]\n",
      " [0. 0. 1.]\n",
      " [0. 1. 0.]]\n",
      "[2 0 1 2 2 2 2 0 2 1]\n"
     ]
    }
   ],
   "source": [
    "# Encoding categorical data\n",
    "from keras.utils import to_categorical\n",
    "from sklearn.preprocessing import LabelEncoder\n",
    "labelencoder_Y_1 = LabelEncoder()\n",
    "yy = labelencoder_Y_1.fit_transform(y_train)\n",
    "y_train2 = to_categorical(yy)\n",
    "\n",
    "labelencoder_Y_1 = LabelEncoder()\n",
    "yy = labelencoder_Y_1.fit_transform(y_test)\n",
    "y_test2 = to_categorical(yy)\n",
    "\n",
    "labelencoder_Y_1 = LabelEncoder()\n",
    "yy = labelencoder_Y_1.fit_transform(y_valid)\n",
    "y_valid2 = to_categorical(yy)\n",
    "\n",
    "print(y_valid2[10:20])\n",
    "print(y_valid[10:20])\n",
    "\n",
    "# BUY | SELL | HOLD"
   ]
  },
  {
   "cell_type": "code",
   "execution_count": 210,
   "metadata": {
    "scrolled": true
   },
   "outputs": [
    {
     "name": "stdout",
     "output_type": "stream",
     "text": [
      "[Model] Model Compiled\n",
      "Model: \"sequential_25\"\n",
      "_________________________________________________________________\n",
      "Layer (type)                 Output Shape              Param #   \n",
      "=================================================================\n",
      "dense_59 (Dense)             (None, 100)               2600      \n",
      "_________________________________________________________________\n",
      "dropout_8 (Dropout)          (None, 100)               0         \n",
      "_________________________________________________________________\n",
      "dense_60 (Dense)             (None, 75)                7575      \n",
      "_________________________________________________________________\n",
      "dropout_9 (Dropout)          (None, 75)                0         \n",
      "_________________________________________________________________\n",
      "dense_61 (Dense)             (None, 50)                3800      \n",
      "_________________________________________________________________\n",
      "dropout_10 (Dropout)         (None, 50)                0         \n",
      "_________________________________________________________________\n",
      "dense_62 (Dense)             (None, 25)                1275      \n",
      "_________________________________________________________________\n",
      "dropout_11 (Dropout)         (None, 25)                0         \n",
      "_________________________________________________________________\n",
      "dense_63 (Dense)             (None, 3)                 78        \n",
      "=================================================================\n",
      "Total params: 15,328\n",
      "Trainable params: 15,328\n",
      "Non-trainable params: 0\n",
      "_________________________________________________________________\n",
      "None\n",
      "Time taken: 0:00:00.309148\n"
     ]
    }
   ],
   "source": [
    "# example of training a final classification model\n",
    "from keras.models import Sequential, load_model\n",
    "from core.utils import Timer\n",
    "from keras.layers import Dense, Dropout, LSTM, GRU\n",
    "from keras.callbacks import EarlyStopping, ModelCheckpoint\n",
    "from keras.optimizers import SGD, Adam\n",
    "dim = x_train.shape[1]\n",
    "\n",
    "# define and fit the final model\n",
    "timer = Timer()\n",
    "timer.start()\n",
    "\n",
    "model = Sequential()\n",
    "\n",
    "model.add(Dense(100, input_dim=dim, activation='relu'))\n",
    "model.add(Dropout(0.2))\n",
    "model.add(Dense(75, activation='relu'))\n",
    "model.add(Dropout(0.4))\n",
    "model.add(Dense(50, activation='relu'))\n",
    "model.add(Dropout(0.5))\n",
    "model.add(Dense(25, activation='relu'))\n",
    "model.add(Dropout(0.2))\n",
    "model.add(Dense(3, activation='softmax'))\n",
    "\n",
    "model.compile(loss='categorical_crossentropy', optimizer='adam', metrics=['accuracy'])\n",
    "\n",
    "print('[Model] Model Compiled')\n",
    "print(model.summary())\n",
    "timer.stop()\n"
   ]
  },
  {
   "cell_type": "code",
   "execution_count": 211,
   "metadata": {
    "scrolled": true
   },
   "outputs": [
    {
     "name": "stdout",
     "output_type": "stream",
     "text": [
      "[Model] Training Started\n",
      "Train on 8229 samples, validate on 4265 samples\n",
      "Epoch 1/100\n",
      "8229/8229 [==============================] - 11s 1ms/step - loss: 1.1148 - accuracy: 0.3401 - val_loss: 1.0947 - val_accuracy: 0.3651 2s - loss: 1.1181  - ETA: 2s - - ETA: 0s - loss: 1.1160 - accuracy: 0. - ETA: 0s - loss: 1.1158 - accuracy - ETA: 0s - loss: 1.1154 - accuracy:  - ETA: 0s - loss: 1.1153 - ac\n",
      "Epoch 2/100\n",
      "8229/8229 [==============================] - 8s 1ms/step - loss: 1.0948 - accuracy: 0.3624 - val_loss: 1.0878 - val_accuracy: 0.40070s - loss: 1.0950 - accu\n",
      "Epoch 3/100\n",
      "8229/8229 [==============================] - 8s 986us/step - loss: 1.0904 - accuracy: 0.3830 - val_loss: 1.0818 - val_accuracy: 0.3991\n",
      "Epoch 4/100\n",
      "8229/8229 [==============================] - 9s 1ms/step - loss: 1.0847 - accuracy: 0.3878 - val_loss: 1.0779 - val_accuracy: 0.4070\n",
      "Epoch 5/100\n",
      "8229/8229 [==============================] - 9s 1ms/step - loss: 1.0801 - accuracy: 0.3913 - val_loss: 1.0778 - val_accuracy: 0.4009\n",
      "Epoch 6/100\n",
      "8229/8229 [==============================] - 9s 1ms/step - loss: 1.0791 - accuracy: 0.3956 - val_loss: 1.0781 - val_accuracy: 0.3958.0777 - ac - ETA: 4s - loss: 1.0778 - ac - ETA: 4s - loss: 1.0764 - accuracy - ETA: 4s - loss: 1 - ETA: 3s - loss: 1.0 - ETA: 2s - l - ETA: 0s - loss: 1.0784 -  - ETA: 0s - loss: 1.0791 - accuracy: \n",
      "Epoch 7/100\n",
      "8229/8229 [==============================] - 9s 1ms/step - loss: 1.0748 - accuracy: 0.4027 - val_loss: 1.0771 - val_accuracy: 0.3988\n",
      "Epoch 8/100\n",
      "8229/8229 [==============================] - 9s 1ms/step - loss: 1.0736 - accuracy: 0.4030 - val_loss: 1.0762 - val_accuracy: 0.3955cy:  - ETA: 3s - loss: 1.0755 - accuracy - ETA: 2s - los - ETA: 2s - loss: 1.0748 - ac - E - ETA: 0s - loss: 1.0735 \n",
      "Epoch 9/100\n",
      "8229/8229 [==============================] - 9s 1ms/step - loss: 1.0746 - accuracy: 0.4009 - val_loss: 1.0785 - val_accuracy: 0.3995TA: 0s - loss: 1.0747 - accuracy\n",
      "Epoch 10/100\n",
      "8229/8229 [==============================] - 9s 1ms/step - loss: 1.0737 - accuracy: 0.4022 - val_loss: 1.0789 - val_accuracy: 0.4016\n",
      "Epoch 11/100\n",
      "8229/8229 [==============================] - 9s 1ms/step - loss: 1.0730 - accuracy: 0.4066 - val_loss: 1.0810 - val_accuracy: 0.3988\n",
      "Epoch 12/100\n",
      "8229/8229 [==============================] - 9s 1ms/step - loss: 1.0694 - accuracy: 0.4015 - val_loss: 1.0824 - val_accuracy: 0.3897: 3s - loss: 1.0727 - accuracy: 0. - E - ETA: 1s - loss: 1.0708 - accuracy - ETA: 1s\n",
      "Epoch 13/100\n",
      "8229/8229 [==============================] - 9s 1ms/step - loss: 1.0666 - accuracy: 0.4103 - val_loss: 1.0793 - val_accuracy: 0.3986\n",
      "Epoch 14/100\n",
      "8229/8229 [==============================] - 8s 1ms/step - loss: 1.0698 - accuracy: 0.4099 - val_loss: 1.0799 - val_accuracy: 0.3977\n",
      "Epoch 15/100\n",
      "8229/8229 [==============================] - 9s 1ms/step - loss: 1.0688 - accuracy: 0.4066 - val_loss: 1.0802 - val_accuracy: 0.3991\n",
      "Epoch 16/100\n",
      "8229/8229 [==============================] - 9s 1ms/step - loss: 1.0667 - accuracy: 0.4073 - val_loss: 1.0829 - val_accuracy: 0.4007\n",
      "Epoch 17/100\n",
      "8229/8229 [==============================] - 9s 1ms/step - loss: 1.0645 - accuracy: 0.4109 - val_loss: 1.0830 - val_accuracy: 0.3991\n",
      "Epoch 18/100\n",
      "8229/8229 [==============================] - 10s 1ms/step - loss: 1.0641 - accuracy: 0.4146 - val_loss: 1.0794 - val_accuracy: 0.4033066 - ETA: 7s\n",
      "Epoch 19/100\n",
      "8229/8229 [==============================] - 9s 1ms/step - loss: 1.0633 - accuracy: 0.4148 - val_loss: 1.0798 - val_accuracy: 0.3998\n",
      "Epoch 20/100\n",
      "8229/8229 [==============================] - 8s 1ms/step - loss: 1.0621 - accuracy: 0.4177 - val_loss: 1.0839 - val_accuracy: 0.4000\n",
      "Epoch 21/100\n",
      "8229/8229 [==============================] - 11s 1ms/step - loss: 1.0635 - accuracy: 0.4116 - val_loss: 1.0814 - val_accuracy: 0.4002c - ETA: 4s - loss: 1.0586 - accuracy: 0.41 - ETA: 4s - loss: 1.0589 - accura - ETA: 4s - loss: 1.0600 - accuracy: 0. - ETA - ETA: 4s - loss: 1.0612 - accuracy - ETA: 2s - ETA: 0s - loss: 1.0634 - accuracy:  - ETA: 0s - loss: 1.0635 \n",
      "Epoch 22/100\n",
      "8229/8229 [==============================] - 10s 1ms/step - loss: 1.0613 - accuracy: 0.4169 - val_loss: 1.0863 - val_accuracy: 0.4038- loss:\n",
      "Epoch 23/100\n",
      "8229/8229 [==============================] - 9s 1ms/step - loss: 1.0598 - accuracy: 0.4227 - val_loss: 1.0861 - val_accuracy: 0.3958\n",
      "Epoch 24/100\n",
      "8229/8229 [==============================] - 9s 1ms/step - loss: 1.0625 - accuracy: 0.4158 - val_loss: 1.0830 - val_accuracy: 0.3998\n",
      "Epoch 25/100\n",
      "8229/8229 [==============================] - 9s 1ms/step - loss: 1.0603 - accuracy: 0.4133 - val_loss: 1.0827 - val_accuracy: 0.4049616 - accuracy - ETA: 3s - loss: 1.0613 - ac - ETA: 2s - loss: 1.0592  -\n",
      "Epoch 26/100\n",
      "8229/8229 [==============================] - 9s 1ms/step - loss: 1.0571 - accuracy: 0.4231 - val_loss: 1.0848 - val_accuracy: 0.3988: 5s - loss: 1.0646 -  - ETA: 5s - loss: 1.0655 - accura\n",
      "Epoch 27/100\n",
      "8229/8229 [==============================] - 9s 1ms/step - loss: 1.0582 - accuracy: 0.4228 - val_loss: 1.0838 - val_accuracy: 0.4045\n",
      "Epoch 28/100\n",
      "8229/8229 [==============================] - 9s 1ms/step - loss: 1.0563 - accuracy: 0.4214 - val_loss: 1.0837 - val_accuracy: 0.4054TA: 5s - los - ETA: 0s - loss: 1.0559 - accuracy: 0.42 - ETA: 0s - loss: 1\n",
      "Epoch 29/100\n",
      "8229/8229 [==============================] - 9s 1ms/step - loss: 1.0580 - accuracy: 0.4173 - val_loss: 1.0834 - val_accuracy: 0.3951\n",
      "Epoch 30/100\n",
      "8229/8229 [==============================] - 9s 1ms/step - loss: 1.0564 - accuracy: 0.4201 - val_loss: 1.0877 - val_accuracy: 0.3951s: 1.0572 - accuracy - ETA: 6s - loss: 1.0555 - accu - ETA: 6s - loss: 1.0595 - accuracy:  - ETA: 6s - loss: 1.0592 - accura - ETA: 6s - loss: 1 - ETA: 2s - loss: 1.0551 -  - ETA - ETA: 1s - loss: 1.0571 - accura - ETA: \n",
      "Epoch 31/100\n",
      "8229/8229 [==============================] - 10s 1ms/step - loss: 1.0538 - accuracy: 0.4211 - val_loss: 1.0890 - val_accuracy: 0.3944ETA: 4s - loss: 1.0532 - accura - ETA: 0s - los\n",
      "Epoch 32/100\n",
      "8229/8229 [==============================] - 10s 1ms/step - loss: 1.0547 - accuracy: 0.4237 - val_loss: 1.0877 - val_accuracy: 0.3906\n",
      "Epoch 33/100\n",
      "8229/8229 [==============================] - 9s 1ms/step - loss: 1.0543 - accuracy: 0.4325 - val_loss: 1.0877 - val_accuracy: 0.3977\n",
      "Epoch 34/100\n",
      "8229/8229 [==============================] - 9s 1ms/step - loss: 1.0540 - accuracy: 0.4288 - val_loss: 1.0837 - val_accuracy: 0.3930 ETA: 7s - loss: 1.0502 - ac - ETA: 6s - loss: 1.0519 -  - ETA: 0s - loss: 1.0536 - accuracy: 0.42 - ETA: 0s - loss: 1.0540 - accuracy: 0.42 - ETA: 0s - loss: 1.054\n",
      "Epoch 35/100\n",
      "8229/8229 [==============================] - 9s 1ms/step - loss: 1.0481 - accuracy: 0.4235 - val_loss: 1.0853 - val_accuracy: 0.3972\n",
      "Epoch 36/100\n",
      "8229/8229 [==============================] - 9s 1ms/step - loss: 1.0505 - accuracy: 0.4297 - val_loss: 1.0879 - val_accuracy: 0.3986\n",
      "Epoch 37/100\n",
      "8229/8229 [==============================] - 10s 1ms/step - loss: 1.0460 - accuracy: 0.4333 - val_loss: 1.0923 - val_accuracy: 0.3998 8s -\n",
      "Epoch 38/100\n",
      "8229/8229 [==============================] - 9s 1ms/step - loss: 1.0438 - accuracy: 0.4359 - val_loss: 1.0908 - val_accuracy: 0.4021: 0.\n",
      "Epoch 39/100\n",
      "8229/8229 [==============================] - 9s 1ms/step - loss: 1.0449 - accuracy: 0.4388 - val_loss: 1.0887 - val_accuracy: 0.3951 - loss: 1 - ETA: 0s - loss: 1.0449 - accuracy: 0. - ETA: 0s - loss: 1.0447 - accuracy - ETA: 0s - loss: 1.044 - ETA: 0s - loss: 1.0454 - accuracy: \n",
      "Epoch 40/100\n",
      "8229/8229 [==============================] - 10s 1ms/step - loss: 1.0481 - accuracy: 0.4295 - val_loss: 1.0866 - val_accuracy: 0.4014- ETA: 5s - loss: 1 - ETA: 2s - l - ETA: 1s -\n",
      "Epoch 41/100\n",
      "8229/8229 [==============================] - 10s 1ms/step - loss: 1.0442 - accuracy: 0.4410 - val_loss: 1.0876 - val_accuracy: 0.4016 - accuracy:  - E - ETA: 0s - loss: 1.0441 - accura\n",
      "Epoch 42/100\n"
     ]
    },
    {
     "name": "stdout",
     "output_type": "stream",
     "text": [
      "8229/8229 [==============================] - 9s 1ms/step - loss: 1.0452 - accuracy: 0.4420 - val_loss: 1.0923 - val_accuracy: 0.4007 5s - loss: 1.0527 - accuracy: 0.42 - ETA: 5s - loss: - ETA: 4s - loss: 1.0452 -  - ETA: 3s - loss: 1.0490 - accuracy:  - ETA: 3s - loss: 1.0491 - ac - ETA: 3s - loss: 1.0488 -  - ETA: 3s - loss: 1.0495 - accuracy: 0. - ETA: 3s - loss: 1 - ETA: 2s - loss: 1\n",
      "Epoch 43/100\n",
      "8229/8229 [==============================] - 9s 1ms/step - loss: 1.0431 - accuracy: 0.4331 - val_loss: 1.0915 - val_accuracy: 0.3958oss: 1.0200 - accu - ETA: 8s - loss: 1.0 - ETA: 7s - loss: 1 - ETA: 7s - loss: 1.0298 - accuracy: 0.45 - ETA: 7s - loss: 1.0292 - \n",
      "Epoch 44/100\n",
      "8229/8229 [==============================] - 8s 933us/step - loss: 1.0399 - accuracy: 0.4315 - val_loss: 1.0943 - val_accuracy: 0.3948\n",
      "Epoch 45/100\n",
      "8229/8229 [==============================] - 8s 934us/step - loss: 1.0438 - accuracy: 0.4371 - val_loss: 1.0894 - val_accuracy: 0.3894\n",
      "Epoch 46/100\n",
      "8229/8229 [==============================] - 8s 944us/step - loss: 1.0398 - accuracy: 0.4377 - val_loss: 1.0997 - val_accuracy: 0.3965.0409 - accuracy:  - ETA: 3s - loss: 1.0393 - ac - ETA: 2s - loss: 1.0402 - accuracy:  - ETA: 2s - - ETA: 0s - l\n",
      "Epoch 47/100\n",
      "8229/8229 [==============================] - 8s 942us/step - loss: 1.0431 - accuracy: 0.4417 - val_loss: 1.0933 - val_accuracy: 0.4040 1.0435 - accu\n",
      "Epoch 48/100\n",
      "8229/8229 [==============================] - 8s 914us/step - loss: 1.0373 - accuracy: 0.4478 - val_loss: 1.0955 - val_accuracy: 0.3911\n",
      "Epoch 49/100\n",
      "8229/8229 [==============================] - 7s 902us/step - loss: 1.0386 - accuracy: 0.4421 - val_loss: 1.0935 - val_accuracy: 0.3977\n",
      "Epoch 50/100\n",
      "8229/8229 [==============================] - 8s 947us/step - loss: 1.0386 - accuracy: 0.4415 - val_loss: 1.0981 - val_accuracy: 0.3918accu - ETA:  - - ETA: 3s - - ETA: 1s - loss: 1.0390 - accuracy:  - ETA: 1s - loss: 1.0387 - accuracy - ETA: 0s\n",
      "Epoch 51/100\n",
      "8229/8229 [==============================] - 8s 956us/step - loss: 1.0372 - accuracy: 0.4454 - val_loss: 1.0968 - val_accuracy: 0.3974- accuracy: 0.44\n",
      "Epoch 52/100\n",
      "8229/8229 [==============================] - 12s 1ms/step - loss: 1.0336 - accuracy: 0.4454 - val_loss: 1.1113 - val_accuracy: 0.3955 4s - los - ETA: 2s - loss: - ETA: 1s - loss: 1.0376 - accuracy: 0.44 - ETA: 1s - loss: 1.0378 - accuracy: 0. - ETA: 1s - loss: 1.038 - ETA: 0s - loss: 1.0325 - accuracy\n",
      "Epoch 53/100\n",
      "8229/8229 [==============================] - 10s 1ms/step - loss: 1.0341 - accuracy: 0.4432 - val_loss: 1.0975 - val_accuracy: 0.3979\n",
      "Epoch 54/100\n",
      "8229/8229 [==============================] - 8s 915us/step - loss: 1.0305 - accuracy: 0.4478 - val_loss: 1.1013 - val_accuracy: 0.3974 loss: 1.0304 - accura - ETA: 0s - loss: 1.0319 - accuracy: 0.44 - ETA: 0s - loss: 1.0319 -  - ETA: 0s - loss: 1.0307 - accuracy: 0.\n",
      "Epoch 55/100\n",
      "8229/8229 [==============================] - 8s 949us/step - loss: 1.0354 - accuracy: 0.4434 - val_loss: 1.1024 - val_accuracy: 0.3995\n",
      "Epoch 56/100\n",
      "8229/8229 [==============================] - 7s 891us/step - loss: 1.0291 - accuracy: 0.4518 - val_loss: 1.1010 - val_accuracy: 0.3937\n",
      "Epoch 57/100\n",
      "8229/8229 [==============================] - 8s 932us/step - loss: 1.0273 - accuracy: 0.4512 - val_loss: 1.1014 - val_accuracy: 0.3920\n",
      "Epoch 58/100\n",
      "8229/8229 [==============================] - 8s 956us/step - loss: 1.0318 - accuracy: 0.4436 - val_loss: 1.1047 - val_accuracy: 0.3925.0315 - accura\n",
      "Epoch 59/100\n",
      "8229/8229 [==============================] - 8s 965us/step - loss: 1.0307 - accuracy: 0.4476 - val_loss: 1.1048 - val_accuracy: 0.3906 loss: 1.0252 - accuracy: 0.44 - ETA: 6s - loss: 1.0255 -  - ETA: 5s - ETA: 1s - loss: 1.0311 - accuracy:  - ETA: 1s - loss: 1.0314 - accuracy:  - ETA: 0s - los\n",
      "Epoch 60/100\n",
      "8229/8229 [==============================] - 8s 939us/step - loss: 1.0264 - accuracy: 0.4574 - val_loss: 1.0995 - val_accuracy: 0.3960- accuracy:  - ETA: 1s - los - ETA: 0s - loss: 1.0264 - accuracy:  - ETA: 0s - loss: 1.0264 - accuracy: \n",
      "Epoch 61/100\n",
      "8229/8229 [==============================] - 8s 912us/step - loss: 1.0267 - accuracy: 0.4484 - val_loss: 1.0983 - val_accuracy: 0.3953s: 1.0251 - accuracy: 0. - ETA: 1s - loss: 1.0254 - ac\n",
      "Epoch 62/100\n",
      "8229/8229 [==============================] - 8s 965us/step - loss: 1.0269 - accuracy: 0.4549 - val_loss: 1.1040 - val_accuracy: 0.3993cu\n",
      "Epoch 63/100\n",
      "8229/8229 [==============================] - 8s 916us/step - loss: 1.0278 - accuracy: 0.4581 - val_loss: 1.1044 - val_accuracy: 0.3944oss: 1.0306 - accuracy - ETA: 0s - loss:\n",
      "Epoch 64/100\n",
      "8229/8229 [==============================] - 10s 1ms/step - loss: 1.0210 - accuracy: 0.4564 - val_loss: 1.1080 - val_accuracy: 0.4002uracy: 0.45 - ETA: 3s - los - ETA: 1s - loss: 1.0208 - accuracy: 0.45 - ETA: 1s - loss: 1.0206 - accuracy: 0. - ETA:  - ETA: 0s - loss: 1.0203 - accuracy\n",
      "Epoch 65/100\n",
      "8229/8229 [==============================] - 10s 1ms/step - loss: 1.0295 - accuracy: 0.4460 - val_loss: 1.1120 - val_accuracy: 0.3965\n",
      "Epoch 66/100\n",
      "8229/8229 [==============================] - 11s 1ms/step - loss: 1.0255 - accuracy: 0.4631 - val_loss: 1.1071 - val_accuracy: 0.3984ss: 1.0209 - accuracy: 0.46 - ETA: 3s - loss: 1.0216 -  - ETA: 1s - loss: 1.0271 - accuracy: 0. - ETA: 1s - loss: 1.0262 - accuracy:  - ETA: 0s - loss: 1.0266 - accuracy: 0.46 - ETA: 0s - loss:\n",
      "Epoch 67/100\n",
      "8229/8229 [==============================] - 9s 1ms/step - loss: 1.0210 - accuracy: 0.4601 - val_loss: 1.1143 - val_accuracy: 0.3894A: 3s - loss: 1 - ETA: 2s - loss: 1 - ETA: 2s - loss: 1.0 - ETA: 1s - loss: 1.0 - ETA: 1s - loss: 1.0195 - accuracy - ETA: 1s - loss: 1.0197 - accuracy: 0.46 - ETA: 1s - loss: 1.0195 - accuracy:  - ETA: 0s - loss: 1.0191 - accura - ETA: 0s - loss: 1.0\n",
      "Epoch 68/100\n",
      "8229/8229 [==============================] - 9s 1ms/step - loss: 1.0245 - accuracy: 0.4544 - val_loss: 1.1103 - val_accuracy: 0.3944\n",
      "Epoch 69/100\n",
      "8229/8229 [==============================] - 10s 1ms/step - loss: 1.0263 - accuracy: 0.4544 - val_loss: 1.1015 - val_accuracy: 0.39485 - ETA: 0s - loss: 1.0258 - accu\n",
      "Epoch 70/100\n",
      "8229/8229 [==============================] - 9s 1ms/step - loss: 1.0235 - accuracy: 0.4572 - val_loss: 1.1058 - val_accuracy: 0.3880\n",
      "Epoch 71/100\n",
      "8229/8229 [==============================] - 9s 1ms/step - loss: 1.0176 - accuracy: 0.4606 - val_loss: 1.1120 - val_accuracy: 0.3911\n",
      "Epoch 72/100\n",
      "8229/8229 [==============================] - 8s 1ms/step - loss: 1.0201 - accuracy: 0.4606 - val_loss: 1.1008 - val_accuracy: 0.3946\n",
      "Epoch 73/100\n",
      "8229/8229 [==============================] - 10s 1ms/step - loss: 1.0214 - accuracy: 0.4559 - val_loss: 1.1051 - val_accuracy: 0.3930- ETA: 3s - loss: 1.0199 - accuracy: 0. - ETA:  - ETA: 2s - - ETA: 1s - los - ETA: 0s - loss: 1.018\n",
      "Epoch 74/100\n",
      "8229/8229 [==============================] - 8s 921us/step - loss: 1.0114 - accuracy: 0.4736 - val_loss: 1.1153 - val_accuracy: 0.3855\n",
      "Epoch 75/100\n",
      "8229/8229 [==============================] - 8s 957us/step - loss: 1.0179 - accuracy: 0.4609 - val_loss: 1.1054 - val_accuracy: 0.3883 - los - ETA: 0s - loss: 1\n",
      "Epoch 76/100\n",
      "8229/8229 [==============================] - 10s 1ms/step - loss: 1.0143 - accuracy: 0.4655 - val_loss: 1.1094 - val_accuracy: 0.3864 3s - loss: 1.0126 - accuracy - ETA: 3s - loss: 1.0127 - accuracy: \n",
      "Epoch 77/100\n",
      "8229/8229 [==============================] - 9s 1ms/step - loss: 1.0188 - accuracy: 0.4606 - val_loss: 1.1016 - val_accuracy: 0.3920 - loss: 1.0004 - accu - ETA: 5s - loss: 1.0040 - accuracy: 0.47 - ETA: 5s - loss: - ETA: 4s - l - ETA: 3s - loss: 1\n",
      "Epoch 78/100\n",
      "8229/8229 [==============================] - 10s 1ms/step - loss: 1.0118 - accuracy: 0.4748 - val_loss: 1.1091 - val_accuracy: 0.3911: 1.0081 - ac - ETA: 1s - loss: 1.0 - ETA: 0s - loss: 1.0120 - ac - ETA: 0s - loss: 1.0116 - accuracy\n",
      "Epoch 79/100\n",
      "8229/8229 [==============================] - 9s 1ms/step - loss: 1.0089 - accuracy: 0.4731 - val_loss: 1.1161 - val_accuracy: 0.3871\n",
      "Epoch 80/100\n"
     ]
    },
    {
     "name": "stdout",
     "output_type": "stream",
     "text": [
      "8229/8229 [==============================] - 11s 1ms/step - loss: 1.0118 - accuracy: 0.4651 - val_loss: 1.1096 - val_accuracy: 0.3894ss: 1.0096 -  - ETA: 3s - loss: 1.0096 - accuracy:  - ETA:  - ETA: 2s - l - ETA: 0s - loss: 1.0118 - accuracy\n",
      "Epoch 81/100\n",
      "8229/8229 [==============================] - 9s 1ms/step - loss: 1.0075 - accuracy: 0.4700 - val_loss: 1.1234 - val_accuracy: 0.3892145 - accu - ETA: 4s - ETA: 0s - loss: 1.0090 - \n",
      "Epoch 82/100\n",
      "8229/8229 [==============================] - 10s 1ms/step - loss: 1.0110 - accuracy: 0.4749 - val_loss: 1.1088 - val_accuracy: 0.3890 5s - loss: 0.9964  - ETA: 3s - loss: 1.0039 - accura\n",
      "Epoch 83/100\n",
      "8229/8229 [==============================] - 9s 1ms/step - loss: 1.0089 - accuracy: 0.4598 - val_loss: 1.1203 - val_accuracy: 0.3873\n",
      "Epoch 84/100\n",
      "8229/8229 [==============================] - 6s 672us/step - loss: 1.0077 - accuracy: 0.4745 - val_loss: 1.1172 - val_accuracy: 0.3876\n",
      "Epoch 85/100\n",
      "8229/8229 [==============================] - 9s 1ms/step - loss: 1.0019 - accuracy: 0.4820 - val_loss: 1.1166 - val_accuracy: 0.3911\n",
      "Epoch 86/100\n",
      "8229/8229 [==============================] - 9s 1ms/step - loss: 1.0014 - accuracy: 0.4788 - val_loss: 1.1265 - val_accuracy: 0.3934- accuracy:  - ETA: 1s - los - ETA: 0s - loss: 1.0012 - \n",
      "Epoch 87/100\n",
      "8229/8229 [==============================] - 8s 999us/step - loss: 1.0080 - accuracy: 0.4736 - val_loss: 1.1202 - val_accuracy: 0.3810 - loss: 1.0017 - accuracy: 0.49 - ETA: 7s - l - ETA: 7s - loss: 1.0046  - ETA: 1s - loss: 1.0072 - accuracy: 0.47 - ETA: 1s\n",
      "Epoch 88/100\n",
      "8229/8229 [==============================] - 10s 1ms/step - loss: 0.9998 - accuracy: 0.4823 - val_loss: 1.1304 - val_accuracy: 0.3970ETA: 3s - loss: 1.0052 - accura - ETA: 2s - loss: 1.0020 \n",
      "Epoch 89/100\n",
      "8229/8229 [==============================] - 11s 1ms/step - loss: 1.0004 - accuracy: 0.4829 - val_loss: 1.1150 - val_accuracy: 0.3857 6s - loss: 1.0010 - accuracy: 0. - ETA: 7s - loss: 0.9961 - accuracy:  - ETA: 7s - loss: 0.9985 - ac - E - ETA: 6s - los - ETA:  - E - ETA: 2s - loss: 0.9995 - accura - ETA: 2s - loss: 0.9985 -  - ETA: 0s - loss: 0.9996 - accu\n",
      "Epoch 90/100\n",
      "8229/8229 [==============================] - 11s 1ms/step - loss: 1.0012 - accuracy: 0.4796 - val_loss: 1.1091 - val_accuracy: 0.3805acy - ETA: 4s - - ETA: 3s - l - ETA: 2s - loss: 0.9951 - accuracy: 0.48 - ETA: 2s - loss: 0.995 - ETA: 2s - loss: 0.9959 - accuracy: 0.48 - ETA: 2s - loss: 0.9963 - ac - ETA: 1s - loss: 0.9952 - accuracy: \n",
      "Epoch 91/100\n",
      "8229/8229 [==============================] - 10s 1ms/step - loss: 1.0002 - accuracy: 0.4807 - val_loss: 1.1126 - val_accuracy: 0.3880 8s - loss: 1.0278 - accuracy:  - ETA: 7s - - ETA: 9s - loss: 1.0085 - accuracy: 0.45 - ETA: 9s - loss: 1.0074 - accuracy: 0.45 - ETA: 10s - loss: 1.0086 - ac - ETA: 9s - ETA: 8s - loss: 0.9924 - accuracy: 0. - ETA: 8s - loss: - ETA: 6s - loss: 0.9897 - accuracy - ETA: 6s - loss: 0.9915 - accura - ETA: 4s - l - ETA: 2s - los\n",
      "Epoch 92/100\n",
      "8229/8229 [==============================] - 12s 1ms/step - loss: 1.0028 - accuracy: 0.4786 - val_loss: 1.1156 - val_accuracy: 0.3841 - accuracy:  - ETA: 0s - loss: 1.0026 - accuracy\n",
      "Epoch 93/100\n",
      "8229/8229 [==============================] - 14s 2ms/step - loss: 0.9974 - accuracy: 0.4839 - val_loss: 1.1290 - val_accuracy: 0.3829loss: 0.9 - ETA: 4s - loss: 0.9953 - accuracy\n",
      "Epoch 94/100\n",
      "8229/8229 [==============================] - 14s 2ms/step - loss: 0.9985 - accuracy: 0.4834 - val_loss: 1.1240 - val_accuracy: 0.38640s - loss: 0.9903 - accuracy: 0.492 - ETA: 10s - loss: 0.9907 - accu - ETA: 11s - loss: 0.9898 - accuracy: 0. - ETA: 1s - - ETA: 0s - loss: 0.9991 - accuracy: 0.\n",
      "Epoch 95/100\n",
      "8229/8229 [==============================] - 12s 1ms/step - loss: 0.9959 - accuracy: 0.4883 - val_loss: 1.1241 - val_accuracy: 0.3808.9949 \n",
      "Epoch 96/100\n",
      "8229/8229 [==============================] - 9s 1ms/step - loss: 0.9983 - accuracy: 0.4896 - val_loss: 1.1153 - val_accuracy: 0.3852 - ETA: 4s - loss: 0.9934 - accu - ETA: 4s - loss: 0.9928 - accura - ETA: 4s - loss: - ETA: 3s - loss: 0.9963 - accuracy - ETA: 3s - l - ETA: 2s - loss: 0.9959 - accuracy - ETA: 2s - loss: 0.9971 - accuracy:  - ETA: 2s - loss: 0.9980 - accuracy:  - ETA: 2s - loss: 0.9\n",
      "Epoch 97/100\n",
      "8229/8229 [==============================] - 9s 1ms/step - loss: 1.0029 - accuracy: 0.4838 - val_loss: 1.1223 - val_accuracy: 0.3819\n",
      "Epoch 98/100\n",
      "8229/8229 [==============================] - 6s 686us/step - loss: 0.9961 - accuracy: 0.4917 - val_loss: 1.1258 - val_accuracy: 0.3770\n",
      "Epoch 99/100\n",
      "8229/8229 [==============================] - 11s 1ms/step - loss: 1.0023 - accuracy: 0.4838 - val_loss: 1.1188 - val_accuracy: 0.3859A: 3s - loss: 1.0039 - accuracy: 0. - ETA: 3s - loss: 1.0024 - ac - ETA: 2s - loss: 1.0 - - ETA: 0s - loss: 1.001 - ETA: 0s - loss: 1.0\n",
      "Epoch 100/100\n",
      "8229/8229 [==============================] - 14s 2ms/step - loss: 0.9991 - accuracy: 0.4815 - val_loss: 1.1265 - val_accuracy: 0.3826ss: 0.9933 - - ETA: 8s - loss: 0.9972  - ETA: 7s - loss: 0.9983 - accuracy - ETA: 7s - loss: 1.0003 - accuracy: 0.47 - ETA: 7s - los - ETA: 4s - loss: 1.0024 -  - ETA: 3s - loss: 1.0011 - accuracy - ETA - ETA: \n",
      "[Model] Training Completed.\n",
      "Model saved as saved_models\\prototipo_ciclo1_multiclass_jupyter_7layers.h5\n",
      "Time taken: 0:15:29.816891\n"
     ]
    }
   ],
   "source": [
    "timer = Timer()\n",
    "timer.start()\n",
    "print('[Model] Training Started')\n",
    "\n",
    "save_dir=configs['model']['save_dir']\n",
    "my_model=configs['model']['model_name']\n",
    "save_fname = os.path.join(save_dir, '%s.h5' % my_model)\n",
    "\n",
    "batch_size=configs['training']['batch_size']\n",
    "\n",
    "callbacks = [ ModelCheckpoint(filepath=save_fname, monitor='loss', save_best_only=True)]\n",
    "\n",
    "H = model.fit( x_train, y_train2, validation_data=(x_valid, y_valid2), epochs=100, \n",
    "               callbacks=callbacks, workers=1 )\n",
    "\n",
    "model.save(save_fname)\n",
    "\n",
    "print('[Model] Training Completed.')\n",
    "print('Model saved as %s' % save_fname)\n",
    "\n",
    "timer.stop()\n"
   ]
  },
  {
   "cell_type": "code",
   "execution_count": 212,
   "metadata": {
    "scrolled": true
   },
   "outputs": [
    {
     "data": {
      "text/plain": [
       "array([[0.2363331 , 0.2266201 , 0.5370468 ],\n",
       "       [0.23501754, 0.23782358, 0.52715886],\n",
       "       [0.19938938, 0.3856911 , 0.41491947],\n",
       "       ...,\n",
       "       [0.33670357, 0.40564448, 0.25765198],\n",
       "       [0.35665476, 0.34376195, 0.2995833 ],\n",
       "       [0.3010731 , 0.44442138, 0.2545055 ]], dtype=float32)"
      ]
     },
     "execution_count": 212,
     "metadata": {},
     "output_type": "execute_result"
    }
   ],
   "source": [
    "# new instances where we do not know the answer\n",
    "y_pred = model.predict(x_test) \n",
    "y_pred"
   ]
  },
  {
   "cell_type": "code",
   "execution_count": 213,
   "metadata": {
    "scrolled": false
   },
   "outputs": [
    {
     "name": "stdout",
     "output_type": "stream",
     "text": [
      "dict_keys(['val_loss', 'val_accuracy', 'loss', 'accuracy'])\n"
     ]
    },
    {
     "data": {
      "image/png": "[encoded data removed]",
      "text/plain": [
       "<Figure size 432x288 with 1 Axes>"
      ]
     },
     "metadata": {
      "needs_background": "light"
     },
     "output_type": "display_data"
    },
    {
     "data": {
      "image/png": "[encoded data removed]",
      "text/plain": [
       "<Figure size 432x288 with 1 Axes>"
      ]
     },
     "metadata": {
      "needs_background": "light"
     },
     "output_type": "display_data"
    }
   ],
   "source": [
    "# list all data in history       \n",
    "print(H.history.keys())\n",
    "# summarize history for accuracy\n",
    "plt.plot(H.history['accuracy'])\n",
    "plt.plot(H.history['val_accuracy'])\n",
    "plt.title('model accuracy')\n",
    "plt.ylabel('accuracy')\n",
    "plt.xlabel('epoch')\n",
    "plt.legend(['accuracy', 'val_accuracy'], loc='upper left')\n",
    "fig_path = 'accuracy_history.png'\n",
    "plt.savefig(fig_path)     \n",
    "plt.show()\n",
    "\n",
    "# summarize history for loss\n",
    "plt.plot(H.history['loss'])\n",
    "plt.plot(H.history['val_loss'])\n",
    "plt.title('model loss')\n",
    "plt.ylabel('loss')\n",
    "plt.xlabel('epoch')\n",
    "plt.legend(['loss', 'val_loss'], loc='upper left')\n",
    "fig_path = 'loss_history.png'\n",
    "plt.savefig(fig_path) \n",
    "plt.show()"
   ]
  },
  {
   "cell_type": "code",
   "execution_count": 214,
   "metadata": {},
   "outputs": [],
   "source": [
    "# BUY | SELL | HOLD\n",
    "\n",
    "labels = ['BUY', 'SELL', 'HOLD'] \n",
    "\n",
    "pred = []\n",
    "for i in y_pred:\n",
    "    pred.append(np.argmax(i))\n",
    "pred_array = np.array(pred)       \n",
    "\n",
    "real = []\n",
    "for i in y_test2:\n",
    "    real.append(np.argmax(i))\n",
    "real_array = np.array(real)    "
   ]
  },
  {
   "cell_type": "code",
   "execution_count": 215,
   "metadata": {},
   "outputs": [
    {
     "name": "stdout",
     "output_type": "stream",
     "text": [
      "[[0.31971663 0.25658575 0.4236976 ]\n",
      " [0.3338744  0.2127491  0.4533765 ]\n",
      " [0.32118624 0.28809735 0.39071637]\n",
      " [0.31889853 0.33288422 0.34821725]\n",
      " [0.324888   0.48078144 0.19433053]\n",
      " [0.35204685 0.40898773 0.23896545]\n",
      " [0.3878112  0.37098977 0.24119906]\n",
      " [0.40860802 0.4149551  0.17643693]\n",
      " [0.3082205  0.35212842 0.33965108]\n",
      " [0.31958884 0.35896048 0.3214506 ]]\n",
      "[[1. 0. 0.]\n",
      " [1. 0. 0.]\n",
      " [1. 0. 0.]\n",
      " [0. 0. 1.]\n",
      " [0. 1. 0.]\n",
      " [0. 0. 1.]\n",
      " [1. 0. 0.]\n",
      " [0. 0. 1.]\n",
      " [1. 0. 0.]\n",
      " [1. 0. 0.]]\n"
     ]
    }
   ],
   "source": [
    "print(y_pred[10:20])\n",
    "print(y_test2[10:20])"
   ]
  },
  {
   "cell_type": "code",
   "execution_count": 216,
   "metadata": {},
   "outputs": [
    {
     "name": "stdout",
     "output_type": "stream",
     "text": [
      "[2 2 2 2 1 1 0 1 1 1]\n",
      "[0 0 0 2 1 2 0 2 0 0]\n"
     ]
    }
   ],
   "source": [
    "print(pred_array[10:20])\n",
    "print(real_array[10:20])"
   ]
  },
  {
   "cell_type": "code",
   "execution_count": 217,
   "metadata": {},
   "outputs": [
    {
     "name": "stdout",
     "output_type": "stream",
     "text": [
      "Accuracy Score - DL:  0.39158824659112734\n"
     ]
    }
   ],
   "source": [
    "print('Accuracy Score - DL: ', accuracy_score(real_array, pred_array))"
   ]
  },
  {
   "cell_type": "code",
   "execution_count": 218,
   "metadata": {},
   "outputs": [
    {
     "name": "stdout",
     "output_type": "stream",
     "text": [
      "              precision    recall  f1-score   support\n",
      "\n",
      "           0       0.38      0.29      0.33      1746\n",
      "           1       0.37      0.42      0.39      1704\n",
      "           2       0.42      0.47      0.44      1757\n",
      "\n",
      "    accuracy                           0.39      5207\n",
      "   macro avg       0.39      0.39      0.39      5207\n",
      "weighted avg       0.39      0.39      0.39      5207\n",
      "\n"
     ]
    }
   ],
   "source": [
    "print(classification_report(real_array, pred_array))"
   ]
  },
  {
   "cell_type": "code",
   "execution_count": 219,
   "metadata": {},
   "outputs": [
    {
     "data": {
      "text/plain": [
       "array([[499, 657, 590],\n",
       "       [445, 714, 545],\n",
       "       [370, 561, 826]], dtype=int64)"
      ]
     },
     "execution_count": 219,
     "metadata": {},
     "output_type": "execute_result"
    }
   ],
   "source": [
    "from sklearn.metrics import confusion_matrix\n",
    "confusion_matrix = confusion_matrix(real_array, pred_array)\n",
    "confusion_matrix"
   ]
  },
  {
   "cell_type": "code",
   "execution_count": 220,
   "metadata": {},
   "outputs": [
    {
     "data": {
      "text/plain": [
       "<AxesSubplot:>"
      ]
     },
     "execution_count": 220,
     "metadata": {},
     "output_type": "execute_result"
    },
    {
     "data": {
      "image/png": "[encoded data removed]",
      "text/plain": [
       "<Figure size 432x288 with 2 Axes>"
      ]
     },
     "metadata": {
      "needs_background": "light"
     },
     "output_type": "display_data"
    }
   ],
   "source": [
    "# visualize confusion matrix with seaborn heatmap\n",
    "cm_matrix = pd.DataFrame(data=confusion_matrix,\n",
    "                        columns=['BUY_R', 'SELL_R', 'HOLD_R'], \n",
    "                        index=['BUY_P', 'SELL_P', 'HOLD_P'])\n",
    "\n",
    "sns.heatmap(cm_matrix, annot=True, fmt='d', cmap='YlGnBu')"
   ]
  },
  {
   "cell_type": "markdown",
   "metadata": {},
   "source": [
    "### Compare train and test set accuracy"
   ]
  },
  {
   "cell_type": "code",
   "execution_count": 221,
   "metadata": {},
   "outputs": [
    {
     "name": "stdout",
     "output_type": "stream",
     "text": [
      "Training-set accuracy score: 0.5379\n"
     ]
    }
   ],
   "source": [
    "y_pred_train = model.predict(x_train)\n",
    "\n",
    "labels = ['BUY', 'SELL', 'HOLD'] \n",
    "\n",
    "pred = []\n",
    "for i in y_pred_train:\n",
    "    pred.append(np.argmax(i))\n",
    "pred_array = np.array(pred)       \n",
    "\n",
    "real = []\n",
    "for i in y_train2:\n",
    "    real.append(np.argmax(i))\n",
    "real_array = np.array(real)    \n",
    "\n",
    "print('Training-set accuracy score: {0:0.4f}'. format(accuracy_score(real_array, pred_array)))"
   ]
  },
  {
   "cell_type": "code",
   "execution_count": null,
   "metadata": {},
   "outputs": [],
   "source": []
  },
  {
   "cell_type": "code",
   "execution_count": null,
   "metadata": {},
   "outputs": [],
   "source": []
  },
  {
   "cell_type": "code",
   "execution_count": null,
   "metadata": {},
   "outputs": [],
   "source": []
  },
  {
   "cell_type": "code",
   "execution_count": null,
   "metadata": {},
   "outputs": [],
   "source": []
  },
  {
   "cell_type": "code",
   "execution_count": null,
   "metadata": {},
   "outputs": [],
   "source": []
  },
  {
   "cell_type": "code",
   "execution_count": null,
   "metadata": {},
   "outputs": [],
   "source": []
  },
  {
   "cell_type": "code",
   "execution_count": null,
   "metadata": {},
   "outputs": [],
   "source": []
  },
  {
   "cell_type": "code",
   "execution_count": null,
   "metadata": {},
   "outputs": [],
   "source": []
  },
  {
   "cell_type": "code",
   "execution_count": null,
   "metadata": {},
   "outputs": [],
   "source": []
  },
  {
   "cell_type": "code",
   "execution_count": null,
   "metadata": {},
   "outputs": [],
   "source": []
  },
  {
   "cell_type": "code",
   "execution_count": null,
   "metadata": {},
   "outputs": [],
   "source": []
  }
 ],
 "metadata": {
  "kernelspec": {
   "display_name": "Python 3",
   "language": "python",
   "name": "python3"
  },
  "language_info": {
   "codemirror_mode": {
    "name": "ipython",
    "version": 3
   },
   "file_extension": ".py",
   "mimetype": "text/x-python",
   "name": "python",
   "nbconvert_exporter": "python",
   "pygments_lexer": "ipython3",
   "version": "3.6.12"
  }
 },
 "nbformat": 4,
 "nbformat_minor": 4
}
