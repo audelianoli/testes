{
 "cells": [
  {
   "cell_type": "markdown",
   "metadata": {},
   "source": [
    "# Imports"
   ]
  },
  {
   "cell_type": "code",
   "execution_count": 51,
   "metadata": {},
   "outputs": [],
   "source": [
    "import os\n",
    "import json\n",
    "import math\n",
    "import matplotlib.pyplot as plt\n",
    "import numpy as np\n",
    "import pandas as pd\n",
    "import pickle\n",
    "\n",
    "from sklearn.preprocessing import MinMaxScaler, StandardScaler, RobustScaler, MaxAbsScaler, Normalizer, QuantileTransformer"
   ]
  },
  {
   "cell_type": "code",
   "execution_count": 52,
   "metadata": {},
   "outputs": [],
   "source": [
    "# Carregando as configurações do arquivo 'config_modelo.json'\n",
    "configs = json.load(open('config_modelo.json', 'r'))"
   ]
  },
  {
   "cell_type": "code",
   "execution_count": 53,
   "metadata": {},
   "outputs": [],
   "source": [
    "# Criar a pasta 'save_dir' caso não exista no diretório\n",
    "if not os.path.exists(configs['model']['save_dir']):\n",
    "            os.makedirs(configs['model']['save_dir'])"
   ]
  },
  {
   "cell_type": "code",
   "execution_count": 54,
   "metadata": {},
   "outputs": [
    {
     "name": "stdout",
     "output_type": "stream",
     "text": [
      "(139881, 71)\n"
     ]
    },
    {
     "data": {
      "text/html": [
       "<div>\n",
       "<style scoped>\n",
       "    .dataframe tbody tr th:only-of-type {\n",
       "        vertical-align: middle;\n",
       "    }\n",
       "\n",
       "    .dataframe tbody tr th {\n",
       "        vertical-align: top;\n",
       "    }\n",
       "\n",
       "    .dataframe thead th {\n",
       "        text-align: right;\n",
       "    }\n",
       "</style>\n",
       "<table border=\"1\" class=\"dataframe\">\n",
       "  <thead>\n",
       "    <tr style=\"text-align: right;\">\n",
       "      <th></th>\n",
       "      <th>DATETIME</th>\n",
       "      <th>DATE</th>\n",
       "      <th>TIME</th>\n",
       "      <th>OPEN</th>\n",
       "      <th>HIGH</th>\n",
       "      <th>LOW</th>\n",
       "      <th>CLOSE</th>\n",
       "      <th>VOL</th>\n",
       "      <th>EMA_5_CLOSE</th>\n",
       "      <th>EMA_10_CLOSE</th>\n",
       "      <th>...</th>\n",
       "      <th>MES</th>\n",
       "      <th>DIA_SEMANA</th>\n",
       "      <th>HORA_NOBRE</th>\n",
       "      <th>TARGET_WIN</th>\n",
       "      <th>TARGET_WIN_CAT3</th>\n",
       "      <th>TARGET_WIN_CAT3_LABEL</th>\n",
       "      <th>TARGET_WIN_CAT_ENC</th>\n",
       "      <th>HOLD</th>\n",
       "      <th>SELL</th>\n",
       "      <th>BUY</th>\n",
       "    </tr>\n",
       "  </thead>\n",
       "  <tbody>\n",
       "    <tr>\n",
       "      <th>0</th>\n",
       "      <td>2014-11-19 12:30:00</td>\n",
       "      <td>2014.11.19</td>\n",
       "      <td>12:30:00</td>\n",
       "      <td>53560.0</td>\n",
       "      <td>53565.0</td>\n",
       "      <td>53405.0</td>\n",
       "      <td>53410.0</td>\n",
       "      <td>8363.0</td>\n",
       "      <td>53462.598377</td>\n",
       "      <td>53394.139577</td>\n",
       "      <td>...</td>\n",
       "      <td>11</td>\n",
       "      <td>2</td>\n",
       "      <td>2</td>\n",
       "      <td>15.0</td>\n",
       "      <td>HOLD</td>\n",
       "      <td>2</td>\n",
       "      <td>1</td>\n",
       "      <td>1</td>\n",
       "      <td>0</td>\n",
       "      <td>0</td>\n",
       "    </tr>\n",
       "    <tr>\n",
       "      <th>1</th>\n",
       "      <td>2014-11-19 12:35:00</td>\n",
       "      <td>2014.11.19</td>\n",
       "      <td>12:35:00</td>\n",
       "      <td>53410.0</td>\n",
       "      <td>53500.0</td>\n",
       "      <td>53295.0</td>\n",
       "      <td>53415.0</td>\n",
       "      <td>7034.0</td>\n",
       "      <td>53446.732251</td>\n",
       "      <td>53397.932381</td>\n",
       "      <td>...</td>\n",
       "      <td>11</td>\n",
       "      <td>2</td>\n",
       "      <td>2</td>\n",
       "      <td>50.0</td>\n",
       "      <td>HOLD</td>\n",
       "      <td>2</td>\n",
       "      <td>1</td>\n",
       "      <td>1</td>\n",
       "      <td>0</td>\n",
       "      <td>0</td>\n",
       "    </tr>\n",
       "    <tr>\n",
       "      <th>2</th>\n",
       "      <td>2014-11-19 12:40:00</td>\n",
       "      <td>2014.11.19</td>\n",
       "      <td>12:40:00</td>\n",
       "      <td>53420.0</td>\n",
       "      <td>53495.0</td>\n",
       "      <td>53370.0</td>\n",
       "      <td>53490.0</td>\n",
       "      <td>4654.0</td>\n",
       "      <td>53461.154834</td>\n",
       "      <td>53414.671948</td>\n",
       "      <td>...</td>\n",
       "      <td>11</td>\n",
       "      <td>2</td>\n",
       "      <td>2</td>\n",
       "      <td>-80.0</td>\n",
       "      <td>HOLD</td>\n",
       "      <td>2</td>\n",
       "      <td>1</td>\n",
       "      <td>1</td>\n",
       "      <td>0</td>\n",
       "      <td>0</td>\n",
       "    </tr>\n",
       "    <tr>\n",
       "      <th>3</th>\n",
       "      <td>2014-11-19 12:45:00</td>\n",
       "      <td>2014.11.19</td>\n",
       "      <td>12:45:00</td>\n",
       "      <td>53495.0</td>\n",
       "      <td>53595.0</td>\n",
       "      <td>53410.0</td>\n",
       "      <td>53425.0</td>\n",
       "      <td>5518.0</td>\n",
       "      <td>53449.103223</td>\n",
       "      <td>53416.549776</td>\n",
       "      <td>...</td>\n",
       "      <td>11</td>\n",
       "      <td>2</td>\n",
       "      <td>2</td>\n",
       "      <td>-140.0</td>\n",
       "      <td>HOLD</td>\n",
       "      <td>2</td>\n",
       "      <td>1</td>\n",
       "      <td>1</td>\n",
       "      <td>0</td>\n",
       "      <td>0</td>\n",
       "    </tr>\n",
       "    <tr>\n",
       "      <th>4</th>\n",
       "      <td>2014-11-19 12:50:00</td>\n",
       "      <td>2014.11.19</td>\n",
       "      <td>12:50:00</td>\n",
       "      <td>53420.0</td>\n",
       "      <td>53545.0</td>\n",
       "      <td>53415.0</td>\n",
       "      <td>53465.0</td>\n",
       "      <td>3800.0</td>\n",
       "      <td>53454.402148</td>\n",
       "      <td>53425.358908</td>\n",
       "      <td>...</td>\n",
       "      <td>11</td>\n",
       "      <td>2</td>\n",
       "      <td>2</td>\n",
       "      <td>-195.0</td>\n",
       "      <td>SELL</td>\n",
       "      <td>1</td>\n",
       "      <td>2</td>\n",
       "      <td>0</td>\n",
       "      <td>1</td>\n",
       "      <td>0</td>\n",
       "    </tr>\n",
       "    <tr>\n",
       "      <th>5</th>\n",
       "      <td>2014-11-19 12:55:00</td>\n",
       "      <td>2014.11.19</td>\n",
       "      <td>12:55:00</td>\n",
       "      <td>53465.0</td>\n",
       "      <td>53525.0</td>\n",
       "      <td>53385.0</td>\n",
       "      <td>53410.0</td>\n",
       "      <td>2793.0</td>\n",
       "      <td>53439.601432</td>\n",
       "      <td>53422.566379</td>\n",
       "      <td>...</td>\n",
       "      <td>11</td>\n",
       "      <td>2</td>\n",
       "      <td>2</td>\n",
       "      <td>-225.0</td>\n",
       "      <td>SELL</td>\n",
       "      <td>1</td>\n",
       "      <td>2</td>\n",
       "      <td>0</td>\n",
       "      <td>1</td>\n",
       "      <td>0</td>\n",
       "    </tr>\n",
       "    <tr>\n",
       "      <th>6</th>\n",
       "      <td>2014-11-19 13:00:00</td>\n",
       "      <td>2014.11.19</td>\n",
       "      <td>13:00:00</td>\n",
       "      <td>53410.0</td>\n",
       "      <td>53435.0</td>\n",
       "      <td>53245.0</td>\n",
       "      <td>53285.0</td>\n",
       "      <td>5022.0</td>\n",
       "      <td>53388.067622</td>\n",
       "      <td>53397.554310</td>\n",
       "      <td>...</td>\n",
       "      <td>11</td>\n",
       "      <td>2</td>\n",
       "      <td>2</td>\n",
       "      <td>-140.0</td>\n",
       "      <td>HOLD</td>\n",
       "      <td>2</td>\n",
       "      <td>1</td>\n",
       "      <td>1</td>\n",
       "      <td>0</td>\n",
       "      <td>0</td>\n",
       "    </tr>\n",
       "    <tr>\n",
       "      <th>7</th>\n",
       "      <td>2014-11-19 13:05:00</td>\n",
       "      <td>2014.11.19</td>\n",
       "      <td>13:05:00</td>\n",
       "      <td>53285.0</td>\n",
       "      <td>53325.0</td>\n",
       "      <td>53195.0</td>\n",
       "      <td>53270.0</td>\n",
       "      <td>3724.0</td>\n",
       "      <td>53348.711748</td>\n",
       "      <td>53374.362617</td>\n",
       "      <td>...</td>\n",
       "      <td>11</td>\n",
       "      <td>2</td>\n",
       "      <td>2</td>\n",
       "      <td>-130.0</td>\n",
       "      <td>HOLD</td>\n",
       "      <td>2</td>\n",
       "      <td>1</td>\n",
       "      <td>1</td>\n",
       "      <td>0</td>\n",
       "      <td>0</td>\n",
       "    </tr>\n",
       "    <tr>\n",
       "      <th>8</th>\n",
       "      <td>2014-11-19 13:10:00</td>\n",
       "      <td>2014.11.19</td>\n",
       "      <td>13:10:00</td>\n",
       "      <td>53260.0</td>\n",
       "      <td>53305.0</td>\n",
       "      <td>53155.0</td>\n",
       "      <td>53185.0</td>\n",
       "      <td>4687.0</td>\n",
       "      <td>53294.141165</td>\n",
       "      <td>53339.933051</td>\n",
       "      <td>...</td>\n",
       "      <td>11</td>\n",
       "      <td>2</td>\n",
       "      <td>2</td>\n",
       "      <td>-125.0</td>\n",
       "      <td>HOLD</td>\n",
       "      <td>2</td>\n",
       "      <td>1</td>\n",
       "      <td>1</td>\n",
       "      <td>0</td>\n",
       "      <td>0</td>\n",
       "    </tr>\n",
       "    <tr>\n",
       "      <th>9</th>\n",
       "      <td>2014-11-19 13:15:00</td>\n",
       "      <td>2014.11.19</td>\n",
       "      <td>13:15:00</td>\n",
       "      <td>53190.0</td>\n",
       "      <td>53205.0</td>\n",
       "      <td>53100.0</td>\n",
       "      <td>53145.0</td>\n",
       "      <td>4140.0</td>\n",
       "      <td>53244.427443</td>\n",
       "      <td>53304.490678</td>\n",
       "      <td>...</td>\n",
       "      <td>11</td>\n",
       "      <td>2</td>\n",
       "      <td>2</td>\n",
       "      <td>-95.0</td>\n",
       "      <td>HOLD</td>\n",
       "      <td>2</td>\n",
       "      <td>1</td>\n",
       "      <td>1</td>\n",
       "      <td>0</td>\n",
       "      <td>0</td>\n",
       "    </tr>\n",
       "    <tr>\n",
       "      <th>10</th>\n",
       "      <td>2014-11-19 13:20:00</td>\n",
       "      <td>2014.11.19</td>\n",
       "      <td>13:20:00</td>\n",
       "      <td>53145.0</td>\n",
       "      <td>53190.0</td>\n",
       "      <td>53110.0</td>\n",
       "      <td>53140.0</td>\n",
       "      <td>2690.0</td>\n",
       "      <td>53209.618296</td>\n",
       "      <td>53274.583282</td>\n",
       "      <td>...</td>\n",
       "      <td>11</td>\n",
       "      <td>2</td>\n",
       "      <td>2</td>\n",
       "      <td>-230.0</td>\n",
       "      <td>SELL</td>\n",
       "      <td>1</td>\n",
       "      <td>2</td>\n",
       "      <td>0</td>\n",
       "      <td>1</td>\n",
       "      <td>0</td>\n",
       "    </tr>\n",
       "    <tr>\n",
       "      <th>11</th>\n",
       "      <td>2014-11-19 13:25:00</td>\n",
       "      <td>2014.11.19</td>\n",
       "      <td>13:25:00</td>\n",
       "      <td>53140.0</td>\n",
       "      <td>53140.0</td>\n",
       "      <td>53050.0</td>\n",
       "      <td>53060.0</td>\n",
       "      <td>2720.0</td>\n",
       "      <td>53159.745530</td>\n",
       "      <td>53235.568140</td>\n",
       "      <td>...</td>\n",
       "      <td>11</td>\n",
       "      <td>2</td>\n",
       "      <td>2</td>\n",
       "      <td>-80.0</td>\n",
       "      <td>HOLD</td>\n",
       "      <td>2</td>\n",
       "      <td>1</td>\n",
       "      <td>1</td>\n",
       "      <td>0</td>\n",
       "      <td>0</td>\n",
       "    </tr>\n",
       "    <tr>\n",
       "      <th>12</th>\n",
       "      <td>2014-11-19 13:30:00</td>\n",
       "      <td>2014.11.19</td>\n",
       "      <td>13:30:00</td>\n",
       "      <td>53055.0</td>\n",
       "      <td>53120.0</td>\n",
       "      <td>53035.0</td>\n",
       "      <td>53050.0</td>\n",
       "      <td>2307.0</td>\n",
       "      <td>53123.163687</td>\n",
       "      <td>53201.828478</td>\n",
       "      <td>...</td>\n",
       "      <td>11</td>\n",
       "      <td>2</td>\n",
       "      <td>2</td>\n",
       "      <td>25.0</td>\n",
       "      <td>HOLD</td>\n",
       "      <td>2</td>\n",
       "      <td>1</td>\n",
       "      <td>1</td>\n",
       "      <td>0</td>\n",
       "      <td>0</td>\n",
       "    </tr>\n",
       "    <tr>\n",
       "      <th>13</th>\n",
       "      <td>2014-11-19 13:35:00</td>\n",
       "      <td>2014.11.19</td>\n",
       "      <td>13:35:00</td>\n",
       "      <td>53045.0</td>\n",
       "      <td>53055.0</td>\n",
       "      <td>52900.0</td>\n",
       "      <td>52910.0</td>\n",
       "      <td>5214.0</td>\n",
       "      <td>53052.109125</td>\n",
       "      <td>53148.768755</td>\n",
       "      <td>...</td>\n",
       "      <td>11</td>\n",
       "      <td>2</td>\n",
       "      <td>2</td>\n",
       "      <td>255.0</td>\n",
       "      <td>BUY</td>\n",
       "      <td>0</td>\n",
       "      <td>0</td>\n",
       "      <td>0</td>\n",
       "      <td>0</td>\n",
       "      <td>1</td>\n",
       "    </tr>\n",
       "    <tr>\n",
       "      <th>14</th>\n",
       "      <td>2014-11-19 13:40:00</td>\n",
       "      <td>2014.11.19</td>\n",
       "      <td>13:40:00</td>\n",
       "      <td>52915.0</td>\n",
       "      <td>53010.0</td>\n",
       "      <td>52820.0</td>\n",
       "      <td>52980.0</td>\n",
       "      <td>6234.0</td>\n",
       "      <td>53028.072750</td>\n",
       "      <td>53118.083527</td>\n",
       "      <td>...</td>\n",
       "      <td>11</td>\n",
       "      <td>2</td>\n",
       "      <td>2</td>\n",
       "      <td>180.0</td>\n",
       "      <td>BUY</td>\n",
       "      <td>0</td>\n",
       "      <td>0</td>\n",
       "      <td>0</td>\n",
       "      <td>0</td>\n",
       "      <td>1</td>\n",
       "    </tr>\n",
       "    <tr>\n",
       "      <th>15</th>\n",
       "      <td>2014-11-19 13:45:00</td>\n",
       "      <td>2014.11.19</td>\n",
       "      <td>13:45:00</td>\n",
       "      <td>52975.0</td>\n",
       "      <td>53095.0</td>\n",
       "      <td>52950.0</td>\n",
       "      <td>53075.0</td>\n",
       "      <td>4254.0</td>\n",
       "      <td>53043.715167</td>\n",
       "      <td>53110.250158</td>\n",
       "      <td>...</td>\n",
       "      <td>11</td>\n",
       "      <td>2</td>\n",
       "      <td>2</td>\n",
       "      <td>-5.0</td>\n",
       "      <td>HOLD</td>\n",
       "      <td>2</td>\n",
       "      <td>1</td>\n",
       "      <td>1</td>\n",
       "      <td>0</td>\n",
       "      <td>0</td>\n",
       "    </tr>\n",
       "    <tr>\n",
       "      <th>16</th>\n",
       "      <td>2014-11-19 13:50:00</td>\n",
       "      <td>2014.11.19</td>\n",
       "      <td>13:50:00</td>\n",
       "      <td>53075.0</td>\n",
       "      <td>53180.0</td>\n",
       "      <td>53070.0</td>\n",
       "      <td>53165.0</td>\n",
       "      <td>3937.0</td>\n",
       "      <td>53084.143444</td>\n",
       "      <td>53120.204675</td>\n",
       "      <td>...</td>\n",
       "      <td>11</td>\n",
       "      <td>2</td>\n",
       "      <td>2</td>\n",
       "      <td>60.0</td>\n",
       "      <td>HOLD</td>\n",
       "      <td>2</td>\n",
       "      <td>1</td>\n",
       "      <td>1</td>\n",
       "      <td>0</td>\n",
       "      <td>0</td>\n",
       "    </tr>\n",
       "    <tr>\n",
       "      <th>17</th>\n",
       "      <td>2014-11-19 13:55:00</td>\n",
       "      <td>2014.11.19</td>\n",
       "      <td>13:55:00</td>\n",
       "      <td>53165.0</td>\n",
       "      <td>53255.0</td>\n",
       "      <td>53135.0</td>\n",
       "      <td>53160.0</td>\n",
       "      <td>4487.0</td>\n",
       "      <td>53109.428963</td>\n",
       "      <td>53127.440188</td>\n",
       "      <td>...</td>\n",
       "      <td>11</td>\n",
       "      <td>2</td>\n",
       "      <td>2</td>\n",
       "      <td>-55.0</td>\n",
       "      <td>HOLD</td>\n",
       "      <td>2</td>\n",
       "      <td>1</td>\n",
       "      <td>1</td>\n",
       "      <td>0</td>\n",
       "      <td>0</td>\n",
       "    </tr>\n",
       "    <tr>\n",
       "      <th>18</th>\n",
       "      <td>2014-11-19 14:00:00</td>\n",
       "      <td>2014.11.19</td>\n",
       "      <td>14:00:00</td>\n",
       "      <td>53155.0</td>\n",
       "      <td>53170.0</td>\n",
       "      <td>53040.0</td>\n",
       "      <td>53070.0</td>\n",
       "      <td>4349.0</td>\n",
       "      <td>53096.285975</td>\n",
       "      <td>53116.996518</td>\n",
       "      <td>...</td>\n",
       "      <td>11</td>\n",
       "      <td>2</td>\n",
       "      <td>2</td>\n",
       "      <td>130.0</td>\n",
       "      <td>HOLD</td>\n",
       "      <td>2</td>\n",
       "      <td>1</td>\n",
       "      <td>1</td>\n",
       "      <td>0</td>\n",
       "      <td>0</td>\n",
       "    </tr>\n",
       "    <tr>\n",
       "      <th>19</th>\n",
       "      <td>2014-11-19 14:05:00</td>\n",
       "      <td>2014.11.19</td>\n",
       "      <td>14:05:00</td>\n",
       "      <td>53065.0</td>\n",
       "      <td>53230.0</td>\n",
       "      <td>53035.0</td>\n",
       "      <td>53225.0</td>\n",
       "      <td>3960.0</td>\n",
       "      <td>53139.190650</td>\n",
       "      <td>53136.633515</td>\n",
       "      <td>...</td>\n",
       "      <td>11</td>\n",
       "      <td>2</td>\n",
       "      <td>2</td>\n",
       "      <td>10.0</td>\n",
       "      <td>HOLD</td>\n",
       "      <td>2</td>\n",
       "      <td>1</td>\n",
       "      <td>1</td>\n",
       "      <td>0</td>\n",
       "      <td>0</td>\n",
       "    </tr>\n",
       "  </tbody>\n",
       "</table>\n",
       "<p>20 rows × 71 columns</p>\n",
       "</div>"
      ],
      "text/plain": [
       "              DATETIME        DATE      TIME     OPEN     HIGH      LOW  \\\n",
       "0  2014-11-19 12:30:00  2014.11.19  12:30:00  53560.0  53565.0  53405.0   \n",
       "1  2014-11-19 12:35:00  2014.11.19  12:35:00  53410.0  53500.0  53295.0   \n",
       "2  2014-11-19 12:40:00  2014.11.19  12:40:00  53420.0  53495.0  53370.0   \n",
       "3  2014-11-19 12:45:00  2014.11.19  12:45:00  53495.0  53595.0  53410.0   \n",
       "4  2014-11-19 12:50:00  2014.11.19  12:50:00  53420.0  53545.0  53415.0   \n",
       "5  2014-11-19 12:55:00  2014.11.19  12:55:00  53465.0  53525.0  53385.0   \n",
       "6  2014-11-19 13:00:00  2014.11.19  13:00:00  53410.0  53435.0  53245.0   \n",
       "7  2014-11-19 13:05:00  2014.11.19  13:05:00  53285.0  53325.0  53195.0   \n",
       "8  2014-11-19 13:10:00  2014.11.19  13:10:00  53260.0  53305.0  53155.0   \n",
       "9  2014-11-19 13:15:00  2014.11.19  13:15:00  53190.0  53205.0  53100.0   \n",
       "10 2014-11-19 13:20:00  2014.11.19  13:20:00  53145.0  53190.0  53110.0   \n",
       "11 2014-11-19 13:25:00  2014.11.19  13:25:00  53140.0  53140.0  53050.0   \n",
       "12 2014-11-19 13:30:00  2014.11.19  13:30:00  53055.0  53120.0  53035.0   \n",
       "13 2014-11-19 13:35:00  2014.11.19  13:35:00  53045.0  53055.0  52900.0   \n",
       "14 2014-11-19 13:40:00  2014.11.19  13:40:00  52915.0  53010.0  52820.0   \n",
       "15 2014-11-19 13:45:00  2014.11.19  13:45:00  52975.0  53095.0  52950.0   \n",
       "16 2014-11-19 13:50:00  2014.11.19  13:50:00  53075.0  53180.0  53070.0   \n",
       "17 2014-11-19 13:55:00  2014.11.19  13:55:00  53165.0  53255.0  53135.0   \n",
       "18 2014-11-19 14:00:00  2014.11.19  14:00:00  53155.0  53170.0  53040.0   \n",
       "19 2014-11-19 14:05:00  2014.11.19  14:05:00  53065.0  53230.0  53035.0   \n",
       "\n",
       "      CLOSE     VOL   EMA_5_CLOSE  EMA_10_CLOSE  ...  MES  DIA_SEMANA  \\\n",
       "0   53410.0  8363.0  53462.598377  53394.139577  ...   11           2   \n",
       "1   53415.0  7034.0  53446.732251  53397.932381  ...   11           2   \n",
       "2   53490.0  4654.0  53461.154834  53414.671948  ...   11           2   \n",
       "3   53425.0  5518.0  53449.103223  53416.549776  ...   11           2   \n",
       "4   53465.0  3800.0  53454.402148  53425.358908  ...   11           2   \n",
       "5   53410.0  2793.0  53439.601432  53422.566379  ...   11           2   \n",
       "6   53285.0  5022.0  53388.067622  53397.554310  ...   11           2   \n",
       "7   53270.0  3724.0  53348.711748  53374.362617  ...   11           2   \n",
       "8   53185.0  4687.0  53294.141165  53339.933051  ...   11           2   \n",
       "9   53145.0  4140.0  53244.427443  53304.490678  ...   11           2   \n",
       "10  53140.0  2690.0  53209.618296  53274.583282  ...   11           2   \n",
       "11  53060.0  2720.0  53159.745530  53235.568140  ...   11           2   \n",
       "12  53050.0  2307.0  53123.163687  53201.828478  ...   11           2   \n",
       "13  52910.0  5214.0  53052.109125  53148.768755  ...   11           2   \n",
       "14  52980.0  6234.0  53028.072750  53118.083527  ...   11           2   \n",
       "15  53075.0  4254.0  53043.715167  53110.250158  ...   11           2   \n",
       "16  53165.0  3937.0  53084.143444  53120.204675  ...   11           2   \n",
       "17  53160.0  4487.0  53109.428963  53127.440188  ...   11           2   \n",
       "18  53070.0  4349.0  53096.285975  53116.996518  ...   11           2   \n",
       "19  53225.0  3960.0  53139.190650  53136.633515  ...   11           2   \n",
       "\n",
       "    HORA_NOBRE  TARGET_WIN  TARGET_WIN_CAT3  TARGET_WIN_CAT3_LABEL  \\\n",
       "0            2        15.0             HOLD                      2   \n",
       "1            2        50.0             HOLD                      2   \n",
       "2            2       -80.0             HOLD                      2   \n",
       "3            2      -140.0             HOLD                      2   \n",
       "4            2      -195.0             SELL                      1   \n",
       "5            2      -225.0             SELL                      1   \n",
       "6            2      -140.0             HOLD                      2   \n",
       "7            2      -130.0             HOLD                      2   \n",
       "8            2      -125.0             HOLD                      2   \n",
       "9            2       -95.0             HOLD                      2   \n",
       "10           2      -230.0             SELL                      1   \n",
       "11           2       -80.0             HOLD                      2   \n",
       "12           2        25.0             HOLD                      2   \n",
       "13           2       255.0              BUY                      0   \n",
       "14           2       180.0              BUY                      0   \n",
       "15           2        -5.0             HOLD                      2   \n",
       "16           2        60.0             HOLD                      2   \n",
       "17           2       -55.0             HOLD                      2   \n",
       "18           2       130.0             HOLD                      2   \n",
       "19           2        10.0             HOLD                      2   \n",
       "\n",
       "    TARGET_WIN_CAT_ENC  HOLD  SELL  BUY  \n",
       "0                    1     1     0    0  \n",
       "1                    1     1     0    0  \n",
       "2                    1     1     0    0  \n",
       "3                    1     1     0    0  \n",
       "4                    2     0     1    0  \n",
       "5                    2     0     1    0  \n",
       "6                    1     1     0    0  \n",
       "7                    1     1     0    0  \n",
       "8                    1     1     0    0  \n",
       "9                    1     1     0    0  \n",
       "10                   2     0     1    0  \n",
       "11                   1     1     0    0  \n",
       "12                   1     1     0    0  \n",
       "13                   0     0     0    1  \n",
       "14                   0     0     0    1  \n",
       "15                   1     1     0    0  \n",
       "16                   1     1     0    0  \n",
       "17                   1     1     0    0  \n",
       "18                   1     1     0    0  \n",
       "19                   1     1     0    0  \n",
       "\n",
       "[20 rows x 71 columns]"
      ]
     },
     "execution_count": 54,
     "metadata": {},
     "output_type": "execute_result"
    }
   ],
   "source": [
    "# Carregar o Dataset\n",
    "filepath = 'C:/Users/auW10/Documents/CodigosDoAu/000_Doutorado/dataset/'\n",
    "df = pd.read_pickle(filepath+'dataset_with_TI_ciclo1_multiclass_jupyter_aug_dim_53TIs.pkl')\n",
    "print(df.shape)\n",
    "df.head(20)"
   ]
  },
  {
   "cell_type": "markdown",
   "metadata": {},
   "source": [
    "## Split dos Dados"
   ]
  },
  {
   "cell_type": "code",
   "execution_count": 55,
   "metadata": {},
   "outputs": [
    {
     "data": {
      "text/plain": [
       "['DATETIME',\n",
       " 'DATE',\n",
       " 'TIME',\n",
       " 'OPEN',\n",
       " 'HIGH',\n",
       " 'LOW',\n",
       " 'CLOSE',\n",
       " 'VOL',\n",
       " 'EMA_5_CLOSE',\n",
       " 'EMA_10_CLOSE',\n",
       " 'EMA_20_CLOSE',\n",
       " 'EMA_5_OPEN',\n",
       " 'EMA_10_OPEN',\n",
       " 'EMA_20_OPEN',\n",
       " 'EMA_5_HIGH',\n",
       " 'EMA_10_HIGH',\n",
       " 'EMA_20_HIGH',\n",
       " 'EMA_5_LOW',\n",
       " 'EMA_10_LOW',\n",
       " 'EMA_20_LOW',\n",
       " 'KAMA_5',\n",
       " 'KAMA_10',\n",
       " 'KAMA_20',\n",
       " 'MIDPOINT_3',\n",
       " 'MIDPOINT_12',\n",
       " 'MIDPRICE_3',\n",
       " 'MIDPRICE_12',\n",
       " 'TRIMA_5',\n",
       " 'TRIMA_10',\n",
       " 'TRIMA_20',\n",
       " 'ADX_3',\n",
       " 'ADX_6',\n",
       " 'ADX_10',\n",
       " 'BOP',\n",
       " 'MOM_3',\n",
       " 'MOM_6',\n",
       " 'MOM_10',\n",
       " 'MOM_14',\n",
       " 'ROC_3',\n",
       " 'ROC_5',\n",
       " 'ROC_7',\n",
       " 'ROC_10',\n",
       " 'RSI_3',\n",
       " 'RSI_6',\n",
       " 'RSI_10',\n",
       " 'RSI_14',\n",
       " 'TRIX_3',\n",
       " 'TRIX_5',\n",
       " 'TRIX_7',\n",
       " 'WILLR_3',\n",
       " 'WILLR_6',\n",
       " 'WILLR_12',\n",
       " 'WILLR_20',\n",
       " 'AD',\n",
       " 'ADOSC',\n",
       " 'OBV',\n",
       " 'ATR_3',\n",
       " 'ATR_6',\n",
       " 'ATR_12',\n",
       " 'ATR_20',\n",
       " 'TRANGE',\n",
       " 'MES',\n",
       " 'DIA_SEMANA',\n",
       " 'HORA_NOBRE',\n",
       " 'TARGET_WIN',\n",
       " 'TARGET_WIN_CAT3',\n",
       " 'TARGET_WIN_CAT3_LABEL',\n",
       " 'TARGET_WIN_CAT_ENC',\n",
       " 'HOLD',\n",
       " 'SELL',\n",
       " 'BUY']"
      ]
     },
     "execution_count": 55,
     "metadata": {},
     "output_type": "execute_result"
    }
   ],
   "source": [
    "df.columns.tolist()"
   ]
  },
  {
   "cell_type": "code",
   "execution_count": 56,
   "metadata": {
    "scrolled": true
   },
   "outputs": [
    {
     "name": "stdout",
     "output_type": "stream",
     "text": [
      "(139881, 71)\n",
      "(139881, 64)\n"
     ]
    },
    {
     "data": {
      "text/html": [
       "<div>\n",
       "<style scoped>\n",
       "    .dataframe tbody tr th:only-of-type {\n",
       "        vertical-align: middle;\n",
       "    }\n",
       "\n",
       "    .dataframe tbody tr th {\n",
       "        vertical-align: top;\n",
       "    }\n",
       "\n",
       "    .dataframe thead th {\n",
       "        text-align: right;\n",
       "    }\n",
       "</style>\n",
       "<table border=\"1\" class=\"dataframe\">\n",
       "  <thead>\n",
       "    <tr style=\"text-align: right;\">\n",
       "      <th></th>\n",
       "      <th>DATETIME</th>\n",
       "      <th>DATE</th>\n",
       "      <th>TIME</th>\n",
       "      <th>OPEN</th>\n",
       "      <th>HIGH</th>\n",
       "      <th>LOW</th>\n",
       "      <th>CLOSE</th>\n",
       "      <th>VOL</th>\n",
       "      <th>EMA_5_CLOSE</th>\n",
       "      <th>EMA_10_CLOSE</th>\n",
       "      <th>...</th>\n",
       "      <th>ADOSC</th>\n",
       "      <th>OBV</th>\n",
       "      <th>ATR_3</th>\n",
       "      <th>ATR_6</th>\n",
       "      <th>ATR_12</th>\n",
       "      <th>ATR_20</th>\n",
       "      <th>TRANGE</th>\n",
       "      <th>HORA_NOBRE</th>\n",
       "      <th>TARGET_WIN_CAT3</th>\n",
       "      <th>TARGET_WIN_CAT3_LABEL</th>\n",
       "    </tr>\n",
       "  </thead>\n",
       "  <tbody>\n",
       "    <tr>\n",
       "      <th>0</th>\n",
       "      <td>2014-11-19 12:30:00</td>\n",
       "      <td>2014.11.19</td>\n",
       "      <td>12:30:00</td>\n",
       "      <td>53560.0</td>\n",
       "      <td>53565.0</td>\n",
       "      <td>53405.0</td>\n",
       "      <td>53410.0</td>\n",
       "      <td>8363.0</td>\n",
       "      <td>53462.598377</td>\n",
       "      <td>53394.139577</td>\n",
       "      <td>...</td>\n",
       "      <td>224.882410</td>\n",
       "      <td>16995.0</td>\n",
       "      <td>183.08836</td>\n",
       "      <td>157.567344</td>\n",
       "      <td>133.163314</td>\n",
       "      <td>122.7500</td>\n",
       "      <td>160.0</td>\n",
       "      <td>2</td>\n",
       "      <td>HOLD</td>\n",
       "      <td>2</td>\n",
       "    </tr>\n",
       "    <tr>\n",
       "      <th>1</th>\n",
       "      <td>2014-11-19 12:35:00</td>\n",
       "      <td>2014.11.19</td>\n",
       "      <td>12:35:00</td>\n",
       "      <td>53410.0</td>\n",
       "      <td>53500.0</td>\n",
       "      <td>53295.0</td>\n",
       "      <td>53415.0</td>\n",
       "      <td>7034.0</td>\n",
       "      <td>53446.732251</td>\n",
       "      <td>53397.932381</td>\n",
       "      <td>...</td>\n",
       "      <td>-968.557883</td>\n",
       "      <td>24029.0</td>\n",
       "      <td>190.39224</td>\n",
       "      <td>165.472787</td>\n",
       "      <td>139.149704</td>\n",
       "      <td>126.8625</td>\n",
       "      <td>205.0</td>\n",
       "      <td>2</td>\n",
       "      <td>HOLD</td>\n",
       "      <td>2</td>\n",
       "    </tr>\n",
       "  </tbody>\n",
       "</table>\n",
       "<p>2 rows × 64 columns</p>\n",
       "</div>"
      ],
      "text/plain": [
       "             DATETIME        DATE      TIME     OPEN     HIGH      LOW  \\\n",
       "0 2014-11-19 12:30:00  2014.11.19  12:30:00  53560.0  53565.0  53405.0   \n",
       "1 2014-11-19 12:35:00  2014.11.19  12:35:00  53410.0  53500.0  53295.0   \n",
       "\n",
       "     CLOSE     VOL   EMA_5_CLOSE  EMA_10_CLOSE  ...       ADOSC      OBV  \\\n",
       "0  53410.0  8363.0  53462.598377  53394.139577  ...  224.882410  16995.0   \n",
       "1  53415.0  7034.0  53446.732251  53397.932381  ... -968.557883  24029.0   \n",
       "\n",
       "       ATR_3       ATR_6      ATR_12    ATR_20  TRANGE  HORA_NOBRE  \\\n",
       "0  183.08836  157.567344  133.163314  122.7500   160.0           2   \n",
       "1  190.39224  165.472787  139.149704  126.8625   205.0           2   \n",
       "\n",
       "   TARGET_WIN_CAT3  TARGET_WIN_CAT3_LABEL  \n",
       "0             HOLD                      2  \n",
       "1             HOLD                      2  \n",
       "\n",
       "[2 rows x 64 columns]"
      ]
     },
     "execution_count": 56,
     "metadata": {},
     "output_type": "execute_result"
    }
   ],
   "source": [
    "print(df.shape)\n",
    "df2 = df.drop([  'MES',\n",
    "                 'DIA_SEMANA', \n",
    "                 'TARGET_WIN',   \n",
    "                 'TARGET_WIN_CAT_ENC',\n",
    "                 'HOLD',\n",
    "                 'SELL',\n",
    "                 'BUY'\n",
    "               \n",
    "              ], axis=1)\n",
    "print(df2.shape)\n",
    "df2.head(2)"
   ]
  },
  {
   "cell_type": "code",
   "execution_count": 57,
   "metadata": {
    "scrolled": true
   },
   "outputs": [
    {
     "name": "stdout",
     "output_type": "stream",
     "text": [
      "Proporção Train: 29.8% | Validation: 9.7% | Test: 2.9%\n",
      "(41643, 61) (13596, 61) (4064, 61)\n"
     ]
    },
    {
     "name": "stderr",
     "output_type": "stream",
     "text": [
      "C:\\Users\\auW10\\Anaconda3\\envs\\phd\\lib\\site-packages\\pandas\\core\\frame.py:4170: SettingWithCopyWarning: \n",
      "A value is trying to be set on a copy of a slice from a DataFrame\n",
      "\n",
      "See the caveats in the documentation: https://pandas.pydata.org/pandas-docs/stable/user_guide/indexing.html#returning-a-view-versus-a-copy\n",
      "  errors=errors,\n"
     ]
    }
   ],
   "source": [
    "#df_train = df2[(df2['DATETIME'] >= '2014-01-01') & (df2['DATETIME'] < '2018-01-01')]\n",
    "df_train = df2[(df2['DATETIME'] >= '2017-12-01') & (df2['DATETIME'] < '2019-07-01')]\n",
    "#df_train = df_train.iloc[-10000:, :]\n",
    "\n",
    "#df_valid = df2[(df2['DATETIME'] >= '2018-01-01') & (df2['DATETIME'] < '2019-01-01')]\n",
    "df_valid = df2[(df2['DATETIME'] >= '2019-07-01') & (df2['DATETIME'] < '2020-01-01')]\n",
    "#df_valid = df_valid.iloc[:6600, :]\n",
    "\n",
    "#df_test  = df2[(df2['DATETIME'] >= '2019-01-01')]\n",
    "df_test  = df2[(df2['DATETIME'] >= '2020-01-01')]\n",
    "#df_test  = df2[(df2['DATETIME'] < '2017-12-01')]\n",
    "#df_test = df_test.iloc[:500,:]\n",
    "\n",
    "print('Proporção Train: {:.1%} | Validation: {:.1%} | Test: {:.1%}'.format(\n",
    "                                            df_train['OBV'].count()/df2['OBV'].count(),\n",
    "                                            df_valid['OBV'].count()/df2['OBV'].count(),\n",
    "                                            df_test['OBV'].count()/df2['OBV'].count()))\n",
    "\n",
    "df_train.drop(['DATETIME', 'DATE', 'TIME'], axis=1, inplace=True)\n",
    "df_valid.drop(['DATETIME', 'DATE', 'TIME'], axis=1, inplace=True)\n",
    "df_test.drop(['DATETIME', 'DATE', 'TIME'], axis=1, inplace=True)\n",
    "print(df_train.shape, df_valid.shape, df_test.shape)"
   ]
  },
  {
   "cell_type": "code",
   "execution_count": 58,
   "metadata": {
    "scrolled": false
   },
   "outputs": [
    {
     "data": {
      "text/html": [
       "<div>\n",
       "<style scoped>\n",
       "    .dataframe tbody tr th:only-of-type {\n",
       "        vertical-align: middle;\n",
       "    }\n",
       "\n",
       "    .dataframe tbody tr th {\n",
       "        vertical-align: top;\n",
       "    }\n",
       "\n",
       "    .dataframe thead th {\n",
       "        text-align: right;\n",
       "    }\n",
       "</style>\n",
       "<table border=\"1\" class=\"dataframe\">\n",
       "  <thead>\n",
       "    <tr style=\"text-align: right;\">\n",
       "      <th></th>\n",
       "      <th>OPEN</th>\n",
       "      <th>HIGH</th>\n",
       "      <th>LOW</th>\n",
       "      <th>CLOSE</th>\n",
       "      <th>VOL</th>\n",
       "      <th>EMA_5_CLOSE</th>\n",
       "      <th>EMA_10_CLOSE</th>\n",
       "      <th>EMA_20_CLOSE</th>\n",
       "      <th>EMA_5_OPEN</th>\n",
       "      <th>EMA_10_OPEN</th>\n",
       "      <th>...</th>\n",
       "      <th>ADOSC</th>\n",
       "      <th>OBV</th>\n",
       "      <th>ATR_3</th>\n",
       "      <th>ATR_6</th>\n",
       "      <th>ATR_12</th>\n",
       "      <th>ATR_20</th>\n",
       "      <th>TRANGE</th>\n",
       "      <th>HORA_NOBRE</th>\n",
       "      <th>TARGET_WIN_CAT3</th>\n",
       "      <th>TARGET_WIN_CAT3_LABEL</th>\n",
       "    </tr>\n",
       "  </thead>\n",
       "  <tbody>\n",
       "    <tr>\n",
       "      <th>135836</th>\n",
       "      <td>117325.0</td>\n",
       "      <td>117425.0</td>\n",
       "      <td>117260.0</td>\n",
       "      <td>117400.0</td>\n",
       "      <td>87105.0</td>\n",
       "      <td>117228.122937</td>\n",
       "      <td>117137.461639</td>\n",
       "      <td>117010.529854</td>\n",
       "      <td>117142.182637</td>\n",
       "      <td>117084.640892</td>\n",
       "      <td>...</td>\n",
       "      <td>95344.558922</td>\n",
       "      <td>-7850190.0</td>\n",
       "      <td>212.171216</td>\n",
       "      <td>205.912372</td>\n",
       "      <td>197.823329</td>\n",
       "      <td>186.913789</td>\n",
       "      <td>165.0</td>\n",
       "      <td>1</td>\n",
       "      <td>HOLD</td>\n",
       "      <td>2</td>\n",
       "    </tr>\n",
       "    <tr>\n",
       "      <th>135837</th>\n",
       "      <td>117400.0</td>\n",
       "      <td>117440.0</td>\n",
       "      <td>117365.0</td>\n",
       "      <td>117415.0</td>\n",
       "      <td>59672.0</td>\n",
       "      <td>117290.415292</td>\n",
       "      <td>117187.923159</td>\n",
       "      <td>117049.050821</td>\n",
       "      <td>117228.121758</td>\n",
       "      <td>117141.978911</td>\n",
       "      <td>...</td>\n",
       "      <td>108119.650258</td>\n",
       "      <td>-7790518.0</td>\n",
       "      <td>166.447477</td>\n",
       "      <td>184.093643</td>\n",
       "      <td>187.588051</td>\n",
       "      <td>181.318099</td>\n",
       "      <td>75.0</td>\n",
       "      <td>1</td>\n",
       "      <td>BUY</td>\n",
       "      <td>0</td>\n",
       "    </tr>\n",
       "    <tr>\n",
       "      <th>135838</th>\n",
       "      <td>117420.0</td>\n",
       "      <td>117465.0</td>\n",
       "      <td>117365.0</td>\n",
       "      <td>117400.0</td>\n",
       "      <td>56267.0</td>\n",
       "      <td>117326.943528</td>\n",
       "      <td>117226.482585</td>\n",
       "      <td>117082.474552</td>\n",
       "      <td>117292.081172</td>\n",
       "      <td>117192.528200</td>\n",
       "      <td>...</td>\n",
       "      <td>99364.488880</td>\n",
       "      <td>-7846785.0</td>\n",
       "      <td>144.298318</td>\n",
       "      <td>170.078036</td>\n",
       "      <td>180.289047</td>\n",
       "      <td>177.252194</td>\n",
       "      <td>100.0</td>\n",
       "      <td>1</td>\n",
       "      <td>BUY</td>\n",
       "      <td>0</td>\n",
       "    </tr>\n",
       "    <tr>\n",
       "      <th>135839</th>\n",
       "      <td>117405.0</td>\n",
       "      <td>117520.0</td>\n",
       "      <td>117400.0</td>\n",
       "      <td>117510.0</td>\n",
       "      <td>72601.0</td>\n",
       "      <td>117387.962352</td>\n",
       "      <td>117278.031206</td>\n",
       "      <td>117123.191261</td>\n",
       "      <td>117329.720781</td>\n",
       "      <td>117231.159436</td>\n",
       "      <td>...</td>\n",
       "      <td>108959.556075</td>\n",
       "      <td>-7774184.0</td>\n",
       "      <td>136.198879</td>\n",
       "      <td>161.731697</td>\n",
       "      <td>175.264960</td>\n",
       "      <td>174.389585</td>\n",
       "      <td>120.0</td>\n",
       "      <td>1</td>\n",
       "      <td>HOLD</td>\n",
       "      <td>2</td>\n",
       "    </tr>\n",
       "    <tr>\n",
       "      <th>135840</th>\n",
       "      <td>117515.0</td>\n",
       "      <td>117575.0</td>\n",
       "      <td>117470.0</td>\n",
       "      <td>117570.0</td>\n",
       "      <td>72648.0</td>\n",
       "      <td>117448.641568</td>\n",
       "      <td>117331.116441</td>\n",
       "      <td>117165.744475</td>\n",
       "      <td>117391.480521</td>\n",
       "      <td>117282.766812</td>\n",
       "      <td>...</td>\n",
       "      <td>127389.898872</td>\n",
       "      <td>-7701536.0</td>\n",
       "      <td>125.799252</td>\n",
       "      <td>152.276414</td>\n",
       "      <td>169.409546</td>\n",
       "      <td>170.920105</td>\n",
       "      <td>105.0</td>\n",
       "      <td>1</td>\n",
       "      <td>HOLD</td>\n",
       "      <td>2</td>\n",
       "    </tr>\n",
       "    <tr>\n",
       "      <th>135841</th>\n",
       "      <td>117570.0</td>\n",
       "      <td>117625.0</td>\n",
       "      <td>117530.0</td>\n",
       "      <td>117595.0</td>\n",
       "      <td>74275.0</td>\n",
       "      <td>117497.427712</td>\n",
       "      <td>117379.095270</td>\n",
       "      <td>117206.625953</td>\n",
       "      <td>117450.987014</td>\n",
       "      <td>117334.991028</td>\n",
       "      <td>...</td>\n",
       "      <td>134860.446417</td>\n",
       "      <td>-7627261.0</td>\n",
       "      <td>115.532835</td>\n",
       "      <td>142.730345</td>\n",
       "      <td>163.208751</td>\n",
       "      <td>167.124100</td>\n",
       "      <td>95.0</td>\n",
       "      <td>1</td>\n",
       "      <td>HOLD</td>\n",
       "      <td>2</td>\n",
       "    </tr>\n",
       "    <tr>\n",
       "      <th>135842</th>\n",
       "      <td>117595.0</td>\n",
       "      <td>117635.0</td>\n",
       "      <td>117555.0</td>\n",
       "      <td>117570.0</td>\n",
       "      <td>64280.0</td>\n",
       "      <td>117521.618475</td>\n",
       "      <td>117413.805221</td>\n",
       "      <td>117241.233005</td>\n",
       "      <td>117498.991343</td>\n",
       "      <td>117382.265386</td>\n",
       "      <td>...</td>\n",
       "      <td>113740.451424</td>\n",
       "      <td>-7691541.0</td>\n",
       "      <td>103.688557</td>\n",
       "      <td>132.275287</td>\n",
       "      <td>156.274688</td>\n",
       "      <td>162.767895</td>\n",
       "      <td>80.0</td>\n",
       "      <td>1</td>\n",
       "      <td>HOLD</td>\n",
       "      <td>2</td>\n",
       "    </tr>\n",
       "    <tr>\n",
       "      <th>135843</th>\n",
       "      <td>117570.0</td>\n",
       "      <td>117665.0</td>\n",
       "      <td>117530.0</td>\n",
       "      <td>117575.0</td>\n",
       "      <td>87807.0</td>\n",
       "      <td>117539.412316</td>\n",
       "      <td>117443.113363</td>\n",
       "      <td>117273.020338</td>\n",
       "      <td>117522.660895</td>\n",
       "      <td>117416.398952</td>\n",
       "      <td>...</td>\n",
       "      <td>85924.226509</td>\n",
       "      <td>-7603734.0</td>\n",
       "      <td>114.125704</td>\n",
       "      <td>132.729406</td>\n",
       "      <td>154.501798</td>\n",
       "      <td>161.379500</td>\n",
       "      <td>135.0</td>\n",
       "      <td>1</td>\n",
       "      <td>HOLD</td>\n",
       "      <td>2</td>\n",
       "    </tr>\n",
       "    <tr>\n",
       "      <th>135844</th>\n",
       "      <td>117580.0</td>\n",
       "      <td>117635.0</td>\n",
       "      <td>117565.0</td>\n",
       "      <td>117570.0</td>\n",
       "      <td>40846.0</td>\n",
       "      <td>117549.608211</td>\n",
       "      <td>117466.183660</td>\n",
       "      <td>117301.304115</td>\n",
       "      <td>117541.773930</td>\n",
       "      <td>117446.144597</td>\n",
       "      <td>...</td>\n",
       "      <td>55427.124918</td>\n",
       "      <td>-7644580.0</td>\n",
       "      <td>99.417136</td>\n",
       "      <td>122.274505</td>\n",
       "      <td>147.459981</td>\n",
       "      <td>156.810525</td>\n",
       "      <td>70.0</td>\n",
       "      <td>1</td>\n",
       "      <td>BUY</td>\n",
       "      <td>0</td>\n",
       "    </tr>\n",
       "    <tr>\n",
       "      <th>135845</th>\n",
       "      <td>117570.0</td>\n",
       "      <td>117660.0</td>\n",
       "      <td>117550.0</td>\n",
       "      <td>117600.0</td>\n",
       "      <td>54979.0</td>\n",
       "      <td>117566.405474</td>\n",
       "      <td>117490.513904</td>\n",
       "      <td>117329.751343</td>\n",
       "      <td>117551.182620</td>\n",
       "      <td>117468.663762</td>\n",
       "      <td>...</td>\n",
       "      <td>36530.771629</td>\n",
       "      <td>-7589601.0</td>\n",
       "      <td>102.944758</td>\n",
       "      <td>120.228754</td>\n",
       "      <td>144.338316</td>\n",
       "      <td>154.469999</td>\n",
       "      <td>110.0</td>\n",
       "      <td>1</td>\n",
       "      <td>BUY</td>\n",
       "      <td>0</td>\n",
       "    </tr>\n",
       "    <tr>\n",
       "      <th>135846</th>\n",
       "      <td>117600.0</td>\n",
       "      <td>117685.0</td>\n",
       "      <td>117550.0</td>\n",
       "      <td>117650.0</td>\n",
       "      <td>78746.0</td>\n",
       "      <td>117594.270316</td>\n",
       "      <td>117519.511376</td>\n",
       "      <td>117360.251215</td>\n",
       "      <td>117567.455080</td>\n",
       "      <td>117492.543078</td>\n",
       "      <td>...</td>\n",
       "      <td>38850.434599</td>\n",
       "      <td>-7510855.0</td>\n",
       "      <td>113.629838</td>\n",
       "      <td>122.690629</td>\n",
       "      <td>143.560123</td>\n",
       "      <td>153.496499</td>\n",
       "      <td>135.0</td>\n",
       "      <td>1</td>\n",
       "      <td>BUY</td>\n",
       "      <td>0</td>\n",
       "    </tr>\n",
       "    <tr>\n",
       "      <th>135847</th>\n",
       "      <td>117650.0</td>\n",
       "      <td>117915.0</td>\n",
       "      <td>117635.0</td>\n",
       "      <td>117885.0</td>\n",
       "      <td>213181.0</td>\n",
       "      <td>117691.180211</td>\n",
       "      <td>117585.963853</td>\n",
       "      <td>117410.227289</td>\n",
       "      <td>117594.970053</td>\n",
       "      <td>117521.171609</td>\n",
       "      <td>...</td>\n",
       "      <td>94823.882205</td>\n",
       "      <td>-7297674.0</td>\n",
       "      <td>169.086559</td>\n",
       "      <td>148.908857</td>\n",
       "      <td>154.930113</td>\n",
       "      <td>159.821674</td>\n",
       "      <td>280.0</td>\n",
       "      <td>1</td>\n",
       "      <td>BUY</td>\n",
       "      <td>0</td>\n",
       "    </tr>\n",
       "    <tr>\n",
       "      <th>135848</th>\n",
       "      <td>117885.0</td>\n",
       "      <td>118190.0</td>\n",
       "      <td>117885.0</td>\n",
       "      <td>118160.0</td>\n",
       "      <td>201435.0</td>\n",
       "      <td>117847.453474</td>\n",
       "      <td>117690.334062</td>\n",
       "      <td>117481.634214</td>\n",
       "      <td>117691.646702</td>\n",
       "      <td>117587.322226</td>\n",
       "      <td>...</td>\n",
       "      <td>167221.426162</td>\n",
       "      <td>-7096239.0</td>\n",
       "      <td>214.391039</td>\n",
       "      <td>174.924048</td>\n",
       "      <td>167.435937</td>\n",
       "      <td>167.080591</td>\n",
       "      <td>305.0</td>\n",
       "      <td>1</td>\n",
       "      <td>BUY</td>\n",
       "      <td>0</td>\n",
       "    </tr>\n",
       "    <tr>\n",
       "      <th>135849</th>\n",
       "      <td>118160.0</td>\n",
       "      <td>118300.0</td>\n",
       "      <td>118125.0</td>\n",
       "      <td>118155.0</td>\n",
       "      <td>160147.0</td>\n",
       "      <td>117949.968983</td>\n",
       "      <td>117774.818778</td>\n",
       "      <td>117545.764289</td>\n",
       "      <td>117847.764468</td>\n",
       "      <td>117691.445457</td>\n",
       "      <td>...</td>\n",
       "      <td>148558.926812</td>\n",
       "      <td>-7256386.0</td>\n",
       "      <td>201.260693</td>\n",
       "      <td>174.936706</td>\n",
       "      <td>168.066275</td>\n",
       "      <td>167.476561</td>\n",
       "      <td>175.0</td>\n",
       "      <td>1</td>\n",
       "      <td>BUY</td>\n",
       "      <td>0</td>\n",
       "    </tr>\n",
       "    <tr>\n",
       "      <th>135850</th>\n",
       "      <td>118155.0</td>\n",
       "      <td>118265.0</td>\n",
       "      <td>118030.0</td>\n",
       "      <td>118210.0</td>\n",
       "      <td>137811.0</td>\n",
       "      <td>118036.645988</td>\n",
       "      <td>117853.942636</td>\n",
       "      <td>117609.024833</td>\n",
       "      <td>117950.176312</td>\n",
       "      <td>117775.728101</td>\n",
       "      <td>...</td>\n",
       "      <td>154610.010049</td>\n",
       "      <td>-7118575.0</td>\n",
       "      <td>212.507129</td>\n",
       "      <td>184.947255</td>\n",
       "      <td>173.644086</td>\n",
       "      <td>170.852733</td>\n",
       "      <td>235.0</td>\n",
       "      <td>1</td>\n",
       "      <td>HOLD</td>\n",
       "      <td>2</td>\n",
       "    </tr>\n",
       "    <tr>\n",
       "      <th>135851</th>\n",
       "      <td>118215.0</td>\n",
       "      <td>118340.0</td>\n",
       "      <td>118185.0</td>\n",
       "      <td>118315.0</td>\n",
       "      <td>116577.0</td>\n",
       "      <td>118129.430659</td>\n",
       "      <td>117937.771248</td>\n",
       "      <td>117676.260563</td>\n",
       "      <td>118038.450875</td>\n",
       "      <td>117855.595719</td>\n",
       "      <td>...</td>\n",
       "      <td>172613.300075</td>\n",
       "      <td>-7001998.0</td>\n",
       "      <td>193.338086</td>\n",
       "      <td>179.956046</td>\n",
       "      <td>172.090412</td>\n",
       "      <td>170.060096</td>\n",
       "      <td>155.0</td>\n",
       "      <td>1</td>\n",
       "      <td>HOLD</td>\n",
       "      <td>2</td>\n",
       "    </tr>\n",
       "    <tr>\n",
       "      <th>135852</th>\n",
       "      <td>118315.0</td>\n",
       "      <td>118405.0</td>\n",
       "      <td>118270.0</td>\n",
       "      <td>118390.0</td>\n",
       "      <td>103145.0</td>\n",
       "      <td>118216.287106</td>\n",
       "      <td>118019.994657</td>\n",
       "      <td>117744.235748</td>\n",
       "      <td>118130.633916</td>\n",
       "      <td>117939.123770</td>\n",
       "      <td>...</td>\n",
       "      <td>194721.938157</td>\n",
       "      <td>-6898853.0</td>\n",
       "      <td>173.892057</td>\n",
       "      <td>172.463372</td>\n",
       "      <td>168.999544</td>\n",
       "      <td>168.307091</td>\n",
       "      <td>135.0</td>\n",
       "      <td>1</td>\n",
       "      <td>SELL</td>\n",
       "      <td>1</td>\n",
       "    </tr>\n",
       "    <tr>\n",
       "      <th>135853</th>\n",
       "      <td>118390.0</td>\n",
       "      <td>118430.0</td>\n",
       "      <td>118245.0</td>\n",
       "      <td>118300.0</td>\n",
       "      <td>98089.0</td>\n",
       "      <td>118244.191404</td>\n",
       "      <td>118070.904720</td>\n",
       "      <td>117797.165676</td>\n",
       "      <td>118217.089278</td>\n",
       "      <td>118021.101267</td>\n",
       "      <td>...</td>\n",
       "      <td>175331.893745</td>\n",
       "      <td>-6996942.0</td>\n",
       "      <td>177.594705</td>\n",
       "      <td>174.552810</td>\n",
       "      <td>170.332916</td>\n",
       "      <td>169.141737</td>\n",
       "      <td>185.0</td>\n",
       "      <td>2</td>\n",
       "      <td>HOLD</td>\n",
       "      <td>2</td>\n",
       "    </tr>\n",
       "    <tr>\n",
       "      <th>135854</th>\n",
       "      <td>118305.0</td>\n",
       "      <td>118365.0</td>\n",
       "      <td>118270.0</td>\n",
       "      <td>118355.0</td>\n",
       "      <td>48560.0</td>\n",
       "      <td>118281.127603</td>\n",
       "      <td>118122.558407</td>\n",
       "      <td>117850.292755</td>\n",
       "      <td>118246.392852</td>\n",
       "      <td>118072.719218</td>\n",
       "      <td>...</td>\n",
       "      <td>166911.790012</td>\n",
       "      <td>-6948382.0</td>\n",
       "      <td>150.063137</td>\n",
       "      <td>161.294008</td>\n",
       "      <td>164.055173</td>\n",
       "      <td>165.434650</td>\n",
       "      <td>95.0</td>\n",
       "      <td>2</td>\n",
       "      <td>SELL</td>\n",
       "      <td>1</td>\n",
       "    </tr>\n",
       "    <tr>\n",
       "      <th>135855</th>\n",
       "      <td>118355.0</td>\n",
       "      <td>118375.0</td>\n",
       "      <td>118180.0</td>\n",
       "      <td>118235.0</td>\n",
       "      <td>76939.0</td>\n",
       "      <td>118265.751735</td>\n",
       "      <td>118143.002333</td>\n",
       "      <td>117886.931540</td>\n",
       "      <td>118282.595235</td>\n",
       "      <td>118124.042997</td>\n",
       "      <td>...</td>\n",
       "      <td>138900.930916</td>\n",
       "      <td>-7025321.0</td>\n",
       "      <td>165.042091</td>\n",
       "      <td>166.911673</td>\n",
       "      <td>166.633908</td>\n",
       "      <td>166.912918</td>\n",
       "      <td>195.0</td>\n",
       "      <td>2</td>\n",
       "      <td>HOLD</td>\n",
       "      <td>2</td>\n",
       "    </tr>\n",
       "  </tbody>\n",
       "</table>\n",
       "<p>20 rows × 61 columns</p>\n",
       "</div>"
      ],
      "text/plain": [
       "            OPEN      HIGH       LOW     CLOSE       VOL    EMA_5_CLOSE  \\\n",
       "135836  117325.0  117425.0  117260.0  117400.0   87105.0  117228.122937   \n",
       "135837  117400.0  117440.0  117365.0  117415.0   59672.0  117290.415292   \n",
       "135838  117420.0  117465.0  117365.0  117400.0   56267.0  117326.943528   \n",
       "135839  117405.0  117520.0  117400.0  117510.0   72601.0  117387.962352   \n",
       "135840  117515.0  117575.0  117470.0  117570.0   72648.0  117448.641568   \n",
       "135841  117570.0  117625.0  117530.0  117595.0   74275.0  117497.427712   \n",
       "135842  117595.0  117635.0  117555.0  117570.0   64280.0  117521.618475   \n",
       "135843  117570.0  117665.0  117530.0  117575.0   87807.0  117539.412316   \n",
       "135844  117580.0  117635.0  117565.0  117570.0   40846.0  117549.608211   \n",
       "135845  117570.0  117660.0  117550.0  117600.0   54979.0  117566.405474   \n",
       "135846  117600.0  117685.0  117550.0  117650.0   78746.0  117594.270316   \n",
       "135847  117650.0  117915.0  117635.0  117885.0  213181.0  117691.180211   \n",
       "135848  117885.0  118190.0  117885.0  118160.0  201435.0  117847.453474   \n",
       "135849  118160.0  118300.0  118125.0  118155.0  160147.0  117949.968983   \n",
       "135850  118155.0  118265.0  118030.0  118210.0  137811.0  118036.645988   \n",
       "135851  118215.0  118340.0  118185.0  118315.0  116577.0  118129.430659   \n",
       "135852  118315.0  118405.0  118270.0  118390.0  103145.0  118216.287106   \n",
       "135853  118390.0  118430.0  118245.0  118300.0   98089.0  118244.191404   \n",
       "135854  118305.0  118365.0  118270.0  118355.0   48560.0  118281.127603   \n",
       "135855  118355.0  118375.0  118180.0  118235.0   76939.0  118265.751735   \n",
       "\n",
       "         EMA_10_CLOSE   EMA_20_CLOSE     EMA_5_OPEN    EMA_10_OPEN  ...  \\\n",
       "135836  117137.461639  117010.529854  117142.182637  117084.640892  ...   \n",
       "135837  117187.923159  117049.050821  117228.121758  117141.978911  ...   \n",
       "135838  117226.482585  117082.474552  117292.081172  117192.528200  ...   \n",
       "135839  117278.031206  117123.191261  117329.720781  117231.159436  ...   \n",
       "135840  117331.116441  117165.744475  117391.480521  117282.766812  ...   \n",
       "135841  117379.095270  117206.625953  117450.987014  117334.991028  ...   \n",
       "135842  117413.805221  117241.233005  117498.991343  117382.265386  ...   \n",
       "135843  117443.113363  117273.020338  117522.660895  117416.398952  ...   \n",
       "135844  117466.183660  117301.304115  117541.773930  117446.144597  ...   \n",
       "135845  117490.513904  117329.751343  117551.182620  117468.663762  ...   \n",
       "135846  117519.511376  117360.251215  117567.455080  117492.543078  ...   \n",
       "135847  117585.963853  117410.227289  117594.970053  117521.171609  ...   \n",
       "135848  117690.334062  117481.634214  117691.646702  117587.322226  ...   \n",
       "135849  117774.818778  117545.764289  117847.764468  117691.445457  ...   \n",
       "135850  117853.942636  117609.024833  117950.176312  117775.728101  ...   \n",
       "135851  117937.771248  117676.260563  118038.450875  117855.595719  ...   \n",
       "135852  118019.994657  117744.235748  118130.633916  117939.123770  ...   \n",
       "135853  118070.904720  117797.165676  118217.089278  118021.101267  ...   \n",
       "135854  118122.558407  117850.292755  118246.392852  118072.719218  ...   \n",
       "135855  118143.002333  117886.931540  118282.595235  118124.042997  ...   \n",
       "\n",
       "                ADOSC        OBV       ATR_3       ATR_6      ATR_12  \\\n",
       "135836   95344.558922 -7850190.0  212.171216  205.912372  197.823329   \n",
       "135837  108119.650258 -7790518.0  166.447477  184.093643  187.588051   \n",
       "135838   99364.488880 -7846785.0  144.298318  170.078036  180.289047   \n",
       "135839  108959.556075 -7774184.0  136.198879  161.731697  175.264960   \n",
       "135840  127389.898872 -7701536.0  125.799252  152.276414  169.409546   \n",
       "135841  134860.446417 -7627261.0  115.532835  142.730345  163.208751   \n",
       "135842  113740.451424 -7691541.0  103.688557  132.275287  156.274688   \n",
       "135843   85924.226509 -7603734.0  114.125704  132.729406  154.501798   \n",
       "135844   55427.124918 -7644580.0   99.417136  122.274505  147.459981   \n",
       "135845   36530.771629 -7589601.0  102.944758  120.228754  144.338316   \n",
       "135846   38850.434599 -7510855.0  113.629838  122.690629  143.560123   \n",
       "135847   94823.882205 -7297674.0  169.086559  148.908857  154.930113   \n",
       "135848  167221.426162 -7096239.0  214.391039  174.924048  167.435937   \n",
       "135849  148558.926812 -7256386.0  201.260693  174.936706  168.066275   \n",
       "135850  154610.010049 -7118575.0  212.507129  184.947255  173.644086   \n",
       "135851  172613.300075 -7001998.0  193.338086  179.956046  172.090412   \n",
       "135852  194721.938157 -6898853.0  173.892057  172.463372  168.999544   \n",
       "135853  175331.893745 -6996942.0  177.594705  174.552810  170.332916   \n",
       "135854  166911.790012 -6948382.0  150.063137  161.294008  164.055173   \n",
       "135855  138900.930916 -7025321.0  165.042091  166.911673  166.633908   \n",
       "\n",
       "            ATR_20  TRANGE  HORA_NOBRE  TARGET_WIN_CAT3  TARGET_WIN_CAT3_LABEL  \n",
       "135836  186.913789   165.0           1             HOLD                      2  \n",
       "135837  181.318099    75.0           1              BUY                      0  \n",
       "135838  177.252194   100.0           1              BUY                      0  \n",
       "135839  174.389585   120.0           1             HOLD                      2  \n",
       "135840  170.920105   105.0           1             HOLD                      2  \n",
       "135841  167.124100    95.0           1             HOLD                      2  \n",
       "135842  162.767895    80.0           1             HOLD                      2  \n",
       "135843  161.379500   135.0           1             HOLD                      2  \n",
       "135844  156.810525    70.0           1              BUY                      0  \n",
       "135845  154.469999   110.0           1              BUY                      0  \n",
       "135846  153.496499   135.0           1              BUY                      0  \n",
       "135847  159.821674   280.0           1              BUY                      0  \n",
       "135848  167.080591   305.0           1              BUY                      0  \n",
       "135849  167.476561   175.0           1              BUY                      0  \n",
       "135850  170.852733   235.0           1             HOLD                      2  \n",
       "135851  170.060096   155.0           1             HOLD                      2  \n",
       "135852  168.307091   135.0           1             SELL                      1  \n",
       "135853  169.141737   185.0           2             HOLD                      2  \n",
       "135854  165.434650    95.0           2             SELL                      1  \n",
       "135855  166.912918   195.0           2             HOLD                      2  \n",
       "\n",
       "[20 rows x 61 columns]"
      ]
     },
     "execution_count": 58,
     "metadata": {},
     "output_type": "execute_result"
    }
   ],
   "source": [
    "df_test.iloc[19:200].head(20)"
   ]
  },
  {
   "cell_type": "code",
   "execution_count": 59,
   "metadata": {},
   "outputs": [
    {
     "data": {
      "text/plain": [
       "2    28204\n",
       "0     6776\n",
       "1     6663\n",
       "Name: TARGET_WIN_CAT3_LABEL, dtype: int64"
      ]
     },
     "execution_count": 59,
     "metadata": {},
     "output_type": "execute_result"
    }
   ],
   "source": [
    "df_train['TARGET_WIN_CAT3_LABEL'].value_counts()"
   ]
  },
  {
   "cell_type": "code",
   "execution_count": 60,
   "metadata": {},
   "outputs": [
    {
     "data": {
      "text/plain": [
       "6776"
      ]
     },
     "execution_count": 60,
     "metadata": {},
     "output_type": "execute_result"
    }
   ],
   "source": [
    "df_train['TARGET_WIN_CAT3_LABEL'].value_counts()[0]"
   ]
  },
  {
   "cell_type": "code",
   "execution_count": 61,
   "metadata": {
    "scrolled": true
   },
   "outputs": [
    {
     "name": "stdout",
     "output_type": "stream",
     "text": [
      "\n",
      "Dados Categóricos de Treino -- BUY: 6776 | SELL: 6663 | HOLD: 28204\n",
      "\n",
      "Dados Categóricos de Validação -- BUY: 1912 | SELL: 1784 | HOLD: 9900\n",
      "\n",
      "Dados Categóricos de Teste -- BUY: 741 | SELL: 727 | HOLD: 2596\n"
     ]
    }
   ],
   "source": [
    "hold_train = df_train['TARGET_WIN_CAT3_LABEL'].value_counts()[2]\n",
    "hold_valid = df_valid['TARGET_WIN_CAT3_LABEL'].value_counts()[2]\n",
    "hold_test = df_test['TARGET_WIN_CAT3_LABEL'].value_counts()[2]\n",
    "\n",
    "print('\\nDados Categóricos de Treino -- BUY: %d | SELL: %d | HOLD: %d' % (df_train['TARGET_WIN_CAT3_LABEL'].value_counts()[0], df_train['TARGET_WIN_CAT3_LABEL'].value_counts()[1], hold_train))\n",
    "print('\\nDados Categóricos de Validação -- BUY: %d | SELL: %d | HOLD: %d' % (df_valid['TARGET_WIN_CAT3_LABEL'].value_counts()[0], df_valid['TARGET_WIN_CAT3_LABEL'].value_counts()[1], hold_valid))\n",
    "print('\\nDados Categóricos de Teste -- BUY: %d | SELL: %d | HOLD: %d' % (df_test['TARGET_WIN_CAT3_LABEL'].value_counts()[0], df_test['TARGET_WIN_CAT3_LABEL'].value_counts()[1], hold_test))\n"
   ]
  },
  {
   "cell_type": "code",
   "execution_count": 62,
   "metadata": {},
   "outputs": [
    {
     "name": "stdout",
     "output_type": "stream",
     "text": [
      "\n",
      "Dados Categóricos de Treino Hora Nobre -- BUY: 2245 | SELL: 2232 | HOLD: 7043\n",
      "\n",
      "Dados Categóricos de Validação Hora Nobre -- BUY: 724 | SELL: 702 | HOLD: 2354\n",
      "\n",
      "Dados Categóricos de Teste Hora Nobre -- BUY: 250 | SELL: 242 | HOLD: 618\n"
     ]
    }
   ],
   "source": [
    "buy_train = df_train.groupby(['HORA_NOBRE'])['TARGET_WIN_CAT3_LABEL'].value_counts()[4]\n",
    "sell_train = df_train.groupby(['HORA_NOBRE'])['TARGET_WIN_CAT3_LABEL'].value_counts()[5]\n",
    "hold_train = df_train.groupby(['HORA_NOBRE'])['TARGET_WIN_CAT3_LABEL'].value_counts()[3]\n",
    "\n",
    "buy_valid = df_valid.groupby(['HORA_NOBRE'])['TARGET_WIN_CAT3_LABEL'].value_counts()[4]\n",
    "sell_valid = df_valid.groupby(['HORA_NOBRE'])['TARGET_WIN_CAT3_LABEL'].value_counts()[5]\n",
    "hold_valid = df_valid.groupby(['HORA_NOBRE'])['TARGET_WIN_CAT3_LABEL'].value_counts()[3]\n",
    "\n",
    "buy_test = df_test.groupby(['HORA_NOBRE'])['TARGET_WIN_CAT3_LABEL'].value_counts()[4]\n",
    "sell_test = df_test.groupby(['HORA_NOBRE'])['TARGET_WIN_CAT3_LABEL'].value_counts()[5]\n",
    "hold_test = df_test.groupby(['HORA_NOBRE'])['TARGET_WIN_CAT3_LABEL'].value_counts()[3]\n",
    "\n",
    "print('\\nDados Categóricos de Treino Hora Nobre -- BUY: %d | SELL: %d | HOLD: %d' % (buy_train, sell_train, hold_train))\n",
    "print('\\nDados Categóricos de Validação Hora Nobre -- BUY: %d | SELL: %d | HOLD: %d' % (buy_valid, sell_valid, hold_valid))\n",
    "print('\\nDados Categóricos de Teste Hora Nobre -- BUY: %d | SELL: %d | HOLD: %d' % (buy_test, sell_test, hold_test))\n"
   ]
  },
  {
   "cell_type": "code",
   "execution_count": 63,
   "metadata": {},
   "outputs": [
    {
     "data": {
      "text/plain": [
       "HORA_NOBRE  TARGET_WIN_CAT3_LABEL\n",
       "0           2                         1607\n",
       "            1                          359\n",
       "            0                          333\n",
       "1           2                         7043\n",
       "            0                         2245\n",
       "            1                         2232\n",
       "2           2                        19554\n",
       "            0                         4198\n",
       "            1                         4072\n",
       "Name: TARGET_WIN_CAT3_LABEL, dtype: int64"
      ]
     },
     "execution_count": 63,
     "metadata": {},
     "output_type": "execute_result"
    }
   ],
   "source": [
    "df_train.groupby(['HORA_NOBRE'])['TARGET_WIN_CAT3_LABEL'].value_counts()"
   ]
  },
  {
   "cell_type": "code",
   "execution_count": 64,
   "metadata": {},
   "outputs": [
    {
     "name": "stdout",
     "output_type": "stream",
     "text": [
      "7043\n",
      "2243\n",
      "4800\n"
     ]
    }
   ],
   "source": [
    "np.random.seed(2345)\n",
    "porcentagem_selecao_train = (buy_train / hold_train)\n",
    "amostra_train = np.random.choice( a=[0,1], size=hold_train, replace=True, \n",
    "                                   p=[1-porcentagem_selecao_train, porcentagem_selecao_train] )\n",
    "print(len(amostra_train))\n",
    "print(len(amostra_train[amostra_train == 1]))\n",
    "print(len(amostra_train[amostra_train == 0]))"
   ]
  },
  {
   "cell_type": "code",
   "execution_count": 65,
   "metadata": {},
   "outputs": [
    {
     "name": "stdout",
     "output_type": "stream",
     "text": [
      "2354\n",
      "719\n",
      "1635\n"
     ]
    }
   ],
   "source": [
    "np.random.seed(2345)\n",
    "porcentagem_selecao_valid = (buy_valid / hold_valid)\n",
    "amostra_valid = np.random.choice( a=[0,1], size=hold_valid, replace=True, \n",
    "                                   p=[1-porcentagem_selecao_valid, porcentagem_selecao_valid] )\n",
    "print(len(amostra_valid))\n",
    "print(len(amostra_valid[amostra_valid == 1]))\n",
    "print(len(amostra_valid[amostra_valid == 0]))"
   ]
  },
  {
   "cell_type": "code",
   "execution_count": 66,
   "metadata": {},
   "outputs": [
    {
     "name": "stdout",
     "output_type": "stream",
     "text": [
      "618\n",
      "253\n",
      "365\n"
     ]
    }
   ],
   "source": [
    "np.random.seed(2345)\n",
    "porcentagem_selecao_test = (buy_test / hold_test)\n",
    "amostra_test = np.random.choice( a=[0,1], size=hold_test, replace=True, \n",
    "                                   p=[1-porcentagem_selecao_test, porcentagem_selecao_test] )\n",
    "print(len(amostra_test))\n",
    "print(len(amostra_test[amostra_test == 1]))\n",
    "print(len(amostra_test[amostra_test == 0]))"
   ]
  },
  {
   "cell_type": "code",
   "execution_count": 67,
   "metadata": {},
   "outputs": [],
   "source": [
    "def normalize(data):\n",
    "\n",
    "        scaler_x = StandardScaler()\n",
    "        \n",
    "        x = data.iloc[:, :-3]\n",
    "        x = scaler_x.fit_transform(x) \n",
    "        \n",
    "        y = data.iloc[:,-1]\n",
    "        y_list = np.array(y.to_list())\n",
    "    \n",
    "        return x, y_list"
   ]
  },
  {
   "cell_type": "code",
   "execution_count": 68,
   "metadata": {},
   "outputs": [],
   "source": [
    "def get_train_valid_test_data(seq_len, df, amostragem):\n",
    "\n",
    "        a=0\n",
    "        for i in range(len(df) - seq_len):\n",
    "            if df['TARGET_WIN_CAT3'][i+seq_len-1] == 'HOLD':\n",
    "                if amostragem[a] == 0:\n",
    "                    df.drop((i+seq_len-1), axis=0, inplace=True) \n",
    "                a+=1\n",
    "                    \n",
    "        x, y = normalize(df)\n",
    "            \n",
    "        return x, y"
   ]
  },
  {
   "cell_type": "code",
   "execution_count": 69,
   "metadata": {},
   "outputs": [],
   "source": [
    "df_train_reset_index = df_train[df_train['HORA_NOBRE'] == '1'].reset_index(drop=True)\n",
    "x_train, y_train = get_train_valid_test_data(seq_len=1, \n",
    "                                             df=df_train_reset_index, \n",
    "                                             amostragem=amostra_train)"
   ]
  },
  {
   "cell_type": "code",
   "execution_count": 70,
   "metadata": {},
   "outputs": [],
   "source": [
    "df_valid_reset_index = df_valid[df_valid['HORA_NOBRE'] == '1'].reset_index(drop=True)\n",
    "x_valid, y_valid = get_train_valid_test_data(seq_len=1, \n",
    "                                             df=df_valid_reset_index, \n",
    "                                             amostragem=amostra_valid)"
   ]
  },
  {
   "cell_type": "code",
   "execution_count": 71,
   "metadata": {},
   "outputs": [],
   "source": [
    "df_test_reset_index = df_test[df_test['HORA_NOBRE'] == '1'].reset_index(drop=True)\n",
    "x_test, y_test = get_train_valid_test_data(seq_len=1, \n",
    "                                             df=df_test_reset_index, \n",
    "                                             amostragem=amostra_test)"
   ]
  },
  {
   "cell_type": "code",
   "execution_count": 72,
   "metadata": {
    "scrolled": true
   },
   "outputs": [
    {
     "data": {
      "text/plain": [
       "6721"
      ]
     },
     "execution_count": 72,
     "metadata": {},
     "output_type": "execute_result"
    }
   ],
   "source": [
    "len(x_train)"
   ]
  },
  {
   "cell_type": "code",
   "execution_count": 73,
   "metadata": {},
   "outputs": [
    {
     "data": {
      "text/plain": [
       "6721"
      ]
     },
     "execution_count": 73,
     "metadata": {},
     "output_type": "execute_result"
    }
   ],
   "source": [
    "len(y_train)"
   ]
  },
  {
   "cell_type": "code",
   "execution_count": 74,
   "metadata": {},
   "outputs": [
    {
     "data": {
      "text/plain": [
       "(6721, 58)"
      ]
     },
     "execution_count": 74,
     "metadata": {},
     "output_type": "execute_result"
    }
   ],
   "source": [
    "x_train.shape"
   ]
  },
  {
   "cell_type": "code",
   "execution_count": 75,
   "metadata": {},
   "outputs": [
    {
     "data": {
      "text/plain": [
       "array([[-1.77450308, -1.77818379, -1.7837574 , ..., -0.24582561,\n",
       "        -0.20038911,  0.52833382],\n",
       "       [-1.77631092, -1.78179939, -1.77230876, ..., -0.2699237 ,\n",
       "        -0.20861249, -0.87092677],\n",
       "       [-1.77390046, -1.75588761, -1.76327036, ..., -0.14441967,\n",
       "        -0.12431777,  0.69624509],\n",
       "       ...,\n",
       "       [ 1.90205189,  1.9000841 ,  1.90752376, ..., -0.39836397,\n",
       "        -0.37493196, -0.7030155 ],\n",
       "       [ 1.89723097,  1.8952633 ,  1.90451097, ..., -0.47433162,\n",
       "        -0.42114658, -0.87092677],\n",
       "       [ 1.90024405,  1.89164771,  1.89969049, ..., -0.52881327,\n",
       "        -0.45513436, -0.75898592]])"
      ]
     },
     "execution_count": 75,
     "metadata": {},
     "output_type": "execute_result"
    }
   ],
   "source": [
    "x_train"
   ]
  },
  {
   "cell_type": "code",
   "execution_count": 76,
   "metadata": {},
   "outputs": [
    {
     "data": {
      "text/plain": [
       "array([0, 2, 0, ..., 1, 1, 2])"
      ]
     },
     "execution_count": 76,
     "metadata": {},
     "output_type": "execute_result"
    }
   ],
   "source": [
    "y_train"
   ]
  },
  {
   "cell_type": "markdown",
   "metadata": {},
   "source": [
    "# Modelos"
   ]
  },
  {
   "cell_type": "code",
   "execution_count": 77,
   "metadata": {},
   "outputs": [],
   "source": [
    "import lightgbm as lgbm\n",
    "import seaborn as sns\n",
    "\n",
    "from sklearn.ensemble import RandomForestClassifier \n",
    "from sklearn.metrics import accuracy_score, confusion_matrix, classification_report"
   ]
  },
  {
   "cell_type": "markdown",
   "metadata": {},
   "source": [
    "## LightGBM"
   ]
  },
  {
   "cell_type": "code",
   "execution_count": 78,
   "metadata": {},
   "outputs": [
    {
     "name": "stdout",
     "output_type": "stream",
     "text": [
      "Accuracy Score - LightGBM:  0.3597315436241611\n"
     ]
    }
   ],
   "source": [
    "model_lgbm = lgbm.LGBMClassifier(n_jobs=-1, random_state=0, n_estimators=10000, learning_rate=0.001, num_leaves=2**6,\n",
    "                                subsample=0.9, subsample_freq=1, colsample_bytree=1.)\n",
    "\n",
    "model_lgbm.fit(x_train, y_train)\n",
    "predict_lgbm = model_lgbm.predict(x_test)\n",
    "\n",
    "print('Accuracy Score - LightGBM: ', accuracy_score(y_test, predict_lgbm))"
   ]
  },
  {
   "cell_type": "code",
   "execution_count": 79,
   "metadata": {},
   "outputs": [
    {
     "name": "stdout",
     "output_type": "stream",
     "text": [
      "              precision    recall  f1-score   support\n",
      "\n",
      "           0       0.34      0.32      0.33       250\n",
      "           1       0.34      0.32      0.33       242\n",
      "           2       0.39      0.43      0.41       253\n",
      "\n",
      "    accuracy                           0.36       745\n",
      "   macro avg       0.36      0.36      0.36       745\n",
      "weighted avg       0.36      0.36      0.36       745\n",
      "\n"
     ]
    }
   ],
   "source": [
    "print(classification_report(y_test, predict_lgbm))"
   ]
  },
  {
   "cell_type": "code",
   "execution_count": 80,
   "metadata": {},
   "outputs": [
    {
     "data": {
      "text/plain": [
       "array([[ 81,  84,  85],\n",
       "       [ 82,  78,  82],\n",
       "       [ 76,  68, 109]], dtype=int64)"
      ]
     },
     "execution_count": 80,
     "metadata": {},
     "output_type": "execute_result"
    }
   ],
   "source": [
    "from sklearn.metrics import confusion_matrix\n",
    "confusion_matrix = confusion_matrix(y_test, predict_lgbm)\n",
    "confusion_matrix"
   ]
  },
  {
   "cell_type": "code",
   "execution_count": 81,
   "metadata": {},
   "outputs": [
    {
     "data": {
      "text/plain": [
       "745"
      ]
     },
     "execution_count": 81,
     "metadata": {},
     "output_type": "execute_result"
    }
   ],
   "source": [
    "len(y_test)"
   ]
  },
  {
   "cell_type": "code",
   "execution_count": 82,
   "metadata": {},
   "outputs": [
    {
     "data": {
      "text/plain": [
       "<AxesSubplot:>"
      ]
     },
     "execution_count": 82,
     "metadata": {},
     "output_type": "execute_result"
    },
    {
     "data": {
      "image/png": "[encoded data removed]",
      "text/plain": [
       "<Figure size 432x288 with 2 Axes>"
      ]
     },
     "metadata": {
      "needs_background": "light"
     },
     "output_type": "display_data"
    }
   ],
   "source": [
    "# visualize confusion matrix with seaborn heatmap\n",
    "cm_matrix = pd.DataFrame(data=confusion_matrix,\n",
    "                        columns=['HOLD_R', 'SELL_R', 'BUY_R'], \n",
    "                        index=['HOLD_P', 'SELL_P', 'BUY_P'])\n",
    "\n",
    "sns.heatmap(cm_matrix, annot=True, fmt='d', cmap='YlGnBu')"
   ]
  },
  {
   "cell_type": "markdown",
   "metadata": {},
   "source": [
    "### Compare train and test set accuracy"
   ]
  },
  {
   "cell_type": "code",
   "execution_count": 83,
   "metadata": {},
   "outputs": [
    {
     "name": "stdout",
     "output_type": "stream",
     "text": [
      "Training-set accuracy score: 0.9981\n"
     ]
    }
   ],
   "source": [
    "y_pred_train = model_lgbm.predict(x_train)\n",
    "print('Training-set accuracy score: {0:0.4f}'. format(accuracy_score(y_train, y_pred_train)))"
   ]
  },
  {
   "cell_type": "markdown",
   "metadata": {},
   "source": [
    "### Check for Overfitting"
   ]
  },
  {
   "cell_type": "code",
   "execution_count": 84,
   "metadata": {},
   "outputs": [
    {
     "name": "stdout",
     "output_type": "stream",
     "text": [
      "Training set score: 0.9981\n",
      "Test set score: 0.3597\n"
     ]
    }
   ],
   "source": [
    "# print the scores on training and test set\n",
    "\n",
    "print('Training set score: {:.4f}'.format(model_lgbm.score(x_train, y_train)))\n",
    "\n",
    "print('Test set score: {:.4f}'.format(model_lgbm.score(x_test, y_test)))"
   ]
  },
  {
   "cell_type": "code",
   "execution_count": 85,
   "metadata": {},
   "outputs": [
    {
     "name": "stdout",
     "output_type": "stream",
     "text": [
      "Validation set score: 0.3888\n"
     ]
    }
   ],
   "source": [
    "print('Validation set score: {:.4f}'.format(model_lgbm.score(x_valid, y_valid)))"
   ]
  },
  {
   "cell_type": "markdown",
   "metadata": {},
   "source": [
    "## Random Forest"
   ]
  },
  {
   "cell_type": "code",
   "execution_count": 86,
   "metadata": {},
   "outputs": [
    {
     "name": "stdout",
     "output_type": "stream",
     "text": [
      "Accuracy Score - Random Forest:  0.3516778523489933\n"
     ]
    }
   ],
   "source": [
    "model_randomF = RandomForestClassifier(n_jobs=-1, random_state=0, n_estimators=15000)\n",
    "model_randomF.fit(x_train, y_train)\n",
    "predict_randomF = model_randomF.predict(x_test)\n",
    "\n",
    "print('Accuracy Score - Random Forest: ', accuracy_score(y_test, predict_randomF))"
   ]
  },
  {
   "cell_type": "code",
   "execution_count": 87,
   "metadata": {
    "scrolled": true
   },
   "outputs": [
    {
     "name": "stdout",
     "output_type": "stream",
     "text": [
      "              precision    recall  f1-score   support\n",
      "\n",
      "           0       0.34      0.31      0.32       250\n",
      "           1       0.34      0.34      0.34       242\n",
      "           2       0.38      0.40      0.39       253\n",
      "\n",
      "    accuracy                           0.35       745\n",
      "   macro avg       0.35      0.35      0.35       745\n",
      "weighted avg       0.35      0.35      0.35       745\n",
      "\n"
     ]
    }
   ],
   "source": [
    "print(classification_report(y_test, predict_randomF))"
   ]
  },
  {
   "cell_type": "code",
   "execution_count": 88,
   "metadata": {},
   "outputs": [
    {
     "data": {
      "text/plain": [
       "array([[ 77,  88,  85],\n",
       "       [ 75,  83,  84],\n",
       "       [ 75,  76, 102]], dtype=int64)"
      ]
     },
     "execution_count": 88,
     "metadata": {},
     "output_type": "execute_result"
    }
   ],
   "source": [
    "from sklearn.metrics import confusion_matrix\n",
    "confusion_matrix = confusion_matrix(y_test, predict_randomF)\n",
    "confusion_matrix"
   ]
  },
  {
   "cell_type": "code",
   "execution_count": 89,
   "metadata": {},
   "outputs": [
    {
     "data": {
      "text/plain": [
       "<AxesSubplot:>"
      ]
     },
     "execution_count": 89,
     "metadata": {},
     "output_type": "execute_result"
    },
    {
     "data": {
      "image/png": "[encoded data removed]",
      "text/plain": [
       "<Figure size 432x288 with 2 Axes>"
      ]
     },
     "metadata": {
      "needs_background": "light"
     },
     "output_type": "display_data"
    }
   ],
   "source": [
    "# visualize confusion matrix with seaborn heatmap\n",
    "cm_matrix = pd.DataFrame(data=confusion_matrix,\n",
    "                        columns=['HOLD_R', 'SELL_R', 'BUY_R'], \n",
    "                        index=['HOLD_P', 'SELL_P', 'BUY_P'])\n",
    "\n",
    "sns.heatmap(cm_matrix, annot=True, fmt='d', cmap='YlGnBu')"
   ]
  },
  {
   "cell_type": "markdown",
   "metadata": {},
   "source": [
    "### Compare train and test set accuracy"
   ]
  },
  {
   "cell_type": "code",
   "execution_count": 90,
   "metadata": {},
   "outputs": [
    {
     "name": "stdout",
     "output_type": "stream",
     "text": [
      "Training-set accuracy score: 1.0000\n"
     ]
    }
   ],
   "source": [
    "y_pred_train = model_randomF.predict(x_train)\n",
    "print('Training-set accuracy score: {0:0.4f}'. format(accuracy_score(y_train, y_pred_train)))"
   ]
  },
  {
   "cell_type": "markdown",
   "metadata": {},
   "source": [
    "### Check for Overfitting"
   ]
  },
  {
   "cell_type": "code",
   "execution_count": 91,
   "metadata": {},
   "outputs": [
    {
     "name": "stdout",
     "output_type": "stream",
     "text": [
      "Training set score: 1.0000\n",
      "Test set score: 0.3517\n"
     ]
    }
   ],
   "source": [
    "# print the scores on training and test set\n",
    "\n",
    "print('Training set score: {:.4f}'.format(model_randomF.score(x_train, y_train)))\n",
    "\n",
    "print('Test set score: {:.4f}'.format(model_randomF.score(x_test, y_test)))"
   ]
  },
  {
   "cell_type": "code",
   "execution_count": 92,
   "metadata": {},
   "outputs": [
    {
     "name": "stdout",
     "output_type": "stream",
     "text": [
      "Validation set score: 0.4005\n"
     ]
    }
   ],
   "source": [
    "print('Validation set score: {:.4f}'.format(model_randomF.score(x_valid, y_valid)))"
   ]
  },
  {
   "cell_type": "markdown",
   "metadata": {},
   "source": [
    "# Deep Learning"
   ]
  },
  {
   "cell_type": "code",
   "execution_count": 128,
   "metadata": {},
   "outputs": [
    {
     "name": "stdout",
     "output_type": "stream",
     "text": [
      "[[0. 0. 1.]\n",
      " [0. 1. 0.]\n",
      " [0. 0. 1.]\n",
      " [0. 1. 0.]\n",
      " [0. 1. 0.]\n",
      " [0. 0. 1.]\n",
      " [0. 0. 1.]\n",
      " [1. 0. 0.]\n",
      " [1. 0. 0.]\n",
      " [1. 0. 0.]]\n",
      "[2 1 2 1 1 2 2 0 0 0]\n"
     ]
    }
   ],
   "source": [
    "# Encoding categorical data\n",
    "from keras.utils import to_categorical\n",
    "from sklearn.preprocessing import LabelEncoder\n",
    "labelencoder_Y_1 = LabelEncoder()\n",
    "yy = labelencoder_Y_1.fit_transform(y_train)\n",
    "y_train2 = to_categorical(yy)\n",
    "\n",
    "labelencoder_Y_1 = LabelEncoder()\n",
    "yy = labelencoder_Y_1.fit_transform(y_test)\n",
    "y_test2 = to_categorical(yy)\n",
    "\n",
    "labelencoder_Y_1 = LabelEncoder()\n",
    "yy = labelencoder_Y_1.fit_transform(y_valid)\n",
    "y_valid2 = to_categorical(yy)\n",
    "\n",
    "print(y_valid2[10:20])\n",
    "print(y_valid[10:20])\n",
    "\n",
    "# BUY | SELL | HOLD"
   ]
  },
  {
   "cell_type": "code",
   "execution_count": 94,
   "metadata": {},
   "outputs": [],
   "source": [
    "# example of training a final classification model\n",
    "from keras.models import Sequential, load_model\n",
    "from core.utils import Timer\n",
    "from keras.layers import Dense, Dropout, LSTM, GRU\n",
    "from keras.callbacks import EarlyStopping, ModelCheckpoint\n",
    "from keras.optimizers import SGD, Adam\n",
    "dim = x_train.shape[1]"
   ]
  },
  {
   "cell_type": "markdown",
   "metadata": {},
   "source": [
    "## DNN"
   ]
  },
  {
   "cell_type": "code",
   "execution_count": 95,
   "metadata": {},
   "outputs": [
    {
     "name": "stdout",
     "output_type": "stream",
     "text": [
      "[model] Model Compiled\n",
      "Model: \"sequential_5\"\n",
      "_________________________________________________________________\n",
      "Layer (type)                 Output Shape              Param #   \n",
      "=================================================================\n",
      "dense_9 (Dense)              (None, 100)               5900      \n",
      "_________________________________________________________________\n",
      "dropout_35 (Dropout)         (None, 100)               0         \n",
      "_________________________________________________________________\n",
      "dense_10 (Dense)             (None, 75)                7575      \n",
      "_________________________________________________________________\n",
      "dropout_36 (Dropout)         (None, 75)                0         \n",
      "_________________________________________________________________\n",
      "dense_11 (Dense)             (None, 50)                3800      \n",
      "_________________________________________________________________\n",
      "dropout_37 (Dropout)         (None, 50)                0         \n",
      "_________________________________________________________________\n",
      "dense_12 (Dense)             (None, 25)                1275      \n",
      "_________________________________________________________________\n",
      "dropout_38 (Dropout)         (None, 25)                0         \n",
      "_________________________________________________________________\n",
      "dense_13 (Dense)             (None, 3)                 78        \n",
      "=================================================================\n",
      "Total params: 18,628\n",
      "Trainable params: 18,628\n",
      "Non-trainable params: 0\n",
      "_________________________________________________________________\n",
      "None\n",
      "Time taken: 0:00:01.030481\n"
     ]
    }
   ],
   "source": [
    "# define and fit the final model\n",
    "timer = Timer()\n",
    "timer.start()\n",
    "\n",
    "model_dnn = Sequential()\n",
    "\n",
    "model_dnn.add(Dense(100, input_dim=dim, activation='relu'))\n",
    "model_dnn.add(Dropout(0.2))\n",
    "model_dnn.add(Dense(75, activation='relu'))\n",
    "model_dnn.add(Dropout(0.4))\n",
    "model_dnn.add(Dense(50, activation='relu'))\n",
    "model_dnn.add(Dropout(0.5))\n",
    "model_dnn.add(Dense(25, activation='relu'))\n",
    "model_dnn.add(Dropout(0.2))\n",
    "model_dnn.add(Dense(3, activation='softmax'))\n",
    "\n",
    "model_dnn.compile(loss='categorical_crossentropy', optimizer='adam', metrics=['accuracy'])\n",
    "\n",
    "print('[model] Model Compiled')\n",
    "print(model_dnn.summary())\n",
    "timer.stop()\n"
   ]
  },
  {
   "cell_type": "code",
   "execution_count": 97,
   "metadata": {},
   "outputs": [
    {
     "name": "stdout",
     "output_type": "stream",
     "text": [
      "[Model] Training Started\n",
      "Train on 6721 samples, validate on 2145 samples\n",
      "Epoch 1/100\n",
      "6721/6721 [==============================] - 12s 2ms/step - loss: 1.1164 - accuracy: 0.3428 - val_loss: 1.0879 - val_accuracy: 0.4023cy: 0.\n",
      "Epoch 2/100\n",
      "6721/6721 [==============================] - 6s 952us/step - loss: 1.0954 - accuracy: 0.3617 - val_loss: 1.0877 - val_accuracy: 0.3916TA: 5s - loss: 1.1045 - accuracy: 0.34 - ETA: 5s - loss: 1.1051 - accuracy:  - ETA: 5s - loss: 1.1053 - accu - - ETA: 3s - - ETA: 0s - loss: 1.0968 - accuracy - ETA: 0s - loss: 1.0964 - accura\n",
      "Epoch 3/100\n",
      "6721/6721 [==============================] - 6s 955us/step - loss: 1.0890 - accuracy: 0.3717 - val_loss: 1.0819 - val_accuracy: 0.3953s: 1.0907 - accuracy:  -\n",
      "Epoch 4/100\n",
      "6721/6721 [==============================] - 6s 927us/step - loss: 1.0860 - accuracy: 0.3807 - val_loss: 1.0798 - val_accuracy: 0.3823\n",
      "Epoch 5/100\n",
      "6721/6721 [==============================] - 7s 1ms/step - loss: 1.0825 - accuracy: 0.3854 - val_loss: 1.0816 - val_accuracy: 0.4014.0809 - accuracy:  - ETA: 3s - loss: 1.0829 -  - ETA: 3s - loss: 1.0815 - accuracy: 0. - ETA: 3s - loss: 1.0806 - ac - ETA: 3s - loss: 1.0792 - accu - ETA: 2s - loss: 1.0792 - accuracy: 0.38 - ETA: 2s - loss: - ETA: 1s - loss: 1.0783 -  - ETA: 1s\n",
      "Epoch 6/100\n",
      "6721/6721 [==============================] - 6s 938us/step - loss: 1.0837 - accuracy: 0.3888 - val_loss: 1.0846 - val_accuracy: 0.4065\n",
      "Epoch 7/100\n",
      "6721/6721 [==============================] - 6s 934us/step - loss: 1.0788 - accuracy: 0.3868 - val_loss: 1.0796 - val_accuracy: 0.4037 - loss: 1.0786 - accuracy - ETA: 0s - loss: 1.078\n",
      "Epoch 8/100\n",
      "6721/6721 [==============================] - 6s 902us/step - loss: 1.0789 - accuracy: 0.3925 - val_loss: 1.0830 - val_accuracy: 0.3977\n",
      "Epoch 9/100\n",
      "6721/6721 [==============================] - 7s 1ms/step - loss: 1.0756 - accuracy: 0.3995 - val_loss: 1.0755 - val_accuracy: 0.39116s - loss: 1.0721 - accuracy: 0. - ETA: 6s - loss: 1.0646 - accuracy:  - ETA: 7s - loss: 1.0649 - accuracy: 0.41 - ETA:  - ETA: 5s - los - ETA: 4s - loss: 1.0749 - accura - ETA\n",
      "Epoch 10/100\n",
      "6721/6721 [==============================] - 7s 1ms/step - loss: 1.0787 - accuracy: 0.3967 - val_loss: 1.0816 - val_accuracy: 0.4140accu\n",
      "Epoch 11/100\n",
      "6721/6721 [==============================] - 6s 943us/step - loss: 1.0752 - accuracy: 0.3919 - val_loss: 1.0739 - val_accuracy: 0.3995TA: 3s - loss: 1.0765 - accura - ETA: 0s - loss: 1.0749 - accu\n",
      "Epoch 12/100\n",
      "6721/6721 [==============================] - 7s 991us/step - loss: 1.0733 - accuracy: 0.4007 - val_loss: 1.0744 - val_accuracy: 0.4061\n",
      "Epoch 13/100\n",
      "6721/6721 [==============================] - 7s 1ms/step - loss: 1.0755 - accuracy: 0.4056 - val_loss: 1.0784 - val_accuracy: 0.4075.0751 - accuracy - ETA: 7s - loss: 1.0725 - accuracy: 0.39 - ETA: 7s - loss: 1.0755 - accuracy: 0.38 - ETA: 7s - l -\n",
      "Epoch 14/100\n",
      "6721/6721 [==============================] - 6s 963us/step - loss: 1.0741 - accuracy: 0.4022 - val_loss: 1.0782 - val_accuracy: 0.4033\n",
      "Epoch 15/100\n",
      "6721/6721 [==============================] - 7s 981us/step - loss: 1.0723 - accuracy: 0.4022 - val_loss: 1.0767 - val_accuracy: 0.3967curacy - ETA: 3s - loss: 1.0740 - accu - ETA: 3s - loss: 1.0736 - accuracy: 0.40 - ETA: 3s - loss: 1.0735 - accu - ETA: 0s - loss: 1.0724 - accura\n",
      "Epoch 16/100\n",
      "6721/6721 [==============================] - 8s 1ms/step - loss: 1.0718 - accuracy: 0.3996 - val_loss: 1.0757 - val_accuracy: 0.4014s: 1.0648 - accuracy - - ETA: 5s - loss: 1.0692 - accu - ETA: 4s - loss: 1.0700 - accuracy:  - ETA: 4s - loss: 1.0699 -  - ETA: 4s - loss: 1.0670 - accuracy: 0.40 - ETA: 4s - loss: 1.0674 - accuracy:  - ETA: 4s - loss: 1 - ETA: 1s - loss: 1.0719 - accuracy: 0.39 - ETA: 1s - l\n",
      "Epoch 17/100\n",
      "6721/6721 [==============================] - 9s 1ms/step - loss: 1.0682 - accuracy: 0.4102 - val_loss: 1.0742 - val_accuracy: 0.4089curacy:  - ETA: 3s - loss: 1.0 - ETA: 3s - loss: 1.0656 -  - ETA: 3s - loss: 1.0638 - accu - ETA: 3s - - ETA: 2s - loss: 1 - ETA: 1s - los - ETA\n",
      "Epoch 18/100\n",
      "6721/6721 [==============================] - 7s 1ms/step - loss: 1.0716 - accuracy: 0.4020 - val_loss: 1.0744 - val_accuracy: 0.4009curacy: 0.39 - ETA: \n",
      "Epoch 19/100\n",
      "6721/6721 [==============================] - 6s 827us/step - loss: 1.0725 - accuracy: 0.4072 - val_loss: 1.0761 - val_accuracy: 0.4056\n",
      "Epoch 20/100\n",
      "6721/6721 [==============================] - 6s 822us/step - loss: 1.0690 - accuracy: 0.4099 - val_loss: 1.0735 - val_accuracy: 0.4019\n",
      "Epoch 21/100\n",
      "6721/6721 [==============================] - 10s 2ms/step - loss: 1.0682 - accuracy: 0.4112 - val_loss: 1.0769 - val_accuracy: 0.4112ss: 1.0682 - accuracy: 0.41\n",
      "Epoch 22/100\n",
      "6721/6721 [==============================] - 7s 1ms/step - loss: 1.0701 - accuracy: 0.4098 - val_loss: 1.0765 - val_accuracy: 0.4000oss: 1.0578 - accuracy - ETA: 6s - loss: 1.0602 - ac - ETA: 6s - loss: 1.0644 - ac - ETA: 6s - loss:\n",
      "Epoch 23/100\n",
      "6721/6721 [==============================] - 6s 879us/step - loss: 1.0707 - accuracy: 0.4090 - val_loss: 1.0773 - val_accuracy: 0.4005\n",
      "Epoch 24/100\n",
      "6721/6721 [==============================] - 5s 754us/step - loss: 1.0679 - accuracy: 0.4165 - val_loss: 1.0767 - val_accuracy: 0.4028\n",
      "Epoch 25/100\n",
      "6721/6721 [==============================] - 8s 1ms/step - loss: 1.0633 - accuracy: 0.4200 - val_loss: 1.0735 - val_accuracy: 0.40282 - accuracy: 0. - ETA:  - ETA: 2s - loss: 1.0627 - accuracy: 0. - ETA: 2s - loss: 1.0624 - accuracy:  - ETA: 1s - loss: 1.0623 -  - ETA: 1s - l - ETA: 0s - loss: 1.0636 - accuracy: 0.\n",
      "Epoch 26/100\n",
      "6721/6721 [==============================] - 7s 1ms/step - loss: 1.0662 - accuracy: 0.4243 - val_loss: 1.0752 - val_accuracy: 0.4131cy: 0. - ETA: 0s - loss: 1.0653 - accuracy: 0.42 - ETA: 0s - loss:\n",
      "Epoch 27/100\n",
      "6721/6721 [==============================] - 6s 900us/step - loss: 1.0656 - accuracy: 0.4203 - val_loss: 1.0735 - val_accuracy: 0.4172.0668 - accuracy:  - ETA: 2s - loss: 1.0668 - accura - E - ETA: 0s - loss: 1.0648 - accura\n",
      "Epoch 28/100\n",
      "6721/6721 [==============================] - 6s 942us/step - loss: 1.0606 - accuracy: 0.4282 - val_loss: 1.0778 - val_accuracy: 0.4121\n",
      "Epoch 29/100\n",
      "6721/6721 [==============================] - 7s 979us/step - loss: 1.0642 - accuracy: 0.4229 - val_loss: 1.0789 - val_accuracy: 0.3949 - loss: 1.0627 - accuracy: 0. - ETA: 0s - los\n",
      "Epoch 30/100\n",
      "6721/6721 [==============================] - 11s 2ms/step - loss: 1.0603 - accuracy: 0.4233 - val_loss: 1.0761 - val_accuracy: 0.4019acy: 0. - E - ETA: 2s - loss: 1 - ETA: 2s - loss: 1.063 - ETA: 2s - loss: 1.062 - ETA: 2s - loss: 1.0630 - accuracy:  - ETA: 2s - loss: 1.0627 - accu - ETA: 2s - loss: 1.062 - ETA: 1s - loss: 1.0613 - accuracy:  - ETA: 1s - loss: 1.0619 - accuracy:  - ETA: 1s - loss: 1.0620 - ac - ETA: 1s - loss: 1.0608 - accuracy: 0. - ETA: 1s - loss: 1.0602 - accuracy:  - ETA: 1s - loss: 1.0606 - accuracy:  - ETA: 0s - loss: 1.0609 - accu - ETA: 0s - loss: 1.0611 - accuracy: 0.42 - ETA: 0s - loss: 1.0608 - accuracy: 0. - ETA: 0s - loss: 1.0610  - ETA: 0s - loss: 1.0604 - accuracy: 0.42 - ETA: 0s - loss: 1.0602 - accuracy: 0.42\n",
      "Epoch 31/100\n",
      "6721/6721 [==============================] - 11s 2ms/step - loss: 1.0642 - accuracy: 0.4206 - val_loss: 1.0775 - val_accuracy: 0.4126 - loss: 1.0751 - accuracy: 0. - ETA: 14s - loss: 1.0775 - accuracy: 0.396 - ETA: 14s - loss: 1.0755 - accuracy: 0.401 - ETA: 14s - loss: 1.0767 - accurac - ETA: 14s - loss: 1.0775 - accuracy: 0.40 - ETA: 14s - loss: 1.0754 - accu - ETA: 13s - loss: 1.0708 - ac - ETA: 11s - loss: 1.0681 - accuracy: 0.41 - ETA: 11s - loss: 1.0659 - accur - ETA: 10s - loss: 1.0685 - accuracy: 0.4 - ETA: 10s - ETA: 5s - loss: 1.0646 - accu - ETA: 4s - loss: 1.0657 - \n",
      "Epoch 32/100\n",
      "6721/6721 [==============================] - 7s 989us/step - loss: 1.0601 - accuracy: 0.4234 - val_loss: 1.0782 - val_accuracy: 0.4065 loss: 1.0592 \n",
      "Epoch 33/100\n",
      "6721/6721 [==============================] - 6s 859us/step - loss: 1.0590 - accuracy: 0.4214 - val_loss: 1.0746 - val_accuracy: 0.4098: 1s - loss: 1.0600 - accuracy: 0.41 - ETA: 1s - loss: 1.059 - ETA: 0s - loss: 1.0 - ETA: 0s - loss: 1.0593 - accura\n",
      "Epoch 34/100\n"
     ]
    },
    {
     "name": "stdout",
     "output_type": "stream",
     "text": [
      "6721/6721 [==============================] - 5s 755us/step - loss: 1.0607 - accuracy: 0.4279 - val_loss: 1.0744 - val_accuracy: 0.41171s - loss: 1.0595 -  - ETA: 1s - loss: 1.0608 - accuracy:  - ETA: 1s - loss: 1.0601 - accura - ETA: 1s - loss: 1 - ETA: 0s - loss: 1.0602 - accu - ETA: 0s - loss: 1.0609 - accuracy: 0. - ETA: 0s - loss: 1.0606 - accuracy\n",
      "Epoch 35/100\n",
      "6721/6721 [==============================] - 8s 1ms/step - loss: 1.0565 - accuracy: 0.4362 - val_loss: 1.0761 - val_accuracy: 0.4093ac - - ETA: 1s - loss: 1.0 - ETA: 0s - loss: 1.0551  - ETA: 0s - loss: 1.056\n",
      "Epoch 36/100\n",
      "6721/6721 [==============================] - 6s 899us/step - loss: 1.0567 - accuracy: 0.4355 - val_loss: 1.0793 - val_accuracy: 0.4000\n",
      "Epoch 37/100\n",
      "6721/6721 [==============================] - 8s 1ms/step - loss: 1.0575 - accuracy: 0.4312 - val_loss: 1.0763 - val_accuracy: 0.4117s: 1.0581 - accura - ETA: 2s - loss: - ETA: 1s - loss: 1.0574 - accuracy:  - ETA: 1s - loss: 1.058 - ETA: 0s - loss: 1.056\n",
      "Epoch 38/100\n",
      "6721/6721 [==============================] - 6s 841us/step - loss: 1.0494 - accuracy: 0.4431 - val_loss: 1.0758 - val_accuracy: 0.4084 loss: 1.0500 - accuracy:  - ETA: 0s - loss: 1.0501 - accuracy: 0.44 - ETA: 0s - loss: 1.0499 - accuracy\n",
      "Epoch 39/100\n",
      "6721/6721 [==============================] - 5s 746us/step - loss: 1.0551 - accuracy: 0.4352 - val_loss: 1.0768 - val_accuracy: 0.4014\n",
      "Epoch 40/100\n",
      "6721/6721 [==============================] - 6s 899us/step - loss: 1.0546 - accuracy: 0.4291 - val_loss: 1.0780 - val_accuracy: 0.40982s - loss: 1.0609 - accuracy:  - ETA - ETA: 1s - loss: 1.0573  - ETA: 1s - loss: 1.0556 - accuracy:  - ETA: 0s - loss: 1.0557 - accuracy: 0. - ETA: 0s - loss: - ETA: 0s - loss: 1.0547 - accuracy: 0.42\n",
      "Epoch 41/100\n",
      "6721/6721 [==============================] - 6s 940us/step - loss: 1.0488 - accuracy: 0.4382 - val_loss: 1.0788 - val_accuracy: 0.4061: 2s - loss: 1.0486 - accura - ETA: 2s - loss: 1.0486 - ac - ETA: 1s - loss: 1.0471 - accuracy: 0. - ETA: 1s - los - ETA: 0s - loss: 1.0464 - accuracy: 0.43 - ETA: 0s - loss: 1.0460 -  - ETA: 0s - loss: 1.046\n",
      "Epoch 42/100\n",
      "6721/6721 [==============================] - 6s 943us/step - loss: 1.0507 - accuracy: 0.4349 - val_loss: 1.0825 - val_accuracy: 0.3977\n",
      "Epoch 43/100\n",
      "6721/6721 [==============================] - 6s 820us/step - loss: 1.0479 - accuracy: 0.4404 - val_loss: 1.0825 - val_accuracy: 0.40657 - accura\n",
      "Epoch 44/100\n",
      "6721/6721 [==============================] - 5s 757us/step - loss: 1.0487 - accuracy: 0.4470 - val_loss: 1.0808 - val_accuracy: 0.39818 - accuracy: 0.\n",
      "Epoch 45/100\n",
      "6721/6721 [==============================] - 5s 732us/step - loss: 1.0460 - accuracy: 0.4422 - val_loss: 1.0821 - val_accuracy: 0.4000 loss: 1.0458 -  - ETA: 0s - loss: 1.0450 - accu\n",
      "Epoch 46/100\n",
      "6721/6721 [==============================] - 7s 1ms/step - loss: 1.0496 - accuracy: 0.4356 - val_loss: 1.0820 - val_accuracy: 0.4061 ETA: 2s - ETA: 1s - loss: 1.0486 - ac\n",
      "Epoch 47/100\n",
      "6721/6721 [==============================] - 7s 1ms/step - loss: 1.0448 - accuracy: 0.4455 - val_loss: 1.0827 - val_accuracy: 0.4014.0530 - accuracy: 0.43 - ETA: 4s - loss: 1.0526 - ac - ETA: 4s - ETA: 0s - loss: 1.0458 - accuracy: 0.44 - ETA: 0s - loss: 1.0459 - ac - ETA: 0s - loss: 1.0461 - ac\n",
      "Epoch 48/100\n",
      "6721/6721 [==============================] - 5s 735us/step - loss: 1.0461 - accuracy: 0.4465 - val_loss: 1.0815 - val_accuracy: 0.4089 ETA: 0s - loss:\n",
      "Epoch 49/100\n",
      "6721/6721 [==============================] - 5s 754us/step - loss: 1.0439 - accuracy: 0.4547 - val_loss: 1.0804 - val_accuracy: 0.408942 - ETA: 0s - loss: 1.0441 - accuracy: 0.\n",
      "Epoch 50/100\n",
      "6721/6721 [==============================] - 8s 1ms/step - loss: 1.0476 - accuracy: 0.4440 - val_loss: 1.0804 - val_accuracy: 0.3977 1\n",
      "Epoch 51/100\n",
      "6721/6721 [==============================] - 5s 726us/step - loss: 1.0431 - accuracy: 0.4508 - val_loss: 1.0844 - val_accuracy: 0.3907\n",
      "Epoch 52/100\n",
      "6721/6721 [==============================] - 5s 753us/step - loss: 1.0401 - accuracy: 0.4545 - val_loss: 1.0798 - val_accuracy: 0.4061\n",
      "Epoch 53/100\n",
      "6721/6721 [==============================] - 6s 929us/step - loss: 1.0448 - accuracy: 0.4434 - val_loss: 1.0870 - val_accuracy: 0.4005TA: 0s - loss: 1.0443 - ac\n",
      "Epoch 54/100\n",
      "6721/6721 [==============================] - 6s 831us/step - loss: 1.0432 - accuracy: 0.4528 - val_loss: 1.0825 - val_accuracy: 0.4075.042\n",
      "Epoch 55/100\n",
      "6721/6721 [==============================] - 6s 849us/step - loss: 1.0386 - accuracy: 0.4495 - val_loss: 1.0831 - val_accuracy: 0.4042 - - ETA: 3s - loss: 1.029 - ETA: 3s - loss: 1.0295 -  - ETA: 2s - loss: 1.0360 - accu - ETA: 2s - loss: - ETA:  - ETA: 0s - loss: 1\n",
      "Epoch 56/100\n",
      "6721/6721 [==============================] - 5s 765us/step - loss: 1.0380 - accuracy: 0.4514 - val_loss: 1.0845 - val_accuracy: 0.4084\n",
      "Epoch 57/100\n",
      "6721/6721 [==============================] - 5s 795us/step - loss: 1.0405 - accuracy: 0.4526 - val_loss: 1.0831 - val_accuracy: 0.4051\n",
      "Epoch 58/100\n",
      "6721/6721 [==============================] - 5s 737us/step - loss: 1.0396 - accuracy: 0.4493 - val_loss: 1.0837 - val_accuracy: 0.3958\n",
      "Epoch 59/100\n",
      "6721/6721 [==============================] - 5s 778us/step - loss: 1.0361 - accuracy: 0.4593 - val_loss: 1.0871 - val_accuracy: 0.4042 1.0342 - accura - ETA: 1s - loss: 1.0333 - accuracy: 0. - ETA: 1s - loss: 1.0338 -  - ETA: 0s - loss: 1.0368 - accu\n",
      "Epoch 60/100\n",
      "6721/6721 [==============================] - 5s 734us/step - loss: 1.0363 - accuracy: 0.4481 - val_loss: 1.0909 - val_accuracy: 0.3981\n",
      "Epoch 61/100\n",
      "6721/6721 [==============================] - 5s 739us/step - loss: 1.0333 - accuracy: 0.4617 - val_loss: 1.0849 - val_accuracy: 0.3897\n",
      "Epoch 62/100\n",
      "6721/6721 [==============================] - 5s 719us/step - loss: 1.0329 - accuracy: 0.4551 - val_loss: 1.0930 - val_accuracy: 0.3893\n",
      "Epoch 63/100\n",
      "6721/6721 [==============================] - 5s 731us/step - loss: 1.0320 - accuracy: 0.4664 - val_loss: 1.0845 - val_accuracy: 0.3963\n",
      "Epoch 64/100\n",
      "6721/6721 [==============================] - 11s 2ms/step - loss: 1.0321 - accuracy: 0.4593 - val_loss: 1.0884 - val_accuracy: 0.4019loss: - ETA: 2s - loss: 1.0292 -  - ETA: 1s - loss: 1.029 - ETA: 0s\n",
      "Epoch 65/100\n",
      "6721/6721 [==============================] - 10s 1ms/step - loss: 1.0299 - accuracy: 0.4601 - val_loss: 1.0875 - val_accuracy: 0.3902ETA: 3s - loss: 1.029 - ETA: 1s - loss: 1.0299 - accu - ETA\n",
      "Epoch 66/100\n",
      "6721/6721 [==============================] - 6s 953us/step - loss: 1.0259 - accuracy: 0.4641 - val_loss: 1.0886 - val_accuracy: 0.4051s: 1 - ETA: 7s - loss: 1.0363 - accuracy:  - ETA: 7s - loss: 1.0372 - accuracy: 0. - ETA: 6s - loss: 1.0 - ETA: 5s - loss: 1.0385 - accuracy:  - ETA: 2s - los - ETA: 1s - los\n",
      "Epoch 67/100\n",
      "6721/6721 [==============================] - 8s 1ms/step - loss: 1.0334 - accuracy: 0.4608 - val_loss: 1.0871 - val_accuracy: 0.4103\n",
      "Epoch 68/100\n",
      "6721/6721 [==============================] - 6s 838us/step - loss: 1.0273 - accuracy: 0.4648 - val_loss: 1.0894 - val_accuracy: 0.4023\n",
      "Epoch 69/100\n",
      "6721/6721 [==============================] - 5s 732us/step - loss: 1.0264 - accuracy: 0.4651 - val_loss: 1.0866 - val_accuracy: 0.4009 - ETA: 1s - loss: 1.0217 - accuracy - - ETA: 0s -\n",
      "Epoch 70/100\n",
      "6721/6721 [==============================] - 5s 776us/step - loss: 1.0237 - accuracy: 0.4681 - val_loss: 1.0884 - val_accuracy: 0.3846cy: 0.\n",
      "Epoch 71/100\n",
      "6721/6721 [==============================] - 4s 638us/step - loss: 1.0259 - accuracy: 0.4664 - val_loss: 1.0935 - val_accuracy: 0.4065\n",
      "Epoch 72/100\n",
      "6721/6721 [==============================] - 4s 662us/step - loss: 1.0300 - accuracy: 0.4685 - val_loss: 1.0893 - val_accuracy: 0.3972\n",
      "Epoch 73/100\n",
      "6721/6721 [==============================] - 5s 767us/step - loss: 1.0292 - accuracy: 0.4641 - val_loss: 1.0897 - val_accuracy: 0.4042 loss: 1.0291 - accuracy:  - ETA - ETA: 1s - loss: 1.0295 - accuracy: 0.46 - ETA: 1s - loss: 1.0294 - accuracy - ETA: 1s - loss: 1.0284 - accuracy - ETA: 0s - loss: 1.0280 - accuracy - ETA: 0s - loss:\n",
      "Epoch 74/100\n",
      "6721/6721 [==============================] - 4s 628us/step - loss: 1.0219 - accuracy: 0.4728 - val_loss: 1.0904 - val_accuracy: 0.3883\n",
      "Epoch 75/100\n"
     ]
    },
    {
     "name": "stdout",
     "output_type": "stream",
     "text": [
      "6721/6721 [==============================] - 4s 618us/step - loss: 1.0192 - accuracy: 0.4781 - val_loss: 1.0941 - val_accuracy: 0.3953\n",
      "Epoch 76/100\n",
      "6721/6721 [==============================] - 4s 521us/step - loss: 1.0179 - accuracy: 0.4746 - val_loss: 1.0974 - val_accuracy: 0.4023\n",
      "Epoch 77/100\n",
      "6721/6721 [==============================] - 4s 565us/step - loss: 1.0178 - accuracy: 0.4751 - val_loss: 1.0928 - val_accuracy: 0.3981\n",
      "Epoch 78/100\n",
      "6721/6721 [==============================] - 4s 557us/step - loss: 1.0223 - accuracy: 0.4700 - val_loss: 1.0955 - val_accuracy: 0.3995\n",
      "Epoch 79/100\n",
      "6721/6721 [==============================] - 4s 599us/step - loss: 1.0151 - accuracy: 0.4723 - val_loss: 1.0933 - val_accuracy: 0.3921\n",
      "Epoch 80/100\n",
      "6721/6721 [==============================] - 4s 632us/step - loss: 1.0151 - accuracy: 0.4809 - val_loss: 1.0963 - val_accuracy: 0.3963\n",
      "Epoch 81/100\n",
      "6721/6721 [==============================] - 4s 620us/step - loss: 1.0176 - accuracy: 0.4792 - val_loss: 1.0942 - val_accuracy: 0.3925\n",
      "Epoch 82/100\n",
      "6721/6721 [==============================] - 4s 560us/step - loss: 1.0172 - accuracy: 0.4755 - val_loss: 1.0978 - val_accuracy: 0.3963\n",
      "Epoch 83/100\n",
      "6721/6721 [==============================] - 3s 507us/step - loss: 1.0120 - accuracy: 0.4843 - val_loss: 1.0967 - val_accuracy: 0.3734\n",
      "Epoch 84/100\n",
      "6721/6721 [==============================] - 3s 506us/step - loss: 1.0164 - accuracy: 0.4775 - val_loss: 1.1022 - val_accuracy: 0.3935\n",
      "Epoch 85/100\n",
      "6721/6721 [==============================] - 4s 535us/step - loss: 1.0155 - accuracy: 0.4806 - val_loss: 1.0996 - val_accuracy: 0.3739\n",
      "Epoch 86/100\n",
      "6721/6721 [==============================] - 3s 518us/step - loss: 1.0101 - accuracy: 0.4800 - val_loss: 1.1076 - val_accuracy: 0.3879\n",
      "Epoch 87/100\n",
      "6721/6721 [==============================] - 4s 563us/step - loss: 1.0073 - accuracy: 0.4888 - val_loss: 1.1014 - val_accuracy: 0.3930\n",
      "Epoch 88/100\n",
      "6721/6721 [==============================] - 4s 663us/step - loss: 1.0007 - accuracy: 0.4825 - val_loss: 1.1182 - val_accuracy: 0.3869\n",
      "Epoch 89/100\n",
      "6721/6721 [==============================] - 4s 609us/step - loss: 1.0074 - accuracy: 0.4925 - val_loss: 1.1069 - val_accuracy: 0.3958\n",
      "Epoch 90/100\n",
      "6721/6721 [==============================] - 4s 528us/step - loss: 1.0064 - accuracy: 0.4807 - val_loss: 1.0998 - val_accuracy: 0.3874\n",
      "Epoch 91/100\n",
      "6721/6721 [==============================] - 4s 523us/step - loss: 1.0082 - accuracy: 0.4782 - val_loss: 1.1018 - val_accuracy: 0.3800\n",
      "Epoch 92/100\n",
      "6721/6721 [==============================] - 4s 552us/step - loss: 1.0066 - accuracy: 0.4837 - val_loss: 1.1153 - val_accuracy: 0.3939\n",
      "Epoch 93/100\n",
      "6721/6721 [==============================] - 3s 513us/step - loss: 1.0128 - accuracy: 0.4810 - val_loss: 1.1123 - val_accuracy: 0.3911\n",
      "Epoch 94/100\n",
      "6721/6721 [==============================] - 4s 534us/step - loss: 1.0036 - accuracy: 0.4870 - val_loss: 1.1069 - val_accuracy: 0.3874\n",
      "Epoch 95/100\n",
      "6721/6721 [==============================] - 4s 627us/step - loss: 1.0013 - accuracy: 0.4900 - val_loss: 1.1019 - val_accuracy: 0.3874\n",
      "Epoch 96/100\n",
      "6721/6721 [==============================] - 4s 558us/step - loss: 1.0075 - accuracy: 0.4856 - val_loss: 1.1063 - val_accuracy: 0.3869\n",
      "Epoch 97/100\n",
      "6721/6721 [==============================] - 3s 510us/step - loss: 1.0065 - accuracy: 0.4880 - val_loss: 1.1123 - val_accuracy: 0.3762\n",
      "Epoch 98/100\n",
      "6721/6721 [==============================] - 3s 520us/step - loss: 1.0008 - accuracy: 0.4888 - val_loss: 1.1049 - val_accuracy: 0.3874\n",
      "Epoch 99/100\n",
      "6721/6721 [==============================] - 3s 513us/step - loss: 1.0028 - accuracy: 0.4870 - val_loss: 1.1158 - val_accuracy: 0.3832\n",
      "Epoch 100/100\n",
      "6721/6721 [==============================] - 3s 514us/step - loss: 1.0026 - accuracy: 0.4895 - val_loss: 1.1135 - val_accuracy: 0.3874\n",
      "[Model] Training Completed.\n",
      "Model saved as saved_models\\prototipo_ciclo1_multiclass_jupyter.h5\n",
      "Time taken: 0:10:05.200735\n"
     ]
    }
   ],
   "source": [
    "timer = Timer()\n",
    "timer.start()\n",
    "print('[Model] Training Started')\n",
    "\n",
    "save_dir=configs['model']['save_dir']\n",
    "my_model=configs['model']['model_name']\n",
    "save_fname = os.path.join(save_dir, '%s.h5' % my_model)\n",
    "\n",
    "batch_size=configs['training']['batch_size']\n",
    "\n",
    "callbacks = [ ModelCheckpoint(filepath=save_fname, monitor='loss', save_best_only=True)]\n",
    "\n",
    "H = model_dnn.fit( x_train, y_train2, validation_data=(x_valid, y_valid2), epochs=100, \n",
    "               callbacks=callbacks, workers=1 )\n",
    "\n",
    "model_dnn.save(save_fname)\n",
    "\n",
    "print('[Model] Training Completed.')\n",
    "print('Model saved as %s' % save_fname)\n",
    "\n",
    "timer.stop()"
   ]
  },
  {
   "cell_type": "code",
   "execution_count": 136,
   "metadata": {},
   "outputs": [
    {
     "data": {
      "text/plain": [
       "array([[0.347215  , 0.25095665, 0.40182838],\n",
       "       [0.38187173, 0.18703082, 0.43109745],\n",
       "       [0.40597057, 0.0765046 , 0.51752484],\n",
       "       ...,\n",
       "       [0.42048   , 0.2705648 , 0.3089552 ],\n",
       "       [0.3994276 , 0.3279448 , 0.27262765],\n",
       "       [0.42214173, 0.25938597, 0.31847227]], dtype=float32)"
      ]
     },
     "execution_count": 136,
     "metadata": {},
     "output_type": "execute_result"
    }
   ],
   "source": [
    "# new instances where we do not know the answer\n",
    "y_pred = model_dnn.predict(x_test) \n",
    "y_pred"
   ]
  },
  {
   "cell_type": "code",
   "execution_count": 137,
   "metadata": {},
   "outputs": [
    {
     "name": "stdout",
     "output_type": "stream",
     "text": [
      "dict_keys(['val_loss', 'val_accuracy', 'loss', 'accuracy'])\n"
     ]
    },
    {
     "data": {
      "image/png": "[encoded data removed]",
      "text/plain": [
       "<Figure size 432x288 with 1 Axes>"
      ]
     },
     "metadata": {
      "needs_background": "light"
     },
     "output_type": "display_data"
    },
    {
     "data": {
      "image/png": "[encoded data removed]",
      "text/plain": [
       "<Figure size 432x288 with 1 Axes>"
      ]
     },
     "metadata": {
      "needs_background": "light"
     },
     "output_type": "display_data"
    }
   ],
   "source": [
    "# list all data in history       \n",
    "print(H.history.keys())\n",
    "# summarize history for accuracy\n",
    "plt.plot(H.history['accuracy'])\n",
    "plt.plot(H.history['val_accuracy'])\n",
    "plt.title('model accuracy')\n",
    "plt.ylabel('accuracy')\n",
    "plt.xlabel('epoch')\n",
    "plt.legend(['accuracy', 'val_accuracy'], loc='upper left')\n",
    "fig_path = 'accuracy_history.png'\n",
    "plt.savefig(fig_path)     \n",
    "plt.show()\n",
    "\n",
    "# summarize history for loss\n",
    "plt.plot(H.history['loss'])\n",
    "plt.plot(H.history['val_loss'])\n",
    "plt.title('model loss')\n",
    "plt.ylabel('loss')\n",
    "plt.xlabel('epoch')\n",
    "plt.legend(['loss', 'val_loss'], loc='upper left')\n",
    "fig_path = 'loss_history.png'\n",
    "plt.savefig(fig_path) \n",
    "plt.show()"
   ]
  },
  {
   "cell_type": "code",
   "execution_count": 138,
   "metadata": {},
   "outputs": [],
   "source": [
    "# BUY | SELL | HOLD\n",
    "\n",
    "labels = ['BUY', 'SELL', 'HOLD'] \n",
    "\n",
    "pred = []\n",
    "for i in y_pred:\n",
    "    pred.append(np.argmax(i))\n",
    "pred_array = np.array(pred)       \n",
    "\n",
    "real = []\n",
    "for i in y_test2:\n",
    "    real.append(np.argmax(i))\n",
    "real_array = np.array(real)    "
   ]
  },
  {
   "cell_type": "code",
   "execution_count": 139,
   "metadata": {},
   "outputs": [
    {
     "name": "stdout",
     "output_type": "stream",
     "text": [
      "[[0.3601146  0.22267923 0.4172061 ]\n",
      " [0.3891599  0.22041884 0.39042124]\n",
      " [0.34004256 0.3184926  0.34146485]\n",
      " [0.37938052 0.12698558 0.4936339 ]\n",
      " [0.2968577  0.18638858 0.5167537 ]\n",
      " [0.26752418 0.250786   0.4816898 ]\n",
      " [0.33032152 0.21466841 0.45501006]\n",
      " [0.27354038 0.2889643  0.4374953 ]\n",
      " [0.27639085 0.36053044 0.36307868]\n",
      " [0.2748281  0.3602055  0.36496642]]\n",
      "[[1. 0. 0.]\n",
      " [1. 0. 0.]\n",
      " [0. 0. 1.]\n",
      " [0. 0. 1.]\n",
      " [1. 0. 0.]\n",
      " [1. 0. 0.]\n",
      " [1. 0. 0.]\n",
      " [1. 0. 0.]\n",
      " [1. 0. 0.]\n",
      " [1. 0. 0.]]\n"
     ]
    }
   ],
   "source": [
    "print(y_pred[10:20])\n",
    "print(y_test2[10:20])"
   ]
  },
  {
   "cell_type": "code",
   "execution_count": 140,
   "metadata": {},
   "outputs": [
    {
     "name": "stdout",
     "output_type": "stream",
     "text": [
      "[2 2 2 2 2 2 2 2 2 2]\n",
      "[0 0 2 2 0 0 0 0 0 0]\n"
     ]
    }
   ],
   "source": [
    "print(pred_array[10:20])\n",
    "print(real_array[10:20])"
   ]
  },
  {
   "cell_type": "code",
   "execution_count": 141,
   "metadata": {},
   "outputs": [
    {
     "name": "stdout",
     "output_type": "stream",
     "text": [
      "Accuracy Score - DL:  0.374496644295302\n"
     ]
    }
   ],
   "source": [
    "print('Accuracy Score - DL: ', accuracy_score(real_array, pred_array))"
   ]
  },
  {
   "cell_type": "code",
   "execution_count": 142,
   "metadata": {},
   "outputs": [
    {
     "name": "stdout",
     "output_type": "stream",
     "text": [
      "              precision    recall  f1-score   support\n",
      "\n",
      "           0       0.36      0.45      0.40       250\n",
      "           1       0.40      0.32      0.35       242\n",
      "           2       0.38      0.36      0.37       253\n",
      "\n",
      "    accuracy                           0.37       745\n",
      "   macro avg       0.38      0.37      0.37       745\n",
      "weighted avg       0.38      0.37      0.37       745\n",
      "\n"
     ]
    }
   ],
   "source": [
    "print(classification_report(real_array, pred_array))"
   ]
  },
  {
   "cell_type": "code",
   "execution_count": 143,
   "metadata": {},
   "outputs": [
    {
     "data": {
      "text/plain": [
       "array([[112,  55,  83],\n",
       "       [ 98,  77,  67],\n",
       "       [101,  62,  90]], dtype=int64)"
      ]
     },
     "execution_count": 143,
     "metadata": {},
     "output_type": "execute_result"
    }
   ],
   "source": [
    "from sklearn.metrics import confusion_matrix\n",
    "confusion_matrix = confusion_matrix(real_array, pred_array)\n",
    "confusion_matrix"
   ]
  },
  {
   "cell_type": "code",
   "execution_count": 144,
   "metadata": {},
   "outputs": [
    {
     "data": {
      "text/plain": [
       "<AxesSubplot:>"
      ]
     },
     "execution_count": 144,
     "metadata": {},
     "output_type": "execute_result"
    },
    {
     "data": {
      "image/png": "[encoded data removed]",
      "text/plain": [
       "<Figure size 432x288 with 2 Axes>"
      ]
     },
     "metadata": {
      "needs_background": "light"
     },
     "output_type": "display_data"
    }
   ],
   "source": [
    "# visualize confusion matrix with seaborn heatmap\n",
    "cm_matrix = pd.DataFrame(data=confusion_matrix,\n",
    "                        columns=['BUY_R', 'SELL_R', 'HOLD_R'], \n",
    "                        index=['BUY_P', 'SELL_P', 'HOLD_P'])\n",
    "\n",
    "sns.heatmap(cm_matrix, annot=True, fmt='d', cmap='YlGnBu')"
   ]
  },
  {
   "cell_type": "code",
   "execution_count": 107,
   "metadata": {},
   "outputs": [
    {
     "name": "stdout",
     "output_type": "stream",
     "text": [
      "Training-set accuracy score: 0.5355\n"
     ]
    }
   ],
   "source": [
    "y_pred_train = model_dnn.predict(x_train)\n",
    "\n",
    "labels = ['BUY', 'SELL', 'HOLD'] \n",
    "\n",
    "pred = []\n",
    "for i in y_pred_train:\n",
    "    pred.append(np.argmax(i))\n",
    "pred_array = np.array(pred)       \n",
    "\n",
    "real = []\n",
    "for i in y_train2:\n",
    "    real.append(np.argmax(i))\n",
    "real_array = np.array(real)    \n",
    "\n",
    "print('Training-set accuracy score: {0:0.4f}'. format(accuracy_score(real_array, pred_array)))"
   ]
  },
  {
   "cell_type": "code",
   "execution_count": null,
   "metadata": {},
   "outputs": [],
   "source": []
  },
  {
   "cell_type": "code",
   "execution_count": null,
   "metadata": {},
   "outputs": [],
   "source": []
  },
  {
   "cell_type": "code",
   "execution_count": null,
   "metadata": {},
   "outputs": [],
   "source": []
  },
  {
   "cell_type": "code",
   "execution_count": null,
   "metadata": {},
   "outputs": [],
   "source": []
  },
  {
   "cell_type": "code",
   "execution_count": null,
   "metadata": {},
   "outputs": [],
   "source": []
  },
  {
   "cell_type": "markdown",
   "metadata": {},
   "source": [
    "## LSTM + DNN -> Timestep = 1"
   ]
  },
  {
   "cell_type": "code",
   "execution_count": 108,
   "metadata": {
    "scrolled": true
   },
   "outputs": [
    {
     "data": {
      "text/plain": [
       "\"\\n# define and fit the final model\\ntimer = Timer()\\ntimer.start()\\n\\nmodel_lstm = Sequential()\\n\\nmodel_lstm.add(LSTM(75, input_shape=(1, dim), return_sequences=True , activation='relu'))\\nmodel_lstm.add(Dropout(0.4))\\nmodel_lstm.add(Dense(50, activation='relu'))\\nmodel_lstm.add(Dropout(0.5))\\nmodel_lstm.add(Dense(25, activation='relu'))\\nmodel_lstm.add(Dropout(0.2))\\nmodel_lstm.add(Dense(3, activation='softmax'))\\n\\nmodel_lstm.compile(loss='categorical_crossentropy', optimizer='adam', metrics=['accuracy'])\\n\\nprint('[model] Model Compiled')\\nprint(model_lstm.summary())\\ntimer.stop()\\n\""
      ]
     },
     "execution_count": 108,
     "metadata": {},
     "output_type": "execute_result"
    }
   ],
   "source": [
    "'''\n",
    "# define and fit the final model\n",
    "timer = Timer()\n",
    "timer.start()\n",
    "\n",
    "model_lstm = Sequential()\n",
    "\n",
    "model_lstm.add(LSTM(75, input_shape=(1, dim), return_sequences=True , activation='relu'))\n",
    "model_lstm.add(Dropout(0.4))\n",
    "model_lstm.add(Dense(50, activation='relu'))\n",
    "model_lstm.add(Dropout(0.5))\n",
    "model_lstm.add(Dense(25, activation='relu'))\n",
    "model_lstm.add(Dropout(0.2))\n",
    "model_lstm.add(Dense(3, activation='softmax'))\n",
    "\n",
    "model_lstm.compile(loss='categorical_crossentropy', optimizer='adam', metrics=['accuracy'])\n",
    "\n",
    "print('[model] Model Compiled')\n",
    "print(model_lstm.summary())\n",
    "timer.stop()\n",
    "'''"
   ]
  },
  {
   "cell_type": "code",
   "execution_count": 109,
   "metadata": {},
   "outputs": [
    {
     "name": "stdout",
     "output_type": "stream",
     "text": [
      "[model] Model Compiled\n",
      "Model: \"sequential_6\"\n",
      "_________________________________________________________________\n",
      "Layer (type)                 Output Shape              Param #   \n",
      "=================================================================\n",
      "lstm_24 (LSTM)               (None, 1, 200)            207200    \n",
      "_________________________________________________________________\n",
      "dropout_39 (Dropout)         (None, 1, 200)            0         \n",
      "_________________________________________________________________\n",
      "gru_8 (GRU)                  (None, 1, 150)            157950    \n",
      "_________________________________________________________________\n",
      "dropout_40 (Dropout)         (None, 1, 150)            0         \n",
      "_________________________________________________________________\n",
      "lstm_25 (LSTM)               (None, 1, 100)            100400    \n",
      "_________________________________________________________________\n",
      "dropout_41 (Dropout)         (None, 1, 100)            0         \n",
      "_________________________________________________________________\n",
      "lstm_26 (LSTM)               (None, 1, 100)            80400     \n",
      "_________________________________________________________________\n",
      "dropout_42 (Dropout)         (None, 1, 100)            0         \n",
      "_________________________________________________________________\n",
      "lstm_27 (LSTM)               (None, 1, 100)            80400     \n",
      "_________________________________________________________________\n",
      "dropout_43 (Dropout)         (None, 1, 100)            0         \n",
      "_________________________________________________________________\n",
      "lstm_28 (LSTM)               (None, 1, 100)            80400     \n",
      "_________________________________________________________________\n",
      "dropout_44 (Dropout)         (None, 1, 100)            0         \n",
      "_________________________________________________________________\n",
      "lstm_29 (LSTM)               (None, 1, 100)            80400     \n",
      "_________________________________________________________________\n",
      "dropout_45 (Dropout)         (None, 1, 100)            0         \n",
      "_________________________________________________________________\n",
      "lstm_30 (LSTM)               (None, 1, 100)            80400     \n",
      "_________________________________________________________________\n",
      "dropout_46 (Dropout)         (None, 1, 100)            0         \n",
      "_________________________________________________________________\n",
      "gru_9 (GRU)                  (None, 1, 50)             22650     \n",
      "_________________________________________________________________\n",
      "dropout_47 (Dropout)         (None, 1, 50)             0         \n",
      "_________________________________________________________________\n",
      "lstm_31 (LSTM)               (None, 1, 50)             20200     \n",
      "_________________________________________________________________\n",
      "dropout_48 (Dropout)         (None, 1, 50)             0         \n",
      "_________________________________________________________________\n",
      "dense_14 (Dense)             (None, 1, 3)              153       \n",
      "=================================================================\n",
      "Total params: 910,553\n",
      "Trainable params: 910,553\n",
      "Non-trainable params: 0\n",
      "_________________________________________________________________\n",
      "None\n",
      "Time taken: 0:00:06.881517\n"
     ]
    }
   ],
   "source": [
    "# define and fit the final model\n",
    "timer = Timer()\n",
    "timer.start()\n",
    "\n",
    "model_lstm_gru_deep = Sequential()\n",
    "\n",
    "model_lstm_gru_deep.add(LSTM(200, input_shape=(1, dim), return_sequences=True , activation='relu'))\n",
    "model_lstm_gru_deep.add(Dropout(0.2))\n",
    "model_lstm_gru_deep.add(GRU(150, input_shape=(1, dim), return_sequences=True , activation='relu'))\n",
    "model_lstm_gru_deep.add(Dropout(0.3))\n",
    "model_lstm_gru_deep.add(LSTM(100, input_shape=(1, dim), return_sequences=True , activation='relu'))\n",
    "model_lstm_gru_deep.add(Dropout(0.5))\n",
    "model_lstm_gru_deep.add(LSTM(100, input_shape=(1, dim), return_sequences=True , activation='relu'))\n",
    "model_lstm_gru_deep.add(Dropout(0.3))\n",
    "model_lstm_gru_deep.add(LSTM(100, input_shape=(1, dim), return_sequences=True , activation='relu'))\n",
    "model_lstm_gru_deep.add(Dropout(0.5))\n",
    "model_lstm_gru_deep.add(LSTM(100, input_shape=(1, dim), return_sequences=True , activation='relu'))\n",
    "model_lstm_gru_deep.add(Dropout(0.3))\n",
    "model_lstm_gru_deep.add(LSTM(100, input_shape=(1, dim), return_sequences=True , activation='relu'))\n",
    "model_lstm_gru_deep.add(Dropout(0.5))\n",
    "model_lstm_gru_deep.add(LSTM(100, input_shape=(1, dim), return_sequences=True , activation='relu'))\n",
    "model_lstm_gru_deep.add(Dropout(0.3))\n",
    "model_lstm_gru_deep.add(GRU(50, input_shape=(1, dim), return_sequences=True , activation='relu'))\n",
    "model_lstm_gru_deep.add(Dropout(0.2))\n",
    "model_lstm_gru_deep.add(LSTM(50, input_shape=(1, dim), return_sequences=True , activation='relu'))\n",
    "model_lstm_gru_deep.add(Dropout(0.2))\n",
    "model_lstm_gru_deep.add(Dense(3, activation='softmax'))\n",
    "\n",
    "model_lstm_gru_deep.compile(loss='categorical_crossentropy', optimizer='adam', metrics=['accuracy'])\n",
    "\n",
    "print('[model] Model Compiled')\n",
    "print(model_lstm_gru_deep.summary())\n",
    "timer.stop()\n"
   ]
  },
  {
   "cell_type": "code",
   "execution_count": 110,
   "metadata": {},
   "outputs": [
    {
     "data": {
      "text/plain": [
       "(745, 1, 3)"
      ]
     },
     "execution_count": 110,
     "metadata": {},
     "output_type": "execute_result"
    }
   ],
   "source": [
    "x_train3 = x_train.reshape(x_train.shape[0], 1, x_train.shape[1])\n",
    "x_train3.shape\n",
    "y_train3 = y_train2.reshape(y_train2.shape[0], 1, y_train2.shape[1])\n",
    "y_train3.shape\n",
    "\n",
    "x_valid3 = x_valid.reshape(x_valid.shape[0], 1, x_valid.shape[1])\n",
    "x_valid3.shape\n",
    "y_valid3 = y_valid2.reshape(y_valid2.shape[0], 1, y_valid2.shape[1])\n",
    "y_valid3.shape\n",
    "\n",
    "x_test3 = x_test.reshape(x_test.shape[0], 1, x_test.shape[1])\n",
    "x_test3.shape\n",
    "y_test3 = y_test2.reshape(y_test2.shape[0], 1, y_test2.shape[1])\n",
    "y_test3.shape\n"
   ]
  },
  {
   "cell_type": "code",
   "execution_count": 111,
   "metadata": {
    "scrolled": true
   },
   "outputs": [
    {
     "name": "stdout",
     "output_type": "stream",
     "text": [
      "[Model] Training Started\n",
      "Train on 6721 samples, validate on 2145 samples\n",
      "Epoch 1/100\n",
      "6721/6721 [==============================] - 40s 6ms/step - loss: 1.0987 - accuracy: 0.3189 - val_loss: 1.0986 - val_accuracy: 0.3352\n",
      "Epoch 2/100\n",
      "6721/6721 [==============================] - 23s 3ms/step - loss: 1.0988 - accuracy: 0.3199 - val_loss: 1.0987 - val_accuracy: 0.3273\n",
      "Epoch 3/100\n",
      "6721/6721 [==============================] - 22s 3ms/step - loss: 1.0987 - accuracy: 0.3241 - val_loss: 1.0987 - val_accuracy: 0.3273\n",
      "Epoch 4/100\n",
      "6721/6721 [==============================] - 22s 3ms/step - loss: 1.0987 - accuracy: 0.3340 - val_loss: 1.0987 - val_accuracy: 0.3273\n",
      "Epoch 5/100\n",
      "6721/6721 [==============================] - 22s 3ms/step - loss: 1.0987 - accuracy: 0.3342 - val_loss: 1.0987 - val_accuracy: 0.3273\n",
      "Epoch 6/100\n",
      "6721/6721 [==============================] - 28s 4ms/step - loss: 1.0987 - accuracy: 0.3273 - val_loss: 1.0986 - val_accuracy: 0.3375\n",
      "Epoch 7/100\n",
      "6721/6721 [==============================] - 23s 3ms/step - loss: 1.0987 - accuracy: 0.3279 - val_loss: 1.0986 - val_accuracy: 0.3352\n",
      "Epoch 8/100\n",
      "6721/6721 [==============================] - 23s 3ms/step - loss: 1.0987 - accuracy: 0.3343 - val_loss: 1.0986 - val_accuracy: 0.3352\n",
      "Epoch 9/100\n",
      "6721/6721 [==============================] - 22s 3ms/step - loss: 1.0987 - accuracy: 0.3322 - val_loss: 1.0986 - val_accuracy: 0.3273\n",
      "Epoch 10/100\n",
      "6721/6721 [==============================] - 24s 4ms/step - loss: 1.0987 - accuracy: 0.3242 - val_loss: 1.0986 - val_accuracy: 0.3352\n",
      "Epoch 11/100\n",
      "6721/6721 [==============================] - 23s 3ms/step - loss: 1.0988 - accuracy: 0.3305 - val_loss: 1.0986 - val_accuracy: 0.3352\n",
      "Epoch 12/100\n",
      "6721/6721 [==============================] - 23s 3ms/step - loss: 1.0988 - accuracy: 0.3258 - val_loss: 1.0986 - val_accuracy: 0.3375\n",
      "Epoch 13/100\n",
      "6721/6721 [==============================] - 22s 3ms/step - loss: 1.0987 - accuracy: 0.3340 - val_loss: 1.0986 - val_accuracy: 0.3273\n",
      "Epoch 14/100\n",
      "6721/6721 [==============================] - 22s 3ms/step - loss: 1.0987 - accuracy: 0.3302 - val_loss: 1.0986 - val_accuracy: 0.32730987 - accuracy\n",
      "Epoch 15/100\n",
      "6721/6721 [==============================] - 22s 3ms/step - loss: 1.0987 - accuracy: 0.3276 - val_loss: 1.0986 - val_accuracy: 0.3375\n",
      "Epoch 16/100\n",
      "6721/6721 [==============================] - 22s 3ms/step - loss: 1.0987 - accuracy: 0.3272 - val_loss: 1.0986 - val_accuracy: 0.3273\n",
      "Epoch 17/100\n",
      "6721/6721 [==============================] - 23s 3ms/step - loss: 1.0987 - accuracy: 0.3269 - val_loss: 1.0986 - val_accuracy: 0.3352\n",
      "Epoch 18/100\n",
      "6721/6721 [==============================] - 23s 3ms/step - loss: 1.0987 - accuracy: 0.3339 - val_loss: 1.0986 - val_accuracy: 0.3352\n",
      "Epoch 19/100\n",
      "6721/6721 [==============================] - 31s 5ms/step - loss: 1.0987 - accuracy: 0.3339 - val_loss: 1.0986 - val_accuracy: 0.3352\n",
      "Epoch 20/100\n",
      "6721/6721 [==============================] - 23s 3ms/step - loss: 1.0987 - accuracy: 0.3312 - val_loss: 1.0986 - val_accuracy: 0.3273\n",
      "Epoch 21/100\n",
      "6721/6721 [==============================] - 23s 3ms/step - loss: 1.0987 - accuracy: 0.3296 - val_loss: 1.0986 - val_accuracy: 0.3375\n",
      "Epoch 22/100\n",
      "6721/6721 [==============================] - 23s 3ms/step - loss: 1.0987 - accuracy: 0.3282 - val_loss: 1.0986 - val_accuracy: 0.3352\n",
      "Epoch 23/100\n",
      "6721/6721 [==============================] - 23s 3ms/step - loss: 1.0987 - accuracy: 0.3339 - val_loss: 1.0986 - val_accuracy: 0.335287 \n",
      "Epoch 24/100\n",
      "6721/6721 [==============================] - 23s 3ms/step - loss: 1.0987 - accuracy: 0.3315 - val_loss: 1.0986 - val_accuracy: 0.3352\n",
      "Epoch 25/100\n",
      "6721/6721 [==============================] - 23s 3ms/step - loss: 1.0987 - accuracy: 0.3340 - val_loss: 1.0986 - val_accuracy: 0.3352\n",
      "Epoch 26/100\n",
      "6721/6721 [==============================] - 23s 3ms/step - loss: 1.0987 - accuracy: 0.3260 - val_loss: 1.0986 - val_accuracy: 0.3352\n",
      "Epoch 27/100\n",
      "6721/6721 [==============================] - 23s 3ms/step - loss: 1.0988 - accuracy: 0.3238 - val_loss: 1.0986 - val_accuracy: 0.3273\n",
      "Epoch 28/100\n",
      "6721/6721 [==============================] - 23s 3ms/step - loss: 1.0987 - accuracy: 0.3342 - val_loss: 1.0986 - val_accuracy: 0.3352\n",
      "Epoch 29/100\n",
      "6721/6721 [==============================] - 24s 4ms/step - loss: 1.0987 - accuracy: 0.3322 - val_loss: 1.0987 - val_accuracy: 0.3273\n",
      "Epoch 30/100\n",
      "6721/6721 [==============================] - 23s 3ms/step - loss: 1.0987 - accuracy: 0.3340 - val_loss: 1.0987 - val_accuracy: 0.3273\n",
      "Epoch 31/100\n",
      "6721/6721 [==============================] - 23s 3ms/step - loss: 1.0987 - accuracy: 0.3340 - val_loss: 1.0987 - val_accuracy: 0.3273\n",
      "Epoch 32/100\n",
      "6721/6721 [==============================] - 26s 4ms/step - loss: 1.0987 - accuracy: 0.3308 - val_loss: 1.0987 - val_accuracy: 0.3273\n",
      "Epoch 33/100\n",
      "6721/6721 [==============================] - 25s 4ms/step - loss: 1.0987 - accuracy: 0.3327 - val_loss: 1.0986 - val_accuracy: 0.3352\n",
      "Epoch 34/100\n",
      "6721/6721 [==============================] - 24s 4ms/step - loss: 1.0987 - accuracy: 0.3291 - val_loss: 1.0986 - val_accuracy: 0.3352\n",
      "Epoch 35/100\n",
      "6721/6721 [==============================] - 24s 4ms/step - loss: 1.0987 - accuracy: 0.3339 - val_loss: 1.0986 - val_accuracy: 0.3352\n",
      "Epoch 36/100\n",
      "6721/6721 [==============================] - 24s 4ms/step - loss: 1.0987 - accuracy: 0.3275 - val_loss: 1.0986 - val_accuracy: 0.3352\n",
      "Epoch 37/100\n",
      "6721/6721 [==============================] - 23s 3ms/step - loss: 1.0987 - accuracy: 0.3313 - val_loss: 1.0987 - val_accuracy: 0.3273\n",
      "Epoch 38/100\n",
      "6721/6721 [==============================] - 23s 3ms/step - loss: 1.0987 - accuracy: 0.3300 - val_loss: 1.0986 - val_accuracy: 0.3352\n",
      "Epoch 39/100\n",
      "6721/6721 [==============================] - 23s 3ms/step - loss: 1.0987 - accuracy: 0.3261 - val_loss: 1.0986 - val_accuracy: 0.3273\n",
      "Epoch 40/100\n",
      "6721/6721 [==============================] - 23s 3ms/step - loss: 1.0987 - accuracy: 0.3270 - val_loss: 1.0986 - val_accuracy: 0.3352\n",
      "Epoch 41/100\n",
      "6721/6721 [==============================] - 23s 3ms/step - loss: 1.0987 - accuracy: 0.3302 - val_loss: 1.0986 - val_accuracy: 0.3352\n",
      "Epoch 42/100\n",
      "6721/6721 [==============================] - 23s 3ms/step - loss: 1.0987 - accuracy: 0.3322 - val_loss: 1.0986 - val_accuracy: 0.3352\n",
      "Epoch 43/100\n",
      "6721/6721 [==============================] - 23s 3ms/step - loss: 1.0987 - accuracy: 0.3275 - val_loss: 1.0987 - val_accuracy: 0.3273\n",
      "Epoch 44/100\n",
      "6721/6721 [==============================] - 25s 4ms/step - loss: 1.0987 - accuracy: 0.3287 - val_loss: 1.0987 - val_accuracy: 0.3352\n",
      "Epoch 45/100\n",
      "6721/6721 [==============================] - 19s 3ms/step - loss: 1.0987 - accuracy: 0.3312 - val_loss: 1.0986 - val_accuracy: 0.3352\n",
      "Epoch 46/100\n",
      "6721/6721 [==============================] - 20s 3ms/step - loss: 1.0987 - accuracy: 0.3293 - val_loss: 1.0986 - val_accuracy: 0.3352\n",
      "Epoch 47/100\n",
      "6721/6721 [==============================] - 23s 3ms/step - loss: 1.0988 - accuracy: 0.3190 - val_loss: 1.0986 - val_accuracy: 0.3352\n",
      "Epoch 48/100\n",
      "6721/6721 [==============================] - 23s 3ms/step - loss: 1.0987 - accuracy: 0.3276 - val_loss: 1.0986 - val_accuracy: 0.3352 - ETA: 1s - loss: - ETA: 0s - loss: 1.0987 - accuracy: \n",
      "Epoch 49/100\n",
      "6721/6721 [==============================] - 22s 3ms/step - loss: 1.0987 - accuracy: 0.3254 - val_loss: 1.0986 - val_accuracy: 0.3352\n",
      "Epoch 50/100\n",
      "6721/6721 [==============================] - 20s 3ms/step - loss: 1.0987 - accuracy: 0.3306 - val_loss: 1.0986 - val_accuracy: 0.3352\n",
      "Epoch 51/100\n",
      "6721/6721 [==============================] - 20s 3ms/step - loss: 1.0987 - accuracy: 0.3291 - val_loss: 1.0986 - val_accuracy: 0.3352\n",
      "Epoch 52/100\n",
      "6721/6721 [==============================] - 22s 3ms/step - loss: 1.0988 - accuracy: 0.3287 - val_loss: 1.0986 - val_accuracy: 0.3352\n",
      "Epoch 53/100\n",
      "6721/6721 [==============================] - 27s 4ms/step - loss: 1.0987 - accuracy: 0.3258 - val_loss: 1.0986 - val_accuracy: 0.3352.32 - ETA: 1s -\n",
      "Epoch 54/100\n",
      "6721/6721 [==============================] - 24s 4ms/step - loss: 1.0987 - accuracy: 0.3339 - val_loss: 1.0986 - val_accuracy: 0.3352\n",
      "Epoch 55/100\n"
     ]
    },
    {
     "name": "stdout",
     "output_type": "stream",
     "text": [
      "6721/6721 [==============================] - 22s 3ms/step - loss: 1.0987 - accuracy: 0.3215 - val_loss: 1.0986 - val_accuracy: 0.3273: 1.0985 - accura - ETA: 15s - loss: 1.0  - ETA: 7s - l - - ETA: 3s -\n",
      "Epoch 56/100\n",
      "6721/6721 [==============================] - 22s 3ms/step - loss: 1.0987 - accuracy: 0.3181 - val_loss: 1.0986 - val_accuracy: 0.3375\n",
      "Epoch 57/100\n",
      "6721/6721 [==============================] - 24s 4ms/step - loss: 1.0987 - accuracy: 0.3284 - val_loss: 1.0987 - val_accuracy: 0.3273987 -  - ETA: 0s - loss: 1.0987 - accuracy: 0.32\n",
      "Epoch 58/100\n",
      "6721/6721 [==============================] - 27s 4ms/step - loss: 1.0987 - accuracy: 0.3300 - val_loss: 1.0986 - val_accuracy: 0.3375\n",
      "Epoch 59/100\n",
      "6721/6721 [==============================] - 21s 3ms/step - loss: 1.0987 - accuracy: 0.3226 - val_loss: 1.0986 - val_accuracy: 0.3352\n",
      "Epoch 60/100\n",
      "6721/6721 [==============================] - 21s 3ms/step - loss: 1.0987 - accuracy: 0.3254 - val_loss: 1.0986 - val_accuracy: 0.3273\n",
      "Epoch 61/100\n",
      "6721/6721 [==============================] - 24s 4ms/step - loss: 1.0987 - accuracy: 0.3226 - val_loss: 1.0987 - val_accuracy: 0.3273\n",
      "Epoch 62/100\n",
      "6721/6721 [==============================] - 22s 3ms/step - loss: 1.0987 - accuracy: 0.3315 - val_loss: 1.0986 - val_accuracy: 0.3352oss: 1.0986 - accuracy - ETA: 9s - l - E - ETA: 3s - loss: 1.0987  - ETA: 2s - loss: 1.098 - ETA: 1s - los\n",
      "Epoch 63/100\n",
      "6721/6721 [==============================] - 21s 3ms/step - loss: 1.0987 - accuracy: 0.3203 - val_loss: 1.0986 - val_accuracy: 0.3375\n",
      "Epoch 64/100\n",
      "6721/6721 [==============================] - 21s 3ms/step - loss: 1.0987 - accuracy: 0.3321 - val_loss: 1.0986 - val_accuracy: 0.3375ETA: 18s - loss: 1.0984 - accur - ETA: 17s - loss: 1.0983 -  - ETA: 15s - loss: 1.0986 - acc - ETA:\n",
      "Epoch 65/100\n",
      "6721/6721 [==============================] - 22s 3ms/step - loss: 1.0987 - accuracy: 0.3236 - val_loss: 1.0987 - val_accuracy: 0.3273\n",
      "Epoch 66/100\n",
      "6721/6721 [==============================] - 21s 3ms/step - loss: 1.0987 - accuracy: 0.3340 - val_loss: 1.0987 - val_accuracy: 0.3273 1.0987 - accuracy: 0.33 - ETA: 3s - - ETA: 1s - loss: 1.098 - ETA: 0s - loss: 1.0987 \n",
      "Epoch 67/100\n",
      "6721/6721 [==============================] - 23s 3ms/step - loss: 1.0987 - accuracy: 0.3257 - val_loss: 1.0986 - val_accuracy: 0.3352\n",
      "Epoch 68/100\n",
      "6721/6721 [==============================] - 23s 3ms/step - loss: 1.0987 - accuracy: 0.3339 - val_loss: 1.0987 - val_accuracy: 0.3273\n",
      "Epoch 69/100\n",
      "6721/6721 [==============================] - 24s 4ms/step - loss: 1.0987 - accuracy: 0.3293 - val_loss: 1.0987 - val_accuracy: 0.3273\n",
      "Epoch 70/100\n",
      "6721/6721 [==============================] - 25s 4ms/step - loss: 1.0987 - accuracy: 0.3257 - val_loss: 1.0986 - val_accuracy: 0.3375\n",
      "Epoch 71/100\n",
      "6721/6721 [==============================] - 22s 3ms/step - loss: 1.0987 - accuracy: 0.3261 - val_loss: 1.0986 - val_accuracy: 0.3375ccura - ETA: 3s - - ETA: 1s\n",
      "Epoch 72/100\n",
      "6721/6721 [==============================] - 23s 3ms/step - loss: 1.0987 - accuracy: 0.3331 - val_loss: 1.0986 - val_accuracy: 0.3273\n",
      "Epoch 73/100\n",
      "6721/6721 [==============================] - 22s 3ms/step - loss: 1.0987 - accuracy: 0.3302 - val_loss: 1.0986 - val_accuracy: 0.3352 19s - loss: \n",
      "Epoch 74/100\n",
      "6721/6721 [==============================] - 23s 3ms/step - loss: 1.0987 - accuracy: 0.3221 - val_loss: 1.0986 - val_accuracy: 0.3375\n",
      "Epoch 75/100\n",
      "6721/6721 [==============================] - 23s 3ms/step - loss: 1.0987 - accuracy: 0.3337 - val_loss: 1.0986 - val_accuracy: 0.3352loss: 1.0988 - ac\n",
      "Epoch 76/100\n",
      "6721/6721 [==============================] - 22s 3ms/step - loss: 1.0987 - accuracy: 0.3267 - val_loss: 1.0987 - val_accuracy: 0.3273\n",
      "Epoch 77/100\n",
      "6721/6721 [==============================] - 22s 3ms/step - loss: 1.0987 - accuracy: 0.3311 - val_loss: 1.0987 - val_accuracy: 0.3273\n",
      "Epoch 78/100\n",
      "6721/6721 [==============================] - 24s 4ms/step - loss: 1.0987 - accuracy: 0.3260 - val_loss: 1.0986 - val_accuracy: 0.3273\n",
      "Epoch 79/100\n",
      "6721/6721 [==============================] - 23s 3ms/step - loss: 1.0987 - accuracy: 0.3235 - val_loss: 1.0986 - val_accuracy: 0.3375\n",
      "Epoch 80/100\n",
      "6721/6721 [==============================] - 23s 3ms/step - loss: 1.0987 - accuracy: 0.3352 - val_loss: 1.0986 - val_accuracy: 0.3273uracy:  - ETA\n",
      "Epoch 81/100\n",
      "6721/6721 [==============================] - 21s 3ms/step - loss: 1.0987 - accuracy: 0.3227 - val_loss: 1.0986 - val_accuracy: 0.3352\n",
      "Epoch 82/100\n",
      "6721/6721 [==============================] - 21s 3ms/step - loss: 1.0988 - accuracy: 0.3257 - val_loss: 1.0986 - val_accuracy: 0.3352\n",
      "Epoch 83/100\n",
      "6721/6721 [==============================] - 21s 3ms/step - loss: 1.0987 - accuracy: 0.3327 - val_loss: 1.0986 - val_accuracy: 0.3375\n",
      "Epoch 84/100\n",
      "6721/6721 [==============================] - 24s 4ms/step - loss: 1.0987 - accuracy: 0.3235 - val_loss: 1.0986 - val_accuracy: 0.3352\n",
      "Epoch 85/100\n",
      "6721/6721 [==============================] - 23s 3ms/step - loss: 1.0987 - accuracy: 0.3212 - val_loss: 1.0987 - val_accuracy: 0.3273\n",
      "Epoch 86/100\n",
      "6721/6721 [==============================] - 22s 3ms/step - loss: 1.0987 - accuracy: 0.3296 - val_loss: 1.0987 - val_accuracy: 0.3352\n",
      "Epoch 87/100\n",
      "6721/6721 [==============================] - 22s 3ms/step - loss: 1.0987 - accuracy: 0.3327 - val_loss: 1.0987 - val_accuracy: 0.3273\n",
      "Epoch 88/100\n",
      "6721/6721 [==============================] - 23s 3ms/step - loss: 1.0987 - accuracy: 0.3260 - val_loss: 1.0986 - val_accuracy: 0.3273\n",
      "Epoch 89/100\n",
      "6721/6721 [==============================] - 23s 3ms/step - loss: 1.0987 - accuracy: 0.3212 - val_loss: 1.0986 - val_accuracy: 0.3352\n",
      "Epoch 90/100\n",
      "6721/6721 [==============================] - 22s 3ms/step - loss: 1.0987 - accuracy: 0.3333 - val_loss: 1.0986 - val_accuracy: 0.3375\n",
      "Epoch 91/100\n",
      "6721/6721 [==============================] - 22s 3ms/step - loss: 1.0987 - accuracy: 0.3254 - val_loss: 1.0986 - val_accuracy: 0.3375\n",
      "Epoch 92/100\n",
      "6721/6721 [==============================] - 22s 3ms/step - loss: 1.0987 - accuracy: 0.3321 - val_loss: 1.0986 - val_accuracy: 0.3375\n",
      "Epoch 93/100\n",
      "6721/6721 [==============================] - 22s 3ms/step - loss: 1.0988 - accuracy: 0.3308 - val_loss: 1.0987 - val_accuracy: 0.3352\n",
      "Epoch 94/100\n",
      "6721/6721 [==============================] - 21s 3ms/step - loss: 1.0987 - accuracy: 0.3303 - val_loss: 1.0987 - val_accuracy: 0.3352ETA: 3s - los\n",
      "Epoch 95/100\n",
      "6721/6721 [==============================] - 22s 3ms/step - loss: 1.0987 - accuracy: 0.3345 - val_loss: 1.0987 - val_accuracy: 0.3273\n",
      "Epoch 96/100\n",
      "6721/6721 [==============================] - 23s 3ms/step - loss: 1.0987 - accuracy: 0.3340 - val_loss: 1.0987 - val_accuracy: 0.3273\n",
      "Epoch 97/100\n",
      "6721/6721 [==============================] - 24s 4ms/step - loss: 1.0987 - accuracy: 0.3340 - val_loss: 1.0987 - val_accuracy: 0.3273\n",
      "Epoch 98/100\n",
      "6721/6721 [==============================] - 23s 3ms/step - loss: 1.0987 - accuracy: 0.3306 - val_loss: 1.0986 - val_accuracy: 0.3352\n",
      "Epoch 99/100\n",
      "6721/6721 [==============================] - 23s 3ms/step - loss: 1.0987 - accuracy: 0.3302 - val_loss: 1.0987 - val_accuracy: 0.3273\n",
      "Epoch 100/100\n",
      "6721/6721 [==============================] - 23s 3ms/step - loss: 1.0987 - accuracy: 0.3290 - val_loss: 1.0986 - val_accuracy: 0.3273\n",
      "[Model] Training Completed.\n",
      "Model saved as saved_models\\prototipo_ciclo1_multiclass_jupyter_model_lstm_gru_deep.h5\n",
      "Time taken: 0:39:42.444931\n"
     ]
    }
   ],
   "source": [
    "timer = Timer()\n",
    "timer.start()\n",
    "print('[Model] Training Started')\n",
    "\n",
    "save_dir=configs['model']['save_dir']\n",
    "my_model=configs['model']['model_name']\n",
    "save_fname = os.path.join(save_dir, '%s_model_lstm_gru_deep.h5' % my_model)\n",
    "\n",
    "batch_size=configs['training']['batch_size']\n",
    "\n",
    "callbacks = [ ModelCheckpoint(filepath=save_fname, monitor='loss', save_best_only=True)]\n",
    "\n",
    "H = model_lstm_gru_deep.fit( x_train3, y_train3, validation_data=(x_valid3, y_valid3), epochs=100, \n",
    "               callbacks=callbacks, workers=1 )\n",
    "\n",
    "model_lstm_gru_deep.save(save_fname)\n",
    "\n",
    "print('[Model] Training Completed.')\n",
    "print('Model saved as %s' % save_fname)\n",
    "\n",
    "timer.stop()\n"
   ]
  },
  {
   "cell_type": "code",
   "execution_count": 125,
   "metadata": {
    "scrolled": true
   },
   "outputs": [
    {
     "data": {
      "text/plain": [
       "array([[[0.33383337, 0.332856  , 0.33331066]],\n",
       "\n",
       "       [[0.33383337, 0.332856  , 0.33331066]],\n",
       "\n",
       "       [[0.33383337, 0.332856  , 0.33331066]],\n",
       "\n",
       "       ...,\n",
       "\n",
       "       [[0.33383337, 0.332856  , 0.33331066]],\n",
       "\n",
       "       [[0.33383337, 0.332856  , 0.33331066]],\n",
       "\n",
       "       [[0.33383337, 0.332856  , 0.33331066]]], dtype=float32)"
      ]
     },
     "execution_count": 125,
     "metadata": {},
     "output_type": "execute_result"
    }
   ],
   "source": [
    "# new instances where we do not know the answer\n",
    "y_pred = model_lstm_gru_deep.predict(x_test3) \n",
    "y_pred"
   ]
  },
  {
   "cell_type": "code",
   "execution_count": 113,
   "metadata": {
    "scrolled": false
   },
   "outputs": [
    {
     "name": "stdout",
     "output_type": "stream",
     "text": [
      "dict_keys(['val_loss', 'val_accuracy', 'loss', 'accuracy'])\n"
     ]
    },
    {
     "data": {
      "image/png": "[encoded data removed]",
      "text/plain": [
       "<Figure size 432x288 with 1 Axes>"
      ]
     },
     "metadata": {
      "needs_background": "light"
     },
     "output_type": "display_data"
    },
    {
     "data": {
      "image/png": "[encoded data removed]",
      "text/plain": [
       "<Figure size 432x288 with 1 Axes>"
      ]
     },
     "metadata": {
      "needs_background": "light"
     },
     "output_type": "display_data"
    }
   ],
   "source": [
    "# list all data in history       \n",
    "print(H.history.keys())\n",
    "# summarize history for accuracy\n",
    "plt.plot(H.history['accuracy'])\n",
    "plt.plot(H.history['val_accuracy'])\n",
    "plt.title('model accuracy')\n",
    "plt.ylabel('accuracy')\n",
    "plt.xlabel('epoch')\n",
    "plt.legend(['accuracy', 'val_accuracy'], loc='upper left')\n",
    "fig_path = 'accuracy_history.png'\n",
    "plt.savefig(fig_path)     \n",
    "plt.show()\n",
    "\n",
    "# summarize history for loss\n",
    "plt.plot(H.history['loss'])\n",
    "plt.plot(H.history['val_loss'])\n",
    "plt.title('model loss')\n",
    "plt.ylabel('loss')\n",
    "plt.xlabel('epoch')\n",
    "plt.legend(['loss', 'val_loss'], loc='upper left')\n",
    "fig_path = 'loss_history.png'\n",
    "plt.savefig(fig_path) \n",
    "plt.show()"
   ]
  },
  {
   "cell_type": "code",
   "execution_count": 114,
   "metadata": {},
   "outputs": [],
   "source": [
    "# BUY | SELL | HOLD\n",
    "\n",
    "labels = ['BUY', 'SELL', 'HOLD'] \n",
    "\n",
    "pred = []\n",
    "for i in y_pred:\n",
    "    pred.append(np.argmax(i))\n",
    "pred_array = np.array(pred)       \n",
    "\n",
    "real = []\n",
    "for i in y_test3:\n",
    "    real.append(np.argmax(i))\n",
    "real_array = np.array(real)    "
   ]
  },
  {
   "cell_type": "code",
   "execution_count": 123,
   "metadata": {},
   "outputs": [
    {
     "name": "stdout",
     "output_type": "stream",
     "text": [
      "[[[0.33383337 0.332856   0.33331066]]\n",
      "\n",
      " [[0.33383337 0.332856   0.33331066]]\n",
      "\n",
      " [[0.33383337 0.332856   0.33331066]]\n",
      "\n",
      " [[0.33383337 0.332856   0.33331066]]\n",
      "\n",
      " [[0.33383337 0.332856   0.33331066]]\n",
      "\n",
      " [[0.33383337 0.332856   0.33331066]]\n",
      "\n",
      " [[0.33383337 0.332856   0.33331066]]\n",
      "\n",
      " [[0.33383337 0.332856   0.33331066]]\n",
      "\n",
      " [[0.33383337 0.332856   0.33331066]]\n",
      "\n",
      " [[0.33383337 0.332856   0.33331066]]]\n",
      "[[[1. 0. 0.]]\n",
      "\n",
      " [[1. 0. 0.]]\n",
      "\n",
      " [[0. 0. 1.]]\n",
      "\n",
      " [[0. 0. 1.]]\n",
      "\n",
      " [[1. 0. 0.]]\n",
      "\n",
      " [[1. 0. 0.]]\n",
      "\n",
      " [[1. 0. 0.]]\n",
      "\n",
      " [[1. 0. 0.]]\n",
      "\n",
      " [[1. 0. 0.]]\n",
      "\n",
      " [[1. 0. 0.]]]\n"
     ]
    }
   ],
   "source": [
    "print(y_pred[10:20])\n",
    "print(y_test3[10:20])"
   ]
  },
  {
   "cell_type": "code",
   "execution_count": 116,
   "metadata": {},
   "outputs": [
    {
     "name": "stdout",
     "output_type": "stream",
     "text": [
      "[0 0 0 0 0 0 0 0 0 0]\n",
      "[0 0 2 2 0 0 0 0 0 0]\n"
     ]
    }
   ],
   "source": [
    "print(pred_array[10:20])\n",
    "print(real_array[10:20])"
   ]
  },
  {
   "cell_type": "code",
   "execution_count": 117,
   "metadata": {
    "scrolled": true
   },
   "outputs": [
    {
     "name": "stdout",
     "output_type": "stream",
     "text": [
      "Accuracy Score - DL:  0.33557046979865773\n"
     ]
    }
   ],
   "source": [
    "print('Accuracy Score - DL: ', accuracy_score(real_array, pred_array))"
   ]
  },
  {
   "cell_type": "code",
   "execution_count": 118,
   "metadata": {},
   "outputs": [
    {
     "name": "stdout",
     "output_type": "stream",
     "text": [
      "              precision    recall  f1-score   support\n",
      "\n",
      "           0       0.34      1.00      0.50       250\n",
      "           1       0.00      0.00      0.00       242\n",
      "           2       0.00      0.00      0.00       253\n",
      "\n",
      "    accuracy                           0.34       745\n",
      "   macro avg       0.11      0.33      0.17       745\n",
      "weighted avg       0.11      0.34      0.17       745\n",
      "\n"
     ]
    },
    {
     "name": "stderr",
     "output_type": "stream",
     "text": [
      "C:\\Users\\auW10\\Anaconda3\\envs\\phd\\lib\\site-packages\\sklearn\\metrics\\_classification.py:1221: UndefinedMetricWarning: Precision and F-score are ill-defined and being set to 0.0 in labels with no predicted samples. Use `zero_division` parameter to control this behavior.\n",
      "  _warn_prf(average, modifier, msg_start, len(result))\n"
     ]
    }
   ],
   "source": [
    "print(classification_report(real_array, pred_array))"
   ]
  },
  {
   "cell_type": "code",
   "execution_count": 119,
   "metadata": {},
   "outputs": [
    {
     "data": {
      "text/plain": [
       "array([[250,   0,   0],\n",
       "       [242,   0,   0],\n",
       "       [253,   0,   0]], dtype=int64)"
      ]
     },
     "execution_count": 119,
     "metadata": {},
     "output_type": "execute_result"
    }
   ],
   "source": [
    "from sklearn.metrics import confusion_matrix\n",
    "confusion_matrix = confusion_matrix(real_array, pred_array)\n",
    "confusion_matrix"
   ]
  },
  {
   "cell_type": "code",
   "execution_count": 120,
   "metadata": {},
   "outputs": [
    {
     "data": {
      "text/plain": [
       "<AxesSubplot:>"
      ]
     },
     "execution_count": 120,
     "metadata": {},
     "output_type": "execute_result"
    },
    {
     "data": {
      "image/png": "[encoded data removed]",
      "text/plain": [
       "<Figure size 432x288 with 2 Axes>"
      ]
     },
     "metadata": {
      "needs_background": "light"
     },
     "output_type": "display_data"
    }
   ],
   "source": [
    "# visualize confusion matrix with seaborn heatmap\n",
    "cm_matrix = pd.DataFrame(data=confusion_matrix,\n",
    "                        columns=['BUY_R', 'SELL_R', 'HOLD_R'], \n",
    "                        index=['BUY_P', 'SELL_P', 'HOLD_P'])\n",
    "\n",
    "sns.heatmap(cm_matrix, annot=True, fmt='d', cmap='YlGnBu')"
   ]
  },
  {
   "cell_type": "markdown",
   "metadata": {},
   "source": [
    "### Compare train and test set accuracy"
   ]
  },
  {
   "cell_type": "code",
   "execution_count": 121,
   "metadata": {},
   "outputs": [
    {
     "name": "stdout",
     "output_type": "stream",
     "text": [
      "Training-set accuracy score: 0.3340\n"
     ]
    }
   ],
   "source": [
    "y_pred_train = model_lstm_gru_deep.predict(x_train3)\n",
    "\n",
    "labels = ['BUY', 'SELL', 'HOLD'] \n",
    "\n",
    "pred = []\n",
    "for i in y_pred_train:\n",
    "    pred.append(np.argmax(i))\n",
    "pred_array = np.array(pred)       \n",
    "\n",
    "real = []\n",
    "for i in y_train3:\n",
    "    real.append(np.argmax(i))\n",
    "real_array = np.array(real)    \n",
    "\n",
    "print('Training-set accuracy score: {0:0.4f}'. format(accuracy_score(real_array, pred_array)))"
   ]
  },
  {
   "cell_type": "code",
   "execution_count": null,
   "metadata": {},
   "outputs": [],
   "source": []
  },
  {
   "cell_type": "code",
   "execution_count": null,
   "metadata": {},
   "outputs": [],
   "source": []
  },
  {
   "cell_type": "code",
   "execution_count": null,
   "metadata": {},
   "outputs": [],
   "source": []
  },
  {
   "cell_type": "code",
   "execution_count": null,
   "metadata": {},
   "outputs": [],
   "source": []
  },
  {
   "cell_type": "code",
   "execution_count": null,
   "metadata": {},
   "outputs": [],
   "source": []
  },
  {
   "cell_type": "code",
   "execution_count": null,
   "metadata": {},
   "outputs": [],
   "source": []
  },
  {
   "cell_type": "code",
   "execution_count": null,
   "metadata": {},
   "outputs": [],
   "source": []
  },
  {
   "cell_type": "code",
   "execution_count": null,
   "metadata": {},
   "outputs": [],
   "source": []
  },
  {
   "cell_type": "code",
   "execution_count": null,
   "metadata": {},
   "outputs": [],
   "source": []
  },
  {
   "cell_type": "code",
   "execution_count": null,
   "metadata": {},
   "outputs": [],
   "source": []
  },
  {
   "cell_type": "code",
   "execution_count": null,
   "metadata": {},
   "outputs": [],
   "source": []
  },
  {
   "cell_type": "code",
   "execution_count": null,
   "metadata": {},
   "outputs": [],
   "source": []
  },
  {
   "cell_type": "code",
   "execution_count": null,
   "metadata": {},
   "outputs": [],
   "source": []
  },
  {
   "cell_type": "code",
   "execution_count": null,
   "metadata": {
    "scrolled": true
   },
   "outputs": [],
   "source": [
    "# save trained model\n",
    "#pickle.dump( model_lgbm, open( 'saved_models/model_lgbm_53features.pkl', 'wb' ) )"
   ]
  },
  {
   "cell_type": "code",
   "execution_count": null,
   "metadata": {},
   "outputs": [],
   "source": [
    "#pickle.dump( model_lstm, open( 'saved_models/model_LSTM_DNN_53features.pkl', 'wb' ) )"
   ]
  },
  {
   "cell_type": "code",
   "execution_count": null,
   "metadata": {},
   "outputs": [],
   "source": [
    "model_pickle_lgbm = pickle.load( open( 'saved_models/model_lgbm_53features.pkl', 'rb' ) )\n",
    "\n",
    "predict_pickle_lgbm = model_pickle_lgbm.predict(x_test)\n",
    "\n",
    "print('Accuracy Score - LightGBM: ', accuracy_score(y_test, predict_pickle_lgbm))"
   ]
  },
  {
   "cell_type": "code",
   "execution_count": null,
   "metadata": {},
   "outputs": [],
   "source": []
  },
  {
   "cell_type": "code",
   "execution_count": null,
   "metadata": {},
   "outputs": [],
   "source": [
    "model_lgbm2 = lgbm.LGBMClassifier(n_jobs=-1, random_state=0, n_estimators=100, learning_rate=0.001, num_leaves=2**6,\n",
    "                                subsample=0.9, subsample_freq=1, colsample_bytree=1., verbose=1)\n",
    "\n",
    "model_lgbm2.fit(x_train, y_train)\n",
    "predict_lgbm2 = model_lgbm2.predict(x_test)\n",
    "\n",
    "print('Accuracy Score - LightGBM: ', accuracy_score(y_test, predict_lgbm2))"
   ]
  },
  {
   "cell_type": "code",
   "execution_count": null,
   "metadata": {},
   "outputs": [],
   "source": []
  },
  {
   "cell_type": "code",
   "execution_count": null,
   "metadata": {},
   "outputs": [],
   "source": []
  },
  {
   "cell_type": "code",
   "execution_count": null,
   "metadata": {},
   "outputs": [],
   "source": []
  },
  {
   "cell_type": "code",
   "execution_count": null,
   "metadata": {},
   "outputs": [],
   "source": []
  },
  {
   "cell_type": "code",
   "execution_count": null,
   "metadata": {},
   "outputs": [],
   "source": []
  },
  {
   "cell_type": "code",
   "execution_count": null,
   "metadata": {},
   "outputs": [],
   "source": []
  },
  {
   "cell_type": "code",
   "execution_count": null,
   "metadata": {},
   "outputs": [],
   "source": []
  }
 ],
 "metadata": {
  "kernelspec": {
   "display_name": "Python 3",
   "language": "python",
   "name": "python3"
  },
  "language_info": {
   "codemirror_mode": {
    "name": "ipython",
    "version": 3
   },
   "file_extension": ".py",
   "mimetype": "text/x-python",
   "name": "python",
   "nbconvert_exporter": "python",
   "pygments_lexer": "ipython3",
   "version": "3.6.12"
  }
 },
 "nbformat": 4,
 "nbformat_minor": 4
}
