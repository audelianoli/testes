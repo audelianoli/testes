{
 "cells": [
  {
   "cell_type": "markdown",
   "metadata": {},
   "source": [
    "# Imports"
   ]
  },
  {
   "cell_type": "code",
   "execution_count": 1,
   "metadata": {},
   "outputs": [],
   "source": [
    "import os\n",
    "import json\n",
    "import math\n",
    "import matplotlib.pyplot as plt\n",
    "import numpy as np\n",
    "import pandas as pd\n",
    "\n",
    "from sklearn.preprocessing import MinMaxScaler, StandardScaler, RobustScaler, MaxAbsScaler, Normalizer, QuantileTransformer"
   ]
  },
  {
   "cell_type": "code",
   "execution_count": 2,
   "metadata": {},
   "outputs": [],
   "source": [
    "# Carregando as configurações do arquivo 'config_modelo.json'\n",
    "configs = json.load(open('config_modelo.json', 'r'))"
   ]
  },
  {
   "cell_type": "code",
   "execution_count": 3,
   "metadata": {},
   "outputs": [],
   "source": [
    "# Criar a pasta 'save_dir' caso não exista no diretório\n",
    "if not os.path.exists(configs['model']['save_dir']):\n",
    "            os.makedirs(configs['model']['save_dir'])"
   ]
  },
  {
   "cell_type": "code",
   "execution_count": 4,
   "metadata": {},
   "outputs": [
    {
     "name": "stdout",
     "output_type": "stream",
     "text": [
      "(139881, 126)\n"
     ]
    },
    {
     "data": {
      "text/html": [
       "<div>\n",
       "<style scoped>\n",
       "    .dataframe tbody tr th:only-of-type {\n",
       "        vertical-align: middle;\n",
       "    }\n",
       "\n",
       "    .dataframe tbody tr th {\n",
       "        vertical-align: top;\n",
       "    }\n",
       "\n",
       "    .dataframe thead th {\n",
       "        text-align: right;\n",
       "    }\n",
       "</style>\n",
       "<table border=\"1\" class=\"dataframe\">\n",
       "  <thead>\n",
       "    <tr style=\"text-align: right;\">\n",
       "      <th></th>\n",
       "      <th>DATETIME</th>\n",
       "      <th>DATE</th>\n",
       "      <th>TIME</th>\n",
       "      <th>OPEN</th>\n",
       "      <th>HIGH</th>\n",
       "      <th>LOW</th>\n",
       "      <th>CLOSE</th>\n",
       "      <th>VOL</th>\n",
       "      <th>BBANDS_Upper_5</th>\n",
       "      <th>BBANDS_Lower_5</th>\n",
       "      <th>...</th>\n",
       "      <th>MES</th>\n",
       "      <th>DIA_SEMANA</th>\n",
       "      <th>HORA_NOBRE</th>\n",
       "      <th>TARGET_WIN</th>\n",
       "      <th>TARGET_WIN_CAT3</th>\n",
       "      <th>TARGET_WIN_CAT3_LABEL</th>\n",
       "      <th>TARGET_WIN_CAT_ENC</th>\n",
       "      <th>HOLD</th>\n",
       "      <th>SELL</th>\n",
       "      <th>BUY</th>\n",
       "    </tr>\n",
       "  </thead>\n",
       "  <tbody>\n",
       "    <tr>\n",
       "      <th>0</th>\n",
       "      <td>2014-11-19 12:30:00</td>\n",
       "      <td>2014.11.19</td>\n",
       "      <td>12:30:00</td>\n",
       "      <td>53560.0</td>\n",
       "      <td>53565.0</td>\n",
       "      <td>53405.0</td>\n",
       "      <td>53410.0</td>\n",
       "      <td>8363.0</td>\n",
       "      <td>53752.526189</td>\n",
       "      <td>53227.473811</td>\n",
       "      <td>...</td>\n",
       "      <td>11</td>\n",
       "      <td>2</td>\n",
       "      <td>2</td>\n",
       "      <td>15.0</td>\n",
       "      <td>HOLD</td>\n",
       "      <td>2</td>\n",
       "      <td>1</td>\n",
       "      <td>1</td>\n",
       "      <td>0</td>\n",
       "      <td>0</td>\n",
       "    </tr>\n",
       "    <tr>\n",
       "      <th>1</th>\n",
       "      <td>2014-11-19 12:35:00</td>\n",
       "      <td>2014.11.19</td>\n",
       "      <td>12:35:00</td>\n",
       "      <td>53410.0</td>\n",
       "      <td>53500.0</td>\n",
       "      <td>53295.0</td>\n",
       "      <td>53415.0</td>\n",
       "      <td>7034.0</td>\n",
       "      <td>53712.281525</td>\n",
       "      <td>53317.718475</td>\n",
       "      <td>...</td>\n",
       "      <td>11</td>\n",
       "      <td>2</td>\n",
       "      <td>2</td>\n",
       "      <td>50.0</td>\n",
       "      <td>HOLD</td>\n",
       "      <td>2</td>\n",
       "      <td>1</td>\n",
       "      <td>1</td>\n",
       "      <td>0</td>\n",
       "      <td>0</td>\n",
       "    </tr>\n",
       "    <tr>\n",
       "      <th>2</th>\n",
       "      <td>2014-11-19 12:40:00</td>\n",
       "      <td>2014.11.19</td>\n",
       "      <td>12:40:00</td>\n",
       "      <td>53420.0</td>\n",
       "      <td>53495.0</td>\n",
       "      <td>53370.0</td>\n",
       "      <td>53490.0</td>\n",
       "      <td>4654.0</td>\n",
       "      <td>53708.292713</td>\n",
       "      <td>53311.707287</td>\n",
       "      <td>...</td>\n",
       "      <td>11</td>\n",
       "      <td>2</td>\n",
       "      <td>2</td>\n",
       "      <td>-80.0</td>\n",
       "      <td>HOLD</td>\n",
       "      <td>2</td>\n",
       "      <td>1</td>\n",
       "      <td>1</td>\n",
       "      <td>0</td>\n",
       "      <td>0</td>\n",
       "    </tr>\n",
       "    <tr>\n",
       "      <th>3</th>\n",
       "      <td>2014-11-19 12:45:00</td>\n",
       "      <td>2014.11.19</td>\n",
       "      <td>12:45:00</td>\n",
       "      <td>53495.0</td>\n",
       "      <td>53595.0</td>\n",
       "      <td>53410.0</td>\n",
       "      <td>53425.0</td>\n",
       "      <td>5518.0</td>\n",
       "      <td>53575.412304</td>\n",
       "      <td>53344.587696</td>\n",
       "      <td>...</td>\n",
       "      <td>11</td>\n",
       "      <td>2</td>\n",
       "      <td>2</td>\n",
       "      <td>-140.0</td>\n",
       "      <td>HOLD</td>\n",
       "      <td>2</td>\n",
       "      <td>1</td>\n",
       "      <td>1</td>\n",
       "      <td>0</td>\n",
       "      <td>0</td>\n",
       "    </tr>\n",
       "    <tr>\n",
       "      <th>4</th>\n",
       "      <td>2014-11-19 12:50:00</td>\n",
       "      <td>2014.11.19</td>\n",
       "      <td>12:50:00</td>\n",
       "      <td>53420.0</td>\n",
       "      <td>53545.0</td>\n",
       "      <td>53415.0</td>\n",
       "      <td>53465.0</td>\n",
       "      <td>3800.0</td>\n",
       "      <td>53503.417946</td>\n",
       "      <td>53378.582054</td>\n",
       "      <td>...</td>\n",
       "      <td>11</td>\n",
       "      <td>2</td>\n",
       "      <td>2</td>\n",
       "      <td>-195.0</td>\n",
       "      <td>SELL</td>\n",
       "      <td>1</td>\n",
       "      <td>2</td>\n",
       "      <td>0</td>\n",
       "      <td>1</td>\n",
       "      <td>0</td>\n",
       "    </tr>\n",
       "    <tr>\n",
       "      <th>5</th>\n",
       "      <td>2014-11-19 12:55:00</td>\n",
       "      <td>2014.11.19</td>\n",
       "      <td>12:55:00</td>\n",
       "      <td>53465.0</td>\n",
       "      <td>53525.0</td>\n",
       "      <td>53385.0</td>\n",
       "      <td>53410.0</td>\n",
       "      <td>2793.0</td>\n",
       "      <td>53503.417946</td>\n",
       "      <td>53378.582054</td>\n",
       "      <td>...</td>\n",
       "      <td>11</td>\n",
       "      <td>2</td>\n",
       "      <td>2</td>\n",
       "      <td>-225.0</td>\n",
       "      <td>SELL</td>\n",
       "      <td>1</td>\n",
       "      <td>2</td>\n",
       "      <td>0</td>\n",
       "      <td>1</td>\n",
       "      <td>0</td>\n",
       "    </tr>\n",
       "    <tr>\n",
       "      <th>6</th>\n",
       "      <td>2014-11-19 13:00:00</td>\n",
       "      <td>2014.11.19</td>\n",
       "      <td>13:00:00</td>\n",
       "      <td>53410.0</td>\n",
       "      <td>53435.0</td>\n",
       "      <td>53245.0</td>\n",
       "      <td>53285.0</td>\n",
       "      <td>5022.0</td>\n",
       "      <td>53556.844986</td>\n",
       "      <td>53273.155014</td>\n",
       "      <td>...</td>\n",
       "      <td>11</td>\n",
       "      <td>2</td>\n",
       "      <td>2</td>\n",
       "      <td>-140.0</td>\n",
       "      <td>HOLD</td>\n",
       "      <td>2</td>\n",
       "      <td>1</td>\n",
       "      <td>1</td>\n",
       "      <td>0</td>\n",
       "      <td>0</td>\n",
       "    </tr>\n",
       "    <tr>\n",
       "      <th>7</th>\n",
       "      <td>2014-11-19 13:05:00</td>\n",
       "      <td>2014.11.19</td>\n",
       "      <td>13:05:00</td>\n",
       "      <td>53285.0</td>\n",
       "      <td>53325.0</td>\n",
       "      <td>53195.0</td>\n",
       "      <td>53270.0</td>\n",
       "      <td>3724.0</td>\n",
       "      <td>53528.149610</td>\n",
       "      <td>53213.850390</td>\n",
       "      <td>...</td>\n",
       "      <td>11</td>\n",
       "      <td>2</td>\n",
       "      <td>2</td>\n",
       "      <td>-130.0</td>\n",
       "      <td>HOLD</td>\n",
       "      <td>2</td>\n",
       "      <td>1</td>\n",
       "      <td>1</td>\n",
       "      <td>0</td>\n",
       "      <td>0</td>\n",
       "    </tr>\n",
       "    <tr>\n",
       "      <th>8</th>\n",
       "      <td>2014-11-19 13:10:00</td>\n",
       "      <td>2014.11.19</td>\n",
       "      <td>13:10:00</td>\n",
       "      <td>53260.0</td>\n",
       "      <td>53305.0</td>\n",
       "      <td>53155.0</td>\n",
       "      <td>53185.0</td>\n",
       "      <td>4687.0</td>\n",
       "      <td>53525.049499</td>\n",
       "      <td>53120.950501</td>\n",
       "      <td>...</td>\n",
       "      <td>11</td>\n",
       "      <td>2</td>\n",
       "      <td>2</td>\n",
       "      <td>-125.0</td>\n",
       "      <td>HOLD</td>\n",
       "      <td>2</td>\n",
       "      <td>1</td>\n",
       "      <td>1</td>\n",
       "      <td>0</td>\n",
       "      <td>0</td>\n",
       "    </tr>\n",
       "    <tr>\n",
       "      <th>9</th>\n",
       "      <td>2014-11-19 13:15:00</td>\n",
       "      <td>2014.11.19</td>\n",
       "      <td>13:15:00</td>\n",
       "      <td>53190.0</td>\n",
       "      <td>53205.0</td>\n",
       "      <td>53100.0</td>\n",
       "      <td>53145.0</td>\n",
       "      <td>4140.0</td>\n",
       "      <td>53442.455717</td>\n",
       "      <td>53075.544283</td>\n",
       "      <td>...</td>\n",
       "      <td>11</td>\n",
       "      <td>2</td>\n",
       "      <td>2</td>\n",
       "      <td>-95.0</td>\n",
       "      <td>HOLD</td>\n",
       "      <td>2</td>\n",
       "      <td>1</td>\n",
       "      <td>1</td>\n",
       "      <td>0</td>\n",
       "      <td>0</td>\n",
       "    </tr>\n",
       "    <tr>\n",
       "      <th>10</th>\n",
       "      <td>2014-11-19 13:20:00</td>\n",
       "      <td>2014.11.19</td>\n",
       "      <td>13:20:00</td>\n",
       "      <td>53145.0</td>\n",
       "      <td>53190.0</td>\n",
       "      <td>53110.0</td>\n",
       "      <td>53140.0</td>\n",
       "      <td>2690.0</td>\n",
       "      <td>53327.800651</td>\n",
       "      <td>53082.199349</td>\n",
       "      <td>...</td>\n",
       "      <td>11</td>\n",
       "      <td>2</td>\n",
       "      <td>2</td>\n",
       "      <td>-230.0</td>\n",
       "      <td>SELL</td>\n",
       "      <td>1</td>\n",
       "      <td>2</td>\n",
       "      <td>0</td>\n",
       "      <td>1</td>\n",
       "      <td>0</td>\n",
       "    </tr>\n",
       "    <tr>\n",
       "      <th>11</th>\n",
       "      <td>2014-11-19 13:25:00</td>\n",
       "      <td>2014.11.19</td>\n",
       "      <td>13:25:00</td>\n",
       "      <td>53140.0</td>\n",
       "      <td>53140.0</td>\n",
       "      <td>53050.0</td>\n",
       "      <td>53060.0</td>\n",
       "      <td>2720.0</td>\n",
       "      <td>53296.674797</td>\n",
       "      <td>53023.325203</td>\n",
       "      <td>...</td>\n",
       "      <td>11</td>\n",
       "      <td>2</td>\n",
       "      <td>2</td>\n",
       "      <td>-80.0</td>\n",
       "      <td>HOLD</td>\n",
       "      <td>2</td>\n",
       "      <td>1</td>\n",
       "      <td>1</td>\n",
       "      <td>0</td>\n",
       "      <td>0</td>\n",
       "    </tr>\n",
       "    <tr>\n",
       "      <th>12</th>\n",
       "      <td>2014-11-19 13:30:00</td>\n",
       "      <td>2014.11.19</td>\n",
       "      <td>13:30:00</td>\n",
       "      <td>53055.0</td>\n",
       "      <td>53120.0</td>\n",
       "      <td>53035.0</td>\n",
       "      <td>53050.0</td>\n",
       "      <td>2307.0</td>\n",
       "      <td>53220.575332</td>\n",
       "      <td>53011.424668</td>\n",
       "      <td>...</td>\n",
       "      <td>11</td>\n",
       "      <td>2</td>\n",
       "      <td>2</td>\n",
       "      <td>25.0</td>\n",
       "      <td>HOLD</td>\n",
       "      <td>2</td>\n",
       "      <td>1</td>\n",
       "      <td>1</td>\n",
       "      <td>0</td>\n",
       "      <td>0</td>\n",
       "    </tr>\n",
       "    <tr>\n",
       "      <th>13</th>\n",
       "      <td>2014-11-19 13:35:00</td>\n",
       "      <td>2014.11.19</td>\n",
       "      <td>13:35:00</td>\n",
       "      <td>53045.0</td>\n",
       "      <td>53055.0</td>\n",
       "      <td>52900.0</td>\n",
       "      <td>52910.0</td>\n",
       "      <td>5214.0</td>\n",
       "      <td>53231.223383</td>\n",
       "      <td>52890.776617</td>\n",
       "      <td>...</td>\n",
       "      <td>11</td>\n",
       "      <td>2</td>\n",
       "      <td>2</td>\n",
       "      <td>255.0</td>\n",
       "      <td>BUY</td>\n",
       "      <td>0</td>\n",
       "      <td>0</td>\n",
       "      <td>0</td>\n",
       "      <td>0</td>\n",
       "      <td>1</td>\n",
       "    </tr>\n",
       "    <tr>\n",
       "      <th>14</th>\n",
       "      <td>2014-11-19 13:40:00</td>\n",
       "      <td>2014.11.19</td>\n",
       "      <td>13:40:00</td>\n",
       "      <td>52915.0</td>\n",
       "      <td>53010.0</td>\n",
       "      <td>52820.0</td>\n",
       "      <td>52980.0</td>\n",
       "      <td>6234.0</td>\n",
       "      <td>53183.640612</td>\n",
       "      <td>52872.359388</td>\n",
       "      <td>...</td>\n",
       "      <td>11</td>\n",
       "      <td>2</td>\n",
       "      <td>2</td>\n",
       "      <td>180.0</td>\n",
       "      <td>BUY</td>\n",
       "      <td>0</td>\n",
       "      <td>0</td>\n",
       "      <td>0</td>\n",
       "      <td>0</td>\n",
       "      <td>1</td>\n",
       "    </tr>\n",
       "    <tr>\n",
       "      <th>15</th>\n",
       "      <td>2014-11-19 13:45:00</td>\n",
       "      <td>2014.11.19</td>\n",
       "      <td>13:45:00</td>\n",
       "      <td>52975.0</td>\n",
       "      <td>53095.0</td>\n",
       "      <td>52950.0</td>\n",
       "      <td>53075.0</td>\n",
       "      <td>4254.0</td>\n",
       "      <td>53138.612297</td>\n",
       "      <td>52891.387703</td>\n",
       "      <td>...</td>\n",
       "      <td>11</td>\n",
       "      <td>2</td>\n",
       "      <td>2</td>\n",
       "      <td>-5.0</td>\n",
       "      <td>HOLD</td>\n",
       "      <td>2</td>\n",
       "      <td>1</td>\n",
       "      <td>1</td>\n",
       "      <td>0</td>\n",
       "      <td>0</td>\n",
       "    </tr>\n",
       "    <tr>\n",
       "      <th>16</th>\n",
       "      <td>2014-11-19 13:50:00</td>\n",
       "      <td>2014.11.19</td>\n",
       "      <td>13:50:00</td>\n",
       "      <td>53075.0</td>\n",
       "      <td>53180.0</td>\n",
       "      <td>53070.0</td>\n",
       "      <td>53165.0</td>\n",
       "      <td>3937.0</td>\n",
       "      <td>53208.904598</td>\n",
       "      <td>52863.095402</td>\n",
       "      <td>...</td>\n",
       "      <td>11</td>\n",
       "      <td>2</td>\n",
       "      <td>2</td>\n",
       "      <td>60.0</td>\n",
       "      <td>HOLD</td>\n",
       "      <td>2</td>\n",
       "      <td>1</td>\n",
       "      <td>1</td>\n",
       "      <td>0</td>\n",
       "      <td>0</td>\n",
       "    </tr>\n",
       "    <tr>\n",
       "      <th>17</th>\n",
       "      <td>2014-11-19 13:55:00</td>\n",
       "      <td>2014.11.19</td>\n",
       "      <td>13:55:00</td>\n",
       "      <td>53165.0</td>\n",
       "      <td>53255.0</td>\n",
       "      <td>53135.0</td>\n",
       "      <td>53160.0</td>\n",
       "      <td>4487.0</td>\n",
       "      <td>53258.259831</td>\n",
       "      <td>52857.740169</td>\n",
       "      <td>...</td>\n",
       "      <td>11</td>\n",
       "      <td>2</td>\n",
       "      <td>2</td>\n",
       "      <td>-55.0</td>\n",
       "      <td>HOLD</td>\n",
       "      <td>2</td>\n",
       "      <td>1</td>\n",
       "      <td>1</td>\n",
       "      <td>0</td>\n",
       "      <td>0</td>\n",
       "    </tr>\n",
       "    <tr>\n",
       "      <th>18</th>\n",
       "      <td>2014-11-19 14:00:00</td>\n",
       "      <td>2014.11.19</td>\n",
       "      <td>14:00:00</td>\n",
       "      <td>53155.0</td>\n",
       "      <td>53170.0</td>\n",
       "      <td>53040.0</td>\n",
       "      <td>53070.0</td>\n",
       "      <td>4349.0</td>\n",
       "      <td>53226.381817</td>\n",
       "      <td>52953.618183</td>\n",
       "      <td>...</td>\n",
       "      <td>11</td>\n",
       "      <td>2</td>\n",
       "      <td>2</td>\n",
       "      <td>130.0</td>\n",
       "      <td>HOLD</td>\n",
       "      <td>2</td>\n",
       "      <td>1</td>\n",
       "      <td>1</td>\n",
       "      <td>0</td>\n",
       "      <td>0</td>\n",
       "    </tr>\n",
       "    <tr>\n",
       "      <th>19</th>\n",
       "      <td>2014-11-19 14:05:00</td>\n",
       "      <td>2014.11.19</td>\n",
       "      <td>14:05:00</td>\n",
       "      <td>53065.0</td>\n",
       "      <td>53230.0</td>\n",
       "      <td>53035.0</td>\n",
       "      <td>53225.0</td>\n",
       "      <td>3960.0</td>\n",
       "      <td>53256.881296</td>\n",
       "      <td>53021.118704</td>\n",
       "      <td>...</td>\n",
       "      <td>11</td>\n",
       "      <td>2</td>\n",
       "      <td>2</td>\n",
       "      <td>10.0</td>\n",
       "      <td>HOLD</td>\n",
       "      <td>2</td>\n",
       "      <td>1</td>\n",
       "      <td>1</td>\n",
       "      <td>0</td>\n",
       "      <td>0</td>\n",
       "    </tr>\n",
       "  </tbody>\n",
       "</table>\n",
       "<p>20 rows × 126 columns</p>\n",
       "</div>"
      ],
      "text/plain": [
       "              DATETIME        DATE      TIME     OPEN     HIGH      LOW  \\\n",
       "0  2014-11-19 12:30:00  2014.11.19  12:30:00  53560.0  53565.0  53405.0   \n",
       "1  2014-11-19 12:35:00  2014.11.19  12:35:00  53410.0  53500.0  53295.0   \n",
       "2  2014-11-19 12:40:00  2014.11.19  12:40:00  53420.0  53495.0  53370.0   \n",
       "3  2014-11-19 12:45:00  2014.11.19  12:45:00  53495.0  53595.0  53410.0   \n",
       "4  2014-11-19 12:50:00  2014.11.19  12:50:00  53420.0  53545.0  53415.0   \n",
       "5  2014-11-19 12:55:00  2014.11.19  12:55:00  53465.0  53525.0  53385.0   \n",
       "6  2014-11-19 13:00:00  2014.11.19  13:00:00  53410.0  53435.0  53245.0   \n",
       "7  2014-11-19 13:05:00  2014.11.19  13:05:00  53285.0  53325.0  53195.0   \n",
       "8  2014-11-19 13:10:00  2014.11.19  13:10:00  53260.0  53305.0  53155.0   \n",
       "9  2014-11-19 13:15:00  2014.11.19  13:15:00  53190.0  53205.0  53100.0   \n",
       "10 2014-11-19 13:20:00  2014.11.19  13:20:00  53145.0  53190.0  53110.0   \n",
       "11 2014-11-19 13:25:00  2014.11.19  13:25:00  53140.0  53140.0  53050.0   \n",
       "12 2014-11-19 13:30:00  2014.11.19  13:30:00  53055.0  53120.0  53035.0   \n",
       "13 2014-11-19 13:35:00  2014.11.19  13:35:00  53045.0  53055.0  52900.0   \n",
       "14 2014-11-19 13:40:00  2014.11.19  13:40:00  52915.0  53010.0  52820.0   \n",
       "15 2014-11-19 13:45:00  2014.11.19  13:45:00  52975.0  53095.0  52950.0   \n",
       "16 2014-11-19 13:50:00  2014.11.19  13:50:00  53075.0  53180.0  53070.0   \n",
       "17 2014-11-19 13:55:00  2014.11.19  13:55:00  53165.0  53255.0  53135.0   \n",
       "18 2014-11-19 14:00:00  2014.11.19  14:00:00  53155.0  53170.0  53040.0   \n",
       "19 2014-11-19 14:05:00  2014.11.19  14:05:00  53065.0  53230.0  53035.0   \n",
       "\n",
       "      CLOSE     VOL  BBANDS_Upper_5  BBANDS_Lower_5  ...  MES  DIA_SEMANA  \\\n",
       "0   53410.0  8363.0    53752.526189    53227.473811  ...   11           2   \n",
       "1   53415.0  7034.0    53712.281525    53317.718475  ...   11           2   \n",
       "2   53490.0  4654.0    53708.292713    53311.707287  ...   11           2   \n",
       "3   53425.0  5518.0    53575.412304    53344.587696  ...   11           2   \n",
       "4   53465.0  3800.0    53503.417946    53378.582054  ...   11           2   \n",
       "5   53410.0  2793.0    53503.417946    53378.582054  ...   11           2   \n",
       "6   53285.0  5022.0    53556.844986    53273.155014  ...   11           2   \n",
       "7   53270.0  3724.0    53528.149610    53213.850390  ...   11           2   \n",
       "8   53185.0  4687.0    53525.049499    53120.950501  ...   11           2   \n",
       "9   53145.0  4140.0    53442.455717    53075.544283  ...   11           2   \n",
       "10  53140.0  2690.0    53327.800651    53082.199349  ...   11           2   \n",
       "11  53060.0  2720.0    53296.674797    53023.325203  ...   11           2   \n",
       "12  53050.0  2307.0    53220.575332    53011.424668  ...   11           2   \n",
       "13  52910.0  5214.0    53231.223383    52890.776617  ...   11           2   \n",
       "14  52980.0  6234.0    53183.640612    52872.359388  ...   11           2   \n",
       "15  53075.0  4254.0    53138.612297    52891.387703  ...   11           2   \n",
       "16  53165.0  3937.0    53208.904598    52863.095402  ...   11           2   \n",
       "17  53160.0  4487.0    53258.259831    52857.740169  ...   11           2   \n",
       "18  53070.0  4349.0    53226.381817    52953.618183  ...   11           2   \n",
       "19  53225.0  3960.0    53256.881296    53021.118704  ...   11           2   \n",
       "\n",
       "    HORA_NOBRE  TARGET_WIN  TARGET_WIN_CAT3  TARGET_WIN_CAT3_LABEL  \\\n",
       "0            2        15.0             HOLD                      2   \n",
       "1            2        50.0             HOLD                      2   \n",
       "2            2       -80.0             HOLD                      2   \n",
       "3            2      -140.0             HOLD                      2   \n",
       "4            2      -195.0             SELL                      1   \n",
       "5            2      -225.0             SELL                      1   \n",
       "6            2      -140.0             HOLD                      2   \n",
       "7            2      -130.0             HOLD                      2   \n",
       "8            2      -125.0             HOLD                      2   \n",
       "9            2       -95.0             HOLD                      2   \n",
       "10           2      -230.0             SELL                      1   \n",
       "11           2       -80.0             HOLD                      2   \n",
       "12           2        25.0             HOLD                      2   \n",
       "13           2       255.0              BUY                      0   \n",
       "14           2       180.0              BUY                      0   \n",
       "15           2        -5.0             HOLD                      2   \n",
       "16           2        60.0             HOLD                      2   \n",
       "17           2       -55.0             HOLD                      2   \n",
       "18           2       130.0             HOLD                      2   \n",
       "19           2        10.0             HOLD                      2   \n",
       "\n",
       "    TARGET_WIN_CAT_ENC  HOLD  SELL  BUY  \n",
       "0                    1     1     0    0  \n",
       "1                    1     1     0    0  \n",
       "2                    1     1     0    0  \n",
       "3                    1     1     0    0  \n",
       "4                    2     0     1    0  \n",
       "5                    2     0     1    0  \n",
       "6                    1     1     0    0  \n",
       "7                    1     1     0    0  \n",
       "8                    1     1     0    0  \n",
       "9                    1     1     0    0  \n",
       "10                   2     0     1    0  \n",
       "11                   1     1     0    0  \n",
       "12                   1     1     0    0  \n",
       "13                   0     0     0    1  \n",
       "14                   0     0     0    1  \n",
       "15                   1     1     0    0  \n",
       "16                   1     1     0    0  \n",
       "17                   1     1     0    0  \n",
       "18                   1     1     0    0  \n",
       "19                   1     1     0    0  \n",
       "\n",
       "[20 rows x 126 columns]"
      ]
     },
     "execution_count": 4,
     "metadata": {},
     "output_type": "execute_result"
    }
   ],
   "source": [
    "# Carregar o Dataset\n",
    "filepath = 'C:/Users/auW10/Documents/CodigosDoAu/000_Doutorado/dataset/'\n",
    "df = pd.read_pickle(filepath+'dataset_with_TI_ciclo1_multiclass_jupyter_113TIs.pkl')\n",
    "print(df.shape)\n",
    "df.head(20)"
   ]
  },
  {
   "cell_type": "markdown",
   "metadata": {},
   "source": [
    "## Split dos Dados"
   ]
  },
  {
   "cell_type": "code",
   "execution_count": 5,
   "metadata": {},
   "outputs": [
    {
     "data": {
      "text/plain": [
       "['DATETIME',\n",
       " 'DATE',\n",
       " 'TIME',\n",
       " 'OPEN',\n",
       " 'HIGH',\n",
       " 'LOW',\n",
       " 'CLOSE',\n",
       " 'VOL',\n",
       " 'BBANDS_Upper_5',\n",
       " 'BBANDS_Lower_5',\n",
       " 'BBANDS_Upper_10',\n",
       " 'BBANDS_Lower_10',\n",
       " 'BBANDS_Upper_20',\n",
       " 'BBANDS_Lower_20',\n",
       " 'DEMA_20',\n",
       " 'EMA_20',\n",
       " 'KAMA_5',\n",
       " 'KAMA_10',\n",
       " 'KAMA_20',\n",
       " 'MIDPOINT_3',\n",
       " 'MIDPOINT_12',\n",
       " 'MIDPRICE_3',\n",
       " 'MIDPRICE_12',\n",
       " 'SAR_2',\n",
       " 'SAR_6',\n",
       " 'SAR_10',\n",
       " 'SAR_14',\n",
       " 'SAR_18',\n",
       " 'TEMA_5',\n",
       " 'TRIMA_5',\n",
       " 'TRIMA_10',\n",
       " 'TRIMA_20',\n",
       " 'WMA_5',\n",
       " 'WMA_10',\n",
       " 'WMA_20',\n",
       " 'ADX_3',\n",
       " 'ADX_6',\n",
       " 'ADX_10',\n",
       " 'ADXR_3',\n",
       " 'ADXR_6',\n",
       " 'APO_3_12',\n",
       " 'APO_5_12',\n",
       " 'AROONOSC_3',\n",
       " 'AROONOSC_6',\n",
       " 'AROONOSC_12',\n",
       " 'BOP',\n",
       " 'CCI_3',\n",
       " 'CCI_6',\n",
       " 'CCI_12',\n",
       " 'CCI_20',\n",
       " 'CMO_3',\n",
       " 'CMO_6',\n",
       " 'CMO_12',\n",
       " 'CMO_20',\n",
       " 'DX_3',\n",
       " 'DX_6',\n",
       " 'DX_12',\n",
       " 'DX_20',\n",
       " 'MFI_3',\n",
       " 'MFI_6',\n",
       " 'MFI_12',\n",
       " 'MINUS_DI_3',\n",
       " 'MINUS_DI_6',\n",
       " 'MINUS_DI_12',\n",
       " 'MINUS_DI_20',\n",
       " 'MINUS_DM_3',\n",
       " 'MINUS_DM_6',\n",
       " 'MINUS_DM_12',\n",
       " 'MINUS_DM_20',\n",
       " 'MOM_3',\n",
       " 'MOM_6',\n",
       " 'MOM_10',\n",
       " 'MOM_14',\n",
       " 'PLUS_DI_3',\n",
       " 'PLUS_DI_6',\n",
       " 'PLUS_DI_12',\n",
       " 'PLUS_DI_20',\n",
       " 'PLUS_DM_3',\n",
       " 'PLUS_DM_6',\n",
       " 'PLUS_DM_12',\n",
       " 'PLUS_DM_20',\n",
       " 'PPO_3_12',\n",
       " 'PPO_12_20',\n",
       " 'ROC_3',\n",
       " 'ROC_5',\n",
       " 'ROC_7',\n",
       " 'ROC_10',\n",
       " 'ROCP_3',\n",
       " 'ROCP_5',\n",
       " 'ROCP_7',\n",
       " 'ROCP_10',\n",
       " 'ROCR_3',\n",
       " 'ROCR_5',\n",
       " 'ROCR_7',\n",
       " 'ROCR_10',\n",
       " 'RSI_3',\n",
       " 'RSI_6',\n",
       " 'RSI_10',\n",
       " 'RSI_14',\n",
       " 'TRIX_3',\n",
       " 'TRIX_5',\n",
       " 'TRIX_7',\n",
       " 'ULTOSC_3_6_12',\n",
       " 'ULTOSC_5_10_20',\n",
       " 'WILLR_3',\n",
       " 'WILLR_6',\n",
       " 'WILLR_12',\n",
       " 'WILLR_20',\n",
       " 'AD',\n",
       " 'ADOSC',\n",
       " 'OBV',\n",
       " 'ATR_3',\n",
       " 'ATR_6',\n",
       " 'ATR_12',\n",
       " 'ATR_20',\n",
       " 'TRANGE',\n",
       " 'MES',\n",
       " 'DIA_SEMANA',\n",
       " 'HORA_NOBRE',\n",
       " 'TARGET_WIN',\n",
       " 'TARGET_WIN_CAT3',\n",
       " 'TARGET_WIN_CAT3_LABEL',\n",
       " 'TARGET_WIN_CAT_ENC',\n",
       " 'HOLD',\n",
       " 'SELL',\n",
       " 'BUY']"
      ]
     },
     "execution_count": 5,
     "metadata": {},
     "output_type": "execute_result"
    }
   ],
   "source": [
    "df.columns.tolist()"
   ]
  },
  {
   "cell_type": "code",
   "execution_count": 6,
   "metadata": {
    "scrolled": true
   },
   "outputs": [
    {
     "name": "stdout",
     "output_type": "stream",
     "text": [
      "(139881, 126)\n",
      "(139881, 119)\n"
     ]
    },
    {
     "data": {
      "text/html": [
       "<div>\n",
       "<style scoped>\n",
       "    .dataframe tbody tr th:only-of-type {\n",
       "        vertical-align: middle;\n",
       "    }\n",
       "\n",
       "    .dataframe tbody tr th {\n",
       "        vertical-align: top;\n",
       "    }\n",
       "\n",
       "    .dataframe thead th {\n",
       "        text-align: right;\n",
       "    }\n",
       "</style>\n",
       "<table border=\"1\" class=\"dataframe\">\n",
       "  <thead>\n",
       "    <tr style=\"text-align: right;\">\n",
       "      <th></th>\n",
       "      <th>DATETIME</th>\n",
       "      <th>DATE</th>\n",
       "      <th>TIME</th>\n",
       "      <th>OPEN</th>\n",
       "      <th>HIGH</th>\n",
       "      <th>LOW</th>\n",
       "      <th>CLOSE</th>\n",
       "      <th>VOL</th>\n",
       "      <th>BBANDS_Upper_5</th>\n",
       "      <th>BBANDS_Lower_5</th>\n",
       "      <th>...</th>\n",
       "      <th>ADOSC</th>\n",
       "      <th>OBV</th>\n",
       "      <th>ATR_3</th>\n",
       "      <th>ATR_6</th>\n",
       "      <th>ATR_12</th>\n",
       "      <th>ATR_20</th>\n",
       "      <th>TRANGE</th>\n",
       "      <th>HORA_NOBRE</th>\n",
       "      <th>TARGET_WIN_CAT3</th>\n",
       "      <th>TARGET_WIN_CAT3_LABEL</th>\n",
       "    </tr>\n",
       "  </thead>\n",
       "  <tbody>\n",
       "    <tr>\n",
       "      <th>0</th>\n",
       "      <td>2014-11-19 12:30:00</td>\n",
       "      <td>2014.11.19</td>\n",
       "      <td>12:30:00</td>\n",
       "      <td>53560.0</td>\n",
       "      <td>53565.0</td>\n",
       "      <td>53405.0</td>\n",
       "      <td>53410.0</td>\n",
       "      <td>8363.0</td>\n",
       "      <td>53752.526189</td>\n",
       "      <td>53227.473811</td>\n",
       "      <td>...</td>\n",
       "      <td>224.882410</td>\n",
       "      <td>16995.0</td>\n",
       "      <td>183.08836</td>\n",
       "      <td>157.567344</td>\n",
       "      <td>133.163314</td>\n",
       "      <td>122.7500</td>\n",
       "      <td>160.0</td>\n",
       "      <td>2</td>\n",
       "      <td>HOLD</td>\n",
       "      <td>2</td>\n",
       "    </tr>\n",
       "    <tr>\n",
       "      <th>1</th>\n",
       "      <td>2014-11-19 12:35:00</td>\n",
       "      <td>2014.11.19</td>\n",
       "      <td>12:35:00</td>\n",
       "      <td>53410.0</td>\n",
       "      <td>53500.0</td>\n",
       "      <td>53295.0</td>\n",
       "      <td>53415.0</td>\n",
       "      <td>7034.0</td>\n",
       "      <td>53712.281525</td>\n",
       "      <td>53317.718475</td>\n",
       "      <td>...</td>\n",
       "      <td>-968.557883</td>\n",
       "      <td>24029.0</td>\n",
       "      <td>190.39224</td>\n",
       "      <td>165.472787</td>\n",
       "      <td>139.149704</td>\n",
       "      <td>126.8625</td>\n",
       "      <td>205.0</td>\n",
       "      <td>2</td>\n",
       "      <td>HOLD</td>\n",
       "      <td>2</td>\n",
       "    </tr>\n",
       "  </tbody>\n",
       "</table>\n",
       "<p>2 rows × 119 columns</p>\n",
       "</div>"
      ],
      "text/plain": [
       "             DATETIME        DATE      TIME     OPEN     HIGH      LOW  \\\n",
       "0 2014-11-19 12:30:00  2014.11.19  12:30:00  53560.0  53565.0  53405.0   \n",
       "1 2014-11-19 12:35:00  2014.11.19  12:35:00  53410.0  53500.0  53295.0   \n",
       "\n",
       "     CLOSE     VOL  BBANDS_Upper_5  BBANDS_Lower_5  ...       ADOSC      OBV  \\\n",
       "0  53410.0  8363.0    53752.526189    53227.473811  ...  224.882410  16995.0   \n",
       "1  53415.0  7034.0    53712.281525    53317.718475  ... -968.557883  24029.0   \n",
       "\n",
       "       ATR_3       ATR_6      ATR_12    ATR_20  TRANGE  HORA_NOBRE  \\\n",
       "0  183.08836  157.567344  133.163314  122.7500   160.0           2   \n",
       "1  190.39224  165.472787  139.149704  126.8625   205.0           2   \n",
       "\n",
       "   TARGET_WIN_CAT3  TARGET_WIN_CAT3_LABEL  \n",
       "0             HOLD                      2  \n",
       "1             HOLD                      2  \n",
       "\n",
       "[2 rows x 119 columns]"
      ]
     },
     "execution_count": 6,
     "metadata": {},
     "output_type": "execute_result"
    }
   ],
   "source": [
    "print(df.shape)\n",
    "df2 = df.drop([  'MES',\n",
    "                 'DIA_SEMANA', \n",
    "                 'TARGET_WIN',\n",
    "                 \n",
    "                 'TARGET_WIN_CAT_ENC',\n",
    "             \n",
    "                 'HOLD',\n",
    "                 'SELL',\n",
    "                 'BUY'\n",
    "               \n",
    "              ], axis=1)\n",
    "print(df2.shape)\n",
    "df2.head(2)"
   ]
  },
  {
   "cell_type": "code",
   "execution_count": 7,
   "metadata": {},
   "outputs": [
    {
     "data": {
      "text/plain": [
       "\"\\n             'MIDPOINT_20',\\n             'SAR_2',\\n             'SAR_6', \\n             'CCI_12',\\n             'PPO_12_20',\\n             'AD',\\n             'ADOSC',\\n             'TRIX_5',\\n             'ROC_5',\\n             'APO_5_12',\\n\""
      ]
     },
     "execution_count": 7,
     "metadata": {},
     "output_type": "execute_result"
    }
   ],
   "source": [
    "'''\n",
    "             'MIDPOINT_20',\n",
    "             'SAR_2',\n",
    "             'SAR_6', \n",
    "             'CCI_12',\n",
    "             'PPO_12_20',\n",
    "             'AD',\n",
    "             'ADOSC',\n",
    "             'TRIX_5',\n",
    "             'ROC_5',\n",
    "             'APO_5_12',\n",
    "'''"
   ]
  },
  {
   "cell_type": "code",
   "execution_count": 8,
   "metadata": {
    "scrolled": true
   },
   "outputs": [
    {
     "name": "stdout",
     "output_type": "stream",
     "text": [
      "Proporção Train: 59.1% | Validation: 18.9% | Test: 22.0%\n",
      "(82669, 116) (26410, 116) (30802, 116)\n"
     ]
    },
    {
     "name": "stderr",
     "output_type": "stream",
     "text": [
      "C:\\Users\\auW10\\Anaconda3\\envs\\phd\\lib\\site-packages\\pandas\\core\\frame.py:4170: SettingWithCopyWarning: \n",
      "A value is trying to be set on a copy of a slice from a DataFrame\n",
      "\n",
      "See the caveats in the documentation: https://pandas.pydata.org/pandas-docs/stable/user_guide/indexing.html#returning-a-view-versus-a-copy\n",
      "  errors=errors,\n"
     ]
    }
   ],
   "source": [
    "df_train = df2[(df2['DATETIME'] >= '2014-01-01') & (df2['DATETIME'] < '2018-01-01')]\n",
    "#df_train = df_train.iloc[-10000:, :]\n",
    "df_valid = df2[(df2['DATETIME'] >= '2018-01-01') & (df2['DATETIME'] < '2019-01-01')]\n",
    "#df_valid = df_valid.iloc[:6600, :]\n",
    "df_test  = df2[(df2['DATETIME'] >= '2019-01-01')]\n",
    "#df_test = df_test.iloc[:500,:]\n",
    "\n",
    "print('Proporção Train: {:.1%} | Validation: {:.1%} | Test: {:.1%}'.format(\n",
    "                                            df_train['EMA_20'].count()/df2['EMA_20'].count(),\n",
    "                                            df_valid['EMA_20'].count()/df2['EMA_20'].count(),\n",
    "                                            df_test['EMA_20'].count()/df2['EMA_20'].count()))\n",
    "\n",
    "df_train.drop(['DATETIME', 'DATE', 'TIME'], axis=1, inplace=True)\n",
    "df_valid.drop(['DATETIME', 'DATE', 'TIME'], axis=1, inplace=True)\n",
    "df_test.drop(['DATETIME', 'DATE', 'TIME'], axis=1, inplace=True)\n",
    "print(df_train.shape, df_valid.shape, df_test.shape)"
   ]
  },
  {
   "cell_type": "code",
   "execution_count": 9,
   "metadata": {
    "scrolled": false
   },
   "outputs": [
    {
     "data": {
      "text/html": [
       "<div>\n",
       "<style scoped>\n",
       "    .dataframe tbody tr th:only-of-type {\n",
       "        vertical-align: middle;\n",
       "    }\n",
       "\n",
       "    .dataframe tbody tr th {\n",
       "        vertical-align: top;\n",
       "    }\n",
       "\n",
       "    .dataframe thead th {\n",
       "        text-align: right;\n",
       "    }\n",
       "</style>\n",
       "<table border=\"1\" class=\"dataframe\">\n",
       "  <thead>\n",
       "    <tr style=\"text-align: right;\">\n",
       "      <th></th>\n",
       "      <th>OPEN</th>\n",
       "      <th>HIGH</th>\n",
       "      <th>LOW</th>\n",
       "      <th>CLOSE</th>\n",
       "      <th>VOL</th>\n",
       "      <th>BBANDS_Upper_5</th>\n",
       "      <th>BBANDS_Lower_5</th>\n",
       "      <th>BBANDS_Upper_10</th>\n",
       "      <th>BBANDS_Lower_10</th>\n",
       "      <th>BBANDS_Upper_20</th>\n",
       "      <th>...</th>\n",
       "      <th>ADOSC</th>\n",
       "      <th>OBV</th>\n",
       "      <th>ATR_3</th>\n",
       "      <th>ATR_6</th>\n",
       "      <th>ATR_12</th>\n",
       "      <th>ATR_20</th>\n",
       "      <th>TRANGE</th>\n",
       "      <th>HORA_NOBRE</th>\n",
       "      <th>TARGET_WIN_CAT3</th>\n",
       "      <th>TARGET_WIN_CAT3_LABEL</th>\n",
       "    </tr>\n",
       "  </thead>\n",
       "  <tbody>\n",
       "    <tr>\n",
       "      <th>109098</th>\n",
       "      <td>88095.0</td>\n",
       "      <td>88185.0</td>\n",
       "      <td>88035.0</td>\n",
       "      <td>88150.0</td>\n",
       "      <td>28664.0</td>\n",
       "      <td>88174.761226</td>\n",
       "      <td>88091.238774</td>\n",
       "      <td>88238.387032</td>\n",
       "      <td>87917.612968</td>\n",
       "      <td>88228.767784</td>\n",
       "      <td>...</td>\n",
       "      <td>28633.191133</td>\n",
       "      <td>-3220019.0</td>\n",
       "      <td>140.147904</td>\n",
       "      <td>138.857426</td>\n",
       "      <td>142.408421</td>\n",
       "      <td>142.348568</td>\n",
       "      <td>150.0</td>\n",
       "      <td>1</td>\n",
       "      <td>BUY</td>\n",
       "      <td>0</td>\n",
       "    </tr>\n",
       "    <tr>\n",
       "      <th>109099</th>\n",
       "      <td>88155.0</td>\n",
       "      <td>88235.0</td>\n",
       "      <td>88135.0</td>\n",
       "      <td>88215.0</td>\n",
       "      <td>43829.0</td>\n",
       "      <td>88227.201036</td>\n",
       "      <td>88072.798964</td>\n",
       "      <td>88265.352380</td>\n",
       "      <td>87938.647620</td>\n",
       "      <td>88242.138019</td>\n",
       "      <td>...</td>\n",
       "      <td>36933.665650</td>\n",
       "      <td>-3176190.0</td>\n",
       "      <td>126.765270</td>\n",
       "      <td>132.381188</td>\n",
       "      <td>138.874386</td>\n",
       "      <td>140.231139</td>\n",
       "      <td>100.0</td>\n",
       "      <td>1</td>\n",
       "      <td>BUY</td>\n",
       "      <td>0</td>\n",
       "    </tr>\n",
       "    <tr>\n",
       "      <th>109100</th>\n",
       "      <td>88210.0</td>\n",
       "      <td>88370.0</td>\n",
       "      <td>88210.0</td>\n",
       "      <td>88345.0</td>\n",
       "      <td>53064.0</td>\n",
       "      <td>88362.567651</td>\n",
       "      <td>88011.432349</td>\n",
       "      <td>88315.058813</td>\n",
       "      <td>87974.941187</td>\n",
       "      <td>88296.218540</td>\n",
       "      <td>...</td>\n",
       "      <td>50232.565203</td>\n",
       "      <td>-3123126.0</td>\n",
       "      <td>137.843513</td>\n",
       "      <td>136.984323</td>\n",
       "      <td>140.634854</td>\n",
       "      <td>141.219582</td>\n",
       "      <td>160.0</td>\n",
       "      <td>1</td>\n",
       "      <td>HOLD</td>\n",
       "      <td>2</td>\n",
       "    </tr>\n",
       "    <tr>\n",
       "      <th>109101</th>\n",
       "      <td>88350.0</td>\n",
       "      <td>88365.0</td>\n",
       "      <td>88260.0</td>\n",
       "      <td>88320.0</td>\n",
       "      <td>35294.0</td>\n",
       "      <td>88415.251156</td>\n",
       "      <td>88036.748844</td>\n",
       "      <td>88361.356717</td>\n",
       "      <td>87977.643283</td>\n",
       "      <td>88334.668262</td>\n",
       "      <td>...</td>\n",
       "      <td>53740.286921</td>\n",
       "      <td>-3158420.0</td>\n",
       "      <td>126.895675</td>\n",
       "      <td>131.653603</td>\n",
       "      <td>137.665283</td>\n",
       "      <td>139.408603</td>\n",
       "      <td>105.0</td>\n",
       "      <td>1</td>\n",
       "      <td>BUY</td>\n",
       "      <td>0</td>\n",
       "    </tr>\n",
       "    <tr>\n",
       "      <th>109102</th>\n",
       "      <td>88320.0</td>\n",
       "      <td>88415.0</td>\n",
       "      <td>88315.0</td>\n",
       "      <td>88365.0</td>\n",
       "      <td>38681.0</td>\n",
       "      <td>88444.336021</td>\n",
       "      <td>88113.663979</td>\n",
       "      <td>88395.471050</td>\n",
       "      <td>88015.528950</td>\n",
       "      <td>88374.346565</td>\n",
       "      <td>...</td>\n",
       "      <td>51090.454808</td>\n",
       "      <td>-3119739.0</td>\n",
       "      <td>117.930450</td>\n",
       "      <td>126.378002</td>\n",
       "      <td>134.526509</td>\n",
       "      <td>137.438173</td>\n",
       "      <td>100.0</td>\n",
       "      <td>1</td>\n",
       "      <td>BUY</td>\n",
       "      <td>0</td>\n",
       "    </tr>\n",
       "    <tr>\n",
       "      <th>109103</th>\n",
       "      <td>88365.0</td>\n",
       "      <td>88490.0</td>\n",
       "      <td>88340.0</td>\n",
       "      <td>88465.0</td>\n",
       "      <td>48422.0</td>\n",
       "      <td>88502.698475</td>\n",
       "      <td>88181.301525</td>\n",
       "      <td>88477.218585</td>\n",
       "      <td>87997.781415</td>\n",
       "      <td>88434.718845</td>\n",
       "      <td>...</td>\n",
       "      <td>57213.644698</td>\n",
       "      <td>-3071317.0</td>\n",
       "      <td>128.620300</td>\n",
       "      <td>130.315002</td>\n",
       "      <td>135.815967</td>\n",
       "      <td>138.066264</td>\n",
       "      <td>150.0</td>\n",
       "      <td>1</td>\n",
       "      <td>BUY</td>\n",
       "      <td>0</td>\n",
       "    </tr>\n",
       "    <tr>\n",
       "      <th>109104</th>\n",
       "      <td>88465.0</td>\n",
       "      <td>88535.0</td>\n",
       "      <td>88425.0</td>\n",
       "      <td>88510.0</td>\n",
       "      <td>48057.0</td>\n",
       "      <td>88547.887712</td>\n",
       "      <td>88254.112288</td>\n",
       "      <td>88552.572193</td>\n",
       "      <td>87998.427807</td>\n",
       "      <td>88499.440541</td>\n",
       "      <td>...</td>\n",
       "      <td>64476.874745</td>\n",
       "      <td>-3023260.0</td>\n",
       "      <td>122.413533</td>\n",
       "      <td>126.929168</td>\n",
       "      <td>133.664636</td>\n",
       "      <td>136.662951</td>\n",
       "      <td>110.0</td>\n",
       "      <td>1</td>\n",
       "      <td>HOLD</td>\n",
       "      <td>2</td>\n",
       "    </tr>\n",
       "    <tr>\n",
       "      <th>109105</th>\n",
       "      <td>88510.0</td>\n",
       "      <td>88595.0</td>\n",
       "      <td>88485.0</td>\n",
       "      <td>88540.0</td>\n",
       "      <td>41115.0</td>\n",
       "      <td>88608.641632</td>\n",
       "      <td>88271.358368</td>\n",
       "      <td>88619.508170</td>\n",
       "      <td>88007.491830</td>\n",
       "      <td>88560.245516</td>\n",
       "      <td>...</td>\n",
       "      <td>62590.020169</td>\n",
       "      <td>-2982145.0</td>\n",
       "      <td>118.275689</td>\n",
       "      <td>124.107640</td>\n",
       "      <td>131.692583</td>\n",
       "      <td>135.329804</td>\n",
       "      <td>110.0</td>\n",
       "      <td>1</td>\n",
       "      <td>HOLD</td>\n",
       "      <td>2</td>\n",
       "    </tr>\n",
       "    <tr>\n",
       "      <th>109106</th>\n",
       "      <td>88535.0</td>\n",
       "      <td>88785.0</td>\n",
       "      <td>88535.0</td>\n",
       "      <td>88770.0</td>\n",
       "      <td>68349.0</td>\n",
       "      <td>88797.656496</td>\n",
       "      <td>88262.343504</td>\n",
       "      <td>88760.287850</td>\n",
       "      <td>87995.712150</td>\n",
       "      <td>88664.431931</td>\n",
       "      <td>...</td>\n",
       "      <td>77797.275527</td>\n",
       "      <td>-2913796.0</td>\n",
       "      <td>162.183793</td>\n",
       "      <td>145.089700</td>\n",
       "      <td>141.551534</td>\n",
       "      <td>141.063314</td>\n",
       "      <td>250.0</td>\n",
       "      <td>1</td>\n",
       "      <td>SELL</td>\n",
       "      <td>1</td>\n",
       "    </tr>\n",
       "    <tr>\n",
       "      <th>109107</th>\n",
       "      <td>88765.0</td>\n",
       "      <td>88775.0</td>\n",
       "      <td>88635.0</td>\n",
       "      <td>88650.0</td>\n",
       "      <td>48386.0</td>\n",
       "      <td>88806.963633</td>\n",
       "      <td>88367.036367</td>\n",
       "      <td>88797.313052</td>\n",
       "      <td>88068.686948</td>\n",
       "      <td>88718.347974</td>\n",
       "      <td>...</td>\n",
       "      <td>65086.779952</td>\n",
       "      <td>-2962182.0</td>\n",
       "      <td>154.789195</td>\n",
       "      <td>144.241417</td>\n",
       "      <td>141.422240</td>\n",
       "      <td>141.010148</td>\n",
       "      <td>140.0</td>\n",
       "      <td>1</td>\n",
       "      <td>HOLD</td>\n",
       "      <td>2</td>\n",
       "    </tr>\n",
       "    <tr>\n",
       "      <th>109108</th>\n",
       "      <td>88650.0</td>\n",
       "      <td>88650.0</td>\n",
       "      <td>88525.0</td>\n",
       "      <td>88640.0</td>\n",
       "      <td>52134.0</td>\n",
       "      <td>88805.913023</td>\n",
       "      <td>88438.086977</td>\n",
       "      <td>88810.974163</td>\n",
       "      <td>88153.025837</td>\n",
       "      <td>88759.781200</td>\n",
       "      <td>...</td>\n",
       "      <td>69861.550289</td>\n",
       "      <td>-3014316.0</td>\n",
       "      <td>144.859463</td>\n",
       "      <td>141.034514</td>\n",
       "      <td>140.053720</td>\n",
       "      <td>140.209640</td>\n",
       "      <td>125.0</td>\n",
       "      <td>1</td>\n",
       "      <td>HOLD</td>\n",
       "      <td>2</td>\n",
       "    </tr>\n",
       "    <tr>\n",
       "      <th>109109</th>\n",
       "      <td>88640.0</td>\n",
       "      <td>88680.0</td>\n",
       "      <td>88535.0</td>\n",
       "      <td>88580.0</td>\n",
       "      <td>47093.0</td>\n",
       "      <td>88792.256200</td>\n",
       "      <td>88479.743800</td>\n",
       "      <td>88798.180174</td>\n",
       "      <td>88238.819826</td>\n",
       "      <td>88785.565422</td>\n",
       "      <td>...</td>\n",
       "      <td>60324.381616</td>\n",
       "      <td>-3061409.0</td>\n",
       "      <td>144.906309</td>\n",
       "      <td>141.695428</td>\n",
       "      <td>140.465910</td>\n",
       "      <td>140.449158</td>\n",
       "      <td>145.0</td>\n",
       "      <td>1</td>\n",
       "      <td>BUY</td>\n",
       "      <td>0</td>\n",
       "    </tr>\n",
       "    <tr>\n",
       "      <th>109110</th>\n",
       "      <td>88580.0</td>\n",
       "      <td>88695.0</td>\n",
       "      <td>88540.0</td>\n",
       "      <td>88630.0</td>\n",
       "      <td>41739.0</td>\n",
       "      <td>88779.602548</td>\n",
       "      <td>88528.397452</td>\n",
       "      <td>88807.583960</td>\n",
       "      <td>88286.416040</td>\n",
       "      <td>88804.275027</td>\n",
       "      <td>...</td>\n",
       "      <td>53979.429783</td>\n",
       "      <td>-3019670.0</td>\n",
       "      <td>148.270873</td>\n",
       "      <td>143.912857</td>\n",
       "      <td>141.677084</td>\n",
       "      <td>141.176701</td>\n",
       "      <td>155.0</td>\n",
       "      <td>1</td>\n",
       "      <td>HOLD</td>\n",
       "      <td>2</td>\n",
       "    </tr>\n",
       "    <tr>\n",
       "      <th>109111</th>\n",
       "      <td>88630.0</td>\n",
       "      <td>88715.0</td>\n",
       "      <td>88615.0</td>\n",
       "      <td>88695.0</td>\n",
       "      <td>33581.0</td>\n",
       "      <td>88712.864741</td>\n",
       "      <td>88565.135259</td>\n",
       "      <td>88809.064022</td>\n",
       "      <td>88359.935978</td>\n",
       "      <td>88841.590142</td>\n",
       "      <td>...</td>\n",
       "      <td>54117.278639</td>\n",
       "      <td>-2986089.0</td>\n",
       "      <td>132.180582</td>\n",
       "      <td>136.594047</td>\n",
       "      <td>138.203994</td>\n",
       "      <td>139.117865</td>\n",
       "      <td>100.0</td>\n",
       "      <td>1</td>\n",
       "      <td>HOLD</td>\n",
       "      <td>2</td>\n",
       "    </tr>\n",
       "    <tr>\n",
       "      <th>109112</th>\n",
       "      <td>88695.0</td>\n",
       "      <td>88815.0</td>\n",
       "      <td>88655.0</td>\n",
       "      <td>88750.0</td>\n",
       "      <td>49212.0</td>\n",
       "      <td>88775.687617</td>\n",
       "      <td>88542.312383</td>\n",
       "      <td>88813.220924</td>\n",
       "      <td>88432.779076</td>\n",
       "      <td>88872.990395</td>\n",
       "      <td>...</td>\n",
       "      <td>53206.779799</td>\n",
       "      <td>-2936877.0</td>\n",
       "      <td>141.453721</td>\n",
       "      <td>140.495040</td>\n",
       "      <td>140.020328</td>\n",
       "      <td>140.161972</td>\n",
       "      <td>160.0</td>\n",
       "      <td>1</td>\n",
       "      <td>HOLD</td>\n",
       "      <td>2</td>\n",
       "    </tr>\n",
       "    <tr>\n",
       "      <th>109113</th>\n",
       "      <td>88750.0</td>\n",
       "      <td>88790.0</td>\n",
       "      <td>88685.0</td>\n",
       "      <td>88775.0</td>\n",
       "      <td>31582.0</td>\n",
       "      <td>88831.519758</td>\n",
       "      <td>88540.480242</td>\n",
       "      <td>88831.752637</td>\n",
       "      <td>88476.247363</td>\n",
       "      <td>88912.657646</td>\n",
       "      <td>...</td>\n",
       "      <td>56537.475799</td>\n",
       "      <td>-2905295.0</td>\n",
       "      <td>129.302481</td>\n",
       "      <td>134.579200</td>\n",
       "      <td>137.101967</td>\n",
       "      <td>138.403874</td>\n",
       "      <td>105.0</td>\n",
       "      <td>1</td>\n",
       "      <td>BUY</td>\n",
       "      <td>0</td>\n",
       "    </tr>\n",
       "    <tr>\n",
       "      <th>109114</th>\n",
       "      <td>88775.0</td>\n",
       "      <td>88865.0</td>\n",
       "      <td>88730.0</td>\n",
       "      <td>88730.0</td>\n",
       "      <td>43119.0</td>\n",
       "      <td>88816.677704</td>\n",
       "      <td>88615.322296</td>\n",
       "      <td>88829.870075</td>\n",
       "      <td>88522.129925</td>\n",
       "      <td>88934.686542</td>\n",
       "      <td>...</td>\n",
       "      <td>38671.772123</td>\n",
       "      <td>-2948414.0</td>\n",
       "      <td>131.201654</td>\n",
       "      <td>134.649333</td>\n",
       "      <td>136.926803</td>\n",
       "      <td>138.233680</td>\n",
       "      <td>135.0</td>\n",
       "      <td>1</td>\n",
       "      <td>BUY</td>\n",
       "      <td>0</td>\n",
       "    </tr>\n",
       "    <tr>\n",
       "      <th>109115</th>\n",
       "      <td>88730.0</td>\n",
       "      <td>88855.0</td>\n",
       "      <td>88715.0</td>\n",
       "      <td>88800.0</td>\n",
       "      <td>44873.0</td>\n",
       "      <td>88822.387844</td>\n",
       "      <td>88677.612156</td>\n",
       "      <td>88842.442159</td>\n",
       "      <td>88561.557841</td>\n",
       "      <td>88963.397616</td>\n",
       "      <td>...</td>\n",
       "      <td>31466.945239</td>\n",
       "      <td>-2903541.0</td>\n",
       "      <td>134.134436</td>\n",
       "      <td>135.541111</td>\n",
       "      <td>137.182903</td>\n",
       "      <td>138.321996</td>\n",
       "      <td>140.0</td>\n",
       "      <td>2</td>\n",
       "      <td>BUY</td>\n",
       "      <td>0</td>\n",
       "    </tr>\n",
       "    <tr>\n",
       "      <th>109116</th>\n",
       "      <td>88800.0</td>\n",
       "      <td>88960.0</td>\n",
       "      <td>88780.0</td>\n",
       "      <td>88930.0</td>\n",
       "      <td>54899.0</td>\n",
       "      <td>88938.081537</td>\n",
       "      <td>88655.918463</td>\n",
       "      <td>88912.020617</td>\n",
       "      <td>88523.979383</td>\n",
       "      <td>89003.515093</td>\n",
       "      <td>...</td>\n",
       "      <td>38667.215001</td>\n",
       "      <td>-2848642.0</td>\n",
       "      <td>149.422957</td>\n",
       "      <td>142.950926</td>\n",
       "      <td>140.750994</td>\n",
       "      <td>140.405896</td>\n",
       "      <td>180.0</td>\n",
       "      <td>2</td>\n",
       "      <td>BUY</td>\n",
       "      <td>0</td>\n",
       "    </tr>\n",
       "    <tr>\n",
       "      <th>109117</th>\n",
       "      <td>88935.0</td>\n",
       "      <td>89095.0</td>\n",
       "      <td>88870.0</td>\n",
       "      <td>89060.0</td>\n",
       "      <td>60906.0</td>\n",
       "      <td>89100.031118</td>\n",
       "      <td>88617.968882</td>\n",
       "      <td>89034.419680</td>\n",
       "      <td>88483.580320</td>\n",
       "      <td>89054.874711</td>\n",
       "      <td>...</td>\n",
       "      <td>53262.820284</td>\n",
       "      <td>-2787736.0</td>\n",
       "      <td>174.615305</td>\n",
       "      <td>156.625771</td>\n",
       "      <td>147.771745</td>\n",
       "      <td>144.635601</td>\n",
       "      <td>225.0</td>\n",
       "      <td>2</td>\n",
       "      <td>BUY</td>\n",
       "      <td>0</td>\n",
       "    </tr>\n",
       "  </tbody>\n",
       "</table>\n",
       "<p>20 rows × 116 columns</p>\n",
       "</div>"
      ],
      "text/plain": [
       "           OPEN     HIGH      LOW    CLOSE      VOL  BBANDS_Upper_5  \\\n",
       "109098  88095.0  88185.0  88035.0  88150.0  28664.0    88174.761226   \n",
       "109099  88155.0  88235.0  88135.0  88215.0  43829.0    88227.201036   \n",
       "109100  88210.0  88370.0  88210.0  88345.0  53064.0    88362.567651   \n",
       "109101  88350.0  88365.0  88260.0  88320.0  35294.0    88415.251156   \n",
       "109102  88320.0  88415.0  88315.0  88365.0  38681.0    88444.336021   \n",
       "109103  88365.0  88490.0  88340.0  88465.0  48422.0    88502.698475   \n",
       "109104  88465.0  88535.0  88425.0  88510.0  48057.0    88547.887712   \n",
       "109105  88510.0  88595.0  88485.0  88540.0  41115.0    88608.641632   \n",
       "109106  88535.0  88785.0  88535.0  88770.0  68349.0    88797.656496   \n",
       "109107  88765.0  88775.0  88635.0  88650.0  48386.0    88806.963633   \n",
       "109108  88650.0  88650.0  88525.0  88640.0  52134.0    88805.913023   \n",
       "109109  88640.0  88680.0  88535.0  88580.0  47093.0    88792.256200   \n",
       "109110  88580.0  88695.0  88540.0  88630.0  41739.0    88779.602548   \n",
       "109111  88630.0  88715.0  88615.0  88695.0  33581.0    88712.864741   \n",
       "109112  88695.0  88815.0  88655.0  88750.0  49212.0    88775.687617   \n",
       "109113  88750.0  88790.0  88685.0  88775.0  31582.0    88831.519758   \n",
       "109114  88775.0  88865.0  88730.0  88730.0  43119.0    88816.677704   \n",
       "109115  88730.0  88855.0  88715.0  88800.0  44873.0    88822.387844   \n",
       "109116  88800.0  88960.0  88780.0  88930.0  54899.0    88938.081537   \n",
       "109117  88935.0  89095.0  88870.0  89060.0  60906.0    89100.031118   \n",
       "\n",
       "        BBANDS_Lower_5  BBANDS_Upper_10  BBANDS_Lower_10  BBANDS_Upper_20  \\\n",
       "109098    88091.238774     88238.387032     87917.612968     88228.767784   \n",
       "109099    88072.798964     88265.352380     87938.647620     88242.138019   \n",
       "109100    88011.432349     88315.058813     87974.941187     88296.218540   \n",
       "109101    88036.748844     88361.356717     87977.643283     88334.668262   \n",
       "109102    88113.663979     88395.471050     88015.528950     88374.346565   \n",
       "109103    88181.301525     88477.218585     87997.781415     88434.718845   \n",
       "109104    88254.112288     88552.572193     87998.427807     88499.440541   \n",
       "109105    88271.358368     88619.508170     88007.491830     88560.245516   \n",
       "109106    88262.343504     88760.287850     87995.712150     88664.431931   \n",
       "109107    88367.036367     88797.313052     88068.686948     88718.347974   \n",
       "109108    88438.086977     88810.974163     88153.025837     88759.781200   \n",
       "109109    88479.743800     88798.180174     88238.819826     88785.565422   \n",
       "109110    88528.397452     88807.583960     88286.416040     88804.275027   \n",
       "109111    88565.135259     88809.064022     88359.935978     88841.590142   \n",
       "109112    88542.312383     88813.220924     88432.779076     88872.990395   \n",
       "109113    88540.480242     88831.752637     88476.247363     88912.657646   \n",
       "109114    88615.322296     88829.870075     88522.129925     88934.686542   \n",
       "109115    88677.612156     88842.442159     88561.557841     88963.397616   \n",
       "109116    88655.918463     88912.020617     88523.979383     89003.515093   \n",
       "109117    88617.968882     89034.419680     88483.580320     89054.874711   \n",
       "\n",
       "        ...         ADOSC        OBV       ATR_3       ATR_6      ATR_12  \\\n",
       "109098  ...  28633.191133 -3220019.0  140.147904  138.857426  142.408421   \n",
       "109099  ...  36933.665650 -3176190.0  126.765270  132.381188  138.874386   \n",
       "109100  ...  50232.565203 -3123126.0  137.843513  136.984323  140.634854   \n",
       "109101  ...  53740.286921 -3158420.0  126.895675  131.653603  137.665283   \n",
       "109102  ...  51090.454808 -3119739.0  117.930450  126.378002  134.526509   \n",
       "109103  ...  57213.644698 -3071317.0  128.620300  130.315002  135.815967   \n",
       "109104  ...  64476.874745 -3023260.0  122.413533  126.929168  133.664636   \n",
       "109105  ...  62590.020169 -2982145.0  118.275689  124.107640  131.692583   \n",
       "109106  ...  77797.275527 -2913796.0  162.183793  145.089700  141.551534   \n",
       "109107  ...  65086.779952 -2962182.0  154.789195  144.241417  141.422240   \n",
       "109108  ...  69861.550289 -3014316.0  144.859463  141.034514  140.053720   \n",
       "109109  ...  60324.381616 -3061409.0  144.906309  141.695428  140.465910   \n",
       "109110  ...  53979.429783 -3019670.0  148.270873  143.912857  141.677084   \n",
       "109111  ...  54117.278639 -2986089.0  132.180582  136.594047  138.203994   \n",
       "109112  ...  53206.779799 -2936877.0  141.453721  140.495040  140.020328   \n",
       "109113  ...  56537.475799 -2905295.0  129.302481  134.579200  137.101967   \n",
       "109114  ...  38671.772123 -2948414.0  131.201654  134.649333  136.926803   \n",
       "109115  ...  31466.945239 -2903541.0  134.134436  135.541111  137.182903   \n",
       "109116  ...  38667.215001 -2848642.0  149.422957  142.950926  140.750994   \n",
       "109117  ...  53262.820284 -2787736.0  174.615305  156.625771  147.771745   \n",
       "\n",
       "            ATR_20  TRANGE  HORA_NOBRE  TARGET_WIN_CAT3  TARGET_WIN_CAT3_LABEL  \n",
       "109098  142.348568   150.0           1              BUY                      0  \n",
       "109099  140.231139   100.0           1              BUY                      0  \n",
       "109100  141.219582   160.0           1             HOLD                      2  \n",
       "109101  139.408603   105.0           1              BUY                      0  \n",
       "109102  137.438173   100.0           1              BUY                      0  \n",
       "109103  138.066264   150.0           1              BUY                      0  \n",
       "109104  136.662951   110.0           1             HOLD                      2  \n",
       "109105  135.329804   110.0           1             HOLD                      2  \n",
       "109106  141.063314   250.0           1             SELL                      1  \n",
       "109107  141.010148   140.0           1             HOLD                      2  \n",
       "109108  140.209640   125.0           1             HOLD                      2  \n",
       "109109  140.449158   145.0           1              BUY                      0  \n",
       "109110  141.176701   155.0           1             HOLD                      2  \n",
       "109111  139.117865   100.0           1             HOLD                      2  \n",
       "109112  140.161972   160.0           1             HOLD                      2  \n",
       "109113  138.403874   105.0           1              BUY                      0  \n",
       "109114  138.233680   135.0           1              BUY                      0  \n",
       "109115  138.321996   140.0           2              BUY                      0  \n",
       "109116  140.405896   180.0           2              BUY                      0  \n",
       "109117  144.635601   225.0           2              BUY                      0  \n",
       "\n",
       "[20 rows x 116 columns]"
      ]
     },
     "execution_count": 9,
     "metadata": {},
     "output_type": "execute_result"
    }
   ],
   "source": [
    "df_test.iloc[19:200].head(20)"
   ]
  },
  {
   "cell_type": "code",
   "execution_count": 10,
   "metadata": {},
   "outputs": [
    {
     "data": {
      "text/plain": [
       "2    67604\n",
       "1     7661\n",
       "0     7404\n",
       "Name: TARGET_WIN_CAT3_LABEL, dtype: int64"
      ]
     },
     "execution_count": 10,
     "metadata": {},
     "output_type": "execute_result"
    }
   ],
   "source": [
    "df_train['TARGET_WIN_CAT3_LABEL'].value_counts()"
   ]
  },
  {
   "cell_type": "code",
   "execution_count": 11,
   "metadata": {},
   "outputs": [
    {
     "data": {
      "text/plain": [
       "7404"
      ]
     },
     "execution_count": 11,
     "metadata": {},
     "output_type": "execute_result"
    }
   ],
   "source": [
    "df_train['TARGET_WIN_CAT3_LABEL'].value_counts()[0]"
   ]
  },
  {
   "cell_type": "code",
   "execution_count": 12,
   "metadata": {
    "scrolled": true
   },
   "outputs": [
    {
     "name": "stdout",
     "output_type": "stream",
     "text": [
      "\n",
      "Dados Categóricos de Treino -- BUY: 7404 | SELL: 7661 | HOLD: 67604\n",
      "\n",
      "Dados Categóricos de Validação -- BUY: 4212 | SELL: 4272 | HOLD: 17926\n",
      "\n",
      "Dados Categóricos de Teste -- BUY: 4933 | SELL: 4677 | HOLD: 21192\n"
     ]
    }
   ],
   "source": [
    "hold_train = df_train['TARGET_WIN_CAT3_LABEL'].value_counts()[2]\n",
    "hold_valid = df_valid['TARGET_WIN_CAT3_LABEL'].value_counts()[2]\n",
    "hold_test = df_test['TARGET_WIN_CAT3_LABEL'].value_counts()[2]\n",
    "\n",
    "print('\\nDados Categóricos de Treino -- BUY: %d | SELL: %d | HOLD: %d' % (df_train['TARGET_WIN_CAT3_LABEL'].value_counts()[0], df_train['TARGET_WIN_CAT3_LABEL'].value_counts()[1], hold_train))\n",
    "print('\\nDados Categóricos de Validação -- BUY: %d | SELL: %d | HOLD: %d' % (df_valid['TARGET_WIN_CAT3_LABEL'].value_counts()[0], df_valid['TARGET_WIN_CAT3_LABEL'].value_counts()[1], hold_valid))\n",
    "print('\\nDados Categóricos de Teste -- BUY: %d | SELL: %d | HOLD: %d' % (df_test['TARGET_WIN_CAT3_LABEL'].value_counts()[0], df_test['TARGET_WIN_CAT3_LABEL'].value_counts()[1], hold_test))\n"
   ]
  },
  {
   "cell_type": "code",
   "execution_count": 13,
   "metadata": {},
   "outputs": [
    {
     "name": "stdout",
     "output_type": "stream",
     "text": [
      "\n",
      "Dados Categóricos de Treino Hora Nobre -- BUY: 2815 | SELL: 2591 | HOLD: 17513\n",
      "\n",
      "Dados Categóricos de Validação Hora Nobre -- BUY: 1433 | SELL: 1372 | HOLD: 4515\n",
      "\n",
      "Dados Categóricos de Teste Hora Nobre -- BUY: 1746 | SELL: 1704 | HOLD: 5070\n"
     ]
    }
   ],
   "source": [
    "buy_train = df_train.groupby(['HORA_NOBRE'])['TARGET_WIN_CAT3_LABEL'].value_counts()[4]\n",
    "sell_train = df_train.groupby(['HORA_NOBRE'])['TARGET_WIN_CAT3_LABEL'].value_counts()[5]\n",
    "hold_train = df_train.groupby(['HORA_NOBRE'])['TARGET_WIN_CAT3_LABEL'].value_counts()[3]\n",
    "\n",
    "buy_valid = df_valid.groupby(['HORA_NOBRE'])['TARGET_WIN_CAT3_LABEL'].value_counts()[4]\n",
    "sell_valid = df_valid.groupby(['HORA_NOBRE'])['TARGET_WIN_CAT3_LABEL'].value_counts()[5]\n",
    "hold_valid = df_valid.groupby(['HORA_NOBRE'])['TARGET_WIN_CAT3_LABEL'].value_counts()[3]\n",
    "\n",
    "buy_test = df_test.groupby(['HORA_NOBRE'])['TARGET_WIN_CAT3_LABEL'].value_counts()[4]\n",
    "sell_test = df_test.groupby(['HORA_NOBRE'])['TARGET_WIN_CAT3_LABEL'].value_counts()[5]\n",
    "hold_test = df_test.groupby(['HORA_NOBRE'])['TARGET_WIN_CAT3_LABEL'].value_counts()[3]\n",
    "\n",
    "print('\\nDados Categóricos de Treino Hora Nobre -- BUY: %d | SELL: %d | HOLD: %d' % (buy_train, sell_train, hold_train))\n",
    "print('\\nDados Categóricos de Validação Hora Nobre -- BUY: %d | SELL: %d | HOLD: %d' % (buy_valid, sell_valid, hold_valid))\n",
    "print('\\nDados Categóricos de Teste Hora Nobre -- BUY: %d | SELL: %d | HOLD: %d' % (buy_test, sell_test, hold_test))\n"
   ]
  },
  {
   "cell_type": "code",
   "execution_count": 14,
   "metadata": {},
   "outputs": [
    {
     "data": {
      "text/plain": [
       "HORA_NOBRE  TARGET_WIN_CAT3_LABEL\n",
       "0           2                         3884\n",
       "            0                          357\n",
       "            1                          343\n",
       "1           2                        17513\n",
       "            1                         2815\n",
       "            0                         2591\n",
       "2           2                        46207\n",
       "            1                         4503\n",
       "            0                         4456\n",
       "Name: TARGET_WIN_CAT3_LABEL, dtype: int64"
      ]
     },
     "execution_count": 14,
     "metadata": {},
     "output_type": "execute_result"
    }
   ],
   "source": [
    "df_train.groupby(['HORA_NOBRE'])['TARGET_WIN_CAT3_LABEL'].value_counts()"
   ]
  },
  {
   "cell_type": "code",
   "execution_count": 15,
   "metadata": {},
   "outputs": [
    {
     "name": "stdout",
     "output_type": "stream",
     "text": [
      "17513\n",
      "2822\n",
      "14691\n"
     ]
    }
   ],
   "source": [
    "np.random.seed(2345)\n",
    "porcentagem_selecao_train = (buy_train / hold_train)\n",
    "amostra_train = np.random.choice( a=[0,1], size=hold_train, replace=True, \n",
    "                                   p=[1-porcentagem_selecao_train, porcentagem_selecao_train] )\n",
    "print(len(amostra_train))\n",
    "print(len(amostra_train[amostra_train == 1]))\n",
    "print(len(amostra_train[amostra_train == 0]))"
   ]
  },
  {
   "cell_type": "code",
   "execution_count": 16,
   "metadata": {},
   "outputs": [
    {
     "name": "stdout",
     "output_type": "stream",
     "text": [
      "4515\n",
      "1459\n",
      "3056\n"
     ]
    }
   ],
   "source": [
    "np.random.seed(2345)\n",
    "porcentagem_selecao_valid = (buy_valid / hold_valid)\n",
    "amostra_valid = np.random.choice( a=[0,1], size=hold_valid, replace=True, \n",
    "                                   p=[1-porcentagem_selecao_valid, porcentagem_selecao_valid] )\n",
    "print(len(amostra_valid))\n",
    "print(len(amostra_valid[amostra_valid == 1]))\n",
    "print(len(amostra_valid[amostra_valid == 0]))"
   ]
  },
  {
   "cell_type": "code",
   "execution_count": 17,
   "metadata": {},
   "outputs": [
    {
     "name": "stdout",
     "output_type": "stream",
     "text": [
      "5070\n",
      "1756\n",
      "3314\n"
     ]
    }
   ],
   "source": [
    "np.random.seed(2345)\n",
    "porcentagem_selecao_test = (buy_test / hold_test)\n",
    "amostra_test = np.random.choice( a=[0,1], size=hold_test, replace=True, \n",
    "                                   p=[1-porcentagem_selecao_test, porcentagem_selecao_test] )\n",
    "print(len(amostra_test))\n",
    "print(len(amostra_test[amostra_test == 1]))\n",
    "print(len(amostra_test[amostra_test == 0]))"
   ]
  },
  {
   "cell_type": "code",
   "execution_count": 18,
   "metadata": {},
   "outputs": [],
   "source": [
    "def normalize(data):\n",
    "\n",
    "        scaler_x = StandardScaler()\n",
    "        \n",
    "        x = data.iloc[:, :-3]\n",
    "        x = scaler_x.fit_transform(x) \n",
    "        \n",
    "        y = data.iloc[:,-1]\n",
    "        y_list = np.array(y.to_list())\n",
    "    \n",
    "        return x, y_list"
   ]
  },
  {
   "cell_type": "code",
   "execution_count": 19,
   "metadata": {},
   "outputs": [],
   "source": [
    "def get_train_valid_test_data(seq_len, df, amostragem):\n",
    "\n",
    "        a=0\n",
    "        for i in range(len(df) - seq_len):\n",
    "            if df['TARGET_WIN_CAT3'][i+seq_len-1] == 'HOLD':\n",
    "                if amostragem[a] == 0:\n",
    "                    df.drop((i+seq_len-1), axis=0, inplace=True) \n",
    "                a+=1\n",
    "                    \n",
    "        x, y = normalize(df)\n",
    "            \n",
    "        return x, y"
   ]
  },
  {
   "cell_type": "code",
   "execution_count": 20,
   "metadata": {},
   "outputs": [],
   "source": [
    "df_train_reset_index = df_train[df_train['HORA_NOBRE'] == '1'].reset_index(drop=True)\n",
    "x_train, y_train = get_train_valid_test_data(seq_len=1, \n",
    "                                             df=df_train_reset_index, \n",
    "                                             amostragem=amostra_train)"
   ]
  },
  {
   "cell_type": "code",
   "execution_count": 21,
   "metadata": {},
   "outputs": [],
   "source": [
    "df_valid_reset_index = df_valid[df_valid['HORA_NOBRE'] == '1'].reset_index(drop=True)\n",
    "x_valid, y_valid = get_train_valid_test_data(seq_len=1, \n",
    "                                             df=df_valid_reset_index, \n",
    "                                             amostragem=amostra_valid)"
   ]
  },
  {
   "cell_type": "code",
   "execution_count": 22,
   "metadata": {},
   "outputs": [],
   "source": [
    "df_test_reset_index = df_test[df_test['HORA_NOBRE'] == '1'].reset_index(drop=True)\n",
    "x_test, y_test = get_train_valid_test_data(seq_len=1, \n",
    "                                             df=df_test_reset_index, \n",
    "                                             amostragem=amostra_test)"
   ]
  },
  {
   "cell_type": "code",
   "execution_count": 23,
   "metadata": {
    "scrolled": true
   },
   "outputs": [
    {
     "data": {
      "text/plain": [
       "8229"
      ]
     },
     "execution_count": 23,
     "metadata": {},
     "output_type": "execute_result"
    }
   ],
   "source": [
    "len(x_train)"
   ]
  },
  {
   "cell_type": "code",
   "execution_count": 24,
   "metadata": {},
   "outputs": [
    {
     "data": {
      "text/plain": [
       "8229"
      ]
     },
     "execution_count": 24,
     "metadata": {},
     "output_type": "execute_result"
    }
   ],
   "source": [
    "len(y_train)"
   ]
  },
  {
   "cell_type": "code",
   "execution_count": 25,
   "metadata": {},
   "outputs": [
    {
     "data": {
      "text/plain": [
       "(8229, 113)"
      ]
     },
     "execution_count": 25,
     "metadata": {},
     "output_type": "execute_result"
    }
   ],
   "source": [
    "x_train.shape"
   ]
  },
  {
   "cell_type": "code",
   "execution_count": 26,
   "metadata": {},
   "outputs": [
    {
     "data": {
      "text/plain": [
       "array([[-0.28873757, -0.28765066, -0.28850159, ...,  0.60110201,\n",
       "         0.72881744,  0.09220034],\n",
       "       [-0.29087974, -0.29514882, -0.29385723, ...,  0.74337889,\n",
       "         0.83471405, -0.15469734],\n",
       "       [-0.29141529, -0.29782673, -0.2927861 , ...,  0.48085258,\n",
       "         0.67696752, -0.58676828],\n",
       "       ...,\n",
       "       [ 2.0821111 ,  2.07748246,  2.08779684, ..., -1.55054737,\n",
       "        -1.50236274, -1.20401248],\n",
       "       [ 2.07889785,  2.0731978 ,  2.08083451, ..., -1.63070549,\n",
       "        -1.59630592, -0.89539038],\n",
       "       [ 2.0821111 ,  2.07694688,  2.08726128, ..., -1.73996546,\n",
       "        -1.68533536, -1.20401248]])"
      ]
     },
     "execution_count": 26,
     "metadata": {},
     "output_type": "execute_result"
    }
   ],
   "source": [
    "x_train"
   ]
  },
  {
   "cell_type": "code",
   "execution_count": 27,
   "metadata": {},
   "outputs": [
    {
     "data": {
      "text/plain": [
       "array([2, 2, 2, ..., 2, 2, 2])"
      ]
     },
     "execution_count": 27,
     "metadata": {},
     "output_type": "execute_result"
    }
   ],
   "source": [
    "y_train"
   ]
  },
  {
   "cell_type": "markdown",
   "metadata": {},
   "source": [
    "# Modelos"
   ]
  },
  {
   "cell_type": "code",
   "execution_count": 28,
   "metadata": {},
   "outputs": [],
   "source": [
    "import lightgbm as lgbm\n",
    "import seaborn as sns\n",
    "\n",
    "from sklearn.ensemble import RandomForestClassifier \n",
    "from sklearn.metrics import accuracy_score, confusion_matrix, classification_report"
   ]
  },
  {
   "cell_type": "markdown",
   "metadata": {},
   "source": [
    "## LightGBM"
   ]
  },
  {
   "cell_type": "code",
   "execution_count": 29,
   "metadata": {},
   "outputs": [
    {
     "name": "stdout",
     "output_type": "stream",
     "text": [
      "Accuracy Score - LightGBM:  0.3992702131745727\n"
     ]
    }
   ],
   "source": [
    "model_lgbm = lgbm.LGBMClassifier(n_jobs=-1, random_state=0, n_estimators=10000, learning_rate=0.001, num_leaves=2**6,\n",
    "                                subsample=0.9, subsample_freq=1, colsample_bytree=1.)\n",
    "\n",
    "model_lgbm.fit(x_train, y_train)\n",
    "predict_lgbm = model_lgbm.predict(x_test)\n",
    "\n",
    "print('Accuracy Score - LightGBM: ', accuracy_score(y_test, predict_lgbm))"
   ]
  },
  {
   "cell_type": "code",
   "execution_count": 30,
   "metadata": {},
   "outputs": [
    {
     "name": "stdout",
     "output_type": "stream",
     "text": [
      "              precision    recall  f1-score   support\n",
      "\n",
      "           0       0.37      0.36      0.37      1746\n",
      "           1       0.39      0.35      0.37      1704\n",
      "           2       0.44      0.48      0.46      1757\n",
      "\n",
      "    accuracy                           0.40      5207\n",
      "   macro avg       0.40      0.40      0.40      5207\n",
      "weighted avg       0.40      0.40      0.40      5207\n",
      "\n"
     ]
    }
   ],
   "source": [
    "print(classification_report(y_test, predict_lgbm))"
   ]
  },
  {
   "cell_type": "code",
   "execution_count": 31,
   "metadata": {},
   "outputs": [
    {
     "data": {
      "text/plain": [
       "array([[632, 531, 583],\n",
       "       [590, 598, 516],\n",
       "       [485, 423, 849]], dtype=int64)"
      ]
     },
     "execution_count": 31,
     "metadata": {},
     "output_type": "execute_result"
    }
   ],
   "source": [
    "from sklearn.metrics import confusion_matrix\n",
    "confusion_matrix = confusion_matrix(y_test, predict_lgbm)\n",
    "confusion_matrix"
   ]
  },
  {
   "cell_type": "code",
   "execution_count": 32,
   "metadata": {},
   "outputs": [
    {
     "data": {
      "text/plain": [
       "5207"
      ]
     },
     "execution_count": 32,
     "metadata": {},
     "output_type": "execute_result"
    }
   ],
   "source": [
    "len(y_test)"
   ]
  },
  {
   "cell_type": "code",
   "execution_count": 33,
   "metadata": {},
   "outputs": [
    {
     "data": {
      "text/plain": [
       "<AxesSubplot:>"
      ]
     },
     "execution_count": 33,
     "metadata": {},
     "output_type": "execute_result"
    },
    {
     "data": {
      "image/png": "[encoded data removed]",
      "text/plain": [
       "<Figure size 432x288 with 2 Axes>"
      ]
     },
     "metadata": {
      "needs_background": "light"
     },
     "output_type": "display_data"
    }
   ],
   "source": [
    "# visualize confusion matrix with seaborn heatmap\n",
    "cm_matrix = pd.DataFrame(data=confusion_matrix,\n",
    "                        columns=['HOLD_R', 'SELL_R', 'BUY_R'], \n",
    "                        index=['HOLD_P', 'SELL_P', 'BUY_P'])\n",
    "\n",
    "sns.heatmap(cm_matrix, annot=True, fmt='d', cmap='YlGnBu')"
   ]
  },
  {
   "cell_type": "markdown",
   "metadata": {},
   "source": [
    "### Compare train and test set accuracy"
   ]
  },
  {
   "cell_type": "code",
   "execution_count": 34,
   "metadata": {},
   "outputs": [
    {
     "name": "stdout",
     "output_type": "stream",
     "text": [
      "Training-set accuracy score: 0.9978\n"
     ]
    }
   ],
   "source": [
    "y_pred_train = model_lgbm.predict(x_train)\n",
    "print('Training-set accuracy score: {0:0.4f}'. format(accuracy_score(y_train, y_pred_train)))"
   ]
  },
  {
   "cell_type": "markdown",
   "metadata": {},
   "source": [
    "### Check for Overfitting"
   ]
  },
  {
   "cell_type": "code",
   "execution_count": 35,
   "metadata": {},
   "outputs": [
    {
     "name": "stdout",
     "output_type": "stream",
     "text": [
      "Training set score: 0.9978\n",
      "Test set score: 0.3993\n"
     ]
    }
   ],
   "source": [
    "# print the scores on training and test set\n",
    "\n",
    "print('Training set score: {:.4f}'.format(model_lgbm.score(x_train, y_train)))\n",
    "\n",
    "print('Test set score: {:.4f}'.format(model_lgbm.score(x_test, y_test)))"
   ]
  },
  {
   "cell_type": "code",
   "execution_count": 36,
   "metadata": {},
   "outputs": [
    {
     "name": "stdout",
     "output_type": "stream",
     "text": [
      "Validation set score: 0.3885\n"
     ]
    }
   ],
   "source": [
    "print('Validation set score: {:.4f}'.format(model_lgbm.score(x_valid, y_valid)))"
   ]
  },
  {
   "cell_type": "markdown",
   "metadata": {},
   "source": [
    "## Random Forest"
   ]
  },
  {
   "cell_type": "code",
   "execution_count": 37,
   "metadata": {},
   "outputs": [
    {
     "name": "stdout",
     "output_type": "stream",
     "text": [
      "Accuracy Score - Random Forest:  0.39984636066833107\n"
     ]
    }
   ],
   "source": [
    "model_randomF = RandomForestClassifier(n_jobs=-1, random_state=0, n_estimators=15000)\n",
    "model_randomF.fit(x_train, y_train)\n",
    "predict_randomF = model_randomF.predict(x_test)\n",
    "\n",
    "print('Accuracy Score - Random Forest: ', accuracy_score(y_test, predict_randomF))"
   ]
  },
  {
   "cell_type": "code",
   "execution_count": 38,
   "metadata": {
    "scrolled": true
   },
   "outputs": [
    {
     "name": "stdout",
     "output_type": "stream",
     "text": [
      "              precision    recall  f1-score   support\n",
      "\n",
      "           0       0.38      0.30      0.33      1746\n",
      "           1       0.38      0.38      0.38      1704\n",
      "           2       0.43      0.52      0.47      1757\n",
      "\n",
      "    accuracy                           0.40      5207\n",
      "   macro avg       0.40      0.40      0.39      5207\n",
      "weighted avg       0.40      0.40      0.39      5207\n",
      "\n"
     ]
    }
   ],
   "source": [
    "print(classification_report(y_test, predict_randomF))"
   ]
  },
  {
   "cell_type": "code",
   "execution_count": 39,
   "metadata": {},
   "outputs": [
    {
     "data": {
      "text/plain": [
       "array([[518, 584, 644],\n",
       "       [473, 642, 589],\n",
       "       [380, 455, 922]], dtype=int64)"
      ]
     },
     "execution_count": 39,
     "metadata": {},
     "output_type": "execute_result"
    }
   ],
   "source": [
    "from sklearn.metrics import confusion_matrix\n",
    "confusion_matrix = confusion_matrix(y_test, predict_randomF)\n",
    "confusion_matrix"
   ]
  },
  {
   "cell_type": "code",
   "execution_count": 40,
   "metadata": {},
   "outputs": [
    {
     "data": {
      "text/plain": [
       "<AxesSubplot:>"
      ]
     },
     "execution_count": 40,
     "metadata": {},
     "output_type": "execute_result"
    },
    {
     "data": {
      "image/png": "[encoded data removed]",
      "text/plain": [
       "<Figure size 432x288 with 2 Axes>"
      ]
     },
     "metadata": {
      "needs_background": "light"
     },
     "output_type": "display_data"
    }
   ],
   "source": [
    "# visualize confusion matrix with seaborn heatmap\n",
    "cm_matrix = pd.DataFrame(data=confusion_matrix,\n",
    "                        columns=['HOLD_R', 'SELL_R', 'BUY_R'], \n",
    "                        index=['HOLD_P', 'SELL_P', 'BUY_P'])\n",
    "\n",
    "sns.heatmap(cm_matrix, annot=True, fmt='d', cmap='YlGnBu')"
   ]
  },
  {
   "cell_type": "markdown",
   "metadata": {},
   "source": [
    "### Compare train and test set accuracy"
   ]
  },
  {
   "cell_type": "code",
   "execution_count": 41,
   "metadata": {},
   "outputs": [
    {
     "name": "stdout",
     "output_type": "stream",
     "text": [
      "Training-set accuracy score: 1.0000\n"
     ]
    }
   ],
   "source": [
    "y_pred_train = model_randomF.predict(x_train)\n",
    "print('Training-set accuracy score: {0:0.4f}'. format(accuracy_score(y_train, y_pred_train)))"
   ]
  },
  {
   "cell_type": "markdown",
   "metadata": {},
   "source": [
    "### Check for Overfitting"
   ]
  },
  {
   "cell_type": "code",
   "execution_count": 42,
   "metadata": {},
   "outputs": [
    {
     "name": "stdout",
     "output_type": "stream",
     "text": [
      "Training set score: 1.0000\n",
      "Test set score: 0.3998\n"
     ]
    }
   ],
   "source": [
    "# print the scores on training and test set\n",
    "\n",
    "print('Training set score: {:.4f}'.format(model_randomF.score(x_train, y_train)))\n",
    "\n",
    "print('Test set score: {:.4f}'.format(model_randomF.score(x_test, y_test)))"
   ]
  },
  {
   "cell_type": "code",
   "execution_count": 43,
   "metadata": {},
   "outputs": [
    {
     "name": "stdout",
     "output_type": "stream",
     "text": [
      "Validation set score: 0.3984\n"
     ]
    }
   ],
   "source": [
    "print('Validation set score: {:.4f}'.format(model_randomF.score(x_valid, y_valid)))"
   ]
  },
  {
   "cell_type": "markdown",
   "metadata": {},
   "source": [
    "# Deep Learning"
   ]
  },
  {
   "cell_type": "code",
   "execution_count": 44,
   "metadata": {},
   "outputs": [
    {
     "name": "stderr",
     "output_type": "stream",
     "text": [
      "Using TensorFlow backend.\n"
     ]
    },
    {
     "name": "stdout",
     "output_type": "stream",
     "text": [
      "[[0. 0. 1.]\n",
      " [1. 0. 0.]\n",
      " [0. 1. 0.]\n",
      " [0. 0. 1.]\n",
      " [0. 0. 1.]\n",
      " [0. 0. 1.]\n",
      " [0. 0. 1.]\n",
      " [1. 0. 0.]\n",
      " [0. 0. 1.]\n",
      " [0. 1. 0.]]\n",
      "[2 0 1 2 2 2 2 0 2 1]\n"
     ]
    }
   ],
   "source": [
    "# Encoding categorical data\n",
    "from keras.utils import to_categorical\n",
    "from sklearn.preprocessing import LabelEncoder\n",
    "labelencoder_Y_1 = LabelEncoder()\n",
    "yy = labelencoder_Y_1.fit_transform(y_train)\n",
    "y_train2 = to_categorical(yy)\n",
    "\n",
    "labelencoder_Y_1 = LabelEncoder()\n",
    "yy = labelencoder_Y_1.fit_transform(y_test)\n",
    "y_test2 = to_categorical(yy)\n",
    "\n",
    "labelencoder_Y_1 = LabelEncoder()\n",
    "yy = labelencoder_Y_1.fit_transform(y_valid)\n",
    "y_valid2 = to_categorical(yy)\n",
    "\n",
    "print(y_valid2[10:20])\n",
    "print(y_valid[10:20])\n",
    "\n",
    "# BUY | SELL | HOLD"
   ]
  },
  {
   "cell_type": "code",
   "execution_count": 45,
   "metadata": {
    "scrolled": true
   },
   "outputs": [
    {
     "name": "stdout",
     "output_type": "stream",
     "text": [
      "WARNING:tensorflow:From C:\\Users\\auW10\\Anaconda3\\envs\\phd\\lib\\site-packages\\tensorflow_core\\python\\ops\\resource_variable_ops.py:1630: calling BaseResourceVariable.__init__ (from tensorflow.python.ops.resource_variable_ops) with constraint is deprecated and will be removed in a future version.\n",
      "Instructions for updating:\n",
      "If using Keras pass *_constraint arguments to layers.\n",
      "[Model] Model Compiled\n",
      "Model: \"sequential_1\"\n",
      "_________________________________________________________________\n",
      "Layer (type)                 Output Shape              Param #   \n",
      "=================================================================\n",
      "dense_1 (Dense)              (None, 100)               11400     \n",
      "_________________________________________________________________\n",
      "dropout_1 (Dropout)          (None, 100)               0         \n",
      "_________________________________________________________________\n",
      "dense_2 (Dense)              (None, 75)                7575      \n",
      "_________________________________________________________________\n",
      "dropout_2 (Dropout)          (None, 75)                0         \n",
      "_________________________________________________________________\n",
      "dense_3 (Dense)              (None, 50)                3800      \n",
      "_________________________________________________________________\n",
      "dropout_3 (Dropout)          (None, 50)                0         \n",
      "_________________________________________________________________\n",
      "dense_4 (Dense)              (None, 25)                1275      \n",
      "_________________________________________________________________\n",
      "dropout_4 (Dropout)          (None, 25)                0         \n",
      "_________________________________________________________________\n",
      "dense_5 (Dense)              (None, 3)                 78        \n",
      "=================================================================\n",
      "Total params: 24,128\n",
      "Trainable params: 24,128\n",
      "Non-trainable params: 0\n",
      "_________________________________________________________________\n",
      "None\n",
      "Time taken: 0:00:00.554277\n"
     ]
    }
   ],
   "source": [
    "# example of training a final classification model\n",
    "from keras.models import Sequential, load_model\n",
    "from core.utils import Timer\n",
    "from keras.layers import Dense, Dropout, LSTM, GRU\n",
    "from keras.callbacks import EarlyStopping, ModelCheckpoint\n",
    "from keras.optimizers import SGD, Adam\n",
    "dim = x_train.shape[1]\n",
    "\n",
    "# define and fit the final model\n",
    "timer = Timer()\n",
    "timer.start()\n",
    "\n",
    "model = Sequential()\n",
    "\n",
    "model.add(Dense(100, input_dim=dim, activation='relu'))\n",
    "model.add(Dropout(0.2))\n",
    "model.add(Dense(75, activation='relu'))\n",
    "model.add(Dropout(0.4))\n",
    "model.add(Dense(50, activation='relu'))\n",
    "model.add(Dropout(0.5))\n",
    "model.add(Dense(25, activation='relu'))\n",
    "model.add(Dropout(0.2))\n",
    "model.add(Dense(3, activation='softmax'))\n",
    "\n",
    "model.compile(loss='categorical_crossentropy', optimizer='adam', metrics=['accuracy'])\n",
    "\n",
    "print('[Model] Model Compiled')\n",
    "print(model.summary())\n",
    "timer.stop()\n",
    "\n",
    "\n"
   ]
  },
  {
   "cell_type": "code",
   "execution_count": 46,
   "metadata": {
    "scrolled": true
   },
   "outputs": [
    {
     "name": "stdout",
     "output_type": "stream",
     "text": [
      "[Model] Training Started\n",
      "WARNING:tensorflow:From C:\\Users\\auW10\\Anaconda3\\envs\\phd\\lib\\site-packages\\keras\\backend\\tensorflow_backend.py:422: The name tf.global_variables is deprecated. Please use tf.compat.v1.global_variables instead.\n",
      "\n",
      "Train on 8229 samples, validate on 4265 samples\n",
      "Epoch 1/100\n",
      "8229/8229 [==============================] - 23s 3ms/step - loss: 1.1250 - accuracy: 0.3420 - val_loss: 1.0909 - val_accuracy: 0.3740\n",
      "Epoch 2/100\n",
      "8229/8229 [==============================] - 13s 2ms/step - loss: 1.0966 - accuracy: 0.3642 - val_loss: 1.0880 - val_accuracy: 0.3932\n",
      "Epoch 3/100\n",
      "8229/8229 [==============================] - 14s 2ms/step - loss: 1.0896 - accuracy: 0.3840 - val_loss: 1.0813 - val_accuracy: 0.3906\n",
      "Epoch 4/100\n",
      "8229/8229 [==============================] - 15s 2ms/step - loss: 1.0862 - accuracy: 0.3773 - val_loss: 1.0796 - val_accuracy: 0.4028loss: 1.0866 - accu - ETA: \n",
      "Epoch 5/100\n",
      "8229/8229 [==============================] - 14s 2ms/step - loss: 1.0830 - accuracy: 0.3895 - val_loss: 1.0787 - val_accuracy: 0.3939\n",
      "Epoch 6/100\n",
      "8229/8229 [==============================] - 14s 2ms/step - loss: 1.0838 - accuracy: 0.3894 - val_loss: 1.0794 - val_accuracy: 0.4091\n",
      "Epoch 7/100\n",
      "8229/8229 [==============================] - 14s 2ms/step - loss: 1.0776 - accuracy: 0.4037 - val_loss: 1.0803 - val_accuracy: 0.3932\n",
      "Epoch 8/100\n",
      "8229/8229 [==============================] - 14s 2ms/step - loss: 1.0782 - accuracy: 0.4003 - val_loss: 1.0770 - val_accuracy: 0.3965\n",
      "Epoch 9/100\n",
      "8229/8229 [==============================] - 14s 2ms/step - loss: 1.0734 - accuracy: 0.3999 - val_loss: 1.0780 - val_accuracy: 0.3885\n",
      "Epoch 10/100\n",
      "8229/8229 [==============================] - 14s 2ms/step - loss: 1.0750 - accuracy: 0.3997 - val_loss: 1.0785 - val_accuracy: 0.3834\n",
      "Epoch 11/100\n",
      "8229/8229 [==============================] - 14s 2ms/step - loss: 1.0719 - accuracy: 0.4107 - val_loss: 1.0779 - val_accuracy: 0.385214 - accuracy - ETA: 4s - loss: 1.0 -\n",
      "Epoch 12/100\n",
      "8229/8229 [==============================] - 14s 2ms/step - loss: 1.0711 - accuracy: 0.4090 - val_loss: 1.0755 - val_accuracy: 0.3892\n",
      "Epoch 13/100\n",
      "8229/8229 [==============================] - 14s 2ms/step - loss: 1.0682 - accuracy: 0.4083 - val_loss: 1.0770 - val_accuracy: 0.3984\n",
      "Epoch 14/100\n",
      "8229/8229 [==============================] - 14s 2ms/step - loss: 1.0662 - accuracy: 0.4064 - val_loss: 1.0755 - val_accuracy: 0.4028\n",
      "Epoch 15/100\n",
      "8229/8229 [==============================] - 14s 2ms/step - loss: 1.0692 - accuracy: 0.4143 - val_loss: 1.0799 - val_accuracy: 0.3993\n",
      "Epoch 16/100\n",
      "8229/8229 [==============================] - 18s 2ms/step - loss: 1.0669 - accuracy: 0.4201 - val_loss: 1.0765 - val_accuracy: 0.4059s - loss: 1.0673 - accura - ETA: 3s - l - ETA: 2s - los - ETA: 0s - loss: 1.0671 - accuracy: \n",
      "Epoch 17/100\n",
      "8229/8229 [==============================] - 20s 2ms/step - loss: 1.0633 - accuracy: 0.4202 - val_loss: 1.0785 - val_accuracy: 0.3993s - loss: 1.0565 - accuracy: 0. - ETA: 16s - loss: 1.0633 - accuracy: 0.404 - ETA: 16s - loss:  - ETA: 15s - loss: 1.0666 - - ETA: 11s - loss: 1.0658 - accuracy: 0. - ETA: 11s - loss: 1 - ETA: 9s - loss: 1.0663 - accuracy - ETA: 9s - loss: 1 - ETA: 7s - loss: 1.0665 - accuracy - ETA: 7s - los - ETA: 3s - loss: 1.0638 - accuracy: 0.42 - ETA: 3s - l - ETA: 2s - loss: 1.0644 - accura - ETA: 2s - loss: 1.0646 - accura - ETA: 1s - loss: 1.0 - ETA: 0s - loss: 1.063\n",
      "Epoch 18/100\n",
      "8229/8229 [==============================] - 15s 2ms/step - loss: 1.0640 - accuracy: 0.4100 - val_loss: 1.0811 - val_accuracy: 0.3948\n",
      "Epoch 19/100\n",
      "8229/8229 [==============================] - 14s 2ms/step - loss: 1.0625 - accuracy: 0.4180 - val_loss: 1.0775 - val_accuracy: 0.4066\n",
      "Epoch 20/100\n",
      "8229/8229 [==============================] - 14s 2ms/step - loss: 1.0645 - accuracy: 0.4216 - val_loss: 1.0793 - val_accuracy: 0.3977\n",
      "Epoch 21/100\n",
      "8229/8229 [==============================] - 15s 2ms/step - loss: 1.0578 - accuracy: 0.4188 - val_loss: 1.0802 - val_accuracy: 0.4073\n",
      "Epoch 22/100\n",
      "8229/8229 [==============================] - 14s 2ms/step - loss: 1.0612 - accuracy: 0.4149 - val_loss: 1.0789 - val_accuracy: 0.4033\n",
      "Epoch 23/100\n",
      "8229/8229 [==============================] - 15s 2ms/step - loss: 1.0623 - accuracy: 0.4270 - val_loss: 1.0771 - val_accuracy: 0.4061ccuracy: 0.\n",
      "Epoch 24/100\n",
      "8229/8229 [==============================] - 14s 2ms/step - loss: 1.0592 - accuracy: 0.4251 - val_loss: 1.0817 - val_accuracy: 0.4056\n",
      "Epoch 25/100\n",
      "8229/8229 [==============================] - 14s 2ms/step - loss: 1.0595 - accuracy: 0.4219 - val_loss: 1.0812 - val_accuracy: 0.4080s - loss: 1.0594 - \n",
      "Epoch 26/100\n",
      "8229/8229 [==============================] - 14s 2ms/step - loss: 1.0574 - accuracy: 0.4211 - val_loss: 1.0800 - val_accuracy: 0.4056\n",
      "Epoch 27/100\n",
      "8229/8229 [==============================] - 14s 2ms/step - loss: 1.0563 - accuracy: 0.4222 - val_loss: 1.0808 - val_accuracy: 0.3962\n",
      "Epoch 28/100\n",
      "8229/8229 [==============================] - 14s 2ms/step - loss: 1.0512 - accuracy: 0.4282 - val_loss: 1.0828 - val_accuracy: 0.4033\n",
      "Epoch 29/100\n",
      "8229/8229 [==============================] - 15s 2ms/step - loss: 1.0499 - accuracy: 0.4302 - val_loss: 1.0811 - val_accuracy: 0.4009\n",
      "Epoch 30/100\n",
      "8229/8229 [==============================] - 15s 2ms/step - loss: 1.0520 - accuracy: 0.4295 - val_loss: 1.0887 - val_accuracy: 0.3970\n",
      "Epoch 31/100\n",
      "8229/8229 [==============================] - 15s 2ms/step - loss: 1.0554 - accuracy: 0.4333 - val_loss: 1.0816 - val_accuracy: 0.4066- loss: 1.0555 - accuracy: 0.43\n",
      "Epoch 32/100\n",
      "8229/8229 [==============================] - 15s 2ms/step - loss: 1.0524 - accuracy: 0.4229 - val_loss: 1.0863 - val_accuracy: 0.4073\n",
      "Epoch 33/100\n",
      "8229/8229 [==============================] - 15s 2ms/step - loss: 1.0522 - accuracy: 0.4347 - val_loss: 1.0860 - val_accuracy: 0.4068\n",
      "Epoch 34/100\n",
      "8229/8229 [==============================] - 15s 2ms/step - loss: 1.0479 - accuracy: 0.4319 - val_loss: 1.0841 - val_accuracy: 0.4054\n",
      "Epoch 35/100\n",
      "8229/8229 [==============================] - 14s 2ms/step - loss: 1.0463 - accuracy: 0.4355 - val_loss: 1.0946 - val_accuracy: 0.4023\n",
      "Epoch 36/100\n",
      "8229/8229 [==============================] - 18s 2ms/step - loss: 1.0462 - accuracy: 0.4455 - val_loss: 1.0899 - val_accuracy: 0.4040s - loss: 1.0464 -  - ETA: 3s - loss: 1.0477 - ac - ETA: 2s - loss: 1.0473 - accuracy: 0.44 - ETA: 2s - loss: 1.0469 - accuracy: 0.44 - ETA: 2s - loss: 1.0470 - ac - ETA: 2s - loss: 1.047 - ETA:  - ETA: 0s - loss: 1.0467 - accu - ETA: 0s - loss: 1.0464 - accuracy: \n",
      "Epoch 37/100\n",
      "8229/8229 [==============================] - 18s 2ms/step - loss: 1.0449 - accuracy: 0.4321 - val_loss: 1.0872 - val_accuracy: 0.4049\n",
      "Epoch 38/100\n",
      "8229/8229 [==============================] - 14s 2ms/step - loss: 1.0481 - accuracy: 0.4281 - val_loss: 1.0822 - val_accuracy: 0.4021\n",
      "Epoch 39/100\n",
      "8229/8229 [==============================] - 14s 2ms/step - loss: 1.0413 - accuracy: 0.4415 - val_loss: 1.0855 - val_accuracy: 0.4026\n",
      "Epoch 40/100\n",
      "8229/8229 [==============================] - 14s 2ms/step - loss: 1.0460 - accuracy: 0.4342 - val_loss: 1.0925 - val_accuracy: 0.4035\n",
      "Epoch 41/100\n",
      "8229/8229 [==============================] - 14s 2ms/step - loss: 1.0430 - accuracy: 0.4437 - val_loss: 1.0952 - val_accuracy: 0.3965s - loss: 1.0430 - accura\n",
      "Epoch 42/100\n",
      "8229/8229 [==============================] - 14s 2ms/step - loss: 1.0430 - accuracy: 0.4428 - val_loss: 1.0964 - val_accuracy: 0.4033\n",
      "Epoch 43/100\n",
      "8229/8229 [==============================] - 15s 2ms/step - loss: 1.0408 - accuracy: 0.4405 - val_loss: 1.0914 - val_accuracy: 0.4002: 1.0407 - accuracy - ETA: 3s - los - ETA:  - ETA: 1s -\n",
      "Epoch 44/100\n",
      "8229/8229 [==============================] - 15s 2ms/step - loss: 1.0408 - accuracy: 0.4425 - val_loss: 1.0904 - val_accuracy: 0.4101\n",
      "Epoch 45/100\n",
      "8229/8229 [==============================] - 14s 2ms/step - loss: 1.0401 - accuracy: 0.4416 - val_loss: 1.0930 - val_accuracy: 0.4014\n",
      "Epoch 46/100\n",
      "8229/8229 [==============================] - 14s 2ms/step - loss: 1.0379 - accuracy: 0.4427 - val_loss: 1.1019 - val_accuracy: 0.4005\n",
      "Epoch 47/100\n"
     ]
    },
    {
     "name": "stdout",
     "output_type": "stream",
     "text": [
      "8229/8229 [==============================] - 14s 2ms/step - loss: 1.0329 - accuracy: 0.4480 - val_loss: 1.0894 - val_accuracy: 0.3920\n",
      "Epoch 48/100\n",
      "8229/8229 [==============================] - 14s 2ms/step - loss: 1.0386 - accuracy: 0.4408 - val_loss: 1.0964 - val_accuracy: 0.4014\n",
      "Epoch 49/100\n",
      "8229/8229 [==============================] - 15s 2ms/step - loss: 1.0340 - accuracy: 0.4512 - val_loss: 1.1010 - val_accuracy: 0.3970\n",
      "Epoch 50/100\n",
      "8229/8229 [==============================] - 14s 2ms/step - loss: 1.0355 - accuracy: 0.4478 - val_loss: 1.0914 - val_accuracy: 0.3927\n",
      "Epoch 51/100\n",
      "8229/8229 [==============================] - 14s 2ms/step - loss: 1.0353 - accuracy: 0.4415 - val_loss: 1.1039 - val_accuracy: 0.3955\n",
      "Epoch 52/100\n",
      "8229/8229 [==============================] - 15s 2ms/step - loss: 1.0335 - accuracy: 0.4478 - val_loss: 1.1010 - val_accuracy: 0.3894\n",
      "Epoch 53/100\n",
      "8229/8229 [==============================] - 14s 2ms/step - loss: 1.0351 - accuracy: 0.4521 - val_loss: 1.0904 - val_accuracy: 0.3962\n",
      "Epoch 54/100\n",
      "8229/8229 [==============================] - 14s 2ms/step - loss: 1.0290 - accuracy: 0.4500 - val_loss: 1.0942 - val_accuracy: 0.4002 \n",
      "Epoch 55/100\n",
      "8229/8229 [==============================] - 14s 2ms/step - loss: 1.0316 - accuracy: 0.4439 - val_loss: 1.1040 - val_accuracy: 0.3984\n",
      "Epoch 56/100\n",
      "8229/8229 [==============================] - 15s 2ms/step - loss: 1.0273 - accuracy: 0.4477 - val_loss: 1.0922 - val_accuracy: 0.4007s - loss: 1.0267  - ETA: 0s - loss: 1.027\n",
      "Epoch 57/100\n",
      "8229/8229 [==============================] - 15s 2ms/step - loss: 1.0283 - accuracy: 0.4559 - val_loss: 1.1032 - val_accuracy: 0.4000\n",
      "Epoch 58/100\n",
      "8229/8229 [==============================] - 14s 2ms/step - loss: 1.0296 - accuracy: 0.4579 - val_loss: 1.1025 - val_accuracy: 0.3911\n",
      "Epoch 59/100\n",
      "8229/8229 [==============================] - 18s 2ms/step - loss: 1.0278 - accuracy: 0.4496 - val_loss: 1.0974 - val_accuracy: 0.3948s - loss: 1.0284 - ac - ETA: 0s - loss: 1.0282 - ac\n",
      "Epoch 60/100\n",
      "8229/8229 [==============================] - 18s 2ms/step - loss: 1.0296 - accuracy: 0.4576 - val_loss: 1.1046 - val_accuracy: 0.3960\n",
      "Epoch 61/100\n",
      "8229/8229 [==============================] - 19s 2ms/step - loss: 1.0242 - accuracy: 0.4547 - val_loss: 1.0956 - val_accuracy: 0.3988\n",
      "Epoch 62/100\n",
      "8229/8229 [==============================] - 18s 2ms/step - loss: 1.0199 - accuracy: 0.4607 - val_loss: 1.0980 - val_accuracy: 0.3937\n",
      "Epoch 63/100\n",
      "8229/8229 [==============================] - 14s 2ms/step - loss: 1.0259 - accuracy: 0.4528 - val_loss: 1.1170 - val_accuracy: 0.3946\n",
      "Epoch 64/100\n",
      "8229/8229 [==============================] - 15s 2ms/step - loss: 1.0240 - accuracy: 0.4625 - val_loss: 1.1032 - val_accuracy: 0.3845\n",
      "Epoch 65/100\n",
      "8229/8229 [==============================] - 14s 2ms/step - loss: 1.0222 - accuracy: 0.4539 - val_loss: 1.1066 - val_accuracy: 0.3946\n",
      "Epoch 66/100\n",
      "8229/8229 [==============================] - 14s 2ms/step - loss: 1.0193 - accuracy: 0.4623 - val_loss: 1.1139 - val_accuracy: 0.4023\n",
      "Epoch 67/100\n",
      "8229/8229 [==============================] - 15s 2ms/step - loss: 1.0195 - accuracy: 0.4645 - val_loss: 1.1041 - val_accuracy: 0.4026\n",
      "Epoch 68/100\n",
      "8229/8229 [==============================] - 14s 2ms/step - loss: 1.0173 - accuracy: 0.4598 - val_loss: 1.1051 - val_accuracy: 0.4049\n",
      "Epoch 69/100\n",
      "8229/8229 [==============================] - 14s 2ms/step - loss: 1.0198 - accuracy: 0.4614 - val_loss: 1.1186 - val_accuracy: 0.3995\n",
      "Epoch 70/100\n",
      "8229/8229 [==============================] - 15s 2ms/step - loss: 1.0148 - accuracy: 0.4640 - val_loss: 1.1040 - val_accuracy: 0.3970\n",
      "Epoch 71/100\n",
      "8229/8229 [==============================] - 15s 2ms/step - loss: 1.0186 - accuracy: 0.4615 - val_loss: 1.1161 - val_accuracy: 0.4014\n",
      "Epoch 72/100\n",
      "8229/8229 [==============================] - 15s 2ms/step - loss: 1.0086 - accuracy: 0.4621 - val_loss: 1.1444 - val_accuracy: 0.3904\n",
      "Epoch 73/100\n",
      "8229/8229 [==============================] - 14s 2ms/step - loss: 1.0169 - accuracy: 0.4686 - val_loss: 1.1088 - val_accuracy: 0.3958A: 5s - loss: 1.0186 - accuracy - ETA: 5s - ETA:  -\n",
      "Epoch 74/100\n",
      "8229/8229 [==============================] - 15s 2ms/step - loss: 1.0141 - accuracy: 0.4634 - val_loss: 1.1066 - val_accuracy: 0.3902\n",
      "Epoch 75/100\n",
      "8229/8229 [==============================] - 15s 2ms/step - loss: 1.0106 - accuracy: 0.4696 - val_loss: 1.1408 - val_accuracy: 0.3894ss: 1.010 - ETA: 1s - l\n",
      "Epoch 76/100\n",
      "8229/8229 [==============================] - 17s 2ms/step - loss: 1.0080 - accuracy: 0.4611 - val_loss: 1.1418 - val_accuracy: 0.3986\n",
      "Epoch 77/100\n",
      "8229/8229 [==============================] - 21s 3ms/step - loss: 1.0042 - accuracy: 0.4724 - val_loss: 1.1436 - val_accuracy: 0.4052- accuracy - ETA: 19s - loss: 1.0080 - - ETA: 18s - loss: - ETA: 15s - loss: 1.0124 \n",
      "Epoch 78/100\n",
      "8229/8229 [==============================] - 15s 2ms/step - loss: 1.0098 - accuracy: 0.4743 - val_loss: 1.1170 - val_accuracy: 0.3873\n",
      "Epoch 79/100\n",
      "8229/8229 [==============================] - 15s 2ms/step - loss: 1.0056 - accuracy: 0.4702 - val_loss: 1.1132 - val_accuracy: 0.3911\n",
      "Epoch 80/100\n",
      "8229/8229 [==============================] - 14s 2ms/step - loss: 1.0036 - accuracy: 0.4782 - val_loss: 1.1248 - val_accuracy: 0.3927\n",
      "Epoch 81/100\n",
      "8229/8229 [==============================] - 15s 2ms/step - loss: 1.0098 - accuracy: 0.4720 - val_loss: 1.1180 - val_accuracy: 0.3962: 1.0\n",
      "Epoch 82/100\n",
      "8229/8229 [==============================] - 16s 2ms/step - loss: 1.0089 - accuracy: 0.4745 - val_loss: 1.1218 - val_accuracy: 0.3948\n",
      "Epoch 83/100\n",
      "8229/8229 [==============================] - 15s 2ms/step - loss: 1.0066 - accuracy: 0.4702 - val_loss: 1.1244 - val_accuracy: 0.3878\n",
      "Epoch 84/100\n",
      "8229/8229 [==============================] - 14s 2ms/step - loss: 1.0022 - accuracy: 0.4767 - val_loss: 1.1366 - val_accuracy: 0.3934\n",
      "Epoch 85/100\n",
      "8229/8229 [==============================] - 14s 2ms/step - loss: 0.9966 - accuracy: 0.4818 - val_loss: 1.1304 - val_accuracy: 0.3939\n",
      "Epoch 86/100\n",
      "8229/8229 [==============================] - 15s 2ms/step - loss: 0.9962 - accuracy: 0.4742 - val_loss: 1.1296 - val_accuracy: 0.3962\n",
      "Epoch 87/100\n",
      "8229/8229 [==============================] - 15s 2ms/step - loss: 1.0017 - accuracy: 0.4784 - val_loss: 1.1288 - val_accuracy: 0.3948\n",
      "Epoch 88/100\n",
      "8229/8229 [==============================] - 17s 2ms/step - loss: 0.9972 - accuracy: 0.4805 - val_loss: 1.1453 - val_accuracy: 0.3930 24s - loss: 0.9520 - accuracy: 0 - ETA: 21s - loss: 0.9602 - accuracy: 0.5 - ETA: 21s - loss: 0.9615 - accuracy:  - ETA: 20s - loss: - ETA: 19s - loss: 0.9794 - accuracy: 0.488 - ETA: 19s - loss: 0.9776 - accuracy - ETA: 18s - loss:  - ETA: 13s - loss: 0.9824\n",
      "Epoch 89/100\n",
      "8229/8229 [==============================] - 15s 2ms/step - loss: 1.0030 - accuracy: 0.4742 - val_loss: 1.1379 - val_accuracy: 0.3958\n",
      "Epoch 90/100\n",
      "8229/8229 [==============================] - 16s 2ms/step - loss: 0.9949 - accuracy: 0.4765 - val_loss: 1.1385 - val_accuracy: 0.3962\n",
      "Epoch 91/100\n",
      "8229/8229 [==============================] - 15s 2ms/step - loss: 0.9960 - accuracy: 0.4809 - val_loss: 1.1423 - val_accuracy: 0.3920\n",
      "Epoch 92/100\n",
      "8229/8229 [==============================] - 15s 2ms/step - loss: 0.9984 - accuracy: 0.4826 - val_loss: 1.1408 - val_accuracy: 0.39209s - loss: 1.0006 -  - ETA: 9s - loss: 0.9993 -  - ETA: 8s - -\n",
      "Epoch 93/100\n",
      "8229/8229 [==============================] - 14s 2ms/step - loss: 0.9942 - accuracy: 0.4801 - val_loss: 1.1255 - val_accuracy: 0.3831loss: \n",
      "Epoch 94/100\n",
      "8229/8229 [==============================] - 15s 2ms/step - loss: 0.9898 - accuracy: 0.4888 - val_loss: 1.1327 - val_accuracy: 0.3911\n",
      "Epoch 95/100\n",
      "8229/8229 [==============================] - 16s 2ms/step - loss: 0.9899 - accuracy: 0.4888 - val_loss: 1.1546 - val_accuracy: 0.39160.9916 - accuracy: 0. - ETA: 0s - loss: 0.991 - ETA: 0s - loss: 0.9903 - accuracy\n",
      "Epoch 96/100\n",
      "8229/8229 [==============================] - 15s 2ms/step - loss: 0.9947 - accuracy: 0.4792 - val_loss: 1.1448 - val_accuracy: 0.3960E\n",
      "Epoch 97/100\n",
      "8229/8229 [==============================] - 14s 2ms/step - loss: 0.9909 - accuracy: 0.4926 - val_loss: 1.1304 - val_accuracy: 0.3763\n",
      "Epoch 98/100\n"
     ]
    },
    {
     "name": "stdout",
     "output_type": "stream",
     "text": [
      "8229/8229 [==============================] - 14s 2ms/step - loss: 0.9879 - accuracy: 0.4823 - val_loss: 1.1760 - val_accuracy: 0.3913\n",
      "Epoch 99/100\n",
      "8229/8229 [==============================] - 14s 2ms/step - loss: 0.9869 - accuracy: 0.4936 - val_loss: 1.1418 - val_accuracy: 0.3923\n",
      "Epoch 100/100\n",
      "8229/8229 [==============================] - 14s 2ms/step - loss: 0.9872 - accuracy: 0.4872 - val_loss: 1.1365 - val_accuracy: 0.3831y:  - ETA: 1s - loss: 0.9864 - accu - ETA: 0s - loss: 0.9860 - \n",
      "[Model] Training Completed.\n",
      "Model saved as saved_models\\prototipo_ciclo1_multiclass_jupyter.h5\n",
      "Time taken: 0:25:22.125285\n"
     ]
    }
   ],
   "source": [
    "timer = Timer()\n",
    "timer.start()\n",
    "print('[Model] Training Started')\n",
    "\n",
    "save_dir=configs['model']['save_dir']\n",
    "my_model=configs['model']['model_name']\n",
    "save_fname = os.path.join(save_dir, '%s.h5' % my_model)\n",
    "\n",
    "batch_size=configs['training']['batch_size']\n",
    "\n",
    "callbacks = [ ModelCheckpoint(filepath=save_fname, monitor='loss', save_best_only=True)]\n",
    "\n",
    "H = model.fit( x_train, y_train2, validation_data=(x_valid, y_valid2), epochs=100, \n",
    "               callbacks=callbacks, workers=1 )\n",
    "\n",
    "model.save(save_fname)\n",
    "\n",
    "print('[Model] Training Completed.')\n",
    "print('Model saved as %s' % save_fname)\n",
    "\n",
    "timer.stop()\n"
   ]
  },
  {
   "cell_type": "code",
   "execution_count": 47,
   "metadata": {
    "scrolled": true
   },
   "outputs": [
    {
     "data": {
      "text/plain": [
       "array([[0.31563163, 0.3053172 , 0.37905118],\n",
       "       [0.28930646, 0.2311054 , 0.47958815],\n",
       "       [0.29101348, 0.27321836, 0.43576822],\n",
       "       ...,\n",
       "       [0.42474365, 0.3542176 , 0.22103876],\n",
       "       [0.4903741 , 0.28109428, 0.22853167],\n",
       "       [0.36632475, 0.3558893 , 0.27778602]], dtype=float32)"
      ]
     },
     "execution_count": 47,
     "metadata": {},
     "output_type": "execute_result"
    }
   ],
   "source": [
    "# new instances where we do not know the answer\n",
    "y_pred = model.predict(x_test) \n",
    "y_pred"
   ]
  },
  {
   "cell_type": "code",
   "execution_count": 48,
   "metadata": {
    "scrolled": false
   },
   "outputs": [
    {
     "name": "stdout",
     "output_type": "stream",
     "text": [
      "dict_keys(['val_loss', 'val_accuracy', 'loss', 'accuracy'])\n"
     ]
    },
    {
     "data": {
      "image/png": "[encoded data removed]",
      "text/plain": [
       "<Figure size 432x288 with 1 Axes>"
      ]
     },
     "metadata": {
      "needs_background": "light"
     },
     "output_type": "display_data"
    },
    {
     "data": {
      "image/png": "[encoded data removed]",
      "text/plain": [
       "<Figure size 432x288 with 1 Axes>"
      ]
     },
     "metadata": {
      "needs_background": "light"
     },
     "output_type": "display_data"
    }
   ],
   "source": [
    "# list all data in history       \n",
    "print(H.history.keys())\n",
    "# summarize history for accuracy\n",
    "plt.plot(H.history['accuracy'])\n",
    "plt.plot(H.history['val_accuracy'])\n",
    "plt.title('model accuracy')\n",
    "plt.ylabel('accuracy')\n",
    "plt.xlabel('epoch')\n",
    "plt.legend(['accuracy', 'val_accuracy'], loc='upper left')\n",
    "fig_path = 'accuracy_history.png'\n",
    "plt.savefig(fig_path)     \n",
    "plt.show()\n",
    "\n",
    "# summarize history for loss\n",
    "plt.plot(H.history['loss'])\n",
    "plt.plot(H.history['val_loss'])\n",
    "plt.title('model loss')\n",
    "plt.ylabel('loss')\n",
    "plt.xlabel('epoch')\n",
    "plt.legend(['loss', 'val_loss'], loc='upper left')\n",
    "fig_path = 'loss_history.png'\n",
    "plt.savefig(fig_path) \n",
    "plt.show()"
   ]
  },
  {
   "cell_type": "code",
   "execution_count": 49,
   "metadata": {},
   "outputs": [],
   "source": [
    "# BUY | SELL | HOLD\n",
    "\n",
    "labels = ['BUY', 'SELL', 'HOLD'] \n",
    "\n",
    "pred = []\n",
    "for i in y_pred:\n",
    "    pred.append(np.argmax(i))\n",
    "pred_array = np.array(pred)       \n",
    "\n",
    "real = []\n",
    "for i in y_test2:\n",
    "    real.append(np.argmax(i))\n",
    "real_array = np.array(real)    "
   ]
  },
  {
   "cell_type": "code",
   "execution_count": 50,
   "metadata": {},
   "outputs": [
    {
     "name": "stdout",
     "output_type": "stream",
     "text": [
      "[[0.302133   0.2509894  0.44687757]\n",
      " [0.30140275 0.2603966  0.43820062]\n",
      " [0.29958937 0.2754415  0.42496914]\n",
      " [0.303117   0.23326679 0.46361628]\n",
      " [0.3007541  0.2675817  0.4316642 ]\n",
      " [0.3104446  0.29914925 0.39040613]\n",
      " [0.35983092 0.32202864 0.31814048]\n",
      " [0.3010633  0.25140637 0.44753033]\n",
      " [0.3013478  0.24616267 0.4524895 ]\n",
      " [0.30046424 0.2705472  0.42898858]]\n",
      "[[1. 0. 0.]\n",
      " [1. 0. 0.]\n",
      " [1. 0. 0.]\n",
      " [0. 0. 1.]\n",
      " [0. 1. 0.]\n",
      " [0. 0. 1.]\n",
      " [1. 0. 0.]\n",
      " [0. 0. 1.]\n",
      " [1. 0. 0.]\n",
      " [1. 0. 0.]]\n"
     ]
    }
   ],
   "source": [
    "print(y_pred[10:20])\n",
    "print(y_test2[10:20])"
   ]
  },
  {
   "cell_type": "code",
   "execution_count": 51,
   "metadata": {},
   "outputs": [
    {
     "name": "stdout",
     "output_type": "stream",
     "text": [
      "[2 2 2 2 2 2 0 2 2 2]\n",
      "[0 0 0 2 1 2 0 2 0 0]\n"
     ]
    }
   ],
   "source": [
    "print(pred_array[10:20])\n",
    "print(real_array[10:20])"
   ]
  },
  {
   "cell_type": "code",
   "execution_count": 52,
   "metadata": {},
   "outputs": [
    {
     "name": "stdout",
     "output_type": "stream",
     "text": [
      "Accuracy Score - DL:  0.3960053773766084\n"
     ]
    }
   ],
   "source": [
    "print('Accuracy Score - DL: ', accuracy_score(real_array, pred_array))"
   ]
  },
  {
   "cell_type": "code",
   "execution_count": 53,
   "metadata": {},
   "outputs": [
    {
     "name": "stdout",
     "output_type": "stream",
     "text": [
      "              precision    recall  f1-score   support\n",
      "\n",
      "           0       0.38      0.41      0.40      1746\n",
      "           1       0.36      0.27      0.31      1704\n",
      "           2       0.43      0.50      0.46      1757\n",
      "\n",
      "    accuracy                           0.40      5207\n",
      "   macro avg       0.39      0.39      0.39      5207\n",
      "weighted avg       0.39      0.40      0.39      5207\n",
      "\n"
     ]
    }
   ],
   "source": [
    "print(classification_report(real_array, pred_array))"
   ]
  },
  {
   "cell_type": "code",
   "execution_count": 54,
   "metadata": {},
   "outputs": [
    {
     "data": {
      "text/plain": [
       "array([[722, 432, 592],\n",
       "       [664, 456, 584],\n",
       "       [511, 362, 884]], dtype=int64)"
      ]
     },
     "execution_count": 54,
     "metadata": {},
     "output_type": "execute_result"
    }
   ],
   "source": [
    "from sklearn.metrics import confusion_matrix\n",
    "confusion_matrix = confusion_matrix(real_array, pred_array)\n",
    "confusion_matrix"
   ]
  },
  {
   "cell_type": "code",
   "execution_count": 55,
   "metadata": {},
   "outputs": [
    {
     "data": {
      "text/plain": [
       "<AxesSubplot:>"
      ]
     },
     "execution_count": 55,
     "metadata": {},
     "output_type": "execute_result"
    },
    {
     "data": {
      "image/png": "[encoded data removed]",
      "text/plain": [
       "<Figure size 432x288 with 2 Axes>"
      ]
     },
     "metadata": {
      "needs_background": "light"
     },
     "output_type": "display_data"
    }
   ],
   "source": [
    "# visualize confusion matrix with seaborn heatmap\n",
    "cm_matrix = pd.DataFrame(data=confusion_matrix,\n",
    "                        columns=['BUY_R', 'SELL_R', 'HOLD_R'], \n",
    "                        index=['BUY_P', 'SELL_P', 'HOLD_P'])\n",
    "\n",
    "sns.heatmap(cm_matrix, annot=True, fmt='d', cmap='YlGnBu')"
   ]
  },
  {
   "cell_type": "markdown",
   "metadata": {},
   "source": [
    "### Compare train and test set accuracy"
   ]
  },
  {
   "cell_type": "code",
   "execution_count": 56,
   "metadata": {},
   "outputs": [
    {
     "name": "stdout",
     "output_type": "stream",
     "text": [
      "Training-set accuracy score: 0.5540\n"
     ]
    }
   ],
   "source": [
    "y_pred_train = model.predict(x_train)\n",
    "\n",
    "labels = ['BUY', 'SELL', 'HOLD'] \n",
    "\n",
    "pred = []\n",
    "for i in y_pred_train:\n",
    "    pred.append(np.argmax(i))\n",
    "pred_array = np.array(pred)       \n",
    "\n",
    "real = []\n",
    "for i in y_train2:\n",
    "    real.append(np.argmax(i))\n",
    "real_array = np.array(real)    \n",
    "\n",
    "print('Training-set accuracy score: {0:0.4f}'. format(accuracy_score(real_array, pred_array)))"
   ]
  },
  {
   "cell_type": "code",
   "execution_count": null,
   "metadata": {},
   "outputs": [],
   "source": []
  },
  {
   "cell_type": "code",
   "execution_count": null,
   "metadata": {},
   "outputs": [],
   "source": []
  },
  {
   "cell_type": "code",
   "execution_count": null,
   "metadata": {},
   "outputs": [],
   "source": []
  },
  {
   "cell_type": "code",
   "execution_count": null,
   "metadata": {},
   "outputs": [],
   "source": []
  },
  {
   "cell_type": "code",
   "execution_count": null,
   "metadata": {},
   "outputs": [],
   "source": []
  },
  {
   "cell_type": "code",
   "execution_count": null,
   "metadata": {},
   "outputs": [],
   "source": []
  },
  {
   "cell_type": "code",
   "execution_count": null,
   "metadata": {},
   "outputs": [],
   "source": []
  },
  {
   "cell_type": "code",
   "execution_count": null,
   "metadata": {},
   "outputs": [],
   "source": []
  },
  {
   "cell_type": "code",
   "execution_count": null,
   "metadata": {},
   "outputs": [],
   "source": []
  },
  {
   "cell_type": "code",
   "execution_count": null,
   "metadata": {},
   "outputs": [],
   "source": []
  },
  {
   "cell_type": "code",
   "execution_count": null,
   "metadata": {},
   "outputs": [],
   "source": []
  }
 ],
 "metadata": {
  "kernelspec": {
   "display_name": "Python 3",
   "language": "python",
   "name": "python3"
  },
  "language_info": {
   "codemirror_mode": {
    "name": "ipython",
    "version": 3
   },
   "file_extension": ".py",
   "mimetype": "text/x-python",
   "name": "python",
   "nbconvert_exporter": "python",
   "pygments_lexer": "ipython3",
   "version": "3.6.12"
  }
 },
 "nbformat": 4,
 "nbformat_minor": 4
}
