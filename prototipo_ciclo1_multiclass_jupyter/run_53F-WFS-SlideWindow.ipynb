{
 "cells": [
  {
   "cell_type": "markdown",
   "metadata": {},
   "source": [
    "# Imports"
   ]
  },
  {
   "cell_type": "code",
   "execution_count": 1,
   "metadata": {},
   "outputs": [],
   "source": [
    "import os\n",
    "import json\n",
    "import math\n",
    "import matplotlib.pyplot as plt\n",
    "import numpy as np\n",
    "import pandas as pd\n",
    "import pickle\n",
    "\n",
    "from sklearn.preprocessing import MinMaxScaler, StandardScaler, RobustScaler, MaxAbsScaler, Normalizer, QuantileTransformer"
   ]
  },
  {
   "cell_type": "code",
   "execution_count": 2,
   "metadata": {},
   "outputs": [],
   "source": [
    "# Carregando as configurações do arquivo 'config_modelo.json'\n",
    "configs = json.load(open('config_modelo.json', 'r'))"
   ]
  },
  {
   "cell_type": "code",
   "execution_count": 3,
   "metadata": {},
   "outputs": [],
   "source": [
    "# Criar a pasta 'save_dir' caso não exista no diretório\n",
    "if not os.path.exists(configs['model']['save_dir']):\n",
    "            os.makedirs(configs['model']['save_dir'])"
   ]
  },
  {
   "cell_type": "code",
   "execution_count": 4,
   "metadata": {},
   "outputs": [
    {
     "name": "stdout",
     "output_type": "stream",
     "text": [
      "(139881, 71)\n"
     ]
    },
    {
     "data": {
      "text/html": [
       "<div>\n",
       "<style scoped>\n",
       "    .dataframe tbody tr th:only-of-type {\n",
       "        vertical-align: middle;\n",
       "    }\n",
       "\n",
       "    .dataframe tbody tr th {\n",
       "        vertical-align: top;\n",
       "    }\n",
       "\n",
       "    .dataframe thead th {\n",
       "        text-align: right;\n",
       "    }\n",
       "</style>\n",
       "<table border=\"1\" class=\"dataframe\">\n",
       "  <thead>\n",
       "    <tr style=\"text-align: right;\">\n",
       "      <th></th>\n",
       "      <th>DATETIME</th>\n",
       "      <th>DATE</th>\n",
       "      <th>TIME</th>\n",
       "      <th>OPEN</th>\n",
       "      <th>HIGH</th>\n",
       "      <th>LOW</th>\n",
       "      <th>CLOSE</th>\n",
       "      <th>VOL</th>\n",
       "      <th>EMA_5_CLOSE</th>\n",
       "      <th>EMA_10_CLOSE</th>\n",
       "      <th>...</th>\n",
       "      <th>MES</th>\n",
       "      <th>DIA_SEMANA</th>\n",
       "      <th>HORA_NOBRE</th>\n",
       "      <th>TARGET_WIN</th>\n",
       "      <th>TARGET_WIN_CAT3</th>\n",
       "      <th>TARGET_WIN_CAT3_LABEL</th>\n",
       "      <th>TARGET_WIN_CAT_ENC</th>\n",
       "      <th>HOLD</th>\n",
       "      <th>SELL</th>\n",
       "      <th>BUY</th>\n",
       "    </tr>\n",
       "  </thead>\n",
       "  <tbody>\n",
       "    <tr>\n",
       "      <th>0</th>\n",
       "      <td>2014-11-19 12:30:00</td>\n",
       "      <td>2014.11.19</td>\n",
       "      <td>12:30:00</td>\n",
       "      <td>53560.0</td>\n",
       "      <td>53565.0</td>\n",
       "      <td>53405.0</td>\n",
       "      <td>53410.0</td>\n",
       "      <td>8363.0</td>\n",
       "      <td>53462.598377</td>\n",
       "      <td>53394.139577</td>\n",
       "      <td>...</td>\n",
       "      <td>11</td>\n",
       "      <td>2</td>\n",
       "      <td>2</td>\n",
       "      <td>15.0</td>\n",
       "      <td>HOLD</td>\n",
       "      <td>2</td>\n",
       "      <td>1</td>\n",
       "      <td>1</td>\n",
       "      <td>0</td>\n",
       "      <td>0</td>\n",
       "    </tr>\n",
       "    <tr>\n",
       "      <th>1</th>\n",
       "      <td>2014-11-19 12:35:00</td>\n",
       "      <td>2014.11.19</td>\n",
       "      <td>12:35:00</td>\n",
       "      <td>53410.0</td>\n",
       "      <td>53500.0</td>\n",
       "      <td>53295.0</td>\n",
       "      <td>53415.0</td>\n",
       "      <td>7034.0</td>\n",
       "      <td>53446.732251</td>\n",
       "      <td>53397.932381</td>\n",
       "      <td>...</td>\n",
       "      <td>11</td>\n",
       "      <td>2</td>\n",
       "      <td>2</td>\n",
       "      <td>50.0</td>\n",
       "      <td>HOLD</td>\n",
       "      <td>2</td>\n",
       "      <td>1</td>\n",
       "      <td>1</td>\n",
       "      <td>0</td>\n",
       "      <td>0</td>\n",
       "    </tr>\n",
       "  </tbody>\n",
       "</table>\n",
       "<p>2 rows × 71 columns</p>\n",
       "</div>"
      ],
      "text/plain": [
       "             DATETIME        DATE      TIME     OPEN     HIGH      LOW  \\\n",
       "0 2014-11-19 12:30:00  2014.11.19  12:30:00  53560.0  53565.0  53405.0   \n",
       "1 2014-11-19 12:35:00  2014.11.19  12:35:00  53410.0  53500.0  53295.0   \n",
       "\n",
       "     CLOSE     VOL   EMA_5_CLOSE  EMA_10_CLOSE  ...  MES  DIA_SEMANA  \\\n",
       "0  53410.0  8363.0  53462.598377  53394.139577  ...   11           2   \n",
       "1  53415.0  7034.0  53446.732251  53397.932381  ...   11           2   \n",
       "\n",
       "   HORA_NOBRE  TARGET_WIN  TARGET_WIN_CAT3  TARGET_WIN_CAT3_LABEL  \\\n",
       "0           2        15.0             HOLD                      2   \n",
       "1           2        50.0             HOLD                      2   \n",
       "\n",
       "   TARGET_WIN_CAT_ENC  HOLD  SELL  BUY  \n",
       "0                   1     1     0    0  \n",
       "1                   1     1     0    0  \n",
       "\n",
       "[2 rows x 71 columns]"
      ]
     },
     "execution_count": 4,
     "metadata": {},
     "output_type": "execute_result"
    }
   ],
   "source": [
    "# Carregar o Dataset\n",
    "filepath = 'C:/Users/auW10/Documents/CodigosDoAu/000_Doutorado/dataset/'\n",
    "df = pd.read_pickle(filepath+'dataset_with_TI_ciclo1_multiclass_jupyter_aug_dim_53TIs.pkl')\n",
    "print(df.shape)\n",
    "df.head(2)"
   ]
  },
  {
   "cell_type": "markdown",
   "metadata": {},
   "source": [
    "## Split dos Dados"
   ]
  },
  {
   "cell_type": "code",
   "execution_count": 5,
   "metadata": {},
   "outputs": [
    {
     "data": {
      "text/plain": [
       "<PandasArray>\n",
       "[             'DATETIME',                  'DATE',                  'TIME',\n",
       "                  'OPEN',                  'HIGH',                   'LOW',\n",
       "                 'CLOSE',                   'VOL',           'EMA_5_CLOSE',\n",
       "          'EMA_10_CLOSE',          'EMA_20_CLOSE',            'EMA_5_OPEN',\n",
       "           'EMA_10_OPEN',           'EMA_20_OPEN',            'EMA_5_HIGH',\n",
       "           'EMA_10_HIGH',           'EMA_20_HIGH',             'EMA_5_LOW',\n",
       "            'EMA_10_LOW',            'EMA_20_LOW',                'KAMA_5',\n",
       "               'KAMA_10',               'KAMA_20',            'MIDPOINT_3',\n",
       "           'MIDPOINT_12',            'MIDPRICE_3',           'MIDPRICE_12',\n",
       "               'TRIMA_5',              'TRIMA_10',              'TRIMA_20',\n",
       "                 'ADX_3',                 'ADX_6',                'ADX_10',\n",
       "                   'BOP',                 'MOM_3',                 'MOM_6',\n",
       "                'MOM_10',                'MOM_14',                 'ROC_3',\n",
       "                 'ROC_5',                 'ROC_7',                'ROC_10',\n",
       "                 'RSI_3',                 'RSI_6',                'RSI_10',\n",
       "                'RSI_14',                'TRIX_3',                'TRIX_5',\n",
       "                'TRIX_7',               'WILLR_3',               'WILLR_6',\n",
       "              'WILLR_12',              'WILLR_20',                    'AD',\n",
       "                 'ADOSC',                   'OBV',                 'ATR_3',\n",
       "                 'ATR_6',                'ATR_12',                'ATR_20',\n",
       "                'TRANGE',                   'MES',            'DIA_SEMANA',\n",
       "            'HORA_NOBRE',            'TARGET_WIN',       'TARGET_WIN_CAT3',\n",
       " 'TARGET_WIN_CAT3_LABEL',    'TARGET_WIN_CAT_ENC',                  'HOLD',\n",
       "                  'SELL',                   'BUY']\n",
       "Length: 71, dtype: object"
      ]
     },
     "execution_count": 5,
     "metadata": {},
     "output_type": "execute_result"
    }
   ],
   "source": [
    "df.columns.tolist()\n",
    "df.columns.array"
   ]
  },
  {
   "cell_type": "code",
   "execution_count": 6,
   "metadata": {
    "scrolled": false
   },
   "outputs": [
    {
     "name": "stdout",
     "output_type": "stream",
     "text": [
      "(139881, 71)\n",
      "(139881, 64)\n"
     ]
    },
    {
     "data": {
      "text/html": [
       "<div>\n",
       "<style scoped>\n",
       "    .dataframe tbody tr th:only-of-type {\n",
       "        vertical-align: middle;\n",
       "    }\n",
       "\n",
       "    .dataframe tbody tr th {\n",
       "        vertical-align: top;\n",
       "    }\n",
       "\n",
       "    .dataframe thead th {\n",
       "        text-align: right;\n",
       "    }\n",
       "</style>\n",
       "<table border=\"1\" class=\"dataframe\">\n",
       "  <thead>\n",
       "    <tr style=\"text-align: right;\">\n",
       "      <th></th>\n",
       "      <th>DATETIME</th>\n",
       "      <th>DATE</th>\n",
       "      <th>TIME</th>\n",
       "      <th>OPEN</th>\n",
       "      <th>HIGH</th>\n",
       "      <th>LOW</th>\n",
       "      <th>CLOSE</th>\n",
       "      <th>VOL</th>\n",
       "      <th>EMA_5_CLOSE</th>\n",
       "      <th>EMA_10_CLOSE</th>\n",
       "      <th>...</th>\n",
       "      <th>ADOSC</th>\n",
       "      <th>OBV</th>\n",
       "      <th>ATR_3</th>\n",
       "      <th>ATR_6</th>\n",
       "      <th>ATR_12</th>\n",
       "      <th>ATR_20</th>\n",
       "      <th>TRANGE</th>\n",
       "      <th>HORA_NOBRE</th>\n",
       "      <th>TARGET_WIN_CAT3</th>\n",
       "      <th>TARGET_WIN_CAT3_LABEL</th>\n",
       "    </tr>\n",
       "  </thead>\n",
       "  <tbody>\n",
       "    <tr>\n",
       "      <th>0</th>\n",
       "      <td>2014-11-19 12:30:00</td>\n",
       "      <td>2014.11.19</td>\n",
       "      <td>12:30:00</td>\n",
       "      <td>53560.0</td>\n",
       "      <td>53565.0</td>\n",
       "      <td>53405.0</td>\n",
       "      <td>53410.0</td>\n",
       "      <td>8363.0</td>\n",
       "      <td>53462.598377</td>\n",
       "      <td>53394.139577</td>\n",
       "      <td>...</td>\n",
       "      <td>224.882410</td>\n",
       "      <td>16995.0</td>\n",
       "      <td>183.08836</td>\n",
       "      <td>157.567344</td>\n",
       "      <td>133.163314</td>\n",
       "      <td>122.7500</td>\n",
       "      <td>160.0</td>\n",
       "      <td>2</td>\n",
       "      <td>HOLD</td>\n",
       "      <td>2</td>\n",
       "    </tr>\n",
       "    <tr>\n",
       "      <th>1</th>\n",
       "      <td>2014-11-19 12:35:00</td>\n",
       "      <td>2014.11.19</td>\n",
       "      <td>12:35:00</td>\n",
       "      <td>53410.0</td>\n",
       "      <td>53500.0</td>\n",
       "      <td>53295.0</td>\n",
       "      <td>53415.0</td>\n",
       "      <td>7034.0</td>\n",
       "      <td>53446.732251</td>\n",
       "      <td>53397.932381</td>\n",
       "      <td>...</td>\n",
       "      <td>-968.557883</td>\n",
       "      <td>24029.0</td>\n",
       "      <td>190.39224</td>\n",
       "      <td>165.472787</td>\n",
       "      <td>139.149704</td>\n",
       "      <td>126.8625</td>\n",
       "      <td>205.0</td>\n",
       "      <td>2</td>\n",
       "      <td>HOLD</td>\n",
       "      <td>2</td>\n",
       "    </tr>\n",
       "  </tbody>\n",
       "</table>\n",
       "<p>2 rows × 64 columns</p>\n",
       "</div>"
      ],
      "text/plain": [
       "             DATETIME        DATE      TIME     OPEN     HIGH      LOW  \\\n",
       "0 2014-11-19 12:30:00  2014.11.19  12:30:00  53560.0  53565.0  53405.0   \n",
       "1 2014-11-19 12:35:00  2014.11.19  12:35:00  53410.0  53500.0  53295.0   \n",
       "\n",
       "     CLOSE     VOL   EMA_5_CLOSE  EMA_10_CLOSE  ...       ADOSC      OBV  \\\n",
       "0  53410.0  8363.0  53462.598377  53394.139577  ...  224.882410  16995.0   \n",
       "1  53415.0  7034.0  53446.732251  53397.932381  ... -968.557883  24029.0   \n",
       "\n",
       "       ATR_3       ATR_6      ATR_12    ATR_20  TRANGE  HORA_NOBRE  \\\n",
       "0  183.08836  157.567344  133.163314  122.7500   160.0           2   \n",
       "1  190.39224  165.472787  139.149704  126.8625   205.0           2   \n",
       "\n",
       "   TARGET_WIN_CAT3  TARGET_WIN_CAT3_LABEL  \n",
       "0             HOLD                      2  \n",
       "1             HOLD                      2  \n",
       "\n",
       "[2 rows x 64 columns]"
      ]
     },
     "execution_count": 6,
     "metadata": {},
     "output_type": "execute_result"
    }
   ],
   "source": [
    "print(df.shape)\n",
    "df2 = df.drop([  'MES',\n",
    "                 'DIA_SEMANA', \n",
    "                 'TARGET_WIN',   \n",
    "                 'TARGET_WIN_CAT_ENC',\n",
    "                 'HOLD',\n",
    "                 'SELL',\n",
    "                 'BUY'\n",
    "            \n",
    "              ], axis=1)\n",
    "print(df2.shape)\n",
    "df2.head(2)"
   ]
  },
  {
   "cell_type": "code",
   "execution_count": 7,
   "metadata": {},
   "outputs": [
    {
     "name": "stderr",
     "output_type": "stream",
     "text": [
      "C:\\Users\\auW10\\Anaconda3\\envs\\phd\\lib\\site-packages\\pandas\\core\\frame.py:4170: SettingWithCopyWarning: \n",
      "A value is trying to be set on a copy of a slice from a DataFrame\n",
      "\n",
      "See the caveats in the documentation: https://pandas.pydata.org/pandas-docs/stable/user_guide/indexing.html#returning-a-view-versus-a-copy\n",
      "  errors=errors,\n"
     ]
    },
    {
     "data": {
      "text/html": [
       "<div>\n",
       "<style scoped>\n",
       "    .dataframe tbody tr th:only-of-type {\n",
       "        vertical-align: middle;\n",
       "    }\n",
       "\n",
       "    .dataframe tbody tr th {\n",
       "        vertical-align: top;\n",
       "    }\n",
       "\n",
       "    .dataframe thead th {\n",
       "        text-align: right;\n",
       "    }\n",
       "</style>\n",
       "<table border=\"1\" class=\"dataframe\">\n",
       "  <thead>\n",
       "    <tr style=\"text-align: right;\">\n",
       "      <th></th>\n",
       "      <th>DATETIME</th>\n",
       "      <th>OPEN</th>\n",
       "      <th>HIGH</th>\n",
       "      <th>LOW</th>\n",
       "      <th>CLOSE</th>\n",
       "      <th>VOL</th>\n",
       "      <th>EMA_5_CLOSE</th>\n",
       "      <th>EMA_10_CLOSE</th>\n",
       "      <th>EMA_20_CLOSE</th>\n",
       "      <th>EMA_5_OPEN</th>\n",
       "      <th>...</th>\n",
       "      <th>ADOSC</th>\n",
       "      <th>OBV</th>\n",
       "      <th>ATR_3</th>\n",
       "      <th>ATR_6</th>\n",
       "      <th>ATR_12</th>\n",
       "      <th>ATR_20</th>\n",
       "      <th>TRANGE</th>\n",
       "      <th>HORA_NOBRE</th>\n",
       "      <th>TARGET_WIN_CAT3</th>\n",
       "      <th>TARGET_WIN_CAT3_LABEL</th>\n",
       "    </tr>\n",
       "  </thead>\n",
       "  <tbody>\n",
       "    <tr>\n",
       "      <th>0</th>\n",
       "      <td>2015-01-02 09:00:00</td>\n",
       "      <td>50200.0</td>\n",
       "      <td>50400.0</td>\n",
       "      <td>50165.0</td>\n",
       "      <td>50275.0</td>\n",
       "      <td>861.0</td>\n",
       "      <td>50325.205919</td>\n",
       "      <td>50381.098425</td>\n",
       "      <td>50504.834778</td>\n",
       "      <td>50310.326119</td>\n",
       "      <td>...</td>\n",
       "      <td>-1281.593817</td>\n",
       "      <td>-165899.0</td>\n",
       "      <td>118.566120</td>\n",
       "      <td>105.950934</td>\n",
       "      <td>106.052199</td>\n",
       "      <td>107.965299</td>\n",
       "      <td>235.0</td>\n",
       "      <td>0</td>\n",
       "      <td>HOLD</td>\n",
       "      <td>2</td>\n",
       "    </tr>\n",
       "    <tr>\n",
       "      <th>1</th>\n",
       "      <td>2015-01-02 09:05:00</td>\n",
       "      <td>50275.0</td>\n",
       "      <td>50370.0</td>\n",
       "      <td>50185.0</td>\n",
       "      <td>50335.0</td>\n",
       "      <td>968.0</td>\n",
       "      <td>50328.470612</td>\n",
       "      <td>50372.716893</td>\n",
       "      <td>50488.660037</td>\n",
       "      <td>50298.550746</td>\n",
       "      <td>...</td>\n",
       "      <td>-915.986039</td>\n",
       "      <td>-164931.0</td>\n",
       "      <td>140.710746</td>\n",
       "      <td>119.125779</td>\n",
       "      <td>112.631182</td>\n",
       "      <td>111.817034</td>\n",
       "      <td>185.0</td>\n",
       "      <td>0</td>\n",
       "      <td>HOLD</td>\n",
       "      <td>2</td>\n",
       "    </tr>\n",
       "    <tr>\n",
       "      <th>2</th>\n",
       "      <td>2015-01-02 09:10:00</td>\n",
       "      <td>50335.0</td>\n",
       "      <td>50340.0</td>\n",
       "      <td>50205.0</td>\n",
       "      <td>50285.0</td>\n",
       "      <td>825.0</td>\n",
       "      <td>50313.980408</td>\n",
       "      <td>50356.768367</td>\n",
       "      <td>50469.263843</td>\n",
       "      <td>50310.700497</td>\n",
       "      <td>...</td>\n",
       "      <td>-637.960745</td>\n",
       "      <td>-165756.0</td>\n",
       "      <td>138.807164</td>\n",
       "      <td>121.771482</td>\n",
       "      <td>114.495250</td>\n",
       "      <td>112.976182</td>\n",
       "      <td>135.0</td>\n",
       "      <td>0</td>\n",
       "      <td>HOLD</td>\n",
       "      <td>2</td>\n",
       "    </tr>\n",
       "    <tr>\n",
       "      <th>3</th>\n",
       "      <td>2015-01-02 09:15:00</td>\n",
       "      <td>50300.0</td>\n",
       "      <td>50315.0</td>\n",
       "      <td>50215.0</td>\n",
       "      <td>50280.0</td>\n",
       "      <td>406.0</td>\n",
       "      <td>50302.653605</td>\n",
       "      <td>50342.810482</td>\n",
       "      <td>50451.238715</td>\n",
       "      <td>50307.133665</td>\n",
       "      <td>...</td>\n",
       "      <td>-429.099218</td>\n",
       "      <td>-166162.0</td>\n",
       "      <td>125.871443</td>\n",
       "      <td>118.142902</td>\n",
       "      <td>113.287313</td>\n",
       "      <td>112.327373</td>\n",
       "      <td>100.0</td>\n",
       "      <td>0</td>\n",
       "      <td>SELL</td>\n",
       "      <td>1</td>\n",
       "    </tr>\n",
       "    <tr>\n",
       "      <th>4</th>\n",
       "      <td>2015-01-02 09:20:00</td>\n",
       "      <td>50265.0</td>\n",
       "      <td>50280.0</td>\n",
       "      <td>50175.0</td>\n",
       "      <td>50190.0</td>\n",
       "      <td>958.0</td>\n",
       "      <td>50265.102404</td>\n",
       "      <td>50315.026758</td>\n",
       "      <td>50426.358837</td>\n",
       "      <td>50293.089110</td>\n",
       "      <td>...</td>\n",
       "      <td>-544.595225</td>\n",
       "      <td>-167120.0</td>\n",
       "      <td>118.914295</td>\n",
       "      <td>115.952418</td>\n",
       "      <td>112.596703</td>\n",
       "      <td>111.961004</td>\n",
       "      <td>105.0</td>\n",
       "      <td>0</td>\n",
       "      <td>SELL</td>\n",
       "      <td>1</td>\n",
       "    </tr>\n",
       "    <tr>\n",
       "      <th>...</th>\n",
       "      <td>...</td>\n",
       "      <td>...</td>\n",
       "      <td>...</td>\n",
       "      <td>...</td>\n",
       "      <td>...</td>\n",
       "      <td>...</td>\n",
       "      <td>...</td>\n",
       "      <td>...</td>\n",
       "      <td>...</td>\n",
       "      <td>...</td>\n",
       "      <td>...</td>\n",
       "      <td>...</td>\n",
       "      <td>...</td>\n",
       "      <td>...</td>\n",
       "      <td>...</td>\n",
       "      <td>...</td>\n",
       "      <td>...</td>\n",
       "      <td>...</td>\n",
       "      <td>...</td>\n",
       "      <td>...</td>\n",
       "      <td>...</td>\n",
       "    </tr>\n",
       "    <tr>\n",
       "      <th>132938</th>\n",
       "      <td>2019-12-30 17:45:00</td>\n",
       "      <td>116245.0</td>\n",
       "      <td>116310.0</td>\n",
       "      <td>116155.0</td>\n",
       "      <td>116185.0</td>\n",
       "      <td>56195.0</td>\n",
       "      <td>116340.624588</td>\n",
       "      <td>116429.656185</td>\n",
       "      <td>116502.191830</td>\n",
       "      <td>116419.865436</td>\n",
       "      <td>...</td>\n",
       "      <td>-57793.952461</td>\n",
       "      <td>-7927844.0</td>\n",
       "      <td>179.921938</td>\n",
       "      <td>145.712683</td>\n",
       "      <td>126.369144</td>\n",
       "      <td>125.228206</td>\n",
       "      <td>155.0</td>\n",
       "      <td>2</td>\n",
       "      <td>SELL</td>\n",
       "      <td>1</td>\n",
       "    </tr>\n",
       "    <tr>\n",
       "      <th>132939</th>\n",
       "      <td>2019-12-30 17:50:00</td>\n",
       "      <td>116185.0</td>\n",
       "      <td>116265.0</td>\n",
       "      <td>116060.0</td>\n",
       "      <td>116105.0</td>\n",
       "      <td>60633.0</td>\n",
       "      <td>116262.083059</td>\n",
       "      <td>116370.627788</td>\n",
       "      <td>116464.364037</td>\n",
       "      <td>116341.576958</td>\n",
       "      <td>...</td>\n",
       "      <td>-72510.139626</td>\n",
       "      <td>-7988477.0</td>\n",
       "      <td>188.281292</td>\n",
       "      <td>155.593903</td>\n",
       "      <td>132.921715</td>\n",
       "      <td>129.216796</td>\n",
       "      <td>205.0</td>\n",
       "      <td>2</td>\n",
       "      <td>SELL</td>\n",
       "      <td>1</td>\n",
       "    </tr>\n",
       "    <tr>\n",
       "      <th>132940</th>\n",
       "      <td>2019-12-30 17:55:00</td>\n",
       "      <td>116105.0</td>\n",
       "      <td>116140.0</td>\n",
       "      <td>115875.0</td>\n",
       "      <td>115975.0</td>\n",
       "      <td>72789.0</td>\n",
       "      <td>116166.388706</td>\n",
       "      <td>116298.695463</td>\n",
       "      <td>116417.757938</td>\n",
       "      <td>116262.717972</td>\n",
       "      <td>...</td>\n",
       "      <td>-79338.713875</td>\n",
       "      <td>-8061266.0</td>\n",
       "      <td>213.854195</td>\n",
       "      <td>173.828252</td>\n",
       "      <td>143.928239</td>\n",
       "      <td>136.005956</td>\n",
       "      <td>265.0</td>\n",
       "      <td>2</td>\n",
       "      <td>BUY</td>\n",
       "      <td>0</td>\n",
       "    </tr>\n",
       "    <tr>\n",
       "      <th>132941</th>\n",
       "      <td>2019-12-30 18:00:00</td>\n",
       "      <td>115985.0</td>\n",
       "      <td>116020.0</td>\n",
       "      <td>115850.0</td>\n",
       "      <td>115925.0</td>\n",
       "      <td>43625.0</td>\n",
       "      <td>116085.925804</td>\n",
       "      <td>116230.750833</td>\n",
       "      <td>116370.828611</td>\n",
       "      <td>116170.145315</td>\n",
       "      <td>...</td>\n",
       "      <td>-77901.331778</td>\n",
       "      <td>-8104891.0</td>\n",
       "      <td>199.236130</td>\n",
       "      <td>173.190210</td>\n",
       "      <td>146.100886</td>\n",
       "      <td>137.705658</td>\n",
       "      <td>170.0</td>\n",
       "      <td>2</td>\n",
       "      <td>BUY</td>\n",
       "      <td>0</td>\n",
       "    </tr>\n",
       "    <tr>\n",
       "      <th>132942</th>\n",
       "      <td>2019-12-30 18:05:00</td>\n",
       "      <td>115920.0</td>\n",
       "      <td>116040.0</td>\n",
       "      <td>115770.0</td>\n",
       "      <td>115770.0</td>\n",
       "      <td>40690.0</td>\n",
       "      <td>115980.617203</td>\n",
       "      <td>116146.977954</td>\n",
       "      <td>116313.606838</td>\n",
       "      <td>116086.763543</td>\n",
       "      <td>...</td>\n",
       "      <td>-85385.798446</td>\n",
       "      <td>-8145581.0</td>\n",
       "      <td>222.824087</td>\n",
       "      <td>189.325175</td>\n",
       "      <td>156.425812</td>\n",
       "      <td>144.320376</td>\n",
       "      <td>270.0</td>\n",
       "      <td>2</td>\n",
       "      <td>BUY</td>\n",
       "      <td>0</td>\n",
       "    </tr>\n",
       "  </tbody>\n",
       "</table>\n",
       "<p>132943 rows × 62 columns</p>\n",
       "</div>"
      ],
      "text/plain": [
       "                  DATETIME      OPEN      HIGH       LOW     CLOSE      VOL  \\\n",
       "0      2015-01-02 09:00:00   50200.0   50400.0   50165.0   50275.0    861.0   \n",
       "1      2015-01-02 09:05:00   50275.0   50370.0   50185.0   50335.0    968.0   \n",
       "2      2015-01-02 09:10:00   50335.0   50340.0   50205.0   50285.0    825.0   \n",
       "3      2015-01-02 09:15:00   50300.0   50315.0   50215.0   50280.0    406.0   \n",
       "4      2015-01-02 09:20:00   50265.0   50280.0   50175.0   50190.0    958.0   \n",
       "...                    ...       ...       ...       ...       ...      ...   \n",
       "132938 2019-12-30 17:45:00  116245.0  116310.0  116155.0  116185.0  56195.0   \n",
       "132939 2019-12-30 17:50:00  116185.0  116265.0  116060.0  116105.0  60633.0   \n",
       "132940 2019-12-30 17:55:00  116105.0  116140.0  115875.0  115975.0  72789.0   \n",
       "132941 2019-12-30 18:00:00  115985.0  116020.0  115850.0  115925.0  43625.0   \n",
       "132942 2019-12-30 18:05:00  115920.0  116040.0  115770.0  115770.0  40690.0   \n",
       "\n",
       "          EMA_5_CLOSE   EMA_10_CLOSE   EMA_20_CLOSE     EMA_5_OPEN  ...  \\\n",
       "0        50325.205919   50381.098425   50504.834778   50310.326119  ...   \n",
       "1        50328.470612   50372.716893   50488.660037   50298.550746  ...   \n",
       "2        50313.980408   50356.768367   50469.263843   50310.700497  ...   \n",
       "3        50302.653605   50342.810482   50451.238715   50307.133665  ...   \n",
       "4        50265.102404   50315.026758   50426.358837   50293.089110  ...   \n",
       "...               ...            ...            ...            ...  ...   \n",
       "132938  116340.624588  116429.656185  116502.191830  116419.865436  ...   \n",
       "132939  116262.083059  116370.627788  116464.364037  116341.576958  ...   \n",
       "132940  116166.388706  116298.695463  116417.757938  116262.717972  ...   \n",
       "132941  116085.925804  116230.750833  116370.828611  116170.145315  ...   \n",
       "132942  115980.617203  116146.977954  116313.606838  116086.763543  ...   \n",
       "\n",
       "               ADOSC        OBV       ATR_3       ATR_6      ATR_12  \\\n",
       "0       -1281.593817  -165899.0  118.566120  105.950934  106.052199   \n",
       "1        -915.986039  -164931.0  140.710746  119.125779  112.631182   \n",
       "2        -637.960745  -165756.0  138.807164  121.771482  114.495250   \n",
       "3        -429.099218  -166162.0  125.871443  118.142902  113.287313   \n",
       "4        -544.595225  -167120.0  118.914295  115.952418  112.596703   \n",
       "...              ...        ...         ...         ...         ...   \n",
       "132938 -57793.952461 -7927844.0  179.921938  145.712683  126.369144   \n",
       "132939 -72510.139626 -7988477.0  188.281292  155.593903  132.921715   \n",
       "132940 -79338.713875 -8061266.0  213.854195  173.828252  143.928239   \n",
       "132941 -77901.331778 -8104891.0  199.236130  173.190210  146.100886   \n",
       "132942 -85385.798446 -8145581.0  222.824087  189.325175  156.425812   \n",
       "\n",
       "            ATR_20  TRANGE  HORA_NOBRE  TARGET_WIN_CAT3  TARGET_WIN_CAT3_LABEL  \n",
       "0       107.965299   235.0           0             HOLD                      2  \n",
       "1       111.817034   185.0           0             HOLD                      2  \n",
       "2       112.976182   135.0           0             HOLD                      2  \n",
       "3       112.327373   100.0           0             SELL                      1  \n",
       "4       111.961004   105.0           0             SELL                      1  \n",
       "...            ...     ...         ...              ...                    ...  \n",
       "132938  125.228206   155.0           2             SELL                      1  \n",
       "132939  129.216796   205.0           2             SELL                      1  \n",
       "132940  136.005956   265.0           2              BUY                      0  \n",
       "132941  137.705658   170.0           2              BUY                      0  \n",
       "132942  144.320376   270.0           2              BUY                      0  \n",
       "\n",
       "[132943 rows x 62 columns]"
      ]
     },
     "execution_count": 7,
     "metadata": {},
     "output_type": "execute_result"
    }
   ],
   "source": [
    "df3 = df2[df2['DATETIME'].dt.year < 2020]\n",
    "df3.drop(['DATE', 'TIME'], axis=1, inplace=True)\n",
    "df4 = df3[df3['DATETIME'].dt.year > 2014].reset_index(drop=True)\n",
    "df4"
   ]
  },
  {
   "cell_type": "code",
   "execution_count": 8,
   "metadata": {
    "scrolled": true
   },
   "outputs": [
    {
     "name": "stdout",
     "output_type": "stream",
     "text": [
      "Proporção Train: 28.3% | Validation: 9.7% | Test: 2.9%\n",
      "(39552, 61) (13596, 61) (4064, 61)\n"
     ]
    },
    {
     "name": "stderr",
     "output_type": "stream",
     "text": [
      "C:\\Users\\auW10\\Anaconda3\\envs\\phd\\lib\\site-packages\\pandas\\core\\frame.py:4170: SettingWithCopyWarning: \n",
      "A value is trying to be set on a copy of a slice from a DataFrame\n",
      "\n",
      "See the caveats in the documentation: https://pandas.pydata.org/pandas-docs/stable/user_guide/indexing.html#returning-a-view-versus-a-copy\n",
      "  errors=errors,\n"
     ]
    }
   ],
   "source": [
    "df_train = df2[(df2['DATETIME'] >= '2015-01-01') & (df2['DATETIME'] < '2018-01-01')]\n",
    "#df_train = df2[(df2['DATETIME'] >= '2017-12-01') & (df2['DATETIME'] < '2019-07-01')]\n",
    "#df_train = df_train.iloc[-10000:, :]\n",
    "\n",
    "df_train = df2[(df2['DATETIME'] >= '2018-01-01') & (df2['DATETIME'] < '2019-07-01')]\n",
    "\n",
    "#----------------------------------------------------------------------------------------------------\n",
    "\n",
    "df_valid = df2[(df2['DATETIME'] >= '2018-01-01') & (df2['DATETIME'] < '2019-01-01')]\n",
    "#df_valid = df2[(df2['DATETIME'] >= '2019-07-01') & (df2['DATETIME'] < '2020-03-01')]\n",
    "#df_valid = df_valid.iloc[:6600, :]\n",
    "\n",
    "df_valid = df2[(df2['DATETIME'] >= '2019-07-01') & (df2['DATETIME'] < '2020-01-01')]\n",
    "\n",
    "#----------------------------------------------------------------------------------------------------\n",
    "\n",
    "df_test  = df2[(df2['DATETIME'] >= '2019-01-01') & (df2['DATETIME'] < '2020-01-01')]\n",
    "#df_test  = df2[(df2['DATETIME'] >= '2020-01-01')]\n",
    "\n",
    "#df_test  = df2[(df2['DATETIME'] < '2017-12-01')]\n",
    "#df_test = df_test.iloc[:500,:]\n",
    "\n",
    "df_test  = df2[(df2['DATETIME'] >= '2020-01-01')]\n",
    "\n",
    "#----------------------------------------------------------------------------------------------------\n",
    "\n",
    "print('Proporção Train: {:.1%} | Validation: {:.1%} | Test: {:.1%}'.format(\n",
    "                                            df_train['DATETIME'].count()/df2['DATETIME'].count(),\n",
    "                                            df_valid['DATETIME'].count()/df2['DATETIME'].count(),\n",
    "                                            df_test['DATETIME'].count()/df2['DATETIME'].count()))\n",
    "\n",
    "df_train.drop(['DATETIME', 'DATE', 'TIME'], axis=1, inplace=True)\n",
    "df_valid.drop(['DATETIME', 'DATE', 'TIME'], axis=1, inplace=True)\n",
    "df_test.drop(['DATETIME', 'DATE', 'TIME'], axis=1, inplace=True)\n",
    "print(df_train.shape, df_valid.shape, df_test.shape)"
   ]
  },
  {
   "cell_type": "code",
   "execution_count": 9,
   "metadata": {
    "scrolled": false
   },
   "outputs": [
    {
     "data": {
      "text/html": [
       "<div>\n",
       "<style scoped>\n",
       "    .dataframe tbody tr th:only-of-type {\n",
       "        vertical-align: middle;\n",
       "    }\n",
       "\n",
       "    .dataframe tbody tr th {\n",
       "        vertical-align: top;\n",
       "    }\n",
       "\n",
       "    .dataframe thead th {\n",
       "        text-align: right;\n",
       "    }\n",
       "</style>\n",
       "<table border=\"1\" class=\"dataframe\">\n",
       "  <thead>\n",
       "    <tr style=\"text-align: right;\">\n",
       "      <th></th>\n",
       "      <th>OPEN</th>\n",
       "      <th>HIGH</th>\n",
       "      <th>LOW</th>\n",
       "      <th>CLOSE</th>\n",
       "      <th>VOL</th>\n",
       "      <th>EMA_5_CLOSE</th>\n",
       "      <th>EMA_10_CLOSE</th>\n",
       "      <th>EMA_20_CLOSE</th>\n",
       "      <th>EMA_5_OPEN</th>\n",
       "      <th>EMA_10_OPEN</th>\n",
       "      <th>...</th>\n",
       "      <th>ADOSC</th>\n",
       "      <th>OBV</th>\n",
       "      <th>ATR_3</th>\n",
       "      <th>ATR_6</th>\n",
       "      <th>ATR_12</th>\n",
       "      <th>ATR_20</th>\n",
       "      <th>TRANGE</th>\n",
       "      <th>HORA_NOBRE</th>\n",
       "      <th>TARGET_WIN_CAT3</th>\n",
       "      <th>TARGET_WIN_CAT3_LABEL</th>\n",
       "    </tr>\n",
       "  </thead>\n",
       "  <tbody>\n",
       "    <tr>\n",
       "      <th>135836</th>\n",
       "      <td>117325.0</td>\n",
       "      <td>117425.0</td>\n",
       "      <td>117260.0</td>\n",
       "      <td>117400.0</td>\n",
       "      <td>87105.0</td>\n",
       "      <td>117228.122937</td>\n",
       "      <td>117137.461639</td>\n",
       "      <td>117010.529854</td>\n",
       "      <td>117142.182637</td>\n",
       "      <td>117084.640892</td>\n",
       "      <td>...</td>\n",
       "      <td>95344.558922</td>\n",
       "      <td>-7850190.0</td>\n",
       "      <td>212.171216</td>\n",
       "      <td>205.912372</td>\n",
       "      <td>197.823329</td>\n",
       "      <td>186.913789</td>\n",
       "      <td>165.0</td>\n",
       "      <td>1</td>\n",
       "      <td>HOLD</td>\n",
       "      <td>2</td>\n",
       "    </tr>\n",
       "  </tbody>\n",
       "</table>\n",
       "<p>1 rows × 61 columns</p>\n",
       "</div>"
      ],
      "text/plain": [
       "            OPEN      HIGH       LOW     CLOSE      VOL    EMA_5_CLOSE  \\\n",
       "135836  117325.0  117425.0  117260.0  117400.0  87105.0  117228.122937   \n",
       "\n",
       "         EMA_10_CLOSE   EMA_20_CLOSE     EMA_5_OPEN    EMA_10_OPEN  ...  \\\n",
       "135836  117137.461639  117010.529854  117142.182637  117084.640892  ...   \n",
       "\n",
       "               ADOSC        OBV       ATR_3       ATR_6      ATR_12  \\\n",
       "135836  95344.558922 -7850190.0  212.171216  205.912372  197.823329   \n",
       "\n",
       "            ATR_20  TRANGE  HORA_NOBRE  TARGET_WIN_CAT3  TARGET_WIN_CAT3_LABEL  \n",
       "135836  186.913789   165.0           1             HOLD                      2  \n",
       "\n",
       "[1 rows x 61 columns]"
      ]
     },
     "execution_count": 9,
     "metadata": {},
     "output_type": "execute_result"
    }
   ],
   "source": [
    "df_test.iloc[19:200].head(1)"
   ]
  },
  {
   "cell_type": "code",
   "execution_count": 10,
   "metadata": {},
   "outputs": [
    {
     "data": {
      "text/plain": [
       "HOLD    26622\n",
       "BUY      6492\n",
       "SELL     6438\n",
       "Name: TARGET_WIN_CAT3, dtype: int64"
      ]
     },
     "execution_count": 10,
     "metadata": {},
     "output_type": "execute_result"
    }
   ],
   "source": [
    "df_train['TARGET_WIN_CAT3'].value_counts()"
   ]
  },
  {
   "cell_type": "code",
   "execution_count": 11,
   "metadata": {},
   "outputs": [
    {
     "data": {
      "text/plain": [
       "26622"
      ]
     },
     "execution_count": 11,
     "metadata": {},
     "output_type": "execute_result"
    }
   ],
   "source": [
    "df_train['TARGET_WIN_CAT3'].value_counts()[0]"
   ]
  },
  {
   "cell_type": "code",
   "execution_count": 12,
   "metadata": {
    "scrolled": true
   },
   "outputs": [
    {
     "name": "stdout",
     "output_type": "stream",
     "text": [
      "\n",
      "Dados Categóricos de Treino -- BUY: 6492 | SELL: 6438 | HOLD: 26622\n",
      "\n",
      "Dados Categóricos de Validação -- BUY: 1912 | SELL: 1784 | HOLD: 9900\n",
      "\n",
      "Dados Categóricos de Teste -- BUY: 741 | SELL: 727 | HOLD: 2596\n"
     ]
    }
   ],
   "source": [
    "hold_train = df_train['TARGET_WIN_CAT3_LABEL'].value_counts()[2]\n",
    "hold_valid = df_valid['TARGET_WIN_CAT3_LABEL'].value_counts()[2]\n",
    "hold_test = df_test['TARGET_WIN_CAT3_LABEL'].value_counts()[2]\n",
    "\n",
    "print('\\nDados Categóricos de Treino -- BUY: %d | SELL: %d | HOLD: %d' % (df_train['TARGET_WIN_CAT3_LABEL'].value_counts()[0], df_train['TARGET_WIN_CAT3_LABEL'].value_counts()[1], hold_train))\n",
    "print('\\nDados Categóricos de Validação -- BUY: %d | SELL: %d | HOLD: %d' % (df_valid['TARGET_WIN_CAT3_LABEL'].value_counts()[0], df_valid['TARGET_WIN_CAT3_LABEL'].value_counts()[1], hold_valid))\n",
    "print('\\nDados Categóricos de Teste -- BUY: %d | SELL: %d | HOLD: %d' % (df_test['TARGET_WIN_CAT3_LABEL'].value_counts()[0], df_test['TARGET_WIN_CAT3_LABEL'].value_counts()[1], hold_test))\n"
   ]
  },
  {
   "cell_type": "code",
   "execution_count": 13,
   "metadata": {},
   "outputs": [
    {
     "name": "stdout",
     "output_type": "stream",
     "text": [
      "\n",
      "Dados Categóricos de Treino Hora Nobre -- BUY: 2171 | SELL: 2166 | HOLD: 6613\n",
      "\n",
      "Dados Categóricos de Validação Hora Nobre -- BUY: 724 | SELL: 702 | HOLD: 2354\n",
      "\n",
      "Dados Categóricos de Teste Hora Nobre -- BUY: 250 | SELL: 242 | HOLD: 618\n"
     ]
    }
   ],
   "source": [
    "buy_train = df_train.groupby(['HORA_NOBRE'])['TARGET_WIN_CAT3_LABEL'].value_counts()[4]\n",
    "sell_train = df_train.groupby(['HORA_NOBRE'])['TARGET_WIN_CAT3_LABEL'].value_counts()[5]\n",
    "hold_train = df_train.groupby(['HORA_NOBRE'])['TARGET_WIN_CAT3_LABEL'].value_counts()[3]\n",
    "\n",
    "buy_valid = df_valid.groupby(['HORA_NOBRE'])['TARGET_WIN_CAT3_LABEL'].value_counts()[4]\n",
    "sell_valid = df_valid.groupby(['HORA_NOBRE'])['TARGET_WIN_CAT3_LABEL'].value_counts()[5]\n",
    "hold_valid = df_valid.groupby(['HORA_NOBRE'])['TARGET_WIN_CAT3_LABEL'].value_counts()[3]\n",
    "\n",
    "buy_test = df_test.groupby(['HORA_NOBRE'])['TARGET_WIN_CAT3_LABEL'].value_counts()[4]\n",
    "sell_test = df_test.groupby(['HORA_NOBRE'])['TARGET_WIN_CAT3_LABEL'].value_counts()[5]\n",
    "hold_test = df_test.groupby(['HORA_NOBRE'])['TARGET_WIN_CAT3_LABEL'].value_counts()[3]\n",
    "\n",
    "print('\\nDados Categóricos de Treino Hora Nobre -- BUY: %d | SELL: %d | HOLD: %d' % (buy_train, sell_train, hold_train))\n",
    "print('\\nDados Categóricos de Validação Hora Nobre -- BUY: %d | SELL: %d | HOLD: %d' % (buy_valid, sell_valid, hold_valid))\n",
    "print('\\nDados Categóricos de Teste Hora Nobre -- BUY: %d | SELL: %d | HOLD: %d' % (buy_test, sell_test, hold_test))\n"
   ]
  },
  {
   "cell_type": "code",
   "execution_count": 14,
   "metadata": {
    "scrolled": true
   },
   "outputs": [
    {
     "data": {
      "text/plain": [
       "HORA_NOBRE  TARGET_WIN_CAT3\n",
       "0           HOLD                1506\n",
       "            SELL                 351\n",
       "            BUY                  328\n",
       "1           HOLD                6613\n",
       "            SELL                2171\n",
       "            BUY                 2166\n",
       "2           HOLD               18503\n",
       "            BUY                 3998\n",
       "            SELL                3916\n",
       "Name: TARGET_WIN_CAT3, dtype: int64"
      ]
     },
     "execution_count": 14,
     "metadata": {},
     "output_type": "execute_result"
    }
   ],
   "source": [
    "df_train.groupby(['HORA_NOBRE'])['TARGET_WIN_CAT3'].value_counts()"
   ]
  },
  {
   "cell_type": "code",
   "execution_count": 15,
   "metadata": {},
   "outputs": [
    {
     "name": "stdout",
     "output_type": "stream",
     "text": [
      "6613\n",
      "2171\n",
      "4442\n"
     ]
    }
   ],
   "source": [
    "np.random.seed(2345)\n",
    "porcentagem_selecao_train = (buy_train / hold_train)\n",
    "amostra_train = np.random.choice( a=[0,1], size=hold_train, replace=True, \n",
    "                                   p=[1-porcentagem_selecao_train, porcentagem_selecao_train] )\n",
    "print(len(amostra_train))\n",
    "print(len(amostra_train[amostra_train == 1]))\n",
    "print(len(amostra_train[amostra_train == 0]))"
   ]
  },
  {
   "cell_type": "code",
   "execution_count": 16,
   "metadata": {},
   "outputs": [
    {
     "name": "stdout",
     "output_type": "stream",
     "text": [
      "2354\n",
      "719\n",
      "1635\n"
     ]
    }
   ],
   "source": [
    "np.random.seed(2345)\n",
    "porcentagem_selecao_valid = (buy_valid / hold_valid)\n",
    "amostra_valid = np.random.choice( a=[0,1], size=hold_valid, replace=True, \n",
    "                                   p=[1-porcentagem_selecao_valid, porcentagem_selecao_valid] )\n",
    "print(len(amostra_valid))\n",
    "print(len(amostra_valid[amostra_valid == 1]))\n",
    "print(len(amostra_valid[amostra_valid == 0]))"
   ]
  },
  {
   "cell_type": "code",
   "execution_count": 17,
   "metadata": {},
   "outputs": [
    {
     "name": "stdout",
     "output_type": "stream",
     "text": [
      "618\n",
      "253\n",
      "365\n"
     ]
    }
   ],
   "source": [
    "np.random.seed(2345)\n",
    "porcentagem_selecao_test = (buy_test / hold_test)\n",
    "amostra_test = np.random.choice( a=[0,1], size=hold_test, replace=True, \n",
    "                                   p=[1-porcentagem_selecao_test, porcentagem_selecao_test] )\n",
    "print(len(amostra_test))\n",
    "print(len(amostra_test[amostra_test == 1]))\n",
    "print(len(amostra_test[amostra_test == 0]))"
   ]
  },
  {
   "cell_type": "code",
   "execution_count": 18,
   "metadata": {},
   "outputs": [],
   "source": [
    "def normalize(data):\n",
    "\n",
    "    scaler_x = StandardScaler()\n",
    "\n",
    "    x = data.iloc[:, :-3]\n",
    "    x = scaler_x.fit_transform(x) \n",
    "\n",
    "    y = data.iloc[:,-2]\n",
    "    y_list = np.array(y.to_list())\n",
    "\n",
    "    return x, y_list"
   ]
  },
  {
   "cell_type": "code",
   "execution_count": 19,
   "metadata": {},
   "outputs": [],
   "source": [
    "def get_train_valid_test_data(seq_len, df, amostragem):\n",
    "    print('df.shape: ', df.shape)\n",
    "    a=0\n",
    "    for i in range(len(df) - seq_len):\n",
    "        if df['TARGET_WIN_CAT3'][i+seq_len-1] == 'HOLD':\n",
    "            if amostragem[a] == 0:\n",
    "                df.drop((i+seq_len-1), axis=0, inplace=True) \n",
    "            a+=1\n",
    "\n",
    "    x, y = normalize(df)\n",
    "\n",
    "    return x, y"
   ]
  },
  {
   "cell_type": "code",
   "execution_count": 20,
   "metadata": {},
   "outputs": [],
   "source": [
    "def next_window(i, seq_len, df):\n",
    "    df = df[i:i+seq_len]\n",
    "    scaler_x = StandardScaler()\n",
    "    \n",
    "    x = df.iloc[:, :-3]\n",
    "    x = scaler_x.fit_transform(x) \n",
    "    \n",
    "    y = df.iloc[-1,-2]\n",
    "    # y_list = np.array(y.to_list())\n",
    "    \n",
    "    return x, y"
   ]
  },
  {
   "cell_type": "code",
   "execution_count": 21,
   "metadata": {},
   "outputs": [],
   "source": [
    "def get_train_valid_test_data_Slide_Window(seq_len, df, amostragem):\n",
    "    print('df.shape: ', df.shape)\n",
    "    a=0\n",
    "    data_x = []\n",
    "    data_y = []\n",
    "    for i in range(len(df) - seq_len):\n",
    "        if df['TARGET_WIN_CAT3'].iloc[i+seq_len-1] == 'HOLD':\n",
    "            if amostragem[a] == 1:    \n",
    "                x, y = next_window(i, seq_len, df)\n",
    "                data_x.append(x)\n",
    "                data_y.append(y)\n",
    "            a+=1\n",
    "        else:\n",
    "            x, y = next_window(i, seq_len, df)\n",
    "            data_x.append(x)\n",
    "            data_y.append(y)\n",
    "\n",
    "    return np.array(data_x), np.array(data_y)"
   ]
  },
  {
   "cell_type": "code",
   "execution_count": 22,
   "metadata": {},
   "outputs": [
    {
     "name": "stdout",
     "output_type": "stream",
     "text": [
      "df.shape:  (10950, 61)\n",
      "x_train:  (6509, 58)  | y_train:  (6509,)\n"
     ]
    }
   ],
   "source": [
    "df_train_reset_index = df_train[df_train['HORA_NOBRE'] == '1'].reset_index(drop=True)\n",
    "x_train, y_train = get_train_valid_test_data(seq_len=1, \n",
    "                                             df=df_train_reset_index, \n",
    "                                             amostragem=amostra_train)\n",
    "print('x_train: ', x_train.shape,' | y_train: ', y_train.shape)"
   ]
  },
  {
   "cell_type": "code",
   "execution_count": 23,
   "metadata": {},
   "outputs": [
    {
     "name": "stdout",
     "output_type": "stream",
     "text": [
      "df.shape:  (10950, 61)\n",
      "x_train_sw:  (6483, 50, 58)  | y_train_sw:  (6483,)\n"
     ]
    }
   ],
   "source": [
    "df_train_reset_index = df_train[df_train['HORA_NOBRE'] == '1'].reset_index(drop=True)\n",
    "x_train_sw, y_train_sw = get_train_valid_test_data_Slide_Window( seq_len=configs['dataset']['sequence_length'], \n",
    "                                                                 df=df_train_reset_index, \n",
    "                                                                 amostragem=amostra_train)\n",
    "print('x_train_sw: ', x_train_sw.shape,' | y_train_sw: ', y_train_sw.shape)"
   ]
  },
  {
   "cell_type": "code",
   "execution_count": 24,
   "metadata": {},
   "outputs": [
    {
     "name": "stdout",
     "output_type": "stream",
     "text": [
      "6509 6509\n",
      "6483 6483\n"
     ]
    }
   ],
   "source": [
    "print(len(x_train), len(y_train))\n",
    "print(len(x_train_sw), len(y_train_sw))"
   ]
  },
  {
   "cell_type": "code",
   "execution_count": 25,
   "metadata": {
    "scrolled": false
   },
   "outputs": [
    {
     "name": "stdout",
     "output_type": "stream",
     "text": [
      "df.shape:  (3780, 61)\n",
      "(2145, 58) (2145,)\n"
     ]
    }
   ],
   "source": [
    "df_valid_reset_index = df_valid[df_valid['HORA_NOBRE'] == '1'].reset_index(drop=True)\n",
    "x_valid, y_valid = get_train_valid_test_data(seq_len=1, \n",
    "                                             df=df_valid_reset_index, \n",
    "                                             amostragem=amostra_valid)\n",
    "print(x_valid.shape, y_valid.shape)"
   ]
  },
  {
   "cell_type": "code",
   "execution_count": 26,
   "metadata": {
    "scrolled": true
   },
   "outputs": [
    {
     "name": "stdout",
     "output_type": "stream",
     "text": [
      "df.shape:  (3780, 61)\n",
      "(2120, 50, 58) (2120,)\n"
     ]
    }
   ],
   "source": [
    "df_valid_reset_index = df_valid[df_valid['HORA_NOBRE'] == '1'].reset_index(drop=True)\n",
    "x_valid_sw, y_valid_sw = get_train_valid_test_data_Slide_Window( seq_len=configs['dataset']['sequence_length'], \n",
    "                                                                 df=df_valid_reset_index, \n",
    "                                                                 amostragem=amostra_valid)\n",
    "print(x_valid_sw.shape, y_valid_sw.shape)"
   ]
  },
  {
   "cell_type": "code",
   "execution_count": 27,
   "metadata": {},
   "outputs": [
    {
     "name": "stdout",
     "output_type": "stream",
     "text": [
      "df.shape:  (1110, 61)\n",
      "(745, 58) (745,)\n"
     ]
    }
   ],
   "source": [
    "df_test_reset_index = df_test[df_test['HORA_NOBRE'] == '1'].reset_index(drop=True)\n",
    "x_test, y_test = get_train_valid_test_data(seq_len=1, \n",
    "                                             df=df_test_reset_index, \n",
    "                                             amostragem=amostra_test)\n",
    "print(x_test.shape, y_test.shape)"
   ]
  },
  {
   "cell_type": "code",
   "execution_count": 28,
   "metadata": {},
   "outputs": [
    {
     "name": "stdout",
     "output_type": "stream",
     "text": [
      "y_test.size:  745  | cont_buy:  250  | cont_hold:  253  | cont_sell:  242\n"
     ]
    }
   ],
   "source": [
    "cont_buy = 0\n",
    "cont_sell = 0\n",
    "cont_hold = 0\n",
    "for n in y_test:\n",
    "    if n == 'BUY':\n",
    "        cont_buy+=1\n",
    "    if n == 'HOLD':\n",
    "        cont_hold+=1\n",
    "    if n == 'SELL':\n",
    "        cont_sell+=1\n",
    "\n",
    "print('y_test.size: ', y_test.size, ' | cont_buy: ', cont_buy, ' | cont_hold: ', cont_hold, ' | cont_sell: ', cont_sell)"
   ]
  },
  {
   "cell_type": "code",
   "execution_count": 29,
   "metadata": {
    "scrolled": true
   },
   "outputs": [
    {
     "name": "stdout",
     "output_type": "stream",
     "text": [
      "df.shape:  (1110, 61)\n",
      "(710, 50, 58) (710,)\n"
     ]
    }
   ],
   "source": [
    "df_test_reset_index = df_test[df_test['HORA_NOBRE'] == '1'].reset_index(drop=True)\n",
    "x_test_sw, y_test_sw = get_train_valid_test_data_Slide_Window(   seq_len=configs['dataset']['sequence_length'], \n",
    "                                                                 df=df_test_reset_index, \n",
    "                                                                 amostragem=amostra_test)\n",
    "print(x_test_sw.shape, y_test_sw.shape)"
   ]
  },
  {
   "cell_type": "code",
   "execution_count": 30,
   "metadata": {},
   "outputs": [
    {
     "name": "stdout",
     "output_type": "stream",
     "text": [
      "y_test_sw.size:  710  | cont_buy:  227  | cont_hold:  244  | cont_sell:  239\n"
     ]
    }
   ],
   "source": [
    "cont_buy = 0\n",
    "cont_sell = 0\n",
    "cont_hold = 0\n",
    "for n in y_test_sw:\n",
    "    if n == 'BUY':\n",
    "        cont_buy+=1\n",
    "    if n == 'HOLD':\n",
    "        cont_hold+=1\n",
    "    if n == 'SELL':\n",
    "        cont_sell+=1\n",
    "\n",
    "print('y_test_sw.size: ', y_test_sw.size, ' | cont_buy: ', cont_buy, ' | cont_hold: ', cont_hold, ' | cont_sell: ', cont_sell)"
   ]
  },
  {
   "cell_type": "code",
   "execution_count": null,
   "metadata": {},
   "outputs": [],
   "source": []
  },
  {
   "cell_type": "code",
   "execution_count": 31,
   "metadata": {
    "scrolled": false
   },
   "outputs": [
    {
     "name": "stdout",
     "output_type": "stream",
     "text": [
      "6509 6509\n",
      "6483 6483\n"
     ]
    }
   ],
   "source": [
    "print(len(x_train), len(y_train))\n",
    "print(len(x_train_sw), len(y_train_sw))"
   ]
  },
  {
   "cell_type": "code",
   "execution_count": null,
   "metadata": {},
   "outputs": [],
   "source": []
  },
  {
   "cell_type": "markdown",
   "metadata": {},
   "source": [
    "## Cálculo do Weighted F Score"
   ]
  },
  {
   "cell_type": "code",
   "execution_count": 32,
   "metadata": {},
   "outputs": [],
   "source": [
    "def weightedFScore(confusion_matrix):\n",
    "    beta_1 = math.pow(0.5, 2)\n",
    "    beta_2 = math.pow(0.25, 2)\n",
    "    beta_3 = math.pow(0.125, 2)\n",
    "    \n",
    "    num_tu = confusion_matrix[[0],[0]]\n",
    "    num_tf = confusion_matrix[[1],[1]]\n",
    "    num_td = confusion_matrix[[2],[2]]\n",
    "    \n",
    "    wrongF_trueU = confusion_matrix[[0],[1]]\n",
    "    wrongD_trueU = confusion_matrix[[0],[2]]\n",
    "    \n",
    "    wrongU_trueF = confusion_matrix[[1],[0]]\n",
    "    wrongD_trueF = confusion_matrix[[1],[2]]\n",
    "  \n",
    "    wrongU_trueD = confusion_matrix[[2],[0]]\n",
    "    wrongF_trueD = confusion_matrix[[2],[1]]\n",
    "    \n",
    "    num_tp = num_tu + num_td + (beta_3 * num_tf)\n",
    "    erro_tipo_1 = wrongU_trueD + wrongD_trueU\n",
    "    erro_tipo_2 = wrongU_trueF + wrongD_trueF\n",
    "    erro_tipo_3 = wrongF_trueU + wrongF_trueD\n",
    "    \n",
    "    num = (1 + beta_1 + beta_2) * num_tp\n",
    "    den = num + erro_tipo_1 + (beta_1 * erro_tipo_2) + (beta_2 * erro_tipo_3)\n",
    "    \n",
    "    wFScore = num / den\n",
    "    \n",
    "    return wFScore"
   ]
  },
  {
   "cell_type": "markdown",
   "metadata": {},
   "source": [
    "# Modelos"
   ]
  },
  {
   "cell_type": "code",
   "execution_count": 33,
   "metadata": {},
   "outputs": [],
   "source": [
    "import lightgbm as lgbm\n",
    "import seaborn as sns\n",
    "\n",
    "from sklearn.ensemble import RandomForestClassifier \n",
    "from sklearn.metrics import accuracy_score, confusion_matrix, classification_report"
   ]
  },
  {
   "cell_type": "markdown",
   "metadata": {},
   "source": [
    "## LightGBM"
   ]
  },
  {
   "cell_type": "code",
   "execution_count": 34,
   "metadata": {},
   "outputs": [
    {
     "name": "stdout",
     "output_type": "stream",
     "text": [
      "Accuracy Score - LightGBM:  0.3651006711409396\n",
      "              precision    recall  f1-score   support\n",
      "\n",
      "         BUY       0.35      0.32      0.33       250\n",
      "        HOLD       0.40      0.45      0.42       253\n",
      "        SELL       0.34      0.32      0.33       242\n",
      "\n",
      "    accuracy                           0.37       745\n",
      "   macro avg       0.36      0.36      0.36       745\n",
      "weighted avg       0.36      0.37      0.36       745\n",
      "\n"
     ]
    }
   ],
   "source": [
    "model_lgbm = lgbm.LGBMClassifier(n_jobs=-1, random_state=0, n_estimators=5000, learning_rate=0.001, num_leaves=2**6,\n",
    "                                 subsample=0.9, subsample_freq=1, colsample_bytree=1.)\n",
    "\n",
    "model_lgbm.fit(x_train, y_train)\n",
    "predict_lgbm = model_lgbm.predict(x_test)\n",
    "\n",
    "accuracy_score_LGBM = accuracy_score(y_test, predict_lgbm)\n",
    "\n",
    "print('Accuracy Score - LightGBM: ', accuracy_score_LGBM)"
   ]
  },
  {
   "cell_type": "code",
   "execution_count": null,
   "metadata": {},
   "outputs": [],
   "source": [
    "print(classification_report(y_test, predict_lgbm))"
   ]
  },
  {
   "cell_type": "code",
   "execution_count": 35,
   "metadata": {
    "scrolled": false
   },
   "outputs": [
    {
     "data": {
      "text/plain": [
       "array([[ 81,  93,  76],\n",
       "       [ 64, 113,  76],\n",
       "       [ 89,  75,  78]], dtype=int64)"
      ]
     },
     "execution_count": 35,
     "metadata": {},
     "output_type": "execute_result"
    }
   ],
   "source": [
    "from sklearn.metrics import confusion_matrix\n",
    "confusion_matrix = confusion_matrix(y_test, predict_lgbm, labels=[\"BUY\", \"HOLD\", \"SELL\"])\n",
    "confusion_matrix"
   ]
  },
  {
   "cell_type": "code",
   "execution_count": 37,
   "metadata": {},
   "outputs": [
    {
     "name": "stdout",
     "output_type": "stream",
     "text": [
      "predict_lgbm.size:  745  | cont_buy:  234  | cont_hold:  281  | cont_sell:  230\n"
     ]
    }
   ],
   "source": [
    "cont_buy = 0\n",
    "cont_sell = 0\n",
    "cont_hold = 0\n",
    "for n in predict_lgbm:\n",
    "    if n == 'BUY':\n",
    "        cont_buy+=1\n",
    "    if n == 'SELL':\n",
    "        cont_sell+=1\n",
    "    if n == 'HOLD':\n",
    "        cont_hold+=1\n",
    "\n",
    "print('predict_lgbm.size: ', predict_lgbm.size, ' | cont_buy: ', cont_buy, ' | cont_hold: ', cont_hold, ' | cont_sell: ', cont_sell)"
   ]
  },
  {
   "cell_type": "code",
   "execution_count": 38,
   "metadata": {},
   "outputs": [
    {
     "data": {
      "text/plain": [
       "<AxesSubplot:>"
      ]
     },
     "execution_count": 38,
     "metadata": {},
     "output_type": "execute_result"
    },
    {
     "data": {
      "image/png": "[encoded data removed]",
      "text/plain": [
       "<Figure size 432x288 with 2 Axes>"
      ]
     },
     "metadata": {
      "needs_background": "light"
     },
     "output_type": "display_data"
    }
   ],
   "source": [
    "# visualize confusion matrix with seaborn heatmap\n",
    "cm_matrix_LGBM = pd.DataFrame(data=confusion_matrix,\n",
    "                        columns=['BUY_P', 'HOLD_P', 'SELL_P'], \n",
    "                        index=['BUY_R', 'HOLD_R', 'SELL_R'])\n",
    "\n",
    "sns.heatmap(cm_matrix_LGBM, annot=True, fmt='d', cmap='YlGnBu')"
   ]
  },
  {
   "cell_type": "code",
   "execution_count": 39,
   "metadata": {},
   "outputs": [
    {
     "data": {
      "text/plain": [
       "0.5005989050579096"
      ]
     },
     "execution_count": 39,
     "metadata": {},
     "output_type": "execute_result"
    }
   ],
   "source": [
    "weightedFScore_LGBM = weightedFScore(confusion_matrix)[0] \n",
    "weightedFScore_LGBM"
   ]
  },
  {
   "cell_type": "markdown",
   "metadata": {},
   "source": [
    "### Compare train and test set accuracy"
   ]
  },
  {
   "cell_type": "code",
   "execution_count": 40,
   "metadata": {},
   "outputs": [],
   "source": [
    "#y_pred_train = model_lgbm.predict(x_train)\n",
    "#print('Training-set accuracy score: {0:0.4f}'. format(accuracy_score(y_train, y_pred_train)))"
   ]
  },
  {
   "cell_type": "markdown",
   "metadata": {},
   "source": [
    "### Check for Overfitting"
   ]
  },
  {
   "cell_type": "code",
   "execution_count": 41,
   "metadata": {},
   "outputs": [],
   "source": [
    "# print the scores on training and test set\n",
    "\n",
    "#print('Training set score: {:.4f}'.format(model_lgbm.score(x_train, y_train)))\n",
    "\n",
    "#print('Test set score: {:.4f}'.format(model_lgbm.score(x_test, y_test)))"
   ]
  },
  {
   "cell_type": "code",
   "execution_count": 42,
   "metadata": {},
   "outputs": [],
   "source": [
    "#print('Validation set score: {:.4f}'.format(model_lgbm.score(x_valid, y_valid)))"
   ]
  },
  {
   "cell_type": "markdown",
   "metadata": {},
   "source": [
    "## Random Forest"
   ]
  },
  {
   "cell_type": "code",
   "execution_count": 43,
   "metadata": {},
   "outputs": [
    {
     "name": "stdout",
     "output_type": "stream",
     "text": [
      "Accuracy Score - Random Forest:  0.3731543624161074\n"
     ]
    }
   ],
   "source": [
    "model_randomF = RandomForestClassifier(n_jobs=-1, random_state=0, n_estimators=5000)\n",
    "model_randomF.fit(x_train, y_train)\n",
    "predict_randomF = model_randomF.predict(x_test)\n",
    "\n",
    "accuracy_score_RF = accuracy_score(y_test, predict_randomF)\n",
    "print('Accuracy Score - Random Forest: ', accuracy_score_RF)"
   ]
  },
  {
   "cell_type": "code",
   "execution_count": 44,
   "metadata": {
    "scrolled": false
   },
   "outputs": [
    {
     "name": "stdout",
     "output_type": "stream",
     "text": [
      "              precision    recall  f1-score   support\n",
      "\n",
      "         BUY       0.37      0.36      0.37       250\n",
      "        HOLD       0.39      0.40      0.39       253\n",
      "        SELL       0.36      0.36      0.36       242\n",
      "\n",
      "    accuracy                           0.37       745\n",
      "   macro avg       0.37      0.37      0.37       745\n",
      "weighted avg       0.37      0.37      0.37       745\n",
      "\n"
     ]
    }
   ],
   "source": [
    "print(classification_report(y_test, predict_randomF))"
   ]
  },
  {
   "cell_type": "code",
   "execution_count": 45,
   "metadata": {
    "scrolled": true
   },
   "outputs": [
    {
     "data": {
      "text/plain": [
       "array([[ 91,  81,  78],\n",
       "       [ 75, 101,  77],\n",
       "       [ 78,  78,  86]], dtype=int64)"
      ]
     },
     "execution_count": 45,
     "metadata": {},
     "output_type": "execute_result"
    }
   ],
   "source": [
    "from sklearn.metrics import confusion_matrix\n",
    "confusion_matrix = confusion_matrix(y_test, predict_randomF, labels=[\"BUY\", \"HOLD\", \"SELL\"])\n",
    "confusion_matrix"
   ]
  },
  {
   "cell_type": "code",
   "execution_count": 46,
   "metadata": {},
   "outputs": [
    {
     "name": "stdout",
     "output_type": "stream",
     "text": [
      "predict_randomF.size:  745  | cont_buy:  244  | cont_hold:  260  | cont_sell:  241\n"
     ]
    }
   ],
   "source": [
    "cont_buy = 0\n",
    "cont_sell = 0\n",
    "cont_hold = 0\n",
    "for n in predict_randomF:\n",
    "    if n == 'BUY':\n",
    "        cont_buy+=1\n",
    "    if n == 'SELL':\n",
    "        cont_sell+=1\n",
    "    if n == 'HOLD':\n",
    "        cont_hold+=1\n",
    "\n",
    "print('predict_randomF.size: ', predict_randomF.size, ' | cont_buy: ', cont_buy, ' | cont_hold: ', cont_hold, ' | cont_sell: ', cont_sell)"
   ]
  },
  {
   "cell_type": "code",
   "execution_count": 47,
   "metadata": {},
   "outputs": [
    {
     "data": {
      "text/plain": [
       "<AxesSubplot:>"
      ]
     },
     "execution_count": 47,
     "metadata": {},
     "output_type": "execute_result"
    },
    {
     "data": {
      "image/png": "[encoded data removed]",
      "text/plain": [
       "<Figure size 432x288 with 2 Axes>"
      ]
     },
     "metadata": {
      "needs_background": "light"
     },
     "output_type": "display_data"
    }
   ],
   "source": [
    "# visualize confusion matrix with seaborn heatmap\n",
    "cm_matrix_RF = pd.DataFrame(data=confusion_matrix,\n",
    "                        columns=['BUY_P', 'HOLD_P', 'SELL_P'], \n",
    "                        index=['BUY_R', 'HOLD_R', 'SELL_R'])\n",
    "\n",
    "sns.heatmap(cm_matrix_RF, annot=True, fmt='d', cmap='YlGnBu')"
   ]
  },
  {
   "cell_type": "code",
   "execution_count": 48,
   "metadata": {},
   "outputs": [
    {
     "data": {
      "text/plain": [
       "0.5347305616019927"
      ]
     },
     "execution_count": 48,
     "metadata": {},
     "output_type": "execute_result"
    }
   ],
   "source": [
    "weightedFScore_RF = weightedFScore(confusion_matrix)[0] \n",
    "weightedFScore_RF"
   ]
  },
  {
   "cell_type": "markdown",
   "metadata": {},
   "source": [
    "### Compare train and test set accuracy"
   ]
  },
  {
   "cell_type": "code",
   "execution_count": 49,
   "metadata": {},
   "outputs": [],
   "source": [
    "#y_pred_train = model_randomF.predict(x_train)\n",
    "#print('Training-set accuracy score: {0:0.4f}'. format(accuracy_score(y_train, y_pred_train)))"
   ]
  },
  {
   "cell_type": "markdown",
   "metadata": {},
   "source": [
    "### Check for Overfitting"
   ]
  },
  {
   "cell_type": "code",
   "execution_count": 50,
   "metadata": {},
   "outputs": [],
   "source": [
    "# print the scores on training and test set\n",
    "\n",
    "#print('Training set score: {:.4f}'.format(model_randomF.score(x_train, y_train)))\n",
    "\n",
    "#print('Test set score: {:.4f}'.format(model_randomF.score(x_test, y_test)))"
   ]
  },
  {
   "cell_type": "code",
   "execution_count": 51,
   "metadata": {},
   "outputs": [],
   "source": [
    "#print('Validation set score: {:.4f}'.format(model_randomF.score(x_valid, y_valid)))"
   ]
  },
  {
   "cell_type": "markdown",
   "metadata": {},
   "source": [
    "# Deep Learning"
   ]
  },
  {
   "cell_type": "code",
   "execution_count": 52,
   "metadata": {},
   "outputs": [
    {
     "name": "stderr",
     "output_type": "stream",
     "text": [
      "Using TensorFlow backend.\n"
     ]
    }
   ],
   "source": [
    "# Encoding categorical data\n",
    "from keras.utils import to_categorical\n",
    "from sklearn.preprocessing import LabelEncoder\n",
    "\n",
    "def encode_categ_data(data):\n",
    "    labelencoder = LabelEncoder()\n",
    "    x = labelencoder.fit_transform(data)\n",
    "    data_encoded = to_categorical(x)\n",
    "    \n",
    "    #print(data[10:20])\n",
    "    #print(data_encoded[10:20])\n",
    "    \n",
    "    return data_encoded"
   ]
  },
  {
   "cell_type": "code",
   "execution_count": 53,
   "metadata": {},
   "outputs": [],
   "source": [
    "# example of training a final classification model\n",
    "from keras.models import Sequential, load_model\n",
    "from core.utils import Timer\n",
    "from keras.layers import Dense, Dropout, LSTM, GRU\n",
    "from keras.callbacks import EarlyStopping, ModelCheckpoint\n",
    "from keras.optimizers import SGD, Adam\n",
    "dim = x_train.shape[1]"
   ]
  },
  {
   "cell_type": "markdown",
   "metadata": {},
   "source": [
    "## DNN"
   ]
  },
  {
   "cell_type": "code",
   "execution_count": 54,
   "metadata": {
    "scrolled": true
   },
   "outputs": [
    {
     "name": "stdout",
     "output_type": "stream",
     "text": [
      "WARNING:tensorflow:From C:\\Users\\auW10\\Anaconda3\\envs\\phd\\lib\\site-packages\\tensorflow_core\\python\\ops\\resource_variable_ops.py:1630: calling BaseResourceVariable.__init__ (from tensorflow.python.ops.resource_variable_ops) with constraint is deprecated and will be removed in a future version.\n",
      "Instructions for updating:\n",
      "If using Keras pass *_constraint arguments to layers.\n",
      "[model] Model Compiled\n",
      "Model: \"sequential_1\"\n",
      "_________________________________________________________________\n",
      "Layer (type)                 Output Shape              Param #   \n",
      "=================================================================\n",
      "dense_1 (Dense)              (None, 100)               5900      \n",
      "_________________________________________________________________\n",
      "dropout_1 (Dropout)          (None, 100)               0         \n",
      "_________________________________________________________________\n",
      "dense_2 (Dense)              (None, 75)                7575      \n",
      "_________________________________________________________________\n",
      "dropout_2 (Dropout)          (None, 75)                0         \n",
      "_________________________________________________________________\n",
      "dense_3 (Dense)              (None, 50)                3800      \n",
      "_________________________________________________________________\n",
      "dropout_3 (Dropout)          (None, 50)                0         \n",
      "_________________________________________________________________\n",
      "dense_4 (Dense)              (None, 25)                1275      \n",
      "_________________________________________________________________\n",
      "dropout_4 (Dropout)          (None, 25)                0         \n",
      "_________________________________________________________________\n",
      "dense_5 (Dense)              (None, 3)                 78        \n",
      "=================================================================\n",
      "Total params: 18,628\n",
      "Trainable params: 18,628\n",
      "Non-trainable params: 0\n",
      "_________________________________________________________________\n",
      "None\n",
      "Time taken: 0:00:00.471405\n"
     ]
    }
   ],
   "source": [
    "# define and fit the final model\n",
    "timer = Timer()\n",
    "timer.start()\n",
    "\n",
    "model_dnn = Sequential()\n",
    "\n",
    "model_dnn.add(Dense(100, input_dim=dim, activation='relu'))\n",
    "model_dnn.add(Dropout(0.2))\n",
    "model_dnn.add(Dense(75, activation='relu'))\n",
    "model_dnn.add(Dropout(0.4))\n",
    "model_dnn.add(Dense(50, activation='relu'))\n",
    "model_dnn.add(Dropout(0.5))\n",
    "model_dnn.add(Dense(25, activation='relu'))\n",
    "model_dnn.add(Dropout(0.2))\n",
    "model_dnn.add(Dense(3, activation='softmax'))\n",
    "\n",
    "model_dnn.compile(loss='categorical_crossentropy', optimizer='adam', metrics=['accuracy'])\n",
    "\n",
    "print('[model] Model Compiled')\n",
    "#print(model_dnn.summary())\n",
    "timer.stop()\n"
   ]
  },
  {
   "cell_type": "code",
   "execution_count": 55,
   "metadata": {
    "scrolled": true
   },
   "outputs": [
    {
     "name": "stdout",
     "output_type": "stream",
     "text": [
      "[Model] Training Started\n",
      "WARNING:tensorflow:From C:\\Users\\auW10\\Anaconda3\\envs\\phd\\lib\\site-packages\\keras\\backend\\tensorflow_backend.py:422: The name tf.global_variables is deprecated. Please use tf.compat.v1.global_variables instead.\n",
      "\n",
      "Train on 6509 samples, validate on 2145 samples\n",
      "Epoch 1/50\n",
      "6509/6509 [==============================] - 6s 934us/step - loss: 1.1141 - accuracy: 0.3417 - val_loss: 1.0896 - val_accuracy: 0.3846\n",
      "Epoch 2/50\n",
      "6509/6509 [==============================] - 2s 286us/step - loss: 1.0981 - accuracy: 0.3632 - val_loss: 1.0832 - val_accuracy: 0.3944\n",
      "Epoch 3/50\n",
      "6509/6509 [==============================] - 2s 283us/step - loss: 1.0879 - accuracy: 0.3724 - val_loss: 1.0829 - val_accuracy: 0.3995\n",
      "Epoch 4/50\n",
      "6509/6509 [==============================] - 2s 286us/step - loss: 1.0865 - accuracy: 0.3799 - val_loss: 1.0813 - val_accuracy: 0.4009\n",
      "Epoch 5/50\n",
      "6509/6509 [==============================] - 2s 330us/step - loss: 1.0811 - accuracy: 0.3896 - val_loss: 1.0837 - val_accuracy: 0.3800\n",
      "Epoch 6/50\n",
      "6509/6509 [==============================] - 2s 328us/step - loss: 1.0853 - accuracy: 0.3910 - val_loss: 1.0803 - val_accuracy: 0.3944\n",
      "Epoch 7/50\n",
      "6509/6509 [==============================] - 2s 352us/step - loss: 1.0837 - accuracy: 0.3947 - val_loss: 1.0787 - val_accuracy: 0.4042\n",
      "Epoch 8/50\n",
      "6509/6509 [==============================] - 2s 353us/step - loss: 1.0766 - accuracy: 0.3994 - val_loss: 1.0744 - val_accuracy: 0.3935\n",
      "Epoch 9/50\n",
      "6509/6509 [==============================] - 2s 323us/step - loss: 1.0767 - accuracy: 0.3994 - val_loss: 1.0781 - val_accuracy: 0.3930\n",
      "Epoch 10/50\n",
      "6509/6509 [==============================] - 2s 326us/step - loss: 1.0768 - accuracy: 0.4062 - val_loss: 1.0775 - val_accuracy: 0.4009\n",
      "Epoch 11/50\n",
      "6509/6509 [==============================] - 2s 308us/step - loss: 1.0762 - accuracy: 0.4068 - val_loss: 1.0760 - val_accuracy: 0.3916\n",
      "Epoch 12/50\n",
      "6509/6509 [==============================] - 2s 295us/step - loss: 1.0765 - accuracy: 0.4057 - val_loss: 1.0766 - val_accuracy: 0.4000\n",
      "Epoch 13/50\n",
      "6509/6509 [==============================] - 2s 293us/step - loss: 1.0734 - accuracy: 0.4061 - val_loss: 1.0752 - val_accuracy: 0.3995\n",
      "Epoch 14/50\n",
      "6509/6509 [==============================] - 2s 296us/step - loss: 1.0704 - accuracy: 0.4082 - val_loss: 1.0748 - val_accuracy: 0.3944\n",
      "Epoch 15/50\n",
      "6509/6509 [==============================] - 2s 326us/step - loss: 1.0752 - accuracy: 0.4100 - val_loss: 1.0767 - val_accuracy: 0.3944\n",
      "Epoch 16/50\n",
      "6509/6509 [==============================] - 2s 345us/step - loss: 1.0718 - accuracy: 0.4203 - val_loss: 1.0764 - val_accuracy: 0.4014\n",
      "Epoch 17/50\n",
      "6509/6509 [==============================] - 2s 332us/step - loss: 1.0705 - accuracy: 0.4153 - val_loss: 1.0757 - val_accuracy: 0.3944\n",
      "Epoch 18/50\n",
      "6509/6509 [==============================] - 2s 358us/step - loss: 1.0690 - accuracy: 0.4124 - val_loss: 1.0775 - val_accuracy: 0.3972\n",
      "Epoch 19/50\n",
      "6509/6509 [==============================] - 2s 354us/step - loss: 1.0709 - accuracy: 0.4134 - val_loss: 1.0772 - val_accuracy: 0.3916\n",
      "Epoch 20/50\n",
      "6509/6509 [==============================] - 2s 305us/step - loss: 1.0694 - accuracy: 0.4162 - val_loss: 1.0755 - val_accuracy: 0.3930\n",
      "Epoch 21/50\n",
      "6509/6509 [==============================] - 2s 311us/step - loss: 1.0672 - accuracy: 0.4251 - val_loss: 1.0754 - val_accuracy: 0.4056\n",
      "Epoch 22/50\n",
      "6509/6509 [==============================] - 2s 321us/step - loss: 1.0658 - accuracy: 0.4239 - val_loss: 1.0806 - val_accuracy: 0.4098\n",
      "Epoch 23/50\n",
      "6509/6509 [==============================] - 2s 320us/step - loss: 1.0689 - accuracy: 0.4174 - val_loss: 1.0740 - val_accuracy: 0.4131\n",
      "Epoch 24/50\n",
      "6509/6509 [==============================] - 2s 308us/step - loss: 1.0623 - accuracy: 0.4299 - val_loss: 1.0770 - val_accuracy: 0.4065\n",
      "Epoch 25/50\n",
      "6509/6509 [==============================] - 2s 316us/step - loss: 1.0606 - accuracy: 0.4266 - val_loss: 1.0757 - val_accuracy: 0.4065\n",
      "Epoch 26/50\n",
      "6509/6509 [==============================] - 2s 311us/step - loss: 1.0626 - accuracy: 0.4237 - val_loss: 1.0775 - val_accuracy: 0.4098\n",
      "Epoch 27/50\n",
      "6509/6509 [==============================] - 2s 315us/step - loss: 1.0657 - accuracy: 0.4262 - val_loss: 1.0790 - val_accuracy: 0.4131\n",
      "Epoch 28/50\n",
      "6509/6509 [==============================] - 2s 292us/step - loss: 1.0632 - accuracy: 0.4328 - val_loss: 1.0789 - val_accuracy: 0.4065\n",
      "Epoch 29/50\n",
      "6509/6509 [==============================] - 2s 303us/step - loss: 1.0613 - accuracy: 0.4273 - val_loss: 1.0755 - val_accuracy: 0.4121\n",
      "Epoch 30/50\n",
      "6509/6509 [==============================] - 2s 320us/step - loss: 1.0580 - accuracy: 0.4389 - val_loss: 1.0744 - val_accuracy: 0.4149\n",
      "Epoch 31/50\n",
      "6509/6509 [==============================] - 2s 371us/step - loss: 1.0617 - accuracy: 0.4305 - val_loss: 1.0780 - val_accuracy: 0.4093\n",
      "Epoch 32/50\n",
      "6509/6509 [==============================] - 2s 348us/step - loss: 1.0561 - accuracy: 0.4332 - val_loss: 1.0811 - val_accuracy: 0.3949\n",
      "Epoch 33/50\n",
      "6509/6509 [==============================] - 2s 313us/step - loss: 1.0597 - accuracy: 0.4331 - val_loss: 1.0816 - val_accuracy: 0.4019\n",
      "Epoch 34/50\n",
      "6509/6509 [==============================] - 2s 301us/step - loss: 1.0560 - accuracy: 0.4405 - val_loss: 1.0819 - val_accuracy: 0.4019\n",
      "Epoch 35/50\n",
      "6509/6509 [==============================] - 2s 318us/step - loss: 1.0554 - accuracy: 0.4434 - val_loss: 1.0766 - val_accuracy: 0.4061\n",
      "Epoch 36/50\n",
      "6509/6509 [==============================] - 4s 680us/step - loss: 1.0516 - accuracy: 0.4328 - val_loss: 1.0781 - val_accuracy: 0.4061\n",
      "Epoch 37/50\n",
      "6509/6509 [==============================] - 2s 324us/step - loss: 1.0503 - accuracy: 0.4385 - val_loss: 1.0766 - val_accuracy: 0.4112\n",
      "Epoch 38/50\n",
      "6509/6509 [==============================] - 2s 326us/step - loss: 1.0533 - accuracy: 0.4425 - val_loss: 1.0772 - val_accuracy: 0.4098\n",
      "Epoch 39/50\n",
      "6509/6509 [==============================] - 2s 366us/step - loss: 1.0519 - accuracy: 0.4402 - val_loss: 1.0770 - val_accuracy: 0.4084\n",
      "Epoch 40/50\n",
      "6509/6509 [==============================] - 2s 298us/step - loss: 1.0520 - accuracy: 0.4399 - val_loss: 1.0751 - val_accuracy: 0.4252\n",
      "Epoch 41/50\n",
      "6509/6509 [==============================] - 2s 310us/step - loss: 1.0523 - accuracy: 0.4423 - val_loss: 1.0799 - val_accuracy: 0.4093\n",
      "Epoch 42/50\n",
      "6509/6509 [==============================] - 2s 339us/step - loss: 1.0465 - accuracy: 0.4546 - val_loss: 1.0810 - val_accuracy: 0.4037\n",
      "Epoch 43/50\n",
      "6509/6509 [==============================] - 2s 343us/step - loss: 1.0468 - accuracy: 0.4448 - val_loss: 1.0813 - val_accuracy: 0.4061\n",
      "Epoch 44/50\n",
      "6509/6509 [==============================] - 2s 298us/step - loss: 1.0490 - accuracy: 0.4434 - val_loss: 1.0785 - val_accuracy: 0.4033\n",
      "Epoch 45/50\n",
      "6509/6509 [==============================] - 2s 320us/step - loss: 1.0506 - accuracy: 0.4452 - val_loss: 1.0744 - val_accuracy: 0.4107\n",
      "Epoch 46/50\n",
      "6509/6509 [==============================] - 2s 321us/step - loss: 1.0501 - accuracy: 0.4415 - val_loss: 1.0761 - val_accuracy: 0.4065\n",
      "Epoch 47/50\n",
      "6509/6509 [==============================] - 3s 403us/step - loss: 1.0418 - accuracy: 0.4475 - val_loss: 1.0825 - val_accuracy: 0.3953\n",
      "Epoch 48/50\n",
      "6509/6509 [==============================] - 2s 340us/step - loss: 1.0464 - accuracy: 0.4465 - val_loss: 1.0808 - val_accuracy: 0.4089\n",
      "Epoch 49/50\n",
      "6509/6509 [==============================] - 2s 340us/step - loss: 1.0404 - accuracy: 0.4577 - val_loss: 1.0804 - val_accuracy: 0.4107\n",
      "Epoch 50/50\n",
      "6509/6509 [==============================] - 2s 312us/step - loss: 1.0428 - accuracy: 0.4552 - val_loss: 1.0787 - val_accuracy: 0.4089\n",
      "[Model] Training Completed.\n",
      "Model saved as saved_models\\prototipo_ciclo1_multiclass_jupyter_DNN.h5\n",
      "Time taken: 0:02:04.683931\n"
     ]
    }
   ],
   "source": [
    "timer = Timer()\n",
    "timer.start()\n",
    "print('[Model] Training Started')\n",
    "\n",
    "save_dir=configs['model']['save_dir']\n",
    "my_model=configs['model']['model_name']\n",
    "save_fname = os.path.join(save_dir, '%s_DNN.h5' % my_model)\n",
    "\n",
    "batch_size=configs['training']['batch_size']\n",
    "\n",
    "callbacks = [ ModelCheckpoint(filepath=save_fname, monitor='loss', save_best_only=True)]\n",
    "\n",
    "y_train_enc = encode_categ_data(y_train)\n",
    "y_valid_enc = encode_categ_data(y_valid)\n",
    "H = model_dnn.fit( x_train, y_train_enc, validation_data=(x_valid, y_valid_enc), epochs=50, \n",
    "               callbacks=callbacks, workers=1 )\n",
    "\n",
    "model_dnn.save(save_fname)\n",
    "\n",
    "print('[Model] Training Completed.')\n",
    "print('Model saved as %s' % save_fname)\n",
    "\n",
    "timer.stop()"
   ]
  },
  {
   "cell_type": "code",
   "execution_count": 56,
   "metadata": {},
   "outputs": [
    {
     "data": {
      "text/plain": [
       "array([[0.31064868, 0.44750518, 0.24184608],\n",
       "       [0.25892818, 0.6397037 , 0.10136806],\n",
       "       [0.18100649, 0.774467  , 0.04452657],\n",
       "       ...,\n",
       "       [0.46935314, 0.286923  , 0.24372387],\n",
       "       [0.47118816, 0.32731926, 0.2014926 ],\n",
       "       [0.50453156, 0.27655986, 0.21890853]], dtype=float32)"
      ]
     },
     "execution_count": 56,
     "metadata": {},
     "output_type": "execute_result"
    }
   ],
   "source": [
    "# new instances where we do not know the answer\n",
    "y_pred = model_dnn.predict(x_test) \n",
    "y_pred"
   ]
  },
  {
   "cell_type": "code",
   "execution_count": 57,
   "metadata": {},
   "outputs": [
    {
     "name": "stdout",
     "output_type": "stream",
     "text": [
      "dict_keys(['val_loss', 'val_accuracy', 'loss', 'accuracy'])\n"
     ]
    },
    {
     "data": {
      "image/png": "[encoded data removed]",
      "text/plain": [
       "<Figure size 432x288 with 1 Axes>"
      ]
     },
     "metadata": {
      "needs_background": "light"
     },
     "output_type": "display_data"
    },
    {
     "data": {
      "image/png": "[encoded data removed]",
      "text/plain": [
       "<Figure size 432x288 with 1 Axes>"
      ]
     },
     "metadata": {
      "needs_background": "light"
     },
     "output_type": "display_data"
    }
   ],
   "source": [
    "# list all data in history       \n",
    "print(H.history.keys())\n",
    "# summarize history for accuracy\n",
    "plt.plot(H.history['accuracy'])\n",
    "plt.plot(H.history['val_accuracy'])\n",
    "plt.title('model accuracy')\n",
    "plt.ylabel('accuracy')\n",
    "plt.xlabel('epoch')\n",
    "plt.legend(['accuracy', 'val_accuracy'], loc='upper left')\n",
    "fig_path = 'accuracy_history.png'\n",
    "plt.savefig(fig_path)     \n",
    "plt.show()\n",
    "\n",
    "# summarize history for loss\n",
    "plt.plot(H.history['loss'])\n",
    "plt.plot(H.history['val_loss'])\n",
    "plt.title('model loss')\n",
    "plt.ylabel('loss')\n",
    "plt.xlabel('epoch')\n",
    "plt.legend(['loss', 'val_loss'], loc='upper left')\n",
    "fig_path = 'loss_history.png'\n",
    "plt.savefig(fig_path) \n",
    "plt.show()"
   ]
  },
  {
   "cell_type": "code",
   "execution_count": 58,
   "metadata": {},
   "outputs": [],
   "source": [
    "# BUY | SELL | HOLD\n",
    "\n",
    "labels = ['BUY', 'HOLD', 'SELL'] \n",
    "\n",
    "pred = []\n",
    "for i in y_pred:\n",
    "    pred.append(np.argmax(i))\n",
    "pred_array = np.array(pred)       \n",
    "\n",
    "real = []\n",
    "y_test_enc = encode_categ_data(y_test)\n",
    "for i in y_test_enc:\n",
    "    real.append(np.argmax(i))\n",
    "real_array = np.array(real)    "
   ]
  },
  {
   "cell_type": "code",
   "execution_count": 59,
   "metadata": {},
   "outputs": [
    {
     "name": "stdout",
     "output_type": "stream",
     "text": [
      "[[0.3179941  0.403341   0.27866486]\n",
      " [0.3151805  0.40311125 0.28170824]\n",
      " [0.3099066  0.41813374 0.2719597 ]\n",
      " [0.24201362 0.6121408  0.14584553]\n",
      " [0.21035527 0.676917   0.11272772]\n",
      " [0.24548268 0.59184366 0.16267368]\n",
      " [0.26552457 0.5455339  0.18894154]\n",
      " [0.27970293 0.48188585 0.23841117]\n",
      " [0.2785201  0.46015212 0.26132783]\n",
      " [0.27880827 0.45609307 0.26509863]]\n",
      "[[1. 0. 0.]\n",
      " [1. 0. 0.]\n",
      " [0. 1. 0.]\n",
      " [0. 1. 0.]\n",
      " [1. 0. 0.]\n",
      " [1. 0. 0.]\n",
      " [1. 0. 0.]\n",
      " [1. 0. 0.]\n",
      " [1. 0. 0.]\n",
      " [1. 0. 0.]]\n"
     ]
    }
   ],
   "source": [
    "print(y_pred[10:20])\n",
    "print(y_test_enc[10:20])"
   ]
  },
  {
   "cell_type": "code",
   "execution_count": 60,
   "metadata": {},
   "outputs": [
    {
     "name": "stdout",
     "output_type": "stream",
     "text": [
      "[1 1 1 1 1 1 1 1 1 1]\n",
      "[0 0 1 1 0 0 0 0 0 0]\n"
     ]
    }
   ],
   "source": [
    "print(pred_array[10:20])\n",
    "print(real_array[10:20])"
   ]
  },
  {
   "cell_type": "code",
   "execution_count": 61,
   "metadata": {},
   "outputs": [
    {
     "name": "stdout",
     "output_type": "stream",
     "text": [
      "Accuracy Score - DL:  0.4\n"
     ]
    }
   ],
   "source": [
    "accuracy_score_DNN = accuracy_score(real_array, pred_array)\n",
    "print('Accuracy Score - DL: ', accuracy_score_DNN)"
   ]
  },
  {
   "cell_type": "code",
   "execution_count": 62,
   "metadata": {},
   "outputs": [
    {
     "name": "stdout",
     "output_type": "stream",
     "text": [
      "              precision    recall  f1-score   support\n",
      "\n",
      "           0       0.40      0.28      0.33       250\n",
      "           1       0.41      0.47      0.44       253\n",
      "           2       0.40      0.45      0.42       242\n",
      "\n",
      "    accuracy                           0.40       745\n",
      "   macro avg       0.40      0.40      0.39       745\n",
      "weighted avg       0.40      0.40      0.39       745\n",
      "\n"
     ]
    }
   ],
   "source": [
    "print(classification_report(real_array, pred_array))"
   ]
  },
  {
   "cell_type": "code",
   "execution_count": 63,
   "metadata": {
    "scrolled": true
   },
   "outputs": [
    {
     "data": {
      "text/plain": [
       "array([[ 69,  96,  85],\n",
       "       [ 51, 119,  83],\n",
       "       [ 54,  78, 110]], dtype=int64)"
      ]
     },
     "execution_count": 63,
     "metadata": {},
     "output_type": "execute_result"
    }
   ],
   "source": [
    "from sklearn.metrics import confusion_matrix\n",
    "confusion_matrix = confusion_matrix(real_array, pred_array)\n",
    "confusion_matrix"
   ]
  },
  {
   "cell_type": "code",
   "execution_count": 64,
   "metadata": {},
   "outputs": [
    {
     "name": "stdout",
     "output_type": "stream",
     "text": [
      "real_array.size:  745  | cont_buy:  250  | cont_hold:  253  | cont_sell:  242\n"
     ]
    }
   ],
   "source": [
    "cont_buy = 0\n",
    "cont_sell = 0\n",
    "cont_hold = 0\n",
    "for n in real_array:\n",
    "    if n == 0:\n",
    "        cont_buy+=1\n",
    "    if n == 1:\n",
    "        cont_hold+=1\n",
    "    if n == 2:\n",
    "        cont_sell+=1\n",
    "\n",
    "print('real_array.size: ', real_array.size, ' | cont_buy: ', cont_buy, ' | cont_hold: ', cont_hold, ' | cont_sell: ', cont_sell)"
   ]
  },
  {
   "cell_type": "code",
   "execution_count": 65,
   "metadata": {},
   "outputs": [
    {
     "name": "stdout",
     "output_type": "stream",
     "text": [
      "pred_array.size:  745  | cont_buy:  174  | cont_hold:  293  | cont_sell:  278\n"
     ]
    }
   ],
   "source": [
    "cont_buy = 0\n",
    "cont_sell = 0\n",
    "cont_hold = 0\n",
    "for n in pred_array:\n",
    "    if n == 0:\n",
    "        cont_buy+=1\n",
    "    if n == 1:\n",
    "        cont_hold+=1\n",
    "    if n == 2:\n",
    "        cont_sell+=1\n",
    "\n",
    "print('pred_array.size: ', pred_array.size, ' | cont_buy: ', cont_buy, ' | cont_hold: ', cont_hold, ' | cont_sell: ', cont_sell)"
   ]
  },
  {
   "cell_type": "code",
   "execution_count": 66,
   "metadata": {},
   "outputs": [
    {
     "data": {
      "text/plain": [
       "<AxesSubplot:>"
      ]
     },
     "execution_count": 66,
     "metadata": {},
     "output_type": "execute_result"
    },
    {
     "data": {
      "image/png": "[encoded data removed]",
      "text/plain": [
       "<Figure size 432x288 with 2 Axes>"
      ]
     },
     "metadata": {
      "needs_background": "light"
     },
     "output_type": "display_data"
    }
   ],
   "source": [
    "# visualize confusion matrix with seaborn heatmap\n",
    "cm_matrix_DNN = pd.DataFrame(data=confusion_matrix,\n",
    "                        columns=['BUY_P', 'HOLD_P', 'SELL_P'], \n",
    "                        index=['BUY_R', 'HOLD_R', 'SELL_R'])\n",
    "\n",
    "sns.heatmap(cm_matrix_DNN, annot=True, fmt='d', cmap='YlGnBu')"
   ]
  },
  {
   "cell_type": "code",
   "execution_count": 67,
   "metadata": {},
   "outputs": [
    {
     "data": {
      "text/plain": [
       "0.5641741576554308"
      ]
     },
     "execution_count": 67,
     "metadata": {},
     "output_type": "execute_result"
    }
   ],
   "source": [
    "weightedFScore_DNN = weightedFScore(confusion_matrix)[0] \n",
    "weightedFScore_DNN"
   ]
  },
  {
   "cell_type": "code",
   "execution_count": 68,
   "metadata": {
    "scrolled": true
   },
   "outputs": [
    {
     "name": "stdout",
     "output_type": "stream",
     "text": [
      "Training-set accuracy score: 0.4812\n"
     ]
    }
   ],
   "source": [
    "y_pred_train = model_dnn.predict(x_train)\n",
    "\n",
    "labels = ['BUY', 'HOLD', 'SELL'] \n",
    "\n",
    "pred = []\n",
    "for i in y_pred_train:\n",
    "    pred.append(np.argmax(i))\n",
    "pred_array = np.array(pred)       \n",
    "\n",
    "real = []\n",
    "for i in y_train_enc:\n",
    "    real.append(np.argmax(i))\n",
    "real_array = np.array(real)    \n",
    "\n",
    "print('Training-set accuracy score: {0:0.4f}'. format(accuracy_score(real_array, pred_array)))"
   ]
  },
  {
   "cell_type": "code",
   "execution_count": null,
   "metadata": {},
   "outputs": [],
   "source": []
  },
  {
   "cell_type": "markdown",
   "metadata": {},
   "source": [
    "# LSTM"
   ]
  },
  {
   "cell_type": "code",
   "execution_count": null,
   "metadata": {},
   "outputs": [],
   "source": []
  },
  {
   "cell_type": "code",
   "execution_count": 69,
   "metadata": {
    "scrolled": true
   },
   "outputs": [
    {
     "name": "stdout",
     "output_type": "stream",
     "text": [
      "[model] Model Compiled\n",
      "Model: \"sequential_2\"\n",
      "_________________________________________________________________\n",
      "Layer (type)                 Output Shape              Param #   \n",
      "=================================================================\n",
      "lstm_1 (LSTM)                (None, 50, 200)           207200    \n",
      "_________________________________________________________________\n",
      "lstm_2 (LSTM)                (None, 50, 150)           210600    \n",
      "_________________________________________________________________\n",
      "lstm_3 (LSTM)                (None, 50, 100)           100400    \n",
      "_________________________________________________________________\n",
      "lstm_4 (LSTM)                (None, 50, 100)           80400     \n",
      "_________________________________________________________________\n",
      "lstm_5 (LSTM)                (None, 50, 100)           80400     \n",
      "_________________________________________________________________\n",
      "dropout_5 (Dropout)          (None, 50, 100)           0         \n",
      "_________________________________________________________________\n",
      "lstm_6 (LSTM)                (None, 50)                30200     \n",
      "_________________________________________________________________\n",
      "dropout_6 (Dropout)          (None, 50)                0         \n",
      "_________________________________________________________________\n",
      "dense_6 (Dense)              (None, 3)                 153       \n",
      "=================================================================\n",
      "Total params: 709,353\n",
      "Trainable params: 709,353\n",
      "Non-trainable params: 0\n",
      "_________________________________________________________________\n",
      "None\n",
      "Time taken: 0:00:03.247798\n"
     ]
    }
   ],
   "source": [
    "# define and fit the final model\n",
    "timer = Timer()\n",
    "timer.start()\n",
    "timesteps = configs['dataset']['sequence_length']\n",
    "\n",
    "model_lstm = Sequential()\n",
    "\n",
    "model_lstm.add(LSTM(200, input_shape=(timesteps, dim), return_sequences=True))\n",
    "#model_lstm.add(Dropout(0.1))\n",
    "model_lstm.add(LSTM(150, input_shape=(timesteps, dim), return_sequences=True))\n",
    "#model_lstm.add(Dropout(0.2))\n",
    "model_lstm.add(LSTM(100, input_shape=(timesteps, dim), return_sequences=True))\n",
    "model_lstm.add(LSTM(100, input_shape=(timesteps, dim), return_sequences=True))\n",
    "model_lstm.add(LSTM(100, input_shape=(timesteps, dim), return_sequences=True))\n",
    "model_lstm.add(Dropout(0.2))\n",
    "model_lstm.add(LSTM(50, input_shape=(timesteps, dim), return_sequences=False))\n",
    "model_lstm.add(Dropout(0.2))\n",
    "model_lstm.add(Dense(3, activation='softmax'))\n",
    "\n",
    "model_lstm.compile(loss='categorical_crossentropy', optimizer='adam', metrics=['accuracy'])\n",
    "\n",
    "print('[model] Model Compiled')\n",
    "#print(model_lstm.summary())\n",
    "timer.stop()\n"
   ]
  },
  {
   "cell_type": "code",
   "execution_count": 70,
   "metadata": {
    "scrolled": true
   },
   "outputs": [
    {
     "name": "stdout",
     "output_type": "stream",
     "text": [
      "[Model] Training Started\n",
      "Train on 6483 samples, validate on 2120 samples\n",
      "Epoch 1/30\n",
      "6483/6483 [==============================] - 51s 8ms/step - loss: 1.1003 - accuracy: 0.3347 - val_loss: 1.0993 - val_accuracy: 0.3420\n",
      "Epoch 2/30\n",
      "6483/6483 [==============================] - 45s 7ms/step - loss: 1.0939 - accuracy: 0.3759 - val_loss: 1.0996 - val_accuracy: 0.3703\n",
      "Epoch 3/30\n",
      "6483/6483 [==============================] - 44s 7ms/step - loss: 1.0878 - accuracy: 0.3926 - val_loss: 1.1006 - val_accuracy: 0.3656\n",
      "Epoch 4/30\n",
      "6483/6483 [==============================] - 44s 7ms/step - loss: 1.0839 - accuracy: 0.4010 - val_loss: 1.0987 - val_accuracy: 0.3792\n",
      "Epoch 5/30\n",
      "6483/6483 [==============================] - 41s 6ms/step - loss: 1.0762 - accuracy: 0.4185 - val_loss: 1.1040 - val_accuracy: 0.3665\n",
      "Epoch 6/30\n",
      "6483/6483 [==============================] - 45s 7ms/step - loss: 1.0640 - accuracy: 0.4419 - val_loss: 1.1242 - val_accuracy: 0.3434\n",
      "Epoch 7/30\n",
      "6483/6483 [==============================] - 49s 8ms/step - loss: 1.0442 - accuracy: 0.4700 - val_loss: 1.1316 - val_accuracy: 0.3712\n",
      "Epoch 8/30\n",
      "6483/6483 [==============================] - 44s 7ms/step - loss: 1.0217 - accuracy: 0.4885 - val_loss: 1.1379 - val_accuracy: 0.3637\n",
      "Epoch 9/30\n",
      "6483/6483 [==============================] - 51s 8ms/step - loss: 0.9913 - accuracy: 0.5244 - val_loss: 1.1456 - val_accuracy: 0.3528\n",
      "Epoch 10/30\n",
      "6483/6483 [==============================] - 42s 7ms/step - loss: 0.9596 - accuracy: 0.5436 - val_loss: 1.2115 - val_accuracy: 0.3330\n",
      "Epoch 11/30\n",
      "6483/6483 [==============================] - 45s 7ms/step - loss: 0.9359 - accuracy: 0.5669 - val_loss: 1.2453 - val_accuracy: 0.3439\n",
      "Epoch 12/30\n",
      "6483/6483 [==============================] - 43s 7ms/step - loss: 0.9179 - accuracy: 0.5800 - val_loss: 1.3109 - val_accuracy: 0.3401\n",
      "Epoch 13/30\n",
      "6483/6483 [==============================] - 45s 7ms/step - loss: 0.8932 - accuracy: 0.5934 - val_loss: 1.2744 - val_accuracy: 0.3491\n",
      "Epoch 14/30\n",
      "6483/6483 [==============================] - 43s 7ms/step - loss: 0.8510 - accuracy: 0.6148 - val_loss: 1.3130 - val_accuracy: 0.3561\n",
      "Epoch 15/30\n",
      "6483/6483 [==============================] - 48s 7ms/step - loss: 0.8258 - accuracy: 0.6323 - val_loss: 1.3419 - val_accuracy: 0.3547\n",
      "Epoch 16/30\n",
      "6483/6483 [==============================] - 50s 8ms/step - loss: 0.8054 - accuracy: 0.6508 - val_loss: 1.3594 - val_accuracy: 0.3533\n",
      "Epoch 17/30\n",
      "6483/6483 [==============================] - 49s 8ms/step - loss: 0.7814 - accuracy: 0.6569 - val_loss: 1.4702 - val_accuracy: 0.3467\n",
      "Epoch 18/30\n",
      "6483/6483 [==============================] - 46s 7ms/step - loss: 0.7759 - accuracy: 0.6596 - val_loss: 1.4781 - val_accuracy: 0.3443\n",
      "Epoch 19/30\n",
      "6483/6483 [==============================] - 44s 7ms/step - loss: 0.7318 - accuracy: 0.6830 - val_loss: 1.4814 - val_accuracy: 0.3363\n",
      "Epoch 20/30\n",
      "6483/6483 [==============================] - 37s 6ms/step - loss: 0.7223 - accuracy: 0.6855 - val_loss: 1.4097 - val_accuracy: 0.3505\n",
      "Epoch 21/30\n",
      "6483/6483 [==============================] - 42s 6ms/step - loss: 0.6981 - accuracy: 0.6929 - val_loss: 1.5265 - val_accuracy: 0.3542\n",
      "Epoch 22/30\n",
      "6483/6483 [==============================] - 38s 6ms/step - loss: 0.6750 - accuracy: 0.7074 - val_loss: 1.5852 - val_accuracy: 0.3491\n",
      "Epoch 23/30\n",
      "6483/6483 [==============================] - 37s 6ms/step - loss: 0.6423 - accuracy: 0.7190 - val_loss: 1.6407 - val_accuracy: 0.3476\n",
      "Epoch 24/30\n",
      "6483/6483 [==============================] - 37s 6ms/step - loss: 0.6267 - accuracy: 0.7210 - val_loss: 1.6502 - val_accuracy: 0.3458\n",
      "Epoch 25/30\n",
      "6483/6483 [==============================] - 38s 6ms/step - loss: 0.5943 - accuracy: 0.7399 - val_loss: 1.8394 - val_accuracy: 0.3467\n",
      "Epoch 26/30\n",
      "6483/6483 [==============================] - 36s 6ms/step - loss: 0.5937 - accuracy: 0.7378 - val_loss: 1.6905 - val_accuracy: 0.3392\n",
      "Epoch 27/30\n",
      "6483/6483 [==============================] - 38s 6ms/step - loss: 0.5781 - accuracy: 0.7483 - val_loss: 1.8326 - val_accuracy: 0.3434\n",
      "Epoch 28/30\n",
      "6483/6483 [==============================] - 36s 6ms/step - loss: 0.5677 - accuracy: 0.7492 - val_loss: 1.8823 - val_accuracy: 0.3292\n",
      "Epoch 29/30\n",
      "6483/6483 [==============================] - 37s 6ms/step - loss: 0.5590 - accuracy: 0.7540 - val_loss: 1.8244 - val_accuracy: 0.3439\n",
      "Epoch 30/30\n",
      "6483/6483 [==============================] - 41s 6ms/step - loss: 0.5213 - accuracy: 0.7689 - val_loss: 1.9695 - val_accuracy: 0.3443\n",
      "[Model] Training Completed.\n",
      "Model saved as saved_models\\prototipo_ciclo1_multiclass_jupyter_LSTM_activTanh.h5\n",
      "Time taken: 0:21:40.879810\n"
     ]
    }
   ],
   "source": [
    "timer = Timer()\n",
    "timer.start()\n",
    "print('[Model] Training Started')\n",
    "\n",
    "save_dir=configs['model']['save_dir']\n",
    "my_model=configs['model']['model_name']\n",
    "save_fname = os.path.join(save_dir, '%s_LSTM_activTanh.h5' % my_model)\n",
    "\n",
    "batch_size=configs['training']['batch_size']\n",
    "\n",
    "callbacks = [ ModelCheckpoint(filepath=save_fname, monitor='loss', save_best_only=True)]\n",
    "\n",
    "y_train_sw_enc = encode_categ_data(y_train_sw)\n",
    "y_valid_sw_enc = encode_categ_data(y_valid_sw)\n",
    "H = model_lstm.fit( x_train_sw, y_train_sw_enc, validation_data=(x_valid_sw, y_valid_sw_enc), epochs=30, \n",
    "                    batch_size=batch_size, callbacks=callbacks, workers=1 )\n",
    "\n",
    "model_lstm.save(save_fname)\n",
    "\n",
    "print('[Model] Training Completed.')\n",
    "print('Model saved as %s' % save_fname)\n",
    "\n",
    "timer.stop()"
   ]
  },
  {
   "cell_type": "code",
   "execution_count": 71,
   "metadata": {},
   "outputs": [
    {
     "data": {
      "text/plain": [
       "array([[0.31965253, 0.6393374 , 0.04101004],\n",
       "       [0.29248264, 0.6221767 , 0.08534064],\n",
       "       [0.24053557, 0.6133713 , 0.14609312],\n",
       "       ...,\n",
       "       [0.42503455, 0.39566967, 0.17929576],\n",
       "       [0.16944353, 0.454976  , 0.3755805 ],\n",
       "       [0.45817176, 0.21034785, 0.33148038]], dtype=float32)"
      ]
     },
     "execution_count": 71,
     "metadata": {},
     "output_type": "execute_result"
    }
   ],
   "source": [
    "# new instances where we do not know the answer\n",
    "y_pred = model_lstm.predict(x_test_sw) \n",
    "y_pred"
   ]
  },
  {
   "cell_type": "code",
   "execution_count": 72,
   "metadata": {},
   "outputs": [
    {
     "name": "stdout",
     "output_type": "stream",
     "text": [
      "dict_keys(['val_loss', 'val_accuracy', 'loss', 'accuracy'])\n"
     ]
    },
    {
     "data": {
      "image/png": "[encoded data removed]",
      "text/plain": [
       "<Figure size 432x288 with 1 Axes>"
      ]
     },
     "metadata": {
      "needs_background": "light"
     },
     "output_type": "display_data"
    },
    {
     "data": {
      "image/png": "[encoded data removed]",
      "text/plain": [
       "<Figure size 432x288 with 1 Axes>"
      ]
     },
     "metadata": {
      "needs_background": "light"
     },
     "output_type": "display_data"
    }
   ],
   "source": [
    "# list all data in history       \n",
    "print(H.history.keys())\n",
    "# summarize history for accuracy\n",
    "plt.plot(H.history['accuracy'])\n",
    "plt.plot(H.history['val_accuracy'])\n",
    "plt.title('model accuracy')\n",
    "plt.ylabel('accuracy')\n",
    "plt.xlabel('epoch')\n",
    "plt.legend(['accuracy', 'val_accuracy'], loc='upper left')\n",
    "fig_path = 'accuracy_history.png'\n",
    "plt.savefig(fig_path)     \n",
    "plt.show()\n",
    "\n",
    "# summarize history for loss\n",
    "plt.plot(H.history['loss'])\n",
    "plt.plot(H.history['val_loss'])\n",
    "plt.title('model loss')\n",
    "plt.ylabel('loss')\n",
    "plt.xlabel('epoch')\n",
    "plt.legend(['loss', 'val_loss'], loc='upper left')\n",
    "fig_path = 'loss_history.png'\n",
    "plt.savefig(fig_path) \n",
    "plt.show()"
   ]
  },
  {
   "cell_type": "code",
   "execution_count": 73,
   "metadata": {},
   "outputs": [],
   "source": [
    "# BUY | SELL | HOLD\n",
    "\n",
    "labels = ['BUY', 'HOLD', 'SELL'] \n",
    "\n",
    "pred = []\n",
    "for i in y_pred:\n",
    "    pred.append(np.argmax(i))\n",
    "pred_array = np.array(pred)       \n",
    "\n",
    "real = []\n",
    "y_test_sw_enc = encode_categ_data(y_test_sw)\n",
    "for i in y_test_sw_enc:\n",
    "    real.append(np.argmax(i))\n",
    "real_array = np.array(real)   "
   ]
  },
  {
   "cell_type": "code",
   "execution_count": 74,
   "metadata": {},
   "outputs": [
    {
     "name": "stdout",
     "output_type": "stream",
     "text": [
      "[[0.31965253 0.6393374  0.04101004]\n",
      " [0.29248264 0.6221767  0.08534064]\n",
      " [0.24053557 0.6133713  0.14609312]\n",
      " [0.17073132 0.5326295  0.2966392 ]\n",
      " [0.22212875 0.32920566 0.44866553]\n",
      " [0.42120492 0.0966493  0.48214582]\n",
      " [0.5515785  0.0658052  0.38261628]\n",
      " [0.5653492  0.08176624 0.3528845 ]\n",
      " [0.7534113  0.08071183 0.16587684]\n",
      " [0.51808995 0.20435087 0.2775592 ]]\n",
      "[1 1 1 1 2 2 0 0 0 0]\n"
     ]
    }
   ],
   "source": [
    "print(y_pred[0:10])\n",
    "print(pred_array[0:10])"
   ]
  },
  {
   "cell_type": "code",
   "execution_count": 75,
   "metadata": {
    "scrolled": true
   },
   "outputs": [
    {
     "name": "stdout",
     "output_type": "stream",
     "text": [
      "[[1. 0. 0.]\n",
      " [1. 0. 0.]\n",
      " [1. 0. 0.]\n",
      " [1. 0. 0.]\n",
      " [1. 0. 0.]\n",
      " [1. 0. 0.]\n",
      " [1. 0. 0.]\n",
      " [1. 0. 0.]\n",
      " [1. 0. 0.]\n",
      " [0. 0. 1.]]\n",
      "[0 0 0 0 0 0 0 0 0 2]\n"
     ]
    }
   ],
   "source": [
    "print(y_test_sw_enc[500:510])\n",
    "print(real_array[500:510])"
   ]
  },
  {
   "cell_type": "code",
   "execution_count": 76,
   "metadata": {},
   "outputs": [
    {
     "data": {
      "text/plain": [
       "(710, 3)"
      ]
     },
     "execution_count": 76,
     "metadata": {},
     "output_type": "execute_result"
    }
   ],
   "source": [
    "y_pred.shape"
   ]
  },
  {
   "cell_type": "code",
   "execution_count": 77,
   "metadata": {},
   "outputs": [
    {
     "data": {
      "text/plain": [
       "(710,)"
      ]
     },
     "execution_count": 77,
     "metadata": {},
     "output_type": "execute_result"
    }
   ],
   "source": [
    "pred_array.shape"
   ]
  },
  {
   "cell_type": "code",
   "execution_count": 78,
   "metadata": {},
   "outputs": [
    {
     "data": {
      "text/plain": [
       "(710, 3)"
      ]
     },
     "execution_count": 78,
     "metadata": {},
     "output_type": "execute_result"
    }
   ],
   "source": [
    "y_test_sw_enc.shape"
   ]
  },
  {
   "cell_type": "code",
   "execution_count": 79,
   "metadata": {},
   "outputs": [
    {
     "data": {
      "text/plain": [
       "(710,)"
      ]
     },
     "execution_count": 79,
     "metadata": {},
     "output_type": "execute_result"
    }
   ],
   "source": [
    "real_array.shape"
   ]
  },
  {
   "cell_type": "code",
   "execution_count": 80,
   "metadata": {},
   "outputs": [
    {
     "name": "stdout",
     "output_type": "stream",
     "text": [
      "Accuracy Score - LSTM:  0.34225352112676055\n"
     ]
    }
   ],
   "source": [
    "accuracy_score_LSTM = accuracy_score(real_array, pred_array)\n",
    "print('Accuracy Score - LSTM: ', accuracy_score_LSTM)"
   ]
  },
  {
   "cell_type": "code",
   "execution_count": 81,
   "metadata": {},
   "outputs": [
    {
     "name": "stdout",
     "output_type": "stream",
     "text": [
      "              precision    recall  f1-score   support\n",
      "\n",
      "           0       0.28      0.19      0.22       227\n",
      "           1       0.35      0.37      0.36       244\n",
      "           2       0.36      0.46      0.41       239\n",
      "\n",
      "    accuracy                           0.34       710\n",
      "   macro avg       0.33      0.34      0.33       710\n",
      "weighted avg       0.33      0.34      0.33       710\n",
      "\n"
     ]
    }
   ],
   "source": [
    "print(classification_report(real_array, pred_array))"
   ]
  },
  {
   "cell_type": "code",
   "execution_count": 82,
   "metadata": {},
   "outputs": [
    {
     "data": {
      "text/plain": [
       "array([[ 42,  92,  93],\n",
       "       [ 53,  91, 100],\n",
       "       [ 55,  74, 110]], dtype=int64)"
      ]
     },
     "execution_count": 82,
     "metadata": {},
     "output_type": "execute_result"
    }
   ],
   "source": [
    "from sklearn.metrics import confusion_matrix\n",
    "confusion_matrix = confusion_matrix(real_array, pred_array)\n",
    "confusion_matrix"
   ]
  },
  {
   "cell_type": "code",
   "execution_count": 83,
   "metadata": {},
   "outputs": [
    {
     "name": "stdout",
     "output_type": "stream",
     "text": [
      "real_array.size:  710  | cont_buy:  227  | cont_hold:  244  | cont_sell:  239\n"
     ]
    }
   ],
   "source": [
    "cont_buy = 0\n",
    "cont_sell = 0\n",
    "cont_hold = 0\n",
    "for n in real_array:\n",
    "    if n == 0:\n",
    "        cont_buy+=1\n",
    "    if n == 1:\n",
    "        cont_hold+=1\n",
    "    if n == 2:\n",
    "        cont_sell+=1\n",
    "\n",
    "print('real_array.size: ', real_array.size, ' | cont_buy: ', cont_buy, ' | cont_hold: ', cont_hold, ' | cont_sell: ', cont_sell)"
   ]
  },
  {
   "cell_type": "code",
   "execution_count": 84,
   "metadata": {},
   "outputs": [
    {
     "name": "stdout",
     "output_type": "stream",
     "text": [
      "pred_array.size:  710  | cont_buy:  150  | cont_hold:  257  | cont_sell:  303\n"
     ]
    }
   ],
   "source": [
    "cont_buy = 0\n",
    "cont_sell = 0\n",
    "cont_hold = 0\n",
    "for n in pred_array:\n",
    "    if n == 0:\n",
    "        cont_buy+=1\n",
    "    if n == 1:\n",
    "        cont_hold+=1\n",
    "    if n == 2:\n",
    "        cont_sell+=1\n",
    "\n",
    "print('pred_array.size: ', pred_array.size, ' | cont_buy: ', cont_buy, ' | cont_hold: ', cont_hold, ' | cont_sell: ', cont_sell)"
   ]
  },
  {
   "cell_type": "code",
   "execution_count": 85,
   "metadata": {},
   "outputs": [
    {
     "data": {
      "text/plain": [
       "0.50595642668381"
      ]
     },
     "execution_count": 85,
     "metadata": {},
     "output_type": "execute_result"
    }
   ],
   "source": [
    "weightedFScore_LSTM = weightedFScore(confusion_matrix)[0] \n",
    "weightedFScore_LSTM"
   ]
  },
  {
   "cell_type": "code",
   "execution_count": 86,
   "metadata": {},
   "outputs": [
    {
     "data": {
      "text/plain": [
       "<AxesSubplot:>"
      ]
     },
     "execution_count": 86,
     "metadata": {},
     "output_type": "execute_result"
    },
    {
     "data": {
      "image/png": "[encoded data removed]",
      "text/plain": [
       "<Figure size 432x288 with 2 Axes>"
      ]
     },
     "metadata": {
      "needs_background": "light"
     },
     "output_type": "display_data"
    }
   ],
   "source": [
    "# visualize confusion matrix with seaborn heatmap\n",
    "cm_matrix_LSTM = pd.DataFrame(data=confusion_matrix,\n",
    "                        columns=['BUY_P', 'HOLD_P', 'SELL_P'], \n",
    "                        index=['BUY_R', 'HOLD_R', 'SELL_R'])\n",
    "\n",
    "sns.heatmap(cm_matrix_LSTM, annot=True, fmt='d', cmap='YlGnBu')"
   ]
  },
  {
   "cell_type": "code",
   "execution_count": 87,
   "metadata": {},
   "outputs": [
    {
     "name": "stdout",
     "output_type": "stream",
     "text": [
      "Training-set accuracy score LSTM: 0.8056\n"
     ]
    }
   ],
   "source": [
    "y_pred_train_sw = model_lstm.predict(x_train_sw)\n",
    "\n",
    "labels = ['BUY', 'HOLD', 'SELL'] \n",
    "\n",
    "pred = []\n",
    "for i in y_pred_train_sw:\n",
    "    pred.append(np.argmax(i))\n",
    "pred_array = np.array(pred)       \n",
    "\n",
    "real = []\n",
    "for i in y_train_sw_enc:\n",
    "    real.append(np.argmax(i))\n",
    "real_array = np.array(real)    \n",
    "\n",
    "print('Training-set accuracy score LSTM: {0:0.4f}'. format(accuracy_score(real_array, pred_array)))"
   ]
  },
  {
   "cell_type": "code",
   "execution_count": null,
   "metadata": {},
   "outputs": [],
   "source": []
  },
  {
   "cell_type": "code",
   "execution_count": null,
   "metadata": {},
   "outputs": [],
   "source": []
  },
  {
   "cell_type": "code",
   "execution_count": null,
   "metadata": {},
   "outputs": [],
   "source": []
  },
  {
   "cell_type": "code",
   "execution_count": null,
   "metadata": {},
   "outputs": [],
   "source": []
  },
  {
   "cell_type": "code",
   "execution_count": null,
   "metadata": {},
   "outputs": [],
   "source": []
  },
  {
   "cell_type": "code",
   "execution_count": null,
   "metadata": {},
   "outputs": [],
   "source": []
  },
  {
   "cell_type": "code",
   "execution_count": null,
   "metadata": {},
   "outputs": [],
   "source": []
  },
  {
   "cell_type": "markdown",
   "metadata": {},
   "source": [
    "# Resumo"
   ]
  },
  {
   "cell_type": "code",
   "execution_count": 88,
   "metadata": {},
   "outputs": [
    {
     "name": "stdout",
     "output_type": "stream",
     "text": [
      "-------------Resumo-------------\n",
      "\n",
      "Accuracy Score - LGBM:  0.3651006711409396\n",
      "Weighted F Score - LGBM:  0.5005989050579096\n",
      "\n",
      "Accuracy Score - Random Forest:  0.3731543624161074\n",
      "Weighted F Score - Random Forest:  0.5347305616019927\n",
      "\n",
      "Accuracy Score - DNN:  0.4\n",
      "Weighted F Score - DNN:  0.5641741576554308\n",
      "\n",
      "Accuracy Score - LSTM:  0.34225352112676055\n",
      "Weighted F Score - LSTM:  0.50595642668381\n"
     ]
    }
   ],
   "source": [
    "print('-------------Resumo-------------')\n",
    "\n",
    "print('\\nAccuracy Score - LGBM: ', accuracy_score_LGBM)\n",
    "print('Weighted F Score - LGBM: ', weightedFScore_LGBM)\n",
    "\n",
    "print('\\nAccuracy Score - Random Forest: ', accuracy_score_RF)\n",
    "print('Weighted F Score - Random Forest: ', weightedFScore_RF)\n",
    "\n",
    "print('\\nAccuracy Score - DNN: ', accuracy_score_DNN)\n",
    "print('Weighted F Score - DNN: ', weightedFScore_DNN)\n",
    "\n",
    "print('\\nAccuracy Score - LSTM: ', accuracy_score_LSTM)\n",
    "print('Weighted F Score - LSTM: ', weightedFScore_LSTM)"
   ]
  },
  {
   "cell_type": "code",
   "execution_count": 99,
   "metadata": {},
   "outputs": [
    {
     "data": {
      "image/png": "[encoded data removed]",
      "text/plain": [
       "<Figure size 720x504 with 8 Axes>"
      ]
     },
     "metadata": {
      "needs_background": "light"
     },
     "output_type": "display_data"
    }
   ],
   "source": [
    "plt.figure(figsize=[10,7])\n",
    "plt.subplot(2,2,1)\n",
    "plt.title('LGBM Heatmap')\n",
    "sns.heatmap(cm_matrix_LGBM, annot=True, fmt='d', cmap='YlGnBu')\n",
    "\n",
    "plt.subplot(2,2,2)\n",
    "plt.title('Random Forest Heatmap')\n",
    "sns.heatmap(cm_matrix_RF, annot=True, fmt='d', cmap='YlGnBu')\n",
    "\n",
    "plt.subplot(2,2,3)\n",
    "plt.title('DNN Heatmap')\n",
    "sns.heatmap(cm_matrix_DNN, annot=True, fmt='d', cmap='YlGnBu')\n",
    "\n",
    "plt.subplot(2,2,4)\n",
    "plt.title('LSTM Heatmap')\n",
    "sns.heatmap(cm_matrix_LSTM, annot=True, fmt='d', cmap='YlGnBu')\n",
    "\n",
    "plt.tight_layout()"
   ]
  },
  {
   "cell_type": "code",
   "execution_count": 93,
   "metadata": {},
   "outputs": [],
   "source": [
    "# save trained model\n",
    "#pickle.dump( model_lgbm, open( 'saved_models/model_LGBM_53features_5000.pkl', 'wb' ) )"
   ]
  },
  {
   "cell_type": "code",
   "execution_count": 94,
   "metadata": {},
   "outputs": [],
   "source": [
    "#pickle.dump( model_dnn, open( 'saved_models/model_DNN_53features_100.pkl', 'wb' ) )"
   ]
  },
  {
   "cell_type": "code",
   "execution_count": 95,
   "metadata": {},
   "outputs": [],
   "source": [
    "#pickle.dump( model_randomF, open( 'saved_models/model_RF_53features_5000.pkl', 'wb' ) )"
   ]
  }
 ],
 "metadata": {
  "kernelspec": {
   "display_name": "Python 3",
   "language": "python",
   "name": "python3"
  },
  "language_info": {
   "codemirror_mode": {
    "name": "ipython",
    "version": 3
   },
   "file_extension": ".py",
   "mimetype": "text/x-python",
   "name": "python",
   "nbconvert_exporter": "python",
   "pygments_lexer": "ipython3",
   "version": "3.6.12"
  }
 },
 "nbformat": 4,
 "nbformat_minor": 4
}
