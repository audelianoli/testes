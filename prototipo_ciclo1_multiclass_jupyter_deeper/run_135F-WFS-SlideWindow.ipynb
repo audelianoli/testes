{
 "cells": [
  {
   "cell_type": "markdown",
   "metadata": {},
   "source": [
    "# Imports"
   ]
  },
  {
   "cell_type": "code",
   "execution_count": 1,
   "metadata": {},
   "outputs": [],
   "source": [
    "import os\n",
    "import json\n",
    "import math\n",
    "import matplotlib.pyplot as plt\n",
    "import numpy as np\n",
    "import pandas as pd\n",
    "import pickle\n",
    "\n",
    "from sklearn.preprocessing import MinMaxScaler, StandardScaler, RobustScaler, MaxAbsScaler, Normalizer, QuantileTransformer"
   ]
  },
  {
   "cell_type": "code",
   "execution_count": 2,
   "metadata": {},
   "outputs": [],
   "source": [
    "# Carregando as configurações do arquivo 'config_modelo.json'\n",
    "configs = json.load(open('config_modelo.json', 'r'))"
   ]
  },
  {
   "cell_type": "code",
   "execution_count": 3,
   "metadata": {},
   "outputs": [],
   "source": [
    "# Criar a pasta 'save_dir' caso não exista no diretório\n",
    "if not os.path.exists(configs['model']['save_dir']):\n",
    "            os.makedirs(configs['model']['save_dir'])"
   ]
  },
  {
   "cell_type": "code",
   "execution_count": 4,
   "metadata": {},
   "outputs": [
    {
     "name": "stdout",
     "output_type": "stream",
     "text": [
      "(139884, 135)\n"
     ]
    },
    {
     "data": {
      "text/html": [
       "<div>\n",
       "<style scoped>\n",
       "    .dataframe tbody tr th:only-of-type {\n",
       "        vertical-align: middle;\n",
       "    }\n",
       "\n",
       "    .dataframe tbody tr th {\n",
       "        vertical-align: top;\n",
       "    }\n",
       "\n",
       "    .dataframe thead th {\n",
       "        text-align: right;\n",
       "    }\n",
       "</style>\n",
       "<table border=\"1\" class=\"dataframe\">\n",
       "  <thead>\n",
       "    <tr style=\"text-align: right;\">\n",
       "      <th></th>\n",
       "      <th>DATETIME</th>\n",
       "      <th>DATE</th>\n",
       "      <th>TIME</th>\n",
       "      <th>OPEN</th>\n",
       "      <th>HIGH</th>\n",
       "      <th>LOW</th>\n",
       "      <th>CLOSE</th>\n",
       "      <th>VOL</th>\n",
       "      <th>BBANDS_Upper_5</th>\n",
       "      <th>BBANDS_Lower_5</th>\n",
       "      <th>...</th>\n",
       "      <th>ATR_20</th>\n",
       "      <th>TRANGE</th>\n",
       "      <th>MES</th>\n",
       "      <th>DIA_SEMANA</th>\n",
       "      <th>HORA_NOBRE</th>\n",
       "      <th>TARGET_WIN</th>\n",
       "      <th>TARGET_WIN_CAT3</th>\n",
       "      <th>TARGET_WIN_CAT3_LABEL</th>\n",
       "      <th>PRICE_PERCENTAGE</th>\n",
       "      <th>TARGET_PERCENTAGE</th>\n",
       "    </tr>\n",
       "  </thead>\n",
       "  <tbody>\n",
       "    <tr>\n",
       "      <th>0</th>\n",
       "      <td>2014-11-19 12:30:00</td>\n",
       "      <td>2014.11.19</td>\n",
       "      <td>12:30:00</td>\n",
       "      <td>53560.0</td>\n",
       "      <td>53565.0</td>\n",
       "      <td>53405.0</td>\n",
       "      <td>53410.0</td>\n",
       "      <td>8363.0</td>\n",
       "      <td>53752.526189</td>\n",
       "      <td>53227.473811</td>\n",
       "      <td>...</td>\n",
       "      <td>122.7500</td>\n",
       "      <td>160.0</td>\n",
       "      <td>11</td>\n",
       "      <td>2</td>\n",
       "      <td>2</td>\n",
       "      <td>15.0</td>\n",
       "      <td>HOLD</td>\n",
       "      <td>1</td>\n",
       "      <td>106.82</td>\n",
       "      <td>HOLD</td>\n",
       "    </tr>\n",
       "    <tr>\n",
       "      <th>1</th>\n",
       "      <td>2014-11-19 12:35:00</td>\n",
       "      <td>2014.11.19</td>\n",
       "      <td>12:35:00</td>\n",
       "      <td>53410.0</td>\n",
       "      <td>53500.0</td>\n",
       "      <td>53295.0</td>\n",
       "      <td>53415.0</td>\n",
       "      <td>7034.0</td>\n",
       "      <td>53712.281525</td>\n",
       "      <td>53317.718475</td>\n",
       "      <td>...</td>\n",
       "      <td>126.8625</td>\n",
       "      <td>205.0</td>\n",
       "      <td>11</td>\n",
       "      <td>2</td>\n",
       "      <td>2</td>\n",
       "      <td>50.0</td>\n",
       "      <td>HOLD</td>\n",
       "      <td>1</td>\n",
       "      <td>106.83</td>\n",
       "      <td>HOLD</td>\n",
       "    </tr>\n",
       "  </tbody>\n",
       "</table>\n",
       "<p>2 rows × 135 columns</p>\n",
       "</div>"
      ],
      "text/plain": [
       "             DATETIME        DATE      TIME     OPEN     HIGH      LOW  \\\n",
       "0 2014-11-19 12:30:00  2014.11.19  12:30:00  53560.0  53565.0  53405.0   \n",
       "1 2014-11-19 12:35:00  2014.11.19  12:35:00  53410.0  53500.0  53295.0   \n",
       "\n",
       "     CLOSE     VOL  BBANDS_Upper_5  BBANDS_Lower_5  ...    ATR_20  TRANGE  \\\n",
       "0  53410.0  8363.0    53752.526189    53227.473811  ...  122.7500   160.0   \n",
       "1  53415.0  7034.0    53712.281525    53317.718475  ...  126.8625   205.0   \n",
       "\n",
       "   MES  DIA_SEMANA  HORA_NOBRE  TARGET_WIN  TARGET_WIN_CAT3  \\\n",
       "0   11           2           2        15.0             HOLD   \n",
       "1   11           2           2        50.0             HOLD   \n",
       "\n",
       "   TARGET_WIN_CAT3_LABEL  PRICE_PERCENTAGE  TARGET_PERCENTAGE  \n",
       "0                      1            106.82               HOLD  \n",
       "1                      1            106.83               HOLD  \n",
       "\n",
       "[2 rows x 135 columns]"
      ]
     },
     "execution_count": 4,
     "metadata": {},
     "output_type": "execute_result"
    }
   ],
   "source": [
    "# Carregar o Dataset\n",
    "filepath = 'C:/Users/auW10/Documents/CodigosDoAu/000_Doutorado/dataset/'\n",
    "df = pd.read_pickle(filepath+'dataset_ciclo1_multiclass_aug_dim_135_TIs_TargetPerc.pkl')\n",
    "print(df.shape)\n",
    "df.head(2)"
   ]
  },
  {
   "cell_type": "markdown",
   "metadata": {},
   "source": [
    "## Split dos Dados"
   ]
  },
  {
   "cell_type": "code",
   "execution_count": 5,
   "metadata": {},
   "outputs": [
    {
     "data": {
      "text/plain": [
       "<PandasArray>\n",
       "[             'DATETIME',                  'DATE',                  'TIME',\n",
       "                  'OPEN',                  'HIGH',                   'LOW',\n",
       "                 'CLOSE',                   'VOL',        'BBANDS_Upper_5',\n",
       "        'BBANDS_Lower_5',\n",
       " ...\n",
       "                'ATR_20',                'TRANGE',                   'MES',\n",
       "            'DIA_SEMANA',            'HORA_NOBRE',            'TARGET_WIN',\n",
       "       'TARGET_WIN_CAT3', 'TARGET_WIN_CAT3_LABEL',      'PRICE_PERCENTAGE',\n",
       "     'TARGET_PERCENTAGE']\n",
       "Length: 135, dtype: object"
      ]
     },
     "execution_count": 5,
     "metadata": {},
     "output_type": "execute_result"
    }
   ],
   "source": [
    "df.columns.tolist()\n",
    "df.columns.array"
   ]
  },
  {
   "cell_type": "code",
   "execution_count": 6,
   "metadata": {
    "scrolled": false
   },
   "outputs": [
    {
     "name": "stdout",
     "output_type": "stream",
     "text": [
      "(139884, 135)\n",
      "(139884, 126)\n"
     ]
    },
    {
     "data": {
      "text/html": [
       "<div>\n",
       "<style scoped>\n",
       "    .dataframe tbody tr th:only-of-type {\n",
       "        vertical-align: middle;\n",
       "    }\n",
       "\n",
       "    .dataframe tbody tr th {\n",
       "        vertical-align: top;\n",
       "    }\n",
       "\n",
       "    .dataframe thead th {\n",
       "        text-align: right;\n",
       "    }\n",
       "</style>\n",
       "<table border=\"1\" class=\"dataframe\">\n",
       "  <thead>\n",
       "    <tr style=\"text-align: right;\">\n",
       "      <th></th>\n",
       "      <th>DATETIME</th>\n",
       "      <th>DATE</th>\n",
       "      <th>TIME</th>\n",
       "      <th>BBANDS_Upper_5</th>\n",
       "      <th>BBANDS_Lower_5</th>\n",
       "      <th>BBANDS_Upper_10</th>\n",
       "      <th>BBANDS_Lower_10</th>\n",
       "      <th>BBANDS_Upper_20</th>\n",
       "      <th>BBANDS_Lower_20</th>\n",
       "      <th>DEMA_20</th>\n",
       "      <th>...</th>\n",
       "      <th>OBV</th>\n",
       "      <th>ATR_3</th>\n",
       "      <th>ATR_6</th>\n",
       "      <th>ATR_12</th>\n",
       "      <th>ATR_20</th>\n",
       "      <th>TRANGE</th>\n",
       "      <th>MES</th>\n",
       "      <th>DIA_SEMANA</th>\n",
       "      <th>HORA_NOBRE</th>\n",
       "      <th>TARGET_PERCENTAGE</th>\n",
       "    </tr>\n",
       "  </thead>\n",
       "  <tbody>\n",
       "    <tr>\n",
       "      <th>0</th>\n",
       "      <td>2014-11-19 12:30:00</td>\n",
       "      <td>2014.11.19</td>\n",
       "      <td>12:30:00</td>\n",
       "      <td>53752.526189</td>\n",
       "      <td>53227.473811</td>\n",
       "      <td>53701.563032</td>\n",
       "      <td>53003.436968</td>\n",
       "      <td>53582.216054</td>\n",
       "      <td>52961.783946</td>\n",
       "      <td>53513.521581</td>\n",
       "      <td>...</td>\n",
       "      <td>16995.0</td>\n",
       "      <td>183.08836</td>\n",
       "      <td>157.567344</td>\n",
       "      <td>133.163314</td>\n",
       "      <td>122.7500</td>\n",
       "      <td>160.0</td>\n",
       "      <td>11</td>\n",
       "      <td>2</td>\n",
       "      <td>2</td>\n",
       "      <td>HOLD</td>\n",
       "    </tr>\n",
       "    <tr>\n",
       "      <th>1</th>\n",
       "      <td>2014-11-19 12:35:00</td>\n",
       "      <td>2014.11.19</td>\n",
       "      <td>12:35:00</td>\n",
       "      <td>53712.281525</td>\n",
       "      <td>53317.718475</td>\n",
       "      <td>53699.874976</td>\n",
       "      <td>53060.125024</td>\n",
       "      <td>53596.604149</td>\n",
       "      <td>52972.395851</td>\n",
       "      <td>53498.711770</td>\n",
       "      <td>...</td>\n",
       "      <td>24029.0</td>\n",
       "      <td>190.39224</td>\n",
       "      <td>165.472787</td>\n",
       "      <td>139.149704</td>\n",
       "      <td>126.8625</td>\n",
       "      <td>205.0</td>\n",
       "      <td>11</td>\n",
       "      <td>2</td>\n",
       "      <td>2</td>\n",
       "      <td>HOLD</td>\n",
       "    </tr>\n",
       "  </tbody>\n",
       "</table>\n",
       "<p>2 rows × 126 columns</p>\n",
       "</div>"
      ],
      "text/plain": [
       "             DATETIME        DATE      TIME  BBANDS_Upper_5  BBANDS_Lower_5  \\\n",
       "0 2014-11-19 12:30:00  2014.11.19  12:30:00    53752.526189    53227.473811   \n",
       "1 2014-11-19 12:35:00  2014.11.19  12:35:00    53712.281525    53317.718475   \n",
       "\n",
       "   BBANDS_Upper_10  BBANDS_Lower_10  BBANDS_Upper_20  BBANDS_Lower_20  \\\n",
       "0     53701.563032     53003.436968     53582.216054     52961.783946   \n",
       "1     53699.874976     53060.125024     53596.604149     52972.395851   \n",
       "\n",
       "        DEMA_20  ...      OBV      ATR_3       ATR_6      ATR_12    ATR_20  \\\n",
       "0  53513.521581  ...  16995.0  183.08836  157.567344  133.163314  122.7500   \n",
       "1  53498.711770  ...  24029.0  190.39224  165.472787  139.149704  126.8625   \n",
       "\n",
       "   TRANGE  MES  DIA_SEMANA  HORA_NOBRE  TARGET_PERCENTAGE  \n",
       "0   160.0   11           2           2               HOLD  \n",
       "1   205.0   11           2           2               HOLD  \n",
       "\n",
       "[2 rows x 126 columns]"
      ]
     },
     "execution_count": 6,
     "metadata": {},
     "output_type": "execute_result"
    }
   ],
   "source": [
    "print(df.shape)\n",
    "df2 = df.drop([  'OPEN',                  \n",
    "                 'HIGH',                   \n",
    "                 'LOW',\n",
    "                 'CLOSE',                   \n",
    "                 'VOL',\n",
    "                 'TARGET_WIN',\n",
    "                 'TARGET_WIN_CAT3', \n",
    "                 'TARGET_WIN_CAT3_LABEL',      \n",
    "                 'PRICE_PERCENTAGE'\n",
    "               \n",
    "            \n",
    "              ], axis=1)\n",
    "print(df2.shape)\n",
    "df2.head(2)"
   ]
  },
  {
   "cell_type": "code",
   "execution_count": 7,
   "metadata": {},
   "outputs": [
    {
     "name": "stderr",
     "output_type": "stream",
     "text": [
      "C:\\Users\\auW10\\Anaconda3\\envs\\phd\\lib\\site-packages\\pandas\\core\\frame.py:4170: SettingWithCopyWarning: \n",
      "A value is trying to be set on a copy of a slice from a DataFrame\n",
      "\n",
      "See the caveats in the documentation: https://pandas.pydata.org/pandas-docs/stable/user_guide/indexing.html#returning-a-view-versus-a-copy\n",
      "  errors=errors,\n"
     ]
    },
    {
     "data": {
      "text/html": [
       "<div>\n",
       "<style scoped>\n",
       "    .dataframe tbody tr th:only-of-type {\n",
       "        vertical-align: middle;\n",
       "    }\n",
       "\n",
       "    .dataframe tbody tr th {\n",
       "        vertical-align: top;\n",
       "    }\n",
       "\n",
       "    .dataframe thead th {\n",
       "        text-align: right;\n",
       "    }\n",
       "</style>\n",
       "<table border=\"1\" class=\"dataframe\">\n",
       "  <thead>\n",
       "    <tr style=\"text-align: right;\">\n",
       "      <th></th>\n",
       "      <th>DATETIME</th>\n",
       "      <th>BBANDS_Upper_5</th>\n",
       "      <th>BBANDS_Lower_5</th>\n",
       "      <th>BBANDS_Upper_10</th>\n",
       "      <th>BBANDS_Lower_10</th>\n",
       "      <th>BBANDS_Upper_20</th>\n",
       "      <th>BBANDS_Lower_20</th>\n",
       "      <th>DEMA_20</th>\n",
       "      <th>EMA_5_CLOSE</th>\n",
       "      <th>EMA_10_CLOSE</th>\n",
       "      <th>...</th>\n",
       "      <th>OBV</th>\n",
       "      <th>ATR_3</th>\n",
       "      <th>ATR_6</th>\n",
       "      <th>ATR_12</th>\n",
       "      <th>ATR_20</th>\n",
       "      <th>TRANGE</th>\n",
       "      <th>MES</th>\n",
       "      <th>DIA_SEMANA</th>\n",
       "      <th>HORA_NOBRE</th>\n",
       "      <th>TARGET_PERCENTAGE</th>\n",
       "    </tr>\n",
       "  </thead>\n",
       "  <tbody>\n",
       "    <tr>\n",
       "      <th>0</th>\n",
       "      <td>2015-01-02 09:00:00</td>\n",
       "      <td>50378.309519</td>\n",
       "      <td>50261.690481</td>\n",
       "      <td>50497.291502</td>\n",
       "      <td>50233.708498</td>\n",
       "      <td>50969.316517</td>\n",
       "      <td>50075.683483</td>\n",
       "      <td>50268.727226</td>\n",
       "      <td>50325.205919</td>\n",
       "      <td>50381.098425</td>\n",
       "      <td>...</td>\n",
       "      <td>-165899.0</td>\n",
       "      <td>118.566120</td>\n",
       "      <td>105.950934</td>\n",
       "      <td>106.052199</td>\n",
       "      <td>107.965299</td>\n",
       "      <td>235.0</td>\n",
       "      <td>1</td>\n",
       "      <td>4</td>\n",
       "      <td>0</td>\n",
       "      <td>HOLD</td>\n",
       "    </tr>\n",
       "    <tr>\n",
       "      <th>1</th>\n",
       "      <td>2015-01-02 09:05:00</td>\n",
       "      <td>50356.614552</td>\n",
       "      <td>50271.385448</td>\n",
       "      <td>50497.291502</td>\n",
       "      <td>50233.708498</td>\n",
       "      <td>50873.822404</td>\n",
       "      <td>50101.177596</td>\n",
       "      <td>50273.919204</td>\n",
       "      <td>50328.470612</td>\n",
       "      <td>50372.716893</td>\n",
       "      <td>...</td>\n",
       "      <td>-164931.0</td>\n",
       "      <td>140.710746</td>\n",
       "      <td>119.125779</td>\n",
       "      <td>112.631182</td>\n",
       "      <td>111.817034</td>\n",
       "      <td>185.0</td>\n",
       "      <td>1</td>\n",
       "      <td>4</td>\n",
       "      <td>0</td>\n",
       "      <td>SELL</td>\n",
       "    </tr>\n",
       "    <tr>\n",
       "      <th>2</th>\n",
       "      <td>2015-01-02 09:10:00</td>\n",
       "      <td>50357.744230</td>\n",
       "      <td>50260.255770</td>\n",
       "      <td>50499.674891</td>\n",
       "      <td>50219.325109</td>\n",
       "      <td>50786.278237</td>\n",
       "      <td>50122.221763</td>\n",
       "      <td>50262.885100</td>\n",
       "      <td>50313.980408</td>\n",
       "      <td>50356.768367</td>\n",
       "      <td>...</td>\n",
       "      <td>-165756.0</td>\n",
       "      <td>138.807164</td>\n",
       "      <td>121.771482</td>\n",
       "      <td>114.495250</td>\n",
       "      <td>112.976182</td>\n",
       "      <td>135.0</td>\n",
       "      <td>1</td>\n",
       "      <td>4</td>\n",
       "      <td>0</td>\n",
       "      <td>SELL</td>\n",
       "    </tr>\n",
       "    <tr>\n",
       "      <th>3</th>\n",
       "      <td>2015-01-02 09:15:00</td>\n",
       "      <td>50352.923020</td>\n",
       "      <td>50249.076980</td>\n",
       "      <td>50475.710360</td>\n",
       "      <td>50209.289640</td>\n",
       "      <td>50711.656890</td>\n",
       "      <td>50139.843110</td>\n",
       "      <td>50254.576813</td>\n",
       "      <td>50302.653605</td>\n",
       "      <td>50342.810482</td>\n",
       "      <td>...</td>\n",
       "      <td>-166162.0</td>\n",
       "      <td>125.871443</td>\n",
       "      <td>118.142902</td>\n",
       "      <td>113.287313</td>\n",
       "      <td>112.327373</td>\n",
       "      <td>100.0</td>\n",
       "      <td>1</td>\n",
       "      <td>4</td>\n",
       "      <td>0</td>\n",
       "      <td>SELL</td>\n",
       "    </tr>\n",
       "    <tr>\n",
       "      <th>4</th>\n",
       "      <td>2015-01-02 09:20:00</td>\n",
       "      <td>50366.509358</td>\n",
       "      <td>50179.490642</td>\n",
       "      <td>50433.928992</td>\n",
       "      <td>50191.071008</td>\n",
       "      <td>50648.003968</td>\n",
       "      <td>50143.996032</td>\n",
       "      <td>50220.103436</td>\n",
       "      <td>50265.102404</td>\n",
       "      <td>50315.026758</td>\n",
       "      <td>...</td>\n",
       "      <td>-167120.0</td>\n",
       "      <td>118.914295</td>\n",
       "      <td>115.952418</td>\n",
       "      <td>112.596703</td>\n",
       "      <td>111.961004</td>\n",
       "      <td>105.0</td>\n",
       "      <td>1</td>\n",
       "      <td>4</td>\n",
       "      <td>0</td>\n",
       "      <td>SELL</td>\n",
       "    </tr>\n",
       "    <tr>\n",
       "      <th>...</th>\n",
       "      <td>...</td>\n",
       "      <td>...</td>\n",
       "      <td>...</td>\n",
       "      <td>...</td>\n",
       "      <td>...</td>\n",
       "      <td>...</td>\n",
       "      <td>...</td>\n",
       "      <td>...</td>\n",
       "      <td>...</td>\n",
       "      <td>...</td>\n",
       "      <td>...</td>\n",
       "      <td>...</td>\n",
       "      <td>...</td>\n",
       "      <td>...</td>\n",
       "      <td>...</td>\n",
       "      <td>...</td>\n",
       "      <td>...</td>\n",
       "      <td>...</td>\n",
       "      <td>...</td>\n",
       "      <td>...</td>\n",
       "      <td>...</td>\n",
       "    </tr>\n",
       "    <tr>\n",
       "      <th>132938</th>\n",
       "      <td>2019-12-30 17:45:00</td>\n",
       "      <td>116667.659125</td>\n",
       "      <td>116078.340875</td>\n",
       "      <td>116774.216137</td>\n",
       "      <td>116181.783863</td>\n",
       "      <td>116782.959522</td>\n",
       "      <td>116293.540478</td>\n",
       "      <td>116323.065785</td>\n",
       "      <td>116340.624588</td>\n",
       "      <td>116429.656185</td>\n",
       "      <td>...</td>\n",
       "      <td>-7927844.0</td>\n",
       "      <td>179.921938</td>\n",
       "      <td>145.712683</td>\n",
       "      <td>126.369144</td>\n",
       "      <td>125.228206</td>\n",
       "      <td>155.0</td>\n",
       "      <td>12</td>\n",
       "      <td>0</td>\n",
       "      <td>2</td>\n",
       "      <td>SELL</td>\n",
       "    </tr>\n",
       "    <tr>\n",
       "      <th>132939</th>\n",
       "      <td>2019-12-30 17:50:00</td>\n",
       "      <td>116549.852901</td>\n",
       "      <td>116006.147099</td>\n",
       "      <td>116788.622542</td>\n",
       "      <td>116070.377458</td>\n",
       "      <td>116821.467071</td>\n",
       "      <td>116206.532929</td>\n",
       "      <td>116235.121499</td>\n",
       "      <td>116262.083059</td>\n",
       "      <td>116370.627788</td>\n",
       "      <td>...</td>\n",
       "      <td>-7988477.0</td>\n",
       "      <td>188.281292</td>\n",
       "      <td>155.593903</td>\n",
       "      <td>132.921715</td>\n",
       "      <td>129.216796</td>\n",
       "      <td>205.0</td>\n",
       "      <td>12</td>\n",
       "      <td>0</td>\n",
       "      <td>2</td>\n",
       "      <td>SELL</td>\n",
       "    </tr>\n",
       "    <tr>\n",
       "      <th>132940</th>\n",
       "      <td>2019-12-30 17:55:00</td>\n",
       "      <td>116547.693506</td>\n",
       "      <td>115856.306494</td>\n",
       "      <td>116802.469722</td>\n",
       "      <td>115935.530278</td>\n",
       "      <td>116867.571155</td>\n",
       "      <td>116098.928845</td>\n",
       "      <td>116128.972961</td>\n",
       "      <td>116166.388706</td>\n",
       "      <td>116298.695463</td>\n",
       "      <td>...</td>\n",
       "      <td>-8061266.0</td>\n",
       "      <td>213.854195</td>\n",
       "      <td>173.828252</td>\n",
       "      <td>143.928239</td>\n",
       "      <td>136.005956</td>\n",
       "      <td>265.0</td>\n",
       "      <td>12</td>\n",
       "      <td>0</td>\n",
       "      <td>2</td>\n",
       "      <td>BUY</td>\n",
       "    </tr>\n",
       "    <tr>\n",
       "      <th>132941</th>\n",
       "      <td>2019-12-30 18:00:00</td>\n",
       "      <td>116333.405786</td>\n",
       "      <td>115842.594214</td>\n",
       "      <td>116786.572274</td>\n",
       "      <td>115821.427726</td>\n",
       "      <td>116902.018549</td>\n",
       "      <td>115998.981451</td>\n",
       "      <td>116036.295907</td>\n",
       "      <td>116085.925804</td>\n",
       "      <td>116230.750833</td>\n",
       "      <td>...</td>\n",
       "      <td>-8104891.0</td>\n",
       "      <td>199.236130</td>\n",
       "      <td>173.190210</td>\n",
       "      <td>146.100886</td>\n",
       "      <td>137.705658</td>\n",
       "      <td>170.0</td>\n",
       "      <td>12</td>\n",
       "      <td>0</td>\n",
       "      <td>2</td>\n",
       "      <td>BUY</td>\n",
       "    </tr>\n",
       "    <tr>\n",
       "      <th>132942</th>\n",
       "      <td>2019-12-30 18:05:00</td>\n",
       "      <td>116280.555021</td>\n",
       "      <td>115703.444979</td>\n",
       "      <td>116754.231657</td>\n",
       "      <td>115687.768343</td>\n",
       "      <td>116940.460327</td>\n",
       "      <td>115875.539673</td>\n",
       "      <td>115919.337023</td>\n",
       "      <td>115980.617203</td>\n",
       "      <td>116146.977954</td>\n",
       "      <td>...</td>\n",
       "      <td>-8145581.0</td>\n",
       "      <td>222.824087</td>\n",
       "      <td>189.325175</td>\n",
       "      <td>156.425812</td>\n",
       "      <td>144.320376</td>\n",
       "      <td>270.0</td>\n",
       "      <td>12</td>\n",
       "      <td>0</td>\n",
       "      <td>2</td>\n",
       "      <td>BUY</td>\n",
       "    </tr>\n",
       "  </tbody>\n",
       "</table>\n",
       "<p>132943 rows × 124 columns</p>\n",
       "</div>"
      ],
      "text/plain": [
       "                  DATETIME  BBANDS_Upper_5  BBANDS_Lower_5  BBANDS_Upper_10  \\\n",
       "0      2015-01-02 09:00:00    50378.309519    50261.690481     50497.291502   \n",
       "1      2015-01-02 09:05:00    50356.614552    50271.385448     50497.291502   \n",
       "2      2015-01-02 09:10:00    50357.744230    50260.255770     50499.674891   \n",
       "3      2015-01-02 09:15:00    50352.923020    50249.076980     50475.710360   \n",
       "4      2015-01-02 09:20:00    50366.509358    50179.490642     50433.928992   \n",
       "...                    ...             ...             ...              ...   \n",
       "132938 2019-12-30 17:45:00   116667.659125   116078.340875    116774.216137   \n",
       "132939 2019-12-30 17:50:00   116549.852901   116006.147099    116788.622542   \n",
       "132940 2019-12-30 17:55:00   116547.693506   115856.306494    116802.469722   \n",
       "132941 2019-12-30 18:00:00   116333.405786   115842.594214    116786.572274   \n",
       "132942 2019-12-30 18:05:00   116280.555021   115703.444979    116754.231657   \n",
       "\n",
       "        BBANDS_Lower_10  BBANDS_Upper_20  BBANDS_Lower_20        DEMA_20  \\\n",
       "0          50233.708498     50969.316517     50075.683483   50268.727226   \n",
       "1          50233.708498     50873.822404     50101.177596   50273.919204   \n",
       "2          50219.325109     50786.278237     50122.221763   50262.885100   \n",
       "3          50209.289640     50711.656890     50139.843110   50254.576813   \n",
       "4          50191.071008     50648.003968     50143.996032   50220.103436   \n",
       "...                 ...              ...              ...            ...   \n",
       "132938    116181.783863    116782.959522    116293.540478  116323.065785   \n",
       "132939    116070.377458    116821.467071    116206.532929  116235.121499   \n",
       "132940    115935.530278    116867.571155    116098.928845  116128.972961   \n",
       "132941    115821.427726    116902.018549    115998.981451  116036.295907   \n",
       "132942    115687.768343    116940.460327    115875.539673  115919.337023   \n",
       "\n",
       "          EMA_5_CLOSE   EMA_10_CLOSE  ...        OBV       ATR_3       ATR_6  \\\n",
       "0        50325.205919   50381.098425  ...  -165899.0  118.566120  105.950934   \n",
       "1        50328.470612   50372.716893  ...  -164931.0  140.710746  119.125779   \n",
       "2        50313.980408   50356.768367  ...  -165756.0  138.807164  121.771482   \n",
       "3        50302.653605   50342.810482  ...  -166162.0  125.871443  118.142902   \n",
       "4        50265.102404   50315.026758  ...  -167120.0  118.914295  115.952418   \n",
       "...               ...            ...  ...        ...         ...         ...   \n",
       "132938  116340.624588  116429.656185  ... -7927844.0  179.921938  145.712683   \n",
       "132939  116262.083059  116370.627788  ... -7988477.0  188.281292  155.593903   \n",
       "132940  116166.388706  116298.695463  ... -8061266.0  213.854195  173.828252   \n",
       "132941  116085.925804  116230.750833  ... -8104891.0  199.236130  173.190210   \n",
       "132942  115980.617203  116146.977954  ... -8145581.0  222.824087  189.325175   \n",
       "\n",
       "            ATR_12      ATR_20  TRANGE  MES  DIA_SEMANA  HORA_NOBRE  \\\n",
       "0       106.052199  107.965299   235.0    1           4           0   \n",
       "1       112.631182  111.817034   185.0    1           4           0   \n",
       "2       114.495250  112.976182   135.0    1           4           0   \n",
       "3       113.287313  112.327373   100.0    1           4           0   \n",
       "4       112.596703  111.961004   105.0    1           4           0   \n",
       "...            ...         ...     ...  ...         ...         ...   \n",
       "132938  126.369144  125.228206   155.0   12           0           2   \n",
       "132939  132.921715  129.216796   205.0   12           0           2   \n",
       "132940  143.928239  136.005956   265.0   12           0           2   \n",
       "132941  146.100886  137.705658   170.0   12           0           2   \n",
       "132942  156.425812  144.320376   270.0   12           0           2   \n",
       "\n",
       "        TARGET_PERCENTAGE  \n",
       "0                    HOLD  \n",
       "1                    SELL  \n",
       "2                    SELL  \n",
       "3                    SELL  \n",
       "4                    SELL  \n",
       "...                   ...  \n",
       "132938               SELL  \n",
       "132939               SELL  \n",
       "132940                BUY  \n",
       "132941                BUY  \n",
       "132942                BUY  \n",
       "\n",
       "[132943 rows x 124 columns]"
      ]
     },
     "execution_count": 7,
     "metadata": {},
     "output_type": "execute_result"
    }
   ],
   "source": [
    "df3 = df2[df2['DATETIME'].dt.year < 2020]\n",
    "df3.drop(['DATE', 'TIME'], axis=1, inplace=True)\n",
    "df4 = df3[df3['DATETIME'].dt.year > 2014].reset_index(drop=True)\n",
    "df4"
   ]
  },
  {
   "cell_type": "code",
   "execution_count": 8,
   "metadata": {
    "scrolled": true
   },
   "outputs": [
    {
     "name": "stdout",
     "output_type": "stream",
     "text": [
      "Proporção Train: 57.0% | Validation: 18.9% | Test: 19.1%\n",
      "(79795, 123) (26410, 123) (26738, 123)\n"
     ]
    },
    {
     "name": "stderr",
     "output_type": "stream",
     "text": [
      "C:\\Users\\auW10\\Anaconda3\\envs\\phd\\lib\\site-packages\\pandas\\core\\frame.py:4170: SettingWithCopyWarning: \n",
      "A value is trying to be set on a copy of a slice from a DataFrame\n",
      "\n",
      "See the caveats in the documentation: https://pandas.pydata.org/pandas-docs/stable/user_guide/indexing.html#returning-a-view-versus-a-copy\n",
      "  errors=errors,\n"
     ]
    }
   ],
   "source": [
    "df_train = df2[(df2['DATETIME'] >= '2015-01-01') & (df2['DATETIME'] < '2018-01-01')]\n",
    "#df_train = df2[(df2['DATETIME'] >= '2017-12-01') & (df2['DATETIME'] < '2019-07-01')]\n",
    "#df_train = df_train.iloc[-10000:, :]\n",
    "\n",
    "#df_train = df2[(df2['DATETIME'] >= '2018-01-01') & (df2['DATETIME'] < '2019-07-01')]\n",
    "\n",
    "#----------------------------------------------------------------------------------------------------\n",
    "\n",
    "df_valid = df2[(df2['DATETIME'] >= '2018-01-01') & (df2['DATETIME'] < '2019-01-01')]\n",
    "#df_valid = df2[(df2['DATETIME'] >= '2019-07-01') & (df2['DATETIME'] < '2020-03-01')]\n",
    "#df_valid = df_valid.iloc[:6600, :]\n",
    "\n",
    "#df_valid = df2[(df2['DATETIME'] >= '2019-07-01') & (df2['DATETIME'] < '2020-01-01')]\n",
    "\n",
    "#----------------------------------------------------------------------------------------------------\n",
    "\n",
    "df_test  = df2[(df2['DATETIME'] >= '2019-01-01') & (df2['DATETIME'] < '2020-01-01')]\n",
    "#df_test  = df2[(df2['DATETIME'] >= '2020-01-01')]\n",
    "\n",
    "#df_test  = df2[(df2['DATETIME'] < '2017-12-01')]\n",
    "#df_test = df_test.iloc[:500,:]\n",
    "\n",
    "#df_test  = df2[(df2['DATETIME'] >= '2020-01-01')]\n",
    "\n",
    "#----------------------------------------------------------------------------------------------------\n",
    "\n",
    "print('Proporção Train: {:.1%} | Validation: {:.1%} | Test: {:.1%}'.format(\n",
    "                                            df_train['DATETIME'].count()/df2['DATETIME'].count(),\n",
    "                                            df_valid['DATETIME'].count()/df2['DATETIME'].count(),\n",
    "                                            df_test['DATETIME'].count()/df2['DATETIME'].count()))\n",
    "\n",
    "df_train.drop(['DATETIME', 'DATE', 'TIME'], axis=1, inplace=True)\n",
    "df_valid.drop(['DATETIME', 'DATE', 'TIME'], axis=1, inplace=True)\n",
    "df_test.drop(['DATETIME', 'DATE', 'TIME'], axis=1, inplace=True)\n",
    "print(df_train.shape, df_valid.shape, df_test.shape)"
   ]
  },
  {
   "cell_type": "code",
   "execution_count": 9,
   "metadata": {
    "scrolled": true
   },
   "outputs": [
    {
     "data": {
      "text/html": [
       "<div>\n",
       "<style scoped>\n",
       "    .dataframe tbody tr th:only-of-type {\n",
       "        vertical-align: middle;\n",
       "    }\n",
       "\n",
       "    .dataframe tbody tr th {\n",
       "        vertical-align: top;\n",
       "    }\n",
       "\n",
       "    .dataframe thead th {\n",
       "        text-align: right;\n",
       "    }\n",
       "</style>\n",
       "<table border=\"1\" class=\"dataframe\">\n",
       "  <thead>\n",
       "    <tr style=\"text-align: right;\">\n",
       "      <th></th>\n",
       "      <th>BBANDS_Upper_5</th>\n",
       "      <th>BBANDS_Lower_5</th>\n",
       "      <th>BBANDS_Upper_10</th>\n",
       "      <th>BBANDS_Lower_10</th>\n",
       "      <th>BBANDS_Upper_20</th>\n",
       "      <th>BBANDS_Lower_20</th>\n",
       "      <th>DEMA_20</th>\n",
       "      <th>EMA_5_CLOSE</th>\n",
       "      <th>EMA_10_CLOSE</th>\n",
       "      <th>EMA_20_CLOSE</th>\n",
       "      <th>...</th>\n",
       "      <th>OBV</th>\n",
       "      <th>ATR_3</th>\n",
       "      <th>ATR_6</th>\n",
       "      <th>ATR_12</th>\n",
       "      <th>ATR_20</th>\n",
       "      <th>TRANGE</th>\n",
       "      <th>MES</th>\n",
       "      <th>DIA_SEMANA</th>\n",
       "      <th>HORA_NOBRE</th>\n",
       "      <th>TARGET_PERCENTAGE</th>\n",
       "    </tr>\n",
       "  </thead>\n",
       "  <tbody>\n",
       "    <tr>\n",
       "      <th>109098</th>\n",
       "      <td>88174.761226</td>\n",
       "      <td>88091.238774</td>\n",
       "      <td>88238.387032</td>\n",
       "      <td>87917.612968</td>\n",
       "      <td>88228.767784</td>\n",
       "      <td>87736.732216</td>\n",
       "      <td>88124.552197</td>\n",
       "      <td>88120.485588</td>\n",
       "      <td>88090.757497</td>\n",
       "      <td>88085.21074</td>\n",
       "      <td>...</td>\n",
       "      <td>-3220019.0</td>\n",
       "      <td>140.147904</td>\n",
       "      <td>138.857426</td>\n",
       "      <td>142.408421</td>\n",
       "      <td>142.348568</td>\n",
       "      <td>150.0</td>\n",
       "      <td>1</td>\n",
       "      <td>2</td>\n",
       "      <td>1</td>\n",
       "      <td>HOLD</td>\n",
       "    </tr>\n",
       "  </tbody>\n",
       "</table>\n",
       "<p>1 rows × 123 columns</p>\n",
       "</div>"
      ],
      "text/plain": [
       "        BBANDS_Upper_5  BBANDS_Lower_5  BBANDS_Upper_10  BBANDS_Lower_10  \\\n",
       "109098    88174.761226    88091.238774     88238.387032     87917.612968   \n",
       "\n",
       "        BBANDS_Upper_20  BBANDS_Lower_20       DEMA_20   EMA_5_CLOSE  \\\n",
       "109098     88228.767784     87736.732216  88124.552197  88120.485588   \n",
       "\n",
       "        EMA_10_CLOSE  EMA_20_CLOSE  ...        OBV       ATR_3       ATR_6  \\\n",
       "109098  88090.757497   88085.21074  ... -3220019.0  140.147904  138.857426   \n",
       "\n",
       "            ATR_12      ATR_20  TRANGE  MES  DIA_SEMANA  HORA_NOBRE  \\\n",
       "109098  142.408421  142.348568   150.0    1           2           1   \n",
       "\n",
       "        TARGET_PERCENTAGE  \n",
       "109098               HOLD  \n",
       "\n",
       "[1 rows x 123 columns]"
      ]
     },
     "execution_count": 9,
     "metadata": {},
     "output_type": "execute_result"
    }
   ],
   "source": [
    "df_test.iloc[19:200].head(1)"
   ]
  },
  {
   "cell_type": "code",
   "execution_count": 10,
   "metadata": {},
   "outputs": [
    {
     "data": {
      "text/plain": [
       "HOLD    57590\n",
       "BUY     11165\n",
       "SELL    11040\n",
       "Name: TARGET_PERCENTAGE, dtype: int64"
      ]
     },
     "execution_count": 10,
     "metadata": {},
     "output_type": "execute_result"
    }
   ],
   "source": [
    "df_train['TARGET_PERCENTAGE'].value_counts()"
   ]
  },
  {
   "cell_type": "code",
   "execution_count": 11,
   "metadata": {},
   "outputs": [
    {
     "data": {
      "text/plain": [
       "57590"
      ]
     },
     "execution_count": 11,
     "metadata": {},
     "output_type": "execute_result"
    }
   ],
   "source": [
    "df_train['TARGET_PERCENTAGE'].value_counts()[0]"
   ]
  },
  {
   "cell_type": "code",
   "execution_count": 12,
   "metadata": {
    "scrolled": false
   },
   "outputs": [
    {
     "name": "stdout",
     "output_type": "stream",
     "text": [
      "\n",
      "Dados Categóricos de Treino -- BUY: 11165 | SELL: 11040 | HOLD: 57590\n",
      "\n",
      "Dados Categóricos de Validação -- BUY: 3779 | SELL: 3701 | HOLD: 18930\n",
      "\n",
      "Dados Categóricos de Teste -- BUY: 2666 | SELL: 2453 | HOLD: 21619\n"
     ]
    }
   ],
   "source": [
    "hold_train = df_train['TARGET_PERCENTAGE'].value_counts()[0]\n",
    "hold_valid = df_valid['TARGET_PERCENTAGE'].value_counts()[0]\n",
    "hold_test = df_test['TARGET_PERCENTAGE'].value_counts()[0]\n",
    "\n",
    "print('\\nDados Categóricos de Treino -- BUY: %d | SELL: %d | HOLD: %d' % (df_train['TARGET_PERCENTAGE'].value_counts()[1], df_train['TARGET_PERCENTAGE'].value_counts()[2], hold_train))\n",
    "print('\\nDados Categóricos de Validação -- BUY: %d | SELL: %d | HOLD: %d' % (df_valid['TARGET_PERCENTAGE'].value_counts()[1], df_valid['TARGET_PERCENTAGE'].value_counts()[2], hold_valid))\n",
    "print('\\nDados Categóricos de Teste -- BUY: %d | SELL: %d | HOLD: %d' % (df_test['TARGET_PERCENTAGE'].value_counts()[1], df_test['TARGET_PERCENTAGE'].value_counts()[2], hold_test))\n"
   ]
  },
  {
   "cell_type": "code",
   "execution_count": 13,
   "metadata": {
    "scrolled": true
   },
   "outputs": [
    {
     "data": {
      "text/plain": [
       "HORA_NOBRE  TARGET_PERCENTAGE\n",
       "0           HOLD                  3343\n",
       "            BUY                    575\n",
       "            SELL                   510\n",
       "1           HOLD                 14467\n",
       "            SELL                  3870\n",
       "            BUY                   3802\n",
       "2           HOLD                 39780\n",
       "            BUY                   6788\n",
       "            SELL                  6660\n",
       "Name: TARGET_PERCENTAGE, dtype: int64"
      ]
     },
     "execution_count": 13,
     "metadata": {},
     "output_type": "execute_result"
    }
   ],
   "source": [
    "df_train.groupby(['HORA_NOBRE'])['TARGET_PERCENTAGE'].value_counts()"
   ]
  },
  {
   "cell_type": "code",
   "execution_count": 14,
   "metadata": {},
   "outputs": [
    {
     "name": "stdout",
     "output_type": "stream",
     "text": [
      "\n",
      "Dados Categóricos de Treino Hora Nobre -- BUY: 3870 | SELL: 3802 | HOLD: 14467\n",
      "\n",
      "Dados Categóricos de Validação Hora Nobre -- BUY: 1284 | SELL: 1220 | HOLD: 4816\n",
      "\n",
      "Dados Categóricos de Teste Hora Nobre -- BUY: 1025 | SELL: 979 | HOLD: 5406\n"
     ]
    }
   ],
   "source": [
    "buy_train = df_train.groupby(['HORA_NOBRE'])['TARGET_PERCENTAGE'].value_counts()[4]\n",
    "sell_train = df_train.groupby(['HORA_NOBRE'])['TARGET_PERCENTAGE'].value_counts()[5]\n",
    "hold_train = df_train.groupby(['HORA_NOBRE'])['TARGET_PERCENTAGE'].value_counts()[3]\n",
    "\n",
    "buy_valid = df_valid.groupby(['HORA_NOBRE'])['TARGET_PERCENTAGE'].value_counts()[4]\n",
    "sell_valid = df_valid.groupby(['HORA_NOBRE'])['TARGET_PERCENTAGE'].value_counts()[5]\n",
    "hold_valid = df_valid.groupby(['HORA_NOBRE'])['TARGET_PERCENTAGE'].value_counts()[3]\n",
    "\n",
    "buy_test = df_test.groupby(['HORA_NOBRE'])['TARGET_PERCENTAGE'].value_counts()[4]\n",
    "sell_test = df_test.groupby(['HORA_NOBRE'])['TARGET_PERCENTAGE'].value_counts()[5]\n",
    "hold_test = df_test.groupby(['HORA_NOBRE'])['TARGET_PERCENTAGE'].value_counts()[3]\n",
    "\n",
    "print('\\nDados Categóricos de Treino Hora Nobre -- BUY: %d | SELL: %d | HOLD: %d' % (buy_train, sell_train, hold_train))\n",
    "print('\\nDados Categóricos de Validação Hora Nobre -- BUY: %d | SELL: %d | HOLD: %d' % (buy_valid, sell_valid, hold_valid))\n",
    "print('\\nDados Categóricos de Teste Hora Nobre -- BUY: %d | SELL: %d | HOLD: %d' % (buy_test, sell_test, hold_test))\n"
   ]
  },
  {
   "cell_type": "code",
   "execution_count": 15,
   "metadata": {},
   "outputs": [
    {
     "name": "stdout",
     "output_type": "stream",
     "text": [
      "14467\n",
      "3831\n",
      "10636\n"
     ]
    }
   ],
   "source": [
    "np.random.seed(2345)\n",
    "porcentagem_selecao_train = (buy_train / hold_train)\n",
    "amostra_train = np.random.choice( a=[0,1], size=hold_train, replace=True, \n",
    "                                   p=[1-porcentagem_selecao_train, porcentagem_selecao_train] )\n",
    "print(len(amostra_train))\n",
    "print(len(amostra_train[amostra_train == 1]))\n",
    "print(len(amostra_train[amostra_train == 0]))"
   ]
  },
  {
   "cell_type": "code",
   "execution_count": 16,
   "metadata": {},
   "outputs": [
    {
     "name": "stdout",
     "output_type": "stream",
     "text": [
      "4816\n",
      "1290\n",
      "3526\n"
     ]
    }
   ],
   "source": [
    "np.random.seed(2345)\n",
    "porcentagem_selecao_valid = (buy_valid / hold_valid)\n",
    "amostra_valid = np.random.choice( a=[0,1], size=hold_valid, replace=True, \n",
    "                                   p=[1-porcentagem_selecao_valid, porcentagem_selecao_valid] )\n",
    "print(len(amostra_valid))\n",
    "print(len(amostra_valid[amostra_valid == 1]))\n",
    "print(len(amostra_valid[amostra_valid == 0]))"
   ]
  },
  {
   "cell_type": "code",
   "execution_count": 17,
   "metadata": {},
   "outputs": [
    {
     "name": "stdout",
     "output_type": "stream",
     "text": [
      "5406\n",
      "1048\n",
      "4358\n"
     ]
    }
   ],
   "source": [
    "np.random.seed(2345)\n",
    "porcentagem_selecao_test = (buy_test / hold_test)\n",
    "amostra_test = np.random.choice( a=[0,1], size=hold_test, replace=True, \n",
    "                                   p=[1-porcentagem_selecao_test, porcentagem_selecao_test] )\n",
    "print(len(amostra_test))\n",
    "print(len(amostra_test[amostra_test == 1]))\n",
    "print(len(amostra_test[amostra_test == 0]))"
   ]
  },
  {
   "cell_type": "code",
   "execution_count": 18,
   "metadata": {
    "scrolled": false
   },
   "outputs": [
    {
     "data": {
      "text/html": [
       "<div>\n",
       "<style scoped>\n",
       "    .dataframe tbody tr th:only-of-type {\n",
       "        vertical-align: middle;\n",
       "    }\n",
       "\n",
       "    .dataframe tbody tr th {\n",
       "        vertical-align: top;\n",
       "    }\n",
       "\n",
       "    .dataframe thead th {\n",
       "        text-align: right;\n",
       "    }\n",
       "</style>\n",
       "<table border=\"1\" class=\"dataframe\">\n",
       "  <thead>\n",
       "    <tr style=\"text-align: right;\">\n",
       "      <th></th>\n",
       "      <th>BBANDS_Upper_5</th>\n",
       "      <th>BBANDS_Lower_5</th>\n",
       "      <th>BBANDS_Upper_10</th>\n",
       "      <th>BBANDS_Lower_10</th>\n",
       "      <th>BBANDS_Upper_20</th>\n",
       "      <th>BBANDS_Lower_20</th>\n",
       "      <th>DEMA_20</th>\n",
       "      <th>EMA_5_CLOSE</th>\n",
       "      <th>EMA_10_CLOSE</th>\n",
       "      <th>EMA_20_CLOSE</th>\n",
       "      <th>...</th>\n",
       "      <th>OBV</th>\n",
       "      <th>ATR_3</th>\n",
       "      <th>ATR_6</th>\n",
       "      <th>ATR_12</th>\n",
       "      <th>ATR_20</th>\n",
       "      <th>TRANGE</th>\n",
       "      <th>MES</th>\n",
       "      <th>DIA_SEMANA</th>\n",
       "      <th>HORA_NOBRE</th>\n",
       "      <th>TARGET_PERCENTAGE</th>\n",
       "    </tr>\n",
       "  </thead>\n",
       "  <tbody>\n",
       "    <tr>\n",
       "      <th>2874</th>\n",
       "      <td>50378.309519</td>\n",
       "      <td>50261.690481</td>\n",
       "      <td>50497.291502</td>\n",
       "      <td>50233.708498</td>\n",
       "      <td>50969.316517</td>\n",
       "      <td>50075.683483</td>\n",
       "      <td>50268.727226</td>\n",
       "      <td>50325.205919</td>\n",
       "      <td>50381.098425</td>\n",
       "      <td>50504.834778</td>\n",
       "      <td>...</td>\n",
       "      <td>-165899.0</td>\n",
       "      <td>118.566120</td>\n",
       "      <td>105.950934</td>\n",
       "      <td>106.052199</td>\n",
       "      <td>107.965299</td>\n",
       "      <td>235.0</td>\n",
       "      <td>1</td>\n",
       "      <td>4</td>\n",
       "      <td>0</td>\n",
       "      <td>HOLD</td>\n",
       "    </tr>\n",
       "    <tr>\n",
       "      <th>2875</th>\n",
       "      <td>50356.614552</td>\n",
       "      <td>50271.385448</td>\n",
       "      <td>50497.291502</td>\n",
       "      <td>50233.708498</td>\n",
       "      <td>50873.822404</td>\n",
       "      <td>50101.177596</td>\n",
       "      <td>50273.919204</td>\n",
       "      <td>50328.470612</td>\n",
       "      <td>50372.716893</td>\n",
       "      <td>50488.660037</td>\n",
       "      <td>...</td>\n",
       "      <td>-164931.0</td>\n",
       "      <td>140.710746</td>\n",
       "      <td>119.125779</td>\n",
       "      <td>112.631182</td>\n",
       "      <td>111.817034</td>\n",
       "      <td>185.0</td>\n",
       "      <td>1</td>\n",
       "      <td>4</td>\n",
       "      <td>0</td>\n",
       "      <td>SELL</td>\n",
       "    </tr>\n",
       "    <tr>\n",
       "      <th>2876</th>\n",
       "      <td>50357.744230</td>\n",
       "      <td>50260.255770</td>\n",
       "      <td>50499.674891</td>\n",
       "      <td>50219.325109</td>\n",
       "      <td>50786.278237</td>\n",
       "      <td>50122.221763</td>\n",
       "      <td>50262.885100</td>\n",
       "      <td>50313.980408</td>\n",
       "      <td>50356.768367</td>\n",
       "      <td>50469.263843</td>\n",
       "      <td>...</td>\n",
       "      <td>-165756.0</td>\n",
       "      <td>138.807164</td>\n",
       "      <td>121.771482</td>\n",
       "      <td>114.495250</td>\n",
       "      <td>112.976182</td>\n",
       "      <td>135.0</td>\n",
       "      <td>1</td>\n",
       "      <td>4</td>\n",
       "      <td>0</td>\n",
       "      <td>SELL</td>\n",
       "    </tr>\n",
       "    <tr>\n",
       "      <th>2877</th>\n",
       "      <td>50352.923020</td>\n",
       "      <td>50249.076980</td>\n",
       "      <td>50475.710360</td>\n",
       "      <td>50209.289640</td>\n",
       "      <td>50711.656890</td>\n",
       "      <td>50139.843110</td>\n",
       "      <td>50254.576813</td>\n",
       "      <td>50302.653605</td>\n",
       "      <td>50342.810482</td>\n",
       "      <td>50451.238715</td>\n",
       "      <td>...</td>\n",
       "      <td>-166162.0</td>\n",
       "      <td>125.871443</td>\n",
       "      <td>118.142902</td>\n",
       "      <td>113.287313</td>\n",
       "      <td>112.327373</td>\n",
       "      <td>100.0</td>\n",
       "      <td>1</td>\n",
       "      <td>4</td>\n",
       "      <td>0</td>\n",
       "      <td>SELL</td>\n",
       "    </tr>\n",
       "    <tr>\n",
       "      <th>2878</th>\n",
       "      <td>50366.509358</td>\n",
       "      <td>50179.490642</td>\n",
       "      <td>50433.928992</td>\n",
       "      <td>50191.071008</td>\n",
       "      <td>50648.003968</td>\n",
       "      <td>50143.996032</td>\n",
       "      <td>50220.103436</td>\n",
       "      <td>50265.102404</td>\n",
       "      <td>50315.026758</td>\n",
       "      <td>50426.358837</td>\n",
       "      <td>...</td>\n",
       "      <td>-167120.0</td>\n",
       "      <td>118.914295</td>\n",
       "      <td>115.952418</td>\n",
       "      <td>112.596703</td>\n",
       "      <td>111.961004</td>\n",
       "      <td>105.0</td>\n",
       "      <td>1</td>\n",
       "      <td>4</td>\n",
       "      <td>0</td>\n",
       "      <td>SELL</td>\n",
       "    </tr>\n",
       "    <tr>\n",
       "      <th>...</th>\n",
       "      <td>...</td>\n",
       "      <td>...</td>\n",
       "      <td>...</td>\n",
       "      <td>...</td>\n",
       "      <td>...</td>\n",
       "      <td>...</td>\n",
       "      <td>...</td>\n",
       "      <td>...</td>\n",
       "      <td>...</td>\n",
       "      <td>...</td>\n",
       "      <td>...</td>\n",
       "      <td>...</td>\n",
       "      <td>...</td>\n",
       "      <td>...</td>\n",
       "      <td>...</td>\n",
       "      <td>...</td>\n",
       "      <td>...</td>\n",
       "      <td>...</td>\n",
       "      <td>...</td>\n",
       "      <td>...</td>\n",
       "      <td>...</td>\n",
       "    </tr>\n",
       "    <tr>\n",
       "      <th>82664</th>\n",
       "      <td>76859.248077</td>\n",
       "      <td>76826.751923</td>\n",
       "      <td>76876.500000</td>\n",
       "      <td>76822.500000</td>\n",
       "      <td>76875.787293</td>\n",
       "      <td>76808.712707</td>\n",
       "      <td>76843.797427</td>\n",
       "      <td>76841.911072</td>\n",
       "      <td>76844.036400</td>\n",
       "      <td>76842.565363</td>\n",
       "      <td>...</td>\n",
       "      <td>-1431887.0</td>\n",
       "      <td>42.081982</td>\n",
       "      <td>41.723734</td>\n",
       "      <td>42.173451</td>\n",
       "      <td>42.577047</td>\n",
       "      <td>40.0</td>\n",
       "      <td>12</td>\n",
       "      <td>3</td>\n",
       "      <td>2</td>\n",
       "      <td>HOLD</td>\n",
       "    </tr>\n",
       "    <tr>\n",
       "      <th>82665</th>\n",
       "      <td>76859.435596</td>\n",
       "      <td>76824.564404</td>\n",
       "      <td>76867.613344</td>\n",
       "      <td>76823.386656</td>\n",
       "      <td>76875.741540</td>\n",
       "      <td>76809.258460</td>\n",
       "      <td>76840.853637</td>\n",
       "      <td>76839.607381</td>\n",
       "      <td>76842.393418</td>\n",
       "      <td>76841.844852</td>\n",
       "      <td>...</td>\n",
       "      <td>-1421538.0</td>\n",
       "      <td>48.054655</td>\n",
       "      <td>44.769779</td>\n",
       "      <td>43.658997</td>\n",
       "      <td>43.448194</td>\n",
       "      <td>60.0</td>\n",
       "      <td>12</td>\n",
       "      <td>3</td>\n",
       "      <td>2</td>\n",
       "      <td>HOLD</td>\n",
       "    </tr>\n",
       "    <tr>\n",
       "      <th>82666</th>\n",
       "      <td>76858.204651</td>\n",
       "      <td>76823.795349</td>\n",
       "      <td>76863.524984</td>\n",
       "      <td>76823.475016</td>\n",
       "      <td>76875.541640</td>\n",
       "      <td>76810.958360</td>\n",
       "      <td>76840.342384</td>\n",
       "      <td>76839.738254</td>\n",
       "      <td>76841.958251</td>\n",
       "      <td>76841.669152</td>\n",
       "      <td>...</td>\n",
       "      <td>-1414407.0</td>\n",
       "      <td>43.703103</td>\n",
       "      <td>43.141482</td>\n",
       "      <td>42.937414</td>\n",
       "      <td>43.025785</td>\n",
       "      <td>35.0</td>\n",
       "      <td>12</td>\n",
       "      <td>3</td>\n",
       "      <td>2</td>\n",
       "      <td>BUY</td>\n",
       "    </tr>\n",
       "    <tr>\n",
       "      <th>82667</th>\n",
       "      <td>76886.293765</td>\n",
       "      <td>76807.706235</td>\n",
       "      <td>76878.138584</td>\n",
       "      <td>76814.861416</td>\n",
       "      <td>76879.417530</td>\n",
       "      <td>76815.082470</td>\n",
       "      <td>76854.864856</td>\n",
       "      <td>76854.825503</td>\n",
       "      <td>76849.784024</td>\n",
       "      <td>76845.795899</td>\n",
       "      <td>...</td>\n",
       "      <td>-1407414.0</td>\n",
       "      <td>52.468735</td>\n",
       "      <td>47.617902</td>\n",
       "      <td>45.192629</td>\n",
       "      <td>44.374495</td>\n",
       "      <td>70.0</td>\n",
       "      <td>12</td>\n",
       "      <td>3</td>\n",
       "      <td>2</td>\n",
       "      <td>BUY</td>\n",
       "    </tr>\n",
       "    <tr>\n",
       "      <th>82668</th>\n",
       "      <td>76898.560994</td>\n",
       "      <td>76771.439006</td>\n",
       "      <td>76890.207883</td>\n",
       "      <td>76793.792117</td>\n",
       "      <td>76886.417341</td>\n",
       "      <td>76804.082659</td>\n",
       "      <td>76832.524862</td>\n",
       "      <td>76831.550335</td>\n",
       "      <td>76838.005110</td>\n",
       "      <td>76840.005813</td>\n",
       "      <td>...</td>\n",
       "      <td>-1414577.0</td>\n",
       "      <td>78.312490</td>\n",
       "      <td>61.348252</td>\n",
       "      <td>52.259910</td>\n",
       "      <td>48.655771</td>\n",
       "      <td>130.0</td>\n",
       "      <td>12</td>\n",
       "      <td>3</td>\n",
       "      <td>2</td>\n",
       "      <td>BUY</td>\n",
       "    </tr>\n",
       "  </tbody>\n",
       "</table>\n",
       "<p>79795 rows × 123 columns</p>\n",
       "</div>"
      ],
      "text/plain": [
       "       BBANDS_Upper_5  BBANDS_Lower_5  BBANDS_Upper_10  BBANDS_Lower_10  \\\n",
       "2874     50378.309519    50261.690481     50497.291502     50233.708498   \n",
       "2875     50356.614552    50271.385448     50497.291502     50233.708498   \n",
       "2876     50357.744230    50260.255770     50499.674891     50219.325109   \n",
       "2877     50352.923020    50249.076980     50475.710360     50209.289640   \n",
       "2878     50366.509358    50179.490642     50433.928992     50191.071008   \n",
       "...               ...             ...              ...              ...   \n",
       "82664    76859.248077    76826.751923     76876.500000     76822.500000   \n",
       "82665    76859.435596    76824.564404     76867.613344     76823.386656   \n",
       "82666    76858.204651    76823.795349     76863.524984     76823.475016   \n",
       "82667    76886.293765    76807.706235     76878.138584     76814.861416   \n",
       "82668    76898.560994    76771.439006     76890.207883     76793.792117   \n",
       "\n",
       "       BBANDS_Upper_20  BBANDS_Lower_20       DEMA_20   EMA_5_CLOSE  \\\n",
       "2874      50969.316517     50075.683483  50268.727226  50325.205919   \n",
       "2875      50873.822404     50101.177596  50273.919204  50328.470612   \n",
       "2876      50786.278237     50122.221763  50262.885100  50313.980408   \n",
       "2877      50711.656890     50139.843110  50254.576813  50302.653605   \n",
       "2878      50648.003968     50143.996032  50220.103436  50265.102404   \n",
       "...                ...              ...           ...           ...   \n",
       "82664     76875.787293     76808.712707  76843.797427  76841.911072   \n",
       "82665     76875.741540     76809.258460  76840.853637  76839.607381   \n",
       "82666     76875.541640     76810.958360  76840.342384  76839.738254   \n",
       "82667     76879.417530     76815.082470  76854.864856  76854.825503   \n",
       "82668     76886.417341     76804.082659  76832.524862  76831.550335   \n",
       "\n",
       "       EMA_10_CLOSE  EMA_20_CLOSE  ...        OBV       ATR_3       ATR_6  \\\n",
       "2874   50381.098425  50504.834778  ...  -165899.0  118.566120  105.950934   \n",
       "2875   50372.716893  50488.660037  ...  -164931.0  140.710746  119.125779   \n",
       "2876   50356.768367  50469.263843  ...  -165756.0  138.807164  121.771482   \n",
       "2877   50342.810482  50451.238715  ...  -166162.0  125.871443  118.142902   \n",
       "2878   50315.026758  50426.358837  ...  -167120.0  118.914295  115.952418   \n",
       "...             ...           ...  ...        ...         ...         ...   \n",
       "82664  76844.036400  76842.565363  ... -1431887.0   42.081982   41.723734   \n",
       "82665  76842.393418  76841.844852  ... -1421538.0   48.054655   44.769779   \n",
       "82666  76841.958251  76841.669152  ... -1414407.0   43.703103   43.141482   \n",
       "82667  76849.784024  76845.795899  ... -1407414.0   52.468735   47.617902   \n",
       "82668  76838.005110  76840.005813  ... -1414577.0   78.312490   61.348252   \n",
       "\n",
       "           ATR_12      ATR_20  TRANGE  MES  DIA_SEMANA  HORA_NOBRE  \\\n",
       "2874   106.052199  107.965299   235.0    1           4           0   \n",
       "2875   112.631182  111.817034   185.0    1           4           0   \n",
       "2876   114.495250  112.976182   135.0    1           4           0   \n",
       "2877   113.287313  112.327373   100.0    1           4           0   \n",
       "2878   112.596703  111.961004   105.0    1           4           0   \n",
       "...           ...         ...     ...  ...         ...         ...   \n",
       "82664   42.173451   42.577047    40.0   12           3           2   \n",
       "82665   43.658997   43.448194    60.0   12           3           2   \n",
       "82666   42.937414   43.025785    35.0   12           3           2   \n",
       "82667   45.192629   44.374495    70.0   12           3           2   \n",
       "82668   52.259910   48.655771   130.0   12           3           2   \n",
       "\n",
       "       TARGET_PERCENTAGE  \n",
       "2874                HOLD  \n",
       "2875                SELL  \n",
       "2876                SELL  \n",
       "2877                SELL  \n",
       "2878                SELL  \n",
       "...                  ...  \n",
       "82664               HOLD  \n",
       "82665               HOLD  \n",
       "82666                BUY  \n",
       "82667                BUY  \n",
       "82668                BUY  \n",
       "\n",
       "[79795 rows x 123 columns]"
      ]
     },
     "execution_count": 18,
     "metadata": {},
     "output_type": "execute_result"
    }
   ],
   "source": [
    "df_train"
   ]
  },
  {
   "cell_type": "code",
   "execution_count": 19,
   "metadata": {},
   "outputs": [],
   "source": [
    "def normalize(data):\n",
    "\n",
    "    scaler_x = StandardScaler()\n",
    "\n",
    "    x = data.iloc[:, :-2]\n",
    "    x = scaler_x.fit_transform(x) \n",
    "\n",
    "    y = data.iloc[:,-1]\n",
    "    y_list = np.array(y.to_list())\n",
    "\n",
    "    return x, y_list"
   ]
  },
  {
   "cell_type": "code",
   "execution_count": 20,
   "metadata": {},
   "outputs": [],
   "source": [
    "def get_train_valid_test_data(seq_len, df, amostragem):\n",
    "    print('df.shape: ', df.shape)\n",
    "    a=0\n",
    "    for i in range(len(df) - seq_len):\n",
    "        if df['TARGET_PERCENTAGE'][i+seq_len-1] == 'HOLD':\n",
    "            if amostragem[a] == 0:\n",
    "                df.drop((i+seq_len-1), axis=0, inplace=True) \n",
    "            a+=1\n",
    "\n",
    "    x, y = normalize(df)\n",
    "\n",
    "    return x, y"
   ]
  },
  {
   "cell_type": "code",
   "execution_count": 21,
   "metadata": {},
   "outputs": [],
   "source": [
    "def next_window(i, seq_len, df):\n",
    "    df = df[i:i+seq_len]\n",
    "    scaler_x = StandardScaler()\n",
    "    \n",
    "    x = df.iloc[:, :-2]\n",
    "    x = scaler_x.fit_transform(x) \n",
    "    \n",
    "    y = df.iloc[-1,-1]\n",
    "    # y_list = np.array(y.to_list())\n",
    "    \n",
    "    return x, y"
   ]
  },
  {
   "cell_type": "code",
   "execution_count": 22,
   "metadata": {},
   "outputs": [],
   "source": [
    "def get_train_valid_test_data_Slide_Window(seq_len, df, amostragem):\n",
    "    print('df.shape: ', df.shape)\n",
    "    a=0\n",
    "    data_x = []\n",
    "    data_y = []\n",
    "    for i in range(len(df) - seq_len):\n",
    "        if df['TARGET_PERCENTAGE'].iloc[i+seq_len-1] == 'HOLD':\n",
    "            if amostragem[a] == 1:    \n",
    "                x, y = next_window(i, seq_len, df)\n",
    "                data_x.append(x)\n",
    "                data_y.append(y)\n",
    "            a+=1\n",
    "        else:\n",
    "            x, y = next_window(i, seq_len, df)\n",
    "            data_x.append(x)\n",
    "            data_y.append(y)\n",
    "\n",
    "    return np.array(data_x), np.array(data_y)"
   ]
  },
  {
   "cell_type": "code",
   "execution_count": 23,
   "metadata": {},
   "outputs": [
    {
     "name": "stdout",
     "output_type": "stream",
     "text": [
      "df.shape:  (22139, 123)\n",
      "x_train:  (11503, 121)  | y_train:  (11503,)\n"
     ]
    }
   ],
   "source": [
    "df_train_reset_index = df_train[df_train['HORA_NOBRE'] == '1'].reset_index(drop=True)\n",
    "x_train, y_train = get_train_valid_test_data(seq_len=1, \n",
    "                                             df=df_train_reset_index, \n",
    "                                             amostragem=amostra_train)\n",
    "print('x_train: ', x_train.shape,' | y_train: ', y_train.shape)"
   ]
  },
  {
   "cell_type": "code",
   "execution_count": 24,
   "metadata": {},
   "outputs": [
    {
     "name": "stdout",
     "output_type": "stream",
     "text": [
      "df.shape:  (22139, 123)\n",
      "x_train_sw:  (11495, 20, 121)  | y_train_sw:  (11495,)\n"
     ]
    }
   ],
   "source": [
    "df_train_reset_index = df_train[df_train['HORA_NOBRE'] == '1'].reset_index(drop=True)\n",
    "x_train_sw, y_train_sw = get_train_valid_test_data_Slide_Window( seq_len=configs['dataset']['sequence_length'], \n",
    "                                                                 df=df_train_reset_index, \n",
    "                                                                 amostragem=amostra_train)\n",
    "print('x_train_sw: ', x_train_sw.shape,' | y_train_sw: ', y_train_sw.shape)"
   ]
  },
  {
   "cell_type": "code",
   "execution_count": 25,
   "metadata": {},
   "outputs": [
    {
     "name": "stdout",
     "output_type": "stream",
     "text": [
      "11503 11503\n",
      "11495 11495\n"
     ]
    }
   ],
   "source": [
    "print(len(x_train), len(y_train))\n",
    "print(len(x_train_sw), len(y_train_sw))"
   ]
  },
  {
   "cell_type": "code",
   "execution_count": 26,
   "metadata": {
    "scrolled": false
   },
   "outputs": [
    {
     "name": "stdout",
     "output_type": "stream",
     "text": [
      "df.shape:  (7320, 123)\n",
      "(3794, 121) (3794,)\n"
     ]
    }
   ],
   "source": [
    "df_valid_reset_index = df_valid[df_valid['HORA_NOBRE'] == '1'].reset_index(drop=True)\n",
    "x_valid, y_valid = get_train_valid_test_data( seq_len=1, \n",
    "                                              df=df_valid_reset_index, \n",
    "                                              amostragem=amostra_valid )\n",
    "print(x_valid.shape, y_valid.shape)"
   ]
  },
  {
   "cell_type": "code",
   "execution_count": 27,
   "metadata": {
    "scrolled": true
   },
   "outputs": [
    {
     "name": "stdout",
     "output_type": "stream",
     "text": [
      "df.shape:  (7320, 123)\n",
      "(3789, 20, 121) (3789,)\n"
     ]
    }
   ],
   "source": [
    "df_valid_reset_index = df_valid[df_valid['HORA_NOBRE'] == '1'].reset_index(drop=True)\n",
    "x_valid_sw, y_valid_sw = get_train_valid_test_data_Slide_Window( seq_len=configs['dataset']['sequence_length'], \n",
    "                                                                 df=df_valid_reset_index, \n",
    "                                                                 amostragem=amostra_valid )\n",
    "print(x_valid_sw.shape, y_valid_sw.shape)"
   ]
  },
  {
   "cell_type": "code",
   "execution_count": 28,
   "metadata": {},
   "outputs": [
    {
     "name": "stdout",
     "output_type": "stream",
     "text": [
      "df.shape:  (7410, 123)\n",
      "(3052, 121) (3052,)\n"
     ]
    }
   ],
   "source": [
    "df_test_reset_index = df_test[df_test['HORA_NOBRE'] == '1'].reset_index(drop=True)\n",
    "x_test, y_test = get_train_valid_test_data( seq_len=1, \n",
    "                                            df=df_test_reset_index, \n",
    "                                            amostragem=amostra_test )\n",
    "print(x_test.shape, y_test.shape)"
   ]
  },
  {
   "cell_type": "code",
   "execution_count": 29,
   "metadata": {},
   "outputs": [
    {
     "name": "stdout",
     "output_type": "stream",
     "text": [
      "y_test.size:  3052  | cont_buy:  1025  | cont_hold:  1048  | cont_sell:  979\n"
     ]
    }
   ],
   "source": [
    "cont_buy = 0\n",
    "cont_sell = 0\n",
    "cont_hold = 0\n",
    "for n in y_test:\n",
    "    if n == 'BUY':\n",
    "        cont_buy+=1\n",
    "    if n == 'HOLD':\n",
    "        cont_hold+=1\n",
    "    if n == 'SELL':\n",
    "        cont_sell+=1\n",
    "\n",
    "print('y_test.size: ', y_test.size, ' | cont_buy: ', cont_buy, ' | cont_hold: ', cont_hold, ' | cont_sell: ', cont_sell)"
   ]
  },
  {
   "cell_type": "code",
   "execution_count": 30,
   "metadata": {
    "scrolled": true
   },
   "outputs": [
    {
     "name": "stdout",
     "output_type": "stream",
     "text": [
      "df.shape:  (7410, 123)\n",
      "(3045, 20, 121) (3045,)\n"
     ]
    }
   ],
   "source": [
    "df_test_reset_index = df_test[df_test['HORA_NOBRE'] == '1'].reset_index(drop=True)\n",
    "x_test_sw, y_test_sw = get_train_valid_test_data_Slide_Window(   seq_len=configs['dataset']['sequence_length'], \n",
    "                                                                 df=df_test_reset_index, \n",
    "                                                                 amostragem=amostra_test)\n",
    "print(x_test_sw.shape, y_test_sw.shape)"
   ]
  },
  {
   "cell_type": "code",
   "execution_count": 31,
   "metadata": {},
   "outputs": [
    {
     "name": "stdout",
     "output_type": "stream",
     "text": [
      "y_test_sw.size:  3045  | cont_buy:  1021  | cont_hold:  1046  | cont_sell:  978\n"
     ]
    }
   ],
   "source": [
    "cont_buy = 0\n",
    "cont_sell = 0\n",
    "cont_hold = 0\n",
    "for n in y_test_sw:\n",
    "    if n == 'BUY':\n",
    "        cont_buy+=1\n",
    "    if n == 'HOLD':\n",
    "        cont_hold+=1\n",
    "    if n == 'SELL':\n",
    "        cont_sell+=1\n",
    "\n",
    "print('y_test_sw.size: ', y_test_sw.size, ' | cont_buy: ', cont_buy, ' | cont_hold: ', cont_hold, ' | cont_sell: ', cont_sell)"
   ]
  },
  {
   "cell_type": "code",
   "execution_count": null,
   "metadata": {},
   "outputs": [],
   "source": []
  },
  {
   "cell_type": "code",
   "execution_count": 32,
   "metadata": {
    "scrolled": false
   },
   "outputs": [
    {
     "name": "stdout",
     "output_type": "stream",
     "text": [
      "11503 11503\n",
      "11495 11495\n"
     ]
    }
   ],
   "source": [
    "print(len(x_train), len(y_train))\n",
    "print(len(x_train_sw), len(y_train_sw))"
   ]
  },
  {
   "cell_type": "code",
   "execution_count": null,
   "metadata": {},
   "outputs": [],
   "source": []
  },
  {
   "cell_type": "markdown",
   "metadata": {},
   "source": [
    "## Cálculo do Weighted F Score"
   ]
  },
  {
   "cell_type": "code",
   "execution_count": 33,
   "metadata": {},
   "outputs": [],
   "source": [
    "def weightedFScore(confusion_matrix):\n",
    "    beta_1 = math.pow(0.5, 2)\n",
    "    beta_2 = math.pow(0.25, 2)\n",
    "    beta_3 = math.pow(0.125, 2)\n",
    "    \n",
    "    num_tu = confusion_matrix[[0],[0]]\n",
    "    num_tf = confusion_matrix[[1],[1]]\n",
    "    num_td = confusion_matrix[[2],[2]]\n",
    "    \n",
    "    wrongF_trueU = confusion_matrix[[0],[1]]\n",
    "    wrongD_trueU = confusion_matrix[[0],[2]]\n",
    "    \n",
    "    wrongU_trueF = confusion_matrix[[1],[0]]\n",
    "    wrongD_trueF = confusion_matrix[[1],[2]]\n",
    "  \n",
    "    wrongU_trueD = confusion_matrix[[2],[0]]\n",
    "    wrongF_trueD = confusion_matrix[[2],[1]]\n",
    "    \n",
    "    num_tp = num_tu + num_td + (beta_3 * num_tf)\n",
    "    erro_tipo_1 = wrongU_trueD + wrongD_trueU\n",
    "    erro_tipo_2 = wrongU_trueF + wrongD_trueF\n",
    "    erro_tipo_3 = wrongF_trueU + wrongF_trueD\n",
    "    \n",
    "    num = (1 + beta_1 + beta_2) * num_tp\n",
    "    den = num + erro_tipo_1 + (beta_1 * erro_tipo_2) + (beta_2 * erro_tipo_3)\n",
    "    \n",
    "    wFScore = num / den\n",
    "    \n",
    "    return wFScore"
   ]
  },
  {
   "cell_type": "markdown",
   "metadata": {},
   "source": [
    "# Modelos"
   ]
  },
  {
   "cell_type": "code",
   "execution_count": 34,
   "metadata": {},
   "outputs": [],
   "source": [
    "import lightgbm as lgbm\n",
    "import seaborn as sns\n",
    "\n",
    "from sklearn.ensemble import RandomForestClassifier \n",
    "from sklearn.metrics import accuracy_score, confusion_matrix, classification_report"
   ]
  },
  {
   "cell_type": "markdown",
   "metadata": {},
   "source": [
    "## LightGBM"
   ]
  },
  {
   "cell_type": "code",
   "execution_count": 35,
   "metadata": {},
   "outputs": [
    {
     "name": "stdout",
     "output_type": "stream",
     "text": [
      "Accuracy Score - LightGBM:  0.41448230668414154\n",
      "              precision    recall  f1-score   support\n",
      "\n",
      "         BUY       0.39      0.40      0.40      1025\n",
      "        HOLD       0.46      0.51      0.48      1048\n",
      "        SELL       0.38      0.33      0.35       979\n",
      "\n",
      "    accuracy                           0.41      3052\n",
      "   macro avg       0.41      0.41      0.41      3052\n",
      "weighted avg       0.41      0.41      0.41      3052\n",
      "\n"
     ]
    }
   ],
   "source": [
    "model_lgbm = lgbm.LGBMClassifier(n_jobs=-1, random_state=0, n_estimators=5000, learning_rate=0.001, num_leaves=2**6,\n",
    "                                 subsample=0.9, subsample_freq=1, colsample_bytree=1.)\n",
    "\n",
    "model_lgbm.fit(x_train, y_train)\n",
    "predict_lgbm = model_lgbm.predict(x_test)\n",
    "\n",
    "accuracy_score_LGBM = accuracy_score(y_test, predict_lgbm)\n",
    "\n",
    "print('Accuracy Score - LightGBM: ', accuracy_score_LGBM)"
   ]
  },
  {
   "cell_type": "code",
   "execution_count": null,
   "metadata": {},
   "outputs": [],
   "source": [
    "print(classification_report(y_test, predict_lgbm))"
   ]
  },
  {
   "cell_type": "code",
   "execution_count": 36,
   "metadata": {
    "scrolled": false
   },
   "outputs": [
    {
     "data": {
      "text/plain": [
       "array([[411, 309, 305],\n",
       "       [290, 532, 226],\n",
       "       [341, 316, 322]], dtype=int64)"
      ]
     },
     "execution_count": 36,
     "metadata": {},
     "output_type": "execute_result"
    }
   ],
   "source": [
    "from sklearn.metrics import confusion_matrix\n",
    "confusion_matrix = confusion_matrix(y_test, predict_lgbm, labels=[\"BUY\", \"HOLD\", \"SELL\"])\n",
    "confusion_matrix"
   ]
  },
  {
   "cell_type": "code",
   "execution_count": 37,
   "metadata": {},
   "outputs": [
    {
     "name": "stdout",
     "output_type": "stream",
     "text": [
      "predict_lgbm.size:  3052  | cont_buy:  1042  | cont_hold:  1157  | cont_sell:  853\n"
     ]
    }
   ],
   "source": [
    "cont_buy = 0\n",
    "cont_sell = 0\n",
    "cont_hold = 0\n",
    "for n in predict_lgbm:\n",
    "    if n == 'BUY':\n",
    "        cont_buy+=1\n",
    "    if n == 'SELL':\n",
    "        cont_sell+=1\n",
    "    if n == 'HOLD':\n",
    "        cont_hold+=1\n",
    "\n",
    "print('predict_lgbm.size: ', predict_lgbm.size, ' | cont_buy: ', cont_buy, ' | cont_hold: ', cont_hold, ' | cont_sell: ', cont_sell)"
   ]
  },
  {
   "cell_type": "code",
   "execution_count": 38,
   "metadata": {},
   "outputs": [
    {
     "data": {
      "text/plain": [
       "<AxesSubplot:>"
      ]
     },
     "execution_count": 38,
     "metadata": {},
     "output_type": "execute_result"
    },
    {
     "data": {
      "image/png": "[encoded data removed]",
      "text/plain": [
       "<Figure size 432x288 with 2 Axes>"
      ]
     },
     "metadata": {
      "needs_background": "light"
     },
     "output_type": "display_data"
    }
   ],
   "source": [
    "# visualize confusion matrix with seaborn heatmap\n",
    "cm_matrix_LGBM = pd.DataFrame(data=confusion_matrix,\n",
    "                        columns=['BUY_P', 'HOLD_P', 'SELL_P'], \n",
    "                        index=['BUY_R', 'HOLD_R', 'SELL_R'])\n",
    "\n",
    "sns.heatmap(cm_matrix_LGBM, annot=True, fmt='d', cmap='YlGnBu')"
   ]
  },
  {
   "cell_type": "code",
   "execution_count": 39,
   "metadata": {},
   "outputs": [
    {
     "data": {
      "text/plain": [
       "0.5444619557970714"
      ]
     },
     "execution_count": 39,
     "metadata": {},
     "output_type": "execute_result"
    }
   ],
   "source": [
    "weightedFScore_LGBM = weightedFScore(confusion_matrix)[0] \n",
    "weightedFScore_LGBM"
   ]
  },
  {
   "cell_type": "markdown",
   "metadata": {},
   "source": [
    "### Compare train and test set accuracy"
   ]
  },
  {
   "cell_type": "code",
   "execution_count": 40,
   "metadata": {},
   "outputs": [],
   "source": [
    "#y_pred_train = model_lgbm.predict(x_train)\n",
    "#print('Training-set accuracy score: {0:0.4f}'. format(accuracy_score(y_train, y_pred_train)))"
   ]
  },
  {
   "cell_type": "markdown",
   "metadata": {},
   "source": [
    "### Check for Overfitting"
   ]
  },
  {
   "cell_type": "code",
   "execution_count": 41,
   "metadata": {},
   "outputs": [],
   "source": [
    "# print the scores on training and test set\n",
    "\n",
    "#print('Training set score: {:.4f}'.format(model_lgbm.score(x_train, y_train)))\n",
    "\n",
    "#print('Test set score: {:.4f}'.format(model_lgbm.score(x_test, y_test)))"
   ]
  },
  {
   "cell_type": "code",
   "execution_count": 42,
   "metadata": {},
   "outputs": [],
   "source": [
    "#print('Validation set score: {:.4f}'.format(model_lgbm.score(x_valid, y_valid)))"
   ]
  },
  {
   "cell_type": "markdown",
   "metadata": {},
   "source": [
    "## Random Forest"
   ]
  },
  {
   "cell_type": "code",
   "execution_count": 43,
   "metadata": {},
   "outputs": [
    {
     "name": "stdout",
     "output_type": "stream",
     "text": [
      "Accuracy Score - Random Forest:  0.4272608125819135\n"
     ]
    }
   ],
   "source": [
    "model_randomF = RandomForestClassifier(n_jobs=-1, random_state=0, n_estimators=5000)\n",
    "model_randomF.fit(x_train, y_train)\n",
    "predict_randomF = model_randomF.predict(x_test)\n",
    "\n",
    "accuracy_score_RF = accuracy_score(y_test, predict_randomF)\n",
    "print('Accuracy Score - Random Forest: ', accuracy_score_RF)"
   ]
  },
  {
   "cell_type": "code",
   "execution_count": 44,
   "metadata": {
    "scrolled": false
   },
   "outputs": [
    {
     "name": "stdout",
     "output_type": "stream",
     "text": [
      "              precision    recall  f1-score   support\n",
      "\n",
      "         BUY       0.40      0.40      0.40      1025\n",
      "        HOLD       0.47      0.49      0.48      1048\n",
      "        SELL       0.41      0.39      0.40       979\n",
      "\n",
      "    accuracy                           0.43      3052\n",
      "   macro avg       0.43      0.43      0.43      3052\n",
      "weighted avg       0.43      0.43      0.43      3052\n",
      "\n"
     ]
    }
   ],
   "source": [
    "print(classification_report(y_test, predict_randomF))"
   ]
  },
  {
   "cell_type": "code",
   "execution_count": 45,
   "metadata": {
    "scrolled": true
   },
   "outputs": [
    {
     "data": {
      "text/plain": [
       "array([[407, 298, 320],\n",
       "       [301, 512, 235],\n",
       "       [314, 280, 385]], dtype=int64)"
      ]
     },
     "execution_count": 45,
     "metadata": {},
     "output_type": "execute_result"
    }
   ],
   "source": [
    "from sklearn.metrics import confusion_matrix\n",
    "confusion_matrix = confusion_matrix(y_test, predict_randomF, labels=[\"BUY\", \"HOLD\", \"SELL\"])\n",
    "confusion_matrix"
   ]
  },
  {
   "cell_type": "code",
   "execution_count": 46,
   "metadata": {},
   "outputs": [
    {
     "name": "stdout",
     "output_type": "stream",
     "text": [
      "predict_randomF.size:  3052  | cont_buy:  1022  | cont_hold:  1090  | cont_sell:  940\n"
     ]
    }
   ],
   "source": [
    "cont_buy = 0\n",
    "cont_sell = 0\n",
    "cont_hold = 0\n",
    "for n in predict_randomF:\n",
    "    if n == 'BUY':\n",
    "        cont_buy+=1\n",
    "    if n == 'SELL':\n",
    "        cont_sell+=1\n",
    "    if n == 'HOLD':\n",
    "        cont_hold+=1\n",
    "\n",
    "print('predict_randomF.size: ', predict_randomF.size, ' | cont_buy: ', cont_buy, ' | cont_hold: ', cont_hold, ' | cont_sell: ', cont_sell)"
   ]
  },
  {
   "cell_type": "code",
   "execution_count": 47,
   "metadata": {},
   "outputs": [
    {
     "data": {
      "text/plain": [
       "<AxesSubplot:>"
      ]
     },
     "execution_count": 47,
     "metadata": {},
     "output_type": "execute_result"
    },
    {
     "data": {
      "image/png": "[encoded data removed]",
      "text/plain": [
       "<Figure size 432x288 with 2 Axes>"
      ]
     },
     "metadata": {
      "needs_background": "light"
     },
     "output_type": "display_data"
    }
   ],
   "source": [
    "# visualize confusion matrix with seaborn heatmap\n",
    "cm_matrix_RF = pd.DataFrame(data=confusion_matrix,\n",
    "                        columns=['BUY_P', 'HOLD_P', 'SELL_P'], \n",
    "                        index=['BUY_R', 'HOLD_R', 'SELL_R'])\n",
    "\n",
    "sns.heatmap(cm_matrix_RF, annot=True, fmt='d', cmap='YlGnBu')"
   ]
  },
  {
   "cell_type": "code",
   "execution_count": 48,
   "metadata": {},
   "outputs": [
    {
     "data": {
      "text/plain": [
       "0.5663048607833884"
      ]
     },
     "execution_count": 48,
     "metadata": {},
     "output_type": "execute_result"
    }
   ],
   "source": [
    "weightedFScore_RF = weightedFScore(confusion_matrix)[0] \n",
    "weightedFScore_RF"
   ]
  },
  {
   "cell_type": "markdown",
   "metadata": {},
   "source": [
    "### Compare train and test set accuracy"
   ]
  },
  {
   "cell_type": "code",
   "execution_count": 49,
   "metadata": {},
   "outputs": [],
   "source": [
    "#y_pred_train = model_randomF.predict(x_train)\n",
    "#print('Training-set accuracy score: {0:0.4f}'. format(accuracy_score(y_train, y_pred_train)))"
   ]
  },
  {
   "cell_type": "markdown",
   "metadata": {},
   "source": [
    "### Check for Overfitting"
   ]
  },
  {
   "cell_type": "code",
   "execution_count": 50,
   "metadata": {},
   "outputs": [],
   "source": [
    "# print the scores on training and test set\n",
    "\n",
    "#print('Training set score: {:.4f}'.format(model_randomF.score(x_train, y_train)))\n",
    "\n",
    "#print('Test set score: {:.4f}'.format(model_randomF.score(x_test, y_test)))"
   ]
  },
  {
   "cell_type": "code",
   "execution_count": 51,
   "metadata": {},
   "outputs": [],
   "source": [
    "#print('Validation set score: {:.4f}'.format(model_randomF.score(x_valid, y_valid)))"
   ]
  },
  {
   "cell_type": "markdown",
   "metadata": {},
   "source": [
    "# Deep Learning"
   ]
  },
  {
   "cell_type": "code",
   "execution_count": 52,
   "metadata": {},
   "outputs": [
    {
     "name": "stderr",
     "output_type": "stream",
     "text": [
      "Using TensorFlow backend.\n"
     ]
    }
   ],
   "source": [
    "# Encoding categorical data\n",
    "from keras.utils import to_categorical\n",
    "from sklearn.preprocessing import LabelEncoder\n",
    "\n",
    "def encode_categ_data(data):\n",
    "    labelencoder = LabelEncoder()\n",
    "    x = labelencoder.fit_transform(data)\n",
    "    data_encoded = to_categorical(x)\n",
    "    \n",
    "    #print(data[10:20])\n",
    "    #print(data_encoded[10:20])\n",
    "    \n",
    "    return data_encoded"
   ]
  },
  {
   "cell_type": "code",
   "execution_count": 53,
   "metadata": {},
   "outputs": [],
   "source": [
    "# example of training a final classification model\n",
    "from keras.models import Sequential, load_model\n",
    "from core.utils import Timer\n",
    "from keras.layers import Dense, Dropout, LSTM, GRU\n",
    "from keras.callbacks import EarlyStopping, ModelCheckpoint\n",
    "from keras.optimizers import SGD, Adam\n",
    "dim = x_train.shape[1]"
   ]
  },
  {
   "cell_type": "markdown",
   "metadata": {},
   "source": [
    "## DNN"
   ]
  },
  {
   "cell_type": "code",
   "execution_count": 54,
   "metadata": {
    "scrolled": true
   },
   "outputs": [
    {
     "name": "stdout",
     "output_type": "stream",
     "text": [
      "WARNING:tensorflow:From C:\\Users\\auW10\\Anaconda3\\envs\\phd\\lib\\site-packages\\tensorflow_core\\python\\ops\\resource_variable_ops.py:1630: calling BaseResourceVariable.__init__ (from tensorflow.python.ops.resource_variable_ops) with constraint is deprecated and will be removed in a future version.\n",
      "Instructions for updating:\n",
      "If using Keras pass *_constraint arguments to layers.\n",
      "[model] Model Compiled\n",
      "Time taken: 0:00:00.662230\n"
     ]
    }
   ],
   "source": [
    "# define and fit the final model\n",
    "timer = Timer()\n",
    "timer.start()\n",
    "\n",
    "model_dnn = Sequential()\n",
    "\n",
    "model_dnn.add(Dense(100, input_dim=dim, activation='relu'))\n",
    "model_dnn.add(Dropout(0.2))\n",
    "model_dnn.add(Dense(75, activation='relu'))\n",
    "model_dnn.add(Dropout(0.4))\n",
    "model_dnn.add(Dense(50, activation='relu'))\n",
    "model_dnn.add(Dropout(0.5))\n",
    "model_dnn.add(Dense(25, activation='relu'))\n",
    "model_dnn.add(Dropout(0.2))\n",
    "model_dnn.add(Dense(3, activation='softmax'))\n",
    "\n",
    "model_dnn.compile(loss='categorical_crossentropy', optimizer='adam', metrics=['accuracy'])\n",
    "\n",
    "print('[model] Model Compiled')\n",
    "#print(model_dnn.summary())\n",
    "timer.stop()\n"
   ]
  },
  {
   "cell_type": "code",
   "execution_count": 55,
   "metadata": {
    "scrolled": true
   },
   "outputs": [
    {
     "data": {
      "text/plain": [
       "\"# define and fit the final model\\ntimer = Timer()\\ntimer.start()\\n\\nmodel_dnn = Sequential()\\n\\nmodel_dnn.add(Dense(100, input_dim=dim, activation='relu'))\\nmodel_dnn.add(Dropout(0.2))\\nmodel_dnn.add(Dense(50, activation='relu'))\\nmodel_dnn.add(Dropout(0.3))\\nmodel_dnn.add(Dense(30, activation='relu'))\\nmodel_dnn.add(Dropout(0.3))\\nmodel_dnn.add(Dense(15, activation='relu'))\\nmodel_dnn.add(Dropout(0.2))\\nmodel_dnn.add(Dense(3, activation='softmax'))\\n\\nmodel_dnn.compile(loss='categorical_crossentropy', optimizer='adam', metrics=['accuracy'])\\n\\nprint('[model] Model Compiled')\\n#print(model_dnn.summary())\\ntimer.stop()\\n\""
      ]
     },
     "execution_count": 55,
     "metadata": {},
     "output_type": "execute_result"
    }
   ],
   "source": [
    "'''# define and fit the final model\n",
    "timer = Timer()\n",
    "timer.start()\n",
    "\n",
    "model_dnn = Sequential()\n",
    "\n",
    "model_dnn.add(Dense(100, input_dim=dim, activation='relu'))\n",
    "model_dnn.add(Dropout(0.2))\n",
    "model_dnn.add(Dense(50, activation='relu'))\n",
    "model_dnn.add(Dropout(0.3))\n",
    "model_dnn.add(Dense(30, activation='relu'))\n",
    "model_dnn.add(Dropout(0.3))\n",
    "model_dnn.add(Dense(15, activation='relu'))\n",
    "model_dnn.add(Dropout(0.2))\n",
    "model_dnn.add(Dense(3, activation='softmax'))\n",
    "\n",
    "model_dnn.compile(loss='categorical_crossentropy', optimizer='adam', metrics=['accuracy'])\n",
    "\n",
    "print('[model] Model Compiled')\n",
    "#print(model_dnn.summary())\n",
    "timer.stop()\n",
    "'''"
   ]
  },
  {
   "cell_type": "code",
   "execution_count": 56,
   "metadata": {
    "scrolled": true
   },
   "outputs": [
    {
     "name": "stdout",
     "output_type": "stream",
     "text": [
      "[Model] Training Started\n",
      "WARNING:tensorflow:From C:\\Users\\auW10\\Anaconda3\\envs\\phd\\lib\\site-packages\\keras\\backend\\tensorflow_backend.py:422: The name tf.global_variables is deprecated. Please use tf.compat.v1.global_variables instead.\n",
      "\n",
      "Train on 11503 samples, validate on 3794 samples\n",
      "Epoch 1/50\n",
      "11503/11503 [==============================] - 5s 444us/step - loss: 1.1250 - accuracy: 0.3459 - val_loss: 1.0888 - val_accuracy: 0.3882\n",
      "Epoch 2/50\n",
      "11503/11503 [==============================] - 3s 275us/step - loss: 1.0918 - accuracy: 0.3796 - val_loss: 1.0863 - val_accuracy: 0.3822\n",
      "Epoch 3/50\n",
      "11503/11503 [==============================] - 3s 271us/step - loss: 1.0836 - accuracy: 0.3862 - val_loss: 1.0825 - val_accuracy: 0.3735\n",
      "Epoch 4/50\n",
      "11503/11503 [==============================] - 3s 250us/step - loss: 1.0798 - accuracy: 0.3989 - val_loss: 1.0784 - val_accuracy: 0.3838\n",
      "Epoch 5/50\n",
      "11503/11503 [==============================] - 3s 268us/step - loss: 1.0811 - accuracy: 0.3847 - val_loss: 1.0777 - val_accuracy: 0.3996\n",
      "Epoch 6/50\n",
      "11503/11503 [==============================] - 3s 248us/step - loss: 1.0759 - accuracy: 0.3900 - val_loss: 1.0762 - val_accuracy: 0.3951\n",
      "Epoch 7/50\n",
      "11503/11503 [==============================] - 3s 246us/step - loss: 1.0736 - accuracy: 0.4029 - val_loss: 1.0759 - val_accuracy: 0.3827\n",
      "Epoch 8/50\n",
      "11503/11503 [==============================] - 3s 242us/step - loss: 1.0719 - accuracy: 0.4067 - val_loss: 1.0732 - val_accuracy: 0.3838\n",
      "Epoch 9/50\n",
      "11503/11503 [==============================] - 3s 238us/step - loss: 1.0725 - accuracy: 0.4083 - val_loss: 1.0768 - val_accuracy: 0.3948\n",
      "Epoch 10/50\n",
      "11503/11503 [==============================] - 3s 242us/step - loss: 1.0669 - accuracy: 0.4093 - val_loss: 1.0734 - val_accuracy: 0.3853\n",
      "Epoch 11/50\n",
      "11503/11503 [==============================] - 3s 254us/step - loss: 1.0671 - accuracy: 0.4075 - val_loss: 1.0765 - val_accuracy: 0.3840\n",
      "Epoch 12/50\n",
      "11503/11503 [==============================] - 3s 264us/step - loss: 1.0653 - accuracy: 0.4143 - val_loss: 1.0717 - val_accuracy: 0.3917\n",
      "Epoch 13/50\n",
      "11503/11503 [==============================] - 3s 253us/step - loss: 1.0688 - accuracy: 0.4087 - val_loss: 1.0754 - val_accuracy: 0.3993\n",
      "Epoch 14/50\n",
      "11503/11503 [==============================] - 3s 256us/step - loss: 1.0682 - accuracy: 0.4090 - val_loss: 1.0767 - val_accuracy: 0.3880\n",
      "Epoch 15/50\n",
      "11503/11503 [==============================] - 4s 329us/step - loss: 1.0655 - accuracy: 0.4125 - val_loss: 1.0771 - val_accuracy: 0.3853\n",
      "Epoch 16/50\n",
      "11503/11503 [==============================] - 6s 527us/step - loss: 1.0630 - accuracy: 0.4128 - val_loss: 1.0780 - val_accuracy: 0.3859\n",
      "Epoch 17/50\n",
      "11503/11503 [==============================] - 3s 264us/step - loss: 1.0636 - accuracy: 0.4136 - val_loss: 1.0743 - val_accuracy: 0.3819\n",
      "Epoch 18/50\n",
      "11503/11503 [==============================] - 3s 249us/step - loss: 1.0639 - accuracy: 0.4148 - val_loss: 1.0759 - val_accuracy: 0.3896\n",
      "Epoch 19/50\n",
      "11503/11503 [==============================] - 3s 287us/step - loss: 1.0629 - accuracy: 0.4206 - val_loss: 1.0772 - val_accuracy: 0.3869\n",
      "Epoch 20/50\n",
      "11503/11503 [==============================] - 3s 264us/step - loss: 1.0633 - accuracy: 0.4133 - val_loss: 1.0764 - val_accuracy: 0.3904\n",
      "Epoch 21/50\n",
      "11503/11503 [==============================] - 3s 267us/step - loss: 1.0607 - accuracy: 0.4163 - val_loss: 1.0803 - val_accuracy: 0.3840\n",
      "Epoch 22/50\n",
      "11503/11503 [==============================] - 3s 246us/step - loss: 1.0601 - accuracy: 0.4197 - val_loss: 1.0774 - val_accuracy: 0.3869\n",
      "Epoch 23/50\n",
      "11503/11503 [==============================] - 3s 250us/step - loss: 1.0622 - accuracy: 0.4168 - val_loss: 1.0768 - val_accuracy: 0.3856\n",
      "Epoch 24/50\n",
      "11503/11503 [==============================] - 3s 239us/step - loss: 1.0590 - accuracy: 0.4209 - val_loss: 1.0749 - val_accuracy: 0.3922\n",
      "Epoch 25/50\n",
      "11503/11503 [==============================] - 3s 251us/step - loss: 1.0588 - accuracy: 0.4224 - val_loss: 1.0787 - val_accuracy: 0.3975\n",
      "Epoch 26/50\n",
      "11503/11503 [==============================] - 3s 261us/step - loss: 1.0611 - accuracy: 0.4179 - val_loss: 1.0748 - val_accuracy: 0.3977\n",
      "Epoch 27/50\n",
      "11503/11503 [==============================] - 3s 247us/step - loss: 1.0603 - accuracy: 0.4165 - val_loss: 1.0742 - val_accuracy: 0.3962\n",
      "Epoch 28/50\n",
      "11503/11503 [==============================] - 3s 237us/step - loss: 1.0586 - accuracy: 0.4168 - val_loss: 1.0737 - val_accuracy: 0.3875\n",
      "Epoch 29/50\n",
      "11503/11503 [==============================] - 3s 247us/step - loss: 1.0564 - accuracy: 0.4241 - val_loss: 1.0764 - val_accuracy: 0.3956\n",
      "Epoch 30/50\n",
      "11503/11503 [==============================] - 3s 282us/step - loss: 1.0558 - accuracy: 0.4199 - val_loss: 1.0733 - val_accuracy: 0.3988\n",
      "Epoch 31/50\n",
      "11503/11503 [==============================] - 3s 284us/step - loss: 1.0536 - accuracy: 0.4230 - val_loss: 1.0752 - val_accuracy: 0.3983\n",
      "Epoch 32/50\n",
      "11503/11503 [==============================] - 3s 249us/step - loss: 1.0546 - accuracy: 0.4190 - val_loss: 1.0763 - val_accuracy: 0.4064\n",
      "Epoch 33/50\n",
      "11503/11503 [==============================] - 3s 240us/step - loss: 1.0531 - accuracy: 0.4231 - val_loss: 1.0760 - val_accuracy: 0.3906\n",
      "Epoch 34/50\n",
      "11503/11503 [==============================] - 3s 238us/step - loss: 1.0542 - accuracy: 0.4262 - val_loss: 1.0788 - val_accuracy: 0.3772\n",
      "Epoch 35/50\n",
      "11503/11503 [==============================] - 3s 263us/step - loss: 1.0472 - accuracy: 0.4287 - val_loss: 1.0804 - val_accuracy: 0.3867\n",
      "Epoch 36/50\n",
      "11503/11503 [==============================] - 3s 244us/step - loss: 1.0531 - accuracy: 0.4223 - val_loss: 1.0765 - val_accuracy: 0.3938\n",
      "Epoch 37/50\n",
      "11503/11503 [==============================] - 3s 239us/step - loss: 1.0500 - accuracy: 0.4325 - val_loss: 1.0764 - val_accuracy: 0.4054\n",
      "Epoch 38/50\n",
      "11503/11503 [==============================] - 3s 237us/step - loss: 1.0519 - accuracy: 0.4229 - val_loss: 1.0754 - val_accuracy: 0.4051\n",
      "Epoch 39/50\n",
      "11503/11503 [==============================] - 3s 245us/step - loss: 1.0502 - accuracy: 0.4273 - val_loss: 1.0780 - val_accuracy: 0.3972\n",
      "Epoch 40/50\n",
      "11503/11503 [==============================] - 3s 275us/step - loss: 1.0488 - accuracy: 0.4287 - val_loss: 1.0747 - val_accuracy: 0.4067\n",
      "Epoch 41/50\n",
      "11503/11503 [==============================] - 3s 235us/step - loss: 1.0494 - accuracy: 0.4232 - val_loss: 1.0792 - val_accuracy: 0.4120\n",
      "Epoch 42/50\n",
      "11503/11503 [==============================] - 3s 252us/step - loss: 1.0454 - accuracy: 0.4340 - val_loss: 1.0779 - val_accuracy: 0.3991\n",
      "Epoch 43/50\n",
      "11503/11503 [==============================] - 3s 271us/step - loss: 1.0459 - accuracy: 0.4341 - val_loss: 1.0789 - val_accuracy: 0.3996\n",
      "Epoch 44/50\n",
      "11503/11503 [==============================] - 3s 248us/step - loss: 1.0474 - accuracy: 0.4361 - val_loss: 1.0803 - val_accuracy: 0.4020\n",
      "Epoch 45/50\n",
      "11503/11503 [==============================] - 3s 260us/step - loss: 1.0439 - accuracy: 0.4329 - val_loss: 1.0787 - val_accuracy: 0.4083\n",
      "Epoch 46/50\n",
      "11503/11503 [==============================] - 3s 238us/step - loss: 1.0424 - accuracy: 0.4326 - val_loss: 1.0801 - val_accuracy: 0.4020\n",
      "Epoch 47/50\n",
      "11503/11503 [==============================] - 3s 258us/step - loss: 1.0436 - accuracy: 0.4378 - val_loss: 1.0834 - val_accuracy: 0.3938\n",
      "Epoch 48/50\n",
      "11503/11503 [==============================] - 3s 247us/step - loss: 1.0442 - accuracy: 0.4299 - val_loss: 1.0829 - val_accuracy: 0.4014\n",
      "Epoch 49/50\n",
      "11503/11503 [==============================] - 3s 247us/step - loss: 1.0391 - accuracy: 0.4343 - val_loss: 1.0820 - val_accuracy: 0.4022\n",
      "Epoch 50/50\n",
      "11503/11503 [==============================] - 3s 234us/step - loss: 1.0380 - accuracy: 0.4385 - val_loss: 1.0784 - val_accuracy: 0.4051\n",
      "[Model] Training Completed.\n",
      "Model saved as saved_models\\prototipo_ciclo1_multiclass_jupyter_DNN.h5\n",
      "Time taken: 0:02:41.664977\n"
     ]
    }
   ],
   "source": [
    "timer = Timer()\n",
    "timer.start()\n",
    "print('[Model] Training Started')\n",
    "\n",
    "save_dir=configs['model']['save_dir']\n",
    "my_model=configs['model']['model_name']\n",
    "save_fname = os.path.join(save_dir, '%s_DNN.h5' % my_model)\n",
    "\n",
    "batch_size=configs['training']['batch_size']\n",
    "\n",
    "callbacks = [ ModelCheckpoint(filepath=save_fname, monitor='loss', save_best_only=True)]\n",
    "\n",
    "y_train_enc = encode_categ_data(y_train)\n",
    "y_valid_enc = encode_categ_data(y_valid)\n",
    "H = model_dnn.fit( x_train, y_train_enc, validation_data=(x_valid, y_valid_enc), epochs=50, \n",
    "               callbacks=callbacks, workers=1 )\n",
    "\n",
    "model_dnn.save(save_fname)\n",
    "\n",
    "print('[Model] Training Completed.')\n",
    "print('Model saved as %s' % save_fname)\n",
    "\n",
    "timer.stop()"
   ]
  },
  {
   "cell_type": "code",
   "execution_count": 57,
   "metadata": {},
   "outputs": [
    {
     "data": {
      "text/plain": [
       "array([[0.36927798, 0.27027845, 0.36044353],\n",
       "       [0.37483332, 0.25789678, 0.3672699 ],\n",
       "       [0.3733418 , 0.26414427, 0.3625139 ],\n",
       "       ...,\n",
       "       [0.2827872 , 0.39850748, 0.31870535],\n",
       "       [0.28054   , 0.40084222, 0.31861782],\n",
       "       [0.29050112, 0.3867423 , 0.32275662]], dtype=float32)"
      ]
     },
     "execution_count": 57,
     "metadata": {},
     "output_type": "execute_result"
    }
   ],
   "source": [
    "# new instances where we do not know the answer\n",
    "y_pred = model_dnn.predict(x_test) \n",
    "y_pred"
   ]
  },
  {
   "cell_type": "code",
   "execution_count": 58,
   "metadata": {},
   "outputs": [
    {
     "name": "stdout",
     "output_type": "stream",
     "text": [
      "dict_keys(['val_loss', 'val_accuracy', 'loss', 'accuracy'])\n"
     ]
    },
    {
     "data": {
      "image/png": "[encoded data removed]",
      "text/plain": [
       "<Figure size 432x288 with 1 Axes>"
      ]
     },
     "metadata": {
      "needs_background": "light"
     },
     "output_type": "display_data"
    },
    {
     "data": {
      "image/png": "[encoded data removed]",
      "text/plain": [
       "<Figure size 432x288 with 1 Axes>"
      ]
     },
     "metadata": {
      "needs_background": "light"
     },
     "output_type": "display_data"
    }
   ],
   "source": [
    "# list all data in history       \n",
    "print(H.history.keys())\n",
    "# summarize history for accuracy\n",
    "plt.plot(H.history['accuracy'])\n",
    "plt.plot(H.history['val_accuracy'])\n",
    "plt.title('model accuracy')\n",
    "plt.ylabel('accuracy')\n",
    "plt.xlabel('epoch')\n",
    "plt.legend(['accuracy', 'val_accuracy'], loc='upper left')\n",
    "fig_path = 'accuracy_history.png'\n",
    "plt.savefig(fig_path)     \n",
    "plt.show()\n",
    "\n",
    "# summarize history for loss\n",
    "plt.plot(H.history['loss'])\n",
    "plt.plot(H.history['val_loss'])\n",
    "plt.title('model loss')\n",
    "plt.ylabel('loss')\n",
    "plt.xlabel('epoch')\n",
    "plt.legend(['loss', 'val_loss'], loc='upper left')\n",
    "fig_path = 'loss_history.png'\n",
    "plt.savefig(fig_path) \n",
    "plt.show()"
   ]
  },
  {
   "cell_type": "code",
   "execution_count": 59,
   "metadata": {},
   "outputs": [],
   "source": [
    "# BUY | SELL | HOLD\n",
    "\n",
    "labels = ['BUY', 'HOLD', 'SELL'] \n",
    "\n",
    "pred = []\n",
    "for i in y_pred:\n",
    "    pred.append(np.argmax(i))\n",
    "pred_array = np.array(pred)       \n",
    "\n",
    "real = []\n",
    "y_test_enc = encode_categ_data(y_test)\n",
    "for i in y_test_enc:\n",
    "    real.append(np.argmax(i))\n",
    "real_array = np.array(real)    "
   ]
  },
  {
   "cell_type": "code",
   "execution_count": 60,
   "metadata": {},
   "outputs": [
    {
     "name": "stdout",
     "output_type": "stream",
     "text": [
      "[[0.37619248 0.25996074 0.36384678]\n",
      " [0.3823977  0.24850424 0.36909807]\n",
      " [0.33057496 0.33106837 0.33835664]\n",
      " [0.33824003 0.31959894 0.342161  ]\n",
      " [0.32876483 0.33069804 0.3405371 ]\n",
      " [0.36385778 0.27742064 0.35872155]\n",
      " [0.34068742 0.31401154 0.34530103]\n",
      " [0.34013984 0.31117484 0.34868532]\n",
      " [0.44397315 0.20729375 0.34873304]\n",
      " [0.37396917 0.26328817 0.3627427 ]]\n",
      "[[0. 1. 0.]\n",
      " [0. 1. 0.]\n",
      " [0. 1. 0.]\n",
      " [1. 0. 0.]\n",
      " [0. 1. 0.]\n",
      " [1. 0. 0.]\n",
      " [1. 0. 0.]\n",
      " [1. 0. 0.]\n",
      " [0. 0. 1.]\n",
      " [1. 0. 0.]]\n"
     ]
    }
   ],
   "source": [
    "print(y_pred[10:20])\n",
    "print(y_test_enc[10:20])"
   ]
  },
  {
   "cell_type": "code",
   "execution_count": 61,
   "metadata": {},
   "outputs": [
    {
     "name": "stdout",
     "output_type": "stream",
     "text": [
      "[0 0 2 2 2 0 2 2 0 0]\n",
      "[1 1 1 0 1 0 0 0 2 0]\n"
     ]
    }
   ],
   "source": [
    "print(pred_array[10:20])\n",
    "print(real_array[10:20])"
   ]
  },
  {
   "cell_type": "code",
   "execution_count": 62,
   "metadata": {},
   "outputs": [
    {
     "name": "stdout",
     "output_type": "stream",
     "text": [
      "Accuracy Score - DL:  0.4069462647444299\n"
     ]
    }
   ],
   "source": [
    "accuracy_score_DNN = accuracy_score(real_array, pred_array)\n",
    "print('Accuracy Score - DL: ', accuracy_score_DNN)"
   ]
  },
  {
   "cell_type": "code",
   "execution_count": 63,
   "metadata": {},
   "outputs": [
    {
     "name": "stdout",
     "output_type": "stream",
     "text": [
      "              precision    recall  f1-score   support\n",
      "\n",
      "           0       0.39      0.52      0.44      1025\n",
      "           1       0.46      0.53      0.49      1048\n",
      "           2       0.33      0.16      0.22       979\n",
      "\n",
      "    accuracy                           0.41      3052\n",
      "   macro avg       0.39      0.40      0.38      3052\n",
      "weighted avg       0.39      0.41      0.39      3052\n",
      "\n"
     ]
    }
   ],
   "source": [
    "print(classification_report(real_array, pred_array))"
   ]
  },
  {
   "cell_type": "code",
   "execution_count": 64,
   "metadata": {
    "scrolled": true
   },
   "outputs": [
    {
     "data": {
      "text/plain": [
       "array([[529, 323, 173],\n",
       "       [349, 554, 145],\n",
       "       [489, 331, 159]], dtype=int64)"
      ]
     },
     "execution_count": 64,
     "metadata": {},
     "output_type": "execute_result"
    }
   ],
   "source": [
    "from sklearn.metrics import confusion_matrix\n",
    "confusion_matrix = confusion_matrix(real_array, pred_array)\n",
    "confusion_matrix"
   ]
  },
  {
   "cell_type": "code",
   "execution_count": 65,
   "metadata": {},
   "outputs": [
    {
     "name": "stdout",
     "output_type": "stream",
     "text": [
      "real_array.size:  3052  | cont_buy:  1025  | cont_hold:  1048  | cont_sell:  979\n"
     ]
    }
   ],
   "source": [
    "cont_buy = 0\n",
    "cont_sell = 0\n",
    "cont_hold = 0\n",
    "for n in real_array:\n",
    "    if n == 0:\n",
    "        cont_buy+=1\n",
    "    if n == 1:\n",
    "        cont_hold+=1\n",
    "    if n == 2:\n",
    "        cont_sell+=1\n",
    "\n",
    "print('real_array.size: ', real_array.size, ' | cont_buy: ', cont_buy, ' | cont_hold: ', cont_hold, ' | cont_sell: ', cont_sell)"
   ]
  },
  {
   "cell_type": "code",
   "execution_count": 66,
   "metadata": {},
   "outputs": [
    {
     "name": "stdout",
     "output_type": "stream",
     "text": [
      "pred_array.size:  3052  | cont_buy:  1367  | cont_hold:  1208  | cont_sell:  477\n"
     ]
    }
   ],
   "source": [
    "cont_buy = 0\n",
    "cont_sell = 0\n",
    "cont_hold = 0\n",
    "for n in pred_array:\n",
    "    if n == 0:\n",
    "        cont_buy+=1\n",
    "    if n == 1:\n",
    "        cont_hold+=1\n",
    "    if n == 2:\n",
    "        cont_sell+=1\n",
    "\n",
    "print('pred_array.size: ', pred_array.size, ' | cont_buy: ', cont_buy, ' | cont_hold: ', cont_hold, ' | cont_sell: ', cont_sell)"
   ]
  },
  {
   "cell_type": "code",
   "execution_count": 67,
   "metadata": {},
   "outputs": [
    {
     "data": {
      "text/plain": [
       "<AxesSubplot:>"
      ]
     },
     "execution_count": 67,
     "metadata": {},
     "output_type": "execute_result"
    },
    {
     "data": {
      "image/png": "[encoded data removed]",
      "text/plain": [
       "<Figure size 432x288 with 2 Axes>"
      ]
     },
     "metadata": {
      "needs_background": "light"
     },
     "output_type": "display_data"
    }
   ],
   "source": [
    "# visualize confusion matrix with seaborn heatmap\n",
    "cm_matrix_DNN = pd.DataFrame(data=confusion_matrix,\n",
    "                        columns=['BUY_P', 'HOLD_P', 'SELL_P'], \n",
    "                        index=['BUY_R', 'HOLD_R', 'SELL_R'])\n",
    "\n",
    "sns.heatmap(cm_matrix_DNN, annot=True, fmt='d', cmap='YlGnBu')"
   ]
  },
  {
   "cell_type": "code",
   "execution_count": 68,
   "metadata": {},
   "outputs": [
    {
     "data": {
      "text/plain": [
       "0.5252727327807803"
      ]
     },
     "execution_count": 68,
     "metadata": {},
     "output_type": "execute_result"
    }
   ],
   "source": [
    "weightedFScore_DNN = weightedFScore(confusion_matrix)[0] \n",
    "weightedFScore_DNN"
   ]
  },
  {
   "cell_type": "code",
   "execution_count": 69,
   "metadata": {
    "scrolled": true
   },
   "outputs": [
    {
     "name": "stdout",
     "output_type": "stream",
     "text": [
      "Training-set accuracy score: 0.4614\n"
     ]
    }
   ],
   "source": [
    "y_pred_train = model_dnn.predict(x_train)\n",
    "\n",
    "labels = ['BUY', 'HOLD', 'SELL'] \n",
    "\n",
    "pred = []\n",
    "for i in y_pred_train:\n",
    "    pred.append(np.argmax(i))\n",
    "pred_array = np.array(pred)       \n",
    "\n",
    "real = []\n",
    "for i in y_train_enc:\n",
    "    real.append(np.argmax(i))\n",
    "real_array = np.array(real)    \n",
    "\n",
    "print('Training-set accuracy score: {0:0.4f}'. format(accuracy_score(real_array, pred_array)))"
   ]
  },
  {
   "cell_type": "code",
   "execution_count": null,
   "metadata": {},
   "outputs": [],
   "source": []
  },
  {
   "cell_type": "markdown",
   "metadata": {},
   "source": [
    "# LSTM"
   ]
  },
  {
   "cell_type": "code",
   "execution_count": null,
   "metadata": {},
   "outputs": [],
   "source": []
  },
  {
   "cell_type": "code",
   "execution_count": 70,
   "metadata": {
    "scrolled": true
   },
   "outputs": [
    {
     "name": "stdout",
     "output_type": "stream",
     "text": [
      "[model] Model Compiled\n",
      "Time taken: 0:00:01.739557\n"
     ]
    }
   ],
   "source": [
    "# define and fit the final model\n",
    "timer = Timer()\n",
    "timer.start()\n",
    "timesteps = configs['dataset']['sequence_length']\n",
    "\n",
    "model_lstm = Sequential()\n",
    "\n",
    "model_lstm.add(LSTM(200, input_shape=(timesteps, dim), return_sequences=True))\n",
    "#model_lstm.add(Dropout(0.1))\n",
    "model_lstm.add(LSTM(150, input_shape=(timesteps, dim), return_sequences=True))\n",
    "#model_lstm.add(Dropout(0.2))\n",
    "model_lstm.add(LSTM(100, input_shape=(timesteps, dim), return_sequences=True))\n",
    "model_lstm.add(LSTM(100, input_shape=(timesteps, dim), return_sequences=True))\n",
    "model_lstm.add(LSTM(100, input_shape=(timesteps, dim), return_sequences=True))\n",
    "model_lstm.add(Dropout(0.2))\n",
    "model_lstm.add(LSTM(50, input_shape=(timesteps, dim), return_sequences=False))\n",
    "model_lstm.add(Dropout(0.2))\n",
    "model_lstm.add(Dense(3, activation='softmax'))\n",
    "\n",
    "model_lstm.compile(loss='categorical_crossentropy', optimizer='adam', metrics=['accuracy'])\n",
    "\n",
    "print('[model] Model Compiled')\n",
    "#print(model_lstm.summary())\n",
    "timer.stop()\n"
   ]
  },
  {
   "cell_type": "code",
   "execution_count": 71,
   "metadata": {
    "scrolled": true
   },
   "outputs": [
    {
     "name": "stdout",
     "output_type": "stream",
     "text": [
      "[Model] Training Started\n",
      "Train on 11495 samples, validate on 3789 samples\n",
      "Epoch 1/15\n",
      "11495/11495 [==============================] - 29s 3ms/step - loss: 1.0974 - accuracy: 0.3509 - val_loss: 1.0999 - val_accuracy: 0.3650\n",
      "Epoch 2/15\n",
      "11495/11495 [==============================] - 27s 2ms/step - loss: 1.0927 - accuracy: 0.3704 - val_loss: 1.0930 - val_accuracy: 0.3703\n",
      "Epoch 3/15\n",
      "11495/11495 [==============================] - 27s 2ms/step - loss: 1.0833 - accuracy: 0.4061 - val_loss: 1.0909 - val_accuracy: 0.3832\n",
      "Epoch 4/15\n",
      "11495/11495 [==============================] - 28s 2ms/step - loss: 1.0653 - accuracy: 0.4390 - val_loss: 1.1157 - val_accuracy: 0.3423\n",
      "Epoch 5/15\n",
      "11495/11495 [==============================] - 28s 2ms/step - loss: 1.0353 - accuracy: 0.4766 - val_loss: 1.1673 - val_accuracy: 0.3439\n",
      "Epoch 6/15\n",
      "11495/11495 [==============================] - 27s 2ms/step - loss: 1.0006 - accuracy: 0.5110 - val_loss: 1.1707 - val_accuracy: 0.3695\n",
      "Epoch 7/15\n",
      "11495/11495 [==============================] - 27s 2ms/step - loss: 0.9417 - accuracy: 0.5555 - val_loss: 1.2411 - val_accuracy: 0.3579\n",
      "Epoch 8/15\n",
      "11495/11495 [==============================] - 26s 2ms/step - loss: 0.8848 - accuracy: 0.5928 - val_loss: 1.2647 - val_accuracy: 0.3711\n",
      "Epoch 9/15\n",
      "11495/11495 [==============================] - 28s 2ms/step - loss: 0.8314 - accuracy: 0.6261 - val_loss: 1.3919 - val_accuracy: 0.3624\n",
      "Epoch 10/15\n",
      "11495/11495 [==============================] - 27s 2ms/step - loss: 0.7743 - accuracy: 0.6532 - val_loss: 1.4079 - val_accuracy: 0.3492\n",
      "Epoch 11/15\n",
      "11495/11495 [==============================] - 27s 2ms/step - loss: 0.7103 - accuracy: 0.6942 - val_loss: 1.5762 - val_accuracy: 0.3595\n",
      "Epoch 12/15\n",
      "11495/11495 [==============================] - 27s 2ms/step - loss: 0.6500 - accuracy: 0.7201 - val_loss: 1.5769 - val_accuracy: 0.3639\n",
      "Epoch 13/15\n",
      "11495/11495 [==============================] - 27s 2ms/step - loss: 0.5841 - accuracy: 0.7569 - val_loss: 1.6581 - val_accuracy: 0.3637\n",
      "Epoch 14/15\n",
      "11495/11495 [==============================] - 27s 2ms/step - loss: 0.5350 - accuracy: 0.7753 - val_loss: 1.7573 - val_accuracy: 0.3650\n",
      "Epoch 15/15\n",
      "11495/11495 [==============================] - 27s 2ms/step - loss: 0.4920 - accuracy: 0.7989 - val_loss: 1.8811 - val_accuracy: 0.3526\n",
      "[Model] Training Completed.\n",
      "Model saved as saved_models\\prototipo_ciclo1_multiclass_jupyter_LSTM_activTanh.h5\n",
      "Time taken: 0:06:56.090705\n"
     ]
    }
   ],
   "source": [
    "timer = Timer()\n",
    "timer.start()\n",
    "print('[Model] Training Started')\n",
    "\n",
    "save_dir=configs['model']['save_dir']\n",
    "my_model=configs['model']['model_name']\n",
    "save_fname = os.path.join(save_dir, '%s_LSTM_activTanh.h5' % my_model)\n",
    "\n",
    "batch_size=configs['training']['batch_size']\n",
    "\n",
    "callbacks = [ ModelCheckpoint(filepath=save_fname, monitor='loss', save_best_only=True)]\n",
    "\n",
    "y_train_sw_enc = encode_categ_data(y_train_sw)\n",
    "y_valid_sw_enc = encode_categ_data(y_valid_sw)\n",
    "H = model_lstm.fit( x_train_sw, y_train_sw_enc, validation_data=(x_valid_sw, y_valid_sw_enc), epochs=15, \n",
    "                    batch_size=batch_size, callbacks=callbacks, workers=1 )\n",
    "\n",
    "model_lstm.save(save_fname)\n",
    "\n",
    "print('[Model] Training Completed.')\n",
    "print('Model saved as %s' % save_fname)\n",
    "\n",
    "timer.stop()"
   ]
  },
  {
   "cell_type": "code",
   "execution_count": 72,
   "metadata": {},
   "outputs": [
    {
     "data": {
      "text/plain": [
       "array([[0.03325853, 0.5311749 , 0.4355666 ],\n",
       "       [0.05150363, 0.46929777, 0.47919858],\n",
       "       [0.03000563, 0.53389627, 0.43609807],\n",
       "       ...,\n",
       "       [0.04227747, 0.38231084, 0.5754117 ],\n",
       "       [0.0611128 , 0.4422419 , 0.49664533],\n",
       "       [0.83072054, 0.14548245, 0.02379702]], dtype=float32)"
      ]
     },
     "execution_count": 72,
     "metadata": {},
     "output_type": "execute_result"
    }
   ],
   "source": [
    "# new instances where we do not know the answer\n",
    "y_pred = model_lstm.predict(x_test_sw) \n",
    "y_pred"
   ]
  },
  {
   "cell_type": "code",
   "execution_count": 73,
   "metadata": {},
   "outputs": [
    {
     "name": "stdout",
     "output_type": "stream",
     "text": [
      "dict_keys(['val_loss', 'val_accuracy', 'loss', 'accuracy'])\n"
     ]
    },
    {
     "data": {
      "image/png": "[encoded data removed]",
      "text/plain": [
       "<Figure size 432x288 with 1 Axes>"
      ]
     },
     "metadata": {
      "needs_background": "light"
     },
     "output_type": "display_data"
    },
    {
     "data": {
      "image/png": "[encoded data removed]",
      "text/plain": [
       "<Figure size 432x288 with 1 Axes>"
      ]
     },
     "metadata": {
      "needs_background": "light"
     },
     "output_type": "display_data"
    }
   ],
   "source": [
    "# list all data in history       \n",
    "print(H.history.keys())\n",
    "# summarize history for accuracy\n",
    "plt.plot(H.history['accuracy'])\n",
    "plt.plot(H.history['val_accuracy'])\n",
    "plt.title('model accuracy')\n",
    "plt.ylabel('accuracy')\n",
    "plt.xlabel('epoch')\n",
    "plt.legend(['accuracy', 'val_accuracy'], loc='upper left')\n",
    "fig_path = 'accuracy_history.png'\n",
    "plt.savefig(fig_path)     \n",
    "plt.show()\n",
    "\n",
    "# summarize history for loss\n",
    "plt.plot(H.history['loss'])\n",
    "plt.plot(H.history['val_loss'])\n",
    "plt.title('model loss')\n",
    "plt.ylabel('loss')\n",
    "plt.xlabel('epoch')\n",
    "plt.legend(['loss', 'val_loss'], loc='upper left')\n",
    "fig_path = 'loss_history.png'\n",
    "plt.savefig(fig_path) \n",
    "plt.show()"
   ]
  },
  {
   "cell_type": "code",
   "execution_count": 74,
   "metadata": {},
   "outputs": [],
   "source": [
    "# BUY | SELL | HOLD\n",
    "\n",
    "labels = ['BUY', 'HOLD', 'SELL'] \n",
    "\n",
    "pred = []\n",
    "for i in y_pred:\n",
    "    pred.append(np.argmax(i))\n",
    "pred_array = np.array(pred)       \n",
    "\n",
    "real = []\n",
    "y_test_sw_enc = encode_categ_data(y_test_sw)\n",
    "for i in y_test_sw_enc:\n",
    "    real.append(np.argmax(i))\n",
    "real_array = np.array(real)   "
   ]
  },
  {
   "cell_type": "code",
   "execution_count": 75,
   "metadata": {},
   "outputs": [
    {
     "name": "stdout",
     "output_type": "stream",
     "text": [
      "[[3.3258531e-02 5.3117490e-01 4.3556660e-01]\n",
      " [5.1503632e-02 4.6929777e-01 4.7919858e-01]\n",
      " [3.0005626e-02 5.3389627e-01 4.3609807e-01]\n",
      " [6.7989086e-03 8.3561677e-01 1.5758429e-01]\n",
      " [3.1689361e-03 2.9941922e-02 9.6688908e-01]\n",
      " [3.3366419e-03 2.7558709e-02 9.6910471e-01]\n",
      " [5.9192539e-03 5.9207570e-02 9.3487322e-01]\n",
      " [1.1508701e-03 4.1318990e-02 9.5753008e-01]\n",
      " [8.7901577e-04 3.5796795e-02 9.6332419e-01]\n",
      " [3.7198819e-03 1.4886820e-01 8.4741187e-01]]\n",
      "[1 2 1 1 2 2 2 2 2 2]\n"
     ]
    }
   ],
   "source": [
    "print(y_pred[0:10])\n",
    "print(pred_array[0:10])"
   ]
  },
  {
   "cell_type": "code",
   "execution_count": 76,
   "metadata": {
    "scrolled": true
   },
   "outputs": [
    {
     "name": "stdout",
     "output_type": "stream",
     "text": [
      "[[1. 0. 0.]\n",
      " [1. 0. 0.]\n",
      " [1. 0. 0.]\n",
      " [1. 0. 0.]\n",
      " [1. 0. 0.]\n",
      " [0. 1. 0.]\n",
      " [1. 0. 0.]\n",
      " [1. 0. 0.]\n",
      " [1. 0. 0.]\n",
      " [0. 1. 0.]]\n",
      "[0 0 0 0 0 1 0 0 0 1]\n"
     ]
    }
   ],
   "source": [
    "print(y_test_sw_enc[500:510])\n",
    "print(real_array[500:510])"
   ]
  },
  {
   "cell_type": "code",
   "execution_count": 77,
   "metadata": {},
   "outputs": [
    {
     "data": {
      "text/plain": [
       "(3045, 3)"
      ]
     },
     "execution_count": 77,
     "metadata": {},
     "output_type": "execute_result"
    }
   ],
   "source": [
    "y_pred.shape"
   ]
  },
  {
   "cell_type": "code",
   "execution_count": 78,
   "metadata": {},
   "outputs": [
    {
     "data": {
      "text/plain": [
       "(3045,)"
      ]
     },
     "execution_count": 78,
     "metadata": {},
     "output_type": "execute_result"
    }
   ],
   "source": [
    "pred_array.shape"
   ]
  },
  {
   "cell_type": "code",
   "execution_count": 79,
   "metadata": {},
   "outputs": [
    {
     "data": {
      "text/plain": [
       "(3045, 3)"
      ]
     },
     "execution_count": 79,
     "metadata": {},
     "output_type": "execute_result"
    }
   ],
   "source": [
    "y_test_sw_enc.shape"
   ]
  },
  {
   "cell_type": "code",
   "execution_count": 80,
   "metadata": {},
   "outputs": [
    {
     "data": {
      "text/plain": [
       "(3045,)"
      ]
     },
     "execution_count": 80,
     "metadata": {},
     "output_type": "execute_result"
    }
   ],
   "source": [
    "real_array.shape"
   ]
  },
  {
   "cell_type": "code",
   "execution_count": 81,
   "metadata": {},
   "outputs": [
    {
     "name": "stdout",
     "output_type": "stream",
     "text": [
      "Accuracy Score - LSTM:  0.35073891625615766\n"
     ]
    }
   ],
   "source": [
    "accuracy_score_LSTM = accuracy_score(real_array, pred_array)\n",
    "print('Accuracy Score - LSTM: ', accuracy_score_LSTM)"
   ]
  },
  {
   "cell_type": "code",
   "execution_count": 82,
   "metadata": {},
   "outputs": [
    {
     "name": "stdout",
     "output_type": "stream",
     "text": [
      "              precision    recall  f1-score   support\n",
      "\n",
      "           0       0.35      0.27      0.30      1021\n",
      "           1       0.38      0.36      0.37      1046\n",
      "           2       0.33      0.43      0.37       978\n",
      "\n",
      "    accuracy                           0.35      3045\n",
      "   macro avg       0.35      0.35      0.35      3045\n",
      "weighted avg       0.35      0.35      0.35      3045\n",
      "\n"
     ]
    }
   ],
   "source": [
    "print(classification_report(real_array, pred_array))"
   ]
  },
  {
   "cell_type": "code",
   "execution_count": 83,
   "metadata": {},
   "outputs": [
    {
     "data": {
      "text/plain": [
       "array([[276, 314, 431],\n",
       "       [258, 373, 415],\n",
       "       [255, 304, 419]], dtype=int64)"
      ]
     },
     "execution_count": 83,
     "metadata": {},
     "output_type": "execute_result"
    }
   ],
   "source": [
    "from sklearn.metrics import confusion_matrix\n",
    "confusion_matrix = confusion_matrix(real_array, pred_array)\n",
    "confusion_matrix"
   ]
  },
  {
   "cell_type": "code",
   "execution_count": 84,
   "metadata": {},
   "outputs": [
    {
     "name": "stdout",
     "output_type": "stream",
     "text": [
      "real_array.size:  3045  | cont_buy:  1021  | cont_hold:  1046  | cont_sell:  978\n"
     ]
    }
   ],
   "source": [
    "cont_buy = 0\n",
    "cont_sell = 0\n",
    "cont_hold = 0\n",
    "for n in real_array:\n",
    "    if n == 0:\n",
    "        cont_buy+=1\n",
    "    if n == 1:\n",
    "        cont_hold+=1\n",
    "    if n == 2:\n",
    "        cont_sell+=1\n",
    "\n",
    "print('real_array.size: ', real_array.size, ' | cont_buy: ', cont_buy, ' | cont_hold: ', cont_hold, ' | cont_sell: ', cont_sell)"
   ]
  },
  {
   "cell_type": "code",
   "execution_count": 85,
   "metadata": {},
   "outputs": [
    {
     "name": "stdout",
     "output_type": "stream",
     "text": [
      "pred_array.size:  3045  | cont_buy:  789  | cont_hold:  991  | cont_sell:  1265\n"
     ]
    }
   ],
   "source": [
    "cont_buy = 0\n",
    "cont_sell = 0\n",
    "cont_hold = 0\n",
    "for n in pred_array:\n",
    "    if n == 0:\n",
    "        cont_buy+=1\n",
    "    if n == 1:\n",
    "        cont_hold+=1\n",
    "    if n == 2:\n",
    "        cont_sell+=1\n",
    "\n",
    "print('pred_array.size: ', pred_array.size, ' | cont_buy: ', cont_buy, ' | cont_hold: ', cont_hold, ' | cont_sell: ', cont_sell)"
   ]
  },
  {
   "cell_type": "code",
   "execution_count": 86,
   "metadata": {},
   "outputs": [
    {
     "data": {
      "text/plain": [
       "0.5074368998883213"
      ]
     },
     "execution_count": 86,
     "metadata": {},
     "output_type": "execute_result"
    }
   ],
   "source": [
    "weightedFScore_LSTM = weightedFScore(confusion_matrix)[0] \n",
    "weightedFScore_LSTM"
   ]
  },
  {
   "cell_type": "code",
   "execution_count": 87,
   "metadata": {},
   "outputs": [
    {
     "data": {
      "text/plain": [
       "<AxesSubplot:>"
      ]
     },
     "execution_count": 87,
     "metadata": {},
     "output_type": "execute_result"
    },
    {
     "data": {
      "image/png": "[encoded data removed]",
      "text/plain": [
       "<Figure size 432x288 with 2 Axes>"
      ]
     },
     "metadata": {
      "needs_background": "light"
     },
     "output_type": "display_data"
    }
   ],
   "source": [
    "# visualize confusion matrix with seaborn heatmap\n",
    "cm_matrix_LSTM = pd.DataFrame(data=confusion_matrix,\n",
    "                        columns=['BUY_P', 'HOLD_P', 'SELL_P'], \n",
    "                        index=['BUY_R', 'HOLD_R', 'SELL_R'])\n",
    "\n",
    "sns.heatmap(cm_matrix_LSTM, annot=True, fmt='d', cmap='YlGnBu')"
   ]
  },
  {
   "cell_type": "code",
   "execution_count": 88,
   "metadata": {},
   "outputs": [
    {
     "name": "stdout",
     "output_type": "stream",
     "text": [
      "Training-set accuracy score LSTM: 0.8318\n"
     ]
    }
   ],
   "source": [
    "y_pred_train_sw = model_lstm.predict(x_train_sw)\n",
    "\n",
    "labels = ['BUY', 'HOLD', 'SELL'] \n",
    "\n",
    "pred = []\n",
    "for i in y_pred_train_sw:\n",
    "    pred.append(np.argmax(i))\n",
    "pred_array = np.array(pred)       \n",
    "\n",
    "real = []\n",
    "for i in y_train_sw_enc:\n",
    "    real.append(np.argmax(i))\n",
    "real_array = np.array(real)    \n",
    "\n",
    "print('Training-set accuracy score LSTM: {0:0.4f}'. format(accuracy_score(real_array, pred_array)))"
   ]
  },
  {
   "cell_type": "code",
   "execution_count": null,
   "metadata": {},
   "outputs": [],
   "source": []
  },
  {
   "cell_type": "markdown",
   "metadata": {},
   "source": [
    "# Resumo"
   ]
  },
  {
   "cell_type": "code",
   "execution_count": 89,
   "metadata": {},
   "outputs": [
    {
     "name": "stdout",
     "output_type": "stream",
     "text": [
      "-------------Resumo-------------\n",
      "\n",
      "Accuracy Score - LGBM:  0.41448230668414154\n",
      "Weighted F Score - LGBM:  0.5444619557970714\n",
      "\n",
      "Accuracy Score - Random Forest:  0.4272608125819135\n",
      "Weighted F Score - Random Forest:  0.5663048607833884\n",
      "\n",
      "Accuracy Score - DNN:  0.4069462647444299\n",
      "Weighted F Score - DNN:  0.5252727327807803\n",
      "\n",
      "Accuracy Score - LSTM:  0.35073891625615766\n",
      "Weighted F Score - LSTM:  0.5074368998883213\n"
     ]
    }
   ],
   "source": [
    "print('-------------Resumo-------------')\n",
    "\n",
    "print('\\nAccuracy Score - LGBM: ', accuracy_score_LGBM)\n",
    "print('Weighted F Score - LGBM: ', weightedFScore_LGBM)\n",
    "\n",
    "print('\\nAccuracy Score - Random Forest: ', accuracy_score_RF)\n",
    "print('Weighted F Score - Random Forest: ', weightedFScore_RF)\n",
    "\n",
    "print('\\nAccuracy Score - DNN: ', accuracy_score_DNN)\n",
    "print('Weighted F Score - DNN: ', weightedFScore_DNN)\n",
    "\n",
    "print('\\nAccuracy Score - LSTM: ', accuracy_score_LSTM)\n",
    "print('Weighted F Score - LSTM: ', weightedFScore_LSTM)"
   ]
  },
  {
   "cell_type": "code",
   "execution_count": 90,
   "metadata": {},
   "outputs": [
    {
     "data": {
      "image/png": "[encoded data removed]",
      "text/plain": [
       "<Figure size 720x504 with 8 Axes>"
      ]
     },
     "metadata": {
      "needs_background": "light"
     },
     "output_type": "display_data"
    }
   ],
   "source": [
    "plt.figure(figsize=[10,7])\n",
    "plt.subplot(2,2,1)\n",
    "plt.title('LGBM Heatmap')\n",
    "sns.heatmap(cm_matrix_LGBM, annot=True, fmt='d', cmap='YlGnBu')\n",
    "\n",
    "plt.subplot(2,2,2)\n",
    "plt.title('Random Forest Heatmap')\n",
    "sns.heatmap(cm_matrix_RF, annot=True, fmt='d', cmap='YlGnBu')\n",
    "\n",
    "plt.subplot(2,2,3)\n",
    "plt.title('DNN Heatmap')\n",
    "sns.heatmap(cm_matrix_DNN, annot=True, fmt='d', cmap='YlGnBu')\n",
    "\n",
    "plt.subplot(2,2,4)\n",
    "plt.title('LSTM Heatmap')\n",
    "sns.heatmap(cm_matrix_LSTM, annot=True, fmt='d', cmap='YlGnBu')\n",
    "\n",
    "plt.tight_layout()"
   ]
  },
  {
   "cell_type": "code",
   "execution_count": 94,
   "metadata": {},
   "outputs": [],
   "source": [
    "# save trained model\n",
    "pickle.dump( model_lgbm, open( 'saved_models/model_LGBM_135features_5000.pkl', 'wb' ) )"
   ]
  },
  {
   "cell_type": "code",
   "execution_count": 95,
   "metadata": {},
   "outputs": [],
   "source": [
    "pickle.dump( model_dnn, open( 'saved_models/model_DNN_135features_50.pkl', 'wb' ) )"
   ]
  },
  {
   "cell_type": "code",
   "execution_count": 96,
   "metadata": {},
   "outputs": [],
   "source": [
    "pickle.dump( model_randomF, open( 'saved_models/model_RF_135features_5000.pkl', 'wb' ) )"
   ]
  },
  {
   "cell_type": "code",
   "execution_count": null,
   "metadata": {},
   "outputs": [],
   "source": []
  },
  {
   "cell_type": "code",
   "execution_count": null,
   "metadata": {},
   "outputs": [],
   "source": []
  },
  {
   "cell_type": "code",
   "execution_count": null,
   "metadata": {},
   "outputs": [],
   "source": []
  },
  {
   "cell_type": "code",
   "execution_count": null,
   "metadata": {},
   "outputs": [],
   "source": []
  },
  {
   "cell_type": "code",
   "execution_count": null,
   "metadata": {},
   "outputs": [],
   "source": []
  }
 ],
 "metadata": {
  "kernelspec": {
   "display_name": "Python 3",
   "language": "python",
   "name": "python3"
  },
  "language_info": {
   "codemirror_mode": {
    "name": "ipython",
    "version": 3
   },
   "file_extension": ".py",
   "mimetype": "text/x-python",
   "name": "python",
   "nbconvert_exporter": "python",
   "pygments_lexer": "ipython3",
   "version": "3.6.12"
  }
 },
 "nbformat": 4,
 "nbformat_minor": 4
}
