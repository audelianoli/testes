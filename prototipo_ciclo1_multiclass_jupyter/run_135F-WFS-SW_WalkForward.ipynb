{
 "cells": [
  {
   "cell_type": "markdown",
   "metadata": {},
   "source": [
    "# Imports"
   ]
  },
  {
   "cell_type": "code",
   "execution_count": 1,
   "metadata": {},
   "outputs": [],
   "source": [
    "import os\n",
    "import json\n",
    "import math\n",
    "import matplotlib.pyplot as plt\n",
    "import numpy as np\n",
    "import pandas as pd\n",
    "import pickle\n",
    "\n",
    "from sklearn.preprocessing import MinMaxScaler, StandardScaler, RobustScaler, MaxAbsScaler, Normalizer, QuantileTransformer"
   ]
  },
  {
   "cell_type": "code",
   "execution_count": 2,
   "metadata": {},
   "outputs": [],
   "source": [
    "# Carregando as configurações do arquivo 'config_modelo.json'\n",
    "configs = json.load(open('config_modelo.json', 'r'))"
   ]
  },
  {
   "cell_type": "code",
   "execution_count": 3,
   "metadata": {},
   "outputs": [],
   "source": [
    "# Criar a pasta 'save_dir' caso não exista no diretório\n",
    "if not os.path.exists(configs['model']['save_dir']):\n",
    "            os.makedirs(configs['model']['save_dir'])"
   ]
  },
  {
   "cell_type": "code",
   "execution_count": 4,
   "metadata": {},
   "outputs": [
    {
     "name": "stdout",
     "output_type": "stream",
     "text": [
      "(139884, 135)\n"
     ]
    },
    {
     "data": {
      "text/html": [
       "<div>\n",
       "<style scoped>\n",
       "    .dataframe tbody tr th:only-of-type {\n",
       "        vertical-align: middle;\n",
       "    }\n",
       "\n",
       "    .dataframe tbody tr th {\n",
       "        vertical-align: top;\n",
       "    }\n",
       "\n",
       "    .dataframe thead th {\n",
       "        text-align: right;\n",
       "    }\n",
       "</style>\n",
       "<table border=\"1\" class=\"dataframe\">\n",
       "  <thead>\n",
       "    <tr style=\"text-align: right;\">\n",
       "      <th></th>\n",
       "      <th>DATETIME</th>\n",
       "      <th>DATE</th>\n",
       "      <th>TIME</th>\n",
       "      <th>OPEN</th>\n",
       "      <th>HIGH</th>\n",
       "      <th>LOW</th>\n",
       "      <th>CLOSE</th>\n",
       "      <th>VOL</th>\n",
       "      <th>BBANDS_Upper_5</th>\n",
       "      <th>BBANDS_Lower_5</th>\n",
       "      <th>...</th>\n",
       "      <th>ATR_20</th>\n",
       "      <th>TRANGE</th>\n",
       "      <th>MES</th>\n",
       "      <th>DIA_SEMANA</th>\n",
       "      <th>HORA_NOBRE</th>\n",
       "      <th>TARGET_WIN</th>\n",
       "      <th>TARGET_WIN_CAT3</th>\n",
       "      <th>TARGET_WIN_CAT3_LABEL</th>\n",
       "      <th>PRICE_PERCENTAGE</th>\n",
       "      <th>TARGET_PERCENTAGE</th>\n",
       "    </tr>\n",
       "  </thead>\n",
       "  <tbody>\n",
       "    <tr>\n",
       "      <th>0</th>\n",
       "      <td>2014-11-19 12:30:00</td>\n",
       "      <td>2014.11.19</td>\n",
       "      <td>12:30:00</td>\n",
       "      <td>53560.0</td>\n",
       "      <td>53565.0</td>\n",
       "      <td>53405.0</td>\n",
       "      <td>53410.0</td>\n",
       "      <td>8363.0</td>\n",
       "      <td>53752.526189</td>\n",
       "      <td>53227.473811</td>\n",
       "      <td>...</td>\n",
       "      <td>122.7500</td>\n",
       "      <td>160.0</td>\n",
       "      <td>11</td>\n",
       "      <td>2</td>\n",
       "      <td>2</td>\n",
       "      <td>15.0</td>\n",
       "      <td>HOLD</td>\n",
       "      <td>1</td>\n",
       "      <td>106.82</td>\n",
       "      <td>HOLD</td>\n",
       "    </tr>\n",
       "    <tr>\n",
       "      <th>1</th>\n",
       "      <td>2014-11-19 12:35:00</td>\n",
       "      <td>2014.11.19</td>\n",
       "      <td>12:35:00</td>\n",
       "      <td>53410.0</td>\n",
       "      <td>53500.0</td>\n",
       "      <td>53295.0</td>\n",
       "      <td>53415.0</td>\n",
       "      <td>7034.0</td>\n",
       "      <td>53712.281525</td>\n",
       "      <td>53317.718475</td>\n",
       "      <td>...</td>\n",
       "      <td>126.8625</td>\n",
       "      <td>205.0</td>\n",
       "      <td>11</td>\n",
       "      <td>2</td>\n",
       "      <td>2</td>\n",
       "      <td>50.0</td>\n",
       "      <td>HOLD</td>\n",
       "      <td>1</td>\n",
       "      <td>106.83</td>\n",
       "      <td>HOLD</td>\n",
       "    </tr>\n",
       "  </tbody>\n",
       "</table>\n",
       "<p>2 rows × 135 columns</p>\n",
       "</div>"
      ],
      "text/plain": [
       "             DATETIME        DATE      TIME     OPEN     HIGH      LOW  \\\n",
       "0 2014-11-19 12:30:00  2014.11.19  12:30:00  53560.0  53565.0  53405.0   \n",
       "1 2014-11-19 12:35:00  2014.11.19  12:35:00  53410.0  53500.0  53295.0   \n",
       "\n",
       "     CLOSE     VOL  BBANDS_Upper_5  BBANDS_Lower_5  ...    ATR_20  TRANGE  \\\n",
       "0  53410.0  8363.0    53752.526189    53227.473811  ...  122.7500   160.0   \n",
       "1  53415.0  7034.0    53712.281525    53317.718475  ...  126.8625   205.0   \n",
       "\n",
       "   MES  DIA_SEMANA  HORA_NOBRE  TARGET_WIN  TARGET_WIN_CAT3  \\\n",
       "0   11           2           2        15.0             HOLD   \n",
       "1   11           2           2        50.0             HOLD   \n",
       "\n",
       "   TARGET_WIN_CAT3_LABEL  PRICE_PERCENTAGE  TARGET_PERCENTAGE  \n",
       "0                      1            106.82               HOLD  \n",
       "1                      1            106.83               HOLD  \n",
       "\n",
       "[2 rows x 135 columns]"
      ]
     },
     "execution_count": 4,
     "metadata": {},
     "output_type": "execute_result"
    }
   ],
   "source": [
    "# Carregar o Dataset\n",
    "filepath = 'C:/Users/auW10/Documents/CodigosDoAu/000_Doutorado/dataset/'\n",
    "df = pd.read_pickle(filepath+'dataset_ciclo1_multiclass_aug_dim_135_TIs_TargetPerc.pkl')\n",
    "print(df.shape)\n",
    "df.head(2)"
   ]
  },
  {
   "cell_type": "markdown",
   "metadata": {},
   "source": [
    "## Split dos Dados"
   ]
  },
  {
   "cell_type": "code",
   "execution_count": 5,
   "metadata": {},
   "outputs": [
    {
     "data": {
      "text/plain": [
       "<PandasArray>\n",
       "[             'DATETIME',                  'DATE',                  'TIME',\n",
       "                  'OPEN',                  'HIGH',                   'LOW',\n",
       "                 'CLOSE',                   'VOL',        'BBANDS_Upper_5',\n",
       "        'BBANDS_Lower_5',\n",
       " ...\n",
       "                'ATR_20',                'TRANGE',                   'MES',\n",
       "            'DIA_SEMANA',            'HORA_NOBRE',            'TARGET_WIN',\n",
       "       'TARGET_WIN_CAT3', 'TARGET_WIN_CAT3_LABEL',      'PRICE_PERCENTAGE',\n",
       "     'TARGET_PERCENTAGE']\n",
       "Length: 135, dtype: object"
      ]
     },
     "execution_count": 5,
     "metadata": {},
     "output_type": "execute_result"
    }
   ],
   "source": [
    "df.columns.tolist()\n",
    "df.columns.array"
   ]
  },
  {
   "cell_type": "code",
   "execution_count": 6,
   "metadata": {
    "scrolled": false
   },
   "outputs": [
    {
     "name": "stdout",
     "output_type": "stream",
     "text": [
      "(139884, 135)\n",
      "(139884, 125)\n"
     ]
    },
    {
     "data": {
      "text/html": [
       "<div>\n",
       "<style scoped>\n",
       "    .dataframe tbody tr th:only-of-type {\n",
       "        vertical-align: middle;\n",
       "    }\n",
       "\n",
       "    .dataframe tbody tr th {\n",
       "        vertical-align: top;\n",
       "    }\n",
       "\n",
       "    .dataframe thead th {\n",
       "        text-align: right;\n",
       "    }\n",
       "</style>\n",
       "<table border=\"1\" class=\"dataframe\">\n",
       "  <thead>\n",
       "    <tr style=\"text-align: right;\">\n",
       "      <th></th>\n",
       "      <th>DATETIME</th>\n",
       "      <th>DATE</th>\n",
       "      <th>TIME</th>\n",
       "      <th>BBANDS_Upper_5</th>\n",
       "      <th>BBANDS_Lower_5</th>\n",
       "      <th>BBANDS_Upper_10</th>\n",
       "      <th>BBANDS_Lower_10</th>\n",
       "      <th>BBANDS_Upper_20</th>\n",
       "      <th>BBANDS_Lower_20</th>\n",
       "      <th>DEMA_20</th>\n",
       "      <th>...</th>\n",
       "      <th>ADOSC</th>\n",
       "      <th>OBV</th>\n",
       "      <th>ATR_3</th>\n",
       "      <th>ATR_6</th>\n",
       "      <th>ATR_12</th>\n",
       "      <th>ATR_20</th>\n",
       "      <th>TRANGE</th>\n",
       "      <th>DIA_SEMANA</th>\n",
       "      <th>HORA_NOBRE</th>\n",
       "      <th>TARGET_PERCENTAGE</th>\n",
       "    </tr>\n",
       "  </thead>\n",
       "  <tbody>\n",
       "    <tr>\n",
       "      <th>0</th>\n",
       "      <td>2014-11-19 12:30:00</td>\n",
       "      <td>2014.11.19</td>\n",
       "      <td>12:30:00</td>\n",
       "      <td>53752.526189</td>\n",
       "      <td>53227.473811</td>\n",
       "      <td>53701.563032</td>\n",
       "      <td>53003.436968</td>\n",
       "      <td>53582.216054</td>\n",
       "      <td>52961.783946</td>\n",
       "      <td>53513.521581</td>\n",
       "      <td>...</td>\n",
       "      <td>224.882410</td>\n",
       "      <td>16995.0</td>\n",
       "      <td>183.08836</td>\n",
       "      <td>157.567344</td>\n",
       "      <td>133.163314</td>\n",
       "      <td>122.7500</td>\n",
       "      <td>160.0</td>\n",
       "      <td>2</td>\n",
       "      <td>2</td>\n",
       "      <td>HOLD</td>\n",
       "    </tr>\n",
       "    <tr>\n",
       "      <th>1</th>\n",
       "      <td>2014-11-19 12:35:00</td>\n",
       "      <td>2014.11.19</td>\n",
       "      <td>12:35:00</td>\n",
       "      <td>53712.281525</td>\n",
       "      <td>53317.718475</td>\n",
       "      <td>53699.874976</td>\n",
       "      <td>53060.125024</td>\n",
       "      <td>53596.604149</td>\n",
       "      <td>52972.395851</td>\n",
       "      <td>53498.711770</td>\n",
       "      <td>...</td>\n",
       "      <td>-968.557883</td>\n",
       "      <td>24029.0</td>\n",
       "      <td>190.39224</td>\n",
       "      <td>165.472787</td>\n",
       "      <td>139.149704</td>\n",
       "      <td>126.8625</td>\n",
       "      <td>205.0</td>\n",
       "      <td>2</td>\n",
       "      <td>2</td>\n",
       "      <td>HOLD</td>\n",
       "    </tr>\n",
       "  </tbody>\n",
       "</table>\n",
       "<p>2 rows × 125 columns</p>\n",
       "</div>"
      ],
      "text/plain": [
       "             DATETIME        DATE      TIME  BBANDS_Upper_5  BBANDS_Lower_5  \\\n",
       "0 2014-11-19 12:30:00  2014.11.19  12:30:00    53752.526189    53227.473811   \n",
       "1 2014-11-19 12:35:00  2014.11.19  12:35:00    53712.281525    53317.718475   \n",
       "\n",
       "   BBANDS_Upper_10  BBANDS_Lower_10  BBANDS_Upper_20  BBANDS_Lower_20  \\\n",
       "0     53701.563032     53003.436968     53582.216054     52961.783946   \n",
       "1     53699.874976     53060.125024     53596.604149     52972.395851   \n",
       "\n",
       "        DEMA_20  ...       ADOSC      OBV      ATR_3       ATR_6      ATR_12  \\\n",
       "0  53513.521581  ...  224.882410  16995.0  183.08836  157.567344  133.163314   \n",
       "1  53498.711770  ... -968.557883  24029.0  190.39224  165.472787  139.149704   \n",
       "\n",
       "     ATR_20  TRANGE  DIA_SEMANA  HORA_NOBRE  TARGET_PERCENTAGE  \n",
       "0  122.7500   160.0           2           2               HOLD  \n",
       "1  126.8625   205.0           2           2               HOLD  \n",
       "\n",
       "[2 rows x 125 columns]"
      ]
     },
     "execution_count": 6,
     "metadata": {},
     "output_type": "execute_result"
    }
   ],
   "source": [
    "print(df.shape)\n",
    "df2 = df.drop([  'OPEN',                  \n",
    "                 'HIGH',                   \n",
    "                 'LOW',\n",
    "                 'CLOSE',                   \n",
    "                 'VOL',\n",
    "                 'MES',\n",
    "                 'TARGET_WIN',\n",
    "                 'TARGET_WIN_CAT3', \n",
    "                 'TARGET_WIN_CAT3_LABEL',      \n",
    "                 'PRICE_PERCENTAGE'\n",
    "               \n",
    "            \n",
    "              ], axis=1)\n",
    "print(df2.shape)\n",
    "df2.head(2)"
   ]
  },
  {
   "cell_type": "code",
   "execution_count": 7,
   "metadata": {},
   "outputs": [
    {
     "name": "stderr",
     "output_type": "stream",
     "text": [
      "C:\\Users\\auW10\\Anaconda3\\envs\\phd\\lib\\site-packages\\pandas\\core\\frame.py:4170: SettingWithCopyWarning: \n",
      "A value is trying to be set on a copy of a slice from a DataFrame\n",
      "\n",
      "See the caveats in the documentation: https://pandas.pydata.org/pandas-docs/stable/user_guide/indexing.html#returning-a-view-versus-a-copy\n",
      "  errors=errors,\n"
     ]
    }
   ],
   "source": [
    "df3 = df2[df2['DATETIME'].dt.year < 2020]\n",
    "df3.drop(['DATE', 'TIME'], axis=1, inplace=True)\n",
    "df4 = df3[df3['DATETIME'].dt.year > 2014].reset_index(drop=True)\n",
    "#df4"
   ]
  },
  {
   "cell_type": "code",
   "execution_count": 8,
   "metadata": {
    "scrolled": true
   },
   "outputs": [
    {
     "name": "stdout",
     "output_type": "stream",
     "text": [
      "Proporção Train: 12.8% | Validation: 6.4% | Test: 2.9%\n",
      "(17849, 122) (8889, 122) (4067, 122)\n"
     ]
    },
    {
     "name": "stderr",
     "output_type": "stream",
     "text": [
      "C:\\Users\\auW10\\Anaconda3\\envs\\phd\\lib\\site-packages\\pandas\\core\\frame.py:4170: SettingWithCopyWarning: \n",
      "A value is trying to be set on a copy of a slice from a DataFrame\n",
      "\n",
      "See the caveats in the documentation: https://pandas.pydata.org/pandas-docs/stable/user_guide/indexing.html#returning-a-view-versus-a-copy\n",
      "  errors=errors,\n"
     ]
    }
   ],
   "source": [
    "df_train = df2[(df2['DATETIME'] >= '2015-01-01') & (df2['DATETIME'] < '2018-01-01')]\n",
    "#df_train = df2[(df2['DATETIME'] >= '2017-12-01') & (df2['DATETIME'] < '2019-07-01')]\n",
    "#df_train = df_train.iloc[-10000:, :]\n",
    "\n",
    "df_train = df2[(df2['DATETIME'] >= '2019-01-01') & (df2['DATETIME'] < '2019-09-01')]\n",
    "\n",
    "#----------------------------------------------------------------------------------------------------\n",
    "\n",
    "df_valid = df2[(df2['DATETIME'] >= '2018-01-01') & (df2['DATETIME'] < '2019-01-01')]\n",
    "#df_valid = df2[(df2['DATETIME'] >= '2019-07-01') & (df2['DATETIME'] < '2020-03-01')]\n",
    "#df_valid = df_valid.iloc[:6600, :]\n",
    "\n",
    "df_valid = df2[(df2['DATETIME'] >= '2019-09-01') & (df2['DATETIME'] < '2020-01-01')]\n",
    "\n",
    "#----------------------------------------------------------------------------------------------------\n",
    "\n",
    "df_test  = df2[(df2['DATETIME'] >= '2019-01-01') & (df2['DATETIME'] < '2020-01-01')]\n",
    "#df_test  = df2[(df2['DATETIME'] >= '2020-01-01')]\n",
    "\n",
    "#df_test  = df2[(df2['DATETIME'] < '2017-12-01')]\n",
    "#df_test = df_test.iloc[:500,:]\n",
    "\n",
    "df_test  = df2[(df2['DATETIME'] >= '2020-01-01')]\n",
    "\n",
    "#----------------------------------------------------------------------------------------------------\n",
    "\n",
    "print('Proporção Train: {:.1%} | Validation: {:.1%} | Test: {:.1%}'.format(\n",
    "                                            df_train['DATETIME'].count()/df2['DATETIME'].count(),\n",
    "                                            df_valid['DATETIME'].count()/df2['DATETIME'].count(),\n",
    "                                            df_test['DATETIME'].count()/df2['DATETIME'].count()))\n",
    "\n",
    "df_train.drop(['DATETIME', 'DATE', 'TIME'], axis=1, inplace=True)\n",
    "df_valid.drop(['DATETIME', 'DATE', 'TIME'], axis=1, inplace=True)\n",
    "df_test.drop(['DATETIME', 'DATE', 'TIME'], axis=1, inplace=True)\n",
    "print(df_train.shape, df_valid.shape, df_test.shape)"
   ]
  },
  {
   "cell_type": "code",
   "execution_count": 9,
   "metadata": {
    "scrolled": true
   },
   "outputs": [
    {
     "data": {
      "text/html": [
       "<div>\n",
       "<style scoped>\n",
       "    .dataframe tbody tr th:only-of-type {\n",
       "        vertical-align: middle;\n",
       "    }\n",
       "\n",
       "    .dataframe tbody tr th {\n",
       "        vertical-align: top;\n",
       "    }\n",
       "\n",
       "    .dataframe thead th {\n",
       "        text-align: right;\n",
       "    }\n",
       "</style>\n",
       "<table border=\"1\" class=\"dataframe\">\n",
       "  <thead>\n",
       "    <tr style=\"text-align: right;\">\n",
       "      <th></th>\n",
       "      <th>BBANDS_Upper_5</th>\n",
       "      <th>BBANDS_Lower_5</th>\n",
       "      <th>BBANDS_Upper_10</th>\n",
       "      <th>BBANDS_Lower_10</th>\n",
       "      <th>BBANDS_Upper_20</th>\n",
       "      <th>BBANDS_Lower_20</th>\n",
       "      <th>DEMA_20</th>\n",
       "      <th>EMA_5_CLOSE</th>\n",
       "      <th>EMA_10_CLOSE</th>\n",
       "      <th>EMA_20_CLOSE</th>\n",
       "      <th>...</th>\n",
       "      <th>ADOSC</th>\n",
       "      <th>OBV</th>\n",
       "      <th>ATR_3</th>\n",
       "      <th>ATR_6</th>\n",
       "      <th>ATR_12</th>\n",
       "      <th>ATR_20</th>\n",
       "      <th>TRANGE</th>\n",
       "      <th>DIA_SEMANA</th>\n",
       "      <th>HORA_NOBRE</th>\n",
       "      <th>TARGET_PERCENTAGE</th>\n",
       "    </tr>\n",
       "  </thead>\n",
       "  <tbody>\n",
       "    <tr>\n",
       "      <th>135836</th>\n",
       "      <td>117489.521929</td>\n",
       "      <td>116862.478071</td>\n",
       "      <td>117397.405807</td>\n",
       "      <td>116813.594193</td>\n",
       "      <td>117349.698893</td>\n",
       "      <td>116850.801107</td>\n",
       "      <td>117269.240037</td>\n",
       "      <td>117228.122937</td>\n",
       "      <td>117137.461639</td>\n",
       "      <td>117010.529854</td>\n",
       "      <td>...</td>\n",
       "      <td>95344.558922</td>\n",
       "      <td>-7850190.0</td>\n",
       "      <td>212.171216</td>\n",
       "      <td>205.912372</td>\n",
       "      <td>197.823329</td>\n",
       "      <td>186.913789</td>\n",
       "      <td>165.0</td>\n",
       "      <td>3</td>\n",
       "      <td>1</td>\n",
       "      <td>HOLD</td>\n",
       "    </tr>\n",
       "  </tbody>\n",
       "</table>\n",
       "<p>1 rows × 122 columns</p>\n",
       "</div>"
      ],
      "text/plain": [
       "        BBANDS_Upper_5  BBANDS_Lower_5  BBANDS_Upper_10  BBANDS_Lower_10  \\\n",
       "135836   117489.521929   116862.478071    117397.405807    116813.594193   \n",
       "\n",
       "        BBANDS_Upper_20  BBANDS_Lower_20        DEMA_20    EMA_5_CLOSE  \\\n",
       "135836    117349.698893    116850.801107  117269.240037  117228.122937   \n",
       "\n",
       "         EMA_10_CLOSE   EMA_20_CLOSE  ...         ADOSC        OBV  \\\n",
       "135836  117137.461639  117010.529854  ...  95344.558922 -7850190.0   \n",
       "\n",
       "             ATR_3       ATR_6      ATR_12      ATR_20  TRANGE  DIA_SEMANA  \\\n",
       "135836  212.171216  205.912372  197.823329  186.913789   165.0           3   \n",
       "\n",
       "        HORA_NOBRE  TARGET_PERCENTAGE  \n",
       "135836           1               HOLD  \n",
       "\n",
       "[1 rows x 122 columns]"
      ]
     },
     "execution_count": 9,
     "metadata": {},
     "output_type": "execute_result"
    }
   ],
   "source": [
    "df_test.iloc[19:200].head(1)"
   ]
  },
  {
   "cell_type": "code",
   "execution_count": 10,
   "metadata": {},
   "outputs": [
    {
     "data": {
      "text/plain": [
       "HOLD    13877\n",
       "BUY      2041\n",
       "SELL     1931\n",
       "Name: TARGET_PERCENTAGE, dtype: int64"
      ]
     },
     "execution_count": 10,
     "metadata": {},
     "output_type": "execute_result"
    }
   ],
   "source": [
    "df_train['TARGET_PERCENTAGE'].value_counts()"
   ]
  },
  {
   "cell_type": "code",
   "execution_count": 11,
   "metadata": {},
   "outputs": [
    {
     "data": {
      "text/plain": [
       "13877"
      ]
     },
     "execution_count": 11,
     "metadata": {},
     "output_type": "execute_result"
    }
   ],
   "source": [
    "df_train['TARGET_PERCENTAGE'].value_counts()[0]"
   ]
  },
  {
   "cell_type": "code",
   "execution_count": 12,
   "metadata": {
    "scrolled": false
   },
   "outputs": [
    {
     "name": "stdout",
     "output_type": "stream",
     "text": [
      "\n",
      "Dados Categóricos de Treino -- BUY: 2041 | SELL: 1931 | HOLD: 13877\n",
      "\n",
      "Dados Categóricos de Validação -- BUY: 625 | SELL: 522 | HOLD: 7742\n",
      "\n",
      "Dados Categóricos de Teste -- BUY: 380 | SELL: 355 | HOLD: 3332\n"
     ]
    }
   ],
   "source": [
    "hold_train = df_train['TARGET_PERCENTAGE'].value_counts()[0]\n",
    "hold_valid = df_valid['TARGET_PERCENTAGE'].value_counts()[0]\n",
    "hold_test = df_test['TARGET_PERCENTAGE'].value_counts()[0]\n",
    "\n",
    "print('\\nDados Categóricos de Treino -- BUY: %d | SELL: %d | HOLD: %d' % (df_train['TARGET_PERCENTAGE'].value_counts()[1], df_train['TARGET_PERCENTAGE'].value_counts()[2], hold_train))\n",
    "print('\\nDados Categóricos de Validação -- BUY: %d | SELL: %d | HOLD: %d' % (df_valid['TARGET_PERCENTAGE'].value_counts()[1], df_valid['TARGET_PERCENTAGE'].value_counts()[2], hold_valid))\n",
    "print('\\nDados Categóricos de Teste -- BUY: %d | SELL: %d | HOLD: %d' % (df_test['TARGET_PERCENTAGE'].value_counts()[1], df_test['TARGET_PERCENTAGE'].value_counts()[2], hold_test))\n"
   ]
  },
  {
   "cell_type": "code",
   "execution_count": 13,
   "metadata": {
    "scrolled": true
   },
   "outputs": [
    {
     "data": {
      "text/plain": [
       "HORA_NOBRE  TARGET_PERCENTAGE\n",
       "0           HOLD                  779\n",
       "            SELL                  106\n",
       "            BUY                   101\n",
       "1           HOLD                 3448\n",
       "            BUY                   757\n",
       "            SELL                  745\n",
       "2           HOLD                 9650\n",
       "            BUY                  1183\n",
       "            SELL                 1080\n",
       "Name: TARGET_PERCENTAGE, dtype: int64"
      ]
     },
     "execution_count": 13,
     "metadata": {},
     "output_type": "execute_result"
    }
   ],
   "source": [
    "df_train.groupby(['HORA_NOBRE'])['TARGET_PERCENTAGE'].value_counts()"
   ]
  },
  {
   "cell_type": "code",
   "execution_count": 14,
   "metadata": {},
   "outputs": [
    {
     "name": "stdout",
     "output_type": "stream",
     "text": [
      "\n",
      "Dados Categóricos de Treino Hora Nobre -- BUY: 757 | SELL: 745 | HOLD: 3448\n",
      "\n",
      "Dados Categóricos de Validação Hora Nobre -- BUY: 268 | SELL: 234 | HOLD: 1958\n",
      "\n",
      "Dados Categóricos de Teste Hora Nobre -- BUY: 146 | SELL: 129 | HOLD: 835\n"
     ]
    }
   ],
   "source": [
    "buy_train = df_train.groupby(['HORA_NOBRE'])['TARGET_PERCENTAGE'].value_counts()[4]\n",
    "sell_train = df_train.groupby(['HORA_NOBRE'])['TARGET_PERCENTAGE'].value_counts()[5]\n",
    "hold_train = df_train.groupby(['HORA_NOBRE'])['TARGET_PERCENTAGE'].value_counts()[3]\n",
    "\n",
    "buy_valid = df_valid.groupby(['HORA_NOBRE'])['TARGET_PERCENTAGE'].value_counts()[4]\n",
    "sell_valid = df_valid.groupby(['HORA_NOBRE'])['TARGET_PERCENTAGE'].value_counts()[5]\n",
    "hold_valid = df_valid.groupby(['HORA_NOBRE'])['TARGET_PERCENTAGE'].value_counts()[3]\n",
    "\n",
    "buy_test = df_test.groupby(['HORA_NOBRE'])['TARGET_PERCENTAGE'].value_counts()[4]\n",
    "sell_test = df_test.groupby(['HORA_NOBRE'])['TARGET_PERCENTAGE'].value_counts()[5]\n",
    "hold_test = df_test.groupby(['HORA_NOBRE'])['TARGET_PERCENTAGE'].value_counts()[3]\n",
    "\n",
    "print('\\nDados Categóricos de Treino Hora Nobre -- BUY: %d | SELL: %d | HOLD: %d' % (buy_train, sell_train, hold_train))\n",
    "print('\\nDados Categóricos de Validação Hora Nobre -- BUY: %d | SELL: %d | HOLD: %d' % (buy_valid, sell_valid, hold_valid))\n",
    "print('\\nDados Categóricos de Teste Hora Nobre -- BUY: %d | SELL: %d | HOLD: %d' % (buy_test, sell_test, hold_test))\n"
   ]
  },
  {
   "cell_type": "code",
   "execution_count": 15,
   "metadata": {},
   "outputs": [
    {
     "name": "stdout",
     "output_type": "stream",
     "text": [
      "3448\n",
      "754\n",
      "2694\n"
     ]
    }
   ],
   "source": [
    "np.random.seed(2345)\n",
    "porcentagem_selecao_train = (buy_train / hold_train)\n",
    "amostra_train = np.random.choice( a=[0,1], size=hold_train, replace=True, \n",
    "                                   p=[1-porcentagem_selecao_train, porcentagem_selecao_train] )\n",
    "print(len(amostra_train))\n",
    "print(len(amostra_train[amostra_train == 1]))\n",
    "print(len(amostra_train[amostra_train == 0]))"
   ]
  },
  {
   "cell_type": "code",
   "execution_count": 16,
   "metadata": {},
   "outputs": [
    {
     "name": "stdout",
     "output_type": "stream",
     "text": [
      "1958\n",
      "267\n",
      "1691\n"
     ]
    }
   ],
   "source": [
    "np.random.seed(2345)\n",
    "porcentagem_selecao_valid = (buy_valid / hold_valid)\n",
    "amostra_valid = np.random.choice( a=[0,1], size=hold_valid, replace=True, \n",
    "                                   p=[1-porcentagem_selecao_valid, porcentagem_selecao_valid] )\n",
    "print(len(amostra_valid))\n",
    "print(len(amostra_valid[amostra_valid == 1]))\n",
    "print(len(amostra_valid[amostra_valid == 0]))"
   ]
  },
  {
   "cell_type": "code",
   "execution_count": 17,
   "metadata": {},
   "outputs": [
    {
     "name": "stdout",
     "output_type": "stream",
     "text": [
      "835\n",
      "143\n",
      "692\n"
     ]
    }
   ],
   "source": [
    "np.random.seed(2345)\n",
    "porcentagem_selecao_test = (buy_test / hold_test)\n",
    "amostra_test = np.random.choice( a=[0,1], size=hold_test, replace=True, \n",
    "                                   p=[1-porcentagem_selecao_test, porcentagem_selecao_test] )\n",
    "print(len(amostra_test))\n",
    "print(len(amostra_test[amostra_test == 1]))\n",
    "print(len(amostra_test[amostra_test == 0]))"
   ]
  },
  {
   "cell_type": "code",
   "execution_count": 18,
   "metadata": {},
   "outputs": [],
   "source": [
    "def normalize(data):\n",
    "\n",
    "    scaler_x = StandardScaler()\n",
    "\n",
    "    x = data.iloc[:, :-2]\n",
    "    x = scaler_x.fit_transform(x) \n",
    "\n",
    "    y = data.iloc[:,-1]\n",
    "    y_list = np.array(y.to_list())\n",
    "\n",
    "    return x, y_list"
   ]
  },
  {
   "cell_type": "code",
   "execution_count": 19,
   "metadata": {},
   "outputs": [],
   "source": [
    "def get_train_valid_test_data(seq_len, df, amostragem):\n",
    "    print('df.shape: ', df.shape)\n",
    "    a=0\n",
    "    for i in range(len(df) - seq_len):\n",
    "        if df['TARGET_PERCENTAGE'][i+seq_len-1] == 'HOLD':\n",
    "            if amostragem[a] == 0:\n",
    "                df.drop((i+seq_len-1), axis=0, inplace=True) \n",
    "            a+=1\n",
    "\n",
    "    x, y = normalize(df)\n",
    "\n",
    "    return x, y"
   ]
  },
  {
   "cell_type": "code",
   "execution_count": 20,
   "metadata": {},
   "outputs": [],
   "source": [
    "def next_window(i, seq_len, df):\n",
    "    df = df[i:i+seq_len]\n",
    "    scaler_x = StandardScaler()\n",
    "    \n",
    "    x = df.iloc[:, :-2]\n",
    "    # xxx = np.array(x)\n",
    "    x = scaler_x.fit_transform(x) \n",
    "    \n",
    "    y = df.iloc[-1,-1]\n",
    "    # y_list = np.array(y.to_list())\n",
    "    \n",
    "    return x, y"
   ]
  },
  {
   "cell_type": "code",
   "execution_count": null,
   "metadata": {},
   "outputs": [],
   "source": []
  },
  {
   "cell_type": "code",
   "execution_count": 21,
   "metadata": {},
   "outputs": [],
   "source": [
    "def get_train_valid_test_data_Slide_Window(seq_len, df, amostragem):\n",
    "    print('df.shape: ', df.shape)\n",
    "    a=0\n",
    "    data_x = []\n",
    "    data_y = []\n",
    "    for i in range(len(df) - seq_len):\n",
    "        if df['TARGET_PERCENTAGE'].iloc[i+seq_len-1] == 'HOLD':\n",
    "            if amostragem[a] == 1:    \n",
    "                x, y = next_window(i, seq_len, df)\n",
    "                data_x.append(x)\n",
    "                data_y.append(y)\n",
    "            a+=1\n",
    "        else:\n",
    "            x, y = next_window(i, seq_len, df)\n",
    "            data_x.append(x)\n",
    "            data_y.append(y)\n",
    "\n",
    "    return np.array(data_x), np.array(data_y)"
   ]
  },
  {
   "cell_type": "code",
   "execution_count": 22,
   "metadata": {},
   "outputs": [
    {
     "name": "stdout",
     "output_type": "stream",
     "text": [
      "df.shape:  (4950, 122)\n",
      "x_train:  (2256, 120)  | y_train:  (2256,)\n"
     ]
    }
   ],
   "source": [
    "df_train_reset_index = df_train[df_train['HORA_NOBRE'] == '1'].reset_index(drop=True)\n",
    "x_train, y_train = get_train_valid_test_data(seq_len=1, \n",
    "                                             df=df_train_reset_index, \n",
    "                                             amostragem=amostra_train)\n",
    "print('x_train: ', x_train.shape,' | y_train: ', y_train.shape)"
   ]
  },
  {
   "cell_type": "code",
   "execution_count": 23,
   "metadata": {},
   "outputs": [
    {
     "name": "stdout",
     "output_type": "stream",
     "text": [
      "df.shape:  (4950, 122)\n",
      "x_train_sw:  (2246, 20, 120)  | y_train_sw:  (2246,)\n"
     ]
    }
   ],
   "source": [
    "df_train_reset_index = df_train[df_train['HORA_NOBRE'] == '1'].reset_index(drop=True)\n",
    "x_train_sw, y_train_sw = get_train_valid_test_data_Slide_Window( seq_len=configs['dataset']['sequence_length'], \n",
    "                                                                 df=df_train_reset_index, \n",
    "                                                                 amostragem=amostra_train)\n",
    "print('x_train_sw: ', x_train_sw.shape,' | y_train_sw: ', y_train_sw.shape)"
   ]
  },
  {
   "cell_type": "code",
   "execution_count": 24,
   "metadata": {
    "scrolled": false
   },
   "outputs": [
    {
     "name": "stdout",
     "output_type": "stream",
     "text": [
      "df.shape:  (2460, 122)\n",
      "(769, 120) (769,)\n"
     ]
    }
   ],
   "source": [
    "df_valid_reset_index = df_valid[df_valid['HORA_NOBRE'] == '1'].reset_index(drop=True)\n",
    "x_valid, y_valid = get_train_valid_test_data( seq_len=1, \n",
    "                                              df=df_valid_reset_index, \n",
    "                                              amostragem=amostra_valid )\n",
    "print(x_valid.shape, y_valid.shape)"
   ]
  },
  {
   "cell_type": "code",
   "execution_count": 25,
   "metadata": {
    "scrolled": true
   },
   "outputs": [
    {
     "name": "stdout",
     "output_type": "stream",
     "text": [
      "df.shape:  (2460, 122)\n",
      "(759, 20, 120) (759,)\n"
     ]
    }
   ],
   "source": [
    "df_valid_reset_index = df_valid[df_valid['HORA_NOBRE'] == '1'].reset_index(drop=True)\n",
    "x_valid_sw, y_valid_sw = get_train_valid_test_data_Slide_Window( seq_len=configs['dataset']['sequence_length'], \n",
    "                                                                 df=df_valid_reset_index, \n",
    "                                                                 amostragem=amostra_valid )\n",
    "print(x_valid_sw.shape, y_valid_sw.shape)"
   ]
  },
  {
   "cell_type": "code",
   "execution_count": 26,
   "metadata": {},
   "outputs": [
    {
     "name": "stdout",
     "output_type": "stream",
     "text": [
      "df.shape:  (1110, 122)\n",
      "(419, 120) (419,)\n"
     ]
    }
   ],
   "source": [
    "df_test_reset_index = df_test[df_test['HORA_NOBRE'] == '1'].reset_index(drop=True)\n",
    "x_test, y_test = get_train_valid_test_data( seq_len=1, \n",
    "                                            df=df_test_reset_index, \n",
    "                                            amostragem=amostra_test )\n",
    "print(x_test.shape, y_test.shape)"
   ]
  },
  {
   "cell_type": "code",
   "execution_count": 27,
   "metadata": {
    "scrolled": true
   },
   "outputs": [
    {
     "name": "stdout",
     "output_type": "stream",
     "text": [
      "df.shape:  (1110, 122)\n",
      "(411, 20, 120) (411,)\n"
     ]
    }
   ],
   "source": [
    "df_test_reset_index = df_test[df_test['HORA_NOBRE'] == '1'].reset_index(drop=True)\n",
    "x_test_sw, y_test_sw = get_train_valid_test_data_Slide_Window(   seq_len=configs['dataset']['sequence_length'], \n",
    "                                                                 df=df_test_reset_index, \n",
    "                                                                 amostragem=amostra_test)\n",
    "print(x_test_sw.shape, y_test_sw.shape)"
   ]
  },
  {
   "cell_type": "code",
   "execution_count": null,
   "metadata": {},
   "outputs": [],
   "source": []
  },
  {
   "cell_type": "code",
   "execution_count": 28,
   "metadata": {},
   "outputs": [],
   "source": [
    "def contagem_classes(data, name):\n",
    "    cont_buy = 0\n",
    "    cont_sell = 0\n",
    "    cont_hold = 0\n",
    "    for n in data:\n",
    "        if ((n == 'BUY') or (n == 0)):\n",
    "            cont_buy+=1\n",
    "        if ((n == 'HOLD') or (n == 1)):\n",
    "            cont_hold+=1\n",
    "        if ((n == 'SELL') or (n == 2)):\n",
    "            cont_sell+=1\n",
    "    print('{}.size: '.format(name), data.size, ' | cont_buy: ', cont_buy, ' | cont_hold: ', cont_hold, ' | cont_sell: ', cont_sell)"
   ]
  },
  {
   "cell_type": "code",
   "execution_count": 29,
   "metadata": {},
   "outputs": [
    {
     "name": "stdout",
     "output_type": "stream",
     "text": [
      "Contagem de Classes\n",
      "\n",
      "-----------------------------------------------------------------------------------\n",
      "y_train   .size:  2256  | cont_buy:  757  | cont_hold:  754  | cont_sell:  745\n",
      "y_train_sw.size:  2246  | cont_buy:  753  | cont_hold:  749  | cont_sell:  744\n",
      "-----------------------------------------------------------------------------------\n",
      "y_valid   .size:  769  | cont_buy:  268  | cont_hold:  267  | cont_sell:  234\n",
      "y_valid_sw.size:  759  | cont_buy:  263  | cont_hold:  266  | cont_sell:  230\n",
      "-----------------------------------------------------------------------------------\n",
      "y_test   .size:  419  | cont_buy:  129  | cont_hold:  144  | cont_sell:  146\n",
      "y_test_sw.size:  411  | cont_buy:  125  | cont_hold:  140  | cont_sell:  146\n",
      "-----------------------------------------------------------------------------------\n"
     ]
    }
   ],
   "source": [
    "print('Contagem de Classes\\n')\n",
    "print('-----------------------------------------------------------------------------------')\n",
    "contagem_classes(y_train, 'y_train   ')\n",
    "contagem_classes(y_train_sw, 'y_train_sw')\n",
    "print('-----------------------------------------------------------------------------------')\n",
    "contagem_classes(y_valid, 'y_valid   ')\n",
    "contagem_classes(y_valid_sw, 'y_valid_sw')\n",
    "print('-----------------------------------------------------------------------------------')\n",
    "contagem_classes(y_test, 'y_test   ')\n",
    "contagem_classes(y_test_sw, 'y_test_sw')\n",
    "print('-----------------------------------------------------------------------------------')"
   ]
  },
  {
   "cell_type": "code",
   "execution_count": null,
   "metadata": {},
   "outputs": [],
   "source": []
  },
  {
   "cell_type": "markdown",
   "metadata": {},
   "source": [
    "## Cálculo do Weighted F Score"
   ]
  },
  {
   "cell_type": "code",
   "execution_count": 30,
   "metadata": {},
   "outputs": [],
   "source": [
    "def weightedFScore(confusion_matrix):\n",
    "    beta_1 = math.pow(0.5, 2)\n",
    "    beta_2 = math.pow(0.25, 2)\n",
    "    beta_3 = math.pow(0.125, 2)\n",
    "    \n",
    "    num_tu = confusion_matrix[[0],[0]]\n",
    "    num_tf = confusion_matrix[[1],[1]]\n",
    "    num_td = confusion_matrix[[2],[2]]\n",
    "    \n",
    "    wrongF_trueU = confusion_matrix[[0],[1]]\n",
    "    wrongD_trueU = confusion_matrix[[0],[2]]\n",
    "    \n",
    "    wrongU_trueF = confusion_matrix[[1],[0]]\n",
    "    wrongD_trueF = confusion_matrix[[1],[2]]\n",
    "  \n",
    "    wrongU_trueD = confusion_matrix[[2],[0]]\n",
    "    wrongF_trueD = confusion_matrix[[2],[1]]\n",
    "    \n",
    "    num_tp = num_tu + num_td + (beta_3 * num_tf)\n",
    "    erro_tipo_1 = wrongU_trueD + wrongD_trueU\n",
    "    erro_tipo_2 = wrongU_trueF + wrongD_trueF\n",
    "    erro_tipo_3 = wrongF_trueU + wrongF_trueD\n",
    "    \n",
    "    num = (1 + beta_1 + beta_2) * num_tp\n",
    "    den = num + erro_tipo_1 + (beta_1 * erro_tipo_2) + (beta_2 * erro_tipo_3)\n",
    "    \n",
    "    wFScore = num / den\n",
    "    \n",
    "    return wFScore"
   ]
  },
  {
   "cell_type": "markdown",
   "metadata": {},
   "source": [
    "# Modelos"
   ]
  },
  {
   "cell_type": "code",
   "execution_count": 31,
   "metadata": {},
   "outputs": [],
   "source": [
    "import lightgbm as lgbm\n",
    "import seaborn as sns\n",
    "\n",
    "from sklearn.ensemble import RandomForestClassifier \n",
    "from sklearn.metrics import accuracy_score, confusion_matrix, classification_report"
   ]
  },
  {
   "cell_type": "markdown",
   "metadata": {},
   "source": [
    "## LightGBM"
   ]
  },
  {
   "cell_type": "code",
   "execution_count": 32,
   "metadata": {},
   "outputs": [
    {
     "name": "stdout",
     "output_type": "stream",
     "text": [
      "Accuracy Score - LightGBM:  0.315035799522673\n"
     ]
    }
   ],
   "source": [
    "model_lgbm = lgbm.LGBMClassifier(n_jobs=-1, random_state=0, n_estimators=5, learning_rate=0.001, num_leaves=2**6,\n",
    "                                 subsample=0.9, subsample_freq=1, colsample_bytree=1.)\n",
    "\n",
    "model_lgbm.fit(x_train, y_train)\n",
    "predict_lgbm = model_lgbm.predict(x_test)\n",
    "\n",
    "accuracy_score_LGBM = accuracy_score(y_test, predict_lgbm)\n",
    "\n",
    "print('Accuracy Score - LightGBM: ', accuracy_score_LGBM)"
   ]
  },
  {
   "cell_type": "code",
   "execution_count": 33,
   "metadata": {},
   "outputs": [
    {
     "name": "stdout",
     "output_type": "stream",
     "text": [
      "              precision    recall  f1-score   support\n",
      "\n",
      "         BUY       0.31      0.88      0.45       129\n",
      "        HOLD       0.39      0.13      0.20       144\n",
      "        SELL       0.00      0.00      0.00       146\n",
      "\n",
      "    accuracy                           0.32       419\n",
      "   macro avg       0.23      0.34      0.22       419\n",
      "weighted avg       0.23      0.32      0.21       419\n",
      "\n"
     ]
    },
    {
     "name": "stderr",
     "output_type": "stream",
     "text": [
      "C:\\Users\\auW10\\Anaconda3\\envs\\phd\\lib\\site-packages\\sklearn\\metrics\\_classification.py:1221: UndefinedMetricWarning: Precision and F-score are ill-defined and being set to 0.0 in labels with no predicted samples. Use `zero_division` parameter to control this behavior.\n",
      "  _warn_prf(average, modifier, msg_start, len(result))\n"
     ]
    }
   ],
   "source": [
    "print(classification_report(y_test, predict_lgbm))"
   ]
  },
  {
   "cell_type": "code",
   "execution_count": 34,
   "metadata": {
    "scrolled": false
   },
   "outputs": [
    {
     "data": {
      "text/plain": [
       "array([[113,  16,   0],\n",
       "       [125,  19,   0],\n",
       "       [132,  14,   0]], dtype=int64)"
      ]
     },
     "execution_count": 34,
     "metadata": {},
     "output_type": "execute_result"
    }
   ],
   "source": [
    "from sklearn.metrics import confusion_matrix\n",
    "confusion_matrix = confusion_matrix(y_test, predict_lgbm, labels=[\"BUY\", \"HOLD\", \"SELL\"])\n",
    "confusion_matrix"
   ]
  },
  {
   "cell_type": "code",
   "execution_count": 35,
   "metadata": {},
   "outputs": [
    {
     "name": "stdout",
     "output_type": "stream",
     "text": [
      "Contagem de Classes -> predict_lgbm\n",
      "\n",
      "predict_lgbm.size:  419  | cont_buy:  370  | cont_hold:  49  | cont_sell:  0\n"
     ]
    }
   ],
   "source": [
    "print('Contagem de Classes -> predict_lgbm\\n')\n",
    "contagem_classes(predict_lgbm, 'predict_lgbm')"
   ]
  },
  {
   "cell_type": "code",
   "execution_count": 36,
   "metadata": {},
   "outputs": [
    {
     "data": {
      "text/plain": [
       "<AxesSubplot:>"
      ]
     },
     "execution_count": 36,
     "metadata": {},
     "output_type": "execute_result"
    },
    {
     "data": {
      "image/png": "[encoded data removed]",
      "text/plain": [
       "<Figure size 432x288 with 2 Axes>"
      ]
     },
     "metadata": {
      "needs_background": "light"
     },
     "output_type": "display_data"
    }
   ],
   "source": [
    "# visualize confusion matrix with seaborn heatmap\n",
    "cm_matrix_LGBM = pd.DataFrame(data=confusion_matrix,\n",
    "                        columns=['BUY_P', 'HOLD_P', 'SELL_P'], \n",
    "                        index=['BUY_R', 'HOLD_R', 'SELL_R'])\n",
    "\n",
    "sns.heatmap(cm_matrix_LGBM, annot=True, fmt='d', cmap='YlGnBu')"
   ]
  },
  {
   "cell_type": "code",
   "execution_count": 37,
   "metadata": {},
   "outputs": [
    {
     "data": {
      "text/plain": [
       "0.4738345588578506"
      ]
     },
     "execution_count": 37,
     "metadata": {},
     "output_type": "execute_result"
    }
   ],
   "source": [
    "weightedFScore_LGBM = weightedFScore(confusion_matrix)[0] \n",
    "weightedFScore_LGBM"
   ]
  },
  {
   "cell_type": "markdown",
   "metadata": {},
   "source": [
    "### Compare train and test set accuracy"
   ]
  },
  {
   "cell_type": "code",
   "execution_count": 38,
   "metadata": {},
   "outputs": [],
   "source": [
    "#y_pred_train = model_lgbm.predict(x_train)\n",
    "#print('Training-set accuracy score: {0:0.4f}'. format(accuracy_score(y_train, y_pred_train)))"
   ]
  },
  {
   "cell_type": "markdown",
   "metadata": {},
   "source": [
    "### Check for Overfitting"
   ]
  },
  {
   "cell_type": "code",
   "execution_count": 39,
   "metadata": {},
   "outputs": [],
   "source": [
    "# print the scores on training and test set\n",
    "\n",
    "#print('Training set score: {:.4f}'.format(model_lgbm.score(x_train, y_train)))\n",
    "\n",
    "#print('Test set score: {:.4f}'.format(model_lgbm.score(x_test, y_test)))"
   ]
  },
  {
   "cell_type": "code",
   "execution_count": 40,
   "metadata": {},
   "outputs": [],
   "source": [
    "#print('Validation set score: {:.4f}'.format(model_lgbm.score(x_valid, y_valid)))"
   ]
  },
  {
   "cell_type": "markdown",
   "metadata": {},
   "source": [
    "## Random Forest"
   ]
  },
  {
   "cell_type": "code",
   "execution_count": 41,
   "metadata": {},
   "outputs": [
    {
     "name": "stdout",
     "output_type": "stream",
     "text": [
      "Accuracy Score - Random Forest:  0.34844868735083534\n"
     ]
    }
   ],
   "source": [
    "model_randomF = RandomForestClassifier(n_jobs=-1, random_state=0, n_estimators=5)\n",
    "model_randomF.fit(x_train, y_train)\n",
    "predict_randomF = model_randomF.predict(x_test)\n",
    "\n",
    "accuracy_score_RF = accuracy_score(y_test, predict_randomF)\n",
    "print('Accuracy Score - Random Forest: ', accuracy_score_RF)"
   ]
  },
  {
   "cell_type": "code",
   "execution_count": 42,
   "metadata": {
    "scrolled": false
   },
   "outputs": [
    {
     "name": "stdout",
     "output_type": "stream",
     "text": [
      "              precision    recall  f1-score   support\n",
      "\n",
      "         BUY       0.29      0.39      0.33       129\n",
      "        HOLD       0.37      0.39      0.38       144\n",
      "        SELL       0.42      0.27      0.33       146\n",
      "\n",
      "    accuracy                           0.35       419\n",
      "   macro avg       0.36      0.35      0.35       419\n",
      "weighted avg       0.36      0.35      0.35       419\n",
      "\n"
     ]
    }
   ],
   "source": [
    "print(classification_report(y_test, predict_randomF))"
   ]
  },
  {
   "cell_type": "code",
   "execution_count": 43,
   "metadata": {
    "scrolled": true
   },
   "outputs": [
    {
     "data": {
      "text/plain": [
       "array([[50, 49, 30],\n",
       "       [62, 56, 26],\n",
       "       [59, 47, 40]], dtype=int64)"
      ]
     },
     "execution_count": 43,
     "metadata": {},
     "output_type": "execute_result"
    }
   ],
   "source": [
    "from sklearn.metrics import confusion_matrix\n",
    "confusion_matrix = confusion_matrix(y_test, predict_randomF, labels=[\"BUY\", \"HOLD\", \"SELL\"])\n",
    "confusion_matrix"
   ]
  },
  {
   "cell_type": "code",
   "execution_count": 44,
   "metadata": {},
   "outputs": [
    {
     "name": "stdout",
     "output_type": "stream",
     "text": [
      "Contagem de Classes -> predict_randomF\n",
      "\n",
      "predict_randomF.size:  419  | cont_buy:  171  | cont_hold:  152  | cont_sell:  96\n"
     ]
    }
   ],
   "source": [
    "print('Contagem de Classes -> predict_randomF\\n')\n",
    "contagem_classes(predict_randomF, 'predict_randomF')"
   ]
  },
  {
   "cell_type": "code",
   "execution_count": 45,
   "metadata": {},
   "outputs": [
    {
     "data": {
      "text/plain": [
       "<AxesSubplot:>"
      ]
     },
     "execution_count": 45,
     "metadata": {},
     "output_type": "execute_result"
    },
    {
     "data": {
      "image/png": "[encoded data removed]",
      "text/plain": [
       "<Figure size 432x288 with 2 Axes>"
      ]
     },
     "metadata": {
      "needs_background": "light"
     },
     "output_type": "display_data"
    }
   ],
   "source": [
    "# visualize confusion matrix with seaborn heatmap\n",
    "cm_matrix_RF = pd.DataFrame(data=confusion_matrix,\n",
    "                        columns=['BUY_P', 'HOLD_P', 'SELL_P'], \n",
    "                        index=['BUY_R', 'HOLD_R', 'SELL_R'])\n",
    "\n",
    "sns.heatmap(cm_matrix_RF, annot=True, fmt='d', cmap='YlGnBu')"
   ]
  },
  {
   "cell_type": "code",
   "execution_count": 46,
   "metadata": {},
   "outputs": [
    {
     "data": {
      "text/plain": [
       "0.5048110306517211"
      ]
     },
     "execution_count": 46,
     "metadata": {},
     "output_type": "execute_result"
    }
   ],
   "source": [
    "weightedFScore_RF = weightedFScore(confusion_matrix)[0] \n",
    "weightedFScore_RF"
   ]
  },
  {
   "cell_type": "markdown",
   "metadata": {},
   "source": [
    "### Compare train and test set accuracy"
   ]
  },
  {
   "cell_type": "code",
   "execution_count": 47,
   "metadata": {},
   "outputs": [],
   "source": [
    "#y_pred_train = model_randomF.predict(x_train)\n",
    "#print('Training-set accuracy score: {0:0.4f}'. format(accuracy_score(y_train, y_pred_train)))"
   ]
  },
  {
   "cell_type": "markdown",
   "metadata": {},
   "source": [
    "### Check for Overfitting"
   ]
  },
  {
   "cell_type": "code",
   "execution_count": 48,
   "metadata": {},
   "outputs": [],
   "source": [
    "# print the scores on training and test set\n",
    "\n",
    "#print('Training set score: {:.4f}'.format(model_randomF.score(x_train, y_train)))\n",
    "\n",
    "#print('Test set score: {:.4f}'.format(model_randomF.score(x_test, y_test)))"
   ]
  },
  {
   "cell_type": "code",
   "execution_count": 49,
   "metadata": {},
   "outputs": [],
   "source": [
    "#print('Validation set score: {:.4f}'.format(model_randomF.score(x_valid, y_valid)))"
   ]
  },
  {
   "cell_type": "markdown",
   "metadata": {},
   "source": [
    "# Deep Learning"
   ]
  },
  {
   "cell_type": "code",
   "execution_count": 50,
   "metadata": {},
   "outputs": [
    {
     "name": "stderr",
     "output_type": "stream",
     "text": [
      "Using TensorFlow backend.\n"
     ]
    }
   ],
   "source": [
    "# Encoding categorical data\n",
    "from keras.utils import to_categorical\n",
    "from sklearn.preprocessing import LabelEncoder\n",
    "\n",
    "def encode_categ_data(data):\n",
    "    labelencoder = LabelEncoder()\n",
    "    x = labelencoder.fit_transform(data)\n",
    "    data_encoded = to_categorical(x)\n",
    "    \n",
    "    #print(data[10:20])\n",
    "    #print(data_encoded[10:20])\n",
    "    \n",
    "    return data_encoded"
   ]
  },
  {
   "cell_type": "code",
   "execution_count": 51,
   "metadata": {},
   "outputs": [],
   "source": [
    "# example of training a final classification model\n",
    "from keras.models import Sequential, load_model\n",
    "from core.utils import Timer\n",
    "from keras.layers import Dense, Dropout, LSTM, GRU, SimpleRNN\n",
    "from keras.callbacks import EarlyStopping, ModelCheckpoint\n",
    "from keras.optimizers import SGD, Adam\n",
    "dim = x_train.shape[1]"
   ]
  },
  {
   "cell_type": "markdown",
   "metadata": {},
   "source": [
    "## DNN"
   ]
  },
  {
   "cell_type": "code",
   "execution_count": 52,
   "metadata": {
    "scrolled": true
   },
   "outputs": [
    {
     "name": "stdout",
     "output_type": "stream",
     "text": [
      "WARNING:tensorflow:From C:\\Users\\auW10\\Anaconda3\\envs\\phd\\lib\\site-packages\\tensorflow_core\\python\\ops\\resource_variable_ops.py:1630: calling BaseResourceVariable.__init__ (from tensorflow.python.ops.resource_variable_ops) with constraint is deprecated and will be removed in a future version.\n",
      "Instructions for updating:\n",
      "If using Keras pass *_constraint arguments to layers.\n",
      "[model] Model Compiled\n",
      "Time taken: 0:00:00.699130\n"
     ]
    }
   ],
   "source": [
    "# define and fit the final model\n",
    "timer = Timer()\n",
    "timer.start()\n",
    "\n",
    "model_dnn = Sequential()\n",
    "\n",
    "model_dnn.add(Dense(100, input_dim=dim, activation='relu'))\n",
    "model_dnn.add(Dropout(0.2))\n",
    "model_dnn.add(Dense(75, activation='relu'))\n",
    "model_dnn.add(Dropout(0.4))\n",
    "model_dnn.add(Dense(50, activation='relu'))\n",
    "model_dnn.add(Dropout(0.5))\n",
    "model_dnn.add(Dense(25, activation='relu'))\n",
    "model_dnn.add(Dropout(0.2))\n",
    "model_dnn.add(Dense(3, activation='softmax'))\n",
    "\n",
    "model_dnn.compile(loss='categorical_crossentropy', optimizer='adam', metrics=['accuracy'])\n",
    "\n",
    "print('[model] Model Compiled')\n",
    "#print(model_dnn.summary())\n",
    "timer.stop()\n"
   ]
  },
  {
   "cell_type": "code",
   "execution_count": 53,
   "metadata": {
    "scrolled": true
   },
   "outputs": [
    {
     "data": {
      "text/plain": [
       "\"# define and fit the final model\\ntimer = Timer()\\ntimer.start()\\n\\nmodel_dnn = Sequential()\\n\\nmodel_dnn.add(Dense(100, input_dim=dim, activation='relu'))\\nmodel_dnn.add(Dropout(0.2))\\nmodel_dnn.add(Dense(50, activation='relu'))\\nmodel_dnn.add(Dropout(0.3))\\nmodel_dnn.add(Dense(30, activation='relu'))\\nmodel_dnn.add(Dropout(0.3))\\nmodel_dnn.add(Dense(15, activation='relu'))\\nmodel_dnn.add(Dropout(0.2))\\nmodel_dnn.add(Dense(3, activation='softmax'))\\n\\nmodel_dnn.compile(loss='categorical_crossentropy', optimizer='adam', metrics=['accuracy'])\\n\\nprint('[model] Model Compiled')\\n#print(model_dnn.summary())\\ntimer.stop()\\n\""
      ]
     },
     "execution_count": 53,
     "metadata": {},
     "output_type": "execute_result"
    }
   ],
   "source": [
    "'''# define and fit the final model\n",
    "timer = Timer()\n",
    "timer.start()\n",
    "\n",
    "model_dnn = Sequential()\n",
    "\n",
    "model_dnn.add(Dense(100, input_dim=dim, activation='relu'))\n",
    "model_dnn.add(Dropout(0.2))\n",
    "model_dnn.add(Dense(50, activation='relu'))\n",
    "model_dnn.add(Dropout(0.3))\n",
    "model_dnn.add(Dense(30, activation='relu'))\n",
    "model_dnn.add(Dropout(0.3))\n",
    "model_dnn.add(Dense(15, activation='relu'))\n",
    "model_dnn.add(Dropout(0.2))\n",
    "model_dnn.add(Dense(3, activation='softmax'))\n",
    "\n",
    "model_dnn.compile(loss='categorical_crossentropy', optimizer='adam', metrics=['accuracy'])\n",
    "\n",
    "print('[model] Model Compiled')\n",
    "#print(model_dnn.summary())\n",
    "timer.stop()\n",
    "'''"
   ]
  },
  {
   "cell_type": "code",
   "execution_count": 54,
   "metadata": {
    "scrolled": true
   },
   "outputs": [
    {
     "name": "stdout",
     "output_type": "stream",
     "text": [
      "[Model] Training Started\n",
      "WARNING:tensorflow:From C:\\Users\\auW10\\Anaconda3\\envs\\phd\\lib\\site-packages\\keras\\backend\\tensorflow_backend.py:422: The name tf.global_variables is deprecated. Please use tf.compat.v1.global_variables instead.\n",
      "\n",
      "Train on 2256 samples, validate on 769 samples\n",
      "Epoch 1/50\n",
      "2256/2256 [==============================] - 1s 614us/step - loss: 1.1630 - accuracy: 0.3382 - val_loss: 1.1016 - val_accuracy: 0.3316\n",
      "Epoch 2/50\n",
      "2256/2256 [==============================] - 1s 244us/step - loss: 1.1110 - accuracy: 0.3497 - val_loss: 1.0859 - val_accuracy: 0.3810\n",
      "Epoch 3/50\n",
      "2256/2256 [==============================] - 1s 285us/step - loss: 1.0978 - accuracy: 0.3684 - val_loss: 1.0894 - val_accuracy: 0.3797\n",
      "Epoch 4/50\n",
      "2256/2256 [==============================] - 1s 289us/step - loss: 1.0890 - accuracy: 0.3825 - val_loss: 1.0833 - val_accuracy: 0.4213\n",
      "Epoch 5/50\n",
      "2256/2256 [==============================] - 1s 242us/step - loss: 1.0935 - accuracy: 0.3710 - val_loss: 1.0809 - val_accuracy: 0.4356\n",
      "Epoch 6/50\n",
      "2256/2256 [==============================] - 1s 240us/step - loss: 1.0917 - accuracy: 0.3799 - val_loss: 1.0827 - val_accuracy: 0.3927\n",
      "Epoch 7/50\n",
      "2256/2256 [==============================] - 1s 236us/step - loss: 1.0849 - accuracy: 0.4109 - val_loss: 1.0753 - val_accuracy: 0.4330\n",
      "Epoch 8/50\n",
      "2256/2256 [==============================] - 1s 335us/step - loss: 1.0854 - accuracy: 0.4087 - val_loss: 1.0794 - val_accuracy: 0.4317\n",
      "Epoch 9/50\n",
      "2256/2256 [==============================] - 1s 333us/step - loss: 1.0815 - accuracy: 0.4122 - val_loss: 1.0732 - val_accuracy: 0.4278\n",
      "Epoch 10/50\n",
      "2256/2256 [==============================] - 1s 294us/step - loss: 1.0788 - accuracy: 0.4096 - val_loss: 1.0782 - val_accuracy: 0.4187\n",
      "Epoch 11/50\n",
      "2256/2256 [==============================] - 1s 233us/step - loss: 1.0799 - accuracy: 0.3998 - val_loss: 1.0783 - val_accuracy: 0.4044\n",
      "Epoch 12/50\n",
      "2256/2256 [==============================] - 1s 232us/step - loss: 1.0775 - accuracy: 0.4224 - val_loss: 1.0805 - val_accuracy: 0.4057\n",
      "Epoch 13/50\n",
      "2256/2256 [==============================] - 1s 232us/step - loss: 1.0752 - accuracy: 0.4309 - val_loss: 1.0810 - val_accuracy: 0.4070\n",
      "Epoch 14/50\n",
      "2256/2256 [==============================] - 1s 236us/step - loss: 1.0782 - accuracy: 0.4322 - val_loss: 1.0773 - val_accuracy: 0.4070\n",
      "Epoch 15/50\n",
      "2256/2256 [==============================] - 1s 236us/step - loss: 1.0622 - accuracy: 0.4340 - val_loss: 1.0778 - val_accuracy: 0.4005\n",
      "Epoch 16/50\n",
      "2256/2256 [==============================] - 1s 225us/step - loss: 1.0728 - accuracy: 0.4215 - val_loss: 1.0764 - val_accuracy: 0.4018\n",
      "Epoch 17/50\n",
      "2256/2256 [==============================] - 0s 215us/step - loss: 1.0613 - accuracy: 0.4246 - val_loss: 1.0761 - val_accuracy: 0.4083\n",
      "Epoch 18/50\n",
      "2256/2256 [==============================] - 1s 228us/step - loss: 1.0582 - accuracy: 0.4415 - val_loss: 1.0748 - val_accuracy: 0.3992\n",
      "Epoch 19/50\n",
      "2256/2256 [==============================] - 1s 229us/step - loss: 1.0677 - accuracy: 0.4242 - val_loss: 1.0842 - val_accuracy: 0.3875\n",
      "Epoch 20/50\n",
      "2256/2256 [==============================] - 1s 222us/step - loss: 1.0623 - accuracy: 0.4224 - val_loss: 1.0752 - val_accuracy: 0.3875\n",
      "Epoch 21/50\n",
      "2256/2256 [==============================] - 1s 227us/step - loss: 1.0582 - accuracy: 0.4371 - val_loss: 1.0721 - val_accuracy: 0.4057\n",
      "Epoch 22/50\n",
      "2256/2256 [==============================] - 1s 223us/step - loss: 1.0402 - accuracy: 0.4583 - val_loss: 1.0831 - val_accuracy: 0.3901\n",
      "Epoch 23/50\n",
      "2256/2256 [==============================] - 1s 228us/step - loss: 1.0516 - accuracy: 0.4450 - val_loss: 1.0700 - val_accuracy: 0.4109\n",
      "Epoch 24/50\n",
      "2256/2256 [==============================] - 1s 224us/step - loss: 1.0598 - accuracy: 0.4322 - val_loss: 1.0706 - val_accuracy: 0.3888\n",
      "Epoch 25/50\n",
      "2256/2256 [==============================] - 1s 223us/step - loss: 1.0582 - accuracy: 0.4530 - val_loss: 1.0724 - val_accuracy: 0.3888\n",
      "Epoch 26/50\n",
      "2256/2256 [==============================] - 1s 224us/step - loss: 1.0503 - accuracy: 0.4499 - val_loss: 1.0566 - val_accuracy: 0.4096\n",
      "Epoch 27/50\n",
      "2256/2256 [==============================] - 1s 224us/step - loss: 1.0445 - accuracy: 0.4521 - val_loss: 1.0700 - val_accuracy: 0.4083\n",
      "Epoch 28/50\n",
      "2256/2256 [==============================] - 1s 243us/step - loss: 1.0496 - accuracy: 0.4415 - val_loss: 1.0723 - val_accuracy: 0.4122\n",
      "Epoch 29/50\n",
      "2256/2256 [==============================] - 1s 223us/step - loss: 1.0473 - accuracy: 0.4464 - val_loss: 1.0714 - val_accuracy: 0.4187\n",
      "Epoch 30/50\n",
      "2256/2256 [==============================] - 1s 240us/step - loss: 1.0468 - accuracy: 0.4526 - val_loss: 1.0677 - val_accuracy: 0.4161\n",
      "Epoch 31/50\n",
      "2256/2256 [==============================] - 1s 249us/step - loss: 1.0366 - accuracy: 0.4747 - val_loss: 1.0684 - val_accuracy: 0.4096\n",
      "Epoch 32/50\n",
      "2256/2256 [==============================] - 1s 236us/step - loss: 1.0394 - accuracy: 0.4699 - val_loss: 1.0782 - val_accuracy: 0.4070\n",
      "Epoch 33/50\n",
      "2256/2256 [==============================] - 1s 246us/step - loss: 1.0349 - accuracy: 0.4663 - val_loss: 1.0635 - val_accuracy: 0.4395\n",
      "Epoch 34/50\n",
      "2256/2256 [==============================] - 1s 243us/step - loss: 1.0276 - accuracy: 0.4849 - val_loss: 1.0663 - val_accuracy: 0.4382\n",
      "Epoch 35/50\n",
      "2256/2256 [==============================] - 1s 235us/step - loss: 1.0297 - accuracy: 0.4721 - val_loss: 1.0699 - val_accuracy: 0.4096\n",
      "Epoch 36/50\n",
      "2256/2256 [==============================] - 1s 313us/step - loss: 1.0323 - accuracy: 0.4659 - val_loss: 1.0700 - val_accuracy: 0.4434\n",
      "Epoch 37/50\n",
      "2256/2256 [==============================] - 1s 253us/step - loss: 1.0289 - accuracy: 0.4836 - val_loss: 1.0879 - val_accuracy: 0.4083\n",
      "Epoch 38/50\n",
      "2256/2256 [==============================] - 1s 230us/step - loss: 1.0170 - accuracy: 0.4849 - val_loss: 1.0834 - val_accuracy: 0.4135\n",
      "Epoch 39/50\n",
      "2256/2256 [==============================] - 1s 244us/step - loss: 1.0291 - accuracy: 0.4814 - val_loss: 1.0690 - val_accuracy: 0.4096\n",
      "Epoch 40/50\n",
      "2256/2256 [==============================] - 1s 247us/step - loss: 1.0113 - accuracy: 0.4792 - val_loss: 1.0859 - val_accuracy: 0.4109\n",
      "Epoch 41/50\n",
      "2256/2256 [==============================] - 1s 255us/step - loss: 1.0177 - accuracy: 0.4818 - val_loss: 1.0668 - val_accuracy: 0.4226\n",
      "Epoch 42/50\n",
      "2256/2256 [==============================] - 1s 248us/step - loss: 1.0083 - accuracy: 0.4907 - val_loss: 1.0733 - val_accuracy: 0.4330\n",
      "Epoch 43/50\n",
      "2256/2256 [==============================] - 1s 276us/step - loss: 1.0068 - accuracy: 0.4938 - val_loss: 1.0770 - val_accuracy: 0.4018\n",
      "Epoch 44/50\n",
      "2256/2256 [==============================] - 1s 259us/step - loss: 1.0097 - accuracy: 0.4956 - val_loss: 1.0822 - val_accuracy: 0.4213\n",
      "Epoch 45/50\n",
      "2256/2256 [==============================] - 1s 223us/step - loss: 1.0084 - accuracy: 0.4920 - val_loss: 1.0837 - val_accuracy: 0.4252\n",
      "Epoch 46/50\n",
      "2256/2256 [==============================] - 1s 250us/step - loss: 0.9983 - accuracy: 0.4942 - val_loss: 1.0750 - val_accuracy: 0.4395\n",
      "Epoch 47/50\n",
      "2256/2256 [==============================] - 1s 231us/step - loss: 1.0014 - accuracy: 0.5031 - val_loss: 1.0835 - val_accuracy: 0.4304\n",
      "Epoch 48/50\n",
      "2256/2256 [==============================] - 1s 244us/step - loss: 0.9816 - accuracy: 0.5142 - val_loss: 1.1004 - val_accuracy: 0.4343\n",
      "Epoch 49/50\n",
      "2256/2256 [==============================] - 1s 228us/step - loss: 0.9934 - accuracy: 0.4996 - val_loss: 1.0840 - val_accuracy: 0.4018\n",
      "Epoch 50/50\n",
      "2256/2256 [==============================] - 1s 225us/step - loss: 0.9780 - accuracy: 0.5058 - val_loss: 1.1012 - val_accuracy: 0.4395\n",
      "[Model] Training Completed.\n",
      "Model saved as saved_models\\prototipo_ciclo1_multiclass_jupyter_DNN.h5\n",
      "Time taken: 0:00:37.056029\n"
     ]
    }
   ],
   "source": [
    "timer = Timer()\n",
    "timer.start()\n",
    "print('[Model] Training Started')\n",
    "\n",
    "save_dir=configs['model']['save_dir']\n",
    "my_model=configs['model']['model_name']\n",
    "save_fname = os.path.join(save_dir, '%s_DNN.h5' % my_model)\n",
    "\n",
    "batch_size=configs['training']['batch_size']\n",
    "\n",
    "callbacks = [ ModelCheckpoint(filepath=save_fname, monitor='loss', save_best_only=True)]\n",
    "\n",
    "y_train_enc = encode_categ_data(y_train)\n",
    "y_valid_enc = encode_categ_data(y_valid)\n",
    "H = model_dnn.fit( x_train, y_train_enc, validation_data=(x_valid, y_valid_enc), epochs=50, \n",
    "                   callbacks=callbacks, workers=1 )\n",
    "\n",
    "model_dnn.save(save_fname)\n",
    "\n",
    "print('[Model] Training Completed.')\n",
    "print('Model saved as %s' % save_fname)\n",
    "\n",
    "timer.stop()"
   ]
  },
  {
   "cell_type": "code",
   "execution_count": 55,
   "metadata": {},
   "outputs": [
    {
     "data": {
      "text/plain": [
       "array([[0.29469195, 0.31602478, 0.3892832 ],\n",
       "       [0.13518375, 0.29042432, 0.5743919 ],\n",
       "       [0.19373468, 0.26043758, 0.54582775],\n",
       "       ...,\n",
       "       [0.4782055 , 0.21819732, 0.30359715],\n",
       "       [0.5676761 , 0.2009472 , 0.23137672],\n",
       "       [0.52499664, 0.20919289, 0.26581052]], dtype=float32)"
      ]
     },
     "execution_count": 55,
     "metadata": {},
     "output_type": "execute_result"
    }
   ],
   "source": [
    "# new instances where we do not know the answer\n",
    "y_pred = model_dnn.predict(x_test) \n",
    "y_pred"
   ]
  },
  {
   "cell_type": "code",
   "execution_count": 56,
   "metadata": {},
   "outputs": [
    {
     "name": "stdout",
     "output_type": "stream",
     "text": [
      "dict_keys(['val_loss', 'val_accuracy', 'loss', 'accuracy'])\n"
     ]
    },
    {
     "data": {
      "image/png": "[encoded data removed]",
      "text/plain": [
       "<Figure size 432x288 with 1 Axes>"
      ]
     },
     "metadata": {
      "needs_background": "light"
     },
     "output_type": "display_data"
    },
    {
     "data": {
      "image/png": "[encoded data removed]",
      "text/plain": [
       "<Figure size 432x288 with 1 Axes>"
      ]
     },
     "metadata": {
      "needs_background": "light"
     },
     "output_type": "display_data"
    }
   ],
   "source": [
    "# list all data in history       \n",
    "print(H.history.keys())\n",
    "# summarize history for accuracy\n",
    "plt.plot(H.history['accuracy'])\n",
    "plt.plot(H.history['val_accuracy'])\n",
    "plt.title('model accuracy')\n",
    "plt.ylabel('accuracy')\n",
    "plt.xlabel('epoch')\n",
    "plt.legend(['accuracy', 'val_accuracy'], loc='upper left')\n",
    "fig_path = 'accuracy_history.png'\n",
    "plt.savefig(fig_path)     \n",
    "plt.show()\n",
    "\n",
    "# summarize history for loss\n",
    "plt.plot(H.history['loss'])\n",
    "plt.plot(H.history['val_loss'])\n",
    "plt.title('model loss')\n",
    "plt.ylabel('loss')\n",
    "plt.xlabel('epoch')\n",
    "plt.legend(['loss', 'val_loss'], loc='upper left')\n",
    "fig_path = 'loss_history.png'\n",
    "plt.savefig(fig_path) \n",
    "plt.show()"
   ]
  },
  {
   "cell_type": "code",
   "execution_count": 57,
   "metadata": {},
   "outputs": [],
   "source": [
    "# BUY | SELL | HOLD\n",
    "\n",
    "labels = ['BUY', 'HOLD', 'SELL'] \n",
    "\n",
    "pred = []\n",
    "for i in y_pred:\n",
    "    pred.append(np.argmax(i))\n",
    "pred_array = np.array(pred)       \n",
    "\n",
    "real = []\n",
    "y_test_enc = encode_categ_data(y_test)\n",
    "for i in y_test_enc:\n",
    "    real.append(np.argmax(i))\n",
    "real_array = np.array(real)    "
   ]
  },
  {
   "cell_type": "code",
   "execution_count": 58,
   "metadata": {},
   "outputs": [
    {
     "name": "stdout",
     "output_type": "stream",
     "text": [
      "[[0.33314517 0.26100594 0.40584883]\n",
      " [0.24845466 0.631346   0.1201994 ]\n",
      " [0.331639   0.30467275 0.3636882 ]\n",
      " [0.3577609  0.27368125 0.36855784]\n",
      " [0.28425473 0.56170213 0.15404312]\n",
      " [0.36028147 0.2899064  0.3498121 ]\n",
      " [0.43764406 0.28425854 0.2780974 ]\n",
      " [0.64289683 0.15814067 0.19896246]\n",
      " [0.5079369  0.19376193 0.29830122]\n",
      " [0.47132328 0.19659387 0.3320828 ]]\n",
      "[[1. 0. 0.]\n",
      " [0. 1. 0.]\n",
      " [0. 1. 0.]\n",
      " [0. 1. 0.]\n",
      " [0. 1. 0.]\n",
      " [0. 1. 0.]\n",
      " [1. 0. 0.]\n",
      " [1. 0. 0.]\n",
      " [1. 0. 0.]\n",
      " [0. 1. 0.]]\n"
     ]
    }
   ],
   "source": [
    "print(y_pred[10:20])\n",
    "print(y_test_enc[10:20])"
   ]
  },
  {
   "cell_type": "code",
   "execution_count": 59,
   "metadata": {},
   "outputs": [
    {
     "name": "stdout",
     "output_type": "stream",
     "text": [
      "[2 1 2 2 1 0 0 0 0 0]\n",
      "[0 1 1 1 1 1 0 0 0 1]\n"
     ]
    }
   ],
   "source": [
    "print(pred_array[10:20])\n",
    "print(real_array[10:20])"
   ]
  },
  {
   "cell_type": "code",
   "execution_count": 60,
   "metadata": {},
   "outputs": [
    {
     "name": "stdout",
     "output_type": "stream",
     "text": [
      "Accuracy Score - DL:  0.360381861575179\n"
     ]
    }
   ],
   "source": [
    "accuracy_score_DNN = accuracy_score(real_array, pred_array)\n",
    "print('Accuracy Score - DL: ', accuracy_score_DNN)"
   ]
  },
  {
   "cell_type": "code",
   "execution_count": 61,
   "metadata": {},
   "outputs": [
    {
     "name": "stdout",
     "output_type": "stream",
     "text": [
      "              precision    recall  f1-score   support\n",
      "\n",
      "           0       0.35      0.33      0.34       129\n",
      "           1       0.34      0.22      0.26       144\n",
      "           2       0.38      0.53      0.44       146\n",
      "\n",
      "    accuracy                           0.36       419\n",
      "   macro avg       0.35      0.36      0.35       419\n",
      "weighted avg       0.35      0.36      0.35       419\n",
      "\n"
     ]
    }
   ],
   "source": [
    "print(classification_report(real_array, pred_array))"
   ]
  },
  {
   "cell_type": "code",
   "execution_count": 62,
   "metadata": {
    "scrolled": true
   },
   "outputs": [
    {
     "data": {
      "text/plain": [
       "array([[42, 31, 56],\n",
       "       [41, 31, 72],\n",
       "       [38, 30, 78]], dtype=int64)"
      ]
     },
     "execution_count": 62,
     "metadata": {},
     "output_type": "execute_result"
    }
   ],
   "source": [
    "from sklearn.metrics import confusion_matrix\n",
    "confusion_matrix = confusion_matrix(real_array, pred_array)\n",
    "confusion_matrix"
   ]
  },
  {
   "cell_type": "code",
   "execution_count": 63,
   "metadata": {},
   "outputs": [
    {
     "name": "stdout",
     "output_type": "stream",
     "text": [
      "Contagem de Classes -> DNN_real_array\n",
      "\n",
      "DNN_real_array.size:  419  | cont_buy:  129  | cont_hold:  144  | cont_sell:  146\n"
     ]
    }
   ],
   "source": [
    "print('Contagem de Classes -> DNN_real_array\\n')\n",
    "contagem_classes(real_array, 'DNN_real_array')"
   ]
  },
  {
   "cell_type": "code",
   "execution_count": 64,
   "metadata": {},
   "outputs": [
    {
     "name": "stdout",
     "output_type": "stream",
     "text": [
      "Contagem de Classes -> DNN_pred_array\n",
      "\n",
      "DNN_pred_array.size:  419  | cont_buy:  121  | cont_hold:  92  | cont_sell:  206\n"
     ]
    }
   ],
   "source": [
    "print('Contagem de Classes -> DNN_pred_array\\n')\n",
    "contagem_classes(pred_array, 'DNN_pred_array')"
   ]
  },
  {
   "cell_type": "code",
   "execution_count": 65,
   "metadata": {},
   "outputs": [
    {
     "data": {
      "text/plain": [
       "<AxesSubplot:>"
      ]
     },
     "execution_count": 65,
     "metadata": {},
     "output_type": "execute_result"
    },
    {
     "data": {
      "image/png": "[encoded data removed]",
      "text/plain": [
       "<Figure size 432x288 with 2 Axes>"
      ]
     },
     "metadata": {
      "needs_background": "light"
     },
     "output_type": "display_data"
    }
   ],
   "source": [
    "# visualize confusion matrix with seaborn heatmap\n",
    "cm_matrix_DNN = pd.DataFrame(data=confusion_matrix,\n",
    "                        columns=['BUY_P', 'HOLD_P', 'SELL_P'], \n",
    "                        index=['BUY_R', 'HOLD_R', 'SELL_R'])\n",
    "\n",
    "sns.heatmap(cm_matrix_DNN, annot=True, fmt='d', cmap='YlGnBu')"
   ]
  },
  {
   "cell_type": "code",
   "execution_count": 66,
   "metadata": {},
   "outputs": [
    {
     "data": {
      "text/plain": [
       "0.5564275872022102"
      ]
     },
     "execution_count": 66,
     "metadata": {},
     "output_type": "execute_result"
    }
   ],
   "source": [
    "weightedFScore_DNN = weightedFScore(confusion_matrix)[0] \n",
    "weightedFScore_DNN"
   ]
  },
  {
   "cell_type": "code",
   "execution_count": 67,
   "metadata": {
    "scrolled": true
   },
   "outputs": [
    {
     "name": "stdout",
     "output_type": "stream",
     "text": [
      "Training-set accuracy score: 0.5563\n"
     ]
    }
   ],
   "source": [
    "y_pred_train = model_dnn.predict(x_train)\n",
    "\n",
    "labels = ['BUY', 'HOLD', 'SELL'] \n",
    "\n",
    "pred = []\n",
    "for i in y_pred_train:\n",
    "    pred.append(np.argmax(i))\n",
    "pred_array = np.array(pred)       \n",
    "\n",
    "real = []\n",
    "for i in y_train_enc:\n",
    "    real.append(np.argmax(i))\n",
    "real_array = np.array(real)    \n",
    "\n",
    "print('Training-set accuracy score: {0:0.4f}'. format(accuracy_score(real_array, pred_array)))"
   ]
  },
  {
   "cell_type": "code",
   "execution_count": null,
   "metadata": {},
   "outputs": [],
   "source": []
  },
  {
   "cell_type": "markdown",
   "metadata": {},
   "source": [
    "# LSTM"
   ]
  },
  {
   "cell_type": "code",
   "execution_count": null,
   "metadata": {},
   "outputs": [],
   "source": []
  },
  {
   "cell_type": "code",
   "execution_count": 68,
   "metadata": {
    "scrolled": true
   },
   "outputs": [
    {
     "name": "stdout",
     "output_type": "stream",
     "text": [
      "[model] Model Compiled\n",
      "Time taken: 0:00:01.634537\n"
     ]
    }
   ],
   "source": [
    "# define and fit the final model\n",
    "timer = Timer()\n",
    "timer.start()\n",
    "timesteps = configs['dataset']['sequence_length']\n",
    "\n",
    "model_lstm = Sequential()\n",
    "\n",
    "model_lstm.add(LSTM(200, input_shape=(timesteps, dim), return_sequences=True))\n",
    "#model_lstm.add(Dropout(0.1))\n",
    "model_lstm.add(LSTM(150, input_shape=(timesteps, dim), return_sequences=True))\n",
    "model_lstm.add(Dropout(0.2))\n",
    "model_lstm.add(LSTM(100, input_shape=(timesteps, dim), return_sequences=True))\n",
    "model_lstm.add(Dropout(0.2))\n",
    "model_lstm.add(LSTM(100, input_shape=(timesteps, dim), return_sequences=True))\n",
    "model_lstm.add(Dropout(0.2))\n",
    "model_lstm.add(LSTM(100, input_shape=(timesteps, dim), return_sequences=True))\n",
    "model_lstm.add(Dropout(0.2))\n",
    "model_lstm.add(LSTM(50, input_shape=(timesteps, dim), return_sequences=False))\n",
    "model_lstm.add(Dropout(0.2))\n",
    "model_lstm.add(Dense(3, activation='softmax'))\n",
    "\n",
    "model_lstm.compile(loss='categorical_crossentropy', optimizer='adam', metrics=['accuracy'])\n",
    "\n",
    "print('[model] Model Compiled')\n",
    "#print(model_lstm.summary())\n",
    "timer.stop()\n"
   ]
  },
  {
   "cell_type": "code",
   "execution_count": 69,
   "metadata": {
    "scrolled": true
   },
   "outputs": [
    {
     "data": {
      "text/plain": [
       "\"# define and fit the final model\\ntimer = Timer()\\ntimer.start()\\ntimesteps = configs['dataset']['sequence_length']\\n\\nmodel_lstm = Sequential()\\n\\nmodel_lstm.add(SimpleRNN(150, input_shape=(timesteps, dim), return_sequences=True))\\nmodel_lstm.add(Dropout(0.1))\\nmodel_lstm.add(SimpleRNN(125, input_shape=(timesteps, dim), return_sequences=True))\\nmodel_lstm.add(LSTM(100, input_shape=(timesteps, dim), return_sequences=True))\\nmodel_lstm.add(Dropout(0.3))\\nmodel_lstm.add(LSTM(100, input_shape=(timesteps, dim), return_sequences=True))\\nmodel_lstm.add(Dropout(0.3))\\nmodel_lstm.add(GRU(100, input_shape=(timesteps, dim), return_sequences=True))\\nmodel_lstm.add(Dropout(0.3))\\nmodel_lstm.add(SimpleRNN(100, input_shape=(timesteps, dim), return_sequences=True))\\nmodel_lstm.add(Dropout(0.3))\\nmodel_lstm.add(GRU(100, input_shape=(timesteps, dim), return_sequences=True))\\nmodel_lstm.add(Dropout(0.3))\\nmodel_lstm.add(LSTM(100, input_shape=(timesteps, dim), return_sequences=True))\\nmodel_lstm.add(Dropout(0.3))\\nmodel_lstm.add(GRU(100, input_shape=(timesteps, dim), return_sequences=True))\\nmodel_lstm.add(SimpleRNN(90, input_shape=(timesteps, dim), return_sequences=True))\\nmodel_lstm.add(Dropout(0.3))\\nmodel_lstm.add(GRU(80, input_shape=(timesteps, dim), return_sequences=True))\\nmodel_lstm.add(GRU(70, input_shape=(timesteps, dim), return_sequences=True))\\nmodel_lstm.add(Dropout(0.3))\\nmodel_lstm.add(LSTM(75, input_shape=(timesteps, dim), return_sequences=True))\\nmodel_lstm.add(GRU(75, input_shape=(timesteps, dim), return_sequences=True))\\nmodel_lstm.add(Dropout(0.2))\\nmodel_lstm.add(LSTM(50, input_shape=(timesteps, dim), return_sequences=False))\\nmodel_lstm.add(Dropout(0.2))\\nmodel_lstm.add(Dense(3, activation='softmax'))\\n\\nmodel_lstm.compile(loss='categorical_crossentropy', optimizer='adam', metrics=['accuracy'])\\n\\nprint('[model] Model Compiled')\\n#print(model_lstm.summary())\\ntimer.stop()\\n\""
      ]
     },
     "execution_count": 69,
     "metadata": {},
     "output_type": "execute_result"
    }
   ],
   "source": [
    "'''# define and fit the final model\n",
    "timer = Timer()\n",
    "timer.start()\n",
    "timesteps = configs['dataset']['sequence_length']\n",
    "\n",
    "model_lstm = Sequential()\n",
    "\n",
    "model_lstm.add(SimpleRNN(150, input_shape=(timesteps, dim), return_sequences=True))\n",
    "model_lstm.add(Dropout(0.1))\n",
    "model_lstm.add(SimpleRNN(125, input_shape=(timesteps, dim), return_sequences=True))\n",
    "model_lstm.add(LSTM(100, input_shape=(timesteps, dim), return_sequences=True))\n",
    "model_lstm.add(Dropout(0.3))\n",
    "model_lstm.add(LSTM(100, input_shape=(timesteps, dim), return_sequences=True))\n",
    "model_lstm.add(Dropout(0.3))\n",
    "model_lstm.add(GRU(100, input_shape=(timesteps, dim), return_sequences=True))\n",
    "model_lstm.add(Dropout(0.3))\n",
    "model_lstm.add(SimpleRNN(100, input_shape=(timesteps, dim), return_sequences=True))\n",
    "model_lstm.add(Dropout(0.3))\n",
    "model_lstm.add(GRU(100, input_shape=(timesteps, dim), return_sequences=True))\n",
    "model_lstm.add(Dropout(0.3))\n",
    "model_lstm.add(LSTM(100, input_shape=(timesteps, dim), return_sequences=True))\n",
    "model_lstm.add(Dropout(0.3))\n",
    "model_lstm.add(GRU(100, input_shape=(timesteps, dim), return_sequences=True))\n",
    "model_lstm.add(SimpleRNN(90, input_shape=(timesteps, dim), return_sequences=True))\n",
    "model_lstm.add(Dropout(0.3))\n",
    "model_lstm.add(GRU(80, input_shape=(timesteps, dim), return_sequences=True))\n",
    "model_lstm.add(GRU(70, input_shape=(timesteps, dim), return_sequences=True))\n",
    "model_lstm.add(Dropout(0.3))\n",
    "model_lstm.add(LSTM(75, input_shape=(timesteps, dim), return_sequences=True))\n",
    "model_lstm.add(GRU(75, input_shape=(timesteps, dim), return_sequences=True))\n",
    "model_lstm.add(Dropout(0.2))\n",
    "model_lstm.add(LSTM(50, input_shape=(timesteps, dim), return_sequences=False))\n",
    "model_lstm.add(Dropout(0.2))\n",
    "model_lstm.add(Dense(3, activation='softmax'))\n",
    "\n",
    "model_lstm.compile(loss='categorical_crossentropy', optimizer='adam', metrics=['accuracy'])\n",
    "\n",
    "print('[model] Model Compiled')\n",
    "#print(model_lstm.summary())\n",
    "timer.stop()\n",
    "'''"
   ]
  },
  {
   "cell_type": "code",
   "execution_count": 70,
   "metadata": {
    "scrolled": true
   },
   "outputs": [
    {
     "name": "stdout",
     "output_type": "stream",
     "text": [
      "[Model] Training Started\n",
      "Train on 2246 samples, validate on 759 samples\n",
      "Epoch 1/15\n",
      "2246/2246 [==============================] - 8s 3ms/step - loss: 1.0977 - accuracy: 0.3651 - val_loss: 1.1068 - val_accuracy: 0.3478\n",
      "Epoch 2/15\n",
      "2246/2246 [==============================] - 5s 2ms/step - loss: 1.0639 - accuracy: 0.4301 - val_loss: 1.1330 - val_accuracy: 0.3781\n",
      "Epoch 3/15\n",
      "2246/2246 [==============================] - 5s 2ms/step - loss: 1.0231 - accuracy: 0.4924 - val_loss: 1.1314 - val_accuracy: 0.3992\n",
      "Epoch 4/15\n",
      "2246/2246 [==============================] - 5s 2ms/step - loss: 0.9881 - accuracy: 0.5280 - val_loss: 1.2261 - val_accuracy: 0.3426\n",
      "Epoch 5/15\n",
      "2246/2246 [==============================] - 5s 2ms/step - loss: 0.9308 - accuracy: 0.5681 - val_loss: 1.2998 - val_accuracy: 0.4084\n",
      "Epoch 6/15\n",
      "2246/2246 [==============================] - 5s 2ms/step - loss: 0.8660 - accuracy: 0.6167 - val_loss: 1.2090 - val_accuracy: 0.3729\n",
      "Epoch 7/15\n",
      "2246/2246 [==============================] - 5s 2ms/step - loss: 0.8514 - accuracy: 0.6318 - val_loss: 1.2601 - val_accuracy: 0.3966\n",
      "Epoch 8/15\n",
      "2246/2246 [==============================] - 6s 3ms/step - loss: 0.7896 - accuracy: 0.6460 - val_loss: 1.4791 - val_accuracy: 0.3992\n",
      "Epoch 9/15\n",
      "2246/2246 [==============================] - 6s 2ms/step - loss: 0.7236 - accuracy: 0.7048 - val_loss: 1.4484 - val_accuracy: 0.3465\n",
      "Epoch 10/15\n",
      "2246/2246 [==============================] - 6s 2ms/step - loss: 0.6720 - accuracy: 0.7257 - val_loss: 1.7161 - val_accuracy: 0.3794\n",
      "Epoch 11/15\n",
      "2246/2246 [==============================] - 6s 2ms/step - loss: 0.6543 - accuracy: 0.7293 - val_loss: 1.5217 - val_accuracy: 0.3913\n",
      "Epoch 12/15\n",
      "2246/2246 [==============================] - 5s 2ms/step - loss: 0.5994 - accuracy: 0.7462 - val_loss: 1.6299 - val_accuracy: 0.3755\n",
      "Epoch 13/15\n",
      "2246/2246 [==============================] - 5s 2ms/step - loss: 0.5776 - accuracy: 0.7622 - val_loss: 1.6202 - val_accuracy: 0.3979\n",
      "Epoch 14/15\n",
      "2246/2246 [==============================] - 5s 2ms/step - loss: 0.5472 - accuracy: 0.7747 - val_loss: 1.7875 - val_accuracy: 0.3426\n",
      "Epoch 15/15\n",
      "2246/2246 [==============================] - 5s 2ms/step - loss: 0.5136 - accuracy: 0.7947 - val_loss: 1.7996 - val_accuracy: 0.3755\n",
      "[Model] Training Completed.\n",
      "Model saved as saved_models\\prototipo_ciclo1_multiclass_jupyter_LSTM_activTanh.h5\n",
      "Time taken: 0:01:30.254116\n"
     ]
    }
   ],
   "source": [
    "timer = Timer()\n",
    "timer.start()\n",
    "print('[Model] Training Started')\n",
    "\n",
    "save_dir=configs['model']['save_dir']\n",
    "my_model=configs['model']['model_name']\n",
    "save_fname = os.path.join(save_dir, '%s_LSTM_activTanh.h5' % my_model)\n",
    "\n",
    "batch_size=configs['training']['batch_size']\n",
    "\n",
    "callbacks = [ ModelCheckpoint(filepath=save_fname, monitor='loss', save_best_only=True)]\n",
    "\n",
    "y_train_sw_enc = encode_categ_data(y_train_sw)\n",
    "y_valid_sw_enc = encode_categ_data(y_valid_sw)\n",
    "H = model_lstm.fit( x_train_sw, y_train_sw_enc, validation_data=(x_valid_sw, y_valid_sw_enc), epochs=15, \n",
    "                    batch_size=batch_size, callbacks=callbacks, workers=1 )\n",
    "\n",
    "model_lstm.save(save_fname)\n",
    "\n",
    "print('[Model] Training Completed.')\n",
    "print('Model saved as %s' % save_fname)\n",
    "\n",
    "timer.stop()"
   ]
  },
  {
   "cell_type": "code",
   "execution_count": 71,
   "metadata": {},
   "outputs": [
    {
     "data": {
      "text/plain": [
       "array([[0.14611663, 0.8094941 , 0.04438938],\n",
       "       [0.10343891, 0.8672914 , 0.0292697 ],\n",
       "       [0.05797909, 0.91273075, 0.02929018],\n",
       "       ...,\n",
       "       [0.06392668, 0.5336174 , 0.40245596],\n",
       "       [0.00210066, 0.02971346, 0.96818584],\n",
       "       [0.02350644, 0.10237255, 0.874121  ]], dtype=float32)"
      ]
     },
     "execution_count": 71,
     "metadata": {},
     "output_type": "execute_result"
    }
   ],
   "source": [
    "# new instances where we do not know the answer\n",
    "y_pred = model_lstm.predict(x_test_sw) \n",
    "y_pred"
   ]
  },
  {
   "cell_type": "code",
   "execution_count": 72,
   "metadata": {},
   "outputs": [
    {
     "name": "stdout",
     "output_type": "stream",
     "text": [
      "dict_keys(['val_loss', 'val_accuracy', 'loss', 'accuracy'])\n"
     ]
    },
    {
     "data": {
      "image/png": "[encoded data removed]",
      "text/plain": [
       "<Figure size 432x288 with 1 Axes>"
      ]
     },
     "metadata": {
      "needs_background": "light"
     },
     "output_type": "display_data"
    },
    {
     "data": {
      "image/png": "[encoded data removed]",
      "text/plain": [
       "<Figure size 432x288 with 1 Axes>"
      ]
     },
     "metadata": {
      "needs_background": "light"
     },
     "output_type": "display_data"
    }
   ],
   "source": [
    "# list all data in history       \n",
    "print(H.history.keys())\n",
    "# summarize history for accuracy\n",
    "plt.plot(H.history['accuracy'])\n",
    "plt.plot(H.history['val_accuracy'])\n",
    "plt.title('model accuracy')\n",
    "plt.ylabel('accuracy')\n",
    "plt.xlabel('epoch')\n",
    "plt.legend(['accuracy', 'val_accuracy'], loc='upper left')\n",
    "fig_path = 'accuracy_history.png'\n",
    "plt.savefig(fig_path)     \n",
    "plt.show()\n",
    "\n",
    "# summarize history for loss\n",
    "plt.plot(H.history['loss'])\n",
    "plt.plot(H.history['val_loss'])\n",
    "plt.title('model loss')\n",
    "plt.ylabel('loss')\n",
    "plt.xlabel('epoch')\n",
    "plt.legend(['loss', 'val_loss'], loc='upper left')\n",
    "fig_path = 'loss_history.png'\n",
    "plt.savefig(fig_path) \n",
    "plt.show()"
   ]
  },
  {
   "cell_type": "code",
   "execution_count": 73,
   "metadata": {},
   "outputs": [],
   "source": [
    "# BUY | SELL | HOLD\n",
    "\n",
    "labels = ['BUY', 'HOLD', 'SELL'] \n",
    "\n",
    "pred = []\n",
    "for i in y_pred:\n",
    "    pred.append(np.argmax(i))\n",
    "pred_array = np.array(pred)       \n",
    "\n",
    "real = []\n",
    "y_test_sw_enc = encode_categ_data(y_test_sw)\n",
    "for i in y_test_sw_enc:\n",
    "    real.append(np.argmax(i))\n",
    "real_array = np.array(real)   "
   ]
  },
  {
   "cell_type": "code",
   "execution_count": 74,
   "metadata": {},
   "outputs": [
    {
     "name": "stdout",
     "output_type": "stream",
     "text": [
      "[[0.14611663 0.8094941  0.04438938]\n",
      " [0.10343891 0.8672914  0.0292697 ]\n",
      " [0.05797909 0.91273075 0.02929018]\n",
      " [0.03588668 0.92570764 0.0384057 ]\n",
      " [0.71649396 0.19637717 0.08712882]\n",
      " [0.15599626 0.33846152 0.5055422 ]\n",
      " [0.05839557 0.20416094 0.7374435 ]\n",
      " [0.1074103  0.28833055 0.60425913]\n",
      " [0.11381851 0.22162212 0.66455936]\n",
      " [0.18893935 0.17957893 0.6314817 ]]\n",
      "[1 1 1 1 0 2 2 2 2 2]\n"
     ]
    }
   ],
   "source": [
    "print(y_pred[0:10])\n",
    "print(pred_array[0:10])"
   ]
  },
  {
   "cell_type": "code",
   "execution_count": 75,
   "metadata": {
    "scrolled": true
   },
   "outputs": [
    {
     "name": "stdout",
     "output_type": "stream",
     "text": [
      "[[0. 0. 1.]\n",
      " [0. 0. 1.]\n",
      " [0. 0. 1.]\n",
      " [0. 1. 0.]\n",
      " [0. 0. 1.]\n",
      " [0. 0. 1.]\n",
      " [0. 1. 0.]\n",
      " [0. 1. 0.]\n",
      " [0. 0. 1.]\n",
      " [0. 0. 1.]]\n",
      "[2 2 2 1 2 2 1 1 2 2]\n"
     ]
    }
   ],
   "source": [
    "print(y_test_sw_enc[100:110])\n",
    "print(real_array[100:110])"
   ]
  },
  {
   "cell_type": "code",
   "execution_count": 76,
   "metadata": {},
   "outputs": [
    {
     "name": "stdout",
     "output_type": "stream",
     "text": [
      "Accuracy Score - LSTM:  0.30900243309002434\n"
     ]
    }
   ],
   "source": [
    "accuracy_score_LSTM = accuracy_score(real_array, pred_array)\n",
    "print('Accuracy Score - LSTM: ', accuracy_score_LSTM)"
   ]
  },
  {
   "cell_type": "code",
   "execution_count": 77,
   "metadata": {},
   "outputs": [
    {
     "name": "stdout",
     "output_type": "stream",
     "text": [
      "              precision    recall  f1-score   support\n",
      "\n",
      "           0       0.27      0.17      0.21       125\n",
      "           1       0.33      0.51      0.40       140\n",
      "           2       0.30      0.23      0.26       146\n",
      "\n",
      "    accuracy                           0.31       411\n",
      "   macro avg       0.30      0.31      0.29       411\n",
      "weighted avg       0.30      0.31      0.29       411\n",
      "\n"
     ]
    }
   ],
   "source": [
    "print(classification_report(real_array, pred_array))"
   ]
  },
  {
   "cell_type": "code",
   "execution_count": 78,
   "metadata": {},
   "outputs": [
    {
     "data": {
      "text/plain": [
       "array([[21, 63, 41],\n",
       "       [29, 72, 39],\n",
       "       [28, 84, 34]], dtype=int64)"
      ]
     },
     "execution_count": 78,
     "metadata": {},
     "output_type": "execute_result"
    }
   ],
   "source": [
    "from sklearn.metrics import confusion_matrix\n",
    "confusion_matrix = confusion_matrix(real_array, pred_array)\n",
    "confusion_matrix"
   ]
  },
  {
   "cell_type": "code",
   "execution_count": 79,
   "metadata": {},
   "outputs": [
    {
     "name": "stdout",
     "output_type": "stream",
     "text": [
      "Contagem de Classes -> LSTM_real_array\n",
      "\n",
      "LSTM_real_array.size:  411  | cont_buy:  125  | cont_hold:  140  | cont_sell:  146\n"
     ]
    }
   ],
   "source": [
    "print('Contagem de Classes -> LSTM_real_array\\n')\n",
    "contagem_classes(real_array, 'LSTM_real_array')"
   ]
  },
  {
   "cell_type": "code",
   "execution_count": 80,
   "metadata": {},
   "outputs": [
    {
     "name": "stdout",
     "output_type": "stream",
     "text": [
      "Contagem de Classes -> LSTM_pred_array\n",
      "\n",
      "LSTM_pred_array.size:  411  | cont_buy:  78  | cont_hold:  219  | cont_sell:  114\n"
     ]
    }
   ],
   "source": [
    "print('Contagem de Classes -> LSTM_pred_array\\n')\n",
    "contagem_classes(pred_array, 'LSTM_pred_array')"
   ]
  },
  {
   "cell_type": "code",
   "execution_count": 81,
   "metadata": {},
   "outputs": [
    {
     "data": {
      "text/plain": [
       "0.4362652107527877"
      ]
     },
     "execution_count": 81,
     "metadata": {},
     "output_type": "execute_result"
    }
   ],
   "source": [
    "weightedFScore_LSTM = weightedFScore(confusion_matrix)[0] \n",
    "weightedFScore_LSTM"
   ]
  },
  {
   "cell_type": "code",
   "execution_count": 82,
   "metadata": {},
   "outputs": [
    {
     "data": {
      "text/plain": [
       "<AxesSubplot:>"
      ]
     },
     "execution_count": 82,
     "metadata": {},
     "output_type": "execute_result"
    },
    {
     "data": {
      "image/png": "[encoded data removed]",
      "text/plain": [
       "<Figure size 432x288 with 2 Axes>"
      ]
     },
     "metadata": {
      "needs_background": "light"
     },
     "output_type": "display_data"
    }
   ],
   "source": [
    "# visualize confusion matrix with seaborn heatmap\n",
    "cm_matrix_LSTM = pd.DataFrame(data=confusion_matrix,\n",
    "                        columns=['BUY_P', 'HOLD_P', 'SELL_P'], \n",
    "                        index=['BUY_R', 'HOLD_R', 'SELL_R'])\n",
    "\n",
    "sns.heatmap(cm_matrix_LSTM, annot=True, fmt='d', cmap='YlGnBu')"
   ]
  },
  {
   "cell_type": "code",
   "execution_count": 83,
   "metadata": {},
   "outputs": [
    {
     "name": "stdout",
     "output_type": "stream",
     "text": [
      "Training-set accuracy score LSTM: 0.8072\n"
     ]
    }
   ],
   "source": [
    "y_pred_train_sw = model_lstm.predict(x_train_sw)\n",
    "\n",
    "labels = ['BUY', 'HOLD', 'SELL'] \n",
    "\n",
    "pred = []\n",
    "for i in y_pred_train_sw:\n",
    "    pred.append(np.argmax(i))\n",
    "pred_array = np.array(pred)       \n",
    "\n",
    "real = []\n",
    "y_train_sw_enc = encode_categ_data(y_train_sw)\n",
    "for i in y_train_sw_enc:\n",
    "    real.append(np.argmax(i))\n",
    "real_array = np.array(real)    \n",
    "\n",
    "print('Training-set accuracy score LSTM: {0:0.4f}'. format(accuracy_score(real_array, pred_array)))"
   ]
  },
  {
   "cell_type": "code",
   "execution_count": null,
   "metadata": {},
   "outputs": [],
   "source": []
  },
  {
   "cell_type": "markdown",
   "metadata": {},
   "source": [
    "# Resumo"
   ]
  },
  {
   "cell_type": "code",
   "execution_count": 84,
   "metadata": {},
   "outputs": [
    {
     "name": "stdout",
     "output_type": "stream",
     "text": [
      "-------------Resumo-------------\n",
      "\n",
      "Accuracy Score - LGBM:  0.315035799522673\n",
      "Weighted F Score - LGBM:  0.4738345588578506\n",
      "\n",
      "Accuracy Score - Random Forest:  0.34844868735083534\n",
      "Weighted F Score - Random Forest:  0.5048110306517211\n",
      "\n",
      "Accuracy Score - DNN:  0.360381861575179\n",
      "Weighted F Score - DNN:  0.5564275872022102\n",
      "\n",
      "Accuracy Score - LSTM:  0.30900243309002434\n",
      "Weighted F Score - LSTM:  0.4362652107527877\n"
     ]
    }
   ],
   "source": [
    "print('-------------Resumo-------------')\n",
    "\n",
    "print('\\nAccuracy Score - LGBM: ', accuracy_score_LGBM)\n",
    "print('Weighted F Score - LGBM: ', weightedFScore_LGBM)\n",
    "\n",
    "print('\\nAccuracy Score - Random Forest: ', accuracy_score_RF)\n",
    "print('Weighted F Score - Random Forest: ', weightedFScore_RF)\n",
    "\n",
    "print('\\nAccuracy Score - DNN: ', accuracy_score_DNN)\n",
    "print('Weighted F Score - DNN: ', weightedFScore_DNN)\n",
    "\n",
    "print('\\nAccuracy Score - LSTM: ', accuracy_score_LSTM)\n",
    "print('Weighted F Score - LSTM: ', weightedFScore_LSTM)"
   ]
  },
  {
   "cell_type": "code",
   "execution_count": 85,
   "metadata": {},
   "outputs": [
    {
     "data": {
      "image/png": "[encoded data removed]",
      "text/plain": [
       "<Figure size 720x504 with 8 Axes>"
      ]
     },
     "metadata": {
      "needs_background": "light"
     },
     "output_type": "display_data"
    }
   ],
   "source": [
    "plt.figure(figsize=[10,7])\n",
    "plt.subplot(2,2,1)\n",
    "plt.title('LGBM Heatmap')\n",
    "sns.heatmap(cm_matrix_LGBM, annot=True, fmt='d', cmap='YlGnBu')\n",
    "\n",
    "plt.subplot(2,2,2)\n",
    "plt.title('Random Forest Heatmap')\n",
    "sns.heatmap(cm_matrix_RF, annot=True, fmt='d', cmap='YlGnBu')\n",
    "\n",
    "plt.subplot(2,2,3)\n",
    "plt.title('DNN Heatmap')\n",
    "sns.heatmap(cm_matrix_DNN, annot=True, fmt='d', cmap='YlGnBu')\n",
    "\n",
    "plt.subplot(2,2,4)\n",
    "plt.title('LSTM Heatmap')\n",
    "sns.heatmap(cm_matrix_LSTM, annot=True, fmt='d', cmap='YlGnBu')\n",
    "\n",
    "plt.tight_layout()"
   ]
  },
  {
   "cell_type": "code",
   "execution_count": 86,
   "metadata": {},
   "outputs": [],
   "source": [
    "# save trained model\n",
    "#pickle.dump( model_lgbm, open( 'saved_models/model_LGBM_135features_5000.pkl', 'wb' ) )"
   ]
  },
  {
   "cell_type": "code",
   "execution_count": 87,
   "metadata": {},
   "outputs": [],
   "source": [
    "#pickle.dump( model_dnn, open( 'saved_models/model_DNN_135features_50.pkl', 'wb' ) )"
   ]
  },
  {
   "cell_type": "code",
   "execution_count": 88,
   "metadata": {},
   "outputs": [],
   "source": [
    "#pickle.dump( model_randomF, open( 'saved_models/model_RF_135features_5000.pkl', 'wb' ) )"
   ]
  },
  {
   "cell_type": "code",
   "execution_count": null,
   "metadata": {},
   "outputs": [],
   "source": []
  },
  {
   "cell_type": "code",
   "execution_count": null,
   "metadata": {},
   "outputs": [],
   "source": []
  },
  {
   "cell_type": "code",
   "execution_count": null,
   "metadata": {},
   "outputs": [],
   "source": []
  },
  {
   "cell_type": "code",
   "execution_count": null,
   "metadata": {},
   "outputs": [],
   "source": []
  },
  {
   "cell_type": "code",
   "execution_count": null,
   "metadata": {},
   "outputs": [],
   "source": []
  }
 ],
 "metadata": {
  "kernelspec": {
   "display_name": "Python 3",
   "language": "python",
   "name": "python3"
  },
  "language_info": {
   "codemirror_mode": {
    "name": "ipython",
    "version": 3
   },
   "file_extension": ".py",
   "mimetype": "text/x-python",
   "name": "python",
   "nbconvert_exporter": "python",
   "pygments_lexer": "ipython3",
   "version": "3.6.12"
  }
 },
 "nbformat": 4,
 "nbformat_minor": 4
}
